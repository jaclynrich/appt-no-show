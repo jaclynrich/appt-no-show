{
 "cells": [
  {
   "cell_type": "markdown",
   "metadata": {},
   "source": [
    "# Predicting Doctor Appointment No-Shows\n",
    "***\n",
    "\n",
    "## Table of Contents\n",
    "* [Introduction](#introduction)\n",
    "* [Data Wrangling](#data_wrangling)\n",
    "    * [General Properties](#general_properties)\n",
    "    * [Data Cleaning](#data_cleaning)\n",
    "        * [Checking for Duplicates](#cleaning_duplicates)\n",
    "        * [Appointment ID](#cleaning_appointment_id)\n",
    "        * [Scheduled Day](#cleaning_scheduled_day)\n",
    "        * [Appointment Day](#cleaning_appointment_day)\n",
    "        * [Gender](#cleaning_gender)\n",
    "        * [Age](#cleaning_age)\n",
    "        * [Bolsa Familia](#cleaning_bolsa_familia)\n",
    "        * [Hypertension](#cleaning_hypertension)\n",
    "        * [Diabetes](#cleaning_diabetes)\n",
    "        * [Number of Handicaps](#cleaning_number_handicaps)\n",
    "        * [SMS Received](#cleaning_sms_received)\n",
    "        * [No Show](#cleaning_no_show)\n",
    "        * [Neighborhood](#cleaning_neighborhood)\n",
    "        * [Patient ID](#cleaning_patient_id)\n",
    "            * [Patient ID Consistency](#cleaning_patient_id_consistency)\n",
    "* [Feature Engineering and Additional Data](#feat_engineering)\n",
    "* [Exploratory Data Analysis](#eda)"
   ]
  },
  {
   "cell_type": "markdown",
   "metadata": {},
   "source": [
    "<a id='introduction'></a>"
   ]
  },
  {
   "cell_type": "markdown",
   "metadata": {},
   "source": [
    "## Introduction\n",
    "***"
   ]
  },
  {
   "cell_type": "markdown",
   "metadata": {
    "collapsed": true
   },
   "source": [
    "In this project, my aim is to determine what patient characteristics are connected with not showing up to a doctor's appointment by analyzing a data set of over 100K medical appointments in Vitória, Espírito Santo, Brazil provided by JoniHoppen on [Kaggle](https://www.kaggle.com/joniarroba/noshowappointments)."
   ]
  },
  {
   "cell_type": "markdown",
   "metadata": {},
   "source": [
    "<a id='data_wrangling'></a>"
   ]
  },
  {
   "cell_type": "markdown",
   "metadata": {},
   "source": [
    "## Data Wrangling\n",
    "***"
   ]
  },
  {
   "cell_type": "code",
   "execution_count": 1,
   "metadata": {},
   "outputs": [],
   "source": [
    "import pandas as pd\n",
    "import numpy as np\n",
    "import geocoder\n",
    "import matplotlib.pyplot as plt\n",
    "import config\n",
    "API_KEY = config.api_key"
   ]
  },
  {
   "cell_type": "markdown",
   "metadata": {},
   "source": [
    "<a id='general_properties'></a>"
   ]
  },
  {
   "cell_type": "markdown",
   "metadata": {},
   "source": [
    "### General Properties"
   ]
  },
  {
   "cell_type": "code",
   "execution_count": 2,
   "metadata": {},
   "outputs": [
    {
     "data": {
      "text/html": [
       "<div>\n",
       "<style scoped>\n",
       "    .dataframe tbody tr th:only-of-type {\n",
       "        vertical-align: middle;\n",
       "    }\n",
       "\n",
       "    .dataframe tbody tr th {\n",
       "        vertical-align: top;\n",
       "    }\n",
       "\n",
       "    .dataframe thead th {\n",
       "        text-align: right;\n",
       "    }\n",
       "</style>\n",
       "<table border=\"1\" class=\"dataframe\">\n",
       "  <thead>\n",
       "    <tr style=\"text-align: right;\">\n",
       "      <th></th>\n",
       "      <th>PatientId</th>\n",
       "      <th>AppointmentID</th>\n",
       "      <th>Gender</th>\n",
       "      <th>ScheduledDay</th>\n",
       "      <th>AppointmentDay</th>\n",
       "      <th>Age</th>\n",
       "      <th>Neighbourhood</th>\n",
       "      <th>Scholarship</th>\n",
       "      <th>Hipertension</th>\n",
       "      <th>Diabetes</th>\n",
       "      <th>Alcoholism</th>\n",
       "      <th>Handcap</th>\n",
       "      <th>SMS_received</th>\n",
       "      <th>No-show</th>\n",
       "    </tr>\n",
       "  </thead>\n",
       "  <tbody>\n",
       "    <tr>\n",
       "      <th>0</th>\n",
       "      <td>2.987250e+13</td>\n",
       "      <td>5642903</td>\n",
       "      <td>F</td>\n",
       "      <td>2016-04-29T18:38:08Z</td>\n",
       "      <td>2016-04-29T00:00:00Z</td>\n",
       "      <td>62</td>\n",
       "      <td>JARDIM DA PENHA</td>\n",
       "      <td>0</td>\n",
       "      <td>1</td>\n",
       "      <td>0</td>\n",
       "      <td>0</td>\n",
       "      <td>0</td>\n",
       "      <td>0</td>\n",
       "      <td>No</td>\n",
       "    </tr>\n",
       "    <tr>\n",
       "      <th>1</th>\n",
       "      <td>5.589978e+14</td>\n",
       "      <td>5642503</td>\n",
       "      <td>M</td>\n",
       "      <td>2016-04-29T16:08:27Z</td>\n",
       "      <td>2016-04-29T00:00:00Z</td>\n",
       "      <td>56</td>\n",
       "      <td>JARDIM DA PENHA</td>\n",
       "      <td>0</td>\n",
       "      <td>0</td>\n",
       "      <td>0</td>\n",
       "      <td>0</td>\n",
       "      <td>0</td>\n",
       "      <td>0</td>\n",
       "      <td>No</td>\n",
       "    </tr>\n",
       "    <tr>\n",
       "      <th>2</th>\n",
       "      <td>4.262962e+12</td>\n",
       "      <td>5642549</td>\n",
       "      <td>F</td>\n",
       "      <td>2016-04-29T16:19:04Z</td>\n",
       "      <td>2016-04-29T00:00:00Z</td>\n",
       "      <td>62</td>\n",
       "      <td>MATA DA PRAIA</td>\n",
       "      <td>0</td>\n",
       "      <td>0</td>\n",
       "      <td>0</td>\n",
       "      <td>0</td>\n",
       "      <td>0</td>\n",
       "      <td>0</td>\n",
       "      <td>No</td>\n",
       "    </tr>\n",
       "    <tr>\n",
       "      <th>3</th>\n",
       "      <td>8.679512e+11</td>\n",
       "      <td>5642828</td>\n",
       "      <td>F</td>\n",
       "      <td>2016-04-29T17:29:31Z</td>\n",
       "      <td>2016-04-29T00:00:00Z</td>\n",
       "      <td>8</td>\n",
       "      <td>PONTAL DE CAMBURI</td>\n",
       "      <td>0</td>\n",
       "      <td>0</td>\n",
       "      <td>0</td>\n",
       "      <td>0</td>\n",
       "      <td>0</td>\n",
       "      <td>0</td>\n",
       "      <td>No</td>\n",
       "    </tr>\n",
       "    <tr>\n",
       "      <th>4</th>\n",
       "      <td>8.841186e+12</td>\n",
       "      <td>5642494</td>\n",
       "      <td>F</td>\n",
       "      <td>2016-04-29T16:07:23Z</td>\n",
       "      <td>2016-04-29T00:00:00Z</td>\n",
       "      <td>56</td>\n",
       "      <td>JARDIM DA PENHA</td>\n",
       "      <td>0</td>\n",
       "      <td>1</td>\n",
       "      <td>1</td>\n",
       "      <td>0</td>\n",
       "      <td>0</td>\n",
       "      <td>0</td>\n",
       "      <td>No</td>\n",
       "    </tr>\n",
       "  </tbody>\n",
       "</table>\n",
       "</div>"
      ],
      "text/plain": [
       "      PatientId  AppointmentID Gender          ScheduledDay  \\\n",
       "0  2.987250e+13        5642903      F  2016-04-29T18:38:08Z   \n",
       "1  5.589978e+14        5642503      M  2016-04-29T16:08:27Z   \n",
       "2  4.262962e+12        5642549      F  2016-04-29T16:19:04Z   \n",
       "3  8.679512e+11        5642828      F  2016-04-29T17:29:31Z   \n",
       "4  8.841186e+12        5642494      F  2016-04-29T16:07:23Z   \n",
       "\n",
       "         AppointmentDay  Age      Neighbourhood  Scholarship  Hipertension  \\\n",
       "0  2016-04-29T00:00:00Z   62    JARDIM DA PENHA            0             1   \n",
       "1  2016-04-29T00:00:00Z   56    JARDIM DA PENHA            0             0   \n",
       "2  2016-04-29T00:00:00Z   62      MATA DA PRAIA            0             0   \n",
       "3  2016-04-29T00:00:00Z    8  PONTAL DE CAMBURI            0             0   \n",
       "4  2016-04-29T00:00:00Z   56    JARDIM DA PENHA            0             1   \n",
       "\n",
       "   Diabetes  Alcoholism  Handcap  SMS_received No-show  \n",
       "0         0           0        0             0      No  \n",
       "1         0           0        0             0      No  \n",
       "2         0           0        0             0      No  \n",
       "3         0           0        0             0      No  \n",
       "4         1           0        0             0      No  "
      ]
     },
     "execution_count": 2,
     "metadata": {},
     "output_type": "execute_result"
    }
   ],
   "source": [
    "df = pd.read_csv('KaggleV2-May-2016.csv')\n",
    "df.head()"
   ]
  },
  {
   "cell_type": "code",
   "execution_count": 3,
   "metadata": {},
   "outputs": [
    {
     "data": {
      "text/plain": [
       "110527"
      ]
     },
     "execution_count": 3,
     "metadata": {},
     "output_type": "execute_result"
    }
   ],
   "source": [
    "# Number of records\n",
    "n = len(df)\n",
    "n"
   ]
  },
  {
   "cell_type": "code",
   "execution_count": 4,
   "metadata": {},
   "outputs": [],
   "source": [
    "# Rename fields to have more consistent formatting and to English where appropriate\n",
    "df.columns = ['PatientID', 'AppointmentID', 'Gender', 'ScheduledDay',\n",
    "              'AppointmentDay', 'Age', 'Neighborhood', 'BolsaFamilia', \\\n",
    "              'Hypertension', 'Diabetes', 'Alcoholism', 'NumHandicaps', \\\n",
    "              'SMSReceived', 'NoShow']"
   ]
  },
  {
   "cell_type": "code",
   "execution_count": 5,
   "metadata": {},
   "outputs": [
    {
     "data": {
      "text/plain": [
       "PatientID         0\n",
       "AppointmentID     0\n",
       "Gender            0\n",
       "ScheduledDay      0\n",
       "AppointmentDay    0\n",
       "Age               0\n",
       "Neighborhood      0\n",
       "BolsaFamilia      0\n",
       "Hypertension      0\n",
       "Diabetes          0\n",
       "Alcoholism        0\n",
       "NumHandicaps      0\n",
       "SMSReceived       0\n",
       "NoShow            0\n",
       "dtype: int64"
      ]
     },
     "execution_count": 5,
     "metadata": {},
     "output_type": "execute_result"
    }
   ],
   "source": [
    "# Number of nulls\n",
    "df.isnull().sum()"
   ]
  },
  {
   "cell_type": "markdown",
   "metadata": {},
   "source": [
    "> There are no null records in any of the fields"
   ]
  },
  {
   "cell_type": "code",
   "execution_count": 6,
   "metadata": {},
   "outputs": [
    {
     "data": {
      "text/plain": [
       "PatientID         float64\n",
       "AppointmentID       int64\n",
       "Gender             object\n",
       "ScheduledDay       object\n",
       "AppointmentDay     object\n",
       "Age                 int64\n",
       "Neighborhood       object\n",
       "BolsaFamilia        int64\n",
       "Hypertension        int64\n",
       "Diabetes            int64\n",
       "Alcoholism          int64\n",
       "NumHandicaps        int64\n",
       "SMSReceived         int64\n",
       "NoShow             object\n",
       "dtype: object"
      ]
     },
     "execution_count": 6,
     "metadata": {},
     "output_type": "execute_result"
    }
   ],
   "source": [
    "# Data types\n",
    "df.dtypes"
   ]
  },
  {
   "cell_type": "markdown",
   "metadata": {},
   "source": [
    "<a id='data_cleaning'></a>"
   ]
  },
  {
   "cell_type": "markdown",
   "metadata": {},
   "source": [
    "### Data Cleaning"
   ]
  },
  {
   "cell_type": "markdown",
   "metadata": {},
   "source": [
    "<a id='cleaning_duplicates'></a>"
   ]
  },
  {
   "cell_type": "markdown",
   "metadata": {},
   "source": [
    "#### Checking for Duplicates"
   ]
  },
  {
   "cell_type": "code",
   "execution_count": 7,
   "metadata": {},
   "outputs": [
    {
     "data": {
      "text/plain": [
       "False"
      ]
     },
     "execution_count": 7,
     "metadata": {},
     "output_type": "execute_result"
    }
   ],
   "source": [
    "df.duplicated(keep=False).any()"
   ]
  },
  {
   "cell_type": "code",
   "execution_count": 8,
   "metadata": {},
   "outputs": [
    {
     "data": {
      "text/plain": [
       "False"
      ]
     },
     "execution_count": 8,
     "metadata": {},
     "output_type": "execute_result"
    }
   ],
   "source": [
    "df.duplicated('AppointmentID', keep=False).any()"
   ]
  },
  {
   "cell_type": "markdown",
   "metadata": {},
   "source": [
    "> There are no duplicate entries and no duplicate AppointmentIDs."
   ]
  },
  {
   "cell_type": "markdown",
   "metadata": {},
   "source": [
    "<a id='cleaning_appointment_id'></a>"
   ]
  },
  {
   "cell_type": "markdown",
   "metadata": {},
   "source": [
    "#### Appointment ID"
   ]
  },
  {
   "cell_type": "code",
   "execution_count": 9,
   "metadata": {},
   "outputs": [
    {
     "name": "stdout",
     "output_type": "stream",
     "text": [
      "5030230 - 5790484\n"
     ]
    }
   ],
   "source": [
    "# All of the appointment IDs are 7 digits long, and are between these values\n",
    "min_apptID = df['AppointmentID'].min()\n",
    "max_apptID = df['AppointmentID'].max()\n",
    "print('{} - {}'.format(min_apptID, max_apptID))"
   ]
  },
  {
   "cell_type": "code",
   "execution_count": 10,
   "metadata": {},
   "outputs": [],
   "source": [
    "# AppointmentIDs are identifiers, so they are also converted to strings\n",
    "df['AppointmentID'] = df['AppointmentID'].astype(str)"
   ]
  },
  {
   "cell_type": "markdown",
   "metadata": {},
   "source": [
    "<a id='cleaning_scheduled_day'></a>"
   ]
  },
  {
   "cell_type": "markdown",
   "metadata": {},
   "source": [
    "#### Scheduled Day\n",
    "ScheduledDay represents the day that a patient created the appointment."
   ]
  },
  {
   "cell_type": "code",
   "execution_count": 11,
   "metadata": {},
   "outputs": [
    {
     "data": {
      "text/plain": [
       "dtype('<M8[ns]')"
      ]
     },
     "execution_count": 11,
     "metadata": {},
     "output_type": "execute_result"
    }
   ],
   "source": [
    "# Convert the scheduled day to a datetime\n",
    "df['ScheduledDay'] = pd.to_datetime(df['ScheduledDay'])\n",
    "\n",
    "# Verify that ScheduledDay is in a datetime format\n",
    "df['ScheduledDay'].dtype"
   ]
  },
  {
   "cell_type": "code",
   "execution_count": 12,
   "metadata": {},
   "outputs": [
    {
     "data": {
      "text/plain": [
       "True"
      ]
     },
     "execution_count": 12,
     "metadata": {},
     "output_type": "execute_result"
    }
   ],
   "source": [
    "# Check that the <M8[ns] is a datetime format\n",
    "np.dtype('datetime64[ns]') == np.dtype('<M8[ns]')"
   ]
  },
  {
   "cell_type": "code",
   "execution_count": 13,
   "metadata": {},
   "outputs": [
    {
     "data": {
      "text/plain": [
       "0"
      ]
     },
     "execution_count": 13,
     "metadata": {},
     "output_type": "execute_result"
    }
   ],
   "source": [
    "# Verify that all records were converted to valid datetimes\n",
    "np.isnat(df['ScheduledDay']).sum()"
   ]
  },
  {
   "cell_type": "code",
   "execution_count": 14,
   "metadata": {},
   "outputs": [
    {
     "data": {
      "text/plain": [
       "Timestamp('2015-11-10 07:13:56')"
      ]
     },
     "execution_count": 14,
     "metadata": {},
     "output_type": "execute_result"
    }
   ],
   "source": [
    "# The first date and time an appointment was scheduled \n",
    "np.min(df['ScheduledDay'])"
   ]
  },
  {
   "cell_type": "code",
   "execution_count": 15,
   "metadata": {},
   "outputs": [
    {
     "data": {
      "text/plain": [
       "Timestamp('2016-06-08 20:07:23')"
      ]
     },
     "execution_count": 15,
     "metadata": {},
     "output_type": "execute_result"
    }
   ],
   "source": [
    "# The last date and time an appointment was scheduled \n",
    "np.max(df['ScheduledDay'])"
   ]
  },
  {
   "cell_type": "code",
   "execution_count": 16,
   "metadata": {},
   "outputs": [
    {
     "data": {
      "text/plain": [
       "Timedelta('211 days 12:53:27')"
      ]
     },
     "execution_count": 16,
     "metadata": {},
     "output_type": "execute_result"
    }
   ],
   "source": [
    "np.max(df['ScheduledDay']) - np.min(df['ScheduledDay'])"
   ]
  },
  {
   "cell_type": "markdown",
   "metadata": {},
   "source": [
    "> All appointments are created within an about 7-month time frame."
   ]
  },
  {
   "cell_type": "markdown",
   "metadata": {},
   "source": [
    "<a id='cleaning_appointment_day'></a>"
   ]
  },
  {
   "cell_type": "markdown",
   "metadata": {},
   "source": [
    "#### Appointment Day\n",
    "AppointmentDay is the day of the doctor's appointment."
   ]
  },
  {
   "cell_type": "code",
   "execution_count": 17,
   "metadata": {},
   "outputs": [
    {
     "data": {
      "text/plain": [
       "dtype('<M8[ns]')"
      ]
     },
     "execution_count": 17,
     "metadata": {},
     "output_type": "execute_result"
    }
   ],
   "source": [
    "# Convert the appointment day to a datetime\n",
    "df['AppointmentDay'] = pd.to_datetime(df['AppointmentDay'])\n",
    "\n",
    "# Verify that AppointmentDay is in a datetime format\n",
    "df['AppointmentDay'].dtype"
   ]
  },
  {
   "cell_type": "code",
   "execution_count": 18,
   "metadata": {},
   "outputs": [
    {
     "data": {
      "text/plain": [
       "0"
      ]
     },
     "execution_count": 18,
     "metadata": {},
     "output_type": "execute_result"
    }
   ],
   "source": [
    "# Verify that all records were converted to valid datetimes\n",
    "np.isnat(df['AppointmentDay']).sum()"
   ]
  },
  {
   "cell_type": "code",
   "execution_count": 19,
   "metadata": {},
   "outputs": [
    {
     "data": {
      "text/plain": [
       "Timestamp('2016-04-29 00:00:00')"
      ]
     },
     "execution_count": 19,
     "metadata": {},
     "output_type": "execute_result"
    }
   ],
   "source": [
    "# The first scheduled appointment\n",
    "np.min(df['AppointmentDay'])"
   ]
  },
  {
   "cell_type": "code",
   "execution_count": 20,
   "metadata": {},
   "outputs": [
    {
     "data": {
      "text/plain": [
       "Timestamp('2016-06-08 00:00:00')"
      ]
     },
     "execution_count": 20,
     "metadata": {},
     "output_type": "execute_result"
    }
   ],
   "source": [
    "# The last scheduled appointment\n",
    "np.max(df['AppointmentDay'])"
   ]
  },
  {
   "cell_type": "code",
   "execution_count": 21,
   "metadata": {},
   "outputs": [
    {
     "data": {
      "text/plain": [
       "Timedelta('40 days 00:00:00')"
      ]
     },
     "execution_count": 21,
     "metadata": {},
     "output_type": "execute_result"
    }
   ],
   "source": [
    "np.max(df['AppointmentDay']) - np.min(df['AppointmentDay'])"
   ]
  },
  {
   "cell_type": "markdown",
   "metadata": {},
   "source": [
    "> While the appointments were scheduled during a 7-month period, they all were scheduled for a 40-day period."
   ]
  },
  {
   "cell_type": "markdown",
   "metadata": {},
   "source": [
    "<a id='cleaning_gender'></a>"
   ]
  },
  {
   "cell_type": "markdown",
   "metadata": {},
   "source": [
    "#### Gender"
   ]
  },
  {
   "cell_type": "code",
   "execution_count": 22,
   "metadata": {},
   "outputs": [
    {
     "data": {
      "text/plain": [
       "F    71840\n",
       "M    38687\n",
       "Name: Gender, dtype: int64"
      ]
     },
     "execution_count": 22,
     "metadata": {},
     "output_type": "execute_result"
    }
   ],
   "source": [
    "# Gender data is clean\n",
    "df['Gender'].value_counts()"
   ]
  },
  {
   "cell_type": "code",
   "execution_count": 23,
   "metadata": {},
   "outputs": [
    {
     "data": {
      "text/plain": [
       "1    71840\n",
       "0    38687\n",
       "Name: Gender, dtype: int64"
      ]
     },
     "execution_count": 23,
     "metadata": {},
     "output_type": "execute_result"
    }
   ],
   "source": [
    "# Encode gender as binary, 0 = male, 1 = female \n",
    "df['Gender'] = np.where(df['Gender'].values == 'F', 1, 0)\n",
    "df['Gender'].value_counts()"
   ]
  },
  {
   "cell_type": "markdown",
   "metadata": {},
   "source": [
    "<a id='cleaning_age'></a>"
   ]
  },
  {
   "cell_type": "markdown",
   "metadata": {},
   "source": [
    "#### Age"
   ]
  },
  {
   "cell_type": "code",
   "execution_count": 24,
   "metadata": {},
   "outputs": [
    {
     "data": {
      "text/plain": [
       "Int64Index([ -1,   0,   1,   2,   3,   4,   5,   6,   7,   8,\n",
       "            ...\n",
       "             93,  94,  95,  96,  97,  98,  99, 100, 102, 115],\n",
       "           dtype='int64', length=104)"
      ]
     },
     "execution_count": 24,
     "metadata": {},
     "output_type": "execute_result"
    }
   ],
   "source": [
    "age_counts = df['Age'].value_counts()\n",
    "age_counts.index.sort_values()"
   ]
  },
  {
   "cell_type": "code",
   "execution_count": 25,
   "metadata": {},
   "outputs": [],
   "source": [
    "# Drop the record with an age of -1\n",
    "invalid_age = df[df['Age'] == -1]['PatientID']\n",
    "df.drop(invalid_age.index, inplace=True)"
   ]
  },
  {
   "cell_type": "markdown",
   "metadata": {},
   "source": [
    "> I removed the record with the age of -1.  All of the other ages are plausible; although the age of 115 is improbable, it is still possible."
   ]
  },
  {
   "cell_type": "markdown",
   "metadata": {},
   "source": [
    "<a id='cleaning_bolsa_familia'></a>"
   ]
  },
  {
   "cell_type": "markdown",
   "metadata": {},
   "source": [
    "#### Bolsa Família"
   ]
  },
  {
   "cell_type": "markdown",
   "metadata": {},
   "source": [
    "[Bolsa Família](https://en.wikipedia.org/wiki/Bolsa_Fam%C3%ADlia) is a social welfare program in Brazil.  A value of 1 for this field means that the patient receives financial aid from the Brazilian government under this progrm."
   ]
  },
  {
   "cell_type": "code",
   "execution_count": 26,
   "metadata": {},
   "outputs": [
    {
     "data": {
      "text/plain": [
       "0    99665\n",
       "1    10861\n",
       "Name: BolsaFamilia, dtype: int64"
      ]
     },
     "execution_count": 26,
     "metadata": {},
     "output_type": "execute_result"
    }
   ],
   "source": [
    "# BolsaFamilia data is clean\n",
    "df['BolsaFamilia'].value_counts()"
   ]
  },
  {
   "cell_type": "markdown",
   "metadata": {},
   "source": [
    "<a id='cleaning_hypertension'></a>"
   ]
  },
  {
   "cell_type": "markdown",
   "metadata": {},
   "source": [
    "#### Hypertension"
   ]
  },
  {
   "cell_type": "code",
   "execution_count": 27,
   "metadata": {},
   "outputs": [
    {
     "data": {
      "text/plain": [
       "0    88725\n",
       "1    21801\n",
       "Name: Hypertension, dtype: int64"
      ]
     },
     "execution_count": 27,
     "metadata": {},
     "output_type": "execute_result"
    }
   ],
   "source": [
    "# Hypertension data is clean\n",
    "df['Hypertension'].value_counts()"
   ]
  },
  {
   "cell_type": "markdown",
   "metadata": {},
   "source": [
    "<a id='cleaning_diabetes'></a>"
   ]
  },
  {
   "cell_type": "markdown",
   "metadata": {},
   "source": [
    "#### Diabetes"
   ]
  },
  {
   "cell_type": "code",
   "execution_count": 28,
   "metadata": {},
   "outputs": [
    {
     "data": {
      "text/plain": [
       "0    102583\n",
       "1      7943\n",
       "Name: Diabetes, dtype: int64"
      ]
     },
     "execution_count": 28,
     "metadata": {},
     "output_type": "execute_result"
    }
   ],
   "source": [
    "# Diabetes data is clean\n",
    "df['Diabetes'].value_counts()"
   ]
  },
  {
   "cell_type": "markdown",
   "metadata": {},
   "source": [
    "<a id='cleaning_alcoholism'></a>"
   ]
  },
  {
   "cell_type": "markdown",
   "metadata": {},
   "source": [
    "#### Alcholism"
   ]
  },
  {
   "cell_type": "code",
   "execution_count": 29,
   "metadata": {},
   "outputs": [
    {
     "data": {
      "text/plain": [
       "0    107166\n",
       "1      3360\n",
       "Name: Alcoholism, dtype: int64"
      ]
     },
     "execution_count": 29,
     "metadata": {},
     "output_type": "execute_result"
    }
   ],
   "source": [
    "# Alcoholism data is clean\n",
    "df['Alcoholism'].value_counts()"
   ]
  },
  {
   "cell_type": "markdown",
   "metadata": {},
   "source": [
    "<a id='cleaning_number_handicaps'></a>"
   ]
  },
  {
   "cell_type": "markdown",
   "metadata": {},
   "source": [
    "#### Number of Handicaps"
   ]
  },
  {
   "cell_type": "code",
   "execution_count": 30,
   "metadata": {
    "scrolled": true
   },
   "outputs": [
    {
     "data": {
      "text/plain": [
       "0    108285\n",
       "1      2042\n",
       "2       183\n",
       "3        13\n",
       "4         3\n",
       "Name: NumHandicaps, dtype: int64"
      ]
     },
     "execution_count": 30,
     "metadata": {},
     "output_type": "execute_result"
    }
   ],
   "source": [
    "# This represents the number of handicaps a person has (as defined by the publisher of the dataset)\n",
    "# All people having between 0-4 handicaps seems reasonable\n",
    "df['NumHandicaps'].value_counts()"
   ]
  },
  {
   "cell_type": "markdown",
   "metadata": {},
   "source": [
    "<a id='cleaning_sms_received'></a>"
   ]
  },
  {
   "cell_type": "markdown",
   "metadata": {},
   "source": [
    "#### SMS Received\n",
    "This field indicates whether or not a patient was sent an appointment reminder by the facility in the form of a text message."
   ]
  },
  {
   "cell_type": "code",
   "execution_count": 31,
   "metadata": {},
   "outputs": [
    {
     "data": {
      "text/plain": [
       "0    75044\n",
       "1    35482\n",
       "Name: SMSReceived, dtype: int64"
      ]
     },
     "execution_count": 31,
     "metadata": {},
     "output_type": "execute_result"
    }
   ],
   "source": [
    "# SMS Received data is clean\n",
    "df['SMSReceived'].value_counts()"
   ]
  },
  {
   "cell_type": "markdown",
   "metadata": {},
   "source": [
    "<a id='cleaning_no_show'></a>"
   ]
  },
  {
   "cell_type": "markdown",
   "metadata": {},
   "source": [
    "#### No Show"
   ]
  },
  {
   "cell_type": "markdown",
   "metadata": {},
   "source": [
    "A value of yes for NoShow means that the patient did not show up to their appointment (they were a 'no show')."
   ]
  },
  {
   "cell_type": "code",
   "execution_count": 32,
   "metadata": {},
   "outputs": [
    {
     "data": {
      "text/plain": [
       "No     88207\n",
       "Yes    22319\n",
       "Name: NoShow, dtype: int64"
      ]
     },
     "execution_count": 32,
     "metadata": {},
     "output_type": "execute_result"
    }
   ],
   "source": [
    "df['NoShow'].value_counts()"
   ]
  },
  {
   "cell_type": "code",
   "execution_count": 33,
   "metadata": {},
   "outputs": [
    {
     "data": {
      "text/plain": [
       "0    88207\n",
       "1    22319\n",
       "Name: NoShow, dtype: int64"
      ]
     },
     "execution_count": 33,
     "metadata": {},
     "output_type": "execute_result"
    }
   ],
   "source": [
    "# Convert NoShow to zeros and ones\n",
    "df['NoShow'] = np.where(df['NoShow'].values == 'Yes', 1, 0)\n",
    "df['NoShow'].value_counts()"
   ]
  },
  {
   "cell_type": "markdown",
   "metadata": {},
   "source": [
    "<a id='cleaning_neighborhood'></a>"
   ]
  },
  {
   "cell_type": "markdown",
   "metadata": {},
   "source": [
    "#### Neighborhood"
   ]
  },
  {
   "cell_type": "markdown",
   "metadata": {},
   "source": [
    "The Neighborhood field has the neighborhood of the doctor's facility."
   ]
  },
  {
   "cell_type": "code",
   "execution_count": 34,
   "metadata": {},
   "outputs": [
    {
     "data": {
      "text/plain": [
       "JARDIM CAMBURI       7717\n",
       "MARIA ORTIZ          5805\n",
       "RESISTÊNCIA          4431\n",
       "JARDIM DA PENHA      3877\n",
       "ITARARÉ              3514\n",
       "CENTRO               3334\n",
       "TABUAZEIRO           3132\n",
       "SANTA MARTHA         3131\n",
       "JESUS DE NAZARETH    2853\n",
       "BONFIM               2773\n",
       "SANTO ANTÔNIO        2746\n",
       "Name: Neighborhood, dtype: int64"
      ]
     },
     "execution_count": 34,
     "metadata": {},
     "output_type": "execute_result"
    }
   ],
   "source": [
    "neighborhood_counts = df['Neighborhood'].value_counts()\n",
    "neighborhood_counts[:11]"
   ]
  },
  {
   "cell_type": "code",
   "execution_count": 35,
   "metadata": {},
   "outputs": [
    {
     "data": {
      "text/plain": [
       "81"
      ]
     },
     "execution_count": 35,
     "metadata": {},
     "output_type": "execute_result"
    }
   ],
   "source": [
    "# Number of unique neighborhoods\n",
    "df['Neighborhood'].nunique()"
   ]
  },
  {
   "cell_type": "code",
   "execution_count": 36,
   "metadata": {},
   "outputs": [
    {
     "data": {
      "text/html": [
       "<div>\n",
       "<style scoped>\n",
       "    .dataframe tbody tr th:only-of-type {\n",
       "        vertical-align: middle;\n",
       "    }\n",
       "\n",
       "    .dataframe tbody tr th {\n",
       "        vertical-align: top;\n",
       "    }\n",
       "\n",
       "    .dataframe thead th {\n",
       "        text-align: right;\n",
       "    }\n",
       "</style>\n",
       "<table border=\"1\" class=\"dataframe\">\n",
       "  <thead>\n",
       "    <tr style=\"text-align: right;\">\n",
       "      <th></th>\n",
       "      <th>neighborhood</th>\n",
       "    </tr>\n",
       "  </thead>\n",
       "  <tbody>\n",
       "    <tr>\n",
       "      <th>0</th>\n",
       "      <td>JARDIM CAMBURI</td>\n",
       "    </tr>\n",
       "    <tr>\n",
       "      <th>1</th>\n",
       "      <td>MARIA ORTIZ</td>\n",
       "    </tr>\n",
       "    <tr>\n",
       "      <th>2</th>\n",
       "      <td>RESISTÊNCIA</td>\n",
       "    </tr>\n",
       "    <tr>\n",
       "      <th>3</th>\n",
       "      <td>JARDIM DA PENHA</td>\n",
       "    </tr>\n",
       "    <tr>\n",
       "      <th>4</th>\n",
       "      <td>ITARARÉ</td>\n",
       "    </tr>\n",
       "  </tbody>\n",
       "</table>\n",
       "</div>"
      ],
      "text/plain": [
       "      neighborhood\n",
       "0   JARDIM CAMBURI\n",
       "1      MARIA ORTIZ\n",
       "2      RESISTÊNCIA\n",
       "3  JARDIM DA PENHA\n",
       "4          ITARARÉ"
      ]
     },
     "execution_count": 36,
     "metadata": {},
     "output_type": "execute_result"
    }
   ],
   "source": [
    "# Organize the neighborhoods into a dataframe\n",
    "geo = pd.DataFrame(neighborhood_counts.index, columns = ['neighborhood'])\n",
    "geo.head()"
   ]
  },
  {
   "cell_type": "code",
   "execution_count": 37,
   "metadata": {},
   "outputs": [],
   "source": [
    "# Geocode the neighborhood data\n",
    "for i, row in geo.iterrows():\n",
    "    # Use Bing    \n",
    "    full_neighborhood = row.str.title() + ', Vitória, Espírito Santo, Brazil'\n",
    "    result = geocoder.bing(full_neighborhood, key=API_KEY)\n",
    "    \n",
    "    geo.at[i, 'status'] = result.status\n",
    "    geo.at[i, 'lat'] = result.lat\n",
    "    geo.at[i, 'lng'] = result.lng\n",
    "    geo.at[i, 'bing_neighborhood'] = result.neighborhood\n",
    "    geo.at[i, 'city'] = result.city\n",
    "    geo.at[i, 'state'] = result.state\n",
    "    geo.at[i, 'country'] = result.country\n",
    "    \n",
    "    # If Bing returns None for neighborhood, use Google\n",
    "    if geo.loc[i, 'bing_neighborhood'] is None:\n",
    "        result = geocoder.google(full_neighborhood)\n",
    "        \n",
    "        geo.at[i, 'status'] = result.status\n",
    "        geo.at[i, 'lat'] = result.lat\n",
    "        geo.at[i, 'lng'] = result.lng\n",
    "        \n",
    "        if result.county == 'Vitória': # Google uses county when Bing uses city\n",
    "            geo.at[i, 'city'] = result.county\n",
    "        geo.at[i, 'state'] = result.state\n",
    "        if result.country == 'BR':\n",
    "            geo.at[i, 'country'] = 'Brazil'"
   ]
  },
  {
   "cell_type": "code",
   "execution_count": 38,
   "metadata": {},
   "outputs": [
    {
     "data": {
      "text/html": [
       "<div>\n",
       "<style scoped>\n",
       "    .dataframe tbody tr th:only-of-type {\n",
       "        vertical-align: middle;\n",
       "    }\n",
       "\n",
       "    .dataframe tbody tr th {\n",
       "        vertical-align: top;\n",
       "    }\n",
       "\n",
       "    .dataframe thead th {\n",
       "        text-align: right;\n",
       "    }\n",
       "</style>\n",
       "<table border=\"1\" class=\"dataframe\">\n",
       "  <thead>\n",
       "    <tr style=\"text-align: right;\">\n",
       "      <th></th>\n",
       "      <th>neighborhood</th>\n",
       "      <th>status</th>\n",
       "      <th>lat</th>\n",
       "      <th>lng</th>\n",
       "      <th>bing_neighborhood</th>\n",
       "      <th>city</th>\n",
       "      <th>state</th>\n",
       "      <th>country</th>\n",
       "    </tr>\n",
       "  </thead>\n",
       "  <tbody>\n",
       "    <tr>\n",
       "      <th>0</th>\n",
       "      <td>JARDIM CAMBURI</td>\n",
       "      <td>OK</td>\n",
       "      <td>-20.265020</td>\n",
       "      <td>-40.264420</td>\n",
       "      <td>Jardim Camburi</td>\n",
       "      <td>Vitória</td>\n",
       "      <td>ES</td>\n",
       "      <td>Brazil</td>\n",
       "    </tr>\n",
       "    <tr>\n",
       "      <th>1</th>\n",
       "      <td>MARIA ORTIZ</td>\n",
       "      <td>OK</td>\n",
       "      <td>-20.258221</td>\n",
       "      <td>-40.297482</td>\n",
       "      <td>Maria Ortiz</td>\n",
       "      <td>Vitória</td>\n",
       "      <td>ES</td>\n",
       "      <td>Brazil</td>\n",
       "    </tr>\n",
       "    <tr>\n",
       "      <th>2</th>\n",
       "      <td>RESISTÊNCIA</td>\n",
       "      <td>OK</td>\n",
       "      <td>-20.270830</td>\n",
       "      <td>-40.320320</td>\n",
       "      <td>Resistência</td>\n",
       "      <td>Vitória</td>\n",
       "      <td>ES</td>\n",
       "      <td>Brazil</td>\n",
       "    </tr>\n",
       "    <tr>\n",
       "      <th>3</th>\n",
       "      <td>JARDIM DA PENHA</td>\n",
       "      <td>OK</td>\n",
       "      <td>-20.284531</td>\n",
       "      <td>-40.294998</td>\n",
       "      <td>Jardim da Penha</td>\n",
       "      <td>Vitória</td>\n",
       "      <td>ES</td>\n",
       "      <td>Brazil</td>\n",
       "    </tr>\n",
       "    <tr>\n",
       "      <th>4</th>\n",
       "      <td>ITARARÉ</td>\n",
       "      <td>OK</td>\n",
       "      <td>-20.295549</td>\n",
       "      <td>-40.305199</td>\n",
       "      <td>Itararé</td>\n",
       "      <td>Vitória</td>\n",
       "      <td>ES</td>\n",
       "      <td>Brazil</td>\n",
       "    </tr>\n",
       "  </tbody>\n",
       "</table>\n",
       "</div>"
      ],
      "text/plain": [
       "      neighborhood status        lat        lng bing_neighborhood     city  \\\n",
       "0   JARDIM CAMBURI     OK -20.265020 -40.264420    Jardim Camburi  Vitória   \n",
       "1      MARIA ORTIZ     OK -20.258221 -40.297482       Maria Ortiz  Vitória   \n",
       "2      RESISTÊNCIA     OK -20.270830 -40.320320       Resistência  Vitória   \n",
       "3  JARDIM DA PENHA     OK -20.284531 -40.294998   Jardim da Penha  Vitória   \n",
       "4          ITARARÉ     OK -20.295549 -40.305199           Itararé  Vitória   \n",
       "\n",
       "  state country  \n",
       "0    ES  Brazil  \n",
       "1    ES  Brazil  \n",
       "2    ES  Brazil  \n",
       "3    ES  Brazil  \n",
       "4    ES  Brazil  "
      ]
     },
     "execution_count": 38,
     "metadata": {},
     "output_type": "execute_result"
    }
   ],
   "source": [
    "geo.head()"
   ]
  },
  {
   "cell_type": "code",
   "execution_count": 39,
   "metadata": {},
   "outputs": [
    {
     "data": {
      "text/plain": [
       "True"
      ]
     },
     "execution_count": 39,
     "metadata": {},
     "output_type": "execute_result"
    }
   ],
   "source": [
    "# Check that all the neighborhoods are unique\n",
    "(geo['bing_neighborhood'].value_counts() == 1).all()"
   ]
  },
  {
   "cell_type": "code",
   "execution_count": 40,
   "metadata": {},
   "outputs": [
    {
     "data": {
      "text/plain": [
       "False"
      ]
     },
     "execution_count": 40,
     "metadata": {},
     "output_type": "execute_result"
    }
   ],
   "source": [
    "# Check that each neighborhood returns a unique location\n",
    "not any(geo.duplicated(['lat', 'lng']))"
   ]
  },
  {
   "cell_type": "code",
   "execution_count": 41,
   "metadata": {},
   "outputs": [
    {
     "name": "stdout",
     "output_type": "stream",
     "text": [
      "False\n",
      "True\n",
      "False\n",
      "True\n"
     ]
    }
   ],
   "source": [
    "# Verify that all of the locations are in Vitória, Espírito Santo, Brazil\n",
    "print((geo['status'] == 'OK').all())\n",
    "print((geo['city'] == 'Vitória').all())\n",
    "print((geo['state'] == 'ES').all())\n",
    "print((geo['country'] == 'Brazil').all())"
   ]
  },
  {
   "cell_type": "markdown",
   "metadata": {},
   "source": [
    "<a id='cleaning_patient_id'></a>"
   ]
  },
  {
   "cell_type": "markdown",
   "metadata": {},
   "source": [
    "#### Patient ID"
   ]
  },
  {
   "cell_type": "code",
   "execution_count": 42,
   "metadata": {},
   "outputs": [
    {
     "data": {
      "text/plain": [
       "14    39372\n",
       "13    28319\n",
       "15    24918\n",
       "12    12835\n",
       "11     4002\n",
       "10      920\n",
       "9       136\n",
       "8        18\n",
       "5         3\n",
       "6         2\n",
       "7         1\n",
       "Name: PatientID, dtype: int64"
      ]
     },
     "execution_count": 42,
     "metadata": {},
     "output_type": "execute_result"
    }
   ],
   "source": [
    "# Convert patient ID to a string, as it is meant to be an identifier not a number\n",
    "df['PatientID'] = df['PatientID'].astype(int).astype(str)\n",
    "\n",
    "# All identifiers are 7-15 digits long, most have at least 10\n",
    "lens = df['PatientID'].apply(len)\n",
    "pd.value_counts(lens)"
   ]
  },
  {
   "cell_type": "markdown",
   "metadata": {},
   "source": [
    "> Most of the patient IDs are at least 10 digits long.  There is no consistent length for this field, and it is unknown, and impossible to know, if some of these patient identifiers are flawed.  It is an identifier and does not need to be operated on or with, therefore none of these records will be removed."
   ]
  },
  {
   "cell_type": "markdown",
   "metadata": {},
   "source": [
    "<a id='cleaning_patient_id_consistency'></a>"
   ]
  },
  {
   "cell_type": "markdown",
   "metadata": {},
   "source": [
    "##### PatientID Consistency"
   ]
  },
  {
   "cell_type": "code",
   "execution_count": 43,
   "metadata": {},
   "outputs": [
    {
     "data": {
      "text/plain": [
       "PatientID\n",
       "11111462625267     1\n",
       "111124532532143    2\n",
       "11114485119737     1\n",
       "11116239871275     1\n",
       "1111633122891      3\n",
       "Name: AppointmentID, dtype: int64"
      ]
     },
     "execution_count": 43,
     "metadata": {},
     "output_type": "execute_result"
    }
   ],
   "source": [
    "# Number of appointments per PatientID\n",
    "appts_by_patient = df.groupby('PatientID')['AppointmentID'].count()\n",
    "appts_by_patient.head()"
   ]
  },
  {
   "cell_type": "markdown",
   "metadata": {},
   "source": [
    "There are multiple appointments for some patients, so I am checking that the information for each patient across the different appointments is the same."
   ]
  },
  {
   "cell_type": "code",
   "execution_count": 44,
   "metadata": {},
   "outputs": [
    {
     "data": {
      "text/plain": [
       "Series([], Name: Gender, dtype: int64)"
      ]
     },
     "execution_count": 44,
     "metadata": {},
     "output_type": "execute_result"
    }
   ],
   "source": [
    "# All have the same gender\n",
    "unique_gender_vals = df.groupby('PatientID')['Gender'].nunique()\n",
    "unique_gender_vals[unique_gender_vals > 1]"
   ]
  },
  {
   "cell_type": "code",
   "execution_count": 45,
   "metadata": {},
   "outputs": [
    {
     "data": {
      "text/plain": [
       "Series([], Name: BolsaFamilia, dtype: int64)"
      ]
     },
     "execution_count": 45,
     "metadata": {},
     "output_type": "execute_result"
    }
   ],
   "source": [
    "# All have the same BolsaFamilia status\n",
    "unique_bf_vals = df.groupby('PatientID')['BolsaFamilia'].nunique()\n",
    "unique_bf_vals[unique_bf_vals > 1]"
   ]
  },
  {
   "cell_type": "code",
   "execution_count": 46,
   "metadata": {},
   "outputs": [
    {
     "data": {
      "text/plain": [
       "Series([], Name: Hypertension, dtype: int64)"
      ]
     },
     "execution_count": 46,
     "metadata": {},
     "output_type": "execute_result"
    }
   ],
   "source": [
    "# All have the same value for Hypertension\n",
    "unique_hypertension_vals = df.groupby('PatientID')['Hypertension'].nunique()\n",
    "unique_hypertension_vals[unique_hypertension_vals > 1]"
   ]
  },
  {
   "cell_type": "code",
   "execution_count": 47,
   "metadata": {},
   "outputs": [
    {
     "data": {
      "text/plain": [
       "Series([], Name: Diabetes, dtype: int64)"
      ]
     },
     "execution_count": 47,
     "metadata": {},
     "output_type": "execute_result"
    }
   ],
   "source": [
    "# All have the same value for Diabetes\n",
    "unique_diabetes_vals = df.groupby('PatientID')['Diabetes'].nunique()\n",
    "unique_diabetes_vals[unique_diabetes_vals > 1]"
   ]
  },
  {
   "cell_type": "code",
   "execution_count": 48,
   "metadata": {},
   "outputs": [
    {
     "data": {
      "text/plain": [
       "Series([], Name: Alcoholism, dtype: int64)"
      ]
     },
     "execution_count": 48,
     "metadata": {},
     "output_type": "execute_result"
    }
   ],
   "source": [
    "# All have the same value for Alcoholism\n",
    "unique_alcoholism_vals = df.groupby('PatientID')['Alcoholism'].nunique()\n",
    "unique_alcoholism_vals[unique_alcoholism_vals > 1]"
   ]
  },
  {
   "cell_type": "code",
   "execution_count": 49,
   "metadata": {},
   "outputs": [
    {
     "data": {
      "text/plain": [
       "Series([], Name: NumHandicaps, dtype: int64)"
      ]
     },
     "execution_count": 49,
     "metadata": {},
     "output_type": "execute_result"
    }
   ],
   "source": [
    "# All have the same value for NumHandicaps\n",
    "unique_handicaps_vals = df.groupby('PatientID')['NumHandicaps'].nunique()\n",
    "unique_handicaps_vals[unique_handicaps_vals > 1]"
   ]
  },
  {
   "cell_type": "code",
   "execution_count": 50,
   "metadata": {},
   "outputs": [
    {
     "data": {
      "text/plain": [
       "Series([], Name: Neighborhood, dtype: int64)"
      ]
     },
     "execution_count": 50,
     "metadata": {},
     "output_type": "execute_result"
    }
   ],
   "source": [
    "# All have the same value for Neighborhood - so patients kept the same doctor's office/hospital\n",
    "unique_neighborhood_vals = df.groupby('PatientID')['Neighborhood'].nunique()\n",
    "unique_neighborhood_vals[unique_neighborhood_vals > 1]"
   ]
  },
  {
   "cell_type": "code",
   "execution_count": 51,
   "metadata": {},
   "outputs": [
    {
     "data": {
      "text/plain": [
       "Series([], Name: Age, dtype: int64)"
      ]
     },
     "execution_count": 51,
     "metadata": {},
     "output_type": "execute_result"
    }
   ],
   "source": [
    "# Appointments occur with a 7-month period, so the entries for a patient's ages should be within a year of each other\n",
    "unique_age_vals = df.groupby('PatientID')['Age'].nunique()\n",
    "not_unique_age_vals = unique_age_vals[unique_age_vals > 1]\n",
    "\n",
    "# Patients with more than one appointment, all have less than 2 values for age\n",
    "not_unique_age_vals[not_unique_age_vals > 2]"
   ]
  },
  {
   "cell_type": "code",
   "execution_count": 52,
   "metadata": {},
   "outputs": [
    {
     "data": {
      "text/html": [
       "<div>\n",
       "<style scoped>\n",
       "    .dataframe tbody tr th:only-of-type {\n",
       "        vertical-align: middle;\n",
       "    }\n",
       "\n",
       "    .dataframe tbody tr th {\n",
       "        vertical-align: top;\n",
       "    }\n",
       "\n",
       "    .dataframe thead th {\n",
       "        text-align: right;\n",
       "    }\n",
       "</style>\n",
       "<table border=\"1\" class=\"dataframe\">\n",
       "  <thead>\n",
       "    <tr style=\"text-align: right;\">\n",
       "      <th></th>\n",
       "      <th>PatientID</th>\n",
       "      <th>AppointmentID</th>\n",
       "      <th>Gender</th>\n",
       "      <th>ScheduledDay</th>\n",
       "      <th>AppointmentDay</th>\n",
       "      <th>Age</th>\n",
       "      <th>Neighborhood</th>\n",
       "      <th>BolsaFamilia</th>\n",
       "      <th>Hypertension</th>\n",
       "      <th>Diabetes</th>\n",
       "      <th>Alcoholism</th>\n",
       "      <th>NumHandicaps</th>\n",
       "      <th>SMSReceived</th>\n",
       "      <th>NoShow</th>\n",
       "    </tr>\n",
       "  </thead>\n",
       "  <tbody>\n",
       "    <tr>\n",
       "      <th>3850</th>\n",
       "      <td>112114682124172</td>\n",
       "      <td>5490237</td>\n",
       "      <td>1</td>\n",
       "      <td>2016-03-18 14:26:03</td>\n",
       "      <td>2016-05-02</td>\n",
       "      <td>0</td>\n",
       "      <td>RESISTÊNCIA</td>\n",
       "      <td>0</td>\n",
       "      <td>0</td>\n",
       "      <td>0</td>\n",
       "      <td>0</td>\n",
       "      <td>0</td>\n",
       "      <td>1</td>\n",
       "      <td>1</td>\n",
       "    </tr>\n",
       "    <tr>\n",
       "      <th>110232</th>\n",
       "      <td>112114682124172</td>\n",
       "      <td>5676082</td>\n",
       "      <td>1</td>\n",
       "      <td>2016-05-09 14:56:13</td>\n",
       "      <td>2016-06-08</td>\n",
       "      <td>1</td>\n",
       "      <td>RESISTÊNCIA</td>\n",
       "      <td>0</td>\n",
       "      <td>0</td>\n",
       "      <td>0</td>\n",
       "      <td>0</td>\n",
       "      <td>0</td>\n",
       "      <td>1</td>\n",
       "      <td>1</td>\n",
       "    </tr>\n",
       "    <tr>\n",
       "      <th>10283</th>\n",
       "      <td>11238367556569</td>\n",
       "      <td>5723118</td>\n",
       "      <td>1</td>\n",
       "      <td>2016-05-20 07:58:35</td>\n",
       "      <td>2016-05-20</td>\n",
       "      <td>29</td>\n",
       "      <td>ROMÃO</td>\n",
       "      <td>0</td>\n",
       "      <td>1</td>\n",
       "      <td>0</td>\n",
       "      <td>0</td>\n",
       "      <td>0</td>\n",
       "      <td>0</td>\n",
       "      <td>0</td>\n",
       "    </tr>\n",
       "    <tr>\n",
       "      <th>19089</th>\n",
       "      <td>11238367556569</td>\n",
       "      <td>5675794</td>\n",
       "      <td>1</td>\n",
       "      <td>2016-05-09 14:21:41</td>\n",
       "      <td>2016-05-13</td>\n",
       "      <td>28</td>\n",
       "      <td>ROMÃO</td>\n",
       "      <td>0</td>\n",
       "      <td>1</td>\n",
       "      <td>0</td>\n",
       "      <td>0</td>\n",
       "      <td>0</td>\n",
       "      <td>0</td>\n",
       "      <td>0</td>\n",
       "    </tr>\n",
       "    <tr>\n",
       "      <th>19091</th>\n",
       "      <td>11238367556569</td>\n",
       "      <td>5675795</td>\n",
       "      <td>1</td>\n",
       "      <td>2016-05-09 14:21:41</td>\n",
       "      <td>2016-05-13</td>\n",
       "      <td>28</td>\n",
       "      <td>ROMÃO</td>\n",
       "      <td>0</td>\n",
       "      <td>1</td>\n",
       "      <td>0</td>\n",
       "      <td>0</td>\n",
       "      <td>0</td>\n",
       "      <td>0</td>\n",
       "      <td>0</td>\n",
       "    </tr>\n",
       "  </tbody>\n",
       "</table>\n",
       "</div>"
      ],
      "text/plain": [
       "              PatientID AppointmentID  Gender        ScheduledDay  \\\n",
       "3850    112114682124172       5490237       1 2016-03-18 14:26:03   \n",
       "110232  112114682124172       5676082       1 2016-05-09 14:56:13   \n",
       "10283    11238367556569       5723118       1 2016-05-20 07:58:35   \n",
       "19089    11238367556569       5675794       1 2016-05-09 14:21:41   \n",
       "19091    11238367556569       5675795       1 2016-05-09 14:21:41   \n",
       "\n",
       "       AppointmentDay  Age Neighborhood  BolsaFamilia  Hypertension  Diabetes  \\\n",
       "3850       2016-05-02    0  RESISTÊNCIA             0             0         0   \n",
       "110232     2016-06-08    1  RESISTÊNCIA             0             0         0   \n",
       "10283      2016-05-20   29        ROMÃO             0             1         0   \n",
       "19089      2016-05-13   28        ROMÃO             0             1         0   \n",
       "19091      2016-05-13   28        ROMÃO             0             1         0   \n",
       "\n",
       "        Alcoholism  NumHandicaps  SMSReceived  NoShow  \n",
       "3850             0             0            1       1  \n",
       "110232           0             0            1       1  \n",
       "10283            0             0            0       0  \n",
       "19089            0             0            0       0  \n",
       "19091            0             0            0       0  "
      ]
     },
     "execution_count": 52,
     "metadata": {},
     "output_type": "execute_result"
    }
   ],
   "source": [
    "# Get the information for the patients with more than one age\n",
    "patients_multiple_ages = list(not_unique_age_vals.index)\n",
    "multiple_ages_info = df[df['PatientID'].isin(patients_multiple_ages)].sort_values('PatientID')\n",
    "multiple_ages_info.head()"
   ]
  },
  {
   "cell_type": "code",
   "execution_count": 53,
   "metadata": {},
   "outputs": [
    {
     "data": {
      "text/plain": [
       "PatientID\n",
       "112114682124172    1\n",
       "11238367556569     1\n",
       "1124242331227      1\n",
       "1126541547466      1\n",
       "112777857389857    1\n",
       "Name: Age, dtype: int64"
      ]
     },
     "execution_count": 53,
     "metadata": {},
     "output_type": "execute_result"
    }
   ],
   "source": [
    "# Get the difference between each patient's ages\n",
    "max_age = multiple_ages_info.groupby('PatientID')['Age'].max()\n",
    "min_age = multiple_ages_info.groupby('PatientID')['Age'].min()\n",
    "age_diff = max_age - min_age\n",
    "age_diff.head()"
   ]
  },
  {
   "cell_type": "code",
   "execution_count": 54,
   "metadata": {},
   "outputs": [
    {
     "data": {
      "text/plain": [
       "True"
      ]
     },
     "execution_count": 54,
     "metadata": {},
     "output_type": "execute_result"
    }
   ],
   "source": [
    "# Each patient's ages are within one year of each other\n",
    "age_diff[age_diff <= 1].all()"
   ]
  },
  {
   "cell_type": "markdown",
   "metadata": {},
   "source": [
    "<a id='feat_engineering'></a>"
   ]
  },
  {
   "cell_type": "markdown",
   "metadata": {},
   "source": [
    "## Feature Engineering and Additional Data\n",
    "***"
   ]
  },
  {
   "cell_type": "markdown",
   "metadata": {},
   "source": [
    "### Weather"
   ]
  },
  {
   "cell_type": "markdown",
   "metadata": {},
   "source": [
    "I obtained weather data for Vitória airport from wunderground.com for the appointment dates."
   ]
  },
  {
   "cell_type": "code",
   "execution_count": 105,
   "metadata": {},
   "outputs": [
    {
     "data": {
      "text/html": [
       "<div>\n",
       "<style scoped>\n",
       "    .dataframe tbody tr th:only-of-type {\n",
       "        vertical-align: middle;\n",
       "    }\n",
       "\n",
       "    .dataframe tbody tr th {\n",
       "        vertical-align: top;\n",
       "    }\n",
       "\n",
       "    .dataframe thead th {\n",
       "        text-align: right;\n",
       "    }\n",
       "</style>\n",
       "<table border=\"1\" class=\"dataframe\">\n",
       "  <thead>\n",
       "    <tr style=\"text-align: right;\">\n",
       "      <th></th>\n",
       "      <th>Date</th>\n",
       "      <th>temp_high</th>\n",
       "      <th>temp_avg</th>\n",
       "      <th>temp_low</th>\n",
       "      <th>humidity_high</th>\n",
       "      <th>humidity_avg</th>\n",
       "      <th>humidity_low</th>\n",
       "      <th>visibility_high</th>\n",
       "      <th>visibility_avg</th>\n",
       "      <th>visibility_low</th>\n",
       "      <th>wind_high</th>\n",
       "      <th>wind_avg</th>\n",
       "      <th>precip_in</th>\n",
       "      <th>rain</th>\n",
       "      <th>thunderstorm</th>\n",
       "      <th>fog</th>\n",
       "    </tr>\n",
       "  </thead>\n",
       "  <tbody>\n",
       "    <tr>\n",
       "      <th>0</th>\n",
       "      <td>2016-04-29</td>\n",
       "      <td>75</td>\n",
       "      <td>73</td>\n",
       "      <td>71</td>\n",
       "      <td>88</td>\n",
       "      <td>76</td>\n",
       "      <td>64</td>\n",
       "      <td>12</td>\n",
       "      <td>7</td>\n",
       "      <td>6</td>\n",
       "      <td>16</td>\n",
       "      <td>11</td>\n",
       "      <td>0.01</td>\n",
       "      <td>0</td>\n",
       "      <td>0</td>\n",
       "      <td>0</td>\n",
       "    </tr>\n",
       "    <tr>\n",
       "      <th>1</th>\n",
       "      <td>2016-04-30</td>\n",
       "      <td>80</td>\n",
       "      <td>74</td>\n",
       "      <td>69</td>\n",
       "      <td>88</td>\n",
       "      <td>79</td>\n",
       "      <td>70</td>\n",
       "      <td>12</td>\n",
       "      <td>7</td>\n",
       "      <td>6</td>\n",
       "      <td>13</td>\n",
       "      <td>7</td>\n",
       "      <td>0.00</td>\n",
       "      <td>0</td>\n",
       "      <td>0</td>\n",
       "      <td>0</td>\n",
       "    </tr>\n",
       "    <tr>\n",
       "      <th>2</th>\n",
       "      <td>2016-05-01</td>\n",
       "      <td>77</td>\n",
       "      <td>73</td>\n",
       "      <td>69</td>\n",
       "      <td>83</td>\n",
       "      <td>67</td>\n",
       "      <td>52</td>\n",
       "      <td>12</td>\n",
       "      <td>6</td>\n",
       "      <td>4</td>\n",
       "      <td>17</td>\n",
       "      <td>13</td>\n",
       "      <td>0.00</td>\n",
       "      <td>1</td>\n",
       "      <td>0</td>\n",
       "      <td>0</td>\n",
       "    </tr>\n",
       "    <tr>\n",
       "      <th>3</th>\n",
       "      <td>2016-05-02</td>\n",
       "      <td>81</td>\n",
       "      <td>74</td>\n",
       "      <td>66</td>\n",
       "      <td>83</td>\n",
       "      <td>58</td>\n",
       "      <td>33</td>\n",
       "      <td>12</td>\n",
       "      <td>8</td>\n",
       "      <td>6</td>\n",
       "      <td>17</td>\n",
       "      <td>11</td>\n",
       "      <td>0.00</td>\n",
       "      <td>0</td>\n",
       "      <td>0</td>\n",
       "      <td>0</td>\n",
       "    </tr>\n",
       "    <tr>\n",
       "      <th>4</th>\n",
       "      <td>2016-05-03</td>\n",
       "      <td>79</td>\n",
       "      <td>70</td>\n",
       "      <td>62</td>\n",
       "      <td>88</td>\n",
       "      <td>80</td>\n",
       "      <td>61</td>\n",
       "      <td>12</td>\n",
       "      <td>7</td>\n",
       "      <td>6</td>\n",
       "      <td>17</td>\n",
       "      <td>5</td>\n",
       "      <td>0.00</td>\n",
       "      <td>0</td>\n",
       "      <td>0</td>\n",
       "      <td>0</td>\n",
       "    </tr>\n",
       "  </tbody>\n",
       "</table>\n",
       "</div>"
      ],
      "text/plain": [
       "         Date  temp_high  temp_avg  temp_low  humidity_high  humidity_avg  \\\n",
       "0  2016-04-29         75        73        71             88            76   \n",
       "1  2016-04-30         80        74        69             88            79   \n",
       "2  2016-05-01         77        73        69             83            67   \n",
       "3  2016-05-02         81        74        66             83            58   \n",
       "4  2016-05-03         79        70        62             88            80   \n",
       "\n",
       "   humidity_low  visibility_high  visibility_avg  visibility_low  wind_high  \\\n",
       "0            64               12               7               6         16   \n",
       "1            70               12               7               6         13   \n",
       "2            52               12               6               4         17   \n",
       "3            33               12               8               6         17   \n",
       "4            61               12               7               6         17   \n",
       "\n",
       "   wind_avg  precip_in  rain  thunderstorm  fog  \n",
       "0        11       0.01     0             0    0  \n",
       "1         7       0.00     0             0    0  \n",
       "2        13       0.00     1             0    0  \n",
       "3        11       0.00     0             0    0  \n",
       "4         5       0.00     0             0    0  "
      ]
     },
     "execution_count": 105,
     "metadata": {},
     "output_type": "execute_result"
    }
   ],
   "source": [
    "xlsx = pd.ExcelFile('vitoria_weather.xlsx')\n",
    "weather = pd.read_excel(xlsx, 'Sheet1', skiprows = 2)\n",
    "weather['Date'] = pd.to_datetime(weather['Date']).dt.date\n",
    "weather.head()"
   ]
  },
  {
   "cell_type": "code",
   "execution_count": 116,
   "metadata": {},
   "outputs": [
    {
     "data": {
      "text/plain": [
       "True"
      ]
     },
     "execution_count": 116,
     "metadata": {},
     "output_type": "execute_result"
    }
   ],
   "source": [
    "all(df['visibility_high'] == 12)"
   ]
  },
  {
   "cell_type": "code",
   "execution_count": 117,
   "metadata": {},
   "outputs": [],
   "source": [
    "# Remove the visibility_high field since it has the same value for every date\n",
    "df.drop('visibility_high', axis=1, inplace=True)"
   ]
  },
  {
   "cell_type": "code",
   "execution_count": 125,
   "metadata": {},
   "outputs": [],
   "source": [
    "df = pd.merge(df, weather, left_on='AppointmentDay', right_on='Date', how='left')"
   ]
  },
  {
   "cell_type": "code",
   "execution_count": 124,
   "metadata": {},
   "outputs": [
    {
     "data": {
      "text/plain": [
       "True"
      ]
     },
     "execution_count": 124,
     "metadata": {},
     "output_type": "execute_result"
    }
   ],
   "source": [
    "# There are no null values\n",
    "all(df.isnull().sum() == 0)"
   ]
  },
  {
   "cell_type": "markdown",
   "metadata": {},
   "source": [
    "### Differences Between Scheduled and Appointment Days"
   ]
  },
  {
   "cell_type": "code",
   "execution_count": 55,
   "metadata": {
    "scrolled": true
   },
   "outputs": [
    {
     "data": {
      "text/html": [
       "<div>\n",
       "<style scoped>\n",
       "    .dataframe tbody tr th:only-of-type {\n",
       "        vertical-align: middle;\n",
       "    }\n",
       "\n",
       "    .dataframe tbody tr th {\n",
       "        vertical-align: top;\n",
       "    }\n",
       "\n",
       "    .dataframe thead th {\n",
       "        text-align: right;\n",
       "    }\n",
       "</style>\n",
       "<table border=\"1\" class=\"dataframe\">\n",
       "  <thead>\n",
       "    <tr style=\"text-align: right;\">\n",
       "      <th></th>\n",
       "      <th>ScheduledDayDay</th>\n",
       "      <th>AppointmentDay</th>\n",
       "      <th>DayDiff</th>\n",
       "    </tr>\n",
       "  </thead>\n",
       "  <tbody>\n",
       "    <tr>\n",
       "      <th>0</th>\n",
       "      <td>2016-04-29</td>\n",
       "      <td>2016-04-29</td>\n",
       "      <td>0</td>\n",
       "    </tr>\n",
       "    <tr>\n",
       "      <th>1</th>\n",
       "      <td>2016-04-29</td>\n",
       "      <td>2016-04-29</td>\n",
       "      <td>0</td>\n",
       "    </tr>\n",
       "    <tr>\n",
       "      <th>2</th>\n",
       "      <td>2016-04-29</td>\n",
       "      <td>2016-04-29</td>\n",
       "      <td>0</td>\n",
       "    </tr>\n",
       "    <tr>\n",
       "      <th>3</th>\n",
       "      <td>2016-04-29</td>\n",
       "      <td>2016-04-29</td>\n",
       "      <td>0</td>\n",
       "    </tr>\n",
       "    <tr>\n",
       "      <th>4</th>\n",
       "      <td>2016-04-29</td>\n",
       "      <td>2016-04-29</td>\n",
       "      <td>0</td>\n",
       "    </tr>\n",
       "    <tr>\n",
       "      <th>5</th>\n",
       "      <td>2016-04-27</td>\n",
       "      <td>2016-04-29</td>\n",
       "      <td>2</td>\n",
       "    </tr>\n",
       "    <tr>\n",
       "      <th>6</th>\n",
       "      <td>2016-04-27</td>\n",
       "      <td>2016-04-29</td>\n",
       "      <td>2</td>\n",
       "    </tr>\n",
       "    <tr>\n",
       "      <th>7</th>\n",
       "      <td>2016-04-27</td>\n",
       "      <td>2016-04-29</td>\n",
       "      <td>2</td>\n",
       "    </tr>\n",
       "    <tr>\n",
       "      <th>8</th>\n",
       "      <td>2016-04-29</td>\n",
       "      <td>2016-04-29</td>\n",
       "      <td>0</td>\n",
       "    </tr>\n",
       "    <tr>\n",
       "      <th>9</th>\n",
       "      <td>2016-04-27</td>\n",
       "      <td>2016-04-29</td>\n",
       "      <td>2</td>\n",
       "    </tr>\n",
       "  </tbody>\n",
       "</table>\n",
       "</div>"
      ],
      "text/plain": [
       "  ScheduledDayDay AppointmentDay  DayDiff\n",
       "0      2016-04-29     2016-04-29        0\n",
       "1      2016-04-29     2016-04-29        0\n",
       "2      2016-04-29     2016-04-29        0\n",
       "3      2016-04-29     2016-04-29        0\n",
       "4      2016-04-29     2016-04-29        0\n",
       "5      2016-04-27     2016-04-29        2\n",
       "6      2016-04-27     2016-04-29        2\n",
       "7      2016-04-27     2016-04-29        2\n",
       "8      2016-04-29     2016-04-29        0\n",
       "9      2016-04-27     2016-04-29        2"
      ]
     },
     "execution_count": 55,
     "metadata": {},
     "output_type": "execute_result"
    }
   ],
   "source": [
    "# Add a field for the number of days between scheduling and the appointment\n",
    "df['AppointmentDay'] = (df['AppointmentDay']).dt.date\n",
    "df['ScheduledDayDay'] = (df['ScheduledDay']).dt.date\n",
    "df['DayDiff'] = ((df['AppointmentDay'] - df['ScheduledDayDay'])/np.timedelta64(1, 'D')).astype(int)\n",
    "df[['ScheduledDayDay', 'AppointmentDay', 'DayDiff']].head(10)"
   ]
  },
  {
   "cell_type": "markdown",
   "metadata": {},
   "source": [
    "### Day of Week and Weekend"
   ]
  },
  {
   "cell_type": "code",
   "execution_count": 76,
   "metadata": {},
   "outputs": [],
   "source": [
    "# Add a field for whether the AppointmentDay is during the weekend (1) or not (0)\n",
    "df['Weekend'] = (df['AppointmentDay']).dt.day\n",
    "\n",
    "df['Day_of_Week'] = pd.to_datetime(df['AppointmentDay']).dt.dayofweek\n",
    "df['Weekend'] = np.where(pd.to_datetime(df['AppointmentDay']).dt.dayofweek >= 5, 1, 0)"
   ]
  },
  {
   "cell_type": "code",
   "execution_count": 83,
   "metadata": {},
   "outputs": [
    {
     "data": {
      "text/plain": [
       "39"
      ]
     },
     "execution_count": 83,
     "metadata": {},
     "output_type": "execute_result"
    }
   ],
   "source": [
    "df['Weekend'].sum()"
   ]
  },
  {
   "cell_type": "markdown",
   "metadata": {},
   "source": [
    "<a id='eda'></a>"
   ]
  },
  {
   "cell_type": "markdown",
   "metadata": {},
   "source": [
    "## Exploratory Data Analysis\n",
    "***"
   ]
  },
  {
   "cell_type": "markdown",
   "metadata": {},
   "source": [
    "### Class Label Breakdown"
   ]
  },
  {
   "cell_type": "code",
   "execution_count": 57,
   "metadata": {},
   "outputs": [
    {
     "data": {
      "text/plain": [
       "NoShow\n",
       "0    88207\n",
       "1    22319\n",
       "Name: NoShow, dtype: int64"
      ]
     },
     "execution_count": 57,
     "metadata": {},
     "output_type": "execute_result"
    }
   ],
   "source": [
    "# Count of labels\n",
    "df.groupby('NoShow')['NoShow'].count()"
   ]
  },
  {
   "cell_type": "code",
   "execution_count": 58,
   "metadata": {},
   "outputs": [
    {
     "data": {
      "text/plain": [
       "NoShow\n",
       "0    0.798058\n",
       "1    0.201933\n",
       "Name: NoShow, dtype: float64"
      ]
     },
     "execution_count": 58,
     "metadata": {},
     "output_type": "execute_result"
    }
   ],
   "source": [
    "# Proportion of labels\n",
    "df.groupby('NoShow')['NoShow'].count()/n"
   ]
  },
  {
   "cell_type": "markdown",
   "metadata": {},
   "source": [
    "### Correlation between variables"
   ]
  },
  {
   "cell_type": "code",
   "execution_count": 118,
   "metadata": {
    "scrolled": true
   },
   "outputs": [
    {
     "data": {
      "text/html": [
       "<div>\n",
       "<style scoped>\n",
       "    .dataframe tbody tr th:only-of-type {\n",
       "        vertical-align: middle;\n",
       "    }\n",
       "\n",
       "    .dataframe tbody tr th {\n",
       "        vertical-align: top;\n",
       "    }\n",
       "\n",
       "    .dataframe thead th {\n",
       "        text-align: right;\n",
       "    }\n",
       "</style>\n",
       "<table border=\"1\" class=\"dataframe\">\n",
       "  <thead>\n",
       "    <tr style=\"text-align: right;\">\n",
       "      <th></th>\n",
       "      <th>Gender</th>\n",
       "      <th>Age</th>\n",
       "      <th>BolsaFamilia</th>\n",
       "      <th>Hypertension</th>\n",
       "      <th>Diabetes</th>\n",
       "      <th>Alcoholism</th>\n",
       "      <th>NumHandicaps</th>\n",
       "      <th>SMSReceived</th>\n",
       "      <th>NoShow</th>\n",
       "      <th>DayDiff</th>\n",
       "      <th>...</th>\n",
       "      <th>humidity_avg</th>\n",
       "      <th>humidity_low</th>\n",
       "      <th>visibility_avg</th>\n",
       "      <th>visibility_low</th>\n",
       "      <th>wind_high</th>\n",
       "      <th>wind_avg</th>\n",
       "      <th>precip_in</th>\n",
       "      <th>rain</th>\n",
       "      <th>thunderstorm</th>\n",
       "      <th>fog</th>\n",
       "    </tr>\n",
       "  </thead>\n",
       "  <tbody>\n",
       "    <tr>\n",
       "      <th>Gender</th>\n",
       "      <td>1.000000</td>\n",
       "      <td>0.106452</td>\n",
       "      <td>0.114296</td>\n",
       "      <td>0.055722</td>\n",
       "      <td>0.032556</td>\n",
       "      <td>-0.106166</td>\n",
       "      <td>-0.022813</td>\n",
       "      <td>0.046302</td>\n",
       "      <td>0.004122</td>\n",
       "      <td>0.028411</td>\n",
       "      <td>...</td>\n",
       "      <td>0.003414</td>\n",
       "      <td>0.003266</td>\n",
       "      <td>-0.002897</td>\n",
       "      <td>-0.002306</td>\n",
       "      <td>0.006072</td>\n",
       "      <td>0.003306</td>\n",
       "      <td>-0.003270</td>\n",
       "      <td>0.000160</td>\n",
       "      <td>-0.002198</td>\n",
       "      <td>0.001648</td>\n",
       "    </tr>\n",
       "    <tr>\n",
       "      <th>Age</th>\n",
       "      <td>0.106452</td>\n",
       "      <td>1.000000</td>\n",
       "      <td>-0.092463</td>\n",
       "      <td>0.504586</td>\n",
       "      <td>0.292391</td>\n",
       "      <td>0.095810</td>\n",
       "      <td>0.078032</td>\n",
       "      <td>0.012633</td>\n",
       "      <td>-0.060327</td>\n",
       "      <td>0.034811</td>\n",
       "      <td>...</td>\n",
       "      <td>0.001476</td>\n",
       "      <td>-0.000552</td>\n",
       "      <td>0.003137</td>\n",
       "      <td>0.004217</td>\n",
       "      <td>-0.009753</td>\n",
       "      <td>-0.007812</td>\n",
       "      <td>-0.004378</td>\n",
       "      <td>-0.003969</td>\n",
       "      <td>0.003826</td>\n",
       "      <td>0.006267</td>\n",
       "    </tr>\n",
       "    <tr>\n",
       "      <th>BolsaFamilia</th>\n",
       "      <td>0.114296</td>\n",
       "      <td>-0.092463</td>\n",
       "      <td>1.000000</td>\n",
       "      <td>-0.019730</td>\n",
       "      <td>-0.024894</td>\n",
       "      <td>0.035022</td>\n",
       "      <td>-0.008587</td>\n",
       "      <td>0.001192</td>\n",
       "      <td>0.029134</td>\n",
       "      <td>-0.030423</td>\n",
       "      <td>...</td>\n",
       "      <td>-0.001823</td>\n",
       "      <td>-0.002832</td>\n",
       "      <td>0.000481</td>\n",
       "      <td>0.001595</td>\n",
       "      <td>0.005123</td>\n",
       "      <td>-0.000254</td>\n",
       "      <td>0.000042</td>\n",
       "      <td>0.000945</td>\n",
       "      <td>-0.000609</td>\n",
       "      <td>0.002130</td>\n",
       "    </tr>\n",
       "    <tr>\n",
       "      <th>Hypertension</th>\n",
       "      <td>0.055722</td>\n",
       "      <td>0.504586</td>\n",
       "      <td>-0.019730</td>\n",
       "      <td>1.000000</td>\n",
       "      <td>0.433085</td>\n",
       "      <td>0.087970</td>\n",
       "      <td>0.080083</td>\n",
       "      <td>-0.006270</td>\n",
       "      <td>-0.035704</td>\n",
       "      <td>-0.017218</td>\n",
       "      <td>...</td>\n",
       "      <td>-0.004333</td>\n",
       "      <td>-0.001843</td>\n",
       "      <td>-0.000086</td>\n",
       "      <td>0.005030</td>\n",
       "      <td>-0.002663</td>\n",
       "      <td>-0.003106</td>\n",
       "      <td>-0.001275</td>\n",
       "      <td>-0.003582</td>\n",
       "      <td>-0.000102</td>\n",
       "      <td>0.005065</td>\n",
       "    </tr>\n",
       "    <tr>\n",
       "      <th>Diabetes</th>\n",
       "      <td>0.032556</td>\n",
       "      <td>0.292391</td>\n",
       "      <td>-0.024894</td>\n",
       "      <td>0.433085</td>\n",
       "      <td>1.000000</td>\n",
       "      <td>0.018473</td>\n",
       "      <td>0.057530</td>\n",
       "      <td>-0.014552</td>\n",
       "      <td>-0.015181</td>\n",
       "      <td>-0.027190</td>\n",
       "      <td>...</td>\n",
       "      <td>-0.000748</td>\n",
       "      <td>0.002562</td>\n",
       "      <td>-0.001931</td>\n",
       "      <td>0.000861</td>\n",
       "      <td>-0.000582</td>\n",
       "      <td>0.000292</td>\n",
       "      <td>-0.001512</td>\n",
       "      <td>-0.000743</td>\n",
       "      <td>-0.000075</td>\n",
       "      <td>-0.001364</td>\n",
       "    </tr>\n",
       "    <tr>\n",
       "      <th>Alcoholism</th>\n",
       "      <td>-0.106166</td>\n",
       "      <td>0.095810</td>\n",
       "      <td>0.035022</td>\n",
       "      <td>0.087970</td>\n",
       "      <td>0.018473</td>\n",
       "      <td>1.000000</td>\n",
       "      <td>0.004647</td>\n",
       "      <td>-0.026149</td>\n",
       "      <td>-0.000197</td>\n",
       "      <td>-0.038520</td>\n",
       "      <td>...</td>\n",
       "      <td>-0.001072</td>\n",
       "      <td>-0.000886</td>\n",
       "      <td>0.000624</td>\n",
       "      <td>0.001194</td>\n",
       "      <td>-0.008011</td>\n",
       "      <td>-0.001733</td>\n",
       "      <td>-0.000256</td>\n",
       "      <td>0.006922</td>\n",
       "      <td>-0.001414</td>\n",
       "      <td>0.000251</td>\n",
       "    </tr>\n",
       "    <tr>\n",
       "      <th>NumHandicaps</th>\n",
       "      <td>-0.022813</td>\n",
       "      <td>0.078032</td>\n",
       "      <td>-0.008587</td>\n",
       "      <td>0.080083</td>\n",
       "      <td>0.057530</td>\n",
       "      <td>0.004647</td>\n",
       "      <td>1.000000</td>\n",
       "      <td>-0.024162</td>\n",
       "      <td>-0.006077</td>\n",
       "      <td>-0.019844</td>\n",
       "      <td>...</td>\n",
       "      <td>0.000019</td>\n",
       "      <td>0.004065</td>\n",
       "      <td>-0.001778</td>\n",
       "      <td>0.000442</td>\n",
       "      <td>-0.000472</td>\n",
       "      <td>0.003834</td>\n",
       "      <td>-0.000940</td>\n",
       "      <td>-0.001154</td>\n",
       "      <td>-0.001666</td>\n",
       "      <td>-0.001800</td>\n",
       "    </tr>\n",
       "    <tr>\n",
       "      <th>SMSReceived</th>\n",
       "      <td>0.046302</td>\n",
       "      <td>0.012633</td>\n",
       "      <td>0.001192</td>\n",
       "      <td>-0.006270</td>\n",
       "      <td>-0.014552</td>\n",
       "      <td>-0.026149</td>\n",
       "      <td>-0.024162</td>\n",
       "      <td>1.000000</td>\n",
       "      <td>0.126428</td>\n",
       "      <td>0.398143</td>\n",
       "      <td>...</td>\n",
       "      <td>-0.083565</td>\n",
       "      <td>-0.102985</td>\n",
       "      <td>0.028104</td>\n",
       "      <td>-0.028857</td>\n",
       "      <td>0.127514</td>\n",
       "      <td>0.019436</td>\n",
       "      <td>0.001409</td>\n",
       "      <td>-0.039460</td>\n",
       "      <td>0.032427</td>\n",
       "      <td>0.082908</td>\n",
       "    </tr>\n",
       "    <tr>\n",
       "      <th>NoShow</th>\n",
       "      <td>0.004122</td>\n",
       "      <td>-0.060327</td>\n",
       "      <td>0.029134</td>\n",
       "      <td>-0.035704</td>\n",
       "      <td>-0.015181</td>\n",
       "      <td>-0.000197</td>\n",
       "      <td>-0.006077</td>\n",
       "      <td>0.126428</td>\n",
       "      <td>1.000000</td>\n",
       "      <td>0.186228</td>\n",
       "      <td>...</td>\n",
       "      <td>-0.010622</td>\n",
       "      <td>-0.008422</td>\n",
       "      <td>0.005194</td>\n",
       "      <td>0.007781</td>\n",
       "      <td>0.001550</td>\n",
       "      <td>0.003531</td>\n",
       "      <td>-0.004856</td>\n",
       "      <td>-0.003870</td>\n",
       "      <td>-0.011599</td>\n",
       "      <td>-0.011341</td>\n",
       "    </tr>\n",
       "    <tr>\n",
       "      <th>DayDiff</th>\n",
       "      <td>0.028411</td>\n",
       "      <td>0.034811</td>\n",
       "      <td>-0.030423</td>\n",
       "      <td>-0.017218</td>\n",
       "      <td>-0.027190</td>\n",
       "      <td>-0.038520</td>\n",
       "      <td>-0.019844</td>\n",
       "      <td>0.398143</td>\n",
       "      <td>0.186228</td>\n",
       "      <td>1.000000</td>\n",
       "      <td>...</td>\n",
       "      <td>0.016787</td>\n",
       "      <td>-0.000350</td>\n",
       "      <td>0.004529</td>\n",
       "      <td>-0.015857</td>\n",
       "      <td>-0.018070</td>\n",
       "      <td>-0.012200</td>\n",
       "      <td>-0.011022</td>\n",
       "      <td>-0.005197</td>\n",
       "      <td>-0.004347</td>\n",
       "      <td>0.037534</td>\n",
       "    </tr>\n",
       "    <tr>\n",
       "      <th>Day_of_Week</th>\n",
       "      <td>-0.003907</td>\n",
       "      <td>0.003068</td>\n",
       "      <td>-0.000677</td>\n",
       "      <td>0.003449</td>\n",
       "      <td>0.006611</td>\n",
       "      <td>0.002699</td>\n",
       "      <td>0.004350</td>\n",
       "      <td>-0.089867</td>\n",
       "      <td>0.001158</td>\n",
       "      <td>-0.011332</td>\n",
       "      <td>...</td>\n",
       "      <td>0.301168</td>\n",
       "      <td>0.607654</td>\n",
       "      <td>-0.364178</td>\n",
       "      <td>-0.051155</td>\n",
       "      <td>-0.327166</td>\n",
       "      <td>-0.070573</td>\n",
       "      <td>0.222714</td>\n",
       "      <td>0.286462</td>\n",
       "      <td>0.137248</td>\n",
       "      <td>-0.125570</td>\n",
       "    </tr>\n",
       "    <tr>\n",
       "      <th>Weekend</th>\n",
       "      <td>0.003687</td>\n",
       "      <td>0.013415</td>\n",
       "      <td>-0.001347</td>\n",
       "      <td>0.013689</td>\n",
       "      <td>0.007829</td>\n",
       "      <td>0.002285</td>\n",
       "      <td>0.000395</td>\n",
       "      <td>0.000495</td>\n",
       "      <td>0.001349</td>\n",
       "      <td>-0.007332</td>\n",
       "      <td>...</td>\n",
       "      <td>-0.035921</td>\n",
       "      <td>-0.016324</td>\n",
       "      <td>-0.005771</td>\n",
       "      <td>0.010113</td>\n",
       "      <td>0.013271</td>\n",
       "      <td>0.010122</td>\n",
       "      <td>-0.004842</td>\n",
       "      <td>-0.006770</td>\n",
       "      <td>-0.005546</td>\n",
       "      <td>-0.003770</td>\n",
       "    </tr>\n",
       "    <tr>\n",
       "      <th>temp_high</th>\n",
       "      <td>-0.002001</td>\n",
       "      <td>0.000534</td>\n",
       "      <td>-0.000889</td>\n",
       "      <td>-0.005630</td>\n",
       "      <td>-0.003867</td>\n",
       "      <td>-0.002235</td>\n",
       "      <td>-0.006700</td>\n",
       "      <td>-0.002649</td>\n",
       "      <td>0.011780</td>\n",
       "      <td>0.010244</td>\n",
       "      <td>...</td>\n",
       "      <td>-0.053032</td>\n",
       "      <td>-0.568175</td>\n",
       "      <td>0.460317</td>\n",
       "      <td>-0.011686</td>\n",
       "      <td>0.099412</td>\n",
       "      <td>-0.358334</td>\n",
       "      <td>-0.103677</td>\n",
       "      <td>-0.276006</td>\n",
       "      <td>0.139973</td>\n",
       "      <td>0.071682</td>\n",
       "    </tr>\n",
       "    <tr>\n",
       "      <th>temp_avg</th>\n",
       "      <td>0.000319</td>\n",
       "      <td>-0.003182</td>\n",
       "      <td>-0.005749</td>\n",
       "      <td>-0.009501</td>\n",
       "      <td>-0.004188</td>\n",
       "      <td>-0.004086</td>\n",
       "      <td>-0.004713</td>\n",
       "      <td>-0.076432</td>\n",
       "      <td>0.010289</td>\n",
       "      <td>0.003039</td>\n",
       "      <td>...</td>\n",
       "      <td>0.058403</td>\n",
       "      <td>-0.285833</td>\n",
       "      <td>0.220333</td>\n",
       "      <td>-0.157137</td>\n",
       "      <td>0.183375</td>\n",
       "      <td>-0.088194</td>\n",
       "      <td>-0.009464</td>\n",
       "      <td>-0.186001</td>\n",
       "      <td>0.090664</td>\n",
       "      <td>-0.050503</td>\n",
       "    </tr>\n",
       "    <tr>\n",
       "      <th>temp_low</th>\n",
       "      <td>0.003947</td>\n",
       "      <td>-0.005476</td>\n",
       "      <td>-0.008570</td>\n",
       "      <td>-0.008479</td>\n",
       "      <td>0.000168</td>\n",
       "      <td>-0.003651</td>\n",
       "      <td>0.001430</td>\n",
       "      <td>-0.131265</td>\n",
       "      <td>0.001618</td>\n",
       "      <td>-0.008810</td>\n",
       "      <td>...</td>\n",
       "      <td>0.286666</td>\n",
       "      <td>0.435570</td>\n",
       "      <td>-0.354797</td>\n",
       "      <td>-0.338580</td>\n",
       "      <td>0.153363</td>\n",
       "      <td>0.267941</td>\n",
       "      <td>0.156641</td>\n",
       "      <td>0.122711</td>\n",
       "      <td>0.002779</td>\n",
       "      <td>-0.135771</td>\n",
       "    </tr>\n",
       "    <tr>\n",
       "      <th>humidity_high</th>\n",
       "      <td>0.000880</td>\n",
       "      <td>0.000766</td>\n",
       "      <td>-0.000896</td>\n",
       "      <td>-0.002538</td>\n",
       "      <td>0.001850</td>\n",
       "      <td>0.000167</td>\n",
       "      <td>-0.003768</td>\n",
       "      <td>-0.070670</td>\n",
       "      <td>-0.004509</td>\n",
       "      <td>0.030802</td>\n",
       "      <td>...</td>\n",
       "      <td>0.788319</td>\n",
       "      <td>0.404254</td>\n",
       "      <td>-0.169518</td>\n",
       "      <td>-0.369161</td>\n",
       "      <td>-0.264805</td>\n",
       "      <td>-0.725878</td>\n",
       "      <td>0.005330</td>\n",
       "      <td>0.080582</td>\n",
       "      <td>0.138302</td>\n",
       "      <td>0.214394</td>\n",
       "    </tr>\n",
       "    <tr>\n",
       "      <th>humidity_avg</th>\n",
       "      <td>0.003414</td>\n",
       "      <td>0.001476</td>\n",
       "      <td>-0.001823</td>\n",
       "      <td>-0.004333</td>\n",
       "      <td>-0.000748</td>\n",
       "      <td>-0.001072</td>\n",
       "      <td>0.000019</td>\n",
       "      <td>-0.083565</td>\n",
       "      <td>-0.010622</td>\n",
       "      <td>0.016787</td>\n",
       "      <td>...</td>\n",
       "      <td>1.000000</td>\n",
       "      <td>0.786885</td>\n",
       "      <td>-0.444543</td>\n",
       "      <td>-0.464672</td>\n",
       "      <td>-0.242738</td>\n",
       "      <td>-0.609207</td>\n",
       "      <td>0.186256</td>\n",
       "      <td>0.273442</td>\n",
       "      <td>0.178762</td>\n",
       "      <td>0.136972</td>\n",
       "    </tr>\n",
       "    <tr>\n",
       "      <th>humidity_low</th>\n",
       "      <td>0.003266</td>\n",
       "      <td>-0.000552</td>\n",
       "      <td>-0.002832</td>\n",
       "      <td>-0.001843</td>\n",
       "      <td>0.002562</td>\n",
       "      <td>-0.000886</td>\n",
       "      <td>0.004065</td>\n",
       "      <td>-0.102985</td>\n",
       "      <td>-0.008422</td>\n",
       "      <td>-0.000350</td>\n",
       "      <td>...</td>\n",
       "      <td>0.786885</td>\n",
       "      <td>1.000000</td>\n",
       "      <td>-0.673348</td>\n",
       "      <td>-0.400044</td>\n",
       "      <td>-0.173775</td>\n",
       "      <td>-0.195941</td>\n",
       "      <td>0.203356</td>\n",
       "      <td>0.344156</td>\n",
       "      <td>0.015851</td>\n",
       "      <td>0.011807</td>\n",
       "    </tr>\n",
       "    <tr>\n",
       "      <th>visibility_avg</th>\n",
       "      <td>-0.002897</td>\n",
       "      <td>0.003137</td>\n",
       "      <td>0.000481</td>\n",
       "      <td>-0.000086</td>\n",
       "      <td>-0.001931</td>\n",
       "      <td>0.000624</td>\n",
       "      <td>-0.001778</td>\n",
       "      <td>0.028104</td>\n",
       "      <td>0.005194</td>\n",
       "      <td>0.004529</td>\n",
       "      <td>...</td>\n",
       "      <td>-0.444543</td>\n",
       "      <td>-0.673348</td>\n",
       "      <td>1.000000</td>\n",
       "      <td>0.681402</td>\n",
       "      <td>-0.121493</td>\n",
       "      <td>-0.041459</td>\n",
       "      <td>-0.361430</td>\n",
       "      <td>-0.399206</td>\n",
       "      <td>-0.087785</td>\n",
       "      <td>-0.309878</td>\n",
       "    </tr>\n",
       "    <tr>\n",
       "      <th>visibility_low</th>\n",
       "      <td>-0.002306</td>\n",
       "      <td>0.004217</td>\n",
       "      <td>0.001595</td>\n",
       "      <td>0.005030</td>\n",
       "      <td>0.000861</td>\n",
       "      <td>0.001194</td>\n",
       "      <td>0.000442</td>\n",
       "      <td>-0.028857</td>\n",
       "      <td>0.007781</td>\n",
       "      <td>-0.015857</td>\n",
       "      <td>...</td>\n",
       "      <td>-0.464672</td>\n",
       "      <td>-0.400044</td>\n",
       "      <td>0.681402</td>\n",
       "      <td>1.000000</td>\n",
       "      <td>-0.150207</td>\n",
       "      <td>0.187232</td>\n",
       "      <td>-0.540582</td>\n",
       "      <td>-0.487315</td>\n",
       "      <td>-0.268761</td>\n",
       "      <td>-0.478115</td>\n",
       "    </tr>\n",
       "    <tr>\n",
       "      <th>wind_high</th>\n",
       "      <td>0.006072</td>\n",
       "      <td>-0.009753</td>\n",
       "      <td>0.005123</td>\n",
       "      <td>-0.002663</td>\n",
       "      <td>-0.000582</td>\n",
       "      <td>-0.008011</td>\n",
       "      <td>-0.000472</td>\n",
       "      <td>0.127514</td>\n",
       "      <td>0.001550</td>\n",
       "      <td>-0.018070</td>\n",
       "      <td>...</td>\n",
       "      <td>-0.242738</td>\n",
       "      <td>-0.173775</td>\n",
       "      <td>-0.121493</td>\n",
       "      <td>-0.150207</td>\n",
       "      <td>1.000000</td>\n",
       "      <td>0.475482</td>\n",
       "      <td>0.254768</td>\n",
       "      <td>0.046480</td>\n",
       "      <td>0.037257</td>\n",
       "      <td>-0.086878</td>\n",
       "    </tr>\n",
       "    <tr>\n",
       "      <th>wind_avg</th>\n",
       "      <td>0.003306</td>\n",
       "      <td>-0.007812</td>\n",
       "      <td>-0.000254</td>\n",
       "      <td>-0.003106</td>\n",
       "      <td>0.000292</td>\n",
       "      <td>-0.001733</td>\n",
       "      <td>0.003834</td>\n",
       "      <td>0.019436</td>\n",
       "      <td>0.003531</td>\n",
       "      <td>-0.012200</td>\n",
       "      <td>...</td>\n",
       "      <td>-0.609207</td>\n",
       "      <td>-0.195941</td>\n",
       "      <td>-0.041459</td>\n",
       "      <td>0.187232</td>\n",
       "      <td>0.475482</td>\n",
       "      <td>1.000000</td>\n",
       "      <td>-0.130593</td>\n",
       "      <td>-0.038991</td>\n",
       "      <td>-0.307487</td>\n",
       "      <td>-0.208431</td>\n",
       "    </tr>\n",
       "    <tr>\n",
       "      <th>precip_in</th>\n",
       "      <td>-0.003270</td>\n",
       "      <td>-0.004378</td>\n",
       "      <td>0.000042</td>\n",
       "      <td>-0.001275</td>\n",
       "      <td>-0.001512</td>\n",
       "      <td>-0.000256</td>\n",
       "      <td>-0.000940</td>\n",
       "      <td>0.001409</td>\n",
       "      <td>-0.004856</td>\n",
       "      <td>-0.011022</td>\n",
       "      <td>...</td>\n",
       "      <td>0.186256</td>\n",
       "      <td>0.203356</td>\n",
       "      <td>-0.361430</td>\n",
       "      <td>-0.540582</td>\n",
       "      <td>0.254768</td>\n",
       "      <td>-0.130593</td>\n",
       "      <td>1.000000</td>\n",
       "      <td>0.691519</td>\n",
       "      <td>0.686037</td>\n",
       "      <td>-0.051717</td>\n",
       "    </tr>\n",
       "    <tr>\n",
       "      <th>rain</th>\n",
       "      <td>0.000160</td>\n",
       "      <td>-0.003969</td>\n",
       "      <td>0.000945</td>\n",
       "      <td>-0.003582</td>\n",
       "      <td>-0.000743</td>\n",
       "      <td>0.006922</td>\n",
       "      <td>-0.001154</td>\n",
       "      <td>-0.039460</td>\n",
       "      <td>-0.003870</td>\n",
       "      <td>-0.005197</td>\n",
       "      <td>...</td>\n",
       "      <td>0.273442</td>\n",
       "      <td>0.344156</td>\n",
       "      <td>-0.399206</td>\n",
       "      <td>-0.487315</td>\n",
       "      <td>0.046480</td>\n",
       "      <td>-0.038991</td>\n",
       "      <td>0.691519</td>\n",
       "      <td>1.000000</td>\n",
       "      <td>0.352756</td>\n",
       "      <td>-0.072311</td>\n",
       "    </tr>\n",
       "    <tr>\n",
       "      <th>thunderstorm</th>\n",
       "      <td>-0.002198</td>\n",
       "      <td>0.003826</td>\n",
       "      <td>-0.000609</td>\n",
       "      <td>-0.000102</td>\n",
       "      <td>-0.000075</td>\n",
       "      <td>-0.001414</td>\n",
       "      <td>-0.001666</td>\n",
       "      <td>0.032427</td>\n",
       "      <td>-0.011599</td>\n",
       "      <td>-0.004347</td>\n",
       "      <td>...</td>\n",
       "      <td>0.178762</td>\n",
       "      <td>0.015851</td>\n",
       "      <td>-0.087785</td>\n",
       "      <td>-0.268761</td>\n",
       "      <td>0.037257</td>\n",
       "      <td>-0.307487</td>\n",
       "      <td>0.686037</td>\n",
       "      <td>0.352756</td>\n",
       "      <td>1.000000</td>\n",
       "      <td>-0.059236</td>\n",
       "    </tr>\n",
       "    <tr>\n",
       "      <th>fog</th>\n",
       "      <td>0.001648</td>\n",
       "      <td>0.006267</td>\n",
       "      <td>0.002130</td>\n",
       "      <td>0.005065</td>\n",
       "      <td>-0.001364</td>\n",
       "      <td>0.000251</td>\n",
       "      <td>-0.001800</td>\n",
       "      <td>0.082908</td>\n",
       "      <td>-0.011341</td>\n",
       "      <td>0.037534</td>\n",
       "      <td>...</td>\n",
       "      <td>0.136972</td>\n",
       "      <td>0.011807</td>\n",
       "      <td>-0.309878</td>\n",
       "      <td>-0.478115</td>\n",
       "      <td>-0.086878</td>\n",
       "      <td>-0.208431</td>\n",
       "      <td>-0.051717</td>\n",
       "      <td>-0.072311</td>\n",
       "      <td>-0.059236</td>\n",
       "      <td>1.000000</td>\n",
       "    </tr>\n",
       "  </tbody>\n",
       "</table>\n",
       "<p>26 rows × 26 columns</p>\n",
       "</div>"
      ],
      "text/plain": [
       "                  Gender       Age  BolsaFamilia  Hypertension  Diabetes  \\\n",
       "Gender          1.000000  0.106452      0.114296      0.055722  0.032556   \n",
       "Age             0.106452  1.000000     -0.092463      0.504586  0.292391   \n",
       "BolsaFamilia    0.114296 -0.092463      1.000000     -0.019730 -0.024894   \n",
       "Hypertension    0.055722  0.504586     -0.019730      1.000000  0.433085   \n",
       "Diabetes        0.032556  0.292391     -0.024894      0.433085  1.000000   \n",
       "Alcoholism     -0.106166  0.095810      0.035022      0.087970  0.018473   \n",
       "NumHandicaps   -0.022813  0.078032     -0.008587      0.080083  0.057530   \n",
       "SMSReceived     0.046302  0.012633      0.001192     -0.006270 -0.014552   \n",
       "NoShow          0.004122 -0.060327      0.029134     -0.035704 -0.015181   \n",
       "DayDiff         0.028411  0.034811     -0.030423     -0.017218 -0.027190   \n",
       "Day_of_Week    -0.003907  0.003068     -0.000677      0.003449  0.006611   \n",
       "Weekend         0.003687  0.013415     -0.001347      0.013689  0.007829   \n",
       "temp_high      -0.002001  0.000534     -0.000889     -0.005630 -0.003867   \n",
       "temp_avg        0.000319 -0.003182     -0.005749     -0.009501 -0.004188   \n",
       "temp_low        0.003947 -0.005476     -0.008570     -0.008479  0.000168   \n",
       "humidity_high   0.000880  0.000766     -0.000896     -0.002538  0.001850   \n",
       "humidity_avg    0.003414  0.001476     -0.001823     -0.004333 -0.000748   \n",
       "humidity_low    0.003266 -0.000552     -0.002832     -0.001843  0.002562   \n",
       "visibility_avg -0.002897  0.003137      0.000481     -0.000086 -0.001931   \n",
       "visibility_low -0.002306  0.004217      0.001595      0.005030  0.000861   \n",
       "wind_high       0.006072 -0.009753      0.005123     -0.002663 -0.000582   \n",
       "wind_avg        0.003306 -0.007812     -0.000254     -0.003106  0.000292   \n",
       "precip_in      -0.003270 -0.004378      0.000042     -0.001275 -0.001512   \n",
       "rain            0.000160 -0.003969      0.000945     -0.003582 -0.000743   \n",
       "thunderstorm   -0.002198  0.003826     -0.000609     -0.000102 -0.000075   \n",
       "fog             0.001648  0.006267      0.002130      0.005065 -0.001364   \n",
       "\n",
       "                Alcoholism  NumHandicaps  SMSReceived    NoShow   DayDiff  \\\n",
       "Gender           -0.106166     -0.022813     0.046302  0.004122  0.028411   \n",
       "Age               0.095810      0.078032     0.012633 -0.060327  0.034811   \n",
       "BolsaFamilia      0.035022     -0.008587     0.001192  0.029134 -0.030423   \n",
       "Hypertension      0.087970      0.080083    -0.006270 -0.035704 -0.017218   \n",
       "Diabetes          0.018473      0.057530    -0.014552 -0.015181 -0.027190   \n",
       "Alcoholism        1.000000      0.004647    -0.026149 -0.000197 -0.038520   \n",
       "NumHandicaps      0.004647      1.000000    -0.024162 -0.006077 -0.019844   \n",
       "SMSReceived      -0.026149     -0.024162     1.000000  0.126428  0.398143   \n",
       "NoShow           -0.000197     -0.006077     0.126428  1.000000  0.186228   \n",
       "DayDiff          -0.038520     -0.019844     0.398143  0.186228  1.000000   \n",
       "Day_of_Week       0.002699      0.004350    -0.089867  0.001158 -0.011332   \n",
       "Weekend           0.002285      0.000395     0.000495  0.001349 -0.007332   \n",
       "temp_high        -0.002235     -0.006700    -0.002649  0.011780  0.010244   \n",
       "temp_avg         -0.004086     -0.004713    -0.076432  0.010289  0.003039   \n",
       "temp_low         -0.003651      0.001430    -0.131265  0.001618 -0.008810   \n",
       "humidity_high     0.000167     -0.003768    -0.070670 -0.004509  0.030802   \n",
       "humidity_avg     -0.001072      0.000019    -0.083565 -0.010622  0.016787   \n",
       "humidity_low     -0.000886      0.004065    -0.102985 -0.008422 -0.000350   \n",
       "visibility_avg    0.000624     -0.001778     0.028104  0.005194  0.004529   \n",
       "visibility_low    0.001194      0.000442    -0.028857  0.007781 -0.015857   \n",
       "wind_high        -0.008011     -0.000472     0.127514  0.001550 -0.018070   \n",
       "wind_avg         -0.001733      0.003834     0.019436  0.003531 -0.012200   \n",
       "precip_in        -0.000256     -0.000940     0.001409 -0.004856 -0.011022   \n",
       "rain              0.006922     -0.001154    -0.039460 -0.003870 -0.005197   \n",
       "thunderstorm     -0.001414     -0.001666     0.032427 -0.011599 -0.004347   \n",
       "fog               0.000251     -0.001800     0.082908 -0.011341  0.037534   \n",
       "\n",
       "                  ...     humidity_avg  humidity_low  visibility_avg  \\\n",
       "Gender            ...         0.003414      0.003266       -0.002897   \n",
       "Age               ...         0.001476     -0.000552        0.003137   \n",
       "BolsaFamilia      ...        -0.001823     -0.002832        0.000481   \n",
       "Hypertension      ...        -0.004333     -0.001843       -0.000086   \n",
       "Diabetes          ...        -0.000748      0.002562       -0.001931   \n",
       "Alcoholism        ...        -0.001072     -0.000886        0.000624   \n",
       "NumHandicaps      ...         0.000019      0.004065       -0.001778   \n",
       "SMSReceived       ...        -0.083565     -0.102985        0.028104   \n",
       "NoShow            ...        -0.010622     -0.008422        0.005194   \n",
       "DayDiff           ...         0.016787     -0.000350        0.004529   \n",
       "Day_of_Week       ...         0.301168      0.607654       -0.364178   \n",
       "Weekend           ...        -0.035921     -0.016324       -0.005771   \n",
       "temp_high         ...        -0.053032     -0.568175        0.460317   \n",
       "temp_avg          ...         0.058403     -0.285833        0.220333   \n",
       "temp_low          ...         0.286666      0.435570       -0.354797   \n",
       "humidity_high     ...         0.788319      0.404254       -0.169518   \n",
       "humidity_avg      ...         1.000000      0.786885       -0.444543   \n",
       "humidity_low      ...         0.786885      1.000000       -0.673348   \n",
       "visibility_avg    ...        -0.444543     -0.673348        1.000000   \n",
       "visibility_low    ...        -0.464672     -0.400044        0.681402   \n",
       "wind_high         ...        -0.242738     -0.173775       -0.121493   \n",
       "wind_avg          ...        -0.609207     -0.195941       -0.041459   \n",
       "precip_in         ...         0.186256      0.203356       -0.361430   \n",
       "rain              ...         0.273442      0.344156       -0.399206   \n",
       "thunderstorm      ...         0.178762      0.015851       -0.087785   \n",
       "fog               ...         0.136972      0.011807       -0.309878   \n",
       "\n",
       "                visibility_low  wind_high  wind_avg  precip_in      rain  \\\n",
       "Gender               -0.002306   0.006072  0.003306  -0.003270  0.000160   \n",
       "Age                   0.004217  -0.009753 -0.007812  -0.004378 -0.003969   \n",
       "BolsaFamilia          0.001595   0.005123 -0.000254   0.000042  0.000945   \n",
       "Hypertension          0.005030  -0.002663 -0.003106  -0.001275 -0.003582   \n",
       "Diabetes              0.000861  -0.000582  0.000292  -0.001512 -0.000743   \n",
       "Alcoholism            0.001194  -0.008011 -0.001733  -0.000256  0.006922   \n",
       "NumHandicaps          0.000442  -0.000472  0.003834  -0.000940 -0.001154   \n",
       "SMSReceived          -0.028857   0.127514  0.019436   0.001409 -0.039460   \n",
       "NoShow                0.007781   0.001550  0.003531  -0.004856 -0.003870   \n",
       "DayDiff              -0.015857  -0.018070 -0.012200  -0.011022 -0.005197   \n",
       "Day_of_Week          -0.051155  -0.327166 -0.070573   0.222714  0.286462   \n",
       "Weekend               0.010113   0.013271  0.010122  -0.004842 -0.006770   \n",
       "temp_high            -0.011686   0.099412 -0.358334  -0.103677 -0.276006   \n",
       "temp_avg             -0.157137   0.183375 -0.088194  -0.009464 -0.186001   \n",
       "temp_low             -0.338580   0.153363  0.267941   0.156641  0.122711   \n",
       "humidity_high        -0.369161  -0.264805 -0.725878   0.005330  0.080582   \n",
       "humidity_avg         -0.464672  -0.242738 -0.609207   0.186256  0.273442   \n",
       "humidity_low         -0.400044  -0.173775 -0.195941   0.203356  0.344156   \n",
       "visibility_avg        0.681402  -0.121493 -0.041459  -0.361430 -0.399206   \n",
       "visibility_low        1.000000  -0.150207  0.187232  -0.540582 -0.487315   \n",
       "wind_high            -0.150207   1.000000  0.475482   0.254768  0.046480   \n",
       "wind_avg              0.187232   0.475482  1.000000  -0.130593 -0.038991   \n",
       "precip_in            -0.540582   0.254768 -0.130593   1.000000  0.691519   \n",
       "rain                 -0.487315   0.046480 -0.038991   0.691519  1.000000   \n",
       "thunderstorm         -0.268761   0.037257 -0.307487   0.686037  0.352756   \n",
       "fog                  -0.478115  -0.086878 -0.208431  -0.051717 -0.072311   \n",
       "\n",
       "                thunderstorm       fog  \n",
       "Gender             -0.002198  0.001648  \n",
       "Age                 0.003826  0.006267  \n",
       "BolsaFamilia       -0.000609  0.002130  \n",
       "Hypertension       -0.000102  0.005065  \n",
       "Diabetes           -0.000075 -0.001364  \n",
       "Alcoholism         -0.001414  0.000251  \n",
       "NumHandicaps       -0.001666 -0.001800  \n",
       "SMSReceived         0.032427  0.082908  \n",
       "NoShow             -0.011599 -0.011341  \n",
       "DayDiff            -0.004347  0.037534  \n",
       "Day_of_Week         0.137248 -0.125570  \n",
       "Weekend            -0.005546 -0.003770  \n",
       "temp_high           0.139973  0.071682  \n",
       "temp_avg            0.090664 -0.050503  \n",
       "temp_low            0.002779 -0.135771  \n",
       "humidity_high       0.138302  0.214394  \n",
       "humidity_avg        0.178762  0.136972  \n",
       "humidity_low        0.015851  0.011807  \n",
       "visibility_avg     -0.087785 -0.309878  \n",
       "visibility_low     -0.268761 -0.478115  \n",
       "wind_high           0.037257 -0.086878  \n",
       "wind_avg           -0.307487 -0.208431  \n",
       "precip_in           0.686037 -0.051717  \n",
       "rain                0.352756 -0.072311  \n",
       "thunderstorm        1.000000 -0.059236  \n",
       "fog                -0.059236  1.000000  \n",
       "\n",
       "[26 rows x 26 columns]"
      ]
     },
     "execution_count": 118,
     "metadata": {},
     "output_type": "execute_result"
    }
   ],
   "source": [
    "df.corr()"
   ]
  },
  {
   "cell_type": "code",
   "execution_count": 119,
   "metadata": {},
   "outputs": [
    {
     "data": {
      "image/png": "[encoded data removed]",
      "text/plain": [
       "<matplotlib.figure.Figure at 0x1183359b0>"
      ]
     },
     "metadata": {},
     "output_type": "display_data"
    }
   ],
   "source": [
    "plt.matshow(df.corr());"
   ]
  },
  {
   "cell_type": "markdown",
   "metadata": {},
   "source": [
    "> The strongest correlations are between age, hypertension, and diabetes (pair-wise between the three).  The variables that have the strongest correlation with being a no-show is SMSReceived at 0.126428 and DayDiff at 0.186228.  DayDiff is also strongly correlated with SMSReceived at 0.398143.  All other relationships less than half as strong as this correlation."
   ]
  },
  {
   "cell_type": "markdown",
   "metadata": {},
   "source": [
    "### No Shows by Gender"
   ]
  },
  {
   "cell_type": "code",
   "execution_count": 61,
   "metadata": {},
   "outputs": [
    {
     "data": {
      "text/plain": [
       "Gender  NoShow\n",
       "0       0         30962\n",
       "        1          7725\n",
       "1       0         57245\n",
       "        1         14594\n",
       "Name: NoShow, dtype: int64"
      ]
     },
     "execution_count": 61,
     "metadata": {},
     "output_type": "execute_result"
    }
   ],
   "source": [
    "# Count\n",
    "df.groupby(['Gender','NoShow'])['NoShow'].count()"
   ]
  },
  {
   "cell_type": "code",
   "execution_count": 62,
   "metadata": {},
   "outputs": [
    {
     "data": {
      "text/plain": [
       "Gender  NoShow\n",
       "0       0         0.800321\n",
       "        1         0.199679\n",
       "1       0         0.796851\n",
       "        1         0.203149\n",
       "Name: NoShow, dtype: float64"
      ]
     },
     "execution_count": 62,
     "metadata": {},
     "output_type": "execute_result"
    }
   ],
   "source": [
    "# Proportion\n",
    "df.groupby(['Gender','NoShow'])['NoShow'].count()/df.groupby('Gender')['NoShow'].count()"
   ]
  },
  {
   "cell_type": "markdown",
   "metadata": {},
   "source": [
    "There are far more female patients than male patients, but they are both  just as likely to skip out on an appointment."
   ]
  },
  {
   "cell_type": "markdown",
   "metadata": {},
   "source": [
    "### No Shows by Neighborhood"
   ]
  },
  {
   "cell_type": "code",
   "execution_count": 63,
   "metadata": {},
   "outputs": [
    {
     "data": {
      "text/plain": [
       "Neighborhood         NoShow\n",
       "AEROPORTO            0            7\n",
       "                     1            1\n",
       "ANDORINHAS           0         1741\n",
       "                     1          521\n",
       "ANTÔNIO HONÓRIO      0          221\n",
       "                     1           50\n",
       "ARIOVALDO FAVALESSA  0          220\n",
       "                     1           62\n",
       "BARRO VERMELHO       0          332\n",
       "                     1           91\n",
       "BELA VISTA           0         1523\n",
       "                     1          384\n",
       "BENTO FERREIRA       0          665\n",
       "                     1          193\n",
       "BOA VISTA            0          254\n",
       "                     1           58\n",
       "BONFIM               0         2223\n",
       "                     1          550\n",
       "CARATOÍRA            0         1974\n",
       "                     1          591\n",
       "CENTRO               0         2631\n",
       "                     1          703\n",
       "COMDUSA              0          254\n",
       "                     1           56\n",
       "CONQUISTA            0          689\n",
       "                     1          160\n",
       "CONSOLAÇÃO           0         1139\n",
       "                     1          237\n",
       "CRUZAMENTO           0         1094\n",
       "                     1          304\n",
       "                               ... \n",
       "SANTA MARTHA         0         2635\n",
       "                     1          496\n",
       "SANTA TEREZA         0         1060\n",
       "                     1          272\n",
       "SANTO ANDRÉ          0         2063\n",
       "                     1          508\n",
       "SANTO ANTÔNIO        0         2262\n",
       "                     1          484\n",
       "SANTOS DUMONT        0          907\n",
       "                     1          369\n",
       "SANTOS REIS          0          435\n",
       "                     1          112\n",
       "SEGURANÇA DO LAR     0          117\n",
       "                     1           28\n",
       "SOLON BORGES         0          400\n",
       "                     1           69\n",
       "SÃO BENEDITO         0         1152\n",
       "                     1          287\n",
       "SÃO CRISTÓVÃO        0         1473\n",
       "                     1          363\n",
       "SÃO JOSÉ             0         1549\n",
       "                     1          428\n",
       "SÃO PEDRO            0         1933\n",
       "                     1          515\n",
       "TABUAZEIRO           0         2559\n",
       "                     1          573\n",
       "UNIVERSITÁRIO        0          120\n",
       "                     1           32\n",
       "VILA RUBIM           0          710\n",
       "                     1          141\n",
       "Name: NoShow, Length: 160, dtype: int64"
      ]
     },
     "execution_count": 63,
     "metadata": {},
     "output_type": "execute_result"
    }
   ],
   "source": [
    "# Count\n",
    "df.groupby(['Neighborhood','NoShow'])['NoShow'].count()"
   ]
  },
  {
   "cell_type": "code",
   "execution_count": null,
   "metadata": {},
   "outputs": [],
   "source": []
  },
  {
   "cell_type": "code",
   "execution_count": null,
   "metadata": {},
   "outputs": [],
   "source": []
  },
  {
   "cell_type": "code",
   "execution_count": null,
   "metadata": {},
   "outputs": [],
   "source": []
  },
  {
   "cell_type": "code",
   "execution_count": null,
   "metadata": {},
   "outputs": [],
   "source": []
  },
  {
   "cell_type": "code",
   "execution_count": null,
   "metadata": {},
   "outputs": [],
   "source": []
  }
 ],
 "metadata": {
  "kernelspec": {
   "display_name": "Python 3",
   "language": "python",
   "name": "python3"
  },
  "language_info": {
   "codemirror_mode": {
    "name": "ipython",
    "version": 3
   },
   "file_extension": ".py",
   "mimetype": "text/x-python",
   "name": "python",
   "nbconvert_exporter": "python",
   "pygments_lexer": "ipython3",
   "version": "3.6.4"
  }
 },
 "nbformat": 4,
 "nbformat_minor": 2
}
