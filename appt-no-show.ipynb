{
 "cells": [
  {
   "cell_type": "markdown",
   "metadata": {},
   "source": [
    "# Predicting Doctor Appointment No-Shows\n",
    "***\n",
    "\n",
    "## Table of Contents\n",
    "* [Data Wrangling](#data_wrangling)\n",
    "    * [General Properties](#general_properties)\n",
    "    * [Data Cleaning](#data_cleaning)\n",
    "        * [Appointment ID](#cleaning_appointment_id)\n",
    "        * [Scheduled Day](#cleaning_scheduled_day)\n",
    "        * [Appointment Day](#cleaning_appointment_day)\n",
    "        * [Gender](#cleaning_gender)\n",
    "        * [Age](#cleaning_age)\n",
    "        * [Bolsa Familia](#cleaning_bolsa_familia)\n",
    "        * [Hypertension](#cleaning_hypertension)\n",
    "        * [Diabetes](#cleaning_diabetes)\n",
    "        * [Number of Handicaps](#cleaning_number_handicaps)\n",
    "        * [SMS Received](#cleaning_sms_received)\n",
    "        * [No Show](#cleaning_no_show)\n",
    "        * [Neighborhood](#cleaning_neighborhood)\n",
    "        * [Patient ID](#cleaning_patient_id)\n",
    "        \n",
    "    "
   ]
  },
  {
   "cell_type": "markdown",
   "metadata": {},
   "source": [
    "## Introduction\n",
    "\n"
   ]
  },
  {
   "cell_type": "markdown",
   "metadata": {
    "collapsed": true
   },
   "source": [
    "In this project, my aim is to determine what patient characteristics are connected with not showing up to a doctor's appointment by analyzing a data set of over 100K medical appointments in Vitória, Espírito Santo, Brazil provided by JoniHoppen on [Kaggle](https://www.kaggle.com/joniarroba/noshowappointments)."
   ]
  },
  {
   "cell_type": "markdown",
   "metadata": {},
   "source": [
    "<a id='data_wrangling'></a>"
   ]
  },
  {
   "cell_type": "markdown",
   "metadata": {},
   "source": [
    "## Data Wrangling\n",
    "***"
   ]
  },
  {
   "cell_type": "code",
   "execution_count": 1,
   "metadata": {},
   "outputs": [],
   "source": [
    "import pandas as pd\n",
    "import numpy as np\n",
    "import geocoder\n",
    "API_KEY = ''"
   ]
  },
  {
   "cell_type": "markdown",
   "metadata": {},
   "source": [
    "<a id='general_properties'></a>"
   ]
  },
  {
   "cell_type": "markdown",
   "metadata": {},
   "source": [
    "### General Properties"
   ]
  },
  {
   "cell_type": "code",
   "execution_count": 4,
   "metadata": {},
   "outputs": [
    {
     "data": {
      "text/html": [
       "<div>\n",
       "<style scoped>\n",
       "    .dataframe tbody tr th:only-of-type {\n",
       "        vertical-align: middle;\n",
       "    }\n",
       "\n",
       "    .dataframe tbody tr th {\n",
       "        vertical-align: top;\n",
       "    }\n",
       "\n",
       "    .dataframe thead th {\n",
       "        text-align: right;\n",
       "    }\n",
       "</style>\n",
       "<table border=\"1\" class=\"dataframe\">\n",
       "  <thead>\n",
       "    <tr style=\"text-align: right;\">\n",
       "      <th></th>\n",
       "      <th>PatientId</th>\n",
       "      <th>AppointmentID</th>\n",
       "      <th>Gender</th>\n",
       "      <th>ScheduledDay</th>\n",
       "      <th>AppointmentDay</th>\n",
       "      <th>Age</th>\n",
       "      <th>Neighbourhood</th>\n",
       "      <th>Scholarship</th>\n",
       "      <th>Hipertension</th>\n",
       "      <th>Diabetes</th>\n",
       "      <th>Alcoholism</th>\n",
       "      <th>Handcap</th>\n",
       "      <th>SMS_received</th>\n",
       "      <th>No-show</th>\n",
       "    </tr>\n",
       "  </thead>\n",
       "  <tbody>\n",
       "    <tr>\n",
       "      <th>0</th>\n",
       "      <td>2.987250e+13</td>\n",
       "      <td>5642903</td>\n",
       "      <td>F</td>\n",
       "      <td>2016-04-29T18:38:08Z</td>\n",
       "      <td>2016-04-29T00:00:00Z</td>\n",
       "      <td>62</td>\n",
       "      <td>JARDIM DA PENHA</td>\n",
       "      <td>0</td>\n",
       "      <td>1</td>\n",
       "      <td>0</td>\n",
       "      <td>0</td>\n",
       "      <td>0</td>\n",
       "      <td>0</td>\n",
       "      <td>No</td>\n",
       "    </tr>\n",
       "    <tr>\n",
       "      <th>1</th>\n",
       "      <td>5.589978e+14</td>\n",
       "      <td>5642503</td>\n",
       "      <td>M</td>\n",
       "      <td>2016-04-29T16:08:27Z</td>\n",
       "      <td>2016-04-29T00:00:00Z</td>\n",
       "      <td>56</td>\n",
       "      <td>JARDIM DA PENHA</td>\n",
       "      <td>0</td>\n",
       "      <td>0</td>\n",
       "      <td>0</td>\n",
       "      <td>0</td>\n",
       "      <td>0</td>\n",
       "      <td>0</td>\n",
       "      <td>No</td>\n",
       "    </tr>\n",
       "    <tr>\n",
       "      <th>2</th>\n",
       "      <td>4.262962e+12</td>\n",
       "      <td>5642549</td>\n",
       "      <td>F</td>\n",
       "      <td>2016-04-29T16:19:04Z</td>\n",
       "      <td>2016-04-29T00:00:00Z</td>\n",
       "      <td>62</td>\n",
       "      <td>MATA DA PRAIA</td>\n",
       "      <td>0</td>\n",
       "      <td>0</td>\n",
       "      <td>0</td>\n",
       "      <td>0</td>\n",
       "      <td>0</td>\n",
       "      <td>0</td>\n",
       "      <td>No</td>\n",
       "    </tr>\n",
       "    <tr>\n",
       "      <th>3</th>\n",
       "      <td>8.679512e+11</td>\n",
       "      <td>5642828</td>\n",
       "      <td>F</td>\n",
       "      <td>2016-04-29T17:29:31Z</td>\n",
       "      <td>2016-04-29T00:00:00Z</td>\n",
       "      <td>8</td>\n",
       "      <td>PONTAL DE CAMBURI</td>\n",
       "      <td>0</td>\n",
       "      <td>0</td>\n",
       "      <td>0</td>\n",
       "      <td>0</td>\n",
       "      <td>0</td>\n",
       "      <td>0</td>\n",
       "      <td>No</td>\n",
       "    </tr>\n",
       "    <tr>\n",
       "      <th>4</th>\n",
       "      <td>8.841186e+12</td>\n",
       "      <td>5642494</td>\n",
       "      <td>F</td>\n",
       "      <td>2016-04-29T16:07:23Z</td>\n",
       "      <td>2016-04-29T00:00:00Z</td>\n",
       "      <td>56</td>\n",
       "      <td>JARDIM DA PENHA</td>\n",
       "      <td>0</td>\n",
       "      <td>1</td>\n",
       "      <td>1</td>\n",
       "      <td>0</td>\n",
       "      <td>0</td>\n",
       "      <td>0</td>\n",
       "      <td>No</td>\n",
       "    </tr>\n",
       "  </tbody>\n",
       "</table>\n",
       "</div>"
      ],
      "text/plain": [
       "      PatientId  AppointmentID Gender          ScheduledDay  \\\n",
       "0  2.987250e+13        5642903      F  2016-04-29T18:38:08Z   \n",
       "1  5.589978e+14        5642503      M  2016-04-29T16:08:27Z   \n",
       "2  4.262962e+12        5642549      F  2016-04-29T16:19:04Z   \n",
       "3  8.679512e+11        5642828      F  2016-04-29T17:29:31Z   \n",
       "4  8.841186e+12        5642494      F  2016-04-29T16:07:23Z   \n",
       "\n",
       "         AppointmentDay  Age      Neighbourhood  Scholarship  Hipertension  \\\n",
       "0  2016-04-29T00:00:00Z   62    JARDIM DA PENHA            0             1   \n",
       "1  2016-04-29T00:00:00Z   56    JARDIM DA PENHA            0             0   \n",
       "2  2016-04-29T00:00:00Z   62      MATA DA PRAIA            0             0   \n",
       "3  2016-04-29T00:00:00Z    8  PONTAL DE CAMBURI            0             0   \n",
       "4  2016-04-29T00:00:00Z   56    JARDIM DA PENHA            0             1   \n",
       "\n",
       "   Diabetes  Alcoholism  Handcap  SMS_received No-show  \n",
       "0         0           0        0             0      No  \n",
       "1         0           0        0             0      No  \n",
       "2         0           0        0             0      No  \n",
       "3         0           0        0             0      No  \n",
       "4         1           0        0             0      No  "
      ]
     },
     "execution_count": 4,
     "metadata": {},
     "output_type": "execute_result"
    }
   ],
   "source": [
    "df = pd.read_csv('KaggleV2-May-2016.csv')\n",
    "df.head()"
   ]
  },
  {
   "cell_type": "code",
   "execution_count": 5,
   "metadata": {},
   "outputs": [
    {
     "data": {
      "text/plain": [
       "110527"
      ]
     },
     "execution_count": 5,
     "metadata": {},
     "output_type": "execute_result"
    }
   ],
   "source": [
    "# Number of records\n",
    "n = len(df)\n",
    "n"
   ]
  },
  {
   "cell_type": "code",
   "execution_count": 6,
   "metadata": {},
   "outputs": [],
   "source": [
    "# Rename fields to have more consistent formatting and to English where appropriate\n",
    "df.columns = ['PatientID', 'AppointmentID', 'Gender', 'ScheduledDay',\n",
    "              'AppointmentDay', 'Age', 'Neighborhood', 'BolsaFamilia', \\\n",
    "              'Hypertension', 'Diabetes', 'Alcoholism', 'NumHandicaps', \\\n",
    "              'SMSReceived', 'NoShow']"
   ]
  },
  {
   "cell_type": "code",
   "execution_count": 7,
   "metadata": {},
   "outputs": [
    {
     "data": {
      "text/plain": [
       "PatientID         0\n",
       "AppointmentID     0\n",
       "Gender            0\n",
       "ScheduledDay      0\n",
       "AppointmentDay    0\n",
       "Age               0\n",
       "Neighborhood      0\n",
       "BolsaFamilia      0\n",
       "Hypertension      0\n",
       "Diabetes          0\n",
       "Alcoholism        0\n",
       "NumHandicaps      0\n",
       "SMSReceived       0\n",
       "NoShow            0\n",
       "dtype: int64"
      ]
     },
     "execution_count": 7,
     "metadata": {},
     "output_type": "execute_result"
    }
   ],
   "source": [
    "# Number of nulls\n",
    "df.isnull().sum()"
   ]
  },
  {
   "cell_type": "markdown",
   "metadata": {},
   "source": [
    "> There are no null records in any of the fields"
   ]
  },
  {
   "cell_type": "code",
   "execution_count": 8,
   "metadata": {},
   "outputs": [
    {
     "data": {
      "text/plain": [
       "PatientID         float64\n",
       "AppointmentID       int64\n",
       "Gender             object\n",
       "ScheduledDay       object\n",
       "AppointmentDay     object\n",
       "Age                 int64\n",
       "Neighborhood       object\n",
       "BolsaFamilia        int64\n",
       "Hypertension        int64\n",
       "Diabetes            int64\n",
       "Alcoholism          int64\n",
       "NumHandicaps        int64\n",
       "SMSReceived         int64\n",
       "NoShow             object\n",
       "dtype: object"
      ]
     },
     "execution_count": 8,
     "metadata": {},
     "output_type": "execute_result"
    }
   ],
   "source": [
    "# Data types\n",
    "df.dtypes"
   ]
  },
  {
   "cell_type": "markdown",
   "metadata": {},
   "source": [
    "<a id='data_cleaning'></a>"
   ]
  },
  {
   "cell_type": "markdown",
   "metadata": {},
   "source": [
    "### Data Cleaning"
   ]
  },
  {
   "cell_type": "markdown",
   "metadata": {},
   "source": [
    "<a id='cleaning_appointment_id'></a>"
   ]
  },
  {
   "cell_type": "markdown",
   "metadata": {},
   "source": [
    "#### Appointment ID"
   ]
  },
  {
   "cell_type": "code",
   "execution_count": 9,
   "metadata": {},
   "outputs": [
    {
     "name": "stdout",
     "output_type": "stream",
     "text": [
      "5030230 - 5790484\n"
     ]
    }
   ],
   "source": [
    "# All of the appointment IDs are 7 digits long, and are between these values\n",
    "min_apptID = df['AppointmentID'].min()\n",
    "max_apptID = df['AppointmentID'].max()\n",
    "print('{} - {}'.format(min_apptID, max_apptID))"
   ]
  },
  {
   "cell_type": "code",
   "execution_count": 32,
   "metadata": {},
   "outputs": [],
   "source": [
    "# AppointmentIDs are identifiers, so they are also converted to strings\n",
    "df['AppointmentID'] = df['AppointmentID'].astype(str)"
   ]
  },
  {
   "cell_type": "markdown",
   "metadata": {},
   "source": [
    "<a id='cleaning_scheduled_day'></a>"
   ]
  },
  {
   "cell_type": "markdown",
   "metadata": {},
   "source": [
    "#### Scheduled Day"
   ]
  },
  {
   "cell_type": "code",
   "execution_count": 11,
   "metadata": {},
   "outputs": [
    {
     "data": {
      "text/plain": [
       "dtype('<M8[ns]')"
      ]
     },
     "execution_count": 11,
     "metadata": {},
     "output_type": "execute_result"
    }
   ],
   "source": [
    "# Convert the scheduled day to a datetime\n",
    "df['ScheduledDay'] = pd.to_datetime(df['ScheduledDay'])\n",
    "\n",
    "# Verify that ScheduledDay is in a datetime format\n",
    "df['ScheduledDay'].dtype"
   ]
  },
  {
   "cell_type": "code",
   "execution_count": 12,
   "metadata": {},
   "outputs": [
    {
     "data": {
      "text/plain": [
       "True"
      ]
     },
     "execution_count": 12,
     "metadata": {},
     "output_type": "execute_result"
    }
   ],
   "source": [
    "# Check that the <M8[ns] is a datetime format\n",
    "np.dtype('datetime64[ns]') == np.dtype('<M8[ns]')"
   ]
  },
  {
   "cell_type": "code",
   "execution_count": 13,
   "metadata": {},
   "outputs": [
    {
     "data": {
      "text/plain": [
       "0"
      ]
     },
     "execution_count": 13,
     "metadata": {},
     "output_type": "execute_result"
    }
   ],
   "source": [
    "# Verify that all records were converted to valid datetimes\n",
    "np.isnat(df['ScheduledDay']).sum()"
   ]
  },
  {
   "cell_type": "code",
   "execution_count": 14,
   "metadata": {},
   "outputs": [
    {
     "data": {
      "text/plain": [
       "Timestamp('2015-11-10 07:13:56')"
      ]
     },
     "execution_count": 14,
     "metadata": {},
     "output_type": "execute_result"
    }
   ],
   "source": [
    "# The first date and time an appointment was scheduled \n",
    "np.min(df['ScheduledDay'])"
   ]
  },
  {
   "cell_type": "code",
   "execution_count": 15,
   "metadata": {},
   "outputs": [
    {
     "data": {
      "text/plain": [
       "Timestamp('2016-06-08 20:07:23')"
      ]
     },
     "execution_count": 15,
     "metadata": {},
     "output_type": "execute_result"
    }
   ],
   "source": [
    "# The last date and time an appointment was scheduled \n",
    "np.max(df['ScheduledDay'])"
   ]
  },
  {
   "cell_type": "code",
   "execution_count": 16,
   "metadata": {},
   "outputs": [
    {
     "data": {
      "text/plain": [
       "Timedelta('211 days 12:53:27')"
      ]
     },
     "execution_count": 16,
     "metadata": {},
     "output_type": "execute_result"
    }
   ],
   "source": [
    "np.max(df['ScheduledDay']) - np.min(df['ScheduledDay'])"
   ]
  },
  {
   "cell_type": "markdown",
   "metadata": {},
   "source": [
    "> All appointments are created within an about 7-month time frame."
   ]
  },
  {
   "cell_type": "markdown",
   "metadata": {},
   "source": [
    "<a id='cleaning_appointment_day'></a>"
   ]
  },
  {
   "cell_type": "markdown",
   "metadata": {},
   "source": [
    "#### Appointment Day"
   ]
  },
  {
   "cell_type": "code",
   "execution_count": 18,
   "metadata": {},
   "outputs": [
    {
     "data": {
      "text/plain": [
       "dtype('<M8[ns]')"
      ]
     },
     "execution_count": 18,
     "metadata": {},
     "output_type": "execute_result"
    }
   ],
   "source": [
    "# Convert the appointment day to a datetime\n",
    "df['AppointmentDay'] = pd.to_datetime(df['AppointmentDay'])\n",
    "\n",
    "# Verify that AppointmentDay is in a datetime format\n",
    "df['AppointmentDay'].dtype"
   ]
  },
  {
   "cell_type": "code",
   "execution_count": 19,
   "metadata": {},
   "outputs": [
    {
     "data": {
      "text/plain": [
       "0"
      ]
     },
     "execution_count": 19,
     "metadata": {},
     "output_type": "execute_result"
    }
   ],
   "source": [
    "# Verify that all records were converted to valid datetimes\n",
    "np.isnat(df['AppointmentDay']).sum()"
   ]
  },
  {
   "cell_type": "code",
   "execution_count": 21,
   "metadata": {},
   "outputs": [
    {
     "data": {
      "text/plain": [
       "Timestamp('2016-04-29 00:00:00')"
      ]
     },
     "execution_count": 21,
     "metadata": {},
     "output_type": "execute_result"
    }
   ],
   "source": [
    "# The first scheduled appointment\n",
    "np.min(df['AppointmentDay'])"
   ]
  },
  {
   "cell_type": "code",
   "execution_count": 23,
   "metadata": {},
   "outputs": [
    {
     "data": {
      "text/plain": [
       "Timestamp('2016-06-08 00:00:00')"
      ]
     },
     "execution_count": 23,
     "metadata": {},
     "output_type": "execute_result"
    }
   ],
   "source": [
    "# The last scheduled appointment\n",
    "np.max(df['AppointmentDay'])"
   ]
  },
  {
   "cell_type": "code",
   "execution_count": 24,
   "metadata": {},
   "outputs": [
    {
     "data": {
      "text/plain": [
       "Timedelta('40 days 00:00:00')"
      ]
     },
     "execution_count": 24,
     "metadata": {},
     "output_type": "execute_result"
    }
   ],
   "source": [
    "np.max(df['AppointmentDay']) - np.min(df['AppointmentDay'])"
   ]
  },
  {
   "cell_type": "markdown",
   "metadata": {},
   "source": [
    "> While the appointments were scheduled during a 7-month period, they all were scheduled for a 40-day period."
   ]
  },
  {
   "cell_type": "markdown",
   "metadata": {},
   "source": [
    "<a id='cleaning_gender'></a>"
   ]
  },
  {
   "cell_type": "markdown",
   "metadata": {},
   "source": [
    "#### Gender"
   ]
  },
  {
   "cell_type": "code",
   "execution_count": 28,
   "metadata": {},
   "outputs": [
    {
     "data": {
      "text/plain": [
       "F    71840\n",
       "M    38687\n",
       "Name: Gender, dtype: int64"
      ]
     },
     "execution_count": 28,
     "metadata": {},
     "output_type": "execute_result"
    }
   ],
   "source": [
    "# Gender data is clean\n",
    "df['Gender'].value_counts()"
   ]
  },
  {
   "cell_type": "markdown",
   "metadata": {},
   "source": [
    "<a id='cleaning_age'></a>"
   ]
  },
  {
   "cell_type": "markdown",
   "metadata": {},
   "source": [
    "#### Age"
   ]
  },
  {
   "cell_type": "code",
   "execution_count": null,
   "metadata": {},
   "outputs": [],
   "source": [
    "age_counts = df['Age'].value_counts()\n",
    "age_counts.index.sort_values()"
   ]
  },
  {
   "cell_type": "code",
   "execution_count": null,
   "metadata": {},
   "outputs": [],
   "source": [
    "id = df[df['Age'] == -1]['PatientID']\n",
    "id = list(id)"
   ]
  },
  {
   "cell_type": "code",
   "execution_count": null,
   "metadata": {},
   "outputs": [],
   "source": [
    "df[df['PatientID'] == id[0]]"
   ]
  },
  {
   "cell_type": "code",
   "execution_count": null,
   "metadata": {},
   "outputs": [],
   "source": [
    "# Remove the record with age of -1\n",
    "df = df.drop[df['Age'] == -1]"
   ]
  },
  {
   "cell_type": "markdown",
   "metadata": {},
   "source": [
    "> I removed the record with the age of -1.  All of the other ages are plausible; although the age of 115 is improbable, it is still possible."
   ]
  },
  {
   "cell_type": "markdown",
   "metadata": {},
   "source": [
    "<a id='cleaning_bolsa_familia'></a>"
   ]
  },
  {
   "cell_type": "markdown",
   "metadata": {},
   "source": [
    "#### Bolsa Família"
   ]
  },
  {
   "cell_type": "code",
   "execution_count": 33,
   "metadata": {},
   "outputs": [
    {
     "data": {
      "text/plain": [
       "0    99666\n",
       "1    10861\n",
       "Name: BolsaFamilia, dtype: int64"
      ]
     },
     "execution_count": 33,
     "metadata": {},
     "output_type": "execute_result"
    }
   ],
   "source": [
    "# BolsaFamilia data is clean\n",
    "df['BolsaFamilia'].value_counts()"
   ]
  },
  {
   "cell_type": "markdown",
   "metadata": {},
   "source": [
    "<a id='cleaning_hypertension'></a>"
   ]
  },
  {
   "cell_type": "markdown",
   "metadata": {},
   "source": [
    "#### Hypertension"
   ]
  },
  {
   "cell_type": "code",
   "execution_count": 34,
   "metadata": {},
   "outputs": [
    {
     "data": {
      "text/plain": [
       "0    88726\n",
       "1    21801\n",
       "Name: Hypertension, dtype: int64"
      ]
     },
     "execution_count": 34,
     "metadata": {},
     "output_type": "execute_result"
    }
   ],
   "source": [
    "# Hypertension data is clean\n",
    "df['Hypertension'].value_counts()"
   ]
  },
  {
   "cell_type": "markdown",
   "metadata": {},
   "source": [
    "<a id='cleaning_diabetes'></a>"
   ]
  },
  {
   "cell_type": "markdown",
   "metadata": {},
   "source": [
    "#### Diabetes"
   ]
  },
  {
   "cell_type": "code",
   "execution_count": 35,
   "metadata": {},
   "outputs": [
    {
     "data": {
      "text/plain": [
       "0    102584\n",
       "1      7943\n",
       "Name: Diabetes, dtype: int64"
      ]
     },
     "execution_count": 35,
     "metadata": {},
     "output_type": "execute_result"
    }
   ],
   "source": [
    "# Diabetes data is clean\n",
    "df['Diabetes'].value_counts()"
   ]
  },
  {
   "cell_type": "markdown",
   "metadata": {},
   "source": [
    "<a id='cleaning_alcoholism'></a>"
   ]
  },
  {
   "cell_type": "markdown",
   "metadata": {},
   "source": [
    "#### Alcholism"
   ]
  },
  {
   "cell_type": "code",
   "execution_count": 36,
   "metadata": {},
   "outputs": [
    {
     "data": {
      "text/plain": [
       "0    107167\n",
       "1      3360\n",
       "Name: Alcoholism, dtype: int64"
      ]
     },
     "execution_count": 36,
     "metadata": {},
     "output_type": "execute_result"
    }
   ],
   "source": [
    "# Alcoholism data is clean\n",
    "df['Alcoholism'].value_counts()"
   ]
  },
  {
   "cell_type": "markdown",
   "metadata": {},
   "source": [
    "<a id='cleaning_number_handicaps'></a>"
   ]
  },
  {
   "cell_type": "markdown",
   "metadata": {},
   "source": [
    "#### Number of Handicaps"
   ]
  },
  {
   "cell_type": "code",
   "execution_count": 37,
   "metadata": {
    "scrolled": true
   },
   "outputs": [
    {
     "data": {
      "text/plain": [
       "0    108286\n",
       "1      2042\n",
       "2       183\n",
       "3        13\n",
       "4         3\n",
       "Name: NumHandicaps, dtype: int64"
      ]
     },
     "execution_count": 37,
     "metadata": {},
     "output_type": "execute_result"
    }
   ],
   "source": [
    "# This represents the number of handicaps a person has (as defined by the publisher of the dataset)\n",
    "# All people having between 0-4 handicaps seems reasonable\n",
    "df['NumHandicaps'].value_counts()"
   ]
  },
  {
   "cell_type": "markdown",
   "metadata": {},
   "source": [
    "<a id='cleaning_sms_received'></a>"
   ]
  },
  {
   "cell_type": "markdown",
   "metadata": {},
   "source": [
    "#### SMS Received"
   ]
  },
  {
   "cell_type": "code",
   "execution_count": 38,
   "metadata": {},
   "outputs": [
    {
     "data": {
      "text/plain": [
       "0    75045\n",
       "1    35482\n",
       "Name: SMSReceived, dtype: int64"
      ]
     },
     "execution_count": 38,
     "metadata": {},
     "output_type": "execute_result"
    }
   ],
   "source": [
    "# SMS Received data is clean\n",
    "df['SMSReceived'].value_counts()"
   ]
  },
  {
   "cell_type": "markdown",
   "metadata": {},
   "source": [
    "<a id='cleaning_no_show'></a>"
   ]
  },
  {
   "cell_type": "markdown",
   "metadata": {},
   "source": [
    "#### No Show"
   ]
  },
  {
   "cell_type": "code",
   "execution_count": 39,
   "metadata": {},
   "outputs": [
    {
     "data": {
      "text/plain": [
       "No     88208\n",
       "Yes    22319\n",
       "Name: NoShow, dtype: int64"
      ]
     },
     "execution_count": 39,
     "metadata": {},
     "output_type": "execute_result"
    }
   ],
   "source": [
    "df['NoShow'].value_counts()"
   ]
  },
  {
   "cell_type": "code",
   "execution_count": 40,
   "metadata": {},
   "outputs": [
    {
     "data": {
      "text/plain": [
       "0    88208\n",
       "1    22319\n",
       "Name: NoShow, dtype: int64"
      ]
     },
     "execution_count": 40,
     "metadata": {},
     "output_type": "execute_result"
    }
   ],
   "source": [
    "# Convert NoShow to zeros and ones to harmonize with the way the other boolean fields are expressed\n",
    "df['NoShow'] = np.where(df['NoShow'].values == 'Yes', 1, 0)\n",
    "df['NoShow'].value_counts()"
   ]
  },
  {
   "cell_type": "markdown",
   "metadata": {},
   "source": [
    "<a id='cleaning_neighborhood'></a>"
   ]
  },
  {
   "cell_type": "markdown",
   "metadata": {},
   "source": [
    "#### Neighborhood"
   ]
  },
  {
   "cell_type": "code",
   "execution_count": 41,
   "metadata": {},
   "outputs": [
    {
     "data": {
      "text/plain": [
       "JARDIM CAMBURI       7717\n",
       "MARIA ORTIZ          5805\n",
       "RESISTÊNCIA          4431\n",
       "JARDIM DA PENHA      3877\n",
       "ITARARÉ              3514\n",
       "CENTRO               3334\n",
       "TABUAZEIRO           3132\n",
       "SANTA MARTHA         3131\n",
       "JESUS DE NAZARETH    2853\n",
       "BONFIM               2773\n",
       "SANTO ANTÔNIO        2746\n",
       "Name: Neighborhood, dtype: int64"
      ]
     },
     "execution_count": 41,
     "metadata": {},
     "output_type": "execute_result"
    }
   ],
   "source": [
    "neighborhood_counts = df['Neighborhood'].value_counts()\n",
    "neighborhood_counts[:11]"
   ]
  },
  {
   "cell_type": "code",
   "execution_count": 42,
   "metadata": {},
   "outputs": [
    {
     "data": {
      "text/plain": [
       "81"
      ]
     },
     "execution_count": 42,
     "metadata": {},
     "output_type": "execute_result"
    }
   ],
   "source": [
    "# Number of unique neighborhoods\n",
    "df['Neighborhood'].nunique()"
   ]
  },
  {
   "cell_type": "code",
   "execution_count": 44,
   "metadata": {},
   "outputs": [
    {
     "data": {
      "text/html": [
       "<div>\n",
       "<style scoped>\n",
       "    .dataframe tbody tr th:only-of-type {\n",
       "        vertical-align: middle;\n",
       "    }\n",
       "\n",
       "    .dataframe tbody tr th {\n",
       "        vertical-align: top;\n",
       "    }\n",
       "\n",
       "    .dataframe thead th {\n",
       "        text-align: right;\n",
       "    }\n",
       "</style>\n",
       "<table border=\"1\" class=\"dataframe\">\n",
       "  <thead>\n",
       "    <tr style=\"text-align: right;\">\n",
       "      <th></th>\n",
       "      <th>neighborhood</th>\n",
       "    </tr>\n",
       "  </thead>\n",
       "  <tbody>\n",
       "    <tr>\n",
       "      <th>0</th>\n",
       "      <td>JARDIM CAMBURI</td>\n",
       "    </tr>\n",
       "    <tr>\n",
       "      <th>1</th>\n",
       "      <td>MARIA ORTIZ</td>\n",
       "    </tr>\n",
       "    <tr>\n",
       "      <th>2</th>\n",
       "      <td>RESISTÊNCIA</td>\n",
       "    </tr>\n",
       "    <tr>\n",
       "      <th>3</th>\n",
       "      <td>JARDIM DA PENHA</td>\n",
       "    </tr>\n",
       "    <tr>\n",
       "      <th>4</th>\n",
       "      <td>ITARARÉ</td>\n",
       "    </tr>\n",
       "  </tbody>\n",
       "</table>\n",
       "</div>"
      ],
      "text/plain": [
       "      neighborhood\n",
       "0   JARDIM CAMBURI\n",
       "1      MARIA ORTIZ\n",
       "2      RESISTÊNCIA\n",
       "3  JARDIM DA PENHA\n",
       "4          ITARARÉ"
      ]
     },
     "execution_count": 44,
     "metadata": {},
     "output_type": "execute_result"
    }
   ],
   "source": [
    "# Organize the neighborhoods into a dataframe\n",
    "geo = pd.DataFrame(neighborhood_counts.index, columns = ['neighborhood'])\n",
    "geo.head()"
   ]
  },
  {
   "cell_type": "code",
   "execution_count": 53,
   "metadata": {},
   "outputs": [
    {
     "name": "stderr",
     "output_type": "stream",
     "text": [
      "Status code 400 from http://dev.virtualearth.net/REST/v1/Locations: ERROR - 400 Client Error: Bad Request for url: http://dev.virtualearth.net/REST/v1/Locations?q=Jardim+Camburi%2C+Vit%C3%B3ria%2C+Esp%C3%ADrito+Santo%2C+Brazil&q=Error+-+400+Client+Error%3A+Bad+Request+For+Url%3A+Http%3A%2F%2FDev.Virtualearth.Net%2FRest%2FV1%2FLocations%3FQ%3DJardim%2BCamburi%252C%2BVit%25C3%25B3Ria%252C%2BEsp%25C3%25Adrito%2BSanto%252C%2BBrazil%26Q%3DOk%252C%2BVit%25C3%25B3Ria%252C%2BEsp%25C3%25Adrito%2BSanto%252C%2BBrazil%26Q%3DNan%26Q%3DNan%26Q%3DNan%26Q%3DVit%25C3%25B3Ria%252C%2BVit%25C3%25B3Ria%252C%2BEsp%25C3%25Adrito%2BSanto%252C%2BBrazil%26Q%3DEs%252C%2BVit%25C3%25B3Ria%252C%2BEsp%25C3%25Adrito%2BSanto%252C%2BBrazil%26Q%3DBrazil%252C%2BVit%25C3%25B3Ria%252C%2BEsp%25C3%25Adrito%2BSanto%252C%2BBrazil%26O%3DJson%26Inclnb%3D1%26Key%3DArm0Cqoig2Wdasyt7Dhcswjyfkjihq4Wwka7Llumyspextdjnximerp8Nsot5G0I%26Maxresults%3D1%2C+Vit%C3%B3ria%2C+Esp%C3%ADrito+Santo%2C+Brazil&q=nan&q=nan&q=nan&q=Vit%C3%B3ria%2C+Vit%C3%B3ria%2C+Esp%C3%ADrito+Santo%2C+Brazil&q=Es%2C+Vit%C3%B3ria%2C+Esp%C3%ADrito+Santo%2C+Brazil&q=Brazil%2C+Vit%C3%B3ria%2C+Esp%C3%ADrito+Santo%2C+Brazil&o=json&inclnb=1&key=ArM0cQoiG2wDASYT7dhCsWjYFKjIHq4wwKa7lLuMYspeXTdJnXimERp8Nsot5G0I&maxResults=1\n",
      "Status code 400 from http://dev.virtualearth.net/REST/v1/Locations: ERROR - 400 Client Error: Bad Request for url: http://dev.virtualearth.net/REST/v1/Locations?q=Maria+Ortiz%2C+Vit%C3%B3ria%2C+Esp%C3%ADrito+Santo%2C+Brazil&q=Error+-+400+Client+Error%3A+Bad+Request+For+Url%3A+Http%3A%2F%2FDev.Virtualearth.Net%2FRest%2FV1%2FLocations%3FQ%3DMaria%2BOrtiz%252C%2BVit%25C3%25B3Ria%252C%2BEsp%25C3%25Adrito%2BSanto%252C%2BBrazil%26Q%3DOk%252C%2BVit%25C3%25B3Ria%252C%2BEsp%25C3%25Adrito%2BSanto%252C%2BBrazil%26Q%3DNan%26Q%3DNan%26Q%3DNan%26Q%3DVit%25C3%25B3Ria%252C%2BVit%25C3%25B3Ria%252C%2BEsp%25C3%25Adrito%2BSanto%252C%2BBrazil%26Q%3DEs%252C%2BVit%25C3%25B3Ria%252C%2BEsp%25C3%25Adrito%2BSanto%252C%2BBrazil%26Q%3DBrazil%252C%2BVit%25C3%25B3Ria%252C%2BEsp%25C3%25Adrito%2BSanto%252C%2BBrazil%26O%3DJson%26Inclnb%3D1%26Key%3DArm0Cqoig2Wdasyt7Dhcswjyfkjihq4Wwka7Llumyspextdjnximerp8Nsot5G0I%26Maxresults%3D1%2C+Vit%C3%B3ria%2C+Esp%C3%ADrito+Santo%2C+Brazil&q=nan&q=nan&q=nan&q=Vit%C3%B3ria%2C+Vit%C3%B3ria%2C+Esp%C3%ADrito+Santo%2C+Brazil&q=Es%2C+Vit%C3%B3ria%2C+Esp%C3%ADrito+Santo%2C+Brazil&q=Brazil%2C+Vit%C3%B3ria%2C+Esp%C3%ADrito+Santo%2C+Brazil&o=json&inclnb=1&key=ArM0cQoiG2wDASYT7dhCsWjYFKjIHq4wwKa7lLuMYspeXTdJnXimERp8Nsot5G0I&maxResults=1\n",
      "Status code 400 from http://dev.virtualearth.net/REST/v1/Locations: ERROR - 400 Client Error: Bad Request for url: http://dev.virtualearth.net/REST/v1/Locations?q=Resist%C3%AAncia%2C+Vit%C3%B3ria%2C+Esp%C3%ADrito+Santo%2C+Brazil&q=Error+-+400+Client+Error%3A+Bad+Request+For+Url%3A+Http%3A%2F%2FDev.Virtualearth.Net%2FRest%2FV1%2FLocations%3FQ%3DResist%25C3%25Aancia%252C%2BVit%25C3%25B3Ria%252C%2BEsp%25C3%25Adrito%2BSanto%252C%2BBrazil%26Q%3DOk%252C%2BVit%25C3%25B3Ria%252C%2BEsp%25C3%25Adrito%2BSanto%252C%2BBrazil%26Q%3DNan%26Q%3DNan%26Q%3DNan%26Q%3DVit%25C3%25B3Ria%252C%2BVit%25C3%25B3Ria%252C%2BEsp%25C3%25Adrito%2BSanto%252C%2BBrazil%26Q%3DEs%252C%2BVit%25C3%25B3Ria%252C%2BEsp%25C3%25Adrito%2BSanto%252C%2BBrazil%26Q%3DBrazil%252C%2BVit%25C3%25B3Ria%252C%2BEsp%25C3%25Adrito%2BSanto%252C%2BBrazil%26O%3DJson%26Inclnb%3D1%26Key%3DArm0Cqoig2Wdasyt7Dhcswjyfkjihq4Wwka7Llumyspextdjnximerp8Nsot5G0I%26Maxresults%3D1%2C+Vit%C3%B3ria%2C+Esp%C3%ADrito+Santo%2C+Brazil&q=nan&q=nan&q=nan&q=Vit%C3%B3ria%2C+Vit%C3%B3ria%2C+Esp%C3%ADrito+Santo%2C+Brazil&q=Es%2C+Vit%C3%B3ria%2C+Esp%C3%ADrito+Santo%2C+Brazil&q=Brazil%2C+Vit%C3%B3ria%2C+Esp%C3%ADrito+Santo%2C+Brazil&o=json&inclnb=1&key=ArM0cQoiG2wDASYT7dhCsWjYFKjIHq4wwKa7lLuMYspeXTdJnXimERp8Nsot5G0I&maxResults=1\n",
      "Status code 400 from http://dev.virtualearth.net/REST/v1/Locations: ERROR - 400 Client Error: Bad Request for url: http://dev.virtualearth.net/REST/v1/Locations?q=Jardim+Da+Penha%2C+Vit%C3%B3ria%2C+Esp%C3%ADrito+Santo%2C+Brazil&q=Error+-+400+Client+Error%3A+Bad+Request+For+Url%3A+Http%3A%2F%2FDev.Virtualearth.Net%2FRest%2FV1%2FLocations%3FQ%3DJardim%2BDa%2BPenha%252C%2BVit%25C3%25B3Ria%252C%2BEsp%25C3%25Adrito%2BSanto%252C%2BBrazil%26Q%3DOk%252C%2BVit%25C3%25B3Ria%252C%2BEsp%25C3%25Adrito%2BSanto%252C%2BBrazil%26Q%3DNan%26Q%3DNan%26Q%3DNan%26Q%3DVit%25C3%25B3Ria%252C%2BVit%25C3%25B3Ria%252C%2BEsp%25C3%25Adrito%2BSanto%252C%2BBrazil%26Q%3DEs%252C%2BVit%25C3%25B3Ria%252C%2BEsp%25C3%25Adrito%2BSanto%252C%2BBrazil%26Q%3DBrazil%252C%2BVit%25C3%25B3Ria%252C%2BEsp%25C3%25Adrito%2BSanto%252C%2BBrazil%26O%3DJson%26Inclnb%3D1%26Key%3DArm0Cqoig2Wdasyt7Dhcswjyfkjihq4Wwka7Llumyspextdjnximerp8Nsot5G0I%26Maxresults%3D1%2C+Vit%C3%B3ria%2C+Esp%C3%ADrito+Santo%2C+Brazil&q=nan&q=nan&q=nan&q=Vit%C3%B3ria%2C+Vit%C3%B3ria%2C+Esp%C3%ADrito+Santo%2C+Brazil&q=Es%2C+Vit%C3%B3ria%2C+Esp%C3%ADrito+Santo%2C+Brazil&q=Brazil%2C+Vit%C3%B3ria%2C+Esp%C3%ADrito+Santo%2C+Brazil&o=json&inclnb=1&key=ArM0cQoiG2wDASYT7dhCsWjYFKjIHq4wwKa7lLuMYspeXTdJnXimERp8Nsot5G0I&maxResults=1\n",
      "Status code 400 from http://dev.virtualearth.net/REST/v1/Locations: ERROR - 400 Client Error: Bad Request for url: http://dev.virtualearth.net/REST/v1/Locations?q=Itarar%C3%A9%2C+Vit%C3%B3ria%2C+Esp%C3%ADrito+Santo%2C+Brazil&q=Error+-+400+Client+Error%3A+Bad+Request+For+Url%3A+Http%3A%2F%2FDev.Virtualearth.Net%2FRest%2FV1%2FLocations%3FQ%3DItarar%25C3%25A9%252C%2BVit%25C3%25B3Ria%252C%2BEsp%25C3%25Adrito%2BSanto%252C%2BBrazil%26Q%3DOk%252C%2BVit%25C3%25B3Ria%252C%2BEsp%25C3%25Adrito%2BSanto%252C%2BBrazil%26Q%3DNan%26Q%3DNan%26Q%3DNan%26Q%3DVit%25C3%25B3Ria%252C%2BVit%25C3%25B3Ria%252C%2BEsp%25C3%25Adrito%2BSanto%252C%2BBrazil%26Q%3DEs%252C%2BVit%25C3%25B3Ria%252C%2BEsp%25C3%25Adrito%2BSanto%252C%2BBrazil%26Q%3DBrazil%252C%2BVit%25C3%25B3Ria%252C%2BEsp%25C3%25Adrito%2BSanto%252C%2BBrazil%26O%3DJson%26Inclnb%3D1%26Key%3DArm0Cqoig2Wdasyt7Dhcswjyfkjihq4Wwka7Llumyspextdjnximerp8Nsot5G0I%26Maxresults%3D1%2C+Vit%C3%B3ria%2C+Esp%C3%ADrito+Santo%2C+Brazil&q=nan&q=nan&q=nan&q=Vit%C3%B3ria%2C+Vit%C3%B3ria%2C+Esp%C3%ADrito+Santo%2C+Brazil&q=Es%2C+Vit%C3%B3ria%2C+Esp%C3%ADrito+Santo%2C+Brazil&q=Brazil%2C+Vit%C3%B3ria%2C+Esp%C3%ADrito+Santo%2C+Brazil&o=json&inclnb=1&key=ArM0cQoiG2wDASYT7dhCsWjYFKjIHq4wwKa7lLuMYspeXTdJnXimERp8Nsot5G0I&maxResults=1\n",
      "Status code 400 from http://dev.virtualearth.net/REST/v1/Locations: ERROR - 400 Client Error: Bad Request for url: http://dev.virtualearth.net/REST/v1/Locations?q=Centro%2C+Vit%C3%B3ria%2C+Esp%C3%ADrito+Santo%2C+Brazil&q=Error+-+400+Client+Error%3A+Bad+Request+For+Url%3A+Http%3A%2F%2FDev.Virtualearth.Net%2FRest%2FV1%2FLocations%3FQ%3DCentro%252C%2BVit%25C3%25B3Ria%252C%2BEsp%25C3%25Adrito%2BSanto%252C%2BBrazil%26Q%3DOk%252C%2BVit%25C3%25B3Ria%252C%2BEsp%25C3%25Adrito%2BSanto%252C%2BBrazil%26Q%3DNan%26Q%3DNan%26Q%3DNan%26Q%3DVit%25C3%25B3Ria%252C%2BVit%25C3%25B3Ria%252C%2BEsp%25C3%25Adrito%2BSanto%252C%2BBrazil%26Q%3DEs%252C%2BVit%25C3%25B3Ria%252C%2BEsp%25C3%25Adrito%2BSanto%252C%2BBrazil%26Q%3DBrazil%252C%2BVit%25C3%25B3Ria%252C%2BEsp%25C3%25Adrito%2BSanto%252C%2BBrazil%26O%3DJson%26Inclnb%3D1%26Key%3DArm0Cqoig2Wdasyt7Dhcswjyfkjihq4Wwka7Llumyspextdjnximerp8Nsot5G0I%26Maxresults%3D1%2C+Vit%C3%B3ria%2C+Esp%C3%ADrito+Santo%2C+Brazil&q=nan&q=nan&q=nan&q=Vit%C3%B3ria%2C+Vit%C3%B3ria%2C+Esp%C3%ADrito+Santo%2C+Brazil&q=Es%2C+Vit%C3%B3ria%2C+Esp%C3%ADrito+Santo%2C+Brazil&q=Brazil%2C+Vit%C3%B3ria%2C+Esp%C3%ADrito+Santo%2C+Brazil&o=json&inclnb=1&key=ArM0cQoiG2wDASYT7dhCsWjYFKjIHq4wwKa7lLuMYspeXTdJnXimERp8Nsot5G0I&maxResults=1\n",
      "Status code 429 from http://dev.virtualearth.net/REST/v1/Locations: ERROR - 429 Client Error: Too Many Requests for url: http://dev.virtualearth.net/REST/v1/Locations?q=Tabuazeiro%2C+Vit%C3%B3ria%2C+Esp%C3%ADrito+Santo%2C+Brazil&q=Error+-+400+Client+Error%3A+Bad+Request+For+Url%3A+Http%3A%2F%2FDev.Virtualearth.Net%2FRest%2FV1%2FLocations%3FQ%3DTabuazeiro%252C%2BVit%25C3%25B3Ria%252C%2BEsp%25C3%25Adrito%2BSanto%252C%2BBrazil%26Q%3DOk%252C%2BVit%25C3%25B3Ria%252C%2BEsp%25C3%25Adrito%2BSanto%252C%2BBrazil%26Q%3DNan%26Q%3DNan%26Q%3DNan%26Q%3DVit%25C3%25B3Ria%252C%2BVit%25C3%25B3Ria%252C%2BEsp%25C3%25Adrito%2BSanto%252C%2BBrazil%26Q%3DEs%252C%2BVit%25C3%25B3Ria%252C%2BEsp%25C3%25Adrito%2BSanto%252C%2BBrazil%26Q%3DBrazil%252C%2BVit%25C3%25B3Ria%252C%2BEsp%25C3%25Adrito%2BSanto%252C%2BBrazil%26O%3DJson%26Inclnb%3D1%26Key%3DArm0Cqoig2Wdasyt7Dhcswjyfkjihq4Wwka7Llumyspextdjnximerp8Nsot5G0I%26Maxresults%3D1%2C+Vit%C3%B3ria%2C+Esp%C3%ADrito+Santo%2C+Brazil&q=nan&q=nan&q=nan&q=Vit%C3%B3ria%2C+Vit%C3%B3ria%2C+Esp%C3%ADrito+Santo%2C+Brazil&q=Es%2C+Vit%C3%B3ria%2C+Esp%C3%ADrito+Santo%2C+Brazil&q=Brazil%2C+Vit%C3%B3ria%2C+Esp%C3%ADrito+Santo%2C+Brazil&o=json&inclnb=1&key=ArM0cQoiG2wDASYT7dhCsWjYFKjIHq4wwKa7lLuMYspeXTdJnXimERp8Nsot5G0I&maxResults=1\n"
     ]
    },
    {
     "name": "stderr",
     "output_type": "stream",
     "text": [
      "Status code 400 from http://dev.virtualearth.net/REST/v1/Locations: ERROR - 400 Client Error: Bad Request for url: http://dev.virtualearth.net/REST/v1/Locations?q=Santa+Martha%2C+Vit%C3%B3ria%2C+Esp%C3%ADrito+Santo%2C+Brazil&q=Error+-+400+Client+Error%3A+Bad+Request+For+Url%3A+Http%3A%2F%2FDev.Virtualearth.Net%2FRest%2FV1%2FLocations%3FQ%3DSanta%2BMartha%252C%2BVit%25C3%25B3Ria%252C%2BEsp%25C3%25Adrito%2BSanto%252C%2BBrazil%26Q%3DOver_Query_Limit%252C%2BVit%25C3%25B3Ria%252C%2BEsp%25C3%25Adrito%2BSanto%252C%2BBrazil%26Q%3DNan%26Q%3DNan%26Q%3DNan%26Q%3DNan%26Q%3DNan%26Q%3DNan%26O%3DJson%26Inclnb%3D1%26Key%3DArm0Cqoig2Wdasyt7Dhcswjyfkjihq4Wwka7Llumyspextdjnximerp8Nsot5G0I%26Maxresults%3D1%2C+Vit%C3%B3ria%2C+Esp%C3%ADrito+Santo%2C+Brazil&q=nan&q=nan&q=nan&q=nan&q=nan&q=nan&o=json&inclnb=1&key=ArM0cQoiG2wDASYT7dhCsWjYFKjIHq4wwKa7lLuMYspeXTdJnXimERp8Nsot5G0I&maxResults=1\n",
      "Status code 400 from http://dev.virtualearth.net/REST/v1/Locations: ERROR - 400 Client Error: Bad Request for url: http://dev.virtualearth.net/REST/v1/Locations?q=Jesus+De+Nazareth%2C+Vit%C3%B3ria%2C+Esp%C3%ADrito+Santo%2C+Brazil&q=Error+-+400+Client+Error%3A+Bad+Request+For+Url%3A+Http%3A%2F%2FDev.Virtualearth.Net%2FRest%2FV1%2FLocations%3FQ%3DJesus%2BDe%2BNazareth%252C%2BVit%25C3%25B3Ria%252C%2BEsp%25C3%25Adrito%2BSanto%252C%2BBrazil%26Q%3DOver_Query_Limit%252C%2BVit%25C3%25B3Ria%252C%2BEsp%25C3%25Adrito%2BSanto%252C%2BBrazil%26Q%3DNan%26Q%3DNan%26Q%3DNan%26Q%3DNan%26Q%3DNan%26Q%3DNan%26O%3DJson%26Inclnb%3D1%26Key%3DArm0Cqoig2Wdasyt7Dhcswjyfkjihq4Wwka7Llumyspextdjnximerp8Nsot5G0I%26Maxresults%3D1%2C+Vit%C3%B3ria%2C+Esp%C3%ADrito+Santo%2C+Brazil&q=nan&q=nan&q=nan&q=nan&q=nan&q=nan&o=json&inclnb=1&key=ArM0cQoiG2wDASYT7dhCsWjYFKjIHq4wwKa7lLuMYspeXTdJnXimERp8Nsot5G0I&maxResults=1\n",
      "Status code 429 from http://dev.virtualearth.net/REST/v1/Locations: ERROR - 429 Client Error: Too Many Requests for url: http://dev.virtualearth.net/REST/v1/Locations?q=Bonfim%2C+Vit%C3%B3ria%2C+Esp%C3%ADrito+Santo%2C+Brazil&q=Error+-+400+Client+Error%3A+Bad+Request+For+Url%3A+Http%3A%2F%2FDev.Virtualearth.Net%2FRest%2FV1%2FLocations%3FQ%3DBonfim%252C%2BVit%25C3%25B3Ria%252C%2BEsp%25C3%25Adrito%2BSanto%252C%2BBrazil%26Q%3DOk%252C%2BVit%25C3%25B3Ria%252C%2BEsp%25C3%25Adrito%2BSanto%252C%2BBrazil%26Q%3DNan%26Q%3DNan%26Q%3DNan%26Q%3DVit%25C3%25B3Ria%252C%2BVit%25C3%25B3Ria%252C%2BEsp%25C3%25Adrito%2BSanto%252C%2BBrazil%26Q%3DEs%252C%2BVit%25C3%25B3Ria%252C%2BEsp%25C3%25Adrito%2BSanto%252C%2BBrazil%26Q%3DBrazil%252C%2BVit%25C3%25B3Ria%252C%2BEsp%25C3%25Adrito%2BSanto%252C%2BBrazil%26O%3DJson%26Inclnb%3D1%26Key%3DArm0Cqoig2Wdasyt7Dhcswjyfkjihq4Wwka7Llumyspextdjnximerp8Nsot5G0I%26Maxresults%3D1%2C+Vit%C3%B3ria%2C+Esp%C3%ADrito+Santo%2C+Brazil&q=nan&q=nan&q=nan&q=Vit%C3%B3ria%2C+Vit%C3%B3ria%2C+Esp%C3%ADrito+Santo%2C+Brazil&q=Es%2C+Vit%C3%B3ria%2C+Esp%C3%ADrito+Santo%2C+Brazil&q=Brazil%2C+Vit%C3%B3ria%2C+Esp%C3%ADrito+Santo%2C+Brazil&o=json&inclnb=1&key=ArM0cQoiG2wDASYT7dhCsWjYFKjIHq4wwKa7lLuMYspeXTdJnXimERp8Nsot5G0I&maxResults=1\n",
      "Status code 400 from http://dev.virtualearth.net/REST/v1/Locations: ERROR - 400 Client Error: Bad Request for url: http://dev.virtualearth.net/REST/v1/Locations?q=Santo+Ant%C3%B4nio%2C+Vit%C3%B3ria%2C+Esp%C3%ADrito+Santo%2C+Brazil&q=Error+-+400+Client+Error%3A+Bad+Request+For+Url%3A+Http%3A%2F%2FDev.Virtualearth.Net%2FRest%2FV1%2FLocations%3FQ%3DSanto%2BAnt%25C3%25B4Nio%252C%2BVit%25C3%25B3Ria%252C%2BEsp%25C3%25Adrito%2BSanto%252C%2BBrazil%26Q%3DOk%252C%2BVit%25C3%25B3Ria%252C%2BEsp%25C3%25Adrito%2BSanto%252C%2BBrazil%26Q%3DNan%26Q%3DNan%26Q%3DNan%26Q%3DVit%25C3%25B3Ria%252C%2BVit%25C3%25B3Ria%252C%2BEsp%25C3%25Adrito%2BSanto%252C%2BBrazil%26Q%3DEs%252C%2BVit%25C3%25B3Ria%252C%2BEsp%25C3%25Adrito%2BSanto%252C%2BBrazil%26Q%3DBrazil%252C%2BVit%25C3%25B3Ria%252C%2BEsp%25C3%25Adrito%2BSanto%252C%2BBrazil%26O%3DJson%26Inclnb%3D1%26Key%3DArm0Cqoig2Wdasyt7Dhcswjyfkjihq4Wwka7Llumyspextdjnximerp8Nsot5G0I%26Maxresults%3D1%2C+Vit%C3%B3ria%2C+Esp%C3%ADrito+Santo%2C+Brazil&q=nan&q=nan&q=nan&q=Vit%C3%B3ria%2C+Vit%C3%B3ria%2C+Esp%C3%ADrito+Santo%2C+Brazil&q=Es%2C+Vit%C3%B3ria%2C+Esp%C3%ADrito+Santo%2C+Brazil&q=Brazil%2C+Vit%C3%B3ria%2C+Esp%C3%ADrito+Santo%2C+Brazil&o=json&inclnb=1&key=ArM0cQoiG2wDASYT7dhCsWjYFKjIHq4wwKa7lLuMYspeXTdJnXimERp8Nsot5G0I&maxResults=1\n",
      "Status code 429 from http://dev.virtualearth.net/REST/v1/Locations: ERROR - 429 Client Error: Too Many Requests for url: http://dev.virtualearth.net/REST/v1/Locations?q=Santo+Andr%C3%A9%2C+Vit%C3%B3ria%2C+Esp%C3%ADrito+Santo%2C+Brazil&q=Error+-+400+Client+Error%3A+Bad+Request+For+Url%3A+Http%3A%2F%2FDev.Virtualearth.Net%2FRest%2FV1%2FLocations%3FQ%3DSanto%2BAndr%25C3%25A9%252C%2BVit%25C3%25B3Ria%252C%2BEsp%25C3%25Adrito%2BSanto%252C%2BBrazil%26Q%3DOk%252C%2BVit%25C3%25B3Ria%252C%2BEsp%25C3%25Adrito%2BSanto%252C%2BBrazil%26Q%3DNan%26Q%3DNan%26Q%3DNan%26Q%3DVit%25C3%25B3Ria%252C%2BVit%25C3%25B3Ria%252C%2BEsp%25C3%25Adrito%2BSanto%252C%2BBrazil%26Q%3DEs%252C%2BVit%25C3%25B3Ria%252C%2BEsp%25C3%25Adrito%2BSanto%252C%2BBrazil%26Q%3DBrazil%252C%2BVit%25C3%25B3Ria%252C%2BEsp%25C3%25Adrito%2BSanto%252C%2BBrazil%26O%3DJson%26Inclnb%3D1%26Key%3DArm0Cqoig2Wdasyt7Dhcswjyfkjihq4Wwka7Llumyspextdjnximerp8Nsot5G0I%26Maxresults%3D1%2C+Vit%C3%B3ria%2C+Esp%C3%ADrito+Santo%2C+Brazil&q=nan&q=nan&q=nan&q=Vit%C3%B3ria%2C+Vit%C3%B3ria%2C+Esp%C3%ADrito+Santo%2C+Brazil&q=Es%2C+Vit%C3%B3ria%2C+Esp%C3%ADrito+Santo%2C+Brazil&q=Brazil%2C+Vit%C3%B3ria%2C+Esp%C3%ADrito+Santo%2C+Brazil&o=json&inclnb=1&key=ArM0cQoiG2wDASYT7dhCsWjYFKjIHq4wwKa7lLuMYspeXTdJnXimERp8Nsot5G0I&maxResults=1\n",
      "Status code 429 from http://dev.virtualearth.net/REST/v1/Locations: ERROR - 429 Client Error: Too Many Requests for url: http://dev.virtualearth.net/REST/v1/Locations?q=Carato%C3%ADra%2C+Vit%C3%B3ria%2C+Esp%C3%ADrito+Santo%2C+Brazil&q=Error+-+400+Client+Error%3A+Bad+Request+For+Url%3A+Http%3A%2F%2FDev.Virtualearth.Net%2FRest%2FV1%2FLocations%3FQ%3DCarato%25C3%25Adra%252C%2BVit%25C3%25B3Ria%252C%2BEsp%25C3%25Adrito%2BSanto%252C%2BBrazil%26Q%3DOk%252C%2BVit%25C3%25B3Ria%252C%2BEsp%25C3%25Adrito%2BSanto%252C%2BBrazil%26Q%3DNan%26Q%3DNan%26Q%3DNan%26Q%3DVit%25C3%25B3Ria%252C%2BVit%25C3%25B3Ria%252C%2BEsp%25C3%25Adrito%2BSanto%252C%2BBrazil%26Q%3DEs%252C%2BVit%25C3%25B3Ria%252C%2BEsp%25C3%25Adrito%2BSanto%252C%2BBrazil%26Q%3DBrazil%252C%2BVit%25C3%25B3Ria%252C%2BEsp%25C3%25Adrito%2BSanto%252C%2BBrazil%26O%3DJson%26Inclnb%3D1%26Key%3DArm0Cqoig2Wdasyt7Dhcswjyfkjihq4Wwka7Llumyspextdjnximerp8Nsot5G0I%26Maxresults%3D1%2C+Vit%C3%B3ria%2C+Esp%C3%ADrito+Santo%2C+Brazil&q=nan&q=nan&q=nan&q=Vit%C3%B3ria%2C+Vit%C3%B3ria%2C+Esp%C3%ADrito+Santo%2C+Brazil&q=Es%2C+Vit%C3%B3ria%2C+Esp%C3%ADrito+Santo%2C+Brazil&q=Brazil%2C+Vit%C3%B3ria%2C+Esp%C3%ADrito+Santo%2C+Brazil&o=json&inclnb=1&key=ArM0cQoiG2wDASYT7dhCsWjYFKjIHq4wwKa7lLuMYspeXTdJnXimERp8Nsot5G0I&maxResults=1\n",
      "Status code 400 from http://dev.virtualearth.net/REST/v1/Locations: ERROR - 400 Client Error: Bad Request for url: http://dev.virtualearth.net/REST/v1/Locations?q=Jabour%2C+Vit%C3%B3ria%2C+Esp%C3%ADrito+Santo%2C+Brazil&q=Error+-+400+Client+Error%3A+Bad+Request+For+Url%3A+Http%3A%2F%2FDev.Virtualearth.Net%2FRest%2FV1%2FLocations%3FQ%3DJabour%252C%2BVit%25C3%25B3Ria%252C%2BEsp%25C3%25Adrito%2BSanto%252C%2BBrazil%26Q%3DOk%252C%2BVit%25C3%25B3Ria%252C%2BEsp%25C3%25Adrito%2BSanto%252C%2BBrazil%26Q%3DNan%26Q%3DNan%26Q%3DNan%26Q%3DVit%25C3%25B3Ria%252C%2BVit%25C3%25B3Ria%252C%2BEsp%25C3%25Adrito%2BSanto%252C%2BBrazil%26Q%3DEs%252C%2BVit%25C3%25B3Ria%252C%2BEsp%25C3%25Adrito%2BSanto%252C%2BBrazil%26Q%3DBrazil%252C%2BVit%25C3%25B3Ria%252C%2BEsp%25C3%25Adrito%2BSanto%252C%2BBrazil%26O%3DJson%26Inclnb%3D1%26Key%3DArm0Cqoig2Wdasyt7Dhcswjyfkjihq4Wwka7Llumyspextdjnximerp8Nsot5G0I%26Maxresults%3D1%2C+Vit%C3%B3ria%2C+Esp%C3%ADrito+Santo%2C+Brazil&q=nan&q=nan&q=nan&q=Vit%C3%B3ria%2C+Vit%C3%B3ria%2C+Esp%C3%ADrito+Santo%2C+Brazil&q=Es%2C+Vit%C3%B3ria%2C+Esp%C3%ADrito+Santo%2C+Brazil&q=Brazil%2C+Vit%C3%B3ria%2C+Esp%C3%ADrito+Santo%2C+Brazil&o=json&inclnb=1&key=ArM0cQoiG2wDASYT7dhCsWjYFKjIHq4wwKa7lLuMYspeXTdJnXimERp8Nsot5G0I&maxResults=1\n",
      "Status code 400 from http://dev.virtualearth.net/REST/v1/Locations: ERROR - 400 Client Error: Bad Request for url: http://dev.virtualearth.net/REST/v1/Locations?q=S%C3%A3o+Pedro%2C+Vit%C3%B3ria%2C+Esp%C3%ADrito+Santo%2C+Brazil&q=Error+-+400+Client+Error%3A+Bad+Request+For+Url%3A+Http%3A%2F%2FDev.Virtualearth.Net%2FRest%2FV1%2FLocations%3FQ%3DS%25C3%25A3O%2BPedro%252C%2BVit%25C3%25B3Ria%252C%2BEsp%25C3%25Adrito%2BSanto%252C%2BBrazil%26Q%3DOk%252C%2BVit%25C3%25B3Ria%252C%2BEsp%25C3%25Adrito%2BSanto%252C%2BBrazil%26Q%3DNan%26Q%3DNan%26Q%3DNan%26Q%3DVit%25C3%25B3Ria%252C%2BVit%25C3%25B3Ria%252C%2BEsp%25C3%25Adrito%2BSanto%252C%2BBrazil%26Q%3DEs%252C%2BVit%25C3%25B3Ria%252C%2BEsp%25C3%25Adrito%2BSanto%252C%2BBrazil%26Q%3DBrazil%252C%2BVit%25C3%25B3Ria%252C%2BEsp%25C3%25Adrito%2BSanto%252C%2BBrazil%26O%3DJson%26Inclnb%3D1%26Key%3DArm0Cqoig2Wdasyt7Dhcswjyfkjihq4Wwka7Llumyspextdjnximerp8Nsot5G0I%26Maxresults%3D1%2C+Vit%C3%B3ria%2C+Esp%C3%ADrito+Santo%2C+Brazil&q=nan&q=nan&q=nan&q=Vit%C3%B3ria%2C+Vit%C3%B3ria%2C+Esp%C3%ADrito+Santo%2C+Brazil&q=Es%2C+Vit%C3%B3ria%2C+Esp%C3%ADrito+Santo%2C+Brazil&q=Brazil%2C+Vit%C3%B3ria%2C+Esp%C3%ADrito+Santo%2C+Brazil&o=json&inclnb=1&key=ArM0cQoiG2wDASYT7dhCsWjYFKjIHq4wwKa7lLuMYspeXTdJnXimERp8Nsot5G0I&maxResults=1\n"
     ]
    },
    {
     "name": "stderr",
     "output_type": "stream",
     "text": [
      "Status code 429 from http://dev.virtualearth.net/REST/v1/Locations: ERROR - 429 Client Error: Too Many Requests for url: http://dev.virtualearth.net/REST/v1/Locations?q=Ilha+Do+Pr%C3%ADncipe%2C+Vit%C3%B3ria%2C+Esp%C3%ADrito+Santo%2C+Brazil&q=Error+-+400+Client+Error%3A+Bad+Request+For+Url%3A+Http%3A%2F%2FDev.Virtualearth.Net%2FRest%2FV1%2FLocations%3FQ%3DIlha%2BDo%2BPr%25C3%25Adncipe%252C%2BVit%25C3%25B3Ria%252C%2BEsp%25C3%25Adrito%2BSanto%252C%2BBrazil%26Q%3DOk%252C%2BVit%25C3%25B3Ria%252C%2BEsp%25C3%25Adrito%2BSanto%252C%2BBrazil%26Q%3DNan%26Q%3DNan%26Q%3DNan%26Q%3DVit%25C3%25B3Ria%252C%2BVit%25C3%25B3Ria%252C%2BEsp%25C3%25Adrito%2BSanto%252C%2BBrazil%26Q%3DEs%252C%2BVit%25C3%25B3Ria%252C%2BEsp%25C3%25Adrito%2BSanto%252C%2BBrazil%26Q%3DBrazil%252C%2BVit%25C3%25B3Ria%252C%2BEsp%25C3%25Adrito%2BSanto%252C%2BBrazil%26O%3DJson%26Inclnb%3D1%26Key%3DArm0Cqoig2Wdasyt7Dhcswjyfkjihq4Wwka7Llumyspextdjnximerp8Nsot5G0I%26Maxresults%3D1%2C+Vit%C3%B3ria%2C+Esp%C3%ADrito+Santo%2C+Brazil&q=nan&q=nan&q=nan&q=Vit%C3%B3ria%2C+Vit%C3%B3ria%2C+Esp%C3%ADrito+Santo%2C+Brazil&q=Es%2C+Vit%C3%B3ria%2C+Esp%C3%ADrito+Santo%2C+Brazil&q=Brazil%2C+Vit%C3%B3ria%2C+Esp%C3%ADrito+Santo%2C+Brazil&o=json&inclnb=1&key=ArM0cQoiG2wDASYT7dhCsWjYFKjIHq4wwKa7lLuMYspeXTdJnXimERp8Nsot5G0I&maxResults=1\n",
      "Status code 400 from http://dev.virtualearth.net/REST/v1/Locations: ERROR - 400 Client Error: Bad Request for url: http://dev.virtualearth.net/REST/v1/Locations?q=Nova+Palestina%2C+Vit%C3%B3ria%2C+Esp%C3%ADrito+Santo%2C+Brazil&q=Error+-+400+Client+Error%3A+Bad+Request+For+Url%3A+Http%3A%2F%2FDev.Virtualearth.Net%2FRest%2FV1%2FLocations%3FQ%3DNova%2BPalestina%252C%2BVit%25C3%25B3Ria%252C%2BEsp%25C3%25Adrito%2BSanto%252C%2BBrazil%26Q%3DOk%252C%2BVit%25C3%25B3Ria%252C%2BEsp%25C3%25Adrito%2BSanto%252C%2BBrazil%26Q%3DNan%26Q%3DNan%26Q%3DNan%26Q%3DVit%25C3%25B3Ria%252C%2BVit%25C3%25B3Ria%252C%2BEsp%25C3%25Adrito%2BSanto%252C%2BBrazil%26Q%3DEs%252C%2BVit%25C3%25B3Ria%252C%2BEsp%25C3%25Adrito%2BSanto%252C%2BBrazil%26Q%3DBrazil%252C%2BVit%25C3%25B3Ria%252C%2BEsp%25C3%25Adrito%2BSanto%252C%2BBrazil%26O%3DJson%26Inclnb%3D1%26Key%3DArm0Cqoig2Wdasyt7Dhcswjyfkjihq4Wwka7Llumyspextdjnximerp8Nsot5G0I%26Maxresults%3D1%2C+Vit%C3%B3ria%2C+Esp%C3%ADrito+Santo%2C+Brazil&q=nan&q=nan&q=nan&q=Vit%C3%B3ria%2C+Vit%C3%B3ria%2C+Esp%C3%ADrito+Santo%2C+Brazil&q=Es%2C+Vit%C3%B3ria%2C+Esp%C3%ADrito+Santo%2C+Brazil&q=Brazil%2C+Vit%C3%B3ria%2C+Esp%C3%ADrito+Santo%2C+Brazil&o=json&inclnb=1&key=ArM0cQoiG2wDASYT7dhCsWjYFKjIHq4wwKa7lLuMYspeXTdJnXimERp8Nsot5G0I&maxResults=1\n",
      "Status code 400 from http://dev.virtualearth.net/REST/v1/Locations: ERROR - 400 Client Error: Bad Request for url: http://dev.virtualearth.net/REST/v1/Locations?q=Andorinhas%2C+Vit%C3%B3ria%2C+Esp%C3%ADrito+Santo%2C+Brazil&q=Error+-+400+Client+Error%3A+Bad+Request+For+Url%3A+Http%3A%2F%2FDev.Virtualearth.Net%2FRest%2FV1%2FLocations%3FQ%3DAndorinhas%252C%2BVit%25C3%25B3Ria%252C%2BEsp%25C3%25Adrito%2BSanto%252C%2BBrazil%26Q%3DOk%252C%2BVit%25C3%25B3Ria%252C%2BEsp%25C3%25Adrito%2BSanto%252C%2BBrazil%26Q%3DNan%26Q%3DNan%26Q%3DNan%26Q%3DVit%25C3%25B3Ria%252C%2BVit%25C3%25B3Ria%252C%2BEsp%25C3%25Adrito%2BSanto%252C%2BBrazil%26Q%3DEs%252C%2BVit%25C3%25B3Ria%252C%2BEsp%25C3%25Adrito%2BSanto%252C%2BBrazil%26Q%3DBrazil%252C%2BVit%25C3%25B3Ria%252C%2BEsp%25C3%25Adrito%2BSanto%252C%2BBrazil%26O%3DJson%26Inclnb%3D1%26Key%3DArm0Cqoig2Wdasyt7Dhcswjyfkjihq4Wwka7Llumyspextdjnximerp8Nsot5G0I%26Maxresults%3D1%2C+Vit%C3%B3ria%2C+Esp%C3%ADrito+Santo%2C+Brazil&q=nan&q=nan&q=nan&q=Vit%C3%B3ria%2C+Vit%C3%B3ria%2C+Esp%C3%ADrito+Santo%2C+Brazil&q=Es%2C+Vit%C3%B3ria%2C+Esp%C3%ADrito+Santo%2C+Brazil&q=Brazil%2C+Vit%C3%B3ria%2C+Esp%C3%ADrito+Santo%2C+Brazil&o=json&inclnb=1&key=ArM0cQoiG2wDASYT7dhCsWjYFKjIHq4wwKa7lLuMYspeXTdJnXimERp8Nsot5G0I&maxResults=1\n",
      "Status code 429 from http://dev.virtualearth.net/REST/v1/Locations: ERROR - 429 Client Error: Too Many Requests for url: http://dev.virtualearth.net/REST/v1/Locations?q=Da+Penha%2C+Vit%C3%B3ria%2C+Esp%C3%ADrito+Santo%2C+Brazil&q=Error+-+400+Client+Error%3A+Bad+Request+For+Url%3A+Http%3A%2F%2FDev.Virtualearth.Net%2FRest%2FV1%2FLocations%3FQ%3DDa%2BPenha%252C%2BVit%25C3%25B3Ria%252C%2BEsp%25C3%25Adrito%2BSanto%252C%2BBrazil%26Q%3DOver_Query_Limit%252C%2BVit%25C3%25B3Ria%252C%2BEsp%25C3%25Adrito%2BSanto%252C%2BBrazil%26Q%3DNan%26Q%3DNan%26Q%3DNan%26Q%3DNan%26Q%3DNan%26Q%3DNan%26O%3DJson%26Inclnb%3D1%26Key%3DArm0Cqoig2Wdasyt7Dhcswjyfkjihq4Wwka7Llumyspextdjnximerp8Nsot5G0I%26Maxresults%3D1%2C+Vit%C3%B3ria%2C+Esp%C3%ADrito+Santo%2C+Brazil&q=nan&q=nan&q=nan&q=nan&q=nan&q=nan&o=json&inclnb=1&key=ArM0cQoiG2wDASYT7dhCsWjYFKjIHq4wwKa7lLuMYspeXTdJnXimERp8Nsot5G0I&maxResults=1\n",
      "Status code 429 from http://dev.virtualearth.net/REST/v1/Locations: ERROR - 429 Client Error: Too Many Requests for url: http://dev.virtualearth.net/REST/v1/Locations?q=Rom%C3%A3o%2C+Vit%C3%B3ria%2C+Esp%C3%ADrito+Santo%2C+Brazil&q=Error+-+400+Client+Error%3A+Bad+Request+For+Url%3A+Http%3A%2F%2FDev.Virtualearth.Net%2FRest%2FV1%2FLocations%3FQ%3DRom%25C3%25A3O%252C%2BVit%25C3%25B3Ria%252C%2BEsp%25C3%25Adrito%2BSanto%252C%2BBrazil%26Q%3DOk%252C%2BVit%25C3%25B3Ria%252C%2BEsp%25C3%25Adrito%2BSanto%252C%2BBrazil%26Q%3DNan%26Q%3DNan%26Q%3DNan%26Q%3DVit%25C3%25B3Ria%252C%2BVit%25C3%25B3Ria%252C%2BEsp%25C3%25Adrito%2BSanto%252C%2BBrazil%26Q%3DEs%252C%2BVit%25C3%25B3Ria%252C%2BEsp%25C3%25Adrito%2BSanto%252C%2BBrazil%26Q%3DBrazil%252C%2BVit%25C3%25B3Ria%252C%2BEsp%25C3%25Adrito%2BSanto%252C%2BBrazil%26O%3DJson%26Inclnb%3D1%26Key%3DArm0Cqoig2Wdasyt7Dhcswjyfkjihq4Wwka7Llumyspextdjnximerp8Nsot5G0I%26Maxresults%3D1%2C+Vit%C3%B3ria%2C+Esp%C3%ADrito+Santo%2C+Brazil&q=nan&q=nan&q=nan&q=Vit%C3%B3ria%2C+Vit%C3%B3ria%2C+Esp%C3%ADrito+Santo%2C+Brazil&q=Es%2C+Vit%C3%B3ria%2C+Esp%C3%ADrito+Santo%2C+Brazil&q=Brazil%2C+Vit%C3%B3ria%2C+Esp%C3%ADrito+Santo%2C+Brazil&o=json&inclnb=1&key=ArM0cQoiG2wDASYT7dhCsWjYFKjIHq4wwKa7lLuMYspeXTdJnXimERp8Nsot5G0I&maxResults=1\n",
      "Status code 400 from http://dev.virtualearth.net/REST/v1/Locations: ERROR - 400 Client Error: Bad Request for url: http://dev.virtualearth.net/REST/v1/Locations?q=Gurigica%2C+Vit%C3%B3ria%2C+Esp%C3%ADrito+Santo%2C+Brazil&q=Error+-+400+Client+Error%3A+Bad+Request+For+Url%3A+Http%3A%2F%2FDev.Virtualearth.Net%2FRest%2FV1%2FLocations%3FQ%3DGurigica%252C%2BVit%25C3%25B3Ria%252C%2BEsp%25C3%25Adrito%2BSanto%252C%2BBrazil%26Q%3DOver_Query_Limit%252C%2BVit%25C3%25B3Ria%252C%2BEsp%25C3%25Adrito%2BSanto%252C%2BBrazil%26Q%3DNan%26Q%3DNan%26Q%3DNan%26Q%3DNan%26Q%3DNan%26Q%3DNan%26O%3DJson%26Inclnb%3D1%26Key%3DArm0Cqoig2Wdasyt7Dhcswjyfkjihq4Wwka7Llumyspextdjnximerp8Nsot5G0I%26Maxresults%3D1%2C+Vit%C3%B3ria%2C+Esp%C3%ADrito+Santo%2C+Brazil&q=nan&q=nan&q=nan&q=nan&q=nan&q=nan&o=json&inclnb=1&key=ArM0cQoiG2wDASYT7dhCsWjYFKjIHq4wwKa7lLuMYspeXTdJnXimERp8Nsot5G0I&maxResults=1\n",
      "Status code 400 from http://dev.virtualearth.net/REST/v1/Locations: ERROR - 400 Client Error: Bad Request for url: http://dev.virtualearth.net/REST/v1/Locations?q=S%C3%A3o+Jos%C3%A9%2C+Vit%C3%B3ria%2C+Esp%C3%ADrito+Santo%2C+Brazil&q=Error+-+400+Client+Error%3A+Bad+Request+For+Url%3A+Http%3A%2F%2FDev.Virtualearth.Net%2FRest%2FV1%2FLocations%3FQ%3DS%25C3%25A3O%2BJos%25C3%25A9%252C%2BVit%25C3%25B3Ria%252C%2BEsp%25C3%25Adrito%2BSanto%252C%2BBrazil%26Q%3DOk%252C%2BVit%25C3%25B3Ria%252C%2BEsp%25C3%25Adrito%2BSanto%252C%2BBrazil%26Q%3DNan%26Q%3DNan%26Q%3DNan%26Q%3DVit%25C3%25B3Ria%252C%2BVit%25C3%25B3Ria%252C%2BEsp%25C3%25Adrito%2BSanto%252C%2BBrazil%26Q%3DEs%252C%2BVit%25C3%25B3Ria%252C%2BEsp%25C3%25Adrito%2BSanto%252C%2BBrazil%26Q%3DBrazil%252C%2BVit%25C3%25B3Ria%252C%2BEsp%25C3%25Adrito%2BSanto%252C%2BBrazil%26O%3DJson%26Inclnb%3D1%26Key%3DArm0Cqoig2Wdasyt7Dhcswjyfkjihq4Wwka7Llumyspextdjnximerp8Nsot5G0I%26Maxresults%3D1%2C+Vit%C3%B3ria%2C+Esp%C3%ADrito+Santo%2C+Brazil&q=nan&q=nan&q=nan&q=Vit%C3%B3ria%2C+Vit%C3%B3ria%2C+Esp%C3%ADrito+Santo%2C+Brazil&q=Es%2C+Vit%C3%B3ria%2C+Esp%C3%ADrito+Santo%2C+Brazil&q=Brazil%2C+Vit%C3%B3ria%2C+Esp%C3%ADrito+Santo%2C+Brazil&o=json&inclnb=1&key=ArM0cQoiG2wDASYT7dhCsWjYFKjIHq4wwKa7lLuMYspeXTdJnXimERp8Nsot5G0I&maxResults=1\n",
      "Status code 400 from http://dev.virtualearth.net/REST/v1/Locations: ERROR - 400 Client Error: Bad Request for url: http://dev.virtualearth.net/REST/v1/Locations?q=Bela+Vista%2C+Vit%C3%B3ria%2C+Esp%C3%ADrito+Santo%2C+Brazil&q=Error+-+400+Client+Error%3A+Bad+Request+For+Url%3A+Http%3A%2F%2FDev.Virtualearth.Net%2FRest%2FV1%2FLocations%3FQ%3DBela%2BVista%252C%2BVit%25C3%25B3Ria%252C%2BEsp%25C3%25Adrito%2BSanto%252C%2BBrazil%26Q%3DOk%252C%2BVit%25C3%25B3Ria%252C%2BEsp%25C3%25Adrito%2BSanto%252C%2BBrazil%26Q%3DNan%26Q%3DNan%26Q%3DNan%26Q%3DVit%25C3%25B3Ria%252C%2BVit%25C3%25B3Ria%252C%2BEsp%25C3%25Adrito%2BSanto%252C%2BBrazil%26Q%3DEs%252C%2BVit%25C3%25B3Ria%252C%2BEsp%25C3%25Adrito%2BSanto%252C%2BBrazil%26Q%3DBrazil%252C%2BVit%25C3%25B3Ria%252C%2BEsp%25C3%25Adrito%2BSanto%252C%2BBrazil%26O%3DJson%26Inclnb%3D1%26Key%3DArm0Cqoig2Wdasyt7Dhcswjyfkjihq4Wwka7Llumyspextdjnximerp8Nsot5G0I%26Maxresults%3D1%2C+Vit%C3%B3ria%2C+Esp%C3%ADrito+Santo%2C+Brazil&q=nan&q=nan&q=nan&q=Vit%C3%B3ria%2C+Vit%C3%B3ria%2C+Esp%C3%ADrito+Santo%2C+Brazil&q=Es%2C+Vit%C3%B3ria%2C+Esp%C3%ADrito+Santo%2C+Brazil&q=Brazil%2C+Vit%C3%B3ria%2C+Esp%C3%ADrito+Santo%2C+Brazil&o=json&inclnb=1&key=ArM0cQoiG2wDASYT7dhCsWjYFKjIHq4wwKa7lLuMYspeXTdJnXimERp8Nsot5G0I&maxResults=1\n"
     ]
    },
    {
     "name": "stderr",
     "output_type": "stream",
     "text": [
      "Status code 429 from http://dev.virtualearth.net/REST/v1/Locations: ERROR - 429 Client Error: Too Many Requests for url: http://dev.virtualearth.net/REST/v1/Locations?q=Maru%C3%ADpe%2C+Vit%C3%B3ria%2C+Esp%C3%ADrito+Santo%2C+Brazil&q=Error+-+400+Client+Error%3A+Bad+Request+For+Url%3A+Http%3A%2F%2FDev.Virtualearth.Net%2FRest%2FV1%2FLocations%3FQ%3DMaru%25C3%25Adpe%252C%2BVit%25C3%25B3Ria%252C%2BEsp%25C3%25Adrito%2BSanto%252C%2BBrazil%26Q%3DOk%252C%2BVit%25C3%25B3Ria%252C%2BEsp%25C3%25Adrito%2BSanto%252C%2BBrazil%26Q%3DNan%26Q%3DNan%26Q%3DNan%26Q%3DVit%25C3%25B3Ria%252C%2BVit%25C3%25B3Ria%252C%2BEsp%25C3%25Adrito%2BSanto%252C%2BBrazil%26Q%3DEs%252C%2BVit%25C3%25B3Ria%252C%2BEsp%25C3%25Adrito%2BSanto%252C%2BBrazil%26Q%3DBrazil%252C%2BVit%25C3%25B3Ria%252C%2BEsp%25C3%25Adrito%2BSanto%252C%2BBrazil%26O%3DJson%26Inclnb%3D1%26Key%3DArm0Cqoig2Wdasyt7Dhcswjyfkjihq4Wwka7Llumyspextdjnximerp8Nsot5G0I%26Maxresults%3D1%2C+Vit%C3%B3ria%2C+Esp%C3%ADrito+Santo%2C+Brazil&q=nan&q=nan&q=nan&q=Vit%C3%B3ria%2C+Vit%C3%B3ria%2C+Esp%C3%ADrito+Santo%2C+Brazil&q=Es%2C+Vit%C3%B3ria%2C+Esp%C3%ADrito+Santo%2C+Brazil&q=Brazil%2C+Vit%C3%B3ria%2C+Esp%C3%ADrito+Santo%2C+Brazil&o=json&inclnb=1&key=ArM0cQoiG2wDASYT7dhCsWjYFKjIHq4wwKa7lLuMYspeXTdJnXimERp8Nsot5G0I&maxResults=1\n",
      "Status code 400 from http://dev.virtualearth.net/REST/v1/Locations: ERROR - 400 Client Error: Bad Request for url: http://dev.virtualearth.net/REST/v1/Locations?q=Forte+S%C3%A3o+Jo%C3%A3o%2C+Vit%C3%B3ria%2C+Esp%C3%ADrito+Santo%2C+Brazil&q=Error+-+400+Client+Error%3A+Bad+Request+For+Url%3A+Http%3A%2F%2FDev.Virtualearth.Net%2FRest%2FV1%2FLocations%3FQ%3DForte%2BS%25C3%25A3O%2BJo%25C3%25A3O%252C%2BVit%25C3%25B3Ria%252C%2BEsp%25C3%25Adrito%2BSanto%252C%2BBrazil%26Q%3DOk%252C%2BVit%25C3%25B3Ria%252C%2BEsp%25C3%25Adrito%2BSanto%252C%2BBrazil%26Q%3DNan%26Q%3DNan%26Q%3DNan%26Q%3DVit%25C3%25B3Ria%252C%2BVit%25C3%25B3Ria%252C%2BEsp%25C3%25Adrito%2BSanto%252C%2BBrazil%26Q%3DEs%252C%2BVit%25C3%25B3Ria%252C%2BEsp%25C3%25Adrito%2BSanto%252C%2BBrazil%26Q%3DBrazil%252C%2BVit%25C3%25B3Ria%252C%2BEsp%25C3%25Adrito%2BSanto%252C%2BBrazil%26O%3DJson%26Inclnb%3D1%26Key%3DArm0Cqoig2Wdasyt7Dhcswjyfkjihq4Wwka7Llumyspextdjnximerp8Nsot5G0I%26Maxresults%3D1%2C+Vit%C3%B3ria%2C+Esp%C3%ADrito+Santo%2C+Brazil&q=nan&q=nan&q=nan&q=Vit%C3%B3ria%2C+Vit%C3%B3ria%2C+Esp%C3%ADrito+Santo%2C+Brazil&q=Es%2C+Vit%C3%B3ria%2C+Esp%C3%ADrito+Santo%2C+Brazil&q=Brazil%2C+Vit%C3%B3ria%2C+Esp%C3%ADrito+Santo%2C+Brazil&o=json&inclnb=1&key=ArM0cQoiG2wDASYT7dhCsWjYFKjIHq4wwKa7lLuMYspeXTdJnXimERp8Nsot5G0I&maxResults=1\n",
      "Status code 400 from http://dev.virtualearth.net/REST/v1/Locations: ERROR - 400 Client Error: Bad Request for url: http://dev.virtualearth.net/REST/v1/Locations?q=Ilha+De+Santa+Maria%2C+Vit%C3%B3ria%2C+Esp%C3%ADrito+Santo%2C+Brazil&q=Error+-+400+Client+Error%3A+Bad+Request+For+Url%3A+Http%3A%2F%2FDev.Virtualearth.Net%2FRest%2FV1%2FLocations%3FQ%3DIlha%2BDe%2BSanta%2BMaria%252C%2BVit%25C3%25B3Ria%252C%2BEsp%25C3%25Adrito%2BSanto%252C%2BBrazil%26Q%3DOver_Query_Limit%252C%2BVit%25C3%25B3Ria%252C%2BEsp%25C3%25Adrito%2BSanto%252C%2BBrazil%26Q%3DNan%26Q%3DNan%26Q%3DNan%26Q%3DNan%26Q%3DNan%26Q%3DNan%26O%3DJson%26Inclnb%3D1%26Key%3DArm0Cqoig2Wdasyt7Dhcswjyfkjihq4Wwka7Llumyspextdjnximerp8Nsot5G0I%26Maxresults%3D1%2C+Vit%C3%B3ria%2C+Esp%C3%ADrito+Santo%2C+Brazil&q=nan&q=nan&q=nan&q=nan&q=nan&q=nan&o=json&inclnb=1&key=ArM0cQoiG2wDASYT7dhCsWjYFKjIHq4wwKa7lLuMYspeXTdJnXimERp8Nsot5G0I&maxResults=1\n",
      "Status code 400 from http://dev.virtualearth.net/REST/v1/Locations: ERROR - 400 Client Error: Bad Request for url: http://dev.virtualearth.net/REST/v1/Locations?q=S%C3%A3o+Crist%C3%B3v%C3%A3o%2C+Vit%C3%B3ria%2C+Esp%C3%ADrito+Santo%2C+Brazil&q=Error+-+400+Client+Error%3A+Bad+Request+For+Url%3A+Http%3A%2F%2FDev.Virtualearth.Net%2FRest%2FV1%2FLocations%3FQ%3DS%25C3%25A3O%2BCrist%25C3%25B3V%25C3%25A3O%252C%2BVit%25C3%25B3Ria%252C%2BEsp%25C3%25Adrito%2BSanto%252C%2BBrazil%26Q%3DOk%252C%2BVit%25C3%25B3Ria%252C%2BEsp%25C3%25Adrito%2BSanto%252C%2BBrazil%26Q%3DNan%26Q%3DNan%26Q%3DNan%26Q%3DVit%25C3%25B3Ria%252C%2BVit%25C3%25B3Ria%252C%2BEsp%25C3%25Adrito%2BSanto%252C%2BBrazil%26Q%3DEs%252C%2BVit%25C3%25B3Ria%252C%2BEsp%25C3%25Adrito%2BSanto%252C%2BBrazil%26Q%3DBrazil%252C%2BVit%25C3%25B3Ria%252C%2BEsp%25C3%25Adrito%2BSanto%252C%2BBrazil%26O%3DJson%26Inclnb%3D1%26Key%3DArm0Cqoig2Wdasyt7Dhcswjyfkjihq4Wwka7Llumyspextdjnximerp8Nsot5G0I%26Maxresults%3D1%2C+Vit%C3%B3ria%2C+Esp%C3%ADrito+Santo%2C+Brazil&q=nan&q=nan&q=nan&q=Vit%C3%B3ria%2C+Vit%C3%B3ria%2C+Esp%C3%ADrito+Santo%2C+Brazil&q=Es%2C+Vit%C3%B3ria%2C+Esp%C3%ADrito+Santo%2C+Brazil&q=Brazil%2C+Vit%C3%B3ria%2C+Esp%C3%ADrito+Santo%2C+Brazil&o=json&inclnb=1&key=ArM0cQoiG2wDASYT7dhCsWjYFKjIHq4wwKa7lLuMYspeXTdJnXimERp8Nsot5G0I&maxResults=1\n",
      "Status code 400 from http://dev.virtualearth.net/REST/v1/Locations: ERROR - 400 Client Error: Bad Request for url: http://dev.virtualearth.net/REST/v1/Locations?q=Reden%C3%A7%C3%A3o%2C+Vit%C3%B3ria%2C+Esp%C3%ADrito+Santo%2C+Brazil&q=Error+-+400+Client+Error%3A+Bad+Request+For+Url%3A+Http%3A%2F%2FDev.Virtualearth.Net%2FRest%2FV1%2FLocations%3FQ%3DReden%25C3%25A7%25C3%25A3O%252C%2BVit%25C3%25B3Ria%252C%2BEsp%25C3%25Adrito%2BSanto%252C%2BBrazil%26Q%3DOk%252C%2BVit%25C3%25B3Ria%252C%2BEsp%25C3%25Adrito%2BSanto%252C%2BBrazil%26Q%3DNan%26Q%3DNan%26Q%3DNan%26Q%3DVit%25C3%25B3Ria%252C%2BVit%25C3%25B3Ria%252C%2BEsp%25C3%25Adrito%2BSanto%252C%2BBrazil%26Q%3DEs%252C%2BVit%25C3%25B3Ria%252C%2BEsp%25C3%25Adrito%2BSanto%252C%2BBrazil%26Q%3DBrazil%252C%2BVit%25C3%25B3Ria%252C%2BEsp%25C3%25Adrito%2BSanto%252C%2BBrazil%26O%3DJson%26Inclnb%3D1%26Key%3DArm0Cqoig2Wdasyt7Dhcswjyfkjihq4Wwka7Llumyspextdjnximerp8Nsot5G0I%26Maxresults%3D1%2C+Vit%C3%B3ria%2C+Esp%C3%ADrito+Santo%2C+Brazil&q=nan&q=nan&q=nan&q=Vit%C3%B3ria%2C+Vit%C3%B3ria%2C+Esp%C3%ADrito+Santo%2C+Brazil&q=Es%2C+Vit%C3%B3ria%2C+Esp%C3%ADrito+Santo%2C+Brazil&q=Brazil%2C+Vit%C3%B3ria%2C+Esp%C3%ADrito+Santo%2C+Brazil&o=json&inclnb=1&key=ArM0cQoiG2wDASYT7dhCsWjYFKjIHq4wwKa7lLuMYspeXTdJnXimERp8Nsot5G0I&maxResults=1\n",
      "Status code 429 from http://dev.virtualearth.net/REST/v1/Locations: ERROR - 429 Client Error: Too Many Requests for url: http://dev.virtualearth.net/REST/v1/Locations?q=S%C3%A3o+Benedito%2C+Vit%C3%B3ria%2C+Esp%C3%ADrito+Santo%2C+Brazil&q=Error+-+400+Client+Error%3A+Bad+Request+For+Url%3A+Http%3A%2F%2FDev.Virtualearth.Net%2FRest%2FV1%2FLocations%3FQ%3DS%25C3%25A3O%2BBenedito%252C%2BVit%25C3%25B3Ria%252C%2BEsp%25C3%25Adrito%2BSanto%252C%2BBrazil%26Q%3DOk%252C%2BVit%25C3%25B3Ria%252C%2BEsp%25C3%25Adrito%2BSanto%252C%2BBrazil%26Q%3DNan%26Q%3DNan%26Q%3DNan%26Q%3DVit%25C3%25B3Ria%252C%2BVit%25C3%25B3Ria%252C%2BEsp%25C3%25Adrito%2BSanto%252C%2BBrazil%26Q%3DEs%252C%2BVit%25C3%25B3Ria%252C%2BEsp%25C3%25Adrito%2BSanto%252C%2BBrazil%26Q%3DBrazil%252C%2BVit%25C3%25B3Ria%252C%2BEsp%25C3%25Adrito%2BSanto%252C%2BBrazil%26O%3DJson%26Inclnb%3D1%26Key%3DArm0Cqoig2Wdasyt7Dhcswjyfkjihq4Wwka7Llumyspextdjnximerp8Nsot5G0I%26Maxresults%3D1%2C+Vit%C3%B3ria%2C+Esp%C3%ADrito+Santo%2C+Brazil&q=nan&q=nan&q=nan&q=Vit%C3%B3ria%2C+Vit%C3%B3ria%2C+Esp%C3%ADrito+Santo%2C+Brazil&q=Es%2C+Vit%C3%B3ria%2C+Esp%C3%ADrito+Santo%2C+Brazil&q=Brazil%2C+Vit%C3%B3ria%2C+Esp%C3%ADrito+Santo%2C+Brazil&o=json&inclnb=1&key=ArM0cQoiG2wDASYT7dhCsWjYFKjIHq4wwKa7lLuMYspeXTdJnXimERp8Nsot5G0I&maxResults=1\n",
      "Status code 400 from http://dev.virtualearth.net/REST/v1/Locations: ERROR - 400 Client Error: Bad Request for url: http://dev.virtualearth.net/REST/v1/Locations?q=Joana+D%C2%B4Arc%2C+Vit%C3%B3ria%2C+Esp%C3%ADrito+Santo%2C+Brazil&q=Error+-+400+Client+Error%3A+Bad+Request+For+Url%3A+Http%3A%2F%2FDev.Virtualearth.Net%2FRest%2FV1%2FLocations%3FQ%3DJoana%2BD%25C2%25B4Arc%252C%2BVit%25C3%25B3Ria%252C%2BEsp%25C3%25Adrito%2BSanto%252C%2BBrazil%26Q%3DOk%252C%2BVit%25C3%25B3Ria%252C%2BEsp%25C3%25Adrito%2BSanto%252C%2BBrazil%26Q%3DNan%26Q%3DNan%26Q%3DNan%26Q%3DVit%25C3%25B3Ria%252C%2BVit%25C3%25B3Ria%252C%2BEsp%25C3%25Adrito%2BSanto%252C%2BBrazil%26Q%3DEs%252C%2BVit%25C3%25B3Ria%252C%2BEsp%25C3%25Adrito%2BSanto%252C%2BBrazil%26Q%3DBrazil%252C%2BVit%25C3%25B3Ria%252C%2BEsp%25C3%25Adrito%2BSanto%252C%2BBrazil%26O%3DJson%26Inclnb%3D1%26Key%3DArm0Cqoig2Wdasyt7Dhcswjyfkjihq4Wwka7Llumyspextdjnximerp8Nsot5G0I%26Maxresults%3D1%2C+Vit%C3%B3ria%2C+Esp%C3%ADrito+Santo%2C+Brazil&q=nan&q=nan&q=nan&q=Vit%C3%B3ria%2C+Vit%C3%B3ria%2C+Esp%C3%ADrito+Santo%2C+Brazil&q=Es%2C+Vit%C3%B3ria%2C+Esp%C3%ADrito+Santo%2C+Brazil&q=Brazil%2C+Vit%C3%B3ria%2C+Esp%C3%ADrito+Santo%2C+Brazil&o=json&inclnb=1&key=ArM0cQoiG2wDASYT7dhCsWjYFKjIHq4wwKa7lLuMYspeXTdJnXimERp8Nsot5G0I&maxResults=1\n"
     ]
    },
    {
     "name": "stderr",
     "output_type": "stream",
     "text": [
      "Status code 400 from http://dev.virtualearth.net/REST/v1/Locations: ERROR - 400 Client Error: Bad Request for url: http://dev.virtualearth.net/REST/v1/Locations?q=Cruzamento%2C+Vit%C3%B3ria%2C+Esp%C3%ADrito+Santo%2C+Brazil&q=Error+-+400+Client+Error%3A+Bad+Request+For+Url%3A+Http%3A%2F%2FDev.Virtualearth.Net%2FRest%2FV1%2FLocations%3FQ%3DCruzamento%252C%2BVit%25C3%25B3Ria%252C%2BEsp%25C3%25Adrito%2BSanto%252C%2BBrazil%26Q%3DOk%252C%2BVit%25C3%25B3Ria%252C%2BEsp%25C3%25Adrito%2BSanto%252C%2BBrazil%26Q%3DNan%26Q%3DNan%26Q%3DNan%26Q%3DVit%25C3%25B3Ria%252C%2BVit%25C3%25B3Ria%252C%2BEsp%25C3%25Adrito%2BSanto%252C%2BBrazil%26Q%3DEs%252C%2BVit%25C3%25B3Ria%252C%2BEsp%25C3%25Adrito%2BSanto%252C%2BBrazil%26Q%3DBrazil%252C%2BVit%25C3%25B3Ria%252C%2BEsp%25C3%25Adrito%2BSanto%252C%2BBrazil%26O%3DJson%26Inclnb%3D1%26Key%3DArm0Cqoig2Wdasyt7Dhcswjyfkjihq4Wwka7Llumyspextdjnximerp8Nsot5G0I%26Maxresults%3D1%2C+Vit%C3%B3ria%2C+Esp%C3%ADrito+Santo%2C+Brazil&q=nan&q=nan&q=nan&q=Vit%C3%B3ria%2C+Vit%C3%B3ria%2C+Esp%C3%ADrito+Santo%2C+Brazil&q=Es%2C+Vit%C3%B3ria%2C+Esp%C3%ADrito+Santo%2C+Brazil&q=Brazil%2C+Vit%C3%B3ria%2C+Esp%C3%ADrito+Santo%2C+Brazil&o=json&inclnb=1&key=ArM0cQoiG2wDASYT7dhCsWjYFKjIHq4wwKa7lLuMYspeXTdJnXimERp8Nsot5G0I&maxResults=1\n",
      "Status code 429 from http://dev.virtualearth.net/REST/v1/Locations: ERROR - 429 Client Error: Too Many Requests for url: http://dev.virtualearth.net/REST/v1/Locations?q=Consola%C3%A7%C3%A3o%2C+Vit%C3%B3ria%2C+Esp%C3%ADrito+Santo%2C+Brazil&q=Error+-+400+Client+Error%3A+Bad+Request+For+Url%3A+Http%3A%2F%2FDev.Virtualearth.Net%2FRest%2FV1%2FLocations%3FQ%3DConsola%25C3%25A7%25C3%25A3O%252C%2BVit%25C3%25B3Ria%252C%2BEsp%25C3%25Adrito%2BSanto%252C%2BBrazil%26Q%3DOk%252C%2BVit%25C3%25B3Ria%252C%2BEsp%25C3%25Adrito%2BSanto%252C%2BBrazil%26Q%3DNan%26Q%3DNan%26Q%3DNan%26Q%3DVit%25C3%25B3Ria%252C%2BVit%25C3%25B3Ria%252C%2BEsp%25C3%25Adrito%2BSanto%252C%2BBrazil%26Q%3DEs%252C%2BVit%25C3%25B3Ria%252C%2BEsp%25C3%25Adrito%2BSanto%252C%2BBrazil%26Q%3DBrazil%252C%2BVit%25C3%25B3Ria%252C%2BEsp%25C3%25Adrito%2BSanto%252C%2BBrazil%26O%3DJson%26Inclnb%3D1%26Key%3DArm0Cqoig2Wdasyt7Dhcswjyfkjihq4Wwka7Llumyspextdjnximerp8Nsot5G0I%26Maxresults%3D1%2C+Vit%C3%B3ria%2C+Esp%C3%ADrito+Santo%2C+Brazil&q=nan&q=nan&q=nan&q=Vit%C3%B3ria%2C+Vit%C3%B3ria%2C+Esp%C3%ADrito+Santo%2C+Brazil&q=Es%2C+Vit%C3%B3ria%2C+Esp%C3%ADrito+Santo%2C+Brazil&q=Brazil%2C+Vit%C3%B3ria%2C+Esp%C3%ADrito+Santo%2C+Brazil&o=json&inclnb=1&key=ArM0cQoiG2wDASYT7dhCsWjYFKjIHq4wwKa7lLuMYspeXTdJnXimERp8Nsot5G0I&maxResults=1\n",
      "Status code 400 from http://dev.virtualearth.net/REST/v1/Locations: ERROR - 400 Client Error: Bad Request for url: http://dev.virtualearth.net/REST/v1/Locations?q=Santa+Tereza%2C+Vit%C3%B3ria%2C+Esp%C3%ADrito+Santo%2C+Brazil&q=Error+-+429+Client+Error%3A+Too+Many+Requests+For+Url%3A+Http%3A%2F%2FDev.Virtualearth.Net%2FRest%2FV1%2FLocations%3FQ%3DSanta%2BTereza%252C%2BVit%25C3%25B3Ria%252C%2BEsp%25C3%25Adrito%2BSanto%252C%2BBrazil%26Q%3DOk%252C%2BVit%25C3%25B3Ria%252C%2BEsp%25C3%25Adrito%2BSanto%252C%2BBrazil%26Q%3DNan%26Q%3DNan%26Q%3DNan%26Q%3DVit%25C3%25B3Ria%252C%2BVit%25C3%25B3Ria%252C%2BEsp%25C3%25Adrito%2BSanto%252C%2BBrazil%26Q%3DEs%252C%2BVit%25C3%25B3Ria%252C%2BEsp%25C3%25Adrito%2BSanto%252C%2BBrazil%26Q%3DBrazil%252C%2BVit%25C3%25B3Ria%252C%2BEsp%25C3%25Adrito%2BSanto%252C%2BBrazil%26O%3DJson%26Inclnb%3D1%26Key%3DArm0Cqoig2Wdasyt7Dhcswjyfkjihq4Wwka7Llumyspextdjnximerp8Nsot5G0I%26Maxresults%3D1%2C+Vit%C3%B3ria%2C+Esp%C3%ADrito+Santo%2C+Brazil&q=nan&q=nan&q=nan&q=Vit%C3%B3ria%2C+Vit%C3%B3ria%2C+Esp%C3%ADrito+Santo%2C+Brazil&q=Es%2C+Vit%C3%B3ria%2C+Esp%C3%ADrito+Santo%2C+Brazil&q=Brazil%2C+Vit%C3%B3ria%2C+Esp%C3%ADrito+Santo%2C+Brazil&o=json&inclnb=1&key=ArM0cQoiG2wDASYT7dhCsWjYFKjIHq4wwKa7lLuMYspeXTdJnXimERp8Nsot5G0I&maxResults=1\n",
      "Status code 400 from http://dev.virtualearth.net/REST/v1/Locations: ERROR - 400 Client Error: Bad Request for url: http://dev.virtualearth.net/REST/v1/Locations?q=Praia+Do+Su%C3%A1%2C+Vit%C3%B3ria%2C+Esp%C3%ADrito+Santo%2C+Brazil&q=Error+-+400+Client+Error%3A+Bad+Request+For+Url%3A+Http%3A%2F%2FDev.Virtualearth.Net%2FRest%2FV1%2FLocations%3FQ%3DPraia%2BDo%2BSu%25C3%25A1%252C%2BVit%25C3%25B3Ria%252C%2BEsp%25C3%25Adrito%2BSanto%252C%2BBrazil%26Q%3DOk%252C%2BVit%25C3%25B3Ria%252C%2BEsp%25C3%25Adrito%2BSanto%252C%2BBrazil%26Q%3DNan%26Q%3DNan%26Q%3DNan%26Q%3DVit%25C3%25B3Ria%252C%2BVit%25C3%25B3Ria%252C%2BEsp%25C3%25Adrito%2BSanto%252C%2BBrazil%26Q%3DEs%252C%2BVit%25C3%25B3Ria%252C%2BEsp%25C3%25Adrito%2BSanto%252C%2BBrazil%26Q%3DBrazil%252C%2BVit%25C3%25B3Ria%252C%2BEsp%25C3%25Adrito%2BSanto%252C%2BBrazil%26O%3DJson%26Inclnb%3D1%26Key%3DArm0Cqoig2Wdasyt7Dhcswjyfkjihq4Wwka7Llumyspextdjnximerp8Nsot5G0I%26Maxresults%3D1%2C+Vit%C3%B3ria%2C+Esp%C3%ADrito+Santo%2C+Brazil&q=nan&q=nan&q=nan&q=Vit%C3%B3ria%2C+Vit%C3%B3ria%2C+Esp%C3%ADrito+Santo%2C+Brazil&q=Es%2C+Vit%C3%B3ria%2C+Esp%C3%ADrito+Santo%2C+Brazil&q=Brazil%2C+Vit%C3%B3ria%2C+Esp%C3%ADrito+Santo%2C+Brazil&o=json&inclnb=1&key=ArM0cQoiG2wDASYT7dhCsWjYFKjIHq4wwKa7lLuMYspeXTdJnXimERp8Nsot5G0I&maxResults=1\n",
      "Status code 400 from http://dev.virtualearth.net/REST/v1/Locations: ERROR - 400 Client Error: Bad Request for url: http://dev.virtualearth.net/REST/v1/Locations?q=Santos+Dumont%2C+Vit%C3%B3ria%2C+Esp%C3%ADrito+Santo%2C+Brazil&q=Error+-+429+Client+Error%3A+Too+Many+Requests+For+Url%3A+Http%3A%2F%2FDev.Virtualearth.Net%2FRest%2FV1%2FLocations%3FQ%3DSantos%2BDumont%252C%2BVit%25C3%25B3Ria%252C%2BEsp%25C3%25Adrito%2BSanto%252C%2BBrazil%26Q%3DOk%252C%2BVit%25C3%25B3Ria%252C%2BEsp%25C3%25Adrito%2BSanto%252C%2BBrazil%26Q%3DNan%26Q%3DNan%26Q%3DNan%26Q%3DVit%25C3%25B3Ria%252C%2BVit%25C3%25B3Ria%252C%2BEsp%25C3%25Adrito%2BSanto%252C%2BBrazil%26Q%3DEs%252C%2BVit%25C3%25B3Ria%252C%2BEsp%25C3%25Adrito%2BSanto%252C%2BBrazil%26Q%3DBrazil%252C%2BVit%25C3%25B3Ria%252C%2BEsp%25C3%25Adrito%2BSanto%252C%2BBrazil%26O%3DJson%26Inclnb%3D1%26Key%3DArm0Cqoig2Wdasyt7Dhcswjyfkjihq4Wwka7Llumyspextdjnximerp8Nsot5G0I%26Maxresults%3D1%2C+Vit%C3%B3ria%2C+Esp%C3%ADrito+Santo%2C+Brazil&q=nan&q=nan&q=nan&q=Vit%C3%B3ria%2C+Vit%C3%B3ria%2C+Esp%C3%ADrito+Santo%2C+Brazil&q=Es%2C+Vit%C3%B3ria%2C+Esp%C3%ADrito+Santo%2C+Brazil&q=Brazil%2C+Vit%C3%B3ria%2C+Esp%C3%ADrito+Santo%2C+Brazil&o=json&inclnb=1&key=ArM0cQoiG2wDASYT7dhCsWjYFKjIHq4wwKa7lLuMYspeXTdJnXimERp8Nsot5G0I&maxResults=1\n",
      "Status code 429 from http://dev.virtualearth.net/REST/v1/Locations: ERROR - 429 Client Error: Too Many Requests for url: http://dev.virtualearth.net/REST/v1/Locations?q=Grande+Vit%C3%B3ria%2C+Vit%C3%B3ria%2C+Esp%C3%ADrito+Santo%2C+Brazil&q=Error+-+400+Client+Error%3A+Bad+Request+For+Url%3A+Http%3A%2F%2FDev.Virtualearth.Net%2FRest%2FV1%2FLocations%3FQ%3DGrande%2BVit%25C3%25B3Ria%252C%2BVit%25C3%25B3Ria%252C%2BEsp%25C3%25Adrito%2BSanto%252C%2BBrazil%26Q%3DOk%252C%2BVit%25C3%25B3Ria%252C%2BEsp%25C3%25Adrito%2BSanto%252C%2BBrazil%26Q%3DNan%26Q%3DNan%26Q%3DNan%26Q%3DVit%25C3%25B3Ria%252C%2BVit%25C3%25B3Ria%252C%2BEsp%25C3%25Adrito%2BSanto%252C%2BBrazil%26Q%3DEs%252C%2BVit%25C3%25B3Ria%252C%2BEsp%25C3%25Adrito%2BSanto%252C%2BBrazil%26Q%3DBrazil%252C%2BVit%25C3%25B3Ria%252C%2BEsp%25C3%25Adrito%2BSanto%252C%2BBrazil%26O%3DJson%26Inclnb%3D1%26Key%3DArm0Cqoig2Wdasyt7Dhcswjyfkjihq4Wwka7Llumyspextdjnximerp8Nsot5G0I%26Maxresults%3D1%2C+Vit%C3%B3ria%2C+Esp%C3%ADrito+Santo%2C+Brazil&q=nan&q=nan&q=nan&q=Vit%C3%B3ria%2C+Vit%C3%B3ria%2C+Esp%C3%ADrito+Santo%2C+Brazil&q=Es%2C+Vit%C3%B3ria%2C+Esp%C3%ADrito+Santo%2C+Brazil&q=Brazil%2C+Vit%C3%B3ria%2C+Esp%C3%ADrito+Santo%2C+Brazil&o=json&inclnb=1&key=ArM0cQoiG2wDASYT7dhCsWjYFKjIHq4wwKa7lLuMYspeXTdJnXimERp8Nsot5G0I&maxResults=1\n",
      "Status code 400 from http://dev.virtualearth.net/REST/v1/Locations: ERROR - 400 Client Error: Bad Request for url: http://dev.virtualearth.net/REST/v1/Locations?q=Ilha+Das+Caieiras%2C+Vit%C3%B3ria%2C+Esp%C3%ADrito+Santo%2C+Brazil&q=Error+-+400+Client+Error%3A+Bad+Request+For+Url%3A+Http%3A%2F%2FDev.Virtualearth.Net%2FRest%2FV1%2FLocations%3FQ%3DIlha%2BDas%2BCaieiras%252C%2BVit%25C3%25B3Ria%252C%2BEsp%25C3%25Adrito%2BSanto%252C%2BBrazil%26Q%3DOk%252C%2BVit%25C3%25B3Ria%252C%2BEsp%25C3%25Adrito%2BSanto%252C%2BBrazil%26Q%3DNan%26Q%3DNan%26Q%3DNan%26Q%3DVit%25C3%25B3Ria%252C%2BVit%25C3%25B3Ria%252C%2BEsp%25C3%25Adrito%2BSanto%252C%2BBrazil%26Q%3DEs%252C%2BVit%25C3%25B3Ria%252C%2BEsp%25C3%25Adrito%2BSanto%252C%2BBrazil%26Q%3DBrazil%252C%2BVit%25C3%25B3Ria%252C%2BEsp%25C3%25Adrito%2BSanto%252C%2BBrazil%26O%3DJson%26Inclnb%3D1%26Key%3DArm0Cqoig2Wdasyt7Dhcswjyfkjihq4Wwka7Llumyspextdjnximerp8Nsot5G0I%26Maxresults%3D1%2C+Vit%C3%B3ria%2C+Esp%C3%ADrito+Santo%2C+Brazil&q=nan&q=nan&q=nan&q=Vit%C3%B3ria%2C+Vit%C3%B3ria%2C+Esp%C3%ADrito+Santo%2C+Brazil&q=Es%2C+Vit%C3%B3ria%2C+Esp%C3%ADrito+Santo%2C+Brazil&q=Brazil%2C+Vit%C3%B3ria%2C+Esp%C3%ADrito+Santo%2C+Brazil&o=json&inclnb=1&key=ArM0cQoiG2wDASYT7dhCsWjYFKjIHq4wwKa7lLuMYspeXTdJnXimERp8Nsot5G0I&maxResults=1\n"
     ]
    },
    {
     "name": "stderr",
     "output_type": "stream",
     "text": [
      "Status code 429 from http://dev.virtualearth.net/REST/v1/Locations: ERROR - 429 Client Error: Too Many Requests for url: http://dev.virtualearth.net/REST/v1/Locations?q=Inhanguet%C3%A1%2C+Vit%C3%B3ria%2C+Esp%C3%ADrito+Santo%2C+Brazil&q=Error+-+400+Client+Error%3A+Bad+Request+For+Url%3A+Http%3A%2F%2FDev.Virtualearth.Net%2FRest%2FV1%2FLocations%3FQ%3DInhanguet%25C3%25A1%252C%2BVit%25C3%25B3Ria%252C%2BEsp%25C3%25Adrito%2BSanto%252C%2BBrazil%26Q%3DOk%252C%2BVit%25C3%25B3Ria%252C%2BEsp%25C3%25Adrito%2BSanto%252C%2BBrazil%26Q%3DNan%26Q%3DNan%26Q%3DNan%26Q%3DVit%25C3%25B3Ria%252C%2BVit%25C3%25B3Ria%252C%2BEsp%25C3%25Adrito%2BSanto%252C%2BBrazil%26Q%3DEs%252C%2BVit%25C3%25B3Ria%252C%2BEsp%25C3%25Adrito%2BSanto%252C%2BBrazil%26Q%3DBrazil%252C%2BVit%25C3%25B3Ria%252C%2BEsp%25C3%25Adrito%2BSanto%252C%2BBrazil%26O%3DJson%26Inclnb%3D1%26Key%3DArm0Cqoig2Wdasyt7Dhcswjyfkjihq4Wwka7Llumyspextdjnximerp8Nsot5G0I%26Maxresults%3D1%2C+Vit%C3%B3ria%2C+Esp%C3%ADrito+Santo%2C+Brazil&q=nan&q=nan&q=nan&q=Vit%C3%B3ria%2C+Vit%C3%B3ria%2C+Esp%C3%ADrito+Santo%2C+Brazil&q=Es%2C+Vit%C3%B3ria%2C+Esp%C3%ADrito+Santo%2C+Brazil&q=Brazil%2C+Vit%C3%B3ria%2C+Esp%C3%ADrito+Santo%2C+Brazil&o=json&inclnb=1&key=ArM0cQoiG2wDASYT7dhCsWjYFKjIHq4wwKa7lLuMYspeXTdJnXimERp8Nsot5G0I&maxResults=1\n",
      "Status code 400 from http://dev.virtualearth.net/REST/v1/Locations: ERROR - 400 Client Error: Bad Request for url: http://dev.virtualearth.net/REST/v1/Locations?q=Praia+Do+Canto%2C+Vit%C3%B3ria%2C+Esp%C3%ADrito+Santo%2C+Brazil&q=Error+-+400+Client+Error%3A+Bad+Request+For+Url%3A+Http%3A%2F%2FDev.Virtualearth.Net%2FRest%2FV1%2FLocations%3FQ%3DPraia%2BDo%2BCanto%252C%2BVit%25C3%25B3Ria%252C%2BEsp%25C3%25Adrito%2BSanto%252C%2BBrazil%26Q%3DOver_Query_Limit%252C%2BVit%25C3%25B3Ria%252C%2BEsp%25C3%25Adrito%2BSanto%252C%2BBrazil%26Q%3DNan%26Q%3DNan%26Q%3DNan%26Q%3DNan%26Q%3DNan%26Q%3DNan%26O%3DJson%26Inclnb%3D1%26Key%3DArm0Cqoig2Wdasyt7Dhcswjyfkjihq4Wwka7Llumyspextdjnximerp8Nsot5G0I%26Maxresults%3D1%2C+Vit%C3%B3ria%2C+Esp%C3%ADrito+Santo%2C+Brazil&q=nan&q=nan&q=nan&q=nan&q=nan&q=nan&o=json&inclnb=1&key=ArM0cQoiG2wDASYT7dhCsWjYFKjIHq4wwKa7lLuMYspeXTdJnXimERp8Nsot5G0I&maxResults=1\n",
      "Status code 400 from http://dev.virtualearth.net/REST/v1/Locations: ERROR - 400 Client Error: Bad Request for url: http://dev.virtualearth.net/REST/v1/Locations?q=Bento+Ferreira%2C+Vit%C3%B3ria%2C+Esp%C3%ADrito+Santo%2C+Brazil&q=Error+-+400+Client+Error%3A+Bad+Request+For+Url%3A+Http%3A%2F%2FDev.Virtualearth.Net%2FRest%2FV1%2FLocations%3FQ%3DBento%2BFerreira%252C%2BVit%25C3%25B3Ria%252C%2BEsp%25C3%25Adrito%2BSanto%252C%2BBrazil%26Q%3DOk%252C%2BVit%25C3%25B3Ria%252C%2BEsp%25C3%25Adrito%2BSanto%252C%2BBrazil%26Q%3DNan%26Q%3DNan%26Q%3DNan%26Q%3DVit%25C3%25B3Ria%252C%2BVit%25C3%25B3Ria%252C%2BEsp%25C3%25Adrito%2BSanto%252C%2BBrazil%26Q%3DEs%252C%2BVit%25C3%25B3Ria%252C%2BEsp%25C3%25Adrito%2BSanto%252C%2BBrazil%26Q%3DBrazil%252C%2BVit%25C3%25B3Ria%252C%2BEsp%25C3%25Adrito%2BSanto%252C%2BBrazil%26O%3DJson%26Inclnb%3D1%26Key%3DArm0Cqoig2Wdasyt7Dhcswjyfkjihq4Wwka7Llumyspextdjnximerp8Nsot5G0I%26Maxresults%3D1%2C+Vit%C3%B3ria%2C+Esp%C3%ADrito+Santo%2C+Brazil&q=nan&q=nan&q=nan&q=Vit%C3%B3ria%2C+Vit%C3%B3ria%2C+Esp%C3%ADrito+Santo%2C+Brazil&q=Es%2C+Vit%C3%B3ria%2C+Esp%C3%ADrito+Santo%2C+Brazil&q=Brazil%2C+Vit%C3%B3ria%2C+Esp%C3%ADrito+Santo%2C+Brazil&o=json&inclnb=1&key=ArM0cQoiG2wDASYT7dhCsWjYFKjIHq4wwKa7lLuMYspeXTdJnXimERp8Nsot5G0I&maxResults=1\n",
      "Status code 429 from http://dev.virtualearth.net/REST/v1/Locations: ERROR - 429 Client Error: Too Many Requests for url: http://dev.virtualearth.net/REST/v1/Locations?q=Vila+Rubim%2C+Vit%C3%B3ria%2C+Esp%C3%ADrito+Santo%2C+Brazil&q=Error+-+429+Client+Error%3A+Too+Many+Requests+For+Url%3A+Http%3A%2F%2FDev.Virtualearth.Net%2FRest%2FV1%2FLocations%3FQ%3DVila%2BRubim%252C%2BVit%25C3%25B3Ria%252C%2BEsp%25C3%25Adrito%2BSanto%252C%2BBrazil%26Q%3DOk%252C%2BVit%25C3%25B3Ria%252C%2BEsp%25C3%25Adrito%2BSanto%252C%2BBrazil%26Q%3DNan%26Q%3DNan%26Q%3DNan%26Q%3DVit%25C3%25B3Ria%252C%2BVit%25C3%25B3Ria%252C%2BEsp%25C3%25Adrito%2BSanto%252C%2BBrazil%26Q%3DEs%252C%2BVit%25C3%25B3Ria%252C%2BEsp%25C3%25Adrito%2BSanto%252C%2BBrazil%26Q%3DBrazil%252C%2BVit%25C3%25B3Ria%252C%2BEsp%25C3%25Adrito%2BSanto%252C%2BBrazil%26O%3DJson%26Inclnb%3D1%26Key%3DArm0Cqoig2Wdasyt7Dhcswjyfkjihq4Wwka7Llumyspextdjnximerp8Nsot5G0I%26Maxresults%3D1%2C+Vit%C3%B3ria%2C+Esp%C3%ADrito+Santo%2C+Brazil&q=nan&q=nan&q=nan&q=Vit%C3%B3ria%2C+Vit%C3%B3ria%2C+Esp%C3%ADrito+Santo%2C+Brazil&q=Es%2C+Vit%C3%B3ria%2C+Esp%C3%ADrito+Santo%2C+Brazil&q=Brazil%2C+Vit%C3%B3ria%2C+Esp%C3%ADrito+Santo%2C+Brazil&o=json&inclnb=1&key=ArM0cQoiG2wDASYT7dhCsWjYFKjIHq4wwKa7lLuMYspeXTdJnXimERp8Nsot5G0I&maxResults=1\n",
      "Status code 400 from http://dev.virtualearth.net/REST/v1/Locations: ERROR - 400 Client Error: Bad Request for url: http://dev.virtualearth.net/REST/v1/Locations?q=Conquista%2C+Vit%C3%B3ria%2C+Esp%C3%ADrito+Santo%2C+Brazil&q=Error+-+400+Client+Error%3A+Bad+Request+For+Url%3A+Http%3A%2F%2FDev.Virtualearth.Net%2FRest%2FV1%2FLocations%3FQ%3DConquista%252C%2BVit%25C3%25B3Ria%252C%2BEsp%25C3%25Adrito%2BSanto%252C%2BBrazil%26Q%3DOk%252C%2BVit%25C3%25B3Ria%252C%2BEsp%25C3%25Adrito%2BSanto%252C%2BBrazil%26Q%3DNan%26Q%3DNan%26Q%3DNan%26Q%3DVit%25C3%25B3Ria%252C%2BVit%25C3%25B3Ria%252C%2BEsp%25C3%25Adrito%2BSanto%252C%2BBrazil%26Q%3DEs%252C%2BVit%25C3%25B3Ria%252C%2BEsp%25C3%25Adrito%2BSanto%252C%2BBrazil%26Q%3DBrazil%252C%2BVit%25C3%25B3Ria%252C%2BEsp%25C3%25Adrito%2BSanto%252C%2BBrazil%26O%3DJson%26Inclnb%3D1%26Key%3DArm0Cqoig2Wdasyt7Dhcswjyfkjihq4Wwka7Llumyspextdjnximerp8Nsot5G0I%26Maxresults%3D1%2C+Vit%C3%B3ria%2C+Esp%C3%ADrito+Santo%2C+Brazil&q=nan&q=nan&q=nan&q=Vit%C3%B3ria%2C+Vit%C3%B3ria%2C+Esp%C3%ADrito+Santo%2C+Brazil&q=Es%2C+Vit%C3%B3ria%2C+Esp%C3%ADrito+Santo%2C+Brazil&q=Brazil%2C+Vit%C3%B3ria%2C+Esp%C3%ADrito+Santo%2C+Brazil&o=json&inclnb=1&key=ArM0cQoiG2wDASYT7dhCsWjYFKjIHq4wwKa7lLuMYspeXTdJnXimERp8Nsot5G0I&maxResults=1\n",
      "Status code 400 from http://dev.virtualearth.net/REST/v1/Locations: ERROR - 400 Client Error: Bad Request for url: http://dev.virtualearth.net/REST/v1/Locations?q=Do+Quadro%2C+Vit%C3%B3ria%2C+Esp%C3%ADrito+Santo%2C+Brazil&q=Error+-+400+Client+Error%3A+Bad+Request+For+Url%3A+Http%3A%2F%2FDev.Virtualearth.Net%2FRest%2FV1%2FLocations%3FQ%3DDo%2BQuadro%252C%2BVit%25C3%25B3Ria%252C%2BEsp%25C3%25Adrito%2BSanto%252C%2BBrazil%26Q%3DOk%252C%2BVit%25C3%25B3Ria%252C%2BEsp%25C3%25Adrito%2BSanto%252C%2BBrazil%26Q%3DNan%26Q%3DNan%26Q%3DNan%26Q%3DVit%25C3%25B3Ria%252C%2BVit%25C3%25B3Ria%252C%2BEsp%25C3%25Adrito%2BSanto%252C%2BBrazil%26Q%3DEs%252C%2BVit%25C3%25B3Ria%252C%2BEsp%25C3%25Adrito%2BSanto%252C%2BBrazil%26Q%3DBrazil%252C%2BVit%25C3%25B3Ria%252C%2BEsp%25C3%25Adrito%2BSanto%252C%2BBrazil%26O%3DJson%26Inclnb%3D1%26Key%3DArm0Cqoig2Wdasyt7Dhcswjyfkjihq4Wwka7Llumyspextdjnximerp8Nsot5G0I%26Maxresults%3D1%2C+Vit%C3%B3ria%2C+Esp%C3%ADrito+Santo%2C+Brazil&q=nan&q=nan&q=nan&q=Vit%C3%B3ria%2C+Vit%C3%B3ria%2C+Esp%C3%ADrito+Santo%2C+Brazil&q=Es%2C+Vit%C3%B3ria%2C+Esp%C3%ADrito+Santo%2C+Brazil&q=Brazil%2C+Vit%C3%B3ria%2C+Esp%C3%ADrito+Santo%2C+Brazil&o=json&inclnb=1&key=ArM0cQoiG2wDASYT7dhCsWjYFKjIHq4wwKa7lLuMYspeXTdJnXimERp8Nsot5G0I&maxResults=1\n",
      "Status code 400 from http://dev.virtualearth.net/REST/v1/Locations: ERROR - 400 Client Error: Bad Request for url: http://dev.virtualearth.net/REST/v1/Locations?q=Rep%C3%BAblica%2C+Vit%C3%B3ria%2C+Esp%C3%ADrito+Santo%2C+Brazil&q=Error+-+400+Client+Error%3A+Bad+Request+For+Url%3A+Http%3A%2F%2FDev.Virtualearth.Net%2FRest%2FV1%2FLocations%3FQ%3DRep%25C3%25Bablica%252C%2BVit%25C3%25B3Ria%252C%2BEsp%25C3%25Adrito%2BSanto%252C%2BBrazil%26Q%3DOk%252C%2BVit%25C3%25B3Ria%252C%2BEsp%25C3%25Adrito%2BSanto%252C%2BBrazil%26Q%3DNan%26Q%3DNan%26Q%3DNan%26Q%3DVit%25C3%25B3Ria%252C%2BVit%25C3%25B3Ria%252C%2BEsp%25C3%25Adrito%2BSanto%252C%2BBrazil%26Q%3DEs%252C%2BVit%25C3%25B3Ria%252C%2BEsp%25C3%25Adrito%2BSanto%252C%2BBrazil%26Q%3DBrazil%252C%2BVit%25C3%25B3Ria%252C%2BEsp%25C3%25Adrito%2BSanto%252C%2BBrazil%26O%3DJson%26Inclnb%3D1%26Key%3DArm0Cqoig2Wdasyt7Dhcswjyfkjihq4Wwka7Llumyspextdjnximerp8Nsot5G0I%26Maxresults%3D1%2C+Vit%C3%B3ria%2C+Esp%C3%ADrito+Santo%2C+Brazil&q=nan&q=nan&q=nan&q=Vit%C3%B3ria%2C+Vit%C3%B3ria%2C+Esp%C3%ADrito+Santo%2C+Brazil&q=Es%2C+Vit%C3%B3ria%2C+Esp%C3%ADrito+Santo%2C+Brazil&q=Brazil%2C+Vit%C3%B3ria%2C+Esp%C3%ADrito+Santo%2C+Brazil&o=json&inclnb=1&key=ArM0cQoiG2wDASYT7dhCsWjYFKjIHq4wwKa7lLuMYspeXTdJnXimERp8Nsot5G0I&maxResults=1\n"
     ]
    },
    {
     "name": "stderr",
     "output_type": "stream",
     "text": [
      "Status code 429 from http://dev.virtualearth.net/REST/v1/Locations: ERROR - 429 Client Error: Too Many Requests for url: http://dev.virtualearth.net/REST/v1/Locations?q=Monte+Belo%2C+Vit%C3%B3ria%2C+Esp%C3%ADrito+Santo%2C+Brazil&q=Error+-+400+Client+Error%3A+Bad+Request+For+Url%3A+Http%3A%2F%2FDev.Virtualearth.Net%2FRest%2FV1%2FLocations%3FQ%3DMonte%2BBelo%252C%2BVit%25C3%25B3Ria%252C%2BEsp%25C3%25Adrito%2BSanto%252C%2BBrazil%26Q%3DOk%252C%2BVit%25C3%25B3Ria%252C%2BEsp%25C3%25Adrito%2BSanto%252C%2BBrazil%26Q%3DNan%26Q%3DNan%26Q%3DNan%26Q%3DVit%25C3%25B3Ria%252C%2BVit%25C3%25B3Ria%252C%2BEsp%25C3%25Adrito%2BSanto%252C%2BBrazil%26Q%3DEs%252C%2BVit%25C3%25B3Ria%252C%2BEsp%25C3%25Adrito%2BSanto%252C%2BBrazil%26Q%3DBrazil%252C%2BVit%25C3%25B3Ria%252C%2BEsp%25C3%25Adrito%2BSanto%252C%2BBrazil%26O%3DJson%26Inclnb%3D1%26Key%3DArm0Cqoig2Wdasyt7Dhcswjyfkjihq4Wwka7Llumyspextdjnximerp8Nsot5G0I%26Maxresults%3D1%2C+Vit%C3%B3ria%2C+Esp%C3%ADrito+Santo%2C+Brazil&q=nan&q=nan&q=nan&q=Vit%C3%B3ria%2C+Vit%C3%B3ria%2C+Esp%C3%ADrito+Santo%2C+Brazil&q=Es%2C+Vit%C3%B3ria%2C+Esp%C3%ADrito+Santo%2C+Brazil&q=Brazil%2C+Vit%C3%B3ria%2C+Esp%C3%ADrito+Santo%2C+Brazil&o=json&inclnb=1&key=ArM0cQoiG2wDASYT7dhCsWjYFKjIHq4wwKa7lLuMYspeXTdJnXimERp8Nsot5G0I&maxResults=1\n",
      "Status code 400 from http://dev.virtualearth.net/REST/v1/Locations: ERROR - 400 Client Error: Bad Request for url: http://dev.virtualearth.net/REST/v1/Locations?q=Parque+Moscoso%2C+Vit%C3%B3ria%2C+Esp%C3%ADrito+Santo%2C+Brazil&q=Error+-+400+Client+Error%3A+Bad+Request+For+Url%3A+Http%3A%2F%2FDev.Virtualearth.Net%2FRest%2FV1%2FLocations%3FQ%3DParque%2BMoscoso%252C%2BVit%25C3%25B3Ria%252C%2BEsp%25C3%25Adrito%2BSanto%252C%2BBrazil%26Q%3DOk%252C%2BVit%25C3%25B3Ria%252C%2BEsp%25C3%25Adrito%2BSanto%252C%2BBrazil%26Q%3DNan%26Q%3DNan%26Q%3DNan%26Q%3DVit%25C3%25B3Ria%252C%2BVit%25C3%25B3Ria%252C%2BEsp%25C3%25Adrito%2BSanto%252C%2BBrazil%26Q%3DEs%252C%2BVit%25C3%25B3Ria%252C%2BEsp%25C3%25Adrito%2BSanto%252C%2BBrazil%26Q%3DBrazil%252C%2BVit%25C3%25B3Ria%252C%2BEsp%25C3%25Adrito%2BSanto%252C%2BBrazil%26O%3DJson%26Inclnb%3D1%26Key%3DArm0Cqoig2Wdasyt7Dhcswjyfkjihq4Wwka7Llumyspextdjnximerp8Nsot5G0I%26Maxresults%3D1%2C+Vit%C3%B3ria%2C+Esp%C3%ADrito+Santo%2C+Brazil&q=nan&q=nan&q=nan&q=Vit%C3%B3ria%2C+Vit%C3%B3ria%2C+Esp%C3%ADrito+Santo%2C+Brazil&q=Es%2C+Vit%C3%B3ria%2C+Esp%C3%ADrito+Santo%2C+Brazil&q=Brazil%2C+Vit%C3%B3ria%2C+Esp%C3%ADrito+Santo%2C+Brazil&o=json&inclnb=1&key=ArM0cQoiG2wDASYT7dhCsWjYFKjIHq4wwKa7lLuMYspeXTdJnXimERp8Nsot5G0I&maxResults=1\n",
      "Status code 429 from http://dev.virtualearth.net/REST/v1/Locations: ERROR - 429 Client Error: Too Many Requests for url: http://dev.virtualearth.net/REST/v1/Locations?q=Goiabeiras%2C+Vit%C3%B3ria%2C+Esp%C3%ADrito+Santo%2C+Brazil&q=Error+-+429+Client+Error%3A+Too+Many+Requests+For+Url%3A+Http%3A%2F%2FDev.Virtualearth.Net%2FRest%2FV1%2FLocations%3FQ%3DGoiabeiras%252C%2BVit%25C3%25B3Ria%252C%2BEsp%25C3%25Adrito%2BSanto%252C%2BBrazil%26Q%3DOk%252C%2BVit%25C3%25B3Ria%252C%2BEsp%25C3%25Adrito%2BSanto%252C%2BBrazil%26Q%3DNan%26Q%3DNan%26Q%3DNan%26Q%3DVit%25C3%25B3Ria%252C%2BVit%25C3%25B3Ria%252C%2BEsp%25C3%25Adrito%2BSanto%252C%2BBrazil%26Q%3DEs%252C%2BVit%25C3%25B3Ria%252C%2BEsp%25C3%25Adrito%2BSanto%252C%2BBrazil%26Q%3DBrazil%252C%2BVit%25C3%25B3Ria%252C%2BEsp%25C3%25Adrito%2BSanto%252C%2BBrazil%26O%3DJson%26Inclnb%3D1%26Key%3DArm0Cqoig2Wdasyt7Dhcswjyfkjihq4Wwka7Llumyspextdjnximerp8Nsot5G0I%26Maxresults%3D1%2C+Vit%C3%B3ria%2C+Esp%C3%ADrito+Santo%2C+Brazil&q=nan&q=nan&q=nan&q=Vit%C3%B3ria%2C+Vit%C3%B3ria%2C+Esp%C3%ADrito+Santo%2C+Brazil&q=Es%2C+Vit%C3%B3ria%2C+Esp%C3%ADrito+Santo%2C+Brazil&q=Brazil%2C+Vit%C3%B3ria%2C+Esp%C3%ADrito+Santo%2C+Brazil&o=json&inclnb=1&key=ArM0cQoiG2wDASYT7dhCsWjYFKjIHq4wwKa7lLuMYspeXTdJnXimERp8Nsot5G0I&maxResults=1\n",
      "Status code 400 from http://dev.virtualearth.net/REST/v1/Locations: ERROR - 400 Client Error: Bad Request for url: http://dev.virtualearth.net/REST/v1/Locations?q=Jucutuquara%2C+Vit%C3%B3ria%2C+Esp%C3%ADrito+Santo%2C+Brazil&q=Error+-+400+Client+Error%3A+Bad+Request+For+Url%3A+Http%3A%2F%2FDev.Virtualearth.Net%2FRest%2FV1%2FLocations%3FQ%3DJucutuquara%252C%2BVit%25C3%25B3Ria%252C%2BEsp%25C3%25Adrito%2BSanto%252C%2BBrazil%26Q%3DOk%252C%2BVit%25C3%25B3Ria%252C%2BEsp%25C3%25Adrito%2BSanto%252C%2BBrazil%26Q%3DNan%26Q%3DNan%26Q%3DNan%26Q%3DVit%25C3%25B3Ria%252C%2BVit%25C3%25B3Ria%252C%2BEsp%25C3%25Adrito%2BSanto%252C%2BBrazil%26Q%3DEs%252C%2BVit%25C3%25B3Ria%252C%2BEsp%25C3%25Adrito%2BSanto%252C%2BBrazil%26Q%3DBrazil%252C%2BVit%25C3%25B3Ria%252C%2BEsp%25C3%25Adrito%2BSanto%252C%2BBrazil%26O%3DJson%26Inclnb%3D1%26Key%3DArm0Cqoig2Wdasyt7Dhcswjyfkjihq4Wwka7Llumyspextdjnximerp8Nsot5G0I%26Maxresults%3D1%2C+Vit%C3%B3ria%2C+Esp%C3%ADrito+Santo%2C+Brazil&q=nan&q=nan&q=nan&q=Vit%C3%B3ria%2C+Vit%C3%B3ria%2C+Esp%C3%ADrito+Santo%2C+Brazil&q=Es%2C+Vit%C3%B3ria%2C+Esp%C3%ADrito+Santo%2C+Brazil&q=Brazil%2C+Vit%C3%B3ria%2C+Esp%C3%ADrito+Santo%2C+Brazil&o=json&inclnb=1&key=ArM0cQoiG2wDASYT7dhCsWjYFKjIHq4wwKa7lLuMYspeXTdJnXimERp8Nsot5G0I&maxResults=1\n",
      "Status code 400 from http://dev.virtualearth.net/REST/v1/Locations: ERROR - 400 Client Error: Bad Request for url: http://dev.virtualearth.net/REST/v1/Locations?q=Fonte+Grande%2C+Vit%C3%B3ria%2C+Esp%C3%ADrito+Santo%2C+Brazil&q=Error+-+400+Client+Error%3A+Bad+Request+For+Url%3A+Http%3A%2F%2FDev.Virtualearth.Net%2FRest%2FV1%2FLocations%3FQ%3DFonte%2BGrande%252C%2BVit%25C3%25B3Ria%252C%2BEsp%25C3%25Adrito%2BSanto%252C%2BBrazil%26Q%3DOk%252C%2BVit%25C3%25B3Ria%252C%2BEsp%25C3%25Adrito%2BSanto%252C%2BBrazil%26Q%3DNan%26Q%3DNan%26Q%3DNan%26Q%3DVit%25C3%25B3Ria%252C%2BVit%25C3%25B3Ria%252C%2BEsp%25C3%25Adrito%2BSanto%252C%2BBrazil%26Q%3DEs%252C%2BVit%25C3%25B3Ria%252C%2BEsp%25C3%25Adrito%2BSanto%252C%2BBrazil%26Q%3DBrazil%252C%2BVit%25C3%25B3Ria%252C%2BEsp%25C3%25Adrito%2BSanto%252C%2BBrazil%26O%3DJson%26Inclnb%3D1%26Key%3DArm0Cqoig2Wdasyt7Dhcswjyfkjihq4Wwka7Llumyspextdjnximerp8Nsot5G0I%26Maxresults%3D1%2C+Vit%C3%B3ria%2C+Esp%C3%ADrito+Santo%2C+Brazil&q=nan&q=nan&q=nan&q=Vit%C3%B3ria%2C+Vit%C3%B3ria%2C+Esp%C3%ADrito+Santo%2C+Brazil&q=Es%2C+Vit%C3%B3ria%2C+Esp%C3%ADrito+Santo%2C+Brazil&q=Brazil%2C+Vit%C3%B3ria%2C+Esp%C3%ADrito+Santo%2C+Brazil&o=json&inclnb=1&key=ArM0cQoiG2wDASYT7dhCsWjYFKjIHq4wwKa7lLuMYspeXTdJnXimERp8Nsot5G0I&maxResults=1\n",
      "Status code 429 from http://dev.virtualearth.net/REST/v1/Locations: ERROR - 429 Client Error: Too Many Requests for url: http://dev.virtualearth.net/REST/v1/Locations?q=Mata+Da+Praia%2C+Vit%C3%B3ria%2C+Esp%C3%ADrito+Santo%2C+Brazil&q=Error+-+400+Client+Error%3A+Bad+Request+For+Url%3A+Http%3A%2F%2FDev.Virtualearth.Net%2FRest%2FV1%2FLocations%3FQ%3DMata%2BDa%2BPraia%252C%2BVit%25C3%25B3Ria%252C%2BEsp%25C3%25Adrito%2BSanto%252C%2BBrazil%26Q%3DOver_Query_Limit%252C%2BVit%25C3%25B3Ria%252C%2BEsp%25C3%25Adrito%2BSanto%252C%2BBrazil%26Q%3DNan%26Q%3DNan%26Q%3DNan%26Q%3DNan%26Q%3DNan%26Q%3DNan%26O%3DJson%26Inclnb%3D1%26Key%3DArm0Cqoig2Wdasyt7Dhcswjyfkjihq4Wwka7Llumyspextdjnximerp8Nsot5G0I%26Maxresults%3D1%2C+Vit%C3%B3ria%2C+Esp%C3%ADrito+Santo%2C+Brazil&q=nan&q=nan&q=nan&q=nan&q=nan&q=nan&o=json&inclnb=1&key=ArM0cQoiG2wDASYT7dhCsWjYFKjIHq4wwKa7lLuMYspeXTdJnXimERp8Nsot5G0I&maxResults=1\n",
      "Status code 429 from http://dev.virtualearth.net/REST/v1/Locations: ERROR - 429 Client Error: Too Many Requests for url: http://dev.virtualearth.net/REST/v1/Locations?q=Do+Cabral%2C+Vit%C3%B3ria%2C+Esp%C3%ADrito+Santo%2C+Brazil&q=Error+-+400+Client+Error%3A+Bad+Request+For+Url%3A+Http%3A%2F%2FDev.Virtualearth.Net%2FRest%2FV1%2FLocations%3FQ%3DDo%2BCabral%252C%2BVit%25C3%25B3Ria%252C%2BEsp%25C3%25Adrito%2BSanto%252C%2BBrazil%26Q%3DOk%252C%2BVit%25C3%25B3Ria%252C%2BEsp%25C3%25Adrito%2BSanto%252C%2BBrazil%26Q%3DNan%26Q%3DNan%26Q%3DNan%26Q%3DVit%25C3%25B3Ria%252C%2BVit%25C3%25B3Ria%252C%2BEsp%25C3%25Adrito%2BSanto%252C%2BBrazil%26Q%3DEs%252C%2BVit%25C3%25B3Ria%252C%2BEsp%25C3%25Adrito%2BSanto%252C%2BBrazil%26Q%3DBrazil%252C%2BVit%25C3%25B3Ria%252C%2BEsp%25C3%25Adrito%2BSanto%252C%2BBrazil%26O%3DJson%26Inclnb%3D1%26Key%3DArm0Cqoig2Wdasyt7Dhcswjyfkjihq4Wwka7Llumyspextdjnximerp8Nsot5G0I%26Maxresults%3D1%2C+Vit%C3%B3ria%2C+Esp%C3%ADrito+Santo%2C+Brazil&q=nan&q=nan&q=nan&q=Vit%C3%B3ria%2C+Vit%C3%B3ria%2C+Esp%C3%ADrito+Santo%2C+Brazil&q=Es%2C+Vit%C3%B3ria%2C+Esp%C3%ADrito+Santo%2C+Brazil&q=Brazil%2C+Vit%C3%B3ria%2C+Esp%C3%ADrito+Santo%2C+Brazil&o=json&inclnb=1&key=ArM0cQoiG2wDASYT7dhCsWjYFKjIHq4wwKa7lLuMYspeXTdJnXimERp8Nsot5G0I&maxResults=1\n"
     ]
    },
    {
     "name": "stderr",
     "output_type": "stream",
     "text": [
      "Status code 429 from http://dev.virtualearth.net/REST/v1/Locations: ERROR - 429 Client Error: Too Many Requests for url: http://dev.virtualearth.net/REST/v1/Locations?q=Santos+Reis%2C+Vit%C3%B3ria%2C+Esp%C3%ADrito+Santo%2C+Brazil&q=Error+-+400+Client+Error%3A+Bad+Request+For+Url%3A+Http%3A%2F%2FDev.Virtualearth.Net%2FRest%2FV1%2FLocations%3FQ%3DSantos%2BReis%252C%2BVit%25C3%25B3Ria%252C%2BEsp%25C3%25Adrito%2BSanto%252C%2BBrazil%26Q%3DOk%252C%2BVit%25C3%25B3Ria%252C%2BEsp%25C3%25Adrito%2BSanto%252C%2BBrazil%26Q%3DNan%26Q%3DNan%26Q%3DNan%26Q%3DVit%25C3%25B3Ria%252C%2BVit%25C3%25B3Ria%252C%2BEsp%25C3%25Adrito%2BSanto%252C%2BBrazil%26Q%3DEs%252C%2BVit%25C3%25B3Ria%252C%2BEsp%25C3%25Adrito%2BSanto%252C%2BBrazil%26Q%3DBrazil%252C%2BVit%25C3%25B3Ria%252C%2BEsp%25C3%25Adrito%2BSanto%252C%2BBrazil%26O%3DJson%26Inclnb%3D1%26Key%3DArm0Cqoig2Wdasyt7Dhcswjyfkjihq4Wwka7Llumyspextdjnximerp8Nsot5G0I%26Maxresults%3D1%2C+Vit%C3%B3ria%2C+Esp%C3%ADrito+Santo%2C+Brazil&q=nan&q=nan&q=nan&q=Vit%C3%B3ria%2C+Vit%C3%B3ria%2C+Esp%C3%ADrito+Santo%2C+Brazil&q=Es%2C+Vit%C3%B3ria%2C+Esp%C3%ADrito+Santo%2C+Brazil&q=Brazil%2C+Vit%C3%B3ria%2C+Esp%C3%ADrito+Santo%2C+Brazil&o=json&inclnb=1&key=ArM0cQoiG2wDASYT7dhCsWjYFKjIHq4wwKa7lLuMYspeXTdJnXimERp8Nsot5G0I&maxResults=1\n",
      "Status code 429 from http://dev.virtualearth.net/REST/v1/Locations: ERROR - 429 Client Error: Too Many Requests for url: http://dev.virtualearth.net/REST/v1/Locations?q=Estrelinha%2C+Vit%C3%B3ria%2C+Esp%C3%ADrito+Santo%2C+Brazil&q=Error+-+400+Client+Error%3A+Bad+Request+For+Url%3A+Http%3A%2F%2FDev.Virtualearth.Net%2FRest%2FV1%2FLocations%3FQ%3DEstrelinha%252C%2BVit%25C3%25B3Ria%252C%2BEsp%25C3%25Adrito%2BSanto%252C%2BBrazil%26Q%3DOk%252C%2BVit%25C3%25B3Ria%252C%2BEsp%25C3%25Adrito%2BSanto%252C%2BBrazil%26Q%3DNan%26Q%3DNan%26Q%3DNan%26Q%3DVit%25C3%25B3Ria%252C%2BVit%25C3%25B3Ria%252C%2BEsp%25C3%25Adrito%2BSanto%252C%2BBrazil%26Q%3DEs%252C%2BVit%25C3%25B3Ria%252C%2BEsp%25C3%25Adrito%2BSanto%252C%2BBrazil%26Q%3DBrazil%252C%2BVit%25C3%25B3Ria%252C%2BEsp%25C3%25Adrito%2BSanto%252C%2BBrazil%26O%3DJson%26Inclnb%3D1%26Key%3DArm0Cqoig2Wdasyt7Dhcswjyfkjihq4Wwka7Llumyspextdjnximerp8Nsot5G0I%26Maxresults%3D1%2C+Vit%C3%B3ria%2C+Esp%C3%ADrito+Santo%2C+Brazil&q=nan&q=nan&q=nan&q=Vit%C3%B3ria%2C+Vit%C3%B3ria%2C+Esp%C3%ADrito+Santo%2C+Brazil&q=Es%2C+Vit%C3%B3ria%2C+Esp%C3%ADrito+Santo%2C+Brazil&q=Brazil%2C+Vit%C3%B3ria%2C+Esp%C3%ADrito+Santo%2C+Brazil&o=json&inclnb=1&key=ArM0cQoiG2wDASYT7dhCsWjYFKjIHq4wwKa7lLuMYspeXTdJnXimERp8Nsot5G0I&maxResults=1\n",
      "Status code 429 from http://dev.virtualearth.net/REST/v1/Locations: ERROR - 429 Client Error: Too Many Requests for url: http://dev.virtualearth.net/REST/v1/Locations?q=Santa+Clara%2C+Vit%C3%B3ria%2C+Esp%C3%ADrito+Santo%2C+Brazil&q=Error+-+400+Client+Error%3A+Bad+Request+For+Url%3A+Http%3A%2F%2FDev.Virtualearth.Net%2FRest%2FV1%2FLocations%3FQ%3DSanta%2BClara%252C%2BVit%25C3%25B3Ria%252C%2BEsp%25C3%25Adrito%2BSanto%252C%2BBrazil%26Q%3DOk%252C%2BVit%25C3%25B3Ria%252C%2BEsp%25C3%25Adrito%2BSanto%252C%2BBrazil%26Q%3DNan%26Q%3DNan%26Q%3DNan%26Q%3DVit%25C3%25B3Ria%252C%2BVit%25C3%25B3Ria%252C%2BEsp%25C3%25Adrito%2BSanto%252C%2BBrazil%26Q%3DEs%252C%2BVit%25C3%25B3Ria%252C%2BEsp%25C3%25Adrito%2BSanto%252C%2BBrazil%26Q%3DBrazil%252C%2BVit%25C3%25B3Ria%252C%2BEsp%25C3%25Adrito%2BSanto%252C%2BBrazil%26O%3DJson%26Inclnb%3D1%26Key%3DArm0Cqoig2Wdasyt7Dhcswjyfkjihq4Wwka7Llumyspextdjnximerp8Nsot5G0I%26Maxresults%3D1%2C+Vit%C3%B3ria%2C+Esp%C3%ADrito+Santo%2C+Brazil&q=nan&q=nan&q=nan&q=Vit%C3%B3ria%2C+Vit%C3%B3ria%2C+Esp%C3%ADrito+Santo%2C+Brazil&q=Es%2C+Vit%C3%B3ria%2C+Esp%C3%ADrito+Santo%2C+Brazil&q=Brazil%2C+Vit%C3%B3ria%2C+Esp%C3%ADrito+Santo%2C+Brazil&o=json&inclnb=1&key=ArM0cQoiG2wDASYT7dhCsWjYFKjIHq4wwKa7lLuMYspeXTdJnXimERp8Nsot5G0I&maxResults=1\n",
      "Status code 429 from http://dev.virtualearth.net/REST/v1/Locations: ERROR - 429 Client Error: Too Many Requests for url: http://dev.virtualearth.net/REST/v1/Locations?q=Solon+Borges%2C+Vit%C3%B3ria%2C+Esp%C3%ADrito+Santo%2C+Brazil&q=Error+-+400+Client+Error%3A+Bad+Request+For+Url%3A+Http%3A%2F%2FDev.Virtualearth.Net%2FRest%2FV1%2FLocations%3FQ%3DSolon%2BBorges%252C%2BVit%25C3%25B3Ria%252C%2BEsp%25C3%25Adrito%2BSanto%252C%2BBrazil%26Q%3DOk%252C%2BVit%25C3%25B3Ria%252C%2BEsp%25C3%25Adrito%2BSanto%252C%2BBrazil%26Q%3DNan%26Q%3DNan%26Q%3DNan%26Q%3DVit%25C3%25B3Ria%252C%2BVit%25C3%25B3Ria%252C%2BEsp%25C3%25Adrito%2BSanto%252C%2BBrazil%26Q%3DEs%252C%2BVit%25C3%25B3Ria%252C%2BEsp%25C3%25Adrito%2BSanto%252C%2BBrazil%26Q%3DBrazil%252C%2BVit%25C3%25B3Ria%252C%2BEsp%25C3%25Adrito%2BSanto%252C%2BBrazil%26O%3DJson%26Inclnb%3D1%26Key%3DArm0Cqoig2Wdasyt7Dhcswjyfkjihq4Wwka7Llumyspextdjnximerp8Nsot5G0I%26Maxresults%3D1%2C+Vit%C3%B3ria%2C+Esp%C3%ADrito+Santo%2C+Brazil&q=nan&q=nan&q=nan&q=Vit%C3%B3ria%2C+Vit%C3%B3ria%2C+Esp%C3%ADrito+Santo%2C+Brazil&q=Es%2C+Vit%C3%B3ria%2C+Esp%C3%ADrito+Santo%2C+Brazil&q=Brazil%2C+Vit%C3%B3ria%2C+Esp%C3%ADrito+Santo%2C+Brazil&o=json&inclnb=1&key=ArM0cQoiG2wDASYT7dhCsWjYFKjIHq4wwKa7lLuMYspeXTdJnXimERp8Nsot5G0I&maxResults=1\n",
      "Status code 400 from http://dev.virtualearth.net/REST/v1/Locations: ERROR - 400 Client Error: Bad Request for url: http://dev.virtualearth.net/REST/v1/Locations?q=Piedade%2C+Vit%C3%B3ria%2C+Esp%C3%ADrito+Santo%2C+Brazil&q=Error+-+400+Client+Error%3A+Bad+Request+For+Url%3A+Http%3A%2F%2FDev.Virtualearth.Net%2FRest%2FV1%2FLocations%3FQ%3DPiedade%252C%2BVit%25C3%25B3Ria%252C%2BEsp%25C3%25Adrito%2BSanto%252C%2BBrazil%26Q%3DOk%252C%2BVit%25C3%25B3Ria%252C%2BEsp%25C3%25Adrito%2BSanto%252C%2BBrazil%26Q%3DNan%26Q%3DNan%26Q%3DNan%26Q%3DVit%25C3%25B3Ria%252C%2BVit%25C3%25B3Ria%252C%2BEsp%25C3%25Adrito%2BSanto%252C%2BBrazil%26Q%3DEs%252C%2BVit%25C3%25B3Ria%252C%2BEsp%25C3%25Adrito%2BSanto%252C%2BBrazil%26Q%3DBrazil%252C%2BVit%25C3%25B3Ria%252C%2BEsp%25C3%25Adrito%2BSanto%252C%2BBrazil%26O%3DJson%26Inclnb%3D1%26Key%3DArm0Cqoig2Wdasyt7Dhcswjyfkjihq4Wwka7Llumyspextdjnximerp8Nsot5G0I%26Maxresults%3D1%2C+Vit%C3%B3ria%2C+Esp%C3%ADrito+Santo%2C+Brazil&q=nan&q=nan&q=nan&q=Vit%C3%B3ria%2C+Vit%C3%B3ria%2C+Esp%C3%ADrito+Santo%2C+Brazil&q=Es%2C+Vit%C3%B3ria%2C+Esp%C3%ADrito+Santo%2C+Brazil&q=Brazil%2C+Vit%C3%B3ria%2C+Esp%C3%ADrito+Santo%2C+Brazil&o=json&inclnb=1&key=ArM0cQoiG2wDASYT7dhCsWjYFKjIHq4wwKa7lLuMYspeXTdJnXimERp8Nsot5G0I&maxResults=1\n",
      "Status code 400 from http://dev.virtualearth.net/REST/v1/Locations: ERROR - 400 Client Error: Bad Request for url: http://dev.virtualearth.net/REST/v1/Locations?q=Santa+Cec%C3%ADlia%2C+Vit%C3%B3ria%2C+Esp%C3%ADrito+Santo%2C+Brazil&q=Error+-+429+Client+Error%3A+Too+Many+Requests+For+Url%3A+Http%3A%2F%2FDev.Virtualearth.Net%2FRest%2FV1%2FLocations%3FQ%3DSanta%2BCec%25C3%25Adlia%252C%2BVit%25C3%25B3Ria%252C%2BEsp%25C3%25Adrito%2BSanto%252C%2BBrazil%26Q%3DOk%252C%2BVit%25C3%25B3Ria%252C%2BEsp%25C3%25Adrito%2BSanto%252C%2BBrazil%26Q%3DNan%26Q%3DNan%26Q%3DNan%26Q%3DVit%25C3%25B3Ria%252C%2BVit%25C3%25B3Ria%252C%2BEsp%25C3%25Adrito%2BSanto%252C%2BBrazil%26Q%3DEs%252C%2BVit%25C3%25B3Ria%252C%2BEsp%25C3%25Adrito%2BSanto%252C%2BBrazil%26Q%3DBrazil%252C%2BVit%25C3%25B3Ria%252C%2BEsp%25C3%25Adrito%2BSanto%252C%2BBrazil%26O%3DJson%26Inclnb%3D1%26Key%3DArm0Cqoig2Wdasyt7Dhcswjyfkjihq4Wwka7Llumyspextdjnximerp8Nsot5G0I%26Maxresults%3D1%2C+Vit%C3%B3ria%2C+Esp%C3%ADrito+Santo%2C+Brazil&q=nan&q=nan&q=nan&q=Vit%C3%B3ria%2C+Vit%C3%B3ria%2C+Esp%C3%ADrito+Santo%2C+Brazil&q=Es%2C+Vit%C3%B3ria%2C+Esp%C3%ADrito+Santo%2C+Brazil&q=Brazil%2C+Vit%C3%B3ria%2C+Esp%C3%ADrito+Santo%2C+Brazil&o=json&inclnb=1&key=ArM0cQoiG2wDASYT7dhCsWjYFKjIHq4wwKa7lLuMYspeXTdJnXimERp8Nsot5G0I&maxResults=1\n",
      "Status code 429 from http://dev.virtualearth.net/REST/v1/Locations: ERROR - 429 Client Error: Too Many Requests for url: http://dev.virtualearth.net/REST/v1/Locations?q=Santa+L%C3%BAcia%2C+Vit%C3%B3ria%2C+Esp%C3%ADrito+Santo%2C+Brazil&q=Error+-+400+Client+Error%3A+Bad+Request+For+Url%3A+Http%3A%2F%2FDev.Virtualearth.Net%2FRest%2FV1%2FLocations%3FQ%3DSanta%2BL%25C3%25Bacia%252C%2BVit%25C3%25B3Ria%252C%2BEsp%25C3%25Adrito%2BSanto%252C%2BBrazil%26Q%3DOk%252C%2BVit%25C3%25B3Ria%252C%2BEsp%25C3%25Adrito%2BSanto%252C%2BBrazil%26Q%3DNan%26Q%3DNan%26Q%3DNan%26Q%3DVit%25C3%25B3Ria%252C%2BVit%25C3%25B3Ria%252C%2BEsp%25C3%25Adrito%2BSanto%252C%2BBrazil%26Q%3DEs%252C%2BVit%25C3%25B3Ria%252C%2BEsp%25C3%25Adrito%2BSanto%252C%2BBrazil%26Q%3DBrazil%252C%2BVit%25C3%25B3Ria%252C%2BEsp%25C3%25Adrito%2BSanto%252C%2BBrazil%26O%3DJson%26Inclnb%3D1%26Key%3DArm0Cqoig2Wdasyt7Dhcswjyfkjihq4Wwka7Llumyspextdjnximerp8Nsot5G0I%26Maxresults%3D1%2C+Vit%C3%B3ria%2C+Esp%C3%ADrito+Santo%2C+Brazil&q=nan&q=nan&q=nan&q=Vit%C3%B3ria%2C+Vit%C3%B3ria%2C+Esp%C3%ADrito+Santo%2C+Brazil&q=Es%2C+Vit%C3%B3ria%2C+Esp%C3%ADrito+Santo%2C+Brazil&q=Brazil%2C+Vit%C3%B3ria%2C+Esp%C3%ADrito+Santo%2C+Brazil&o=json&inclnb=1&key=ArM0cQoiG2wDASYT7dhCsWjYFKjIHq4wwKa7lLuMYspeXTdJnXimERp8Nsot5G0I&maxResults=1\n"
     ]
    },
    {
     "name": "stderr",
     "output_type": "stream",
     "text": [
      "Status code 400 from http://dev.virtualearth.net/REST/v1/Locations: ERROR - 400 Client Error: Bad Request for url: http://dev.virtualearth.net/REST/v1/Locations?q=Santa+Lu%C3%ADza%2C+Vit%C3%B3ria%2C+Esp%C3%ADrito+Santo%2C+Brazil&q=Error+-+400+Client+Error%3A+Bad+Request+For+Url%3A+Http%3A%2F%2FDev.Virtualearth.Net%2FRest%2FV1%2FLocations%3FQ%3DSanta%2BLu%25C3%25Adza%252C%2BVit%25C3%25B3Ria%252C%2BEsp%25C3%25Adrito%2BSanto%252C%2BBrazil%26Q%3DOk%252C%2BVit%25C3%25B3Ria%252C%2BEsp%25C3%25Adrito%2BSanto%252C%2BBrazil%26Q%3DNan%26Q%3DNan%26Q%3DNan%26Q%3DVit%25C3%25B3Ria%252C%2BVit%25C3%25B3Ria%252C%2BEsp%25C3%25Adrito%2BSanto%252C%2BBrazil%26Q%3DEs%252C%2BVit%25C3%25B3Ria%252C%2BEsp%25C3%25Adrito%2BSanto%252C%2BBrazil%26Q%3DBrazil%252C%2BVit%25C3%25B3Ria%252C%2BEsp%25C3%25Adrito%2BSanto%252C%2BBrazil%26O%3DJson%26Inclnb%3D1%26Key%3DArm0Cqoig2Wdasyt7Dhcswjyfkjihq4Wwka7Llumyspextdjnximerp8Nsot5G0I%26Maxresults%3D1%2C+Vit%C3%B3ria%2C+Esp%C3%ADrito+Santo%2C+Brazil&q=nan&q=nan&q=nan&q=Vit%C3%B3ria%2C+Vit%C3%B3ria%2C+Esp%C3%ADrito+Santo%2C+Brazil&q=Es%2C+Vit%C3%B3ria%2C+Esp%C3%ADrito+Santo%2C+Brazil&q=Brazil%2C+Vit%C3%B3ria%2C+Esp%C3%ADrito+Santo%2C+Brazil&o=json&inclnb=1&key=ArM0cQoiG2wDASYT7dhCsWjYFKjIHq4wwKa7lLuMYspeXTdJnXimERp8Nsot5G0I&maxResults=1\n",
      "Status code 429 from http://dev.virtualearth.net/REST/v1/Locations: ERROR - 429 Client Error: Too Many Requests for url: http://dev.virtualearth.net/REST/v1/Locations?q=Barro+Vermelho%2C+Vit%C3%B3ria%2C+Esp%C3%ADrito+Santo%2C+Brazil&q=Error+-+400+Client+Error%3A+Bad+Request+For+Url%3A+Http%3A%2F%2FDev.Virtualearth.Net%2FRest%2FV1%2FLocations%3FQ%3DBarro%2BVermelho%252C%2BVit%25C3%25B3Ria%252C%2BEsp%25C3%25Adrito%2BSanto%252C%2BBrazil%26Q%3DOk%252C%2BVit%25C3%25B3Ria%252C%2BEsp%25C3%25Adrito%2BSanto%252C%2BBrazil%26Q%3DNan%26Q%3DNan%26Q%3DNan%26Q%3DVit%25C3%25B3Ria%252C%2BVit%25C3%25B3Ria%252C%2BEsp%25C3%25Adrito%2BSanto%252C%2BBrazil%26Q%3DEs%252C%2BVit%25C3%25B3Ria%252C%2BEsp%25C3%25Adrito%2BSanto%252C%2BBrazil%26Q%3DBrazil%252C%2BVit%25C3%25B3Ria%252C%2BEsp%25C3%25Adrito%2BSanto%252C%2BBrazil%26O%3DJson%26Inclnb%3D1%26Key%3DArm0Cqoig2Wdasyt7Dhcswjyfkjihq4Wwka7Llumyspextdjnximerp8Nsot5G0I%26Maxresults%3D1%2C+Vit%C3%B3ria%2C+Esp%C3%ADrito+Santo%2C+Brazil&q=nan&q=nan&q=nan&q=Vit%C3%B3ria%2C+Vit%C3%B3ria%2C+Esp%C3%ADrito+Santo%2C+Brazil&q=Es%2C+Vit%C3%B3ria%2C+Esp%C3%ADrito+Santo%2C+Brazil&q=Brazil%2C+Vit%C3%B3ria%2C+Esp%C3%ADrito+Santo%2C+Brazil&o=json&inclnb=1&key=ArM0cQoiG2wDASYT7dhCsWjYFKjIHq4wwKa7lLuMYspeXTdJnXimERp8Nsot5G0I&maxResults=1\n",
      "Status code 400 from http://dev.virtualearth.net/REST/v1/Locations: ERROR - 400 Client Error: Bad Request for url: http://dev.virtualearth.net/REST/v1/Locations?q=Do+Moscoso%2C+Vit%C3%B3ria%2C+Esp%C3%ADrito+Santo%2C+Brazil&q=Error+-+400+Client+Error%3A+Bad+Request+For+Url%3A+Http%3A%2F%2FDev.Virtualearth.Net%2FRest%2FV1%2FLocations%3FQ%3DDo%2BMoscoso%252C%2BVit%25C3%25B3Ria%252C%2BEsp%25C3%25Adrito%2BSanto%252C%2BBrazil%26Q%3DOk%252C%2BVit%25C3%25B3Ria%252C%2BEsp%25C3%25Adrito%2BSanto%252C%2BBrazil%26Q%3DNan%26Q%3DNan%26Q%3DNan%26Q%3DVit%25C3%25B3Ria%252C%2BVit%25C3%25B3Ria%252C%2BEsp%25C3%25Adrito%2BSanto%252C%2BBrazil%26Q%3DEs%252C%2BVit%25C3%25B3Ria%252C%2BEsp%25C3%25Adrito%2BSanto%252C%2BBrazil%26Q%3DBrazil%252C%2BVit%25C3%25B3Ria%252C%2BEsp%25C3%25Adrito%2BSanto%252C%2BBrazil%26O%3DJson%26Inclnb%3D1%26Key%3DArm0Cqoig2Wdasyt7Dhcswjyfkjihq4Wwka7Llumyspextdjnximerp8Nsot5G0I%26Maxresults%3D1%2C+Vit%C3%B3ria%2C+Esp%C3%ADrito+Santo%2C+Brazil&q=nan&q=nan&q=nan&q=Vit%C3%B3ria%2C+Vit%C3%B3ria%2C+Esp%C3%ADrito+Santo%2C+Brazil&q=Es%2C+Vit%C3%B3ria%2C+Esp%C3%ADrito+Santo%2C+Brazil&q=Brazil%2C+Vit%C3%B3ria%2C+Esp%C3%ADrito+Santo%2C+Brazil&o=json&inclnb=1&key=ArM0cQoiG2wDASYT7dhCsWjYFKjIHq4wwKa7lLuMYspeXTdJnXimERp8Nsot5G0I&maxResults=1\n",
      "Status code 429 from http://dev.virtualearth.net/REST/v1/Locations: ERROR - 429 Client Error: Too Many Requests for url: http://dev.virtualearth.net/REST/v1/Locations?q=M%C3%A1rio+Cypreste%2C+Vit%C3%B3ria%2C+Esp%C3%ADrito+Santo%2C+Brazil&q=Error+-+400+Client+Error%3A+Bad+Request+For+Url%3A+Http%3A%2F%2FDev.Virtualearth.Net%2FRest%2FV1%2FLocations%3FQ%3DM%25C3%25A1Rio%2BCypreste%252C%2BVit%25C3%25B3Ria%252C%2BEsp%25C3%25Adrito%2BSanto%252C%2BBrazil%26Q%3DOk%252C%2BVit%25C3%25B3Ria%252C%2BEsp%25C3%25Adrito%2BSanto%252C%2BBrazil%26Q%3DNan%26Q%3DNan%26Q%3DNan%26Q%3DVit%25C3%25B3Ria%252C%2BVit%25C3%25B3Ria%252C%2BEsp%25C3%25Adrito%2BSanto%252C%2BBrazil%26Q%3DEs%252C%2BVit%25C3%25B3Ria%252C%2BEsp%25C3%25Adrito%2BSanto%252C%2BBrazil%26Q%3DBrazil%252C%2BVit%25C3%25B3Ria%252C%2BEsp%25C3%25Adrito%2BSanto%252C%2BBrazil%26O%3DJson%26Inclnb%3D1%26Key%3DArm0Cqoig2Wdasyt7Dhcswjyfkjihq4Wwka7Llumyspextdjnximerp8Nsot5G0I%26Maxresults%3D1%2C+Vit%C3%B3ria%2C+Esp%C3%ADrito+Santo%2C+Brazil&q=nan&q=nan&q=nan&q=Vit%C3%B3ria%2C+Vit%C3%B3ria%2C+Esp%C3%ADrito+Santo%2C+Brazil&q=Es%2C+Vit%C3%B3ria%2C+Esp%C3%ADrito+Santo%2C+Brazil&q=Brazil%2C+Vit%C3%B3ria%2C+Esp%C3%ADrito+Santo%2C+Brazil&o=json&inclnb=1&key=ArM0cQoiG2wDASYT7dhCsWjYFKjIHq4wwKa7lLuMYspeXTdJnXimERp8Nsot5G0I&maxResults=1\n",
      "Status code 429 from http://dev.virtualearth.net/REST/v1/Locations: ERROR - 429 Client Error: Too Many Requests for url: http://dev.virtualearth.net/REST/v1/Locations?q=Boa+Vista%2C+Vit%C3%B3ria%2C+Esp%C3%ADrito+Santo%2C+Brazil&q=Error+-+400+Client+Error%3A+Bad+Request+For+Url%3A+Http%3A%2F%2FDev.Virtualearth.Net%2FRest%2FV1%2FLocations%3FQ%3DBoa%2BVista%252C%2BVit%25C3%25B3Ria%252C%2BEsp%25C3%25Adrito%2BSanto%252C%2BBrazil%26Q%3DOk%252C%2BVit%25C3%25B3Ria%252C%2BEsp%25C3%25Adrito%2BSanto%252C%2BBrazil%26Q%3DNan%26Q%3DNan%26Q%3DNan%26Q%3DVit%25C3%25B3Ria%252C%2BVit%25C3%25B3Ria%252C%2BEsp%25C3%25Adrito%2BSanto%252C%2BBrazil%26Q%3DEs%252C%2BVit%25C3%25B3Ria%252C%2BEsp%25C3%25Adrito%2BSanto%252C%2BBrazil%26Q%3DBrazil%252C%2BVit%25C3%25B3Ria%252C%2BEsp%25C3%25Adrito%2BSanto%252C%2BBrazil%26O%3DJson%26Inclnb%3D1%26Key%3DArm0Cqoig2Wdasyt7Dhcswjyfkjihq4Wwka7Llumyspextdjnximerp8Nsot5G0I%26Maxresults%3D1%2C+Vit%C3%B3ria%2C+Esp%C3%ADrito+Santo%2C+Brazil&q=nan&q=nan&q=nan&q=Vit%C3%B3ria%2C+Vit%C3%B3ria%2C+Esp%C3%ADrito+Santo%2C+Brazil&q=Es%2C+Vit%C3%B3ria%2C+Esp%C3%ADrito+Santo%2C+Brazil&q=Brazil%2C+Vit%C3%B3ria%2C+Esp%C3%ADrito+Santo%2C+Brazil&o=json&inclnb=1&key=ArM0cQoiG2wDASYT7dhCsWjYFKjIHq4wwKa7lLuMYspeXTdJnXimERp8Nsot5G0I&maxResults=1\n",
      "Status code 429 from http://dev.virtualearth.net/REST/v1/Locations: ERROR - 429 Client Error: Too Many Requests for url: http://dev.virtualearth.net/REST/v1/Locations?q=Comdusa%2C+Vit%C3%B3ria%2C+Esp%C3%ADrito+Santo%2C+Brazil&q=Error+-+400+Client+Error%3A+Bad+Request+For+Url%3A+Http%3A%2F%2FDev.Virtualearth.Net%2FRest%2FV1%2FLocations%3FQ%3DComdusa%252C%2BVit%25C3%25B3Ria%252C%2BEsp%25C3%25Adrito%2BSanto%252C%2BBrazil%26Q%3DOk%252C%2BVit%25C3%25B3Ria%252C%2BEsp%25C3%25Adrito%2BSanto%252C%2BBrazil%26Q%3DNan%26Q%3DNan%26Q%3DNan%26Q%3DVit%25C3%25B3Ria%252C%2BVit%25C3%25B3Ria%252C%2BEsp%25C3%25Adrito%2BSanto%252C%2BBrazil%26Q%3DEs%252C%2BVit%25C3%25B3Ria%252C%2BEsp%25C3%25Adrito%2BSanto%252C%2BBrazil%26Q%3DBrazil%252C%2BVit%25C3%25B3Ria%252C%2BEsp%25C3%25Adrito%2BSanto%252C%2BBrazil%26O%3DJson%26Inclnb%3D1%26Key%3DArm0Cqoig2Wdasyt7Dhcswjyfkjihq4Wwka7Llumyspextdjnximerp8Nsot5G0I%26Maxresults%3D1%2C+Vit%C3%B3ria%2C+Esp%C3%ADrito+Santo%2C+Brazil&q=nan&q=nan&q=nan&q=Vit%C3%B3ria%2C+Vit%C3%B3ria%2C+Esp%C3%ADrito+Santo%2C+Brazil&q=Es%2C+Vit%C3%B3ria%2C+Esp%C3%ADrito+Santo%2C+Brazil&q=Brazil%2C+Vit%C3%B3ria%2C+Esp%C3%ADrito+Santo%2C+Brazil&o=json&inclnb=1&key=ArM0cQoiG2wDASYT7dhCsWjYFKjIHq4wwKa7lLuMYspeXTdJnXimERp8Nsot5G0I&maxResults=1\n",
      "Status code 400 from http://dev.virtualearth.net/REST/v1/Locations: ERROR - 400 Client Error: Bad Request for url: http://dev.virtualearth.net/REST/v1/Locations?q=De+Lourdes%2C+Vit%C3%B3ria%2C+Esp%C3%ADrito+Santo%2C+Brazil&q=Error+-+400+Client+Error%3A+Bad+Request+For+Url%3A+Http%3A%2F%2FDev.Virtualearth.Net%2FRest%2FV1%2FLocations%3FQ%3DDe%2BLourdes%252C%2BVit%25C3%25B3Ria%252C%2BEsp%25C3%25Adrito%2BSanto%252C%2BBrazil%26Q%3DOk%252C%2BVit%25C3%25B3Ria%252C%2BEsp%25C3%25Adrito%2BSanto%252C%2BBrazil%26Q%3DNan%26Q%3DNan%26Q%3DNan%26Q%3DVit%25C3%25B3Ria%252C%2BVit%25C3%25B3Ria%252C%2BEsp%25C3%25Adrito%2BSanto%252C%2BBrazil%26Q%3DEs%252C%2BVit%25C3%25B3Ria%252C%2BEsp%25C3%25Adrito%2BSanto%252C%2BBrazil%26Q%3DBrazil%252C%2BVit%25C3%25B3Ria%252C%2BEsp%25C3%25Adrito%2BSanto%252C%2BBrazil%26O%3DJson%26Inclnb%3D1%26Key%3DArm0Cqoig2Wdasyt7Dhcswjyfkjihq4Wwka7Llumyspextdjnximerp8Nsot5G0I%26Maxresults%3D1%2C+Vit%C3%B3ria%2C+Esp%C3%ADrito+Santo%2C+Brazil&q=nan&q=nan&q=nan&q=Vit%C3%B3ria%2C+Vit%C3%B3ria%2C+Esp%C3%ADrito+Santo%2C+Brazil&q=Es%2C+Vit%C3%B3ria%2C+Esp%C3%ADrito+Santo%2C+Brazil&q=Brazil%2C+Vit%C3%B3ria%2C+Esp%C3%ADrito+Santo%2C+Brazil&o=json&inclnb=1&key=ArM0cQoiG2wDASYT7dhCsWjYFKjIHq4wwKa7lLuMYspeXTdJnXimERp8Nsot5G0I&maxResults=1\n"
     ]
    },
    {
     "name": "stderr",
     "output_type": "stream",
     "text": [
      "Status code 400 from http://dev.virtualearth.net/REST/v1/Locations: ERROR - 400 Client Error: Bad Request for url: http://dev.virtualearth.net/REST/v1/Locations?q=Ariovaldo+Favalessa%2C+Vit%C3%B3ria%2C+Esp%C3%ADrito+Santo%2C+Brazil&q=Error+-+400+Client+Error%3A+Bad+Request+For+Url%3A+Http%3A%2F%2FDev.Virtualearth.Net%2FRest%2FV1%2FLocations%3FQ%3DAriovaldo%2BFavalessa%252C%2BVit%25C3%25B3Ria%252C%2BEsp%25C3%25Adrito%2BSanto%252C%2BBrazil%26Q%3DOk%252C%2BVit%25C3%25B3Ria%252C%2BEsp%25C3%25Adrito%2BSanto%252C%2BBrazil%26Q%3DNan%26Q%3DNan%26Q%3DNan%26Q%3DVit%25C3%25B3Ria%252C%2BVit%25C3%25B3Ria%252C%2BEsp%25C3%25Adrito%2BSanto%252C%2BBrazil%26Q%3DEs%252C%2BVit%25C3%25B3Ria%252C%2BEsp%25C3%25Adrito%2BSanto%252C%2BBrazil%26Q%3DBrazil%252C%2BVit%25C3%25B3Ria%252C%2BEsp%25C3%25Adrito%2BSanto%252C%2BBrazil%26O%3DJson%26Inclnb%3D1%26Key%3DArm0Cqoig2Wdasyt7Dhcswjyfkjihq4Wwka7Llumyspextdjnximerp8Nsot5G0I%26Maxresults%3D1%2C+Vit%C3%B3ria%2C+Esp%C3%ADrito+Santo%2C+Brazil&q=nan&q=nan&q=nan&q=Vit%C3%B3ria%2C+Vit%C3%B3ria%2C+Esp%C3%ADrito+Santo%2C+Brazil&q=Es%2C+Vit%C3%B3ria%2C+Esp%C3%ADrito+Santo%2C+Brazil&q=Brazil%2C+Vit%C3%B3ria%2C+Esp%C3%ADrito+Santo%2C+Brazil&o=json&inclnb=1&key=ArM0cQoiG2wDASYT7dhCsWjYFKjIHq4wwKa7lLuMYspeXTdJnXimERp8Nsot5G0I&maxResults=1\n",
      "Status code 400 from http://dev.virtualearth.net/REST/v1/Locations: ERROR - 400 Client Error: Bad Request for url: http://dev.virtualearth.net/REST/v1/Locations?q=Ant%C3%B4nio+Hon%C3%B3rio%2C+Vit%C3%B3ria%2C+Esp%C3%ADrito+Santo%2C+Brazil&q=Error+-+400+Client+Error%3A+Bad+Request+For+Url%3A+Http%3A%2F%2FDev.Virtualearth.Net%2FRest%2FV1%2FLocations%3FQ%3DAnt%25C3%25B4Nio%2BHon%25C3%25B3Rio%252C%2BVit%25C3%25B3Ria%252C%2BEsp%25C3%25Adrito%2BSanto%252C%2BBrazil%26Q%3DOver_Query_Limit%252C%2BVit%25C3%25B3Ria%252C%2BEsp%25C3%25Adrito%2BSanto%252C%2BBrazil%26Q%3DNan%26Q%3DNan%26Q%3DNan%26Q%3DNan%26Q%3DNan%26Q%3DNan%26O%3DJson%26Inclnb%3D1%26Key%3DArm0Cqoig2Wdasyt7Dhcswjyfkjihq4Wwka7Llumyspextdjnximerp8Nsot5G0I%26Maxresults%3D1%2C+Vit%C3%B3ria%2C+Esp%C3%ADrito+Santo%2C+Brazil&q=nan&q=nan&q=nan&q=nan&q=nan&q=nan&o=json&inclnb=1&key=ArM0cQoiG2wDASYT7dhCsWjYFKjIHq4wwKa7lLuMYspeXTdJnXimERp8Nsot5G0I&maxResults=1\n",
      "Status code 429 from http://dev.virtualearth.net/REST/v1/Locations: ERROR - 429 Client Error: Too Many Requests for url: http://dev.virtualearth.net/REST/v1/Locations?q=Fradinhos%2C+Vit%C3%B3ria%2C+Esp%C3%ADrito+Santo%2C+Brazil&q=Error+-+400+Client+Error%3A+Bad+Request+For+Url%3A+Http%3A%2F%2FDev.Virtualearth.Net%2FRest%2FV1%2FLocations%3FQ%3DFradinhos%252C%2BVit%25C3%25B3Ria%252C%2BEsp%25C3%25Adrito%2BSanto%252C%2BBrazil%26Q%3DOk%252C%2BVit%25C3%25B3Ria%252C%2BEsp%25C3%25Adrito%2BSanto%252C%2BBrazil%26Q%3DNan%26Q%3DNan%26Q%3DNan%26Q%3DVit%25C3%25B3Ria%252C%2BVit%25C3%25B3Ria%252C%2BEsp%25C3%25Adrito%2BSanto%252C%2BBrazil%26Q%3DEs%252C%2BVit%25C3%25B3Ria%252C%2BEsp%25C3%25Adrito%2BSanto%252C%2BBrazil%26Q%3DBrazil%252C%2BVit%25C3%25B3Ria%252C%2BEsp%25C3%25Adrito%2BSanto%252C%2BBrazil%26O%3DJson%26Inclnb%3D1%26Key%3DArm0Cqoig2Wdasyt7Dhcswjyfkjihq4Wwka7Llumyspextdjnximerp8Nsot5G0I%26Maxresults%3D1%2C+Vit%C3%B3ria%2C+Esp%C3%ADrito+Santo%2C+Brazil&q=nan&q=nan&q=nan&q=Vit%C3%B3ria%2C+Vit%C3%B3ria%2C+Esp%C3%ADrito+Santo%2C+Brazil&q=Es%2C+Vit%C3%B3ria%2C+Esp%C3%ADrito+Santo%2C+Brazil&q=Brazil%2C+Vit%C3%B3ria%2C+Esp%C3%ADrito+Santo%2C+Brazil&o=json&inclnb=1&key=ArM0cQoiG2wDASYT7dhCsWjYFKjIHq4wwKa7lLuMYspeXTdJnXimERp8Nsot5G0I&maxResults=1\n",
      "Status code 400 from http://dev.virtualearth.net/REST/v1/Locations: ERROR - 400 Client Error: Bad Request for url: http://dev.virtualearth.net/REST/v1/Locations?q=Enseada+Do+Su%C3%A1%2C+Vit%C3%B3ria%2C+Esp%C3%ADrito+Santo%2C+Brazil&q=Error+-+400+Client+Error%3A+Bad+Request+For+Url%3A+Http%3A%2F%2FDev.Virtualearth.Net%2FRest%2FV1%2FLocations%3FQ%3DEnseada%2BDo%2BSu%25C3%25A1%252C%2BVit%25C3%25B3Ria%252C%2BEsp%25C3%25Adrito%2BSanto%252C%2BBrazil%26Q%3DOk%252C%2BVit%25C3%25B3Ria%252C%2BEsp%25C3%25Adrito%2BSanto%252C%2BBrazil%26Q%3DNan%26Q%3DNan%26Q%3DNan%26Q%3DVit%25C3%25B3Ria%252C%2BVit%25C3%25B3Ria%252C%2BEsp%25C3%25Adrito%2BSanto%252C%2BBrazil%26Q%3DEs%252C%2BVit%25C3%25B3Ria%252C%2BEsp%25C3%25Adrito%2BSanto%252C%2BBrazil%26Q%3DBrazil%252C%2BVit%25C3%25B3Ria%252C%2BEsp%25C3%25Adrito%2BSanto%252C%2BBrazil%26O%3DJson%26Inclnb%3D1%26Key%3DArm0Cqoig2Wdasyt7Dhcswjyfkjihq4Wwka7Llumyspextdjnximerp8Nsot5G0I%26Maxresults%3D1%2C+Vit%C3%B3ria%2C+Esp%C3%ADrito+Santo%2C+Brazil&q=nan&q=nan&q=nan&q=Vit%C3%B3ria%2C+Vit%C3%B3ria%2C+Esp%C3%ADrito+Santo%2C+Brazil&q=Es%2C+Vit%C3%B3ria%2C+Esp%C3%ADrito+Santo%2C+Brazil&q=Brazil%2C+Vit%C3%B3ria%2C+Esp%C3%ADrito+Santo%2C+Brazil&o=json&inclnb=1&key=ArM0cQoiG2wDASYT7dhCsWjYFKjIHq4wwKa7lLuMYspeXTdJnXimERp8Nsot5G0I&maxResults=1\n",
      "Status code 400 from http://dev.virtualearth.net/REST/v1/Locations: ERROR - 400 Client Error: Bad Request for url: http://dev.virtualearth.net/REST/v1/Locations?q=Santa+Helena%2C+Vit%C3%B3ria%2C+Esp%C3%ADrito+Santo%2C+Brazil&q=Error+-+400+Client+Error%3A+Bad+Request+For+Url%3A+Http%3A%2F%2FDev.Virtualearth.Net%2FRest%2FV1%2FLocations%3FQ%3DSanta%2BHelena%252C%2BVit%25C3%25B3Ria%252C%2BEsp%25C3%25Adrito%2BSanto%252C%2BBrazil%26Q%3DOver_Query_Limit%252C%2BVit%25C3%25B3Ria%252C%2BEsp%25C3%25Adrito%2BSanto%252C%2BBrazil%26Q%3DNan%26Q%3DNan%26Q%3DNan%26Q%3DNan%26Q%3DNan%26Q%3DNan%26O%3DJson%26Inclnb%3D1%26Key%3DArm0Cqoig2Wdasyt7Dhcswjyfkjihq4Wwka7Llumyspextdjnximerp8Nsot5G0I%26Maxresults%3D1%2C+Vit%C3%B3ria%2C+Esp%C3%ADrito+Santo%2C+Brazil&q=nan&q=nan&q=nan&q=nan&q=nan&q=nan&o=json&inclnb=1&key=ArM0cQoiG2wDASYT7dhCsWjYFKjIHq4wwKa7lLuMYspeXTdJnXimERp8Nsot5G0I&maxResults=1\n",
      "Status code 400 from http://dev.virtualearth.net/REST/v1/Locations: ERROR - 400 Client Error: Bad Request for url: http://dev.virtualearth.net/REST/v1/Locations?q=Horto%2C+Vit%C3%B3ria%2C+Esp%C3%ADrito+Santo%2C+Brazil&q=Error+-+400+Client+Error%3A+Bad+Request+For+Url%3A+Http%3A%2F%2FDev.Virtualearth.Net%2FRest%2FV1%2FLocations%3FQ%3DHorto%252C%2BVit%25C3%25B3Ria%252C%2BEsp%25C3%25Adrito%2BSanto%252C%2BBrazil%26Q%3DOk%252C%2BVit%25C3%25B3Ria%252C%2BEsp%25C3%25Adrito%2BSanto%252C%2BBrazil%26Q%3DNan%26Q%3DNan%26Q%3DNan%26Q%3DVit%25C3%25B3Ria%252C%2BVit%25C3%25B3Ria%252C%2BEsp%25C3%25Adrito%2BSanto%252C%2BBrazil%26Q%3DEs%252C%2BVit%25C3%25B3Ria%252C%2BEsp%25C3%25Adrito%2BSanto%252C%2BBrazil%26Q%3DBrazil%252C%2BVit%25C3%25B3Ria%252C%2BEsp%25C3%25Adrito%2BSanto%252C%2BBrazil%26O%3DJson%26Inclnb%3D1%26Key%3DArm0Cqoig2Wdasyt7Dhcswjyfkjihq4Wwka7Llumyspextdjnximerp8Nsot5G0I%26Maxresults%3D1%2C+Vit%C3%B3ria%2C+Esp%C3%ADrito+Santo%2C+Brazil&q=nan&q=nan&q=nan&q=Vit%C3%B3ria%2C+Vit%C3%B3ria%2C+Esp%C3%ADrito+Santo%2C+Brazil&q=Es%2C+Vit%C3%B3ria%2C+Esp%C3%ADrito+Santo%2C+Brazil&q=Brazil%2C+Vit%C3%B3ria%2C+Esp%C3%ADrito+Santo%2C+Brazil&o=json&inclnb=1&key=ArM0cQoiG2wDASYT7dhCsWjYFKjIHq4wwKa7lLuMYspeXTdJnXimERp8Nsot5G0I&maxResults=1\n",
      "Status code 429 from http://dev.virtualearth.net/REST/v1/Locations: ERROR - 429 Client Error: Too Many Requests for url: http://dev.virtualearth.net/REST/v1/Locations?q=Universit%C3%A1rio%2C+Vit%C3%B3ria%2C+Esp%C3%ADrito+Santo%2C+Brazil&q=Error+-+400+Client+Error%3A+Bad+Request+For+Url%3A+Http%3A%2F%2FDev.Virtualearth.Net%2FRest%2FV1%2FLocations%3FQ%3DUniversit%25C3%25A1Rio%252C%2BVit%25C3%25B3Ria%252C%2BEsp%25C3%25Adrito%2BSanto%252C%2BBrazil%26Q%3DOk%252C%2BVit%25C3%25B3Ria%252C%2BEsp%25C3%25Adrito%2BSanto%252C%2BBrazil%26Q%3DNan%26Q%3DNan%26Q%3DNan%26Q%3DVit%25C3%25B3Ria%252C%2BVit%25C3%25B3Ria%252C%2BEsp%25C3%25Adrito%2BSanto%252C%2BBrazil%26Q%3DEs%252C%2BVit%25C3%25B3Ria%252C%2BEsp%25C3%25Adrito%2BSanto%252C%2BBrazil%26Q%3DBrazil%252C%2BVit%25C3%25B3Ria%252C%2BEsp%25C3%25Adrito%2BSanto%252C%2BBrazil%26O%3DJson%26Inclnb%3D1%26Key%3DArm0Cqoig2Wdasyt7Dhcswjyfkjihq4Wwka7Llumyspextdjnximerp8Nsot5G0I%26Maxresults%3D1%2C+Vit%C3%B3ria%2C+Esp%C3%ADrito+Santo%2C+Brazil&q=nan&q=nan&q=nan&q=Vit%C3%B3ria%2C+Vit%C3%B3ria%2C+Esp%C3%ADrito+Santo%2C+Brazil&q=Es%2C+Vit%C3%B3ria%2C+Esp%C3%ADrito+Santo%2C+Brazil&q=Brazil%2C+Vit%C3%B3ria%2C+Esp%C3%ADrito+Santo%2C+Brazil&o=json&inclnb=1&key=ArM0cQoiG2wDASYT7dhCsWjYFKjIHq4wwKa7lLuMYspeXTdJnXimERp8Nsot5G0I&maxResults=1\n",
      "Status code 400 from http://dev.virtualearth.net/REST/v1/Locations: ERROR - 400 Client Error: Bad Request for url: http://dev.virtualearth.net/REST/v1/Locations?q=Seguran%C3%A7a+Do+Lar%2C+Vit%C3%B3ria%2C+Esp%C3%ADrito+Santo%2C+Brazil&q=Error+-+429+Client+Error%3A+Too+Many+Requests+For+Url%3A+Http%3A%2F%2FDev.Virtualearth.Net%2FRest%2FV1%2FLocations%3FQ%3DSeguran%25C3%25A7A%2BDo%2BLar%252C%2BVit%25C3%25B3Ria%252C%2BEsp%25C3%25Adrito%2BSanto%252C%2BBrazil%26Q%3DOk%252C%2BVit%25C3%25B3Ria%252C%2BEsp%25C3%25Adrito%2BSanto%252C%2BBrazil%26Q%3DNan%26Q%3DNan%26Q%3DNan%26Q%3DVit%25C3%25B3Ria%252C%2BVit%25C3%25B3Ria%252C%2BEsp%25C3%25Adrito%2BSanto%252C%2BBrazil%26Q%3DEs%252C%2BVit%25C3%25B3Ria%252C%2BEsp%25C3%25Adrito%2BSanto%252C%2BBrazil%26Q%3DBrazil%252C%2BVit%25C3%25B3Ria%252C%2BEsp%25C3%25Adrito%2BSanto%252C%2BBrazil%26O%3DJson%26Inclnb%3D1%26Key%3DArm0Cqoig2Wdasyt7Dhcswjyfkjihq4Wwka7Llumyspextdjnximerp8Nsot5G0I%26Maxresults%3D1%2C+Vit%C3%B3ria%2C+Esp%C3%ADrito+Santo%2C+Brazil&q=nan&q=nan&q=nan&q=Vit%C3%B3ria%2C+Vit%C3%B3ria%2C+Esp%C3%ADrito+Santo%2C+Brazil&q=Es%2C+Vit%C3%B3ria%2C+Esp%C3%ADrito+Santo%2C+Brazil&q=Brazil%2C+Vit%C3%B3ria%2C+Esp%C3%ADrito+Santo%2C+Brazil&o=json&inclnb=1&key=ArM0cQoiG2wDASYT7dhCsWjYFKjIHq4wwKa7lLuMYspeXTdJnXimERp8Nsot5G0I&maxResults=1\n"
     ]
    },
    {
     "name": "stderr",
     "output_type": "stream",
     "text": [
      "Status code 429 from http://dev.virtualearth.net/REST/v1/Locations: ERROR - 429 Client Error: Too Many Requests for url: http://dev.virtualearth.net/REST/v1/Locations?q=Nazareth%2C+Vit%C3%B3ria%2C+Esp%C3%ADrito+Santo%2C+Brazil&q=Error+-+400+Client+Error%3A+Bad+Request+For+Url%3A+Http%3A%2F%2FDev.Virtualearth.Net%2FRest%2FV1%2FLocations%3FQ%3DNazareth%252C%2BVit%25C3%25B3Ria%252C%2BEsp%25C3%25Adrito%2BSanto%252C%2BBrazil%26Q%3DOver_Query_Limit%252C%2BVit%25C3%25B3Ria%252C%2BEsp%25C3%25Adrito%2BSanto%252C%2BBrazil%26Q%3DNan%26Q%3DNan%26Q%3DNan%26Q%3DNan%26Q%3DNan%26Q%3DNan%26O%3DJson%26Inclnb%3D1%26Key%3DArm0Cqoig2Wdasyt7Dhcswjyfkjihq4Wwka7Llumyspextdjnximerp8Nsot5G0I%26Maxresults%3D1%2C+Vit%C3%B3ria%2C+Esp%C3%ADrito+Santo%2C+Brazil&q=nan&q=nan&q=nan&q=nan&q=nan&q=nan&o=json&inclnb=1&key=ArM0cQoiG2wDASYT7dhCsWjYFKjIHq4wwKa7lLuMYspeXTdJnXimERp8Nsot5G0I&maxResults=1\n",
      "Status code 400 from http://dev.virtualearth.net/REST/v1/Locations: ERROR - 400 Client Error: Bad Request for url: http://dev.virtualearth.net/REST/v1/Locations?q=Morada+De+Camburi%2C+Vit%C3%B3ria%2C+Esp%C3%ADrito+Santo%2C+Brazil&q=Error+-+429+Client+Error%3A+Too+Many+Requests+For+Url%3A+Http%3A%2F%2FDev.Virtualearth.Net%2FRest%2FV1%2FLocations%3FQ%3DMorada%2BDe%2BCamburi%252C%2BVit%25C3%25B3Ria%252C%2BEsp%25C3%25Adrito%2BSanto%252C%2BBrazil%26Q%3DOk%252C%2BVit%25C3%25B3Ria%252C%2BEsp%25C3%25Adrito%2BSanto%252C%2BBrazil%26Q%3DNan%26Q%3DNan%26Q%3DNan%26Q%3DVit%25C3%25B3Ria%252C%2BVit%25C3%25B3Ria%252C%2BEsp%25C3%25Adrito%2BSanto%252C%2BBrazil%26Q%3DEs%252C%2BVit%25C3%25B3Ria%252C%2BEsp%25C3%25Adrito%2BSanto%252C%2BBrazil%26Q%3DBrazil%252C%2BVit%25C3%25B3Ria%252C%2BEsp%25C3%25Adrito%2BSanto%252C%2BBrazil%26O%3DJson%26Inclnb%3D1%26Key%3DArm0Cqoig2Wdasyt7Dhcswjyfkjihq4Wwka7Llumyspextdjnximerp8Nsot5G0I%26Maxresults%3D1%2C+Vit%C3%B3ria%2C+Esp%C3%ADrito+Santo%2C+Brazil&q=nan&q=nan&q=nan&q=Vit%C3%B3ria%2C+Vit%C3%B3ria%2C+Esp%C3%ADrito+Santo%2C+Brazil&q=Es%2C+Vit%C3%B3ria%2C+Esp%C3%ADrito+Santo%2C+Brazil&q=Brazil%2C+Vit%C3%B3ria%2C+Esp%C3%ADrito+Santo%2C+Brazil&o=json&inclnb=1&key=ArM0cQoiG2wDASYT7dhCsWjYFKjIHq4wwKa7lLuMYspeXTdJnXimERp8Nsot5G0I&maxResults=1\n",
      "Status code 429 from http://dev.virtualearth.net/REST/v1/Locations: ERROR - 429 Client Error: Too Many Requests for url: http://dev.virtualearth.net/REST/v1/Locations?q=Pontal+De+Camburi%2C+Vit%C3%B3ria%2C+Esp%C3%ADrito+Santo%2C+Brazil&q=Error+-+400+Client+Error%3A+Bad+Request+For+Url%3A+Http%3A%2F%2FDev.Virtualearth.Net%2FRest%2FV1%2FLocations%3FQ%3DPontal%2BDe%2BCamburi%252C%2BVit%25C3%25B3Ria%252C%2BEsp%25C3%25Adrito%2BSanto%252C%2BBrazil%26Q%3DOk%252C%2BVit%25C3%25B3Ria%252C%2BEsp%25C3%25Adrito%2BSanto%252C%2BBrazil%26Q%3DNan%26Q%3DNan%26Q%3DNan%26Q%3DVit%25C3%25B3Ria%252C%2BVit%25C3%25B3Ria%252C%2BEsp%25C3%25Adrito%2BSanto%252C%2BBrazil%26Q%3DEs%252C%2BVit%25C3%25B3Ria%252C%2BEsp%25C3%25Adrito%2BSanto%252C%2BBrazil%26Q%3DBrazil%252C%2BVit%25C3%25B3Ria%252C%2BEsp%25C3%25Adrito%2BSanto%252C%2BBrazil%26O%3DJson%26Inclnb%3D1%26Key%3DArm0Cqoig2Wdasyt7Dhcswjyfkjihq4Wwka7Llumyspextdjnximerp8Nsot5G0I%26Maxresults%3D1%2C+Vit%C3%B3ria%2C+Esp%C3%ADrito+Santo%2C+Brazil&q=nan&q=nan&q=nan&q=Vit%C3%B3ria%2C+Vit%C3%B3ria%2C+Esp%C3%ADrito+Santo%2C+Brazil&q=Es%2C+Vit%C3%B3ria%2C+Esp%C3%ADrito+Santo%2C+Brazil&q=Brazil%2C+Vit%C3%B3ria%2C+Esp%C3%ADrito+Santo%2C+Brazil&o=json&inclnb=1&key=ArM0cQoiG2wDASYT7dhCsWjYFKjIHq4wwKa7lLuMYspeXTdJnXimERp8Nsot5G0I&maxResults=1\n",
      "Status code 400 from http://dev.virtualearth.net/REST/v1/Locations: ERROR - 400 Client Error: Bad Request for url: http://dev.virtualearth.net/REST/v1/Locations?q=Ilha+Do+Boi%2C+Vit%C3%B3ria%2C+Esp%C3%ADrito+Santo%2C+Brazil&q=Error+-+400+Client+Error%3A+Bad+Request+For+Url%3A+Http%3A%2F%2FDev.Virtualearth.Net%2FRest%2FV1%2FLocations%3FQ%3DIlha%2BDo%2BBoi%252C%2BVit%25C3%25B3Ria%252C%2BEsp%25C3%25Adrito%2BSanto%252C%2BBrazil%26Q%3DOk%252C%2BVit%25C3%25B3Ria%252C%2BEsp%25C3%25Adrito%2BSanto%252C%2BBrazil%26Q%3DNan%26Q%3DNan%26Q%3DNan%26Q%3DVit%25C3%25B3Ria%252C%2BVit%25C3%25B3Ria%252C%2BEsp%25C3%25Adrito%2BSanto%252C%2BBrazil%26Q%3DEs%252C%2BVit%25C3%25B3Ria%252C%2BEsp%25C3%25Adrito%2BSanto%252C%2BBrazil%26Q%3DBrazil%252C%2BVit%25C3%25B3Ria%252C%2BEsp%25C3%25Adrito%2BSanto%252C%2BBrazil%26O%3DJson%26Inclnb%3D1%26Key%3DArm0Cqoig2Wdasyt7Dhcswjyfkjihq4Wwka7Llumyspextdjnximerp8Nsot5G0I%26Maxresults%3D1%2C+Vit%C3%B3ria%2C+Esp%C3%ADrito+Santo%2C+Brazil&q=nan&q=nan&q=nan&q=Vit%C3%B3ria%2C+Vit%C3%B3ria%2C+Esp%C3%ADrito+Santo%2C+Brazil&q=Es%2C+Vit%C3%B3ria%2C+Esp%C3%ADrito+Santo%2C+Brazil&q=Brazil%2C+Vit%C3%B3ria%2C+Esp%C3%ADrito+Santo%2C+Brazil&o=json&inclnb=1&key=ArM0cQoiG2wDASYT7dhCsWjYFKjIHq4wwKa7lLuMYspeXTdJnXimERp8Nsot5G0I&maxResults=1\n",
      "Status code 400 from http://dev.virtualearth.net/REST/v1/Locations: ERROR - 400 Client Error: Bad Request for url: http://dev.virtualearth.net/REST/v1/Locations?q=Ilha+Do+Frade%2C+Vit%C3%B3ria%2C+Esp%C3%ADrito+Santo%2C+Brazil&q=Error+-+429+Client+Error%3A+Too+Many+Requests+For+Url%3A+Http%3A%2F%2FDev.Virtualearth.Net%2FRest%2FV1%2FLocations%3FQ%3DIlha%2BDo%2BFrade%252C%2BVit%25C3%25B3Ria%252C%2BEsp%25C3%25Adrito%2BSanto%252C%2BBrazil%26Q%3DOk%252C%2BVit%25C3%25B3Ria%252C%2BEsp%25C3%25Adrito%2BSanto%252C%2BBrazil%26Q%3DNan%26Q%3DNan%26Q%3DNan%26Q%3DNan%26Q%3DEs%252C%2BVit%25C3%25B3Ria%252C%2BEsp%25C3%25Adrito%2BSanto%252C%2BBrazil%26Q%3DBrazil%252C%2BVit%25C3%25B3Ria%252C%2BEsp%25C3%25Adrito%2BSanto%252C%2BBrazil%26O%3DJson%26Inclnb%3D1%26Key%3DArm0Cqoig2Wdasyt7Dhcswjyfkjihq4Wwka7Llumyspextdjnximerp8Nsot5G0I%26Maxresults%3D1%2C+Vit%C3%B3ria%2C+Esp%C3%ADrito+Santo%2C+Brazil&q=nan&q=nan&q=nan&q=nan&q=Es%2C+Vit%C3%B3ria%2C+Esp%C3%ADrito+Santo%2C+Brazil&q=Brazil%2C+Vit%C3%B3ria%2C+Esp%C3%ADrito+Santo%2C+Brazil&o=json&inclnb=1&key=ArM0cQoiG2wDASYT7dhCsWjYFKjIHq4wwKa7lLuMYspeXTdJnXimERp8Nsot5G0I&maxResults=1\n",
      "Status code 400 from http://dev.virtualearth.net/REST/v1/Locations: ERROR - 400 Client Error: Bad Request for url: http://dev.virtualearth.net/REST/v1/Locations?q=Aeroporto%2C+Vit%C3%B3ria%2C+Esp%C3%ADrito+Santo%2C+Brazil&q=Error+-+400+Client+Error%3A+Bad+Request+For+Url%3A+Http%3A%2F%2FDev.Virtualearth.Net%2FRest%2FV1%2FLocations%3FQ%3DAeroporto%252C%2BVit%25C3%25B3Ria%252C%2BEsp%25C3%25Adrito%2BSanto%252C%2BBrazil%26Q%3DOk%252C%2BVit%25C3%25B3Ria%252C%2BEsp%25C3%25Adrito%2BSanto%252C%2BBrazil%26Q%3DNan%26Q%3DNan%26Q%3DNan%26Q%3DVit%25C3%25B3Ria%252C%2BVit%25C3%25B3Ria%252C%2BEsp%25C3%25Adrito%2BSanto%252C%2BBrazil%26Q%3DEs%252C%2BVit%25C3%25B3Ria%252C%2BEsp%25C3%25Adrito%2BSanto%252C%2BBrazil%26Q%3DBrazil%252C%2BVit%25C3%25B3Ria%252C%2BEsp%25C3%25Adrito%2BSanto%252C%2BBrazil%26O%3DJson%26Inclnb%3D1%26Key%3DArm0Cqoig2Wdasyt7Dhcswjyfkjihq4Wwka7Llumyspextdjnximerp8Nsot5G0I%26Maxresults%3D1%2C+Vit%C3%B3ria%2C+Esp%C3%ADrito+Santo%2C+Brazil&q=nan&q=nan&q=nan&q=Vit%C3%B3ria%2C+Vit%C3%B3ria%2C+Esp%C3%ADrito+Santo%2C+Brazil&q=Es%2C+Vit%C3%B3ria%2C+Esp%C3%ADrito+Santo%2C+Brazil&q=Brazil%2C+Vit%C3%B3ria%2C+Esp%C3%ADrito+Santo%2C+Brazil&o=json&inclnb=1&key=ArM0cQoiG2wDASYT7dhCsWjYFKjIHq4wwKa7lLuMYspeXTdJnXimERp8Nsot5G0I&maxResults=1\n",
      "Status code 400 from http://dev.virtualearth.net/REST/v1/Locations: ERROR - 400 Client Error: Bad Request for url: http://dev.virtualearth.net/REST/v1/Locations?q=Ilhas+Oce%C3%A2nicas+De+Trindade%2C+Vit%C3%B3ria%2C+Esp%C3%ADrito+Santo%2C+Brazil&q=Error+-+400+Client+Error%3A+Bad+Request+For+Url%3A+Http%3A%2F%2FDev.Virtualearth.Net%2FRest%2FV1%2FLocations%3FQ%3DIlhas%2BOce%25C3%25A2Nicas%2BDe%2BTrindade%252C%2BVit%25C3%25B3Ria%252C%2BEsp%25C3%25Adrito%2BSanto%252C%2BBrazil%26Q%3DOk%252C%2BVit%25C3%25B3Ria%252C%2BEsp%25C3%25Adrito%2BSanto%252C%2BBrazil%26Q%3DNan%26Q%3DNan%26Q%3DNan%26Q%3DVit%25C3%25B3Ria%252C%2BVit%25C3%25B3Ria%252C%2BEsp%25C3%25Adrito%2BSanto%252C%2BBrazil%26Q%3DEs%252C%2BVit%25C3%25B3Ria%252C%2BEsp%25C3%25Adrito%2BSanto%252C%2BBrazil%26Q%3DBrazil%252C%2BVit%25C3%25B3Ria%252C%2BEsp%25C3%25Adrito%2BSanto%252C%2BBrazil%26O%3DJson%26Inclnb%3D1%26Key%3DArm0Cqoig2Wdasyt7Dhcswjyfkjihq4Wwka7Llumyspextdjnximerp8Nsot5G0I%26Maxresults%3D1%2C+Vit%C3%B3ria%2C+Esp%C3%ADrito+Santo%2C+Brazil&q=nan&q=nan&q=nan&q=Vit%C3%B3ria%2C+Vit%C3%B3ria%2C+Esp%C3%ADrito+Santo%2C+Brazil&q=Es%2C+Vit%C3%B3ria%2C+Esp%C3%ADrito+Santo%2C+Brazil&q=Brazil%2C+Vit%C3%B3ria%2C+Esp%C3%ADrito+Santo%2C+Brazil&o=json&inclnb=1&key=ArM0cQoiG2wDASYT7dhCsWjYFKjIHq4wwKa7lLuMYspeXTdJnXimERp8Nsot5G0I&maxResults=1\n"
     ]
    },
    {
     "name": "stderr",
     "output_type": "stream",
     "text": [
      "Status code 429 from http://dev.virtualearth.net/REST/v1/Locations: ERROR - 429 Client Error: Too Many Requests for url: http://dev.virtualearth.net/REST/v1/Locations?q=Parque+Industrial%2C+Vit%C3%B3ria%2C+Esp%C3%ADrito+Santo%2C+Brazil&q=Error+-+400+Client+Error%3A+Bad+Request+For+Url%3A+Http%3A%2F%2FDev.Virtualearth.Net%2FRest%2FV1%2FLocations%3FQ%3DParque%2BIndustrial%252C%2BVit%25C3%25B3Ria%252C%2BEsp%25C3%25Adrito%2BSanto%252C%2BBrazil%26Q%3DOk%252C%2BVit%25C3%25B3Ria%252C%2BEsp%25C3%25Adrito%2BSanto%252C%2BBrazil%26Q%3DNan%26Q%3DNan%26Q%3DNan%26Q%3DVit%25C3%25B3Ria%252C%2BVit%25C3%25B3Ria%252C%2BEsp%25C3%25Adrito%2BSanto%252C%2BBrazil%26Q%3DEs%252C%2BVit%25C3%25B3Ria%252C%2BEsp%25C3%25Adrito%2BSanto%252C%2BBrazil%26Q%3DBrazil%252C%2BVit%25C3%25B3Ria%252C%2BEsp%25C3%25Adrito%2BSanto%252C%2BBrazil%26O%3DJson%26Inclnb%3D1%26Key%3DArm0Cqoig2Wdasyt7Dhcswjyfkjihq4Wwka7Llumyspextdjnximerp8Nsot5G0I%26Maxresults%3D1%2C+Vit%C3%B3ria%2C+Esp%C3%ADrito+Santo%2C+Brazil&q=nan&q=nan&q=nan&q=Vit%C3%B3ria%2C+Vit%C3%B3ria%2C+Esp%C3%ADrito+Santo%2C+Brazil&q=Es%2C+Vit%C3%B3ria%2C+Esp%C3%ADrito+Santo%2C+Brazil&q=Brazil%2C+Vit%C3%B3ria%2C+Esp%C3%ADrito+Santo%2C+Brazil&o=json&inclnb=1&key=ArM0cQoiG2wDASYT7dhCsWjYFKjIHq4wwKa7lLuMYspeXTdJnXimERp8Nsot5G0I&maxResults=1\n"
     ]
    }
   ],
   "source": [
    "# Geocode the neighborhood data\n",
    "for i, row in geo.iterrows():\n",
    "    # Use Bing\n",
    "    full_neighborhood = row.str.title() + ', Vitória, Espírito Santo, Brazil'\n",
    "    result = geocoder.bing(full_neighborhood, key=API_KEY)\n",
    "    geo.at[i, 'status'] = result.status\n",
    "    #geo.set_value(i, 'lat', result.lat)"
   ]
  },
  {
   "cell_type": "code",
   "execution_count": 49,
   "metadata": {},
   "outputs": [
    {
     "name": "stderr",
     "output_type": "stream",
     "text": [
      "Status code 400 from http://dev.virtualearth.net/REST/v1/Locations: ERROR - 400 Client Error: Bad Request for url: http://dev.virtualearth.net/REST/v1/Locations?q=Jardim+Camburi%2C+Vit%C3%B3ria%2C+Esp%C3%ADrito+Santo%2C+Brazil&q=Ok%2C+Vit%C3%B3ria%2C+Esp%C3%ADrito+Santo%2C+Brazil&q=nan&q=nan&q=Jardim+Camburi%2C+Vit%C3%B3ria%2C+Esp%C3%ADrito+Santo%2C+Brazil&q=Vit%C3%B3ria%2C+Vit%C3%B3ria%2C+Esp%C3%ADrito+Santo%2C+Brazil&q=Es%2C+Vit%C3%B3ria%2C+Esp%C3%ADrito+Santo%2C+Brazil&q=Brazil%2C+Vit%C3%B3ria%2C+Esp%C3%ADrito+Santo%2C+Brazil&o=json&inclnb=1&key=ArM0cQoiG2wDASYT7dhCsWjYFKjIHq4wwKa7lLuMYspeXTdJnXimERp8Nsot5G0I&maxResults=1\n",
      "/anaconda3/lib/python3.6/site-packages/ipykernel_launcher.py:6: FutureWarning: set_value is deprecated and will be removed in a future release. Please use .at[] or .iat[] accessors instead\n",
      "  \n",
      "/anaconda3/lib/python3.6/site-packages/ipykernel_launcher.py:7: FutureWarning: set_value is deprecated and will be removed in a future release. Please use .at[] or .iat[] accessors instead\n",
      "  import sys\n",
      "/anaconda3/lib/python3.6/site-packages/ipykernel_launcher.py:8: FutureWarning: set_value is deprecated and will be removed in a future release. Please use .at[] or .iat[] accessors instead\n",
      "  \n",
      "/anaconda3/lib/python3.6/site-packages/ipykernel_launcher.py:9: FutureWarning: set_value is deprecated and will be removed in a future release. Please use .at[] or .iat[] accessors instead\n",
      "  if __name__ == '__main__':\n",
      "/anaconda3/lib/python3.6/site-packages/ipykernel_launcher.py:10: FutureWarning: set_value is deprecated and will be removed in a future release. Please use .at[] or .iat[] accessors instead\n",
      "  # Remove the CWD from sys.path while we load stuff.\n",
      "/anaconda3/lib/python3.6/site-packages/ipykernel_launcher.py:11: FutureWarning: set_value is deprecated and will be removed in a future release. Please use .at[] or .iat[] accessors instead\n",
      "  # This is added back by InteractiveShellApp.init_path()\n",
      "/anaconda3/lib/python3.6/site-packages/ipykernel_launcher.py:12: FutureWarning: set_value is deprecated and will be removed in a future release. Please use .at[] or .iat[] accessors instead\n",
      "  if sys.path[0] == '':\n",
      "/anaconda3/lib/python3.6/site-packages/ipykernel_launcher.py:17: FutureWarning: set_value is deprecated and will be removed in a future release. Please use .at[] or .iat[] accessors instead\n",
      "/anaconda3/lib/python3.6/site-packages/ipykernel_launcher.py:18: FutureWarning: set_value is deprecated and will be removed in a future release. Please use .at[] or .iat[] accessors instead\n",
      "/anaconda3/lib/python3.6/site-packages/ipykernel_launcher.py:19: FutureWarning: set_value is deprecated and will be removed in a future release. Please use .at[] or .iat[] accessors instead\n",
      "/anaconda3/lib/python3.6/site-packages/ipykernel_launcher.py:21: FutureWarning: set_value is deprecated and will be removed in a future release. Please use .at[] or .iat[] accessors instead\n",
      "/anaconda3/lib/python3.6/site-packages/ipykernel_launcher.py:22: FutureWarning: set_value is deprecated and will be removed in a future release. Please use .at[] or .iat[] accessors instead\n",
      "/anaconda3/lib/python3.6/site-packages/ipykernel_launcher.py:24: FutureWarning: set_value is deprecated and will be removed in a future release. Please use .at[] or .iat[] accessors instead\n",
      "Status code 400 from http://dev.virtualearth.net/REST/v1/Locations: ERROR - 400 Client Error: Bad Request for url: http://dev.virtualearth.net/REST/v1/Locations?q=Maria+Ortiz%2C+Vit%C3%B3ria%2C+Esp%C3%ADrito+Santo%2C+Brazil&q=Ok%2C+Vit%C3%B3ria%2C+Esp%C3%ADrito+Santo%2C+Brazil&q=nan&q=nan&q=Maria+Ortiz%2C+Vit%C3%B3ria%2C+Esp%C3%ADrito+Santo%2C+Brazil&q=Vit%C3%B3ria%2C+Vit%C3%B3ria%2C+Esp%C3%ADrito+Santo%2C+Brazil&q=Es%2C+Vit%C3%B3ria%2C+Esp%C3%ADrito+Santo%2C+Brazil&q=Brazil%2C+Vit%C3%B3ria%2C+Esp%C3%ADrito+Santo%2C+Brazil&o=json&inclnb=1&key=ArM0cQoiG2wDASYT7dhCsWjYFKjIHq4wwKa7lLuMYspeXTdJnXimERp8Nsot5G0I&maxResults=1\n",
      "Status code 400 from http://dev.virtualearth.net/REST/v1/Locations: ERROR - 400 Client Error: Bad Request for url: http://dev.virtualearth.net/REST/v1/Locations?q=Resist%C3%AAncia%2C+Vit%C3%B3ria%2C+Esp%C3%ADrito+Santo%2C+Brazil&q=Ok%2C+Vit%C3%B3ria%2C+Esp%C3%ADrito+Santo%2C+Brazil&q=nan&q=nan&q=Resist%C3%AAncia%2C+Vit%C3%B3ria%2C+Esp%C3%ADrito+Santo%2C+Brazil&q=Vit%C3%B3ria%2C+Vit%C3%B3ria%2C+Esp%C3%ADrito+Santo%2C+Brazil&q=Es%2C+Vit%C3%B3ria%2C+Esp%C3%ADrito+Santo%2C+Brazil&q=Brazil%2C+Vit%C3%B3ria%2C+Esp%C3%ADrito+Santo%2C+Brazil&o=json&inclnb=1&key=ArM0cQoiG2wDASYT7dhCsWjYFKjIHq4wwKa7lLuMYspeXTdJnXimERp8Nsot5G0I&maxResults=1\n",
      "Status code 400 from http://dev.virtualearth.net/REST/v1/Locations: ERROR - 400 Client Error: Bad Request for url: http://dev.virtualearth.net/REST/v1/Locations?q=Jardim+Da+Penha%2C+Vit%C3%B3ria%2C+Esp%C3%ADrito+Santo%2C+Brazil&q=Ok%2C+Vit%C3%B3ria%2C+Esp%C3%ADrito+Santo%2C+Brazil&q=nan&q=nan&q=Jardim+Da+Penha%2C+Vit%C3%B3ria%2C+Esp%C3%ADrito+Santo%2C+Brazil&q=Vit%C3%B3ria%2C+Vit%C3%B3ria%2C+Esp%C3%ADrito+Santo%2C+Brazil&q=Es%2C+Vit%C3%B3ria%2C+Esp%C3%ADrito+Santo%2C+Brazil&q=Brazil%2C+Vit%C3%B3ria%2C+Esp%C3%ADrito+Santo%2C+Brazil&o=json&inclnb=1&key=ArM0cQoiG2wDASYT7dhCsWjYFKjIHq4wwKa7lLuMYspeXTdJnXimERp8Nsot5G0I&maxResults=1\n",
      "Status code 400 from http://dev.virtualearth.net/REST/v1/Locations: ERROR - 400 Client Error: Bad Request for url: http://dev.virtualearth.net/REST/v1/Locations?q=Itarar%C3%A9%2C+Vit%C3%B3ria%2C+Esp%C3%ADrito+Santo%2C+Brazil&q=Ok%2C+Vit%C3%B3ria%2C+Esp%C3%ADrito+Santo%2C+Brazil&q=nan&q=nan&q=Itarar%C3%A9%2C+Vit%C3%B3ria%2C+Esp%C3%ADrito+Santo%2C+Brazil&q=Vit%C3%B3ria%2C+Vit%C3%B3ria%2C+Esp%C3%ADrito+Santo%2C+Brazil&q=Es%2C+Vit%C3%B3ria%2C+Esp%C3%ADrito+Santo%2C+Brazil&q=Brazil%2C+Vit%C3%B3ria%2C+Esp%C3%ADrito+Santo%2C+Brazil&o=json&inclnb=1&key=ArM0cQoiG2wDASYT7dhCsWjYFKjIHq4wwKa7lLuMYspeXTdJnXimERp8Nsot5G0I&maxResults=1\n",
      "Status code 400 from http://dev.virtualearth.net/REST/v1/Locations: ERROR - 400 Client Error: Bad Request for url: http://dev.virtualearth.net/REST/v1/Locations?q=Centro%2C+Vit%C3%B3ria%2C+Esp%C3%ADrito+Santo%2C+Brazil&q=Ok%2C+Vit%C3%B3ria%2C+Esp%C3%ADrito+Santo%2C+Brazil&q=nan&q=nan&q=nan&q=Vit%C3%B3ria%2C+Vit%C3%B3ria%2C+Esp%C3%ADrito+Santo%2C+Brazil&q=Es%2C+Vit%C3%B3ria%2C+Esp%C3%ADrito+Santo%2C+Brazil&q=Brazil%2C+Vit%C3%B3ria%2C+Esp%C3%ADrito+Santo%2C+Brazil&o=json&inclnb=1&key=ArM0cQoiG2wDASYT7dhCsWjYFKjIHq4wwKa7lLuMYspeXTdJnXimERp8Nsot5G0I&maxResults=1\n",
      "Status code 400 from http://dev.virtualearth.net/REST/v1/Locations: ERROR - 400 Client Error: Bad Request for url: http://dev.virtualearth.net/REST/v1/Locations?q=Tabuazeiro%2C+Vit%C3%B3ria%2C+Esp%C3%ADrito+Santo%2C+Brazil&q=Ok%2C+Vit%C3%B3ria%2C+Esp%C3%ADrito+Santo%2C+Brazil&q=nan&q=nan&q=Tabuazeiro%2C+Vit%C3%B3ria%2C+Esp%C3%ADrito+Santo%2C+Brazil&q=Vit%C3%B3ria%2C+Vit%C3%B3ria%2C+Esp%C3%ADrito+Santo%2C+Brazil&q=Es%2C+Vit%C3%B3ria%2C+Esp%C3%ADrito+Santo%2C+Brazil&q=Brazil%2C+Vit%C3%B3ria%2C+Esp%C3%ADrito+Santo%2C+Brazil&o=json&inclnb=1&key=ArM0cQoiG2wDASYT7dhCsWjYFKjIHq4wwKa7lLuMYspeXTdJnXimERp8Nsot5G0I&maxResults=1\n",
      "Status code 400 from http://dev.virtualearth.net/REST/v1/Locations: ERROR - 400 Client Error: Bad Request for url: http://dev.virtualearth.net/REST/v1/Locations?q=Santa+Martha%2C+Vit%C3%B3ria%2C+Esp%C3%ADrito+Santo%2C+Brazil&q=Ok%2C+Vit%C3%B3ria%2C+Esp%C3%ADrito+Santo%2C+Brazil&q=nan&q=nan&q=Santa+Martha%2C+Vit%C3%B3ria%2C+Esp%C3%ADrito+Santo%2C+Brazil&q=Vit%C3%B3ria%2C+Vit%C3%B3ria%2C+Esp%C3%ADrito+Santo%2C+Brazil&q=Es%2C+Vit%C3%B3ria%2C+Esp%C3%ADrito+Santo%2C+Brazil&q=Brazil%2C+Vit%C3%B3ria%2C+Esp%C3%ADrito+Santo%2C+Brazil&o=json&inclnb=1&key=ArM0cQoiG2wDASYT7dhCsWjYFKjIHq4wwKa7lLuMYspeXTdJnXimERp8Nsot5G0I&maxResults=1\n",
      "Status code 400 from http://dev.virtualearth.net/REST/v1/Locations: ERROR - 400 Client Error: Bad Request for url: http://dev.virtualearth.net/REST/v1/Locations?q=Jesus+De+Nazareth%2C+Vit%C3%B3ria%2C+Esp%C3%ADrito+Santo%2C+Brazil&q=Ok%2C+Vit%C3%B3ria%2C+Esp%C3%ADrito+Santo%2C+Brazil&q=nan&q=nan&q=Jesus+De+Nazareth%2C+Vit%C3%B3ria%2C+Esp%C3%ADrito+Santo%2C+Brazil&q=Vit%C3%B3ria%2C+Vit%C3%B3ria%2C+Esp%C3%ADrito+Santo%2C+Brazil&q=Es%2C+Vit%C3%B3ria%2C+Esp%C3%ADrito+Santo%2C+Brazil&q=Brazil%2C+Vit%C3%B3ria%2C+Esp%C3%ADrito+Santo%2C+Brazil&o=json&inclnb=1&key=ArM0cQoiG2wDASYT7dhCsWjYFKjIHq4wwKa7lLuMYspeXTdJnXimERp8Nsot5G0I&maxResults=1\n"
     ]
    },
    {
     "name": "stderr",
     "output_type": "stream",
     "text": [
      "Status code 400 from http://dev.virtualearth.net/REST/v1/Locations: ERROR - 400 Client Error: Bad Request for url: http://dev.virtualearth.net/REST/v1/Locations?q=Bonfim%2C+Vit%C3%B3ria%2C+Esp%C3%ADrito+Santo%2C+Brazil&q=Ok%2C+Vit%C3%B3ria%2C+Esp%C3%ADrito+Santo%2C+Brazil&q=nan&q=nan&q=Bonfim%2C+Vit%C3%B3ria%2C+Esp%C3%ADrito+Santo%2C+Brazil&q=Vit%C3%B3ria%2C+Vit%C3%B3ria%2C+Esp%C3%ADrito+Santo%2C+Brazil&q=Es%2C+Vit%C3%B3ria%2C+Esp%C3%ADrito+Santo%2C+Brazil&q=Brazil%2C+Vit%C3%B3ria%2C+Esp%C3%ADrito+Santo%2C+Brazil&o=json&inclnb=1&key=ArM0cQoiG2wDASYT7dhCsWjYFKjIHq4wwKa7lLuMYspeXTdJnXimERp8Nsot5G0I&maxResults=1\n",
      "Status code 400 from http://dev.virtualearth.net/REST/v1/Locations: ERROR - 400 Client Error: Bad Request for url: http://dev.virtualearth.net/REST/v1/Locations?q=Santo+Ant%C3%B4nio%2C+Vit%C3%B3ria%2C+Esp%C3%ADrito+Santo%2C+Brazil&q=Ok%2C+Vit%C3%B3ria%2C+Esp%C3%ADrito+Santo%2C+Brazil&q=nan&q=nan&q=Santo+Ant%C3%B4nio%2C+Vit%C3%B3ria%2C+Esp%C3%ADrito+Santo%2C+Brazil&q=Vit%C3%B3ria%2C+Vit%C3%B3ria%2C+Esp%C3%ADrito+Santo%2C+Brazil&q=Es%2C+Vit%C3%B3ria%2C+Esp%C3%ADrito+Santo%2C+Brazil&q=Brazil%2C+Vit%C3%B3ria%2C+Esp%C3%ADrito+Santo%2C+Brazil&o=json&inclnb=1&key=ArM0cQoiG2wDASYT7dhCsWjYFKjIHq4wwKa7lLuMYspeXTdJnXimERp8Nsot5G0I&maxResults=1\n",
      "Status code 400 from http://dev.virtualearth.net/REST/v1/Locations: ERROR - 400 Client Error: Bad Request for url: http://dev.virtualearth.net/REST/v1/Locations?q=Santo+Andr%C3%A9%2C+Vit%C3%B3ria%2C+Esp%C3%ADrito+Santo%2C+Brazil&q=Ok%2C+Vit%C3%B3ria%2C+Esp%C3%ADrito+Santo%2C+Brazil&q=nan&q=nan&q=Santo+Andr%C3%A9%2C+Vit%C3%B3ria%2C+Esp%C3%ADrito+Santo%2C+Brazil&q=Vit%C3%B3ria%2C+Vit%C3%B3ria%2C+Esp%C3%ADrito+Santo%2C+Brazil&q=Es%2C+Vit%C3%B3ria%2C+Esp%C3%ADrito+Santo%2C+Brazil&q=Brazil%2C+Vit%C3%B3ria%2C+Esp%C3%ADrito+Santo%2C+Brazil&o=json&inclnb=1&key=ArM0cQoiG2wDASYT7dhCsWjYFKjIHq4wwKa7lLuMYspeXTdJnXimERp8Nsot5G0I&maxResults=1\n",
      "Status code 400 from http://dev.virtualearth.net/REST/v1/Locations: ERROR - 400 Client Error: Bad Request for url: http://dev.virtualearth.net/REST/v1/Locations?q=Carato%C3%ADra%2C+Vit%C3%B3ria%2C+Esp%C3%ADrito+Santo%2C+Brazil&q=Ok%2C+Vit%C3%B3ria%2C+Esp%C3%ADrito+Santo%2C+Brazil&q=nan&q=nan&q=Carato%C3%ADra%2C+Vit%C3%B3ria%2C+Esp%C3%ADrito+Santo%2C+Brazil&q=Vit%C3%B3ria%2C+Vit%C3%B3ria%2C+Esp%C3%ADrito+Santo%2C+Brazil&q=Es%2C+Vit%C3%B3ria%2C+Esp%C3%ADrito+Santo%2C+Brazil&q=Brazil%2C+Vit%C3%B3ria%2C+Esp%C3%ADrito+Santo%2C+Brazil&o=json&inclnb=1&key=ArM0cQoiG2wDASYT7dhCsWjYFKjIHq4wwKa7lLuMYspeXTdJnXimERp8Nsot5G0I&maxResults=1\n",
      "Status code 400 from http://dev.virtualearth.net/REST/v1/Locations: ERROR - 400 Client Error: Bad Request for url: http://dev.virtualearth.net/REST/v1/Locations?q=Jabour%2C+Vit%C3%B3ria%2C+Esp%C3%ADrito+Santo%2C+Brazil&q=Ok%2C+Vit%C3%B3ria%2C+Esp%C3%ADrito+Santo%2C+Brazil&q=nan&q=nan&q=Jabour%2C+Vit%C3%B3ria%2C+Esp%C3%ADrito+Santo%2C+Brazil&q=Vit%C3%B3ria%2C+Vit%C3%B3ria%2C+Esp%C3%ADrito+Santo%2C+Brazil&q=Es%2C+Vit%C3%B3ria%2C+Esp%C3%ADrito+Santo%2C+Brazil&q=Brazil%2C+Vit%C3%B3ria%2C+Esp%C3%ADrito+Santo%2C+Brazil&o=json&inclnb=1&key=ArM0cQoiG2wDASYT7dhCsWjYFKjIHq4wwKa7lLuMYspeXTdJnXimERp8Nsot5G0I&maxResults=1\n",
      "Status code 400 from http://dev.virtualearth.net/REST/v1/Locations: ERROR - 400 Client Error: Bad Request for url: http://dev.virtualearth.net/REST/v1/Locations?q=S%C3%A3o+Pedro%2C+Vit%C3%B3ria%2C+Esp%C3%ADrito+Santo%2C+Brazil&q=Ok%2C+Vit%C3%B3ria%2C+Esp%C3%ADrito+Santo%2C+Brazil&q=nan&q=nan&q=S%C3%A3o+Pedro%2C+Vit%C3%B3ria%2C+Esp%C3%ADrito+Santo%2C+Brazil&q=Vit%C3%B3ria%2C+Vit%C3%B3ria%2C+Esp%C3%ADrito+Santo%2C+Brazil&q=Es%2C+Vit%C3%B3ria%2C+Esp%C3%ADrito+Santo%2C+Brazil&q=Brazil%2C+Vit%C3%B3ria%2C+Esp%C3%ADrito+Santo%2C+Brazil&o=json&inclnb=1&key=ArM0cQoiG2wDASYT7dhCsWjYFKjIHq4wwKa7lLuMYspeXTdJnXimERp8Nsot5G0I&maxResults=1\n",
      "Status code 400 from http://dev.virtualearth.net/REST/v1/Locations: ERROR - 400 Client Error: Bad Request for url: http://dev.virtualearth.net/REST/v1/Locations?q=Ilha+Do+Pr%C3%ADncipe%2C+Vit%C3%B3ria%2C+Esp%C3%ADrito+Santo%2C+Brazil&q=Ok%2C+Vit%C3%B3ria%2C+Esp%C3%ADrito+Santo%2C+Brazil&q=nan&q=nan&q=Ilha+Do+Pr%C3%ADncipe%2C+Vit%C3%B3ria%2C+Esp%C3%ADrito+Santo%2C+Brazil&q=Vit%C3%B3ria%2C+Vit%C3%B3ria%2C+Esp%C3%ADrito+Santo%2C+Brazil&q=Es%2C+Vit%C3%B3ria%2C+Esp%C3%ADrito+Santo%2C+Brazil&q=Brazil%2C+Vit%C3%B3ria%2C+Esp%C3%ADrito+Santo%2C+Brazil&o=json&inclnb=1&key=ArM0cQoiG2wDASYT7dhCsWjYFKjIHq4wwKa7lLuMYspeXTdJnXimERp8Nsot5G0I&maxResults=1\n",
      "Status code 400 from http://dev.virtualearth.net/REST/v1/Locations: ERROR - 400 Client Error: Bad Request for url: http://dev.virtualearth.net/REST/v1/Locations?q=Nova+Palestina%2C+Vit%C3%B3ria%2C+Esp%C3%ADrito+Santo%2C+Brazil&q=Ok%2C+Vit%C3%B3ria%2C+Esp%C3%ADrito+Santo%2C+Brazil&q=nan&q=nan&q=Nova+Palestina%2C+Vit%C3%B3ria%2C+Esp%C3%ADrito+Santo%2C+Brazil&q=Vit%C3%B3ria%2C+Vit%C3%B3ria%2C+Esp%C3%ADrito+Santo%2C+Brazil&q=Es%2C+Vit%C3%B3ria%2C+Esp%C3%ADrito+Santo%2C+Brazil&q=Brazil%2C+Vit%C3%B3ria%2C+Esp%C3%ADrito+Santo%2C+Brazil&o=json&inclnb=1&key=ArM0cQoiG2wDASYT7dhCsWjYFKjIHq4wwKa7lLuMYspeXTdJnXimERp8Nsot5G0I&maxResults=1\n",
      "Status code 400 from http://dev.virtualearth.net/REST/v1/Locations: ERROR - 400 Client Error: Bad Request for url: http://dev.virtualearth.net/REST/v1/Locations?q=Andorinhas%2C+Vit%C3%B3ria%2C+Esp%C3%ADrito+Santo%2C+Brazil&q=Ok%2C+Vit%C3%B3ria%2C+Esp%C3%ADrito+Santo%2C+Brazil&q=nan&q=nan&q=Andorinhas%2C+Vit%C3%B3ria%2C+Esp%C3%ADrito+Santo%2C+Brazil&q=Vit%C3%B3ria%2C+Vit%C3%B3ria%2C+Esp%C3%ADrito+Santo%2C+Brazil&q=Es%2C+Vit%C3%B3ria%2C+Esp%C3%ADrito+Santo%2C+Brazil&q=Brazil%2C+Vit%C3%B3ria%2C+Esp%C3%ADrito+Santo%2C+Brazil&o=json&inclnb=1&key=ArM0cQoiG2wDASYT7dhCsWjYFKjIHq4wwKa7lLuMYspeXTdJnXimERp8Nsot5G0I&maxResults=1\n",
      "Status code 400 from http://dev.virtualearth.net/REST/v1/Locations: ERROR - 400 Client Error: Bad Request for url: http://dev.virtualearth.net/REST/v1/Locations?q=Da+Penha%2C+Vit%C3%B3ria%2C+Esp%C3%ADrito+Santo%2C+Brazil&q=Ok%2C+Vit%C3%B3ria%2C+Esp%C3%ADrito+Santo%2C+Brazil&q=nan&q=nan&q=Da+Penha%2C+Vit%C3%B3ria%2C+Esp%C3%ADrito+Santo%2C+Brazil&q=Vit%C3%B3ria%2C+Vit%C3%B3ria%2C+Esp%C3%ADrito+Santo%2C+Brazil&q=Es%2C+Vit%C3%B3ria%2C+Esp%C3%ADrito+Santo%2C+Brazil&q=Brazil%2C+Vit%C3%B3ria%2C+Esp%C3%ADrito+Santo%2C+Brazil&o=json&inclnb=1&key=ArM0cQoiG2wDASYT7dhCsWjYFKjIHq4wwKa7lLuMYspeXTdJnXimERp8Nsot5G0I&maxResults=1\n",
      "Status code 400 from http://dev.virtualearth.net/REST/v1/Locations: ERROR - 400 Client Error: Bad Request for url: http://dev.virtualearth.net/REST/v1/Locations?q=Rom%C3%A3o%2C+Vit%C3%B3ria%2C+Esp%C3%ADrito+Santo%2C+Brazil&q=Ok%2C+Vit%C3%B3ria%2C+Esp%C3%ADrito+Santo%2C+Brazil&q=nan&q=nan&q=Rom%C3%A3o%2C+Vit%C3%B3ria%2C+Esp%C3%ADrito+Santo%2C+Brazil&q=Vit%C3%B3ria%2C+Vit%C3%B3ria%2C+Esp%C3%ADrito+Santo%2C+Brazil&q=Es%2C+Vit%C3%B3ria%2C+Esp%C3%ADrito+Santo%2C+Brazil&q=Brazil%2C+Vit%C3%B3ria%2C+Esp%C3%ADrito+Santo%2C+Brazil&o=json&inclnb=1&key=ArM0cQoiG2wDASYT7dhCsWjYFKjIHq4wwKa7lLuMYspeXTdJnXimERp8Nsot5G0I&maxResults=1\n",
      "Status code 400 from http://dev.virtualearth.net/REST/v1/Locations: ERROR - 400 Client Error: Bad Request for url: http://dev.virtualearth.net/REST/v1/Locations?q=Gurigica%2C+Vit%C3%B3ria%2C+Esp%C3%ADrito+Santo%2C+Brazil&q=Ok%2C+Vit%C3%B3ria%2C+Esp%C3%ADrito+Santo%2C+Brazil&q=nan&q=nan&q=Gurigica%2C+Vit%C3%B3ria%2C+Esp%C3%ADrito+Santo%2C+Brazil&q=Vit%C3%B3ria%2C+Vit%C3%B3ria%2C+Esp%C3%ADrito+Santo%2C+Brazil&q=Es%2C+Vit%C3%B3ria%2C+Esp%C3%ADrito+Santo%2C+Brazil&q=Brazil%2C+Vit%C3%B3ria%2C+Esp%C3%ADrito+Santo%2C+Brazil&o=json&inclnb=1&key=ArM0cQoiG2wDASYT7dhCsWjYFKjIHq4wwKa7lLuMYspeXTdJnXimERp8Nsot5G0I&maxResults=1\n",
      "Status code 400 from http://dev.virtualearth.net/REST/v1/Locations: ERROR - 400 Client Error: Bad Request for url: http://dev.virtualearth.net/REST/v1/Locations?q=S%C3%A3o+Jos%C3%A9%2C+Vit%C3%B3ria%2C+Esp%C3%ADrito+Santo%2C+Brazil&q=Ok%2C+Vit%C3%B3ria%2C+Esp%C3%ADrito+Santo%2C+Brazil&q=nan&q=nan&q=S%C3%A3o+Jos%C3%A9%2C+Vit%C3%B3ria%2C+Esp%C3%ADrito+Santo%2C+Brazil&q=Vit%C3%B3ria%2C+Vit%C3%B3ria%2C+Esp%C3%ADrito+Santo%2C+Brazil&q=Es%2C+Vit%C3%B3ria%2C+Esp%C3%ADrito+Santo%2C+Brazil&q=Brazil%2C+Vit%C3%B3ria%2C+Esp%C3%ADrito+Santo%2C+Brazil&o=json&inclnb=1&key=ArM0cQoiG2wDASYT7dhCsWjYFKjIHq4wwKa7lLuMYspeXTdJnXimERp8Nsot5G0I&maxResults=1\n",
      "Status code 400 from http://dev.virtualearth.net/REST/v1/Locations: ERROR - 400 Client Error: Bad Request for url: http://dev.virtualearth.net/REST/v1/Locations?q=Bela+Vista%2C+Vit%C3%B3ria%2C+Esp%C3%ADrito+Santo%2C+Brazil&q=Ok%2C+Vit%C3%B3ria%2C+Esp%C3%ADrito+Santo%2C+Brazil&q=nan&q=nan&q=Bela+Vista%2C+Vit%C3%B3ria%2C+Esp%C3%ADrito+Santo%2C+Brazil&q=Vit%C3%B3ria%2C+Vit%C3%B3ria%2C+Esp%C3%ADrito+Santo%2C+Brazil&q=Es%2C+Vit%C3%B3ria%2C+Esp%C3%ADrito+Santo%2C+Brazil&q=Brazil%2C+Vit%C3%B3ria%2C+Esp%C3%ADrito+Santo%2C+Brazil&o=json&inclnb=1&key=ArM0cQoiG2wDASYT7dhCsWjYFKjIHq4wwKa7lLuMYspeXTdJnXimERp8Nsot5G0I&maxResults=1\n"
     ]
    },
    {
     "name": "stderr",
     "output_type": "stream",
     "text": [
      "Status code 400 from http://dev.virtualearth.net/REST/v1/Locations: ERROR - 400 Client Error: Bad Request for url: http://dev.virtualearth.net/REST/v1/Locations?q=Maru%C3%ADpe%2C+Vit%C3%B3ria%2C+Esp%C3%ADrito+Santo%2C+Brazil&q=Ok%2C+Vit%C3%B3ria%2C+Esp%C3%ADrito+Santo%2C+Brazil&q=nan&q=nan&q=Maru%C3%ADpe%2C+Vit%C3%B3ria%2C+Esp%C3%ADrito+Santo%2C+Brazil&q=Vit%C3%B3ria%2C+Vit%C3%B3ria%2C+Esp%C3%ADrito+Santo%2C+Brazil&q=Es%2C+Vit%C3%B3ria%2C+Esp%C3%ADrito+Santo%2C+Brazil&q=Brazil%2C+Vit%C3%B3ria%2C+Esp%C3%ADrito+Santo%2C+Brazil&o=json&inclnb=1&key=ArM0cQoiG2wDASYT7dhCsWjYFKjIHq4wwKa7lLuMYspeXTdJnXimERp8Nsot5G0I&maxResults=1\n",
      "Status code 400 from http://dev.virtualearth.net/REST/v1/Locations: ERROR - 400 Client Error: Bad Request for url: http://dev.virtualearth.net/REST/v1/Locations?q=Forte+S%C3%A3o+Jo%C3%A3o%2C+Vit%C3%B3ria%2C+Esp%C3%ADrito+Santo%2C+Brazil&q=Ok%2C+Vit%C3%B3ria%2C+Esp%C3%ADrito+Santo%2C+Brazil&q=nan&q=nan&q=Forte+S%C3%A3o+Jo%C3%A3o%2C+Vit%C3%B3ria%2C+Esp%C3%ADrito+Santo%2C+Brazil&q=Vit%C3%B3ria%2C+Vit%C3%B3ria%2C+Esp%C3%ADrito+Santo%2C+Brazil&q=Es%2C+Vit%C3%B3ria%2C+Esp%C3%ADrito+Santo%2C+Brazil&q=Brazil%2C+Vit%C3%B3ria%2C+Esp%C3%ADrito+Santo%2C+Brazil&o=json&inclnb=1&key=ArM0cQoiG2wDASYT7dhCsWjYFKjIHq4wwKa7lLuMYspeXTdJnXimERp8Nsot5G0I&maxResults=1\n",
      "Status code 400 from http://dev.virtualearth.net/REST/v1/Locations: ERROR - 400 Client Error: Bad Request for url: http://dev.virtualearth.net/REST/v1/Locations?q=Ilha+De+Santa+Maria%2C+Vit%C3%B3ria%2C+Esp%C3%ADrito+Santo%2C+Brazil&q=Ok%2C+Vit%C3%B3ria%2C+Esp%C3%ADrito+Santo%2C+Brazil&q=nan&q=nan&q=Ilha+De+Santa+Maria%2C+Vit%C3%B3ria%2C+Esp%C3%ADrito+Santo%2C+Brazil&q=Vit%C3%B3ria%2C+Vit%C3%B3ria%2C+Esp%C3%ADrito+Santo%2C+Brazil&q=Es%2C+Vit%C3%B3ria%2C+Esp%C3%ADrito+Santo%2C+Brazil&q=Brazil%2C+Vit%C3%B3ria%2C+Esp%C3%ADrito+Santo%2C+Brazil&o=json&inclnb=1&key=ArM0cQoiG2wDASYT7dhCsWjYFKjIHq4wwKa7lLuMYspeXTdJnXimERp8Nsot5G0I&maxResults=1\n",
      "Status code 400 from http://dev.virtualearth.net/REST/v1/Locations: ERROR - 400 Client Error: Bad Request for url: http://dev.virtualearth.net/REST/v1/Locations?q=S%C3%A3o+Crist%C3%B3v%C3%A3o%2C+Vit%C3%B3ria%2C+Esp%C3%ADrito+Santo%2C+Brazil&q=Ok%2C+Vit%C3%B3ria%2C+Esp%C3%ADrito+Santo%2C+Brazil&q=nan&q=nan&q=S%C3%A3o+Crist%C3%B3v%C3%A3o%2C+Vit%C3%B3ria%2C+Esp%C3%ADrito+Santo%2C+Brazil&q=Vit%C3%B3ria%2C+Vit%C3%B3ria%2C+Esp%C3%ADrito+Santo%2C+Brazil&q=Es%2C+Vit%C3%B3ria%2C+Esp%C3%ADrito+Santo%2C+Brazil&q=Brazil%2C+Vit%C3%B3ria%2C+Esp%C3%ADrito+Santo%2C+Brazil&o=json&inclnb=1&key=ArM0cQoiG2wDASYT7dhCsWjYFKjIHq4wwKa7lLuMYspeXTdJnXimERp8Nsot5G0I&maxResults=1\n",
      "Status code 400 from http://dev.virtualearth.net/REST/v1/Locations: ERROR - 400 Client Error: Bad Request for url: http://dev.virtualearth.net/REST/v1/Locations?q=Reden%C3%A7%C3%A3o%2C+Vit%C3%B3ria%2C+Esp%C3%ADrito+Santo%2C+Brazil&q=Ok%2C+Vit%C3%B3ria%2C+Esp%C3%ADrito+Santo%2C+Brazil&q=nan&q=nan&q=Reden%C3%A7%C3%A3o%2C+Vit%C3%B3ria%2C+Esp%C3%ADrito+Santo%2C+Brazil&q=Vit%C3%B3ria%2C+Vit%C3%B3ria%2C+Esp%C3%ADrito+Santo%2C+Brazil&q=Es%2C+Vit%C3%B3ria%2C+Esp%C3%ADrito+Santo%2C+Brazil&q=Brazil%2C+Vit%C3%B3ria%2C+Esp%C3%ADrito+Santo%2C+Brazil&o=json&inclnb=1&key=ArM0cQoiG2wDASYT7dhCsWjYFKjIHq4wwKa7lLuMYspeXTdJnXimERp8Nsot5G0I&maxResults=1\n",
      "Status code 400 from http://dev.virtualearth.net/REST/v1/Locations: ERROR - 400 Client Error: Bad Request for url: http://dev.virtualearth.net/REST/v1/Locations?q=S%C3%A3o+Benedito%2C+Vit%C3%B3ria%2C+Esp%C3%ADrito+Santo%2C+Brazil&q=Ok%2C+Vit%C3%B3ria%2C+Esp%C3%ADrito+Santo%2C+Brazil&q=nan&q=nan&q=S%C3%A3o+Benedito%2C+Vit%C3%B3ria%2C+Esp%C3%ADrito+Santo%2C+Brazil&q=Vit%C3%B3ria%2C+Vit%C3%B3ria%2C+Esp%C3%ADrito+Santo%2C+Brazil&q=Es%2C+Vit%C3%B3ria%2C+Esp%C3%ADrito+Santo%2C+Brazil&q=Brazil%2C+Vit%C3%B3ria%2C+Esp%C3%ADrito+Santo%2C+Brazil&o=json&inclnb=1&key=ArM0cQoiG2wDASYT7dhCsWjYFKjIHq4wwKa7lLuMYspeXTdJnXimERp8Nsot5G0I&maxResults=1\n",
      "Status code 400 from http://dev.virtualearth.net/REST/v1/Locations: ERROR - 400 Client Error: Bad Request for url: http://dev.virtualearth.net/REST/v1/Locations?q=Joana+D%C2%B4Arc%2C+Vit%C3%B3ria%2C+Esp%C3%ADrito+Santo%2C+Brazil&q=Ok%2C+Vit%C3%B3ria%2C+Esp%C3%ADrito+Santo%2C+Brazil&q=nan&q=nan&q=Joana+D%27Arc%2C+Vit%C3%B3ria%2C+Esp%C3%ADrito+Santo%2C+Brazil&q=Vit%C3%B3ria%2C+Vit%C3%B3ria%2C+Esp%C3%ADrito+Santo%2C+Brazil&q=Es%2C+Vit%C3%B3ria%2C+Esp%C3%ADrito+Santo%2C+Brazil&q=Brazil%2C+Vit%C3%B3ria%2C+Esp%C3%ADrito+Santo%2C+Brazil&o=json&inclnb=1&key=ArM0cQoiG2wDASYT7dhCsWjYFKjIHq4wwKa7lLuMYspeXTdJnXimERp8Nsot5G0I&maxResults=1\n",
      "Status code 400 from http://dev.virtualearth.net/REST/v1/Locations: ERROR - 400 Client Error: Bad Request for url: http://dev.virtualearth.net/REST/v1/Locations?q=Cruzamento%2C+Vit%C3%B3ria%2C+Esp%C3%ADrito+Santo%2C+Brazil&q=Ok%2C+Vit%C3%B3ria%2C+Esp%C3%ADrito+Santo%2C+Brazil&q=nan&q=nan&q=Cruzamento%2C+Vit%C3%B3ria%2C+Esp%C3%ADrito+Santo%2C+Brazil&q=Vit%C3%B3ria%2C+Vit%C3%B3ria%2C+Esp%C3%ADrito+Santo%2C+Brazil&q=Es%2C+Vit%C3%B3ria%2C+Esp%C3%ADrito+Santo%2C+Brazil&q=Brazil%2C+Vit%C3%B3ria%2C+Esp%C3%ADrito+Santo%2C+Brazil&o=json&inclnb=1&key=ArM0cQoiG2wDASYT7dhCsWjYFKjIHq4wwKa7lLuMYspeXTdJnXimERp8Nsot5G0I&maxResults=1\n",
      "Status code 400 from http://dev.virtualearth.net/REST/v1/Locations: ERROR - 400 Client Error: Bad Request for url: http://dev.virtualearth.net/REST/v1/Locations?q=Consola%C3%A7%C3%A3o%2C+Vit%C3%B3ria%2C+Esp%C3%ADrito+Santo%2C+Brazil&q=Ok%2C+Vit%C3%B3ria%2C+Esp%C3%ADrito+Santo%2C+Brazil&q=nan&q=nan&q=Consola%C3%A7%C3%A3o%2C+Vit%C3%B3ria%2C+Esp%C3%ADrito+Santo%2C+Brazil&q=Vit%C3%B3ria%2C+Vit%C3%B3ria%2C+Esp%C3%ADrito+Santo%2C+Brazil&q=Es%2C+Vit%C3%B3ria%2C+Esp%C3%ADrito+Santo%2C+Brazil&q=Brazil%2C+Vit%C3%B3ria%2C+Esp%C3%ADrito+Santo%2C+Brazil&o=json&inclnb=1&key=ArM0cQoiG2wDASYT7dhCsWjYFKjIHq4wwKa7lLuMYspeXTdJnXimERp8Nsot5G0I&maxResults=1\n",
      "Status code 400 from http://dev.virtualearth.net/REST/v1/Locations: ERROR - 400 Client Error: Bad Request for url: http://dev.virtualearth.net/REST/v1/Locations?q=Santa+Tereza%2C+Vit%C3%B3ria%2C+Esp%C3%ADrito+Santo%2C+Brazil&q=Ok%2C+Vit%C3%B3ria%2C+Esp%C3%ADrito+Santo%2C+Brazil&q=nan&q=nan&q=Santa+Tereza%2C+Vit%C3%B3ria%2C+Esp%C3%ADrito+Santo%2C+Brazil&q=Vit%C3%B3ria%2C+Vit%C3%B3ria%2C+Esp%C3%ADrito+Santo%2C+Brazil&q=Es%2C+Vit%C3%B3ria%2C+Esp%C3%ADrito+Santo%2C+Brazil&q=Brazil%2C+Vit%C3%B3ria%2C+Esp%C3%ADrito+Santo%2C+Brazil&o=json&inclnb=1&key=ArM0cQoiG2wDASYT7dhCsWjYFKjIHq4wwKa7lLuMYspeXTdJnXimERp8Nsot5G0I&maxResults=1\n",
      "Status code 400 from http://dev.virtualearth.net/REST/v1/Locations: ERROR - 400 Client Error: Bad Request for url: http://dev.virtualearth.net/REST/v1/Locations?q=Praia+Do+Su%C3%A1%2C+Vit%C3%B3ria%2C+Esp%C3%ADrito+Santo%2C+Brazil&q=Ok%2C+Vit%C3%B3ria%2C+Esp%C3%ADrito+Santo%2C+Brazil&q=nan&q=nan&q=Praia+Do+Su%C3%A1%2C+Vit%C3%B3ria%2C+Esp%C3%ADrito+Santo%2C+Brazil&q=Vit%C3%B3ria%2C+Vit%C3%B3ria%2C+Esp%C3%ADrito+Santo%2C+Brazil&q=Es%2C+Vit%C3%B3ria%2C+Esp%C3%ADrito+Santo%2C+Brazil&q=Brazil%2C+Vit%C3%B3ria%2C+Esp%C3%ADrito+Santo%2C+Brazil&o=json&inclnb=1&key=ArM0cQoiG2wDASYT7dhCsWjYFKjIHq4wwKa7lLuMYspeXTdJnXimERp8Nsot5G0I&maxResults=1\n",
      "Status code 400 from http://dev.virtualearth.net/REST/v1/Locations: ERROR - 400 Client Error: Bad Request for url: http://dev.virtualearth.net/REST/v1/Locations?q=Santos+Dumont%2C+Vit%C3%B3ria%2C+Esp%C3%ADrito+Santo%2C+Brazil&q=Ok%2C+Vit%C3%B3ria%2C+Esp%C3%ADrito+Santo%2C+Brazil&q=nan&q=nan&q=Santos+Dumont%2C+Vit%C3%B3ria%2C+Esp%C3%ADrito+Santo%2C+Brazil&q=Vit%C3%B3ria%2C+Vit%C3%B3ria%2C+Esp%C3%ADrito+Santo%2C+Brazil&q=Es%2C+Vit%C3%B3ria%2C+Esp%C3%ADrito+Santo%2C+Brazil&q=Brazil%2C+Vit%C3%B3ria%2C+Esp%C3%ADrito+Santo%2C+Brazil&o=json&inclnb=1&key=ArM0cQoiG2wDASYT7dhCsWjYFKjIHq4wwKa7lLuMYspeXTdJnXimERp8Nsot5G0I&maxResults=1\n",
      "Status code 400 from http://dev.virtualearth.net/REST/v1/Locations: ERROR - 400 Client Error: Bad Request for url: http://dev.virtualearth.net/REST/v1/Locations?q=Grande+Vit%C3%B3ria%2C+Vit%C3%B3ria%2C+Esp%C3%ADrito+Santo%2C+Brazil&q=Ok%2C+Vit%C3%B3ria%2C+Esp%C3%ADrito+Santo%2C+Brazil&q=nan&q=nan&q=Grande+Vit%C3%B3ria%2C+Vit%C3%B3ria%2C+Esp%C3%ADrito+Santo%2C+Brazil&q=Vit%C3%B3ria%2C+Vit%C3%B3ria%2C+Esp%C3%ADrito+Santo%2C+Brazil&q=Es%2C+Vit%C3%B3ria%2C+Esp%C3%ADrito+Santo%2C+Brazil&q=Brazil%2C+Vit%C3%B3ria%2C+Esp%C3%ADrito+Santo%2C+Brazil&o=json&inclnb=1&key=ArM0cQoiG2wDASYT7dhCsWjYFKjIHq4wwKa7lLuMYspeXTdJnXimERp8Nsot5G0I&maxResults=1\n"
     ]
    },
    {
     "name": "stderr",
     "output_type": "stream",
     "text": [
      "Status code 400 from http://dev.virtualearth.net/REST/v1/Locations: ERROR - 400 Client Error: Bad Request for url: http://dev.virtualearth.net/REST/v1/Locations?q=Ilha+Das+Caieiras%2C+Vit%C3%B3ria%2C+Esp%C3%ADrito+Santo%2C+Brazil&q=Ok%2C+Vit%C3%B3ria%2C+Esp%C3%ADrito+Santo%2C+Brazil&q=nan&q=nan&q=Ilha+Das+Caieiras%2C+Vit%C3%B3ria%2C+Esp%C3%ADrito+Santo%2C+Brazil&q=Vit%C3%B3ria%2C+Vit%C3%B3ria%2C+Esp%C3%ADrito+Santo%2C+Brazil&q=Es%2C+Vit%C3%B3ria%2C+Esp%C3%ADrito+Santo%2C+Brazil&q=Brazil%2C+Vit%C3%B3ria%2C+Esp%C3%ADrito+Santo%2C+Brazil&o=json&inclnb=1&key=ArM0cQoiG2wDASYT7dhCsWjYFKjIHq4wwKa7lLuMYspeXTdJnXimERp8Nsot5G0I&maxResults=1\n",
      "Status code 400 from http://dev.virtualearth.net/REST/v1/Locations: ERROR - 400 Client Error: Bad Request for url: http://dev.virtualearth.net/REST/v1/Locations?q=Inhanguet%C3%A1%2C+Vit%C3%B3ria%2C+Esp%C3%ADrito+Santo%2C+Brazil&q=Ok%2C+Vit%C3%B3ria%2C+Esp%C3%ADrito+Santo%2C+Brazil&q=nan&q=nan&q=Inhanguet%C3%A1%2C+Vit%C3%B3ria%2C+Esp%C3%ADrito+Santo%2C+Brazil&q=Vit%C3%B3ria%2C+Vit%C3%B3ria%2C+Esp%C3%ADrito+Santo%2C+Brazil&q=Es%2C+Vit%C3%B3ria%2C+Esp%C3%ADrito+Santo%2C+Brazil&q=Brazil%2C+Vit%C3%B3ria%2C+Esp%C3%ADrito+Santo%2C+Brazil&o=json&inclnb=1&key=ArM0cQoiG2wDASYT7dhCsWjYFKjIHq4wwKa7lLuMYspeXTdJnXimERp8Nsot5G0I&maxResults=1\n",
      "Status code 400 from http://dev.virtualearth.net/REST/v1/Locations: ERROR - 400 Client Error: Bad Request for url: http://dev.virtualearth.net/REST/v1/Locations?q=Praia+Do+Canto%2C+Vit%C3%B3ria%2C+Esp%C3%ADrito+Santo%2C+Brazil&q=Ok%2C+Vit%C3%B3ria%2C+Esp%C3%ADrito+Santo%2C+Brazil&q=nan&q=nan&q=Praia+Do+Canto%2C+Vit%C3%B3ria%2C+Esp%C3%ADrito+Santo%2C+Brazil&q=Vit%C3%B3ria%2C+Vit%C3%B3ria%2C+Esp%C3%ADrito+Santo%2C+Brazil&q=Es%2C+Vit%C3%B3ria%2C+Esp%C3%ADrito+Santo%2C+Brazil&q=Brazil%2C+Vit%C3%B3ria%2C+Esp%C3%ADrito+Santo%2C+Brazil&o=json&inclnb=1&key=ArM0cQoiG2wDASYT7dhCsWjYFKjIHq4wwKa7lLuMYspeXTdJnXimERp8Nsot5G0I&maxResults=1\n",
      "Status code 400 from http://dev.virtualearth.net/REST/v1/Locations: ERROR - 400 Client Error: Bad Request for url: http://dev.virtualearth.net/REST/v1/Locations?q=Bento+Ferreira%2C+Vit%C3%B3ria%2C+Esp%C3%ADrito+Santo%2C+Brazil&q=Ok%2C+Vit%C3%B3ria%2C+Esp%C3%ADrito+Santo%2C+Brazil&q=nan&q=nan&q=Bento+Ferreira%2C+Vit%C3%B3ria%2C+Esp%C3%ADrito+Santo%2C+Brazil&q=Vit%C3%B3ria%2C+Vit%C3%B3ria%2C+Esp%C3%ADrito+Santo%2C+Brazil&q=Es%2C+Vit%C3%B3ria%2C+Esp%C3%ADrito+Santo%2C+Brazil&q=Brazil%2C+Vit%C3%B3ria%2C+Esp%C3%ADrito+Santo%2C+Brazil&o=json&inclnb=1&key=ArM0cQoiG2wDASYT7dhCsWjYFKjIHq4wwKa7lLuMYspeXTdJnXimERp8Nsot5G0I&maxResults=1\n",
      "Status code 400 from http://dev.virtualearth.net/REST/v1/Locations: ERROR - 400 Client Error: Bad Request for url: http://dev.virtualearth.net/REST/v1/Locations?q=Vila+Rubim%2C+Vit%C3%B3ria%2C+Esp%C3%ADrito+Santo%2C+Brazil&q=Ok%2C+Vit%C3%B3ria%2C+Esp%C3%ADrito+Santo%2C+Brazil&q=nan&q=nan&q=Vila+Rubim%2C+Vit%C3%B3ria%2C+Esp%C3%ADrito+Santo%2C+Brazil&q=Vit%C3%B3ria%2C+Vit%C3%B3ria%2C+Esp%C3%ADrito+Santo%2C+Brazil&q=Es%2C+Vit%C3%B3ria%2C+Esp%C3%ADrito+Santo%2C+Brazil&q=Brazil%2C+Vit%C3%B3ria%2C+Esp%C3%ADrito+Santo%2C+Brazil&o=json&inclnb=1&key=ArM0cQoiG2wDASYT7dhCsWjYFKjIHq4wwKa7lLuMYspeXTdJnXimERp8Nsot5G0I&maxResults=1\n",
      "Status code 400 from http://dev.virtualearth.net/REST/v1/Locations: ERROR - 400 Client Error: Bad Request for url: http://dev.virtualearth.net/REST/v1/Locations?q=Conquista%2C+Vit%C3%B3ria%2C+Esp%C3%ADrito+Santo%2C+Brazil&q=Ok%2C+Vit%C3%B3ria%2C+Esp%C3%ADrito+Santo%2C+Brazil&q=nan&q=nan&q=Conquista%2C+Vit%C3%B3ria%2C+Esp%C3%ADrito+Santo%2C+Brazil&q=Vit%C3%B3ria%2C+Vit%C3%B3ria%2C+Esp%C3%ADrito+Santo%2C+Brazil&q=Es%2C+Vit%C3%B3ria%2C+Esp%C3%ADrito+Santo%2C+Brazil&q=Brazil%2C+Vit%C3%B3ria%2C+Esp%C3%ADrito+Santo%2C+Brazil&o=json&inclnb=1&key=ArM0cQoiG2wDASYT7dhCsWjYFKjIHq4wwKa7lLuMYspeXTdJnXimERp8Nsot5G0I&maxResults=1\n",
      "Status code 400 from http://dev.virtualearth.net/REST/v1/Locations: ERROR - 400 Client Error: Bad Request for url: http://dev.virtualearth.net/REST/v1/Locations?q=Do+Quadro%2C+Vit%C3%B3ria%2C+Esp%C3%ADrito+Santo%2C+Brazil&q=Ok%2C+Vit%C3%B3ria%2C+Esp%C3%ADrito+Santo%2C+Brazil&q=nan&q=nan&q=Do+Quadro%2C+Vit%C3%B3ria%2C+Esp%C3%ADrito+Santo%2C+Brazil&q=Vit%C3%B3ria%2C+Vit%C3%B3ria%2C+Esp%C3%ADrito+Santo%2C+Brazil&q=Es%2C+Vit%C3%B3ria%2C+Esp%C3%ADrito+Santo%2C+Brazil&q=Brazil%2C+Vit%C3%B3ria%2C+Esp%C3%ADrito+Santo%2C+Brazil&o=json&inclnb=1&key=ArM0cQoiG2wDASYT7dhCsWjYFKjIHq4wwKa7lLuMYspeXTdJnXimERp8Nsot5G0I&maxResults=1\n",
      "Status code 400 from http://dev.virtualearth.net/REST/v1/Locations: ERROR - 400 Client Error: Bad Request for url: http://dev.virtualearth.net/REST/v1/Locations?q=Rep%C3%BAblica%2C+Vit%C3%B3ria%2C+Esp%C3%ADrito+Santo%2C+Brazil&q=Ok%2C+Vit%C3%B3ria%2C+Esp%C3%ADrito+Santo%2C+Brazil&q=nan&q=nan&q=Rep%C3%BAblica%2C+Vit%C3%B3ria%2C+Esp%C3%ADrito+Santo%2C+Brazil&q=Vit%C3%B3ria%2C+Vit%C3%B3ria%2C+Esp%C3%ADrito+Santo%2C+Brazil&q=Es%2C+Vit%C3%B3ria%2C+Esp%C3%ADrito+Santo%2C+Brazil&q=Brazil%2C+Vit%C3%B3ria%2C+Esp%C3%ADrito+Santo%2C+Brazil&o=json&inclnb=1&key=ArM0cQoiG2wDASYT7dhCsWjYFKjIHq4wwKa7lLuMYspeXTdJnXimERp8Nsot5G0I&maxResults=1\n",
      "Status code 400 from http://dev.virtualearth.net/REST/v1/Locations: ERROR - 400 Client Error: Bad Request for url: http://dev.virtualearth.net/REST/v1/Locations?q=Monte+Belo%2C+Vit%C3%B3ria%2C+Esp%C3%ADrito+Santo%2C+Brazil&q=Ok%2C+Vit%C3%B3ria%2C+Esp%C3%ADrito+Santo%2C+Brazil&q=nan&q=nan&q=Monte+Belo%2C+Vit%C3%B3ria%2C+Esp%C3%ADrito+Santo%2C+Brazil&q=Vit%C3%B3ria%2C+Vit%C3%B3ria%2C+Esp%C3%ADrito+Santo%2C+Brazil&q=Es%2C+Vit%C3%B3ria%2C+Esp%C3%ADrito+Santo%2C+Brazil&q=Brazil%2C+Vit%C3%B3ria%2C+Esp%C3%ADrito+Santo%2C+Brazil&o=json&inclnb=1&key=ArM0cQoiG2wDASYT7dhCsWjYFKjIHq4wwKa7lLuMYspeXTdJnXimERp8Nsot5G0I&maxResults=1\n",
      "Status code 400 from http://dev.virtualearth.net/REST/v1/Locations: ERROR - 400 Client Error: Bad Request for url: http://dev.virtualearth.net/REST/v1/Locations?q=Parque+Moscoso%2C+Vit%C3%B3ria%2C+Esp%C3%ADrito+Santo%2C+Brazil&q=Ok%2C+Vit%C3%B3ria%2C+Esp%C3%ADrito+Santo%2C+Brazil&q=nan&q=nan&q=Parque+Moscoso%2C+Vit%C3%B3ria%2C+Esp%C3%ADrito+Santo%2C+Brazil&q=Vit%C3%B3ria%2C+Vit%C3%B3ria%2C+Esp%C3%ADrito+Santo%2C+Brazil&q=Es%2C+Vit%C3%B3ria%2C+Esp%C3%ADrito+Santo%2C+Brazil&q=Brazil%2C+Vit%C3%B3ria%2C+Esp%C3%ADrito+Santo%2C+Brazil&o=json&inclnb=1&key=ArM0cQoiG2wDASYT7dhCsWjYFKjIHq4wwKa7lLuMYspeXTdJnXimERp8Nsot5G0I&maxResults=1\n",
      "Status code 400 from http://dev.virtualearth.net/REST/v1/Locations: ERROR - 400 Client Error: Bad Request for url: http://dev.virtualearth.net/REST/v1/Locations?q=Goiabeiras%2C+Vit%C3%B3ria%2C+Esp%C3%ADrito+Santo%2C+Brazil&q=Ok%2C+Vit%C3%B3ria%2C+Esp%C3%ADrito+Santo%2C+Brazil&q=nan&q=nan&q=Goiabeiras%2C+Vit%C3%B3ria%2C+Esp%C3%ADrito+Santo%2C+Brazil&q=Vit%C3%B3ria%2C+Vit%C3%B3ria%2C+Esp%C3%ADrito+Santo%2C+Brazil&q=Es%2C+Vit%C3%B3ria%2C+Esp%C3%ADrito+Santo%2C+Brazil&q=Brazil%2C+Vit%C3%B3ria%2C+Esp%C3%ADrito+Santo%2C+Brazil&o=json&inclnb=1&key=ArM0cQoiG2wDASYT7dhCsWjYFKjIHq4wwKa7lLuMYspeXTdJnXimERp8Nsot5G0I&maxResults=1\n",
      "Status code 400 from http://dev.virtualearth.net/REST/v1/Locations: ERROR - 400 Client Error: Bad Request for url: http://dev.virtualearth.net/REST/v1/Locations?q=Jucutuquara%2C+Vit%C3%B3ria%2C+Esp%C3%ADrito+Santo%2C+Brazil&q=Ok%2C+Vit%C3%B3ria%2C+Esp%C3%ADrito+Santo%2C+Brazil&q=nan&q=nan&q=Jucutuquara%2C+Vit%C3%B3ria%2C+Esp%C3%ADrito+Santo%2C+Brazil&q=Vit%C3%B3ria%2C+Vit%C3%B3ria%2C+Esp%C3%ADrito+Santo%2C+Brazil&q=Es%2C+Vit%C3%B3ria%2C+Esp%C3%ADrito+Santo%2C+Brazil&q=Brazil%2C+Vit%C3%B3ria%2C+Esp%C3%ADrito+Santo%2C+Brazil&o=json&inclnb=1&key=ArM0cQoiG2wDASYT7dhCsWjYFKjIHq4wwKa7lLuMYspeXTdJnXimERp8Nsot5G0I&maxResults=1\n",
      "Status code 400 from http://dev.virtualearth.net/REST/v1/Locations: ERROR - 400 Client Error: Bad Request for url: http://dev.virtualearth.net/REST/v1/Locations?q=Fonte+Grande%2C+Vit%C3%B3ria%2C+Esp%C3%ADrito+Santo%2C+Brazil&q=Ok%2C+Vit%C3%B3ria%2C+Esp%C3%ADrito+Santo%2C+Brazil&q=nan&q=nan&q=Fonte+Grande%2C+Vit%C3%B3ria%2C+Esp%C3%ADrito+Santo%2C+Brazil&q=Vit%C3%B3ria%2C+Vit%C3%B3ria%2C+Esp%C3%ADrito+Santo%2C+Brazil&q=Es%2C+Vit%C3%B3ria%2C+Esp%C3%ADrito+Santo%2C+Brazil&q=Brazil%2C+Vit%C3%B3ria%2C+Esp%C3%ADrito+Santo%2C+Brazil&o=json&inclnb=1&key=ArM0cQoiG2wDASYT7dhCsWjYFKjIHq4wwKa7lLuMYspeXTdJnXimERp8Nsot5G0I&maxResults=1\n",
      "Status code 400 from http://dev.virtualearth.net/REST/v1/Locations: ERROR - 400 Client Error: Bad Request for url: http://dev.virtualearth.net/REST/v1/Locations?q=Mata+Da+Praia%2C+Vit%C3%B3ria%2C+Esp%C3%ADrito+Santo%2C+Brazil&q=Ok%2C+Vit%C3%B3ria%2C+Esp%C3%ADrito+Santo%2C+Brazil&q=nan&q=nan&q=Mata+Da+Praia%2C+Vit%C3%B3ria%2C+Esp%C3%ADrito+Santo%2C+Brazil&q=Vit%C3%B3ria%2C+Vit%C3%B3ria%2C+Esp%C3%ADrito+Santo%2C+Brazil&q=Es%2C+Vit%C3%B3ria%2C+Esp%C3%ADrito+Santo%2C+Brazil&q=Brazil%2C+Vit%C3%B3ria%2C+Esp%C3%ADrito+Santo%2C+Brazil&o=json&inclnb=1&key=ArM0cQoiG2wDASYT7dhCsWjYFKjIHq4wwKa7lLuMYspeXTdJnXimERp8Nsot5G0I&maxResults=1\n"
     ]
    },
    {
     "name": "stderr",
     "output_type": "stream",
     "text": [
      "Status code 400 from http://dev.virtualearth.net/REST/v1/Locations: ERROR - 400 Client Error: Bad Request for url: http://dev.virtualearth.net/REST/v1/Locations?q=Do+Cabral%2C+Vit%C3%B3ria%2C+Esp%C3%ADrito+Santo%2C+Brazil&q=Ok%2C+Vit%C3%B3ria%2C+Esp%C3%ADrito+Santo%2C+Brazil&q=nan&q=nan&q=Do+Cabral%2C+Vit%C3%B3ria%2C+Esp%C3%ADrito+Santo%2C+Brazil&q=Vit%C3%B3ria%2C+Vit%C3%B3ria%2C+Esp%C3%ADrito+Santo%2C+Brazil&q=Es%2C+Vit%C3%B3ria%2C+Esp%C3%ADrito+Santo%2C+Brazil&q=Brazil%2C+Vit%C3%B3ria%2C+Esp%C3%ADrito+Santo%2C+Brazil&o=json&inclnb=1&key=ArM0cQoiG2wDASYT7dhCsWjYFKjIHq4wwKa7lLuMYspeXTdJnXimERp8Nsot5G0I&maxResults=1\n",
      "Status code 400 from http://dev.virtualearth.net/REST/v1/Locations: ERROR - 400 Client Error: Bad Request for url: http://dev.virtualearth.net/REST/v1/Locations?q=Santos+Reis%2C+Vit%C3%B3ria%2C+Esp%C3%ADrito+Santo%2C+Brazil&q=Ok%2C+Vit%C3%B3ria%2C+Esp%C3%ADrito+Santo%2C+Brazil&q=nan&q=nan&q=Santos+Reis%2C+Vit%C3%B3ria%2C+Esp%C3%ADrito+Santo%2C+Brazil&q=Vit%C3%B3ria%2C+Vit%C3%B3ria%2C+Esp%C3%ADrito+Santo%2C+Brazil&q=Es%2C+Vit%C3%B3ria%2C+Esp%C3%ADrito+Santo%2C+Brazil&q=Brazil%2C+Vit%C3%B3ria%2C+Esp%C3%ADrito+Santo%2C+Brazil&o=json&inclnb=1&key=ArM0cQoiG2wDASYT7dhCsWjYFKjIHq4wwKa7lLuMYspeXTdJnXimERp8Nsot5G0I&maxResults=1\n",
      "Status code 400 from http://dev.virtualearth.net/REST/v1/Locations: ERROR - 400 Client Error: Bad Request for url: http://dev.virtualearth.net/REST/v1/Locations?q=Estrelinha%2C+Vit%C3%B3ria%2C+Esp%C3%ADrito+Santo%2C+Brazil&q=Ok%2C+Vit%C3%B3ria%2C+Esp%C3%ADrito+Santo%2C+Brazil&q=nan&q=nan&q=Estrelinha%2C+Vit%C3%B3ria%2C+Esp%C3%ADrito+Santo%2C+Brazil&q=Vit%C3%B3ria%2C+Vit%C3%B3ria%2C+Esp%C3%ADrito+Santo%2C+Brazil&q=Es%2C+Vit%C3%B3ria%2C+Esp%C3%ADrito+Santo%2C+Brazil&q=Brazil%2C+Vit%C3%B3ria%2C+Esp%C3%ADrito+Santo%2C+Brazil&o=json&inclnb=1&key=ArM0cQoiG2wDASYT7dhCsWjYFKjIHq4wwKa7lLuMYspeXTdJnXimERp8Nsot5G0I&maxResults=1\n",
      "Status code 400 from http://dev.virtualearth.net/REST/v1/Locations: ERROR - 400 Client Error: Bad Request for url: http://dev.virtualearth.net/REST/v1/Locations?q=Santa+Clara%2C+Vit%C3%B3ria%2C+Esp%C3%ADrito+Santo%2C+Brazil&q=Ok%2C+Vit%C3%B3ria%2C+Esp%C3%ADrito+Santo%2C+Brazil&q=nan&q=nan&q=Santa+Clara%2C+Vit%C3%B3ria%2C+Esp%C3%ADrito+Santo%2C+Brazil&q=Vit%C3%B3ria%2C+Vit%C3%B3ria%2C+Esp%C3%ADrito+Santo%2C+Brazil&q=Es%2C+Vit%C3%B3ria%2C+Esp%C3%ADrito+Santo%2C+Brazil&q=Brazil%2C+Vit%C3%B3ria%2C+Esp%C3%ADrito+Santo%2C+Brazil&o=json&inclnb=1&key=ArM0cQoiG2wDASYT7dhCsWjYFKjIHq4wwKa7lLuMYspeXTdJnXimERp8Nsot5G0I&maxResults=1\n",
      "Status code 400 from http://dev.virtualearth.net/REST/v1/Locations: ERROR - 400 Client Error: Bad Request for url: http://dev.virtualearth.net/REST/v1/Locations?q=Solon+Borges%2C+Vit%C3%B3ria%2C+Esp%C3%ADrito+Santo%2C+Brazil&q=Ok%2C+Vit%C3%B3ria%2C+Esp%C3%ADrito+Santo%2C+Brazil&q=nan&q=nan&q=Solon+Borges%2C+Vit%C3%B3ria%2C+Esp%C3%ADrito+Santo%2C+Brazil&q=Vit%C3%B3ria%2C+Vit%C3%B3ria%2C+Esp%C3%ADrito+Santo%2C+Brazil&q=Es%2C+Vit%C3%B3ria%2C+Esp%C3%ADrito+Santo%2C+Brazil&q=Brazil%2C+Vit%C3%B3ria%2C+Esp%C3%ADrito+Santo%2C+Brazil&o=json&inclnb=1&key=ArM0cQoiG2wDASYT7dhCsWjYFKjIHq4wwKa7lLuMYspeXTdJnXimERp8Nsot5G0I&maxResults=1\n",
      "Status code 400 from http://dev.virtualearth.net/REST/v1/Locations: ERROR - 400 Client Error: Bad Request for url: http://dev.virtualearth.net/REST/v1/Locations?q=Piedade%2C+Vit%C3%B3ria%2C+Esp%C3%ADrito+Santo%2C+Brazil&q=Ok%2C+Vit%C3%B3ria%2C+Esp%C3%ADrito+Santo%2C+Brazil&q=nan&q=nan&q=Piedade%2C+Vit%C3%B3ria%2C+Esp%C3%ADrito+Santo%2C+Brazil&q=Vit%C3%B3ria%2C+Vit%C3%B3ria%2C+Esp%C3%ADrito+Santo%2C+Brazil&q=Es%2C+Vit%C3%B3ria%2C+Esp%C3%ADrito+Santo%2C+Brazil&q=Brazil%2C+Vit%C3%B3ria%2C+Esp%C3%ADrito+Santo%2C+Brazil&o=json&inclnb=1&key=ArM0cQoiG2wDASYT7dhCsWjYFKjIHq4wwKa7lLuMYspeXTdJnXimERp8Nsot5G0I&maxResults=1\n",
      "Status code 400 from http://dev.virtualearth.net/REST/v1/Locations: ERROR - 400 Client Error: Bad Request for url: http://dev.virtualearth.net/REST/v1/Locations?q=Santa+Cec%C3%ADlia%2C+Vit%C3%B3ria%2C+Esp%C3%ADrito+Santo%2C+Brazil&q=Ok%2C+Vit%C3%B3ria%2C+Esp%C3%ADrito+Santo%2C+Brazil&q=nan&q=nan&q=Santa+Cec%C3%ADlia%2C+Vit%C3%B3ria%2C+Esp%C3%ADrito+Santo%2C+Brazil&q=Vit%C3%B3ria%2C+Vit%C3%B3ria%2C+Esp%C3%ADrito+Santo%2C+Brazil&q=Es%2C+Vit%C3%B3ria%2C+Esp%C3%ADrito+Santo%2C+Brazil&q=Brazil%2C+Vit%C3%B3ria%2C+Esp%C3%ADrito+Santo%2C+Brazil&o=json&inclnb=1&key=ArM0cQoiG2wDASYT7dhCsWjYFKjIHq4wwKa7lLuMYspeXTdJnXimERp8Nsot5G0I&maxResults=1\n",
      "Status code 400 from http://dev.virtualearth.net/REST/v1/Locations: ERROR - 400 Client Error: Bad Request for url: http://dev.virtualearth.net/REST/v1/Locations?q=Santa+L%C3%BAcia%2C+Vit%C3%B3ria%2C+Esp%C3%ADrito+Santo%2C+Brazil&q=Ok%2C+Vit%C3%B3ria%2C+Esp%C3%ADrito+Santo%2C+Brazil&q=nan&q=nan&q=Santa+L%C3%BAcia%2C+Vit%C3%B3ria%2C+Esp%C3%ADrito+Santo%2C+Brazil&q=Vit%C3%B3ria%2C+Vit%C3%B3ria%2C+Esp%C3%ADrito+Santo%2C+Brazil&q=Es%2C+Vit%C3%B3ria%2C+Esp%C3%ADrito+Santo%2C+Brazil&q=Brazil%2C+Vit%C3%B3ria%2C+Esp%C3%ADrito+Santo%2C+Brazil&o=json&inclnb=1&key=ArM0cQoiG2wDASYT7dhCsWjYFKjIHq4wwKa7lLuMYspeXTdJnXimERp8Nsot5G0I&maxResults=1\n",
      "Status code 400 from http://dev.virtualearth.net/REST/v1/Locations: ERROR - 400 Client Error: Bad Request for url: http://dev.virtualearth.net/REST/v1/Locations?q=Santa+Lu%C3%ADza%2C+Vit%C3%B3ria%2C+Esp%C3%ADrito+Santo%2C+Brazil&q=Ok%2C+Vit%C3%B3ria%2C+Esp%C3%ADrito+Santo%2C+Brazil&q=nan&q=nan&q=Santa+Lu%C3%ADza%2C+Vit%C3%B3ria%2C+Esp%C3%ADrito+Santo%2C+Brazil&q=Vit%C3%B3ria%2C+Vit%C3%B3ria%2C+Esp%C3%ADrito+Santo%2C+Brazil&q=Es%2C+Vit%C3%B3ria%2C+Esp%C3%ADrito+Santo%2C+Brazil&q=Brazil%2C+Vit%C3%B3ria%2C+Esp%C3%ADrito+Santo%2C+Brazil&o=json&inclnb=1&key=ArM0cQoiG2wDASYT7dhCsWjYFKjIHq4wwKa7lLuMYspeXTdJnXimERp8Nsot5G0I&maxResults=1\n",
      "Status code 400 from http://dev.virtualearth.net/REST/v1/Locations: ERROR - 400 Client Error: Bad Request for url: http://dev.virtualearth.net/REST/v1/Locations?q=Barro+Vermelho%2C+Vit%C3%B3ria%2C+Esp%C3%ADrito+Santo%2C+Brazil&q=Ok%2C+Vit%C3%B3ria%2C+Esp%C3%ADrito+Santo%2C+Brazil&q=nan&q=nan&q=Barro+Vermelho%2C+Vit%C3%B3ria%2C+Esp%C3%ADrito+Santo%2C+Brazil&q=Vit%C3%B3ria%2C+Vit%C3%B3ria%2C+Esp%C3%ADrito+Santo%2C+Brazil&q=Es%2C+Vit%C3%B3ria%2C+Esp%C3%ADrito+Santo%2C+Brazil&q=Brazil%2C+Vit%C3%B3ria%2C+Esp%C3%ADrito+Santo%2C+Brazil&o=json&inclnb=1&key=ArM0cQoiG2wDASYT7dhCsWjYFKjIHq4wwKa7lLuMYspeXTdJnXimERp8Nsot5G0I&maxResults=1\n",
      "Status code 400 from http://dev.virtualearth.net/REST/v1/Locations: ERROR - 400 Client Error: Bad Request for url: http://dev.virtualearth.net/REST/v1/Locations?q=Do+Moscoso%2C+Vit%C3%B3ria%2C+Esp%C3%ADrito+Santo%2C+Brazil&q=Ok%2C+Vit%C3%B3ria%2C+Esp%C3%ADrito+Santo%2C+Brazil&q=nan&q=nan&q=Do+Moscoso%2C+Vit%C3%B3ria%2C+Esp%C3%ADrito+Santo%2C+Brazil&q=Vit%C3%B3ria%2C+Vit%C3%B3ria%2C+Esp%C3%ADrito+Santo%2C+Brazil&q=Es%2C+Vit%C3%B3ria%2C+Esp%C3%ADrito+Santo%2C+Brazil&q=Brazil%2C+Vit%C3%B3ria%2C+Esp%C3%ADrito+Santo%2C+Brazil&o=json&inclnb=1&key=ArM0cQoiG2wDASYT7dhCsWjYFKjIHq4wwKa7lLuMYspeXTdJnXimERp8Nsot5G0I&maxResults=1\n",
      "Status code 400 from http://dev.virtualearth.net/REST/v1/Locations: ERROR - 400 Client Error: Bad Request for url: http://dev.virtualearth.net/REST/v1/Locations?q=M%C3%A1rio+Cypreste%2C+Vit%C3%B3ria%2C+Esp%C3%ADrito+Santo%2C+Brazil&q=Ok%2C+Vit%C3%B3ria%2C+Esp%C3%ADrito+Santo%2C+Brazil&q=nan&q=nan&q=M%C3%A1rio+Cypreste%2C+Vit%C3%B3ria%2C+Esp%C3%ADrito+Santo%2C+Brazil&q=Vit%C3%B3ria%2C+Vit%C3%B3ria%2C+Esp%C3%ADrito+Santo%2C+Brazil&q=Es%2C+Vit%C3%B3ria%2C+Esp%C3%ADrito+Santo%2C+Brazil&q=Brazil%2C+Vit%C3%B3ria%2C+Esp%C3%ADrito+Santo%2C+Brazil&o=json&inclnb=1&key=ArM0cQoiG2wDASYT7dhCsWjYFKjIHq4wwKa7lLuMYspeXTdJnXimERp8Nsot5G0I&maxResults=1\n",
      "Status code 400 from http://dev.virtualearth.net/REST/v1/Locations: ERROR - 400 Client Error: Bad Request for url: http://dev.virtualearth.net/REST/v1/Locations?q=Boa+Vista%2C+Vit%C3%B3ria%2C+Esp%C3%ADrito+Santo%2C+Brazil&q=Ok%2C+Vit%C3%B3ria%2C+Esp%C3%ADrito+Santo%2C+Brazil&q=nan&q=nan&q=Boa+Vista%2C+Vit%C3%B3ria%2C+Esp%C3%ADrito+Santo%2C+Brazil&q=Vit%C3%B3ria%2C+Vit%C3%B3ria%2C+Esp%C3%ADrito+Santo%2C+Brazil&q=Es%2C+Vit%C3%B3ria%2C+Esp%C3%ADrito+Santo%2C+Brazil&q=Brazil%2C+Vit%C3%B3ria%2C+Esp%C3%ADrito+Santo%2C+Brazil&o=json&inclnb=1&key=ArM0cQoiG2wDASYT7dhCsWjYFKjIHq4wwKa7lLuMYspeXTdJnXimERp8Nsot5G0I&maxResults=1\n",
      "Status code 400 from http://dev.virtualearth.net/REST/v1/Locations: ERROR - 400 Client Error: Bad Request for url: http://dev.virtualearth.net/REST/v1/Locations?q=Comdusa%2C+Vit%C3%B3ria%2C+Esp%C3%ADrito+Santo%2C+Brazil&q=Ok%2C+Vit%C3%B3ria%2C+Esp%C3%ADrito+Santo%2C+Brazil&q=nan&q=nan&q=Comdusa%2C+Vit%C3%B3ria%2C+Esp%C3%ADrito+Santo%2C+Brazil&q=Vit%C3%B3ria%2C+Vit%C3%B3ria%2C+Esp%C3%ADrito+Santo%2C+Brazil&q=Es%2C+Vit%C3%B3ria%2C+Esp%C3%ADrito+Santo%2C+Brazil&q=Brazil%2C+Vit%C3%B3ria%2C+Esp%C3%ADrito+Santo%2C+Brazil&o=json&inclnb=1&key=ArM0cQoiG2wDASYT7dhCsWjYFKjIHq4wwKa7lLuMYspeXTdJnXimERp8Nsot5G0I&maxResults=1\n"
     ]
    },
    {
     "name": "stderr",
     "output_type": "stream",
     "text": [
      "Status code 400 from http://dev.virtualearth.net/REST/v1/Locations: ERROR - 400 Client Error: Bad Request for url: http://dev.virtualearth.net/REST/v1/Locations?q=De+Lourdes%2C+Vit%C3%B3ria%2C+Esp%C3%ADrito+Santo%2C+Brazil&q=Ok%2C+Vit%C3%B3ria%2C+Esp%C3%ADrito+Santo%2C+Brazil&q=nan&q=nan&q=De+Lourdes%2C+Vit%C3%B3ria%2C+Esp%C3%ADrito+Santo%2C+Brazil&q=Vit%C3%B3ria%2C+Vit%C3%B3ria%2C+Esp%C3%ADrito+Santo%2C+Brazil&q=Es%2C+Vit%C3%B3ria%2C+Esp%C3%ADrito+Santo%2C+Brazil&q=Brazil%2C+Vit%C3%B3ria%2C+Esp%C3%ADrito+Santo%2C+Brazil&o=json&inclnb=1&key=ArM0cQoiG2wDASYT7dhCsWjYFKjIHq4wwKa7lLuMYspeXTdJnXimERp8Nsot5G0I&maxResults=1\n",
      "Status code 400 from http://dev.virtualearth.net/REST/v1/Locations: ERROR - 400 Client Error: Bad Request for url: http://dev.virtualearth.net/REST/v1/Locations?q=Ariovaldo+Favalessa%2C+Vit%C3%B3ria%2C+Esp%C3%ADrito+Santo%2C+Brazil&q=Ok%2C+Vit%C3%B3ria%2C+Esp%C3%ADrito+Santo%2C+Brazil&q=nan&q=nan&q=Ariovaldo+Favalessa%2C+Vit%C3%B3ria%2C+Esp%C3%ADrito+Santo%2C+Brazil&q=Vit%C3%B3ria%2C+Vit%C3%B3ria%2C+Esp%C3%ADrito+Santo%2C+Brazil&q=Es%2C+Vit%C3%B3ria%2C+Esp%C3%ADrito+Santo%2C+Brazil&q=Brazil%2C+Vit%C3%B3ria%2C+Esp%C3%ADrito+Santo%2C+Brazil&o=json&inclnb=1&key=ArM0cQoiG2wDASYT7dhCsWjYFKjIHq4wwKa7lLuMYspeXTdJnXimERp8Nsot5G0I&maxResults=1\n",
      "Status code 400 from http://dev.virtualearth.net/REST/v1/Locations: ERROR - 400 Client Error: Bad Request for url: http://dev.virtualearth.net/REST/v1/Locations?q=Ant%C3%B4nio+Hon%C3%B3rio%2C+Vit%C3%B3ria%2C+Esp%C3%ADrito+Santo%2C+Brazil&q=Ok%2C+Vit%C3%B3ria%2C+Esp%C3%ADrito+Santo%2C+Brazil&q=nan&q=nan&q=Ant%C3%B4nio+Hon%C3%B3rio%2C+Vit%C3%B3ria%2C+Esp%C3%ADrito+Santo%2C+Brazil&q=Vit%C3%B3ria%2C+Vit%C3%B3ria%2C+Esp%C3%ADrito+Santo%2C+Brazil&q=Es%2C+Vit%C3%B3ria%2C+Esp%C3%ADrito+Santo%2C+Brazil&q=Brazil%2C+Vit%C3%B3ria%2C+Esp%C3%ADrito+Santo%2C+Brazil&o=json&inclnb=1&key=ArM0cQoiG2wDASYT7dhCsWjYFKjIHq4wwKa7lLuMYspeXTdJnXimERp8Nsot5G0I&maxResults=1\n",
      "Status code 400 from http://dev.virtualearth.net/REST/v1/Locations: ERROR - 400 Client Error: Bad Request for url: http://dev.virtualearth.net/REST/v1/Locations?q=Fradinhos%2C+Vit%C3%B3ria%2C+Esp%C3%ADrito+Santo%2C+Brazil&q=Ok%2C+Vit%C3%B3ria%2C+Esp%C3%ADrito+Santo%2C+Brazil&q=nan&q=nan&q=Fradinhos%2C+Vit%C3%B3ria%2C+Esp%C3%ADrito+Santo%2C+Brazil&q=Vit%C3%B3ria%2C+Vit%C3%B3ria%2C+Esp%C3%ADrito+Santo%2C+Brazil&q=Es%2C+Vit%C3%B3ria%2C+Esp%C3%ADrito+Santo%2C+Brazil&q=Brazil%2C+Vit%C3%B3ria%2C+Esp%C3%ADrito+Santo%2C+Brazil&o=json&inclnb=1&key=ArM0cQoiG2wDASYT7dhCsWjYFKjIHq4wwKa7lLuMYspeXTdJnXimERp8Nsot5G0I&maxResults=1\n",
      "Status code 400 from http://dev.virtualearth.net/REST/v1/Locations: ERROR - 400 Client Error: Bad Request for url: http://dev.virtualearth.net/REST/v1/Locations?q=Enseada+Do+Su%C3%A1%2C+Vit%C3%B3ria%2C+Esp%C3%ADrito+Santo%2C+Brazil&q=Ok%2C+Vit%C3%B3ria%2C+Esp%C3%ADrito+Santo%2C+Brazil&q=nan&q=nan&q=Enseada+Do+Su%C3%A1%2C+Vit%C3%B3ria%2C+Esp%C3%ADrito+Santo%2C+Brazil&q=Vit%C3%B3ria%2C+Vit%C3%B3ria%2C+Esp%C3%ADrito+Santo%2C+Brazil&q=Es%2C+Vit%C3%B3ria%2C+Esp%C3%ADrito+Santo%2C+Brazil&q=Brazil%2C+Vit%C3%B3ria%2C+Esp%C3%ADrito+Santo%2C+Brazil&o=json&inclnb=1&key=ArM0cQoiG2wDASYT7dhCsWjYFKjIHq4wwKa7lLuMYspeXTdJnXimERp8Nsot5G0I&maxResults=1\n",
      "Status code 400 from http://dev.virtualearth.net/REST/v1/Locations: ERROR - 400 Client Error: Bad Request for url: http://dev.virtualearth.net/REST/v1/Locations?q=Santa+Helena%2C+Vit%C3%B3ria%2C+Esp%C3%ADrito+Santo%2C+Brazil&q=Ok%2C+Vit%C3%B3ria%2C+Esp%C3%ADrito+Santo%2C+Brazil&q=nan&q=nan&q=Santa+Helena%2C+Vit%C3%B3ria%2C+Esp%C3%ADrito+Santo%2C+Brazil&q=Vit%C3%B3ria%2C+Vit%C3%B3ria%2C+Esp%C3%ADrito+Santo%2C+Brazil&q=Es%2C+Vit%C3%B3ria%2C+Esp%C3%ADrito+Santo%2C+Brazil&q=Brazil%2C+Vit%C3%B3ria%2C+Esp%C3%ADrito+Santo%2C+Brazil&o=json&inclnb=1&key=ArM0cQoiG2wDASYT7dhCsWjYFKjIHq4wwKa7lLuMYspeXTdJnXimERp8Nsot5G0I&maxResults=1\n",
      "Status code 400 from http://dev.virtualearth.net/REST/v1/Locations: ERROR - 400 Client Error: Bad Request for url: http://dev.virtualearth.net/REST/v1/Locations?q=Horto%2C+Vit%C3%B3ria%2C+Esp%C3%ADrito+Santo%2C+Brazil&q=Ok%2C+Vit%C3%B3ria%2C+Esp%C3%ADrito+Santo%2C+Brazil&q=nan&q=nan&q=Horto%2C+Vit%C3%B3ria%2C+Esp%C3%ADrito+Santo%2C+Brazil&q=Vit%C3%B3ria%2C+Vit%C3%B3ria%2C+Esp%C3%ADrito+Santo%2C+Brazil&q=Es%2C+Vit%C3%B3ria%2C+Esp%C3%ADrito+Santo%2C+Brazil&q=Brazil%2C+Vit%C3%B3ria%2C+Esp%C3%ADrito+Santo%2C+Brazil&o=json&inclnb=1&key=ArM0cQoiG2wDASYT7dhCsWjYFKjIHq4wwKa7lLuMYspeXTdJnXimERp8Nsot5G0I&maxResults=1\n",
      "Status code 400 from http://dev.virtualearth.net/REST/v1/Locations: ERROR - 400 Client Error: Bad Request for url: http://dev.virtualearth.net/REST/v1/Locations?q=Universit%C3%A1rio%2C+Vit%C3%B3ria%2C+Esp%C3%ADrito+Santo%2C+Brazil&q=Ok%2C+Vit%C3%B3ria%2C+Esp%C3%ADrito+Santo%2C+Brazil&q=nan&q=nan&q=Universit%C3%A1rio%2C+Vit%C3%B3ria%2C+Esp%C3%ADrito+Santo%2C+Brazil&q=Vit%C3%B3ria%2C+Vit%C3%B3ria%2C+Esp%C3%ADrito+Santo%2C+Brazil&q=Es%2C+Vit%C3%B3ria%2C+Esp%C3%ADrito+Santo%2C+Brazil&q=Brazil%2C+Vit%C3%B3ria%2C+Esp%C3%ADrito+Santo%2C+Brazil&o=json&inclnb=1&key=ArM0cQoiG2wDASYT7dhCsWjYFKjIHq4wwKa7lLuMYspeXTdJnXimERp8Nsot5G0I&maxResults=1\n",
      "Status code 400 from http://dev.virtualearth.net/REST/v1/Locations: ERROR - 400 Client Error: Bad Request for url: http://dev.virtualearth.net/REST/v1/Locations?q=Seguran%C3%A7a+Do+Lar%2C+Vit%C3%B3ria%2C+Esp%C3%ADrito+Santo%2C+Brazil&q=Ok%2C+Vit%C3%B3ria%2C+Esp%C3%ADrito+Santo%2C+Brazil&q=nan&q=nan&q=Seguran%C3%A7a+Do+Lar%2C+Vit%C3%B3ria%2C+Esp%C3%ADrito+Santo%2C+Brazil&q=Vit%C3%B3ria%2C+Vit%C3%B3ria%2C+Esp%C3%ADrito+Santo%2C+Brazil&q=Es%2C+Vit%C3%B3ria%2C+Esp%C3%ADrito+Santo%2C+Brazil&q=Brazil%2C+Vit%C3%B3ria%2C+Esp%C3%ADrito+Santo%2C+Brazil&o=json&inclnb=1&key=ArM0cQoiG2wDASYT7dhCsWjYFKjIHq4wwKa7lLuMYspeXTdJnXimERp8Nsot5G0I&maxResults=1\n",
      "Status code 400 from http://dev.virtualearth.net/REST/v1/Locations: ERROR - 400 Client Error: Bad Request for url: http://dev.virtualearth.net/REST/v1/Locations?q=Nazareth%2C+Vit%C3%B3ria%2C+Esp%C3%ADrito+Santo%2C+Brazil&q=Ok%2C+Vit%C3%B3ria%2C+Esp%C3%ADrito+Santo%2C+Brazil&q=nan&q=nan&q=nan&q=Vit%C3%B3ria%2C+Vit%C3%B3ria%2C+Esp%C3%ADrito+Santo%2C+Brazil&q=Es%2C+Vit%C3%B3ria%2C+Esp%C3%ADrito+Santo%2C+Brazil&q=Brazil%2C+Vit%C3%B3ria%2C+Esp%C3%ADrito+Santo%2C+Brazil&o=json&inclnb=1&key=ArM0cQoiG2wDASYT7dhCsWjYFKjIHq4wwKa7lLuMYspeXTdJnXimERp8Nsot5G0I&maxResults=1\n",
      "Status code 400 from http://dev.virtualearth.net/REST/v1/Locations: ERROR - 400 Client Error: Bad Request for url: http://dev.virtualearth.net/REST/v1/Locations?q=Morada+De+Camburi%2C+Vit%C3%B3ria%2C+Esp%C3%ADrito+Santo%2C+Brazil&q=Ok%2C+Vit%C3%B3ria%2C+Esp%C3%ADrito+Santo%2C+Brazil&q=nan&q=nan&q=Morada+De+Camburi%2C+Vit%C3%B3ria%2C+Esp%C3%ADrito+Santo%2C+Brazil&q=Vit%C3%B3ria%2C+Vit%C3%B3ria%2C+Esp%C3%ADrito+Santo%2C+Brazil&q=Es%2C+Vit%C3%B3ria%2C+Esp%C3%ADrito+Santo%2C+Brazil&q=Brazil%2C+Vit%C3%B3ria%2C+Esp%C3%ADrito+Santo%2C+Brazil&o=json&inclnb=1&key=ArM0cQoiG2wDASYT7dhCsWjYFKjIHq4wwKa7lLuMYspeXTdJnXimERp8Nsot5G0I&maxResults=1\n",
      "Status code 400 from http://dev.virtualearth.net/REST/v1/Locations: ERROR - 400 Client Error: Bad Request for url: http://dev.virtualearth.net/REST/v1/Locations?q=Pontal+De+Camburi%2C+Vit%C3%B3ria%2C+Esp%C3%ADrito+Santo%2C+Brazil&q=Ok%2C+Vit%C3%B3ria%2C+Esp%C3%ADrito+Santo%2C+Brazil&q=nan&q=nan&q=Pontal+De+Cambur%C3%AD%2C+Vit%C3%B3ria%2C+Esp%C3%ADrito+Santo%2C+Brazil&q=Vit%C3%B3ria%2C+Vit%C3%B3ria%2C+Esp%C3%ADrito+Santo%2C+Brazil&q=Es%2C+Vit%C3%B3ria%2C+Esp%C3%ADrito+Santo%2C+Brazil&q=Brazil%2C+Vit%C3%B3ria%2C+Esp%C3%ADrito+Santo%2C+Brazil&o=json&inclnb=1&key=ArM0cQoiG2wDASYT7dhCsWjYFKjIHq4wwKa7lLuMYspeXTdJnXimERp8Nsot5G0I&maxResults=1\n",
      "Status code 400 from http://dev.virtualearth.net/REST/v1/Locations: ERROR - 400 Client Error: Bad Request for url: http://dev.virtualearth.net/REST/v1/Locations?q=Ilha+Do+Boi%2C+Vit%C3%B3ria%2C+Esp%C3%ADrito+Santo%2C+Brazil&q=Ok%2C+Vit%C3%B3ria%2C+Esp%C3%ADrito+Santo%2C+Brazil&q=nan&q=nan&q=Ilha+Do+Boi%2C+Vit%C3%B3ria%2C+Esp%C3%ADrito+Santo%2C+Brazil&q=Vit%C3%B3ria%2C+Vit%C3%B3ria%2C+Esp%C3%ADrito+Santo%2C+Brazil&q=Es%2C+Vit%C3%B3ria%2C+Esp%C3%ADrito+Santo%2C+Brazil&q=Brazil%2C+Vit%C3%B3ria%2C+Esp%C3%ADrito+Santo%2C+Brazil&o=json&inclnb=1&key=ArM0cQoiG2wDASYT7dhCsWjYFKjIHq4wwKa7lLuMYspeXTdJnXimERp8Nsot5G0I&maxResults=1\n"
     ]
    },
    {
     "name": "stderr",
     "output_type": "stream",
     "text": [
      "Status code 400 from http://dev.virtualearth.net/REST/v1/Locations: ERROR - 400 Client Error: Bad Request for url: http://dev.virtualearth.net/REST/v1/Locations?q=Ilha+Do+Frade%2C+Vit%C3%B3ria%2C+Esp%C3%ADrito+Santo%2C+Brazil&q=Ok%2C+Vit%C3%B3ria%2C+Esp%C3%ADrito+Santo%2C+Brazil&q=nan&q=nan&q=Ilha+Do+Frade%2C+Vit%C3%B3ria%2C+Esp%C3%ADrito+Santo%2C+Brazil&q=Vit%C3%B3ria%2C+Vit%C3%B3ria%2C+Esp%C3%ADrito+Santo%2C+Brazil&q=Es%2C+Vit%C3%B3ria%2C+Esp%C3%ADrito+Santo%2C+Brazil&q=Brazil%2C+Vit%C3%B3ria%2C+Esp%C3%ADrito+Santo%2C+Brazil&o=json&inclnb=1&key=ArM0cQoiG2wDASYT7dhCsWjYFKjIHq4wwKa7lLuMYspeXTdJnXimERp8Nsot5G0I&maxResults=1\n",
      "Status code 400 from http://dev.virtualearth.net/REST/v1/Locations: ERROR - 400 Client Error: Bad Request for url: http://dev.virtualearth.net/REST/v1/Locations?q=Aeroporto%2C+Vit%C3%B3ria%2C+Esp%C3%ADrito+Santo%2C+Brazil&q=Ok%2C+Vit%C3%B3ria%2C+Esp%C3%ADrito+Santo%2C+Brazil&q=nan&q=nan&q=Aeroporto%2C+Vit%C3%B3ria%2C+Esp%C3%ADrito+Santo%2C+Brazil&q=Vit%C3%B3ria%2C+Vit%C3%B3ria%2C+Esp%C3%ADrito+Santo%2C+Brazil&q=Es%2C+Vit%C3%B3ria%2C+Esp%C3%ADrito+Santo%2C+Brazil&q=Brazil%2C+Vit%C3%B3ria%2C+Esp%C3%ADrito+Santo%2C+Brazil&o=json&inclnb=1&key=ArM0cQoiG2wDASYT7dhCsWjYFKjIHq4wwKa7lLuMYspeXTdJnXimERp8Nsot5G0I&maxResults=1\n",
      "Status code 400 from http://dev.virtualearth.net/REST/v1/Locations: ERROR - 400 Client Error: Bad Request for url: http://dev.virtualearth.net/REST/v1/Locations?q=Ilhas+Oce%C3%A2nicas+De+Trindade%2C+Vit%C3%B3ria%2C+Esp%C3%ADrito+Santo%2C+Brazil&q=Ok%2C+Vit%C3%B3ria%2C+Esp%C3%ADrito+Santo%2C+Brazil&q=nan&q=nan&q=nan&q=Vit%C3%B3ria%2C+Vit%C3%B3ria%2C+Esp%C3%ADrito+Santo%2C+Brazil&q=Es%2C+Vit%C3%B3ria%2C+Esp%C3%ADrito+Santo%2C+Brazil&q=Brazil%2C+Vit%C3%B3ria%2C+Esp%C3%ADrito+Santo%2C+Brazil&o=json&inclnb=1&key=ArM0cQoiG2wDASYT7dhCsWjYFKjIHq4wwKa7lLuMYspeXTdJnXimERp8Nsot5G0I&maxResults=1\n",
      "Status code 400 from http://dev.virtualearth.net/REST/v1/Locations: ERROR - 400 Client Error: Bad Request for url: http://dev.virtualearth.net/REST/v1/Locations?q=Parque+Industrial%2C+Vit%C3%B3ria%2C+Esp%C3%ADrito+Santo%2C+Brazil&q=Ok%2C+Vit%C3%B3ria%2C+Esp%C3%ADrito+Santo%2C+Brazil&q=nan&q=nan&q=Parque+Industrial%2C+Vit%C3%B3ria%2C+Esp%C3%ADrito+Santo%2C+Brazil&q=Vit%C3%B3ria%2C+Vit%C3%B3ria%2C+Esp%C3%ADrito+Santo%2C+Brazil&q=Es%2C+Vit%C3%B3ria%2C+Esp%C3%ADrito+Santo%2C+Brazil&q=Brazil%2C+Vit%C3%B3ria%2C+Esp%C3%ADrito+Santo%2C+Brazil&o=json&inclnb=1&key=ArM0cQoiG2wDASYT7dhCsWjYFKjIHq4wwKa7lLuMYspeXTdJnXimERp8Nsot5G0I&maxResults=1\n"
     ]
    }
   ],
   "source": [
    "# Geocode the neighborhood data\n",
    "for i, row in geo.iterrows():\n",
    "    # Use Bing\n",
    "    full_neighborhood = row.str.title() + ', Vitória, Espírito Santo, Brazil'\n",
    "    result = geocoder.bing(full_neighborhood, key=API_KEY)\n",
    "    geo.set_value(i, 'status', result.status) \n",
    "    geo.set_value(i, 'lat', result.lat)\n",
    "    geo.set_value(i, 'lng', result.lng)\n",
    "    geo.set_value(i, 'bing_neighborhood', result.neighborhood)    \n",
    "    geo.set_value(i, 'city', result.city)\n",
    "    geo.set_value(i, 'state', result.state)\n",
    "    geo.set_value(i, 'country', result.country)\n",
    "    \n",
    "    # If Bing returns None for neighborhood, use Google\n",
    "    if geo.loc[i, 'bing_neighborhood'] is None:\n",
    "        result = geocoder.google(full_neighborhood)\n",
    "        geo.set_value(i, 'status', result.status) \n",
    "        geo.set_value(i, 'lat', result.lat)\n",
    "        geo.set_value(i, 'lng', result.lng)\n",
    "        if result.county == 'Vitória': # Google uses county when Bing uses city\n",
    "            geo.set_value(i, 'city', result.county)\n",
    "        geo.set_value(i, 'state', result.state)\n",
    "        if result.country == 'BR':\n",
    "            geo.set_value(i, 'country', 'Brazil')"
   ]
  },
  {
   "cell_type": "code",
   "execution_count": null,
   "metadata": {},
   "outputs": [],
   "source": [
    "geo.head()"
   ]
  },
  {
   "cell_type": "code",
   "execution_count": null,
   "metadata": {},
   "outputs": [],
   "source": [
    "# Check that all the neighborhoods are unique\n",
    "(geo['bing_neighborhood'].value_counts() == 1).all()"
   ]
  },
  {
   "cell_type": "code",
   "execution_count": null,
   "metadata": {},
   "outputs": [],
   "source": [
    "# Check that each neighborhood returns a unique location\n",
    "not any(geo.duplicated(['lat', 'lng']))"
   ]
  },
  {
   "cell_type": "code",
   "execution_count": null,
   "metadata": {},
   "outputs": [],
   "source": [
    "# Verify that all of the locations are in Vitória, Espírito Santo, Brazil\n",
    "(geo['status'] == 'OK').all()"
   ]
  },
  {
   "cell_type": "code",
   "execution_count": null,
   "metadata": {},
   "outputs": [],
   "source": [
    "(geo['city'] == 'Vitória').all()"
   ]
  },
  {
   "cell_type": "code",
   "execution_count": null,
   "metadata": {},
   "outputs": [],
   "source": [
    "(geo['state'] == 'ES').all()"
   ]
  },
  {
   "cell_type": "code",
   "execution_count": null,
   "metadata": {},
   "outputs": [],
   "source": [
    "(geo['country'] == 'Brazil').all()"
   ]
  },
  {
   "cell_type": "markdown",
   "metadata": {},
   "source": [
    "<a id='cleaning_patient_id'></a>"
   ]
  },
  {
   "cell_type": "markdown",
   "metadata": {},
   "source": [
    "#### Patient ID"
   ]
  },
  {
   "cell_type": "code",
   "execution_count": 54,
   "metadata": {},
   "outputs": [
    {
     "data": {
      "text/plain": [
       "14    39372\n",
       "13    28319\n",
       "15    24919\n",
       "12    12835\n",
       "11     4002\n",
       "10      920\n",
       "9       136\n",
       "8        18\n",
       "5         3\n",
       "6         2\n",
       "7         1\n",
       "Name: PatientID, dtype: int64"
      ]
     },
     "execution_count": 54,
     "metadata": {},
     "output_type": "execute_result"
    }
   ],
   "source": [
    "# Convert patient ID to a string, as it is meant to be an identifier not a number\n",
    "df['PatientID'] = df['PatientID'].astype(int).astype(str)\n",
    "\n",
    "# All identifiers are 7-15 digits long, most have at least 10\n",
    "lens = df['PatientID'].apply(len)\n",
    "pd.value_counts(lens)"
   ]
  },
  {
   "cell_type": "markdown",
   "metadata": {},
   "source": [
    "> Most of the patient IDs are at least 10 digits long.  There is no consistent length for this field, and it is unknown, and impossible to know, if some of these patient identifiers are flawed.  It is an identifier and does not need to be operated on or with, therefore none of these records will be removed."
   ]
  },
  {
   "cell_type": "code",
   "execution_count": 55,
   "metadata": {},
   "outputs": [
    {
     "data": {
      "text/html": [
       "<div>\n",
       "<style scoped>\n",
       "    .dataframe tbody tr th:only-of-type {\n",
       "        vertical-align: middle;\n",
       "    }\n",
       "\n",
       "    .dataframe tbody tr th {\n",
       "        vertical-align: top;\n",
       "    }\n",
       "\n",
       "    .dataframe thead th {\n",
       "        text-align: right;\n",
       "    }\n",
       "</style>\n",
       "<table border=\"1\" class=\"dataframe\">\n",
       "  <thead>\n",
       "    <tr style=\"text-align: right;\">\n",
       "      <th></th>\n",
       "      <th>Gender</th>\n",
       "      <th>Age</th>\n",
       "    </tr>\n",
       "    <tr>\n",
       "      <th>PatientID</th>\n",
       "      <th></th>\n",
       "      <th></th>\n",
       "    </tr>\n",
       "  </thead>\n",
       "  <tbody>\n",
       "    <tr>\n",
       "      <th>11111462625267</th>\n",
       "      <td>1</td>\n",
       "      <td>1</td>\n",
       "    </tr>\n",
       "    <tr>\n",
       "      <th>111124532532143</th>\n",
       "      <td>1</td>\n",
       "      <td>1</td>\n",
       "    </tr>\n",
       "    <tr>\n",
       "      <th>11114485119737</th>\n",
       "      <td>1</td>\n",
       "      <td>1</td>\n",
       "    </tr>\n",
       "    <tr>\n",
       "      <th>11116239871275</th>\n",
       "      <td>1</td>\n",
       "      <td>1</td>\n",
       "    </tr>\n",
       "    <tr>\n",
       "      <th>1111633122891</th>\n",
       "      <td>1</td>\n",
       "      <td>1</td>\n",
       "    </tr>\n",
       "  </tbody>\n",
       "</table>\n",
       "</div>"
      ],
      "text/plain": [
       "                 Gender  Age\n",
       "PatientID                   \n",
       "11111462625267        1    1\n",
       "111124532532143       1    1\n",
       "11114485119737        1    1\n",
       "11116239871275        1    1\n",
       "1111633122891         1    1"
      ]
     },
     "execution_count": 55,
     "metadata": {},
     "output_type": "execute_result"
    }
   ],
   "source": [
    "unique_vals = df.groupby('PatientID')[['Gender','Age']].nunique()\n",
    "unique_vals.head()"
   ]
  },
  {
   "cell_type": "code",
   "execution_count": 57,
   "metadata": {},
   "outputs": [
    {
     "data": {
      "text/html": [
       "<div>\n",
       "<style scoped>\n",
       "    .dataframe tbody tr th:only-of-type {\n",
       "        vertical-align: middle;\n",
       "    }\n",
       "\n",
       "    .dataframe tbody tr th {\n",
       "        vertical-align: top;\n",
       "    }\n",
       "\n",
       "    .dataframe thead th {\n",
       "        text-align: right;\n",
       "    }\n",
       "</style>\n",
       "<table border=\"1\" class=\"dataframe\">\n",
       "  <thead>\n",
       "    <tr style=\"text-align: right;\">\n",
       "      <th></th>\n",
       "      <th>PatientID</th>\n",
       "      <th>Gender</th>\n",
       "      <th>Age</th>\n",
       "    </tr>\n",
       "  </thead>\n",
       "  <tbody>\n",
       "    <tr>\n",
       "      <th>0</th>\n",
       "      <td>112114682124172</td>\n",
       "      <td>1</td>\n",
       "      <td>2</td>\n",
       "    </tr>\n",
       "    <tr>\n",
       "      <th>1</th>\n",
       "      <td>11238367556569</td>\n",
       "      <td>1</td>\n",
       "      <td>2</td>\n",
       "    </tr>\n",
       "    <tr>\n",
       "      <th>2</th>\n",
       "      <td>1124242331227</td>\n",
       "      <td>1</td>\n",
       "      <td>2</td>\n",
       "    </tr>\n",
       "    <tr>\n",
       "      <th>3</th>\n",
       "      <td>1126541547466</td>\n",
       "      <td>1</td>\n",
       "      <td>2</td>\n",
       "    </tr>\n",
       "    <tr>\n",
       "      <th>4</th>\n",
       "      <td>112777857389857</td>\n",
       "      <td>1</td>\n",
       "      <td>2</td>\n",
       "    </tr>\n",
       "  </tbody>\n",
       "</table>\n",
       "</div>"
      ],
      "text/plain": [
       "         PatientID  Gender  Age\n",
       "0  112114682124172       1    2\n",
       "1   11238367556569       1    2\n",
       "2    1124242331227       1    2\n",
       "3    1126541547466       1    2\n",
       "4  112777857389857       1    2"
      ]
     },
     "execution_count": 57,
     "metadata": {},
     "output_type": "execute_result"
    }
   ],
   "source": [
    "not_unique = unique_vals[(unique_vals['Gender'] > 1) | (unique_vals['Age'] > 1)]\n",
    "not_unique = not_unique.reset_index()\n",
    "not_unique.head()"
   ]
  },
  {
   "cell_type": "code",
   "execution_count": 59,
   "metadata": {},
   "outputs": [
    {
     "data": {
      "text/plain": [
       "0    112114682124172\n",
       "1     11238367556569\n",
       "2      1124242331227\n",
       "3      1126541547466\n",
       "4    112777857389857\n",
       "Name: PatientID, dtype: object"
      ]
     },
     "execution_count": 59,
     "metadata": {},
     "output_type": "execute_result"
    }
   ],
   "source": [
    "multiple_info_ids = not_unique['PatientID']\n",
    "multiple_info_ids.head()"
   ]
  },
  {
   "cell_type": "code",
   "execution_count": 62,
   "metadata": {},
   "outputs": [
    {
     "data": {
      "text/html": [
       "<div>\n",
       "<style scoped>\n",
       "    .dataframe tbody tr th:only-of-type {\n",
       "        vertical-align: middle;\n",
       "    }\n",
       "\n",
       "    .dataframe tbody tr th {\n",
       "        vertical-align: top;\n",
       "    }\n",
       "\n",
       "    .dataframe thead th {\n",
       "        text-align: right;\n",
       "    }\n",
       "</style>\n",
       "<table border=\"1\" class=\"dataframe\">\n",
       "  <thead>\n",
       "    <tr style=\"text-align: right;\">\n",
       "      <th></th>\n",
       "      <th>PatientID</th>\n",
       "      <th>AppointmentID</th>\n",
       "      <th>Gender</th>\n",
       "      <th>ScheduledDay</th>\n",
       "      <th>AppointmentDay</th>\n",
       "      <th>Age</th>\n",
       "      <th>Neighborhood</th>\n",
       "      <th>BolsaFamilia</th>\n",
       "      <th>Hypertension</th>\n",
       "      <th>Diabetes</th>\n",
       "      <th>Alcoholism</th>\n",
       "      <th>NumHandicaps</th>\n",
       "      <th>SMSReceived</th>\n",
       "      <th>NoShow</th>\n",
       "    </tr>\n",
       "  </thead>\n",
       "  <tbody>\n",
       "    <tr>\n",
       "      <th>3850</th>\n",
       "      <td>112114682124172</td>\n",
       "      <td>5490237</td>\n",
       "      <td>F</td>\n",
       "      <td>2016-03-18 14:26:03</td>\n",
       "      <td>2016-05-02</td>\n",
       "      <td>0</td>\n",
       "      <td>RESISTÊNCIA</td>\n",
       "      <td>0</td>\n",
       "      <td>0</td>\n",
       "      <td>0</td>\n",
       "      <td>0</td>\n",
       "      <td>0</td>\n",
       "      <td>1</td>\n",
       "      <td>1</td>\n",
       "    </tr>\n",
       "    <tr>\n",
       "      <th>110232</th>\n",
       "      <td>112114682124172</td>\n",
       "      <td>5676082</td>\n",
       "      <td>F</td>\n",
       "      <td>2016-05-09 14:56:13</td>\n",
       "      <td>2016-06-08</td>\n",
       "      <td>1</td>\n",
       "      <td>RESISTÊNCIA</td>\n",
       "      <td>0</td>\n",
       "      <td>0</td>\n",
       "      <td>0</td>\n",
       "      <td>0</td>\n",
       "      <td>0</td>\n",
       "      <td>1</td>\n",
       "      <td>1</td>\n",
       "    </tr>\n",
       "    <tr>\n",
       "      <th>10283</th>\n",
       "      <td>11238367556569</td>\n",
       "      <td>5723118</td>\n",
       "      <td>F</td>\n",
       "      <td>2016-05-20 07:58:35</td>\n",
       "      <td>2016-05-20</td>\n",
       "      <td>29</td>\n",
       "      <td>ROMÃO</td>\n",
       "      <td>0</td>\n",
       "      <td>1</td>\n",
       "      <td>0</td>\n",
       "      <td>0</td>\n",
       "      <td>0</td>\n",
       "      <td>0</td>\n",
       "      <td>0</td>\n",
       "    </tr>\n",
       "    <tr>\n",
       "      <th>19089</th>\n",
       "      <td>11238367556569</td>\n",
       "      <td>5675794</td>\n",
       "      <td>F</td>\n",
       "      <td>2016-05-09 14:21:41</td>\n",
       "      <td>2016-05-13</td>\n",
       "      <td>28</td>\n",
       "      <td>ROMÃO</td>\n",
       "      <td>0</td>\n",
       "      <td>1</td>\n",
       "      <td>0</td>\n",
       "      <td>0</td>\n",
       "      <td>0</td>\n",
       "      <td>0</td>\n",
       "      <td>0</td>\n",
       "    </tr>\n",
       "    <tr>\n",
       "      <th>19091</th>\n",
       "      <td>11238367556569</td>\n",
       "      <td>5675795</td>\n",
       "      <td>F</td>\n",
       "      <td>2016-05-09 14:21:41</td>\n",
       "      <td>2016-05-13</td>\n",
       "      <td>28</td>\n",
       "      <td>ROMÃO</td>\n",
       "      <td>0</td>\n",
       "      <td>1</td>\n",
       "      <td>0</td>\n",
       "      <td>0</td>\n",
       "      <td>0</td>\n",
       "      <td>0</td>\n",
       "      <td>0</td>\n",
       "    </tr>\n",
       "  </tbody>\n",
       "</table>\n",
       "</div>"
      ],
      "text/plain": [
       "              PatientID AppointmentID Gender        ScheduledDay  \\\n",
       "3850    112114682124172       5490237      F 2016-03-18 14:26:03   \n",
       "110232  112114682124172       5676082      F 2016-05-09 14:56:13   \n",
       "10283    11238367556569       5723118      F 2016-05-20 07:58:35   \n",
       "19089    11238367556569       5675794      F 2016-05-09 14:21:41   \n",
       "19091    11238367556569       5675795      F 2016-05-09 14:21:41   \n",
       "\n",
       "       AppointmentDay  Age Neighborhood  BolsaFamilia  Hypertension  Diabetes  \\\n",
       "3850       2016-05-02    0  RESISTÊNCIA             0             0         0   \n",
       "110232     2016-06-08    1  RESISTÊNCIA             0             0         0   \n",
       "10283      2016-05-20   29        ROMÃO             0             1         0   \n",
       "19089      2016-05-13   28        ROMÃO             0             1         0   \n",
       "19091      2016-05-13   28        ROMÃO             0             1         0   \n",
       "\n",
       "        Alcoholism  NumHandicaps  SMSReceived  NoShow  \n",
       "3850             0             0            1       1  \n",
       "110232           0             0            1       1  \n",
       "10283            0             0            0       0  \n",
       "19089            0             0            0       0  \n",
       "19091            0             0            0       0  "
      ]
     },
     "execution_count": 62,
     "metadata": {},
     "output_type": "execute_result"
    }
   ],
   "source": [
    "multiples = df[df['PatientID'].isin(multiple_info_ids)].sort_values('PatientID')\n",
    "multiples.head()"
   ]
  },
  {
   "cell_type": "code",
   "execution_count": 66,
   "metadata": {},
   "outputs": [
    {
     "data": {
      "text/plain": [
       "True"
      ]
     },
     "execution_count": 66,
     "metadata": {},
     "output_type": "execute_result"
    }
   ],
   "source": [
    "max_age = multiples.groupby('PatientID')['Age'].max()\n",
    "min_age = multiples.groupby('PatientID')['Age'].min()\n",
    "age_diff = max_age - min_age\n",
    "age_diff[age_diff <= 1].all()"
   ]
  },
  {
   "cell_type": "code",
   "execution_count": 67,
   "metadata": {},
   "outputs": [
    {
     "data": {
      "text/html": [
       "<div>\n",
       "<style scoped>\n",
       "    .dataframe tbody tr th:only-of-type {\n",
       "        vertical-align: middle;\n",
       "    }\n",
       "\n",
       "    .dataframe tbody tr th {\n",
       "        vertical-align: top;\n",
       "    }\n",
       "\n",
       "    .dataframe thead th {\n",
       "        text-align: right;\n",
       "    }\n",
       "</style>\n",
       "<table border=\"1\" class=\"dataframe\">\n",
       "  <thead>\n",
       "    <tr style=\"text-align: right;\">\n",
       "      <th></th>\n",
       "      <th>PatientID</th>\n",
       "      <th>AppointmentID</th>\n",
       "      <th>Gender</th>\n",
       "      <th>ScheduledDay</th>\n",
       "      <th>AppointmentDay</th>\n",
       "      <th>Age</th>\n",
       "      <th>Neighborhood</th>\n",
       "      <th>BolsaFamilia</th>\n",
       "      <th>Hypertension</th>\n",
       "      <th>Diabetes</th>\n",
       "      <th>Alcoholism</th>\n",
       "      <th>NumHandicaps</th>\n",
       "      <th>SMSReceived</th>\n",
       "      <th>NoShow</th>\n",
       "    </tr>\n",
       "  </thead>\n",
       "  <tbody>\n",
       "    <tr>\n",
       "      <th>32023</th>\n",
       "      <td>999931985292928</td>\n",
       "      <td>5710157</td>\n",
       "      <td>M</td>\n",
       "      <td>2016-05-17 15:22:01</td>\n",
       "      <td>2016-05-17</td>\n",
       "      <td>90</td>\n",
       "      <td>JABOUR</td>\n",
       "      <td>0</td>\n",
       "      <td>0</td>\n",
       "      <td>0</td>\n",
       "      <td>0</td>\n",
       "      <td>0</td>\n",
       "      <td>0</td>\n",
       "      <td>0</td>\n",
       "    </tr>\n",
       "    <tr>\n",
       "      <th>32033</th>\n",
       "      <td>999931985292928</td>\n",
       "      <td>5736368</td>\n",
       "      <td>M</td>\n",
       "      <td>2016-05-25 08:14:58</td>\n",
       "      <td>2016-05-25</td>\n",
       "      <td>90</td>\n",
       "      <td>JABOUR</td>\n",
       "      <td>0</td>\n",
       "      <td>0</td>\n",
       "      <td>0</td>\n",
       "      <td>0</td>\n",
       "      <td>0</td>\n",
       "      <td>0</td>\n",
       "      <td>0</td>\n",
       "    </tr>\n",
       "    <tr>\n",
       "      <th>62099</th>\n",
       "      <td>999931985292928</td>\n",
       "      <td>5700484</td>\n",
       "      <td>M</td>\n",
       "      <td>2016-05-16 09:29:43</td>\n",
       "      <td>2016-05-17</td>\n",
       "      <td>90</td>\n",
       "      <td>JABOUR</td>\n",
       "      <td>0</td>\n",
       "      <td>0</td>\n",
       "      <td>0</td>\n",
       "      <td>0</td>\n",
       "      <td>0</td>\n",
       "      <td>0</td>\n",
       "      <td>0</td>\n",
       "    </tr>\n",
       "    <tr>\n",
       "      <th>62194</th>\n",
       "      <td>999931985292928</td>\n",
       "      <td>5616762</td>\n",
       "      <td>M</td>\n",
       "      <td>2016-04-25 14:46:41</td>\n",
       "      <td>2016-05-04</td>\n",
       "      <td>90</td>\n",
       "      <td>JABOUR</td>\n",
       "      <td>0</td>\n",
       "      <td>0</td>\n",
       "      <td>0</td>\n",
       "      <td>0</td>\n",
       "      <td>0</td>\n",
       "      <td>1</td>\n",
       "      <td>0</td>\n",
       "    </tr>\n",
       "    <tr>\n",
       "      <th>104616</th>\n",
       "      <td>999931985292928</td>\n",
       "      <td>5772701</td>\n",
       "      <td>M</td>\n",
       "      <td>2016-06-03 16:04:03</td>\n",
       "      <td>2016-06-07</td>\n",
       "      <td>90</td>\n",
       "      <td>JABOUR</td>\n",
       "      <td>0</td>\n",
       "      <td>0</td>\n",
       "      <td>0</td>\n",
       "      <td>0</td>\n",
       "      <td>0</td>\n",
       "      <td>1</td>\n",
       "      <td>0</td>\n",
       "    </tr>\n",
       "  </tbody>\n",
       "</table>\n",
       "</div>"
      ],
      "text/plain": [
       "              PatientID AppointmentID Gender        ScheduledDay  \\\n",
       "32023   999931985292928       5710157      M 2016-05-17 15:22:01   \n",
       "32033   999931985292928       5736368      M 2016-05-25 08:14:58   \n",
       "62099   999931985292928       5700484      M 2016-05-16 09:29:43   \n",
       "62194   999931985292928       5616762      M 2016-04-25 14:46:41   \n",
       "104616  999931985292928       5772701      M 2016-06-03 16:04:03   \n",
       "\n",
       "       AppointmentDay  Age Neighborhood  BolsaFamilia  Hypertension  Diabetes  \\\n",
       "32023      2016-05-17   90       JABOUR             0             0         0   \n",
       "32033      2016-05-25   90       JABOUR             0             0         0   \n",
       "62099      2016-05-17   90       JABOUR             0             0         0   \n",
       "62194      2016-05-04   90       JABOUR             0             0         0   \n",
       "104616     2016-06-07   90       JABOUR             0             0         0   \n",
       "\n",
       "        Alcoholism  NumHandicaps  SMSReceived  NoShow  \n",
       "32023            0             0            0       0  \n",
       "32033            0             0            0       0  \n",
       "62099            0             0            0       0  \n",
       "62194            0             0            1       0  \n",
       "104616           0             0            1       0  "
      ]
     },
     "execution_count": 67,
     "metadata": {},
     "output_type": "execute_result"
    }
   ],
   "source": [
    "df[df['PatientID'] == '999931985292928']"
   ]
  },
  {
   "cell_type": "code",
   "execution_count": null,
   "metadata": {},
   "outputs": [],
   "source": []
  },
  {
   "cell_type": "code",
   "execution_count": null,
   "metadata": {},
   "outputs": [],
   "source": []
  },
  {
   "cell_type": "code",
   "execution_count": null,
   "metadata": {},
   "outputs": [],
   "source": []
  },
  {
   "cell_type": "code",
   "execution_count": null,
   "metadata": {},
   "outputs": [],
   "source": []
  },
  {
   "cell_type": "code",
   "execution_count": null,
   "metadata": {},
   "outputs": [],
   "source": []
  },
  {
   "cell_type": "code",
   "execution_count": null,
   "metadata": {},
   "outputs": [],
   "source": []
  },
  {
   "cell_type": "code",
   "execution_count": null,
   "metadata": {},
   "outputs": [],
   "source": []
  },
  {
   "cell_type": "code",
   "execution_count": null,
   "metadata": {},
   "outputs": [],
   "source": []
  },
  {
   "cell_type": "code",
   "execution_count": null,
   "metadata": {},
   "outputs": [],
   "source": []
  },
  {
   "cell_type": "code",
   "execution_count": null,
   "metadata": {},
   "outputs": [],
   "source": []
  },
  {
   "cell_type": "code",
   "execution_count": null,
   "metadata": {},
   "outputs": [],
   "source": []
  }
 ],
 "metadata": {
  "kernelspec": {
   "display_name": "Python 3",
   "language": "python",
   "name": "python3"
  },
  "language_info": {
   "codemirror_mode": {
    "name": "ipython",
    "version": 3
   },
   "file_extension": ".py",
   "mimetype": "text/x-python",
   "name": "python",
   "nbconvert_exporter": "python",
   "pygments_lexer": "ipython3",
   "version": "3.6.4"
  }
 },
 "nbformat": 4,
 "nbformat_minor": 2
}
