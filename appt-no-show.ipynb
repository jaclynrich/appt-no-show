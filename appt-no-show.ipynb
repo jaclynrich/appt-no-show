{
 "cells": [
  {
   "cell_type": "markdown",
   "metadata": {},
   "source": [
    "# Predicting Doctor Appointment No-Shows\n",
    "***\n",
    "\n",
    "## Table of Contents\n",
    "* [Reloading](#reloading)\n",
    "* [Introduction](#introduction)\n",
    "* [Data Wrangling](#data_wrangling)\n",
    "    * [General Properties](#general_properties)\n",
    "    * [Data Cleaning](#data_cleaning)\n",
    "        * [Checking for Duplicates](#cleaning_duplicates)\n",
    "        * [Appointment ID](#cleaning_appointment_id)\n",
    "        * [Scheduled Day](#cleaning_scheduled_day)\n",
    "        * [Appointment Day](#cleaning_appointment_day)\n",
    "        * [Gender](#cleaning_gender)\n",
    "        * [Age](#cleaning_age)\n",
    "        * [Bolsa Familia](#cleaning_bolsa_familia)\n",
    "        * [Hypertension](#cleaning_hypertension)\n",
    "        * [Diabetes](#cleaning_diabetes)\n",
    "        * [Number of Handicaps](#cleaning_number_handicaps)\n",
    "        * [SMS Received](#cleaning_sms_received)\n",
    "        * [No Show](#cleaning_no_show)\n",
    "        * [Neighborhood](#cleaning_neighborhood)\n",
    "        * [Patient ID](#cleaning_patient_id)\n",
    "            * [Patient ID Consistency](#cleaning_patient_id_consistency)\n",
    "* [Additional Data](#addtl_data)\n",
    "* [Feature Engineering](#feat_engineering)\n",
    "* [Exploratory Data Analysis](#eda)\n",
    "    * [Initial Exploration and Further Cleaning](#further_cleaning)\n",
    "    * [Univariate Plots and Analysis](#univariate)"
   ]
  },
  {
   "cell_type": "markdown",
   "metadata": {},
   "source": [
    "<a id='introduction'></a>"
   ]
  },
  {
   "cell_type": "markdown",
   "metadata": {},
   "source": [
    "## Introduction\n",
    "***"
   ]
  },
  {
   "cell_type": "markdown",
   "metadata": {
    "collapsed": true
   },
   "source": [
    "In this project, my aim is to determine what patient characteristics are connected with not showing up to a doctor's appointment by analyzing a data set of over 110K medical appointments in Vitória, Espírito Santo, Brazil provided by JoniHoppen on [Kaggle](https://www.kaggle.com/joniarroba/noshowappointments)."
   ]
  },
  {
   "cell_type": "markdown",
   "metadata": {},
   "source": [
    "<a id='data_wrangling'></a>"
   ]
  },
  {
   "cell_type": "markdown",
   "metadata": {},
   "source": [
    "## Data Wrangling\n",
    "***"
   ]
  },
  {
   "cell_type": "code",
   "execution_count": null,
   "metadata": {},
   "outputs": [],
   "source": [
    "import pandas as pd\n",
    "import numpy as np\n",
    "import geocoder\n",
    "pd.options.mode.chained_assignment = None\n",
    "import matplotlib.pyplot as plt\n",
    "import matplotlib.dates as mdates\n",
    "from matplotlib.lines import Line2D\n",
    "matplotlib.rcParams.update({'font.size': 12.5})\n",
    "import seaborn as sns\n",
    "import folium\n",
    "from folium.plugins import HeatMap\n",
    "import scipy.stats as stats\n",
    "import config\n",
    "API_KEY = config.api_key"
   ]
  },
  {
   "cell_type": "markdown",
   "metadata": {},
   "source": [
    "<a id='general_properties'></a>"
   ]
  },
  {
   "cell_type": "markdown",
   "metadata": {},
   "source": [
    "### General Properties"
   ]
  },
  {
   "cell_type": "code",
   "execution_count": null,
   "metadata": {},
   "outputs": [],
   "source": [
    "orig = pd.read_csv('KaggleV2-May-2016.csv')\n",
    "orig.head()"
   ]
  },
  {
   "cell_type": "code",
   "execution_count": null,
   "metadata": {},
   "outputs": [],
   "source": [
    "# Number of records\n",
    "n = len(orig)\n",
    "n"
   ]
  },
  {
   "cell_type": "code",
   "execution_count": null,
   "metadata": {},
   "outputs": [],
   "source": [
    "# Rename fields to have more consistent formatting and to English where appropriate\n",
    "orig.columns = ['PatientID', 'AppointmentID', 'Gender', 'ScheduledDay',\n",
    "              'AppointmentDay', 'Age', 'Neighborhood', 'BolsaFamilia', \\\n",
    "              'Hypertension', 'Diabetes', 'Alcoholism', 'NumHandicaps', \\\n",
    "              'SMSReceived', 'NoShow']"
   ]
  },
  {
   "cell_type": "code",
   "execution_count": null,
   "metadata": {},
   "outputs": [],
   "source": [
    "# Number of nulls\n",
    "orig.isnull().sum()"
   ]
  },
  {
   "cell_type": "markdown",
   "metadata": {},
   "source": [
    "> There are no null records in any of the fields"
   ]
  },
  {
   "cell_type": "code",
   "execution_count": null,
   "metadata": {},
   "outputs": [],
   "source": [
    "# Data types\n",
    "orig.dtypes"
   ]
  },
  {
   "cell_type": "markdown",
   "metadata": {},
   "source": [
    "<a id='data_cleaning'></a>"
   ]
  },
  {
   "cell_type": "markdown",
   "metadata": {},
   "source": [
    "### Data Cleaning"
   ]
  },
  {
   "cell_type": "markdown",
   "metadata": {},
   "source": [
    "<a id='cleaning_duplicates'></a>"
   ]
  },
  {
   "cell_type": "markdown",
   "metadata": {},
   "source": [
    "#### Checking for Duplicates"
   ]
  },
  {
   "cell_type": "code",
   "execution_count": null,
   "metadata": {},
   "outputs": [],
   "source": [
    "orig.duplicated(keep=False).any()"
   ]
  },
  {
   "cell_type": "code",
   "execution_count": null,
   "metadata": {},
   "outputs": [],
   "source": [
    "orig.duplicated('AppointmentID', keep=False).any()"
   ]
  },
  {
   "cell_type": "markdown",
   "metadata": {},
   "source": [
    "> There are no duplicate entries and no duplicate AppointmentIDs."
   ]
  },
  {
   "cell_type": "markdown",
   "metadata": {},
   "source": [
    "<a id='cleaning_appointment_id'></a>"
   ]
  },
  {
   "cell_type": "markdown",
   "metadata": {},
   "source": [
    "#### Appointment ID"
   ]
  },
  {
   "cell_type": "code",
   "execution_count": null,
   "metadata": {},
   "outputs": [],
   "source": [
    "min_apptID = orig['AppointmentID'].min()\n",
    "max_apptID = orig['AppointmentID'].max()\n",
    "print('{} - {}'.format(min_apptID, max_apptID))"
   ]
  },
  {
   "cell_type": "markdown",
   "metadata": {},
   "source": [
    "> All of the appointment IDs are 7 digits long, and are between these values"
   ]
  },
  {
   "cell_type": "code",
   "execution_count": null,
   "metadata": {},
   "outputs": [],
   "source": [
    "# AppointmentIDs are identifiers, so they are also converted to strings\n",
    "orig['AppointmentID'] = orig['AppointmentID'].astype(str)"
   ]
  },
  {
   "cell_type": "markdown",
   "metadata": {},
   "source": [
    "<a id='cleaning_scheduled_day'></a>"
   ]
  },
  {
   "cell_type": "markdown",
   "metadata": {},
   "source": [
    "#### Scheduled Day\n",
    "ScheduledDay represents the day that a patient created the appointment."
   ]
  },
  {
   "cell_type": "code",
   "execution_count": null,
   "metadata": {},
   "outputs": [],
   "source": [
    "# Convert the scheduled day to a datetime\n",
    "orig['ScheduledDay'] = pd.to_datetime(orig['ScheduledDay'])\n",
    "\n",
    "# Verify that ScheduledDay is in a datetime format\n",
    "orig['ScheduledDay'].dtype"
   ]
  },
  {
   "cell_type": "code",
   "execution_count": null,
   "metadata": {},
   "outputs": [],
   "source": [
    "# Check that the <M8[ns] is a datetime format\n",
    "np.dtype('datetime64[ns]') == np.dtype('<M8[ns]')"
   ]
  },
  {
   "cell_type": "code",
   "execution_count": null,
   "metadata": {},
   "outputs": [],
   "source": [
    "# Verify that all records were converted to valid datetimes\n",
    "np.isnat(orig['ScheduledDay']).sum()"
   ]
  },
  {
   "cell_type": "code",
   "execution_count": null,
   "metadata": {},
   "outputs": [],
   "source": [
    "# Include a field for scheduled day in a date format\n",
    "orig['ScheduledDayDate'] = orig['ScheduledDay'].dt.date"
   ]
  },
  {
   "cell_type": "code",
   "execution_count": null,
   "metadata": {},
   "outputs": [],
   "source": [
    "# The first date and time an appointment was scheduled \n",
    "np.min(orig['ScheduledDay'])"
   ]
  },
  {
   "cell_type": "code",
   "execution_count": null,
   "metadata": {},
   "outputs": [],
   "source": [
    "# The last date and time an appointment was scheduled \n",
    "np.max(orig['ScheduledDay'])"
   ]
  },
  {
   "cell_type": "code",
   "execution_count": null,
   "metadata": {},
   "outputs": [],
   "source": [
    "np.max(orig['ScheduledDay']) - np.min(orig['ScheduledDay'])"
   ]
  },
  {
   "cell_type": "markdown",
   "metadata": {},
   "source": [
    "> All appointments are created within an about 7-month time frame."
   ]
  },
  {
   "cell_type": "markdown",
   "metadata": {},
   "source": [
    "<a id='cleaning_appointment_day'></a>"
   ]
  },
  {
   "cell_type": "markdown",
   "metadata": {},
   "source": [
    "#### Appointment Day\n",
    "AppointmentDay is the day of the doctor's appointment."
   ]
  },
  {
   "cell_type": "code",
   "execution_count": null,
   "metadata": {},
   "outputs": [],
   "source": [
    "# Convert the appointment day to a datetime\n",
    "orig['AppointmentDay'] = pd.to_datetime(orig['AppointmentDay'])\n",
    "\n",
    "# Verify that AppointmentDay is in a datetime format\n",
    "orig['AppointmentDay'].dtype"
   ]
  },
  {
   "cell_type": "code",
   "execution_count": null,
   "metadata": {},
   "outputs": [],
   "source": [
    "# Verify that all records were converted to valid datetimes\n",
    "np.isnat(orig['AppointmentDay']).sum()"
   ]
  },
  {
   "cell_type": "code",
   "execution_count": null,
   "metadata": {},
   "outputs": [],
   "source": [
    "# Since appointment day doesn't have a time, include another field for \n",
    "# it in a date format\n",
    "orig['AppointmentDayDate'] = orig['AppointmentDay'].dt.date\n",
    "\n",
    "# The first scheduled appointment\n",
    "np.min(orig['AppointmentDay'])"
   ]
  },
  {
   "cell_type": "code",
   "execution_count": null,
   "metadata": {},
   "outputs": [],
   "source": [
    "# The last scheduled appointment\n",
    "np.max(orig['AppointmentDay'])"
   ]
  },
  {
   "cell_type": "code",
   "execution_count": null,
   "metadata": {},
   "outputs": [],
   "source": [
    "np.max(orig['AppointmentDay']) - np.min(orig['AppointmentDay'])"
   ]
  },
  {
   "cell_type": "markdown",
   "metadata": {},
   "source": [
    "> While the appointments were scheduled during a 7-month period, they all were scheduled for a 40-day period."
   ]
  },
  {
   "cell_type": "markdown",
   "metadata": {},
   "source": [
    "<a id='cleaning_gender'></a>"
   ]
  },
  {
   "cell_type": "markdown",
   "metadata": {},
   "source": [
    "#### Gender"
   ]
  },
  {
   "cell_type": "code",
   "execution_count": null,
   "metadata": {},
   "outputs": [],
   "source": [
    "# Gender data is clean\n",
    "orig['Gender'].value_counts()"
   ]
  },
  {
   "cell_type": "code",
   "execution_count": null,
   "metadata": {},
   "outputs": [],
   "source": [
    "# Encode gender as binary, 0 = male, 1 = female \n",
    "orig['Gender'] = np.where(orig['Gender'].values == 'F', 1, 0)\n",
    "orig['Gender'].value_counts()"
   ]
  },
  {
   "cell_type": "markdown",
   "metadata": {},
   "source": [
    "<a id='cleaning_age'></a>"
   ]
  },
  {
   "cell_type": "markdown",
   "metadata": {},
   "source": [
    "#### Age"
   ]
  },
  {
   "cell_type": "code",
   "execution_count": null,
   "metadata": {},
   "outputs": [],
   "source": [
    "age_counts = orig['Age'].value_counts()\n",
    "age_counts.index.sort_values()"
   ]
  },
  {
   "cell_type": "code",
   "execution_count": null,
   "metadata": {},
   "outputs": [],
   "source": [
    "# Drop the record with an age of -1\n",
    "invalid_age = orig[orig['Age'] == -1]['PatientID']\n",
    "orig.drop(invalid_age.index, inplace=True)"
   ]
  },
  {
   "cell_type": "markdown",
   "metadata": {},
   "source": [
    "> I removed the record with the age of -1.  All of the other ages are plausible; although the age of 115 is improbable, it is still possible."
   ]
  },
  {
   "cell_type": "markdown",
   "metadata": {},
   "source": [
    "<a id='cleaning_bolsa_familia'></a>"
   ]
  },
  {
   "cell_type": "markdown",
   "metadata": {},
   "source": [
    "#### Bolsa Família"
   ]
  },
  {
   "cell_type": "markdown",
   "metadata": {},
   "source": [
    "[Bolsa Família](https://en.wikipedia.org/wiki/Bolsa_Fam%C3%ADlia) is a social welfare program in Brazil.  A value of 1 for this field means that the patient receives financial aid from the Brazilian government under this progrm."
   ]
  },
  {
   "cell_type": "code",
   "execution_count": null,
   "metadata": {},
   "outputs": [],
   "source": [
    "# BolsaFamilia data is clean\n",
    "orig['BolsaFamilia'].value_counts()"
   ]
  },
  {
   "cell_type": "markdown",
   "metadata": {},
   "source": [
    "<a id='cleaning_hypertension'></a>"
   ]
  },
  {
   "cell_type": "markdown",
   "metadata": {},
   "source": [
    "#### Hypertension"
   ]
  },
  {
   "cell_type": "code",
   "execution_count": null,
   "metadata": {},
   "outputs": [],
   "source": [
    "# Hypertension data is clean\n",
    "orig['Hypertension'].value_counts()"
   ]
  },
  {
   "cell_type": "markdown",
   "metadata": {},
   "source": [
    "<a id='cleaning_diabetes'></a>"
   ]
  },
  {
   "cell_type": "markdown",
   "metadata": {},
   "source": [
    "#### Diabetes"
   ]
  },
  {
   "cell_type": "code",
   "execution_count": null,
   "metadata": {},
   "outputs": [],
   "source": [
    "# Diabetes data is clean\n",
    "orig['Diabetes'].value_counts()"
   ]
  },
  {
   "cell_type": "markdown",
   "metadata": {},
   "source": [
    "<a id='cleaning_alcoholism'></a>"
   ]
  },
  {
   "cell_type": "markdown",
   "metadata": {},
   "source": [
    "#### Alcholism"
   ]
  },
  {
   "cell_type": "code",
   "execution_count": null,
   "metadata": {},
   "outputs": [],
   "source": [
    "# Alcoholism data is clean\n",
    "orig['Alcoholism'].value_counts()"
   ]
  },
  {
   "cell_type": "markdown",
   "metadata": {},
   "source": [
    "<a id='cleaning_number_handicaps'></a>"
   ]
  },
  {
   "cell_type": "markdown",
   "metadata": {},
   "source": [
    "#### Number of Handicaps"
   ]
  },
  {
   "cell_type": "code",
   "execution_count": null,
   "metadata": {
    "scrolled": true
   },
   "outputs": [],
   "source": [
    "# This represents the number of handicaps a person has (as defined by the publisher of the dataset)\n",
    "# All people having between 0-4 handicaps seems reasonable\n",
    "orig['NumHandicaps'].value_counts()"
   ]
  },
  {
   "cell_type": "markdown",
   "metadata": {},
   "source": [
    "<a id='cleaning_sms_received'></a>"
   ]
  },
  {
   "cell_type": "markdown",
   "metadata": {},
   "source": [
    "#### SMS Received\n",
    "This field indicates whether or not a patient was sent an appointment reminder by the facility in the form of a text message."
   ]
  },
  {
   "cell_type": "code",
   "execution_count": null,
   "metadata": {},
   "outputs": [],
   "source": [
    "# SMS Received data is clean\n",
    "orig['SMSReceived'].value_counts()"
   ]
  },
  {
   "cell_type": "markdown",
   "metadata": {},
   "source": [
    "<a id='cleaning_no_show'></a>"
   ]
  },
  {
   "cell_type": "markdown",
   "metadata": {},
   "source": [
    "#### No Show"
   ]
  },
  {
   "cell_type": "markdown",
   "metadata": {},
   "source": [
    "A value of yes for NoShow means that the patient did not show up to their appointment (they were a 'no show')."
   ]
  },
  {
   "cell_type": "code",
   "execution_count": null,
   "metadata": {},
   "outputs": [],
   "source": [
    "orig['NoShow'].value_counts()"
   ]
  },
  {
   "cell_type": "code",
   "execution_count": null,
   "metadata": {},
   "outputs": [],
   "source": [
    "# Convert NoShow to zeros and ones\n",
    "orig['NoShow'] = np.where(orig['NoShow'].values == 'Yes', 1, 0)\n",
    "orig['NoShow'].value_counts()"
   ]
  },
  {
   "cell_type": "markdown",
   "metadata": {},
   "source": [
    "<a id='cleaning_neighborhood'></a>"
   ]
  },
  {
   "cell_type": "markdown",
   "metadata": {},
   "source": [
    "#### Neighborhood"
   ]
  },
  {
   "cell_type": "markdown",
   "metadata": {},
   "source": [
    "The Neighborhood field has the neighborhood of the doctor's facility."
   ]
  },
  {
   "cell_type": "code",
   "execution_count": null,
   "metadata": {},
   "outputs": [],
   "source": [
    "neighborhood_counts = orig['Neighborhood'].value_counts()\n",
    "neighborhood_counts[:11]"
   ]
  },
  {
   "cell_type": "code",
   "execution_count": null,
   "metadata": {},
   "outputs": [],
   "source": [
    "# Number of unique neighborhoods\n",
    "orig['Neighborhood'].nunique()"
   ]
  },
  {
   "cell_type": "code",
   "execution_count": null,
   "metadata": {},
   "outputs": [],
   "source": [
    "# Organize the neighborhoods into a dataframe\n",
    "geo = pd.DataFrame(neighborhood_counts.index, columns = ['neighborhood'])\n",
    "geo.head()"
   ]
  },
  {
   "cell_type": "code",
   "execution_count": null,
   "metadata": {},
   "outputs": [],
   "source": [
    "# Geocode the neighborhood data\n",
    "for i, row in geo.iterrows():\n",
    "    # Use Bing    \n",
    "    full_neighborhood = row.str.title() + ', Vitória, Espírito Santo, Brazil'\n",
    "    result = geocoder.bing(full_neighborhood, key=API_KEY)\n",
    "    \n",
    "    geo.at[i, 'status'] = result.status\n",
    "    geo.at[i, 'lat'] = result.lat\n",
    "    geo.at[i, 'lng'] = result.lng\n",
    "    geo.at[i, 'bing_neighborhood'] = result.neighborhood\n",
    "    geo.at[i, 'city'] = result.city\n",
    "    geo.at[i, 'state'] = result.state\n",
    "    geo.at[i, 'country'] = result.country\n",
    "    \n",
    "    # If Bing returns None for neighborhood, use Google\n",
    "    if geo.loc[i, 'bing_neighborhood'] is None or \\\n",
    "       geo.loc[i, 'bing_neighborhood'] == 'None':\n",
    "        result = geocoder.google(full_neighborhood)\n",
    "        \n",
    "        geo.at[i, 'status'] = result.status\n",
    "        geo.at[i, 'lat'] = result.lat\n",
    "        geo.at[i, 'lng'] = result.lng\n",
    "        \n",
    "        if result.county == 'Vitória': # Google uses county where Bing uses city\n",
    "            geo.at[i, 'city'] = result.county\n",
    "        geo.at[i, 'state'] = result.state\n",
    "        if result.country == 'BR':\n",
    "            geo.at[i, 'country'] = 'Brazil'\n",
    "\n",
    "# Assign Nazareth manually\n",
    "full_neighborhood = 'Nazareth' + ', Vitória, Espírito Santo, Brazil'\n",
    "result = geocoder.google(full_neighborhood)\n",
    "geo.at[73, 'status'] = result.status\n",
    "geo.at[73, 'lat'] = result.lat\n",
    "geo.at[73, 'lng'] = result.lng\n",
    "geo.at[73, 'state'] = 'ES'"
   ]
  },
  {
   "cell_type": "code",
   "execution_count": null,
   "metadata": {},
   "outputs": [],
   "source": [
    "geo.head()"
   ]
  },
  {
   "cell_type": "code",
   "execution_count": null,
   "metadata": {},
   "outputs": [],
   "source": [
    "# Check that all the neighborhoods are unique\n",
    "(geo['bing_neighborhood'].value_counts() == 1).all()"
   ]
  },
  {
   "cell_type": "code",
   "execution_count": null,
   "metadata": {},
   "outputs": [],
   "source": [
    "# Check that each neighborhood returns a unique location\n",
    "not any(geo.duplicated(['lat', 'lng']))"
   ]
  },
  {
   "cell_type": "code",
   "execution_count": null,
   "metadata": {},
   "outputs": [],
   "source": [
    "# Verify that all of the locations are in Vitória, Espírito Santo, Brazil\n",
    "print((geo['status'] == 'OK').all())\n",
    "print((geo['city'] == 'Vitória').all())\n",
    "print((geo['state'] == 'ES').all())\n",
    "print((geo['country'] == 'Brazil').all())"
   ]
  },
  {
   "cell_type": "markdown",
   "metadata": {},
   "source": [
    "<a id='cleaning_patient_id'></a>"
   ]
  },
  {
   "cell_type": "markdown",
   "metadata": {},
   "source": [
    "#### Patient ID"
   ]
  },
  {
   "cell_type": "code",
   "execution_count": null,
   "metadata": {},
   "outputs": [],
   "source": [
    "# Convert patient ID to a string, as it is meant to be an identifier not a number\n",
    "orig['PatientID'] = orig['PatientID'].astype(int).astype(str)\n",
    "\n",
    "# All identifiers are 7-15 digits long, most have at least 10\n",
    "lens = orig['PatientID'].apply(len)\n",
    "pd.value_counts(lens)"
   ]
  },
  {
   "cell_type": "markdown",
   "metadata": {},
   "source": [
    "> Most of the patient IDs are at least 10 digits long.  There is no consistent length for this field, and it is unknown, and impossible to know, if some of these patient identifiers are flawed.  It is an identifier and does not need to be operated on or with, therefore none of these records will be removed."
   ]
  },
  {
   "cell_type": "markdown",
   "metadata": {},
   "source": [
    "<a id='cleaning_patient_id_consistency'></a>"
   ]
  },
  {
   "cell_type": "markdown",
   "metadata": {},
   "source": [
    "##### PatientID Consistency"
   ]
  },
  {
   "cell_type": "code",
   "execution_count": null,
   "metadata": {},
   "outputs": [],
   "source": [
    "# Number of appointments per PatientID\n",
    "num_appts_by_patient = orig.groupby('PatientID')['AppointmentID'].count()\n",
    "num_appts_by_patient[:5]"
   ]
  },
  {
   "cell_type": "markdown",
   "metadata": {},
   "source": [
    "There are multiple appointments for some patients, so I am checking that the information for each patient across the different appointments is the same."
   ]
  },
  {
   "cell_type": "code",
   "execution_count": null,
   "metadata": {},
   "outputs": [],
   "source": [
    "# All have the same gender\n",
    "unique_gender_vals = orig.groupby('PatientID')['Gender'].nunique()\n",
    "len(unique_gender_vals[unique_gender_vals > 1])"
   ]
  },
  {
   "cell_type": "code",
   "execution_count": null,
   "metadata": {},
   "outputs": [],
   "source": [
    "# All have the same BolsaFamilia status\n",
    "unique_bf_vals = orig.groupby('PatientID')['BolsaFamilia'].nunique()\n",
    "len(unique_bf_vals[unique_bf_vals > 1])"
   ]
  },
  {
   "cell_type": "code",
   "execution_count": null,
   "metadata": {},
   "outputs": [],
   "source": [
    "# All have the same value for Hypertension\n",
    "unique_hypertension_vals = orig.groupby('PatientID')['Hypertension'].nunique()\n",
    "len(unique_hypertension_vals[unique_hypertension_vals > 1])"
   ]
  },
  {
   "cell_type": "code",
   "execution_count": null,
   "metadata": {},
   "outputs": [],
   "source": [
    "# All have the same value for Diabetes\n",
    "unique_diabetes_vals = orig.groupby('PatientID')['Diabetes'].nunique()\n",
    "len(unique_diabetes_vals[unique_diabetes_vals > 1])"
   ]
  },
  {
   "cell_type": "code",
   "execution_count": null,
   "metadata": {},
   "outputs": [],
   "source": [
    "# All have the same value for Alcoholism\n",
    "unique_alcoholism_vals = orig.groupby('PatientID')['Alcoholism'].nunique()\n",
    "len(unique_alcoholism_vals[unique_alcoholism_vals > 1])"
   ]
  },
  {
   "cell_type": "code",
   "execution_count": null,
   "metadata": {},
   "outputs": [],
   "source": [
    "# All have the same value for NumHandicaps\n",
    "unique_handicaps_vals = orig.groupby('PatientID')['NumHandicaps'].nunique()\n",
    "len(unique_handicaps_vals[unique_handicaps_vals > 1])"
   ]
  },
  {
   "cell_type": "code",
   "execution_count": null,
   "metadata": {},
   "outputs": [],
   "source": [
    "# All have the same value for Neighborhood - so patients kept the same doctor's office/hospital\n",
    "unique_neighborhood_vals = orig.groupby('PatientID')['Neighborhood'].nunique()\n",
    "len(unique_neighborhood_vals[unique_neighborhood_vals > 1])"
   ]
  },
  {
   "cell_type": "code",
   "execution_count": null,
   "metadata": {},
   "outputs": [],
   "source": [
    "# Appointments occur with a 7-month period, so the entries for a patient's ages should be within a year of each other\n",
    "unique_age_vals = orig.groupby('PatientID')['Age'].nunique()\n",
    "not_unique_age_vals = unique_age_vals[unique_age_vals > 1]\n",
    "\n",
    "# Patients with more than one appointment, all have less than 2 values for age\n",
    "len(not_unique_age_vals[not_unique_age_vals > 2])"
   ]
  },
  {
   "cell_type": "code",
   "execution_count": null,
   "metadata": {},
   "outputs": [],
   "source": [
    "# Get the information for the patients with more than one age\n",
    "patients_multiple_ages = list(not_unique_age_vals.index)\n",
    "multiple_ages_info = orig[orig['PatientID'].isin(patients_multiple_ages)].sort_values('PatientID')\n",
    "multiple_ages_info.head()"
   ]
  },
  {
   "cell_type": "code",
   "execution_count": null,
   "metadata": {},
   "outputs": [],
   "source": [
    "# Get the difference between each patient's ages\n",
    "max_age = multiple_ages_info.groupby('PatientID')['Age'].max()\n",
    "min_age = multiple_ages_info.groupby('PatientID')['Age'].min()\n",
    "age_diff = max_age - min_age\n",
    "age_diff.head()"
   ]
  },
  {
   "cell_type": "code",
   "execution_count": null,
   "metadata": {},
   "outputs": [],
   "source": [
    "# Each patient's ages are within one year of each other\n",
    "age_diff[age_diff <= 1].all()"
   ]
  },
  {
   "cell_type": "markdown",
   "metadata": {},
   "source": [
    "<a id='addtl_data'></a>"
   ]
  },
  {
   "cell_type": "markdown",
   "metadata": {},
   "source": [
    "## Additional Data\n",
    "***"
   ]
  },
  {
   "cell_type": "markdown",
   "metadata": {},
   "source": [
    "I obtained weather data for Vitória airport from [wunderground.com](https://www.wunderground.com/history/airport/SBVT/2016/4/29/DailyHistory.html) for the appointment dates."
   ]
  },
  {
   "cell_type": "code",
   "execution_count": null,
   "metadata": {},
   "outputs": [],
   "source": [
    "xlsx = pd.ExcelFile('vitoria_weather.xlsx')\n",
    "weather = pd.read_excel(xlsx, 'Sheet1', skiprows = 2)\n",
    "weather['Datetime'] = pd.to_datetime(weather['Date'])\n",
    "weather['Date'] = weather['Datetime'].dt.date\n",
    "weather.head()"
   ]
  },
  {
   "cell_type": "code",
   "execution_count": null,
   "metadata": {},
   "outputs": [],
   "source": [
    "all(weather['visibility_high'] == 12)"
   ]
  },
  {
   "cell_type": "code",
   "execution_count": null,
   "metadata": {},
   "outputs": [],
   "source": [
    "# Merge appointment data with weather data\n",
    "ow = pd.merge(orig, weather, left_on='AppointmentDayDate', right_on='Date', how='left')\n",
    "\n",
    "# Remove the visibility_high field since it has the same value for every date\n",
    "ow = ow.drop(['Date', 'Datetime', 'visibility_high'], axis = 1)\n",
    "\n",
    "# Check there are no null values\n",
    "all(ow.isnull().sum() == 0)"
   ]
  },
  {
   "cell_type": "markdown",
   "metadata": {},
   "source": [
    "<a id='feat_engineering'></a>"
   ]
  },
  {
   "cell_type": "markdown",
   "metadata": {},
   "source": [
    "## Feature Engineering\n",
    "***"
   ]
  },
  {
   "cell_type": "markdown",
   "metadata": {},
   "source": [
    "### Differences Between Scheduled and Appointment Days"
   ]
  },
  {
   "cell_type": "code",
   "execution_count": null,
   "metadata": {
    "scrolled": false
   },
   "outputs": [],
   "source": [
    "# Add a field for the number of days between scheduling and the appointment\n",
    "ow['DayDiff'] = ((ow['AppointmentDayDate'] - ow['ScheduledDayDate'])/np.timedelta64(1, 'D')).astype(int)\n",
    "ow[['ScheduledDayDate', 'AppointmentDayDate', 'DayDiff']].sort_values(by = 'DayDiff')[:7]"
   ]
  },
  {
   "cell_type": "markdown",
   "metadata": {},
   "source": [
    "We can see that we need to do some data cleaning as there are five appointments that were shown to be scheduled days after the appointment itself.  These are obviously errors and since there are only five, they were removed from the data."
   ]
  },
  {
   "cell_type": "code",
   "execution_count": null,
   "metadata": {},
   "outputs": [],
   "source": [
    "ow = (ow[ow['DayDiff'] >= 0])"
   ]
  },
  {
   "cell_type": "markdown",
   "metadata": {},
   "source": [
    "### Day of Week and Weekend"
   ]
  },
  {
   "cell_type": "code",
   "execution_count": null,
   "metadata": {},
   "outputs": [],
   "source": [
    "# Add a field for whether the AppointmentDay is during the weekend (1) or not (0)\n",
    "ow['DayOfWeek'] = pd.to_datetime(ow['AppointmentDay']).dt.dayofweek\n",
    "ow['Weekend'] = np.where(ow['DayOfWeek'] >= 5, 1, 0)\n",
    "\n",
    "# Number of weekend appointments\n",
    "ow['Weekend'].sum()"
   ]
  },
  {
   "cell_type": "markdown",
   "metadata": {},
   "source": [
    "<a id='eda'></a>"
   ]
  },
  {
   "cell_type": "markdown",
   "metadata": {},
   "source": [
    "## Exploratory Data Analysis\n",
    "***"
   ]
  },
  {
   "cell_type": "markdown",
   "metadata": {},
   "source": [
    "<a id='further_cleaning'></a>"
   ]
  },
  {
   "cell_type": "markdown",
   "metadata": {},
   "source": [
    "### Initial Exploration and Further Cleaning"
   ]
  },
  {
   "cell_type": "markdown",
   "metadata": {},
   "source": [
    "#### Number of appointments by patient"
   ]
  },
  {
   "cell_type": "code",
   "execution_count": null,
   "metadata": {},
   "outputs": [],
   "source": [
    "num_appts_by_patient.sort_values(ascending = False)[:10]"
   ]
  },
  {
   "cell_type": "markdown",
   "metadata": {},
   "source": [
    "> Oddly there are patients with a significant number of appointments.  The appointments only occurred during a 40-day period, so even if a patient had an appointment every day during this period, they would still only have a maximum of 40 appointments."
   ]
  },
  {
   "cell_type": "code",
   "execution_count": null,
   "metadata": {},
   "outputs": [],
   "source": [
    "# Bin the number of appointments per patient\n",
    "bins = [0, 1, 2, 3, 4, 5, 10, 15, 20, 30, 40, 50, 80]\n",
    "bin_names = [\"1\", \"2\", \"3\", \"4\", \"5\", \"6-10\", \"11-15\", \"16-20\", \"21-30\", \"31-40\", \"41-50\", \"50+\"]\n",
    "\n",
    "num_appts_binned = pd.cut(num_appts_by_patient, bins = bins, labels = bin_names).value_counts()\n",
    "num_appts_binned.sort_index()"
   ]
  },
  {
   "cell_type": "code",
   "execution_count": null,
   "metadata": {},
   "outputs": [],
   "source": [
    "num_appts_by_patient.hist(bins = 100)\n",
    "plt.title(\"Number of Appointments Made Per Patient\");"
   ]
  },
  {
   "cell_type": "markdown",
   "metadata": {},
   "source": [
    "The number of appointments is very skewed to the right.  The majority of patients made three or fewer appointments during this 40-day time period, but the data is very long tailed with upto 88 appointments per patient."
   ]
  },
  {
   "cell_type": "code",
   "execution_count": null,
   "metadata": {},
   "outputs": [],
   "source": [
    "# Inspect the patient with 88 appointments\n",
    "most_appts = ow[ow['PatientID'] == '822145925426128'].sort_values(by = 'ScheduledDay')\n",
    "most_appts"
   ]
  },
  {
   "cell_type": "code",
   "execution_count": null,
   "metadata": {},
   "outputs": [],
   "source": [
    "most_appts['NoShow'].sum()"
   ]
  },
  {
   "cell_type": "markdown",
   "metadata": {},
   "source": [
    "> From analyzing this and other patients' appointments, I found that many appointments were made for a certain day, and then later another appointment was made for that same day.  We can see above that the patient made an appointment for April 29, three different times.  For the patient above, they made the appointments within farily quick succession of each other.  However other patients, as shown below, seemed to make appointments in advance and then as the appointment got closer rescheduled it."
   ]
  },
  {
   "cell_type": "code",
   "execution_count": null,
   "metadata": {},
   "outputs": [],
   "source": [
    "ow[ow['PatientID'] == '99992299798515'].sort_values(by = 'ScheduledDay')"
   ]
  },
  {
   "cell_type": "code",
   "execution_count": null,
   "metadata": {},
   "outputs": [],
   "source": [
    "ow[ow['PatientID'] == '111415561531417'].sort_values(by = 'ScheduledDay').iloc[:, :14]"
   ]
  },
  {
   "cell_type": "markdown",
   "metadata": {},
   "source": [
    "In the case above, the patient made an appointment for June 6, and on the same day makes an appoitment for May 13.  Then 15 days later makes another appointment for/reschedules the June 6 appointment.  Finally they make another appointment for three days before their scheduled appointment.  I would guess that they rescheduled their appointment for an earlier day, so it may be illogical to term their non-attendance as a \"no show.\"  Unfortunately this is just a hypothesis, and since there is neither extra data, nor an explanation for the multiple appointments, this cannot be confirmed.  If more information later became available this aspect of the data could possibly be addressed.\n",
    "\n",
    "To address the issue of multiple appointments made for the same day, I made the decision to only keep the last appointment made on the same day as an already made appointment.  Although records were removed, this data was preserved in the extra fields of the number of times the appointment for that day was scheduled and the time difference between the first and last scheduling."
   ]
  },
  {
   "cell_type": "code",
   "execution_count": null,
   "metadata": {
    "scrolled": true
   },
   "outputs": [],
   "source": [
    "# Sort the dataframe and update the index, so that the records are in\n",
    "# order of when they were made\n",
    "ow = ow.sort_values(by = ['PatientID', 'ScheduledDay', 'AppointmentDay'])\n",
    "ow.index = range(1,len(ow) + 1)\n",
    "ow.head()"
   ]
  },
  {
   "cell_type": "code",
   "execution_count": null,
   "metadata": {},
   "outputs": [],
   "source": [
    "# Aggregate data by PatientID and AppointmentDay, and assemble all the AppointmentIDs associated\n",
    "# with them into a tuple\n",
    "df_appt_id_list = ow.groupby(['PatientID', 'AppointmentDay'], as_index=False)['AppointmentID']. \\\n",
    "                apply(tuple).reset_index()\n",
    "df_appt_id_list.columns = ['PatientID', 'AppointmentDay', 'AppointmentIDList']\n",
    "df_appt_id_list.head()"
   ]
  },
  {
   "cell_type": "code",
   "execution_count": null,
   "metadata": {},
   "outputs": [],
   "source": [
    "# Create field for the last appointment created for that date\n",
    "df_appt_id_list['LastAppt'] = df_appt_id_list['AppointmentIDList'].apply(lambda x: x[len(x) - 1])\n",
    "\n",
    "# Create field for the number of times that appointment was scheduled\n",
    "df_appt_id_list['NumTimesScheduled'] = df_appt_id_list['AppointmentIDList'].apply(len)\n",
    "\n",
    "df_appt_id_list[25:30]"
   ]
  },
  {
   "cell_type": "code",
   "execution_count": null,
   "metadata": {},
   "outputs": [],
   "source": [
    "# Create function for looking up the time difference between\n",
    "# the ScheduledDay for the appointments that have more than one ID\n",
    "# else the difference is 0\n",
    "def get_days_bw_scheduling(x, df):\n",
    "    if len(x) == 1:\n",
    "        return 0\n",
    "    else:\n",
    "        first_sch = df[df['AppointmentID'] == x[0]].iloc[0, 3] # first scheduling\n",
    "        last_sch = df[df['AppointmentID'] == x[len(x) - 1]].iloc[0, 3] # last scheduling\n",
    "        days = (last_sch - first_sch)/np.timedelta64(1, 'D')\n",
    "        return days # return days difference as float"
   ]
  },
  {
   "cell_type": "code",
   "execution_count": null,
   "metadata": {},
   "outputs": [],
   "source": [
    "df_appt_id_list['DaysBWScheduling'] = df_appt_id_list['AppointmentIDList'].apply(lambda x: get_days_bw_scheduling(x, ow))"
   ]
  },
  {
   "cell_type": "code",
   "execution_count": null,
   "metadata": {
    "scrolled": true
   },
   "outputs": [],
   "source": [
    "# Merge this data with the original dataframe\n",
    "df = pd.merge(ow, df_appt_id_list, left_on = ['PatientID', 'AppointmentDay', 'AppointmentID'], \n",
    "              right_on = ['PatientID', 'AppointmentDay', 'LastAppt'])\n",
    "\n",
    "# Remove unnecessary and redundant columns\n",
    "df.drop(['AppointmentIDList', 'LastAppt'], axis = 1, inplace = True)\n",
    "df.head()"
   ]
  },
  {
   "cell_type": "code",
   "execution_count": null,
   "metadata": {},
   "outputs": [],
   "source": [
    "len(ow) - len(df)"
   ]
  },
  {
   "cell_type": "markdown",
   "metadata": {},
   "source": [
    "> Note that 8718 records that represented the extra appointments made all on the same day were removed from the data."
   ]
  },
  {
   "cell_type": "code",
   "execution_count": null,
   "metadata": {},
   "outputs": [],
   "source": [
    "#df.to_csv('df.csv')"
   ]
  },
  {
   "cell_type": "markdown",
   "metadata": {},
   "source": [
    "<a id='univariate'></a>"
   ]
  },
  {
   "cell_type": "markdown",
   "metadata": {},
   "source": [
    "### Univariate Plots and Analysis"
   ]
  },
  {
   "cell_type": "markdown",
   "metadata": {},
   "source": [
    "<a id='reloading'></a>\n",
    "## Reloading the Data"
   ]
  },
  {
   "cell_type": "code",
   "execution_count": 16,
   "metadata": {},
   "outputs": [],
   "source": [
    "import pandas as pd\n",
    "import numpy as np\n",
    "import geocoder\n",
    "pd.options.mode.chained_assignment = None\n",
    "import matplotlib\n",
    "import matplotlib.pyplot as plt\n",
    "import matplotlib.dates as mdates\n",
    "from matplotlib.lines import Line2D\n",
    "matplotlib.rcParams.update({'font.size': 12.5})\n",
    "import seaborn as sns\n",
    "import scipy.stats as stats\n",
    "import config\n",
    "API_KEY = config.api_key"
   ]
  },
  {
   "cell_type": "code",
   "execution_count": 2,
   "metadata": {},
   "outputs": [],
   "source": [
    "df = pd.read_csv('df.csv')"
   ]
  },
  {
   "cell_type": "code",
   "execution_count": 3,
   "metadata": {},
   "outputs": [],
   "source": [
    "df['PatientID'] = df['PatientID'].astype(str)\n",
    "df['AppointmentID'] = df['AppointmentID'].astype(str)\n",
    "df['ScheduledDay'] = pd.to_datetime(df['ScheduledDay'])\n",
    "df['AppointmentDay'] = pd.to_datetime(df['AppointmentDay'])\n",
    "df['ScheduledDayDate'] = pd.to_datetime(df['ScheduledDayDate']).dt.date\n",
    "df['AppointmentDayDate'] = pd.to_datetime(df['AppointmentDayDate']).dt.date"
   ]
  },
  {
   "cell_type": "code",
   "execution_count": 4,
   "metadata": {},
   "outputs": [
    {
     "data": {
      "text/html": [
       "<div>\n",
       "<style scoped>\n",
       "    .dataframe tbody tr th:only-of-type {\n",
       "        vertical-align: middle;\n",
       "    }\n",
       "\n",
       "    .dataframe tbody tr th {\n",
       "        vertical-align: top;\n",
       "    }\n",
       "\n",
       "    .dataframe thead th {\n",
       "        text-align: right;\n",
       "    }\n",
       "</style>\n",
       "<table border=\"1\" class=\"dataframe\">\n",
       "  <thead>\n",
       "    <tr style=\"text-align: right;\">\n",
       "      <th></th>\n",
       "      <th>PatientID</th>\n",
       "      <th>AppointmentID</th>\n",
       "      <th>Gender</th>\n",
       "      <th>ScheduledDay</th>\n",
       "      <th>AppointmentDay</th>\n",
       "      <th>Age</th>\n",
       "      <th>Neighborhood</th>\n",
       "      <th>BolsaFamilia</th>\n",
       "      <th>Hypertension</th>\n",
       "      <th>Diabetes</th>\n",
       "      <th>...</th>\n",
       "      <th>wind_avg</th>\n",
       "      <th>precip_in</th>\n",
       "      <th>rain</th>\n",
       "      <th>thunderstorm</th>\n",
       "      <th>fog</th>\n",
       "      <th>DayDiff</th>\n",
       "      <th>DayOfWeek</th>\n",
       "      <th>Weekend</th>\n",
       "      <th>NumTimesScheduled</th>\n",
       "      <th>DaysBWScheduling</th>\n",
       "    </tr>\n",
       "  </thead>\n",
       "  <tbody>\n",
       "    <tr>\n",
       "      <th>0</th>\n",
       "      <td>11111462625267</td>\n",
       "      <td>5715720</td>\n",
       "      <td>1</td>\n",
       "      <td>2016-05-18 14:58:29</td>\n",
       "      <td>2016-06-08</td>\n",
       "      <td>65</td>\n",
       "      <td>REPÚBLICA</td>\n",
       "      <td>0</td>\n",
       "      <td>1</td>\n",
       "      <td>0</td>\n",
       "      <td>...</td>\n",
       "      <td>9</td>\n",
       "      <td>0.04</td>\n",
       "      <td>1</td>\n",
       "      <td>0</td>\n",
       "      <td>0</td>\n",
       "      <td>21</td>\n",
       "      <td>2</td>\n",
       "      <td>0</td>\n",
       "      <td>1</td>\n",
       "      <td>0.0</td>\n",
       "    </tr>\n",
       "    <tr>\n",
       "      <th>1</th>\n",
       "      <td>111124532532143</td>\n",
       "      <td>5531224</td>\n",
       "      <td>0</td>\n",
       "      <td>2016-03-31 09:17:26</td>\n",
       "      <td>2016-05-03</td>\n",
       "      <td>9</td>\n",
       "      <td>MARIA ORTIZ</td>\n",
       "      <td>0</td>\n",
       "      <td>0</td>\n",
       "      <td>0</td>\n",
       "      <td>...</td>\n",
       "      <td>5</td>\n",
       "      <td>0.00</td>\n",
       "      <td>0</td>\n",
       "      <td>0</td>\n",
       "      <td>0</td>\n",
       "      <td>33</td>\n",
       "      <td>1</td>\n",
       "      <td>0</td>\n",
       "      <td>1</td>\n",
       "      <td>0.0</td>\n",
       "    </tr>\n",
       "    <tr>\n",
       "      <th>2</th>\n",
       "      <td>111124532532143</td>\n",
       "      <td>5624030</td>\n",
       "      <td>0</td>\n",
       "      <td>2016-04-26 15:05:58</td>\n",
       "      <td>2016-06-01</td>\n",
       "      <td>9</td>\n",
       "      <td>MARIA ORTIZ</td>\n",
       "      <td>0</td>\n",
       "      <td>0</td>\n",
       "      <td>0</td>\n",
       "      <td>...</td>\n",
       "      <td>4</td>\n",
       "      <td>0.01</td>\n",
       "      <td>0</td>\n",
       "      <td>1</td>\n",
       "      <td>0</td>\n",
       "      <td>36</td>\n",
       "      <td>2</td>\n",
       "      <td>0</td>\n",
       "      <td>1</td>\n",
       "      <td>0.0</td>\n",
       "    </tr>\n",
       "    <tr>\n",
       "      <th>3</th>\n",
       "      <td>11114485119737</td>\n",
       "      <td>5621757</td>\n",
       "      <td>1</td>\n",
       "      <td>2016-04-26 10:46:38</td>\n",
       "      <td>2016-05-25</td>\n",
       "      <td>12</td>\n",
       "      <td>MARIA ORTIZ</td>\n",
       "      <td>0</td>\n",
       "      <td>0</td>\n",
       "      <td>0</td>\n",
       "      <td>...</td>\n",
       "      <td>12</td>\n",
       "      <td>0.00</td>\n",
       "      <td>0</td>\n",
       "      <td>0</td>\n",
       "      <td>0</td>\n",
       "      <td>29</td>\n",
       "      <td>2</td>\n",
       "      <td>0</td>\n",
       "      <td>1</td>\n",
       "      <td>0.0</td>\n",
       "    </tr>\n",
       "    <tr>\n",
       "      <th>4</th>\n",
       "      <td>11116239871275</td>\n",
       "      <td>5625265</td>\n",
       "      <td>1</td>\n",
       "      <td>2016-04-27 07:05:38</td>\n",
       "      <td>2016-04-29</td>\n",
       "      <td>13</td>\n",
       "      <td>SÃO PEDRO</td>\n",
       "      <td>0</td>\n",
       "      <td>0</td>\n",
       "      <td>0</td>\n",
       "      <td>...</td>\n",
       "      <td>11</td>\n",
       "      <td>0.01</td>\n",
       "      <td>0</td>\n",
       "      <td>0</td>\n",
       "      <td>0</td>\n",
       "      <td>2</td>\n",
       "      <td>4</td>\n",
       "      <td>0</td>\n",
       "      <td>1</td>\n",
       "      <td>0.0</td>\n",
       "    </tr>\n",
       "  </tbody>\n",
       "</table>\n",
       "<p>5 rows × 35 columns</p>\n",
       "</div>"
      ],
      "text/plain": [
       "         PatientID AppointmentID  Gender        ScheduledDay AppointmentDay  \\\n",
       "0   11111462625267       5715720       1 2016-05-18 14:58:29     2016-06-08   \n",
       "1  111124532532143       5531224       0 2016-03-31 09:17:26     2016-05-03   \n",
       "2  111124532532143       5624030       0 2016-04-26 15:05:58     2016-06-01   \n",
       "3   11114485119737       5621757       1 2016-04-26 10:46:38     2016-05-25   \n",
       "4   11116239871275       5625265       1 2016-04-27 07:05:38     2016-04-29   \n",
       "\n",
       "   Age Neighborhood  BolsaFamilia  Hypertension  Diabetes        ...         \\\n",
       "0   65    REPÚBLICA             0             1         0        ...          \n",
       "1    9  MARIA ORTIZ             0             0         0        ...          \n",
       "2    9  MARIA ORTIZ             0             0         0        ...          \n",
       "3   12  MARIA ORTIZ             0             0         0        ...          \n",
       "4   13    SÃO PEDRO             0             0         0        ...          \n",
       "\n",
       "   wind_avg  precip_in  rain  thunderstorm fog DayDiff  DayOfWeek  Weekend  \\\n",
       "0         9       0.04     1             0   0      21          2        0   \n",
       "1         5       0.00     0             0   0      33          1        0   \n",
       "2         4       0.01     0             1   0      36          2        0   \n",
       "3        12       0.00     0             0   0      29          2        0   \n",
       "4        11       0.01     0             0   0       2          4        0   \n",
       "\n",
       "   NumTimesScheduled  DaysBWScheduling  \n",
       "0                  1               0.0  \n",
       "1                  1               0.0  \n",
       "2                  1               0.0  \n",
       "3                  1               0.0  \n",
       "4                  1               0.0  \n",
       "\n",
       "[5 rows x 35 columns]"
      ]
     },
     "execution_count": 4,
     "metadata": {},
     "output_type": "execute_result"
    }
   ],
   "source": [
    "df.drop('Unnamed: 0', axis = 1, inplace = True)\n",
    "df.head()"
   ]
  },
  {
   "cell_type": "code",
   "execution_count": 5,
   "metadata": {},
   "outputs": [
    {
     "data": {
      "text/plain": [
       "101803"
      ]
     },
     "execution_count": 5,
     "metadata": {},
     "output_type": "execute_result"
    }
   ],
   "source": [
    "# Number of records in the cleaned dataset\n",
    "len(df)"
   ]
  },
  {
   "cell_type": "code",
   "execution_count": 6,
   "metadata": {},
   "outputs": [
    {
     "data": {
      "text/html": [
       "<div>\n",
       "<style scoped>\n",
       "    .dataframe tbody tr th:only-of-type {\n",
       "        vertical-align: middle;\n",
       "    }\n",
       "\n",
       "    .dataframe tbody tr th {\n",
       "        vertical-align: top;\n",
       "    }\n",
       "\n",
       "    .dataframe thead th {\n",
       "        text-align: right;\n",
       "    }\n",
       "</style>\n",
       "<table border=\"1\" class=\"dataframe\">\n",
       "  <thead>\n",
       "    <tr style=\"text-align: right;\">\n",
       "      <th></th>\n",
       "      <th>Date</th>\n",
       "      <th>temp_high</th>\n",
       "      <th>temp_avg</th>\n",
       "      <th>temp_low</th>\n",
       "      <th>humidity_high</th>\n",
       "      <th>humidity_avg</th>\n",
       "      <th>humidity_low</th>\n",
       "      <th>visibility_high</th>\n",
       "      <th>visibility_avg</th>\n",
       "      <th>visibility_low</th>\n",
       "      <th>wind_high</th>\n",
       "      <th>wind_avg</th>\n",
       "      <th>precip_in</th>\n",
       "      <th>rain</th>\n",
       "      <th>thunderstorm</th>\n",
       "      <th>fog</th>\n",
       "      <th>Datetime</th>\n",
       "    </tr>\n",
       "  </thead>\n",
       "  <tbody>\n",
       "    <tr>\n",
       "      <th>0</th>\n",
       "      <td>2016-04-29</td>\n",
       "      <td>75</td>\n",
       "      <td>73</td>\n",
       "      <td>71</td>\n",
       "      <td>88</td>\n",
       "      <td>76</td>\n",
       "      <td>64</td>\n",
       "      <td>12</td>\n",
       "      <td>7</td>\n",
       "      <td>6</td>\n",
       "      <td>16</td>\n",
       "      <td>11</td>\n",
       "      <td>0.01</td>\n",
       "      <td>0</td>\n",
       "      <td>0</td>\n",
       "      <td>0</td>\n",
       "      <td>2016-04-29</td>\n",
       "    </tr>\n",
       "    <tr>\n",
       "      <th>1</th>\n",
       "      <td>2016-04-30</td>\n",
       "      <td>80</td>\n",
       "      <td>74</td>\n",
       "      <td>69</td>\n",
       "      <td>88</td>\n",
       "      <td>79</td>\n",
       "      <td>70</td>\n",
       "      <td>12</td>\n",
       "      <td>7</td>\n",
       "      <td>6</td>\n",
       "      <td>13</td>\n",
       "      <td>7</td>\n",
       "      <td>0.00</td>\n",
       "      <td>0</td>\n",
       "      <td>0</td>\n",
       "      <td>0</td>\n",
       "      <td>2016-04-30</td>\n",
       "    </tr>\n",
       "    <tr>\n",
       "      <th>2</th>\n",
       "      <td>2016-05-01</td>\n",
       "      <td>77</td>\n",
       "      <td>73</td>\n",
       "      <td>69</td>\n",
       "      <td>83</td>\n",
       "      <td>67</td>\n",
       "      <td>52</td>\n",
       "      <td>12</td>\n",
       "      <td>6</td>\n",
       "      <td>4</td>\n",
       "      <td>17</td>\n",
       "      <td>13</td>\n",
       "      <td>0.00</td>\n",
       "      <td>1</td>\n",
       "      <td>0</td>\n",
       "      <td>0</td>\n",
       "      <td>2016-05-01</td>\n",
       "    </tr>\n",
       "    <tr>\n",
       "      <th>3</th>\n",
       "      <td>2016-05-02</td>\n",
       "      <td>81</td>\n",
       "      <td>74</td>\n",
       "      <td>66</td>\n",
       "      <td>83</td>\n",
       "      <td>58</td>\n",
       "      <td>33</td>\n",
       "      <td>12</td>\n",
       "      <td>8</td>\n",
       "      <td>6</td>\n",
       "      <td>17</td>\n",
       "      <td>11</td>\n",
       "      <td>0.00</td>\n",
       "      <td>0</td>\n",
       "      <td>0</td>\n",
       "      <td>0</td>\n",
       "      <td>2016-05-02</td>\n",
       "    </tr>\n",
       "    <tr>\n",
       "      <th>4</th>\n",
       "      <td>2016-05-03</td>\n",
       "      <td>79</td>\n",
       "      <td>70</td>\n",
       "      <td>62</td>\n",
       "      <td>88</td>\n",
       "      <td>80</td>\n",
       "      <td>61</td>\n",
       "      <td>12</td>\n",
       "      <td>7</td>\n",
       "      <td>6</td>\n",
       "      <td>17</td>\n",
       "      <td>5</td>\n",
       "      <td>0.00</td>\n",
       "      <td>0</td>\n",
       "      <td>0</td>\n",
       "      <td>0</td>\n",
       "      <td>2016-05-03</td>\n",
       "    </tr>\n",
       "  </tbody>\n",
       "</table>\n",
       "</div>"
      ],
      "text/plain": [
       "         Date  temp_high  temp_avg  temp_low  humidity_high  humidity_avg  \\\n",
       "0  2016-04-29         75        73        71             88            76   \n",
       "1  2016-04-30         80        74        69             88            79   \n",
       "2  2016-05-01         77        73        69             83            67   \n",
       "3  2016-05-02         81        74        66             83            58   \n",
       "4  2016-05-03         79        70        62             88            80   \n",
       "\n",
       "   humidity_low  visibility_high  visibility_avg  visibility_low  wind_high  \\\n",
       "0            64               12               7               6         16   \n",
       "1            70               12               7               6         13   \n",
       "2            52               12               6               4         17   \n",
       "3            33               12               8               6         17   \n",
       "4            61               12               7               6         17   \n",
       "\n",
       "   wind_avg  precip_in  rain  thunderstorm  fog   Datetime  \n",
       "0        11       0.01     0             0    0 2016-04-29  \n",
       "1         7       0.00     0             0    0 2016-04-30  \n",
       "2        13       0.00     1             0    0 2016-05-01  \n",
       "3        11       0.00     0             0    0 2016-05-02  \n",
       "4         5       0.00     0             0    0 2016-05-03  "
      ]
     },
     "execution_count": 6,
     "metadata": {},
     "output_type": "execute_result"
    }
   ],
   "source": [
    "xlsx = pd.ExcelFile('vitoria_weather.xlsx')\n",
    "weather = pd.read_excel(xlsx, 'Sheet1', skiprows = 2)\n",
    "weather['Datetime'] = pd.to_datetime(weather['Date'])\n",
    "weather['Date'] = weather['Datetime'].dt.date\n",
    "weather.head()"
   ]
  },
  {
   "cell_type": "markdown",
   "metadata": {},
   "source": [
    "#### Patient Characteristics"
   ]
  },
  {
   "cell_type": "code",
   "execution_count": 7,
   "metadata": {},
   "outputs": [
    {
     "data": {
      "text/plain": [
       "62298"
      ]
     },
     "execution_count": 7,
     "metadata": {},
     "output_type": "execute_result"
    }
   ],
   "source": [
    "# Get unique patients when getting frequency of patient characteristics\n",
    "# Since all the patient characteristics remain the same, they will remain the same, but\n",
    "# mean will take the average age and the proportion of no shows\n",
    "unique_patients = df.groupby('PatientID').mean()\n",
    "len(unique_patients)"
   ]
  },
  {
   "cell_type": "code",
   "execution_count": 8,
   "metadata": {},
   "outputs": [
    {
     "data": {
      "image/png": "[encoded data removed]",
      "text/plain": [
       "<matplotlib.figure.Figure at 0x1a1348e240>"
      ]
     },
     "metadata": {},
     "output_type": "display_data"
    }
   ],
   "source": [
    "# Plot binary patient characteristics\n",
    "fields = ['Gender', 'BolsaFamilia', 'Alcoholism', 'Diabetes', 'Hypertension']\n",
    "xlabels = ['Gender', 'Bolsa Familia', 'Alcoholism', 'Diabetes', 'Hypertension']\n",
    "gender_labels = ['Male', 'Female']\n",
    "labels = ['No', 'Yes']\n",
    "\n",
    "fig, axes = plt.subplots(1, 5, figsize = (15, 5), sharey = True)\n",
    "\n",
    "i = 0\n",
    "for ax in axes.reshape(-1):\n",
    "    sns.countplot(ax = ax, x = fields[i], data = unique_patients)\n",
    "    sns.set_style(\"white\")\n",
    "    ax.tick_params(length = 0)\n",
    "    sns.despine(left = True, bottom = True)\n",
    "    if i == 0:\n",
    "        ax.set(xticklabels=['Male', 'Female'])\n",
    "        ax.set(xlabel = xlabels[i], ylabel = '')\n",
    "    else:\n",
    "        ax.set(xticklabels=['', ''])\n",
    "        ax.set(xlabel = '\\n' + xlabels[i], ylabel = '')\n",
    "    if i == 2:\n",
    "        ax.set_title('\\nPatient Characteristics by No Shows\\n', fontsize = 18, fontweight = 'bold')\n",
    "    i += 1\n",
    "    \n",
    "custom_lines = [Line2D([0], [0], color = 'steelblue', lw=4),\n",
    "                Line2D([0], [0], color = 'darkorange', lw=4)]\n",
    "ax.legend(custom_lines, ['No', 'Yes'])\n",
    "plt.show()"
   ]
  },
  {
   "cell_type": "code",
   "execution_count": 15,
   "metadata": {},
   "outputs": [
    {
     "data": {
      "text/html": [
       "<div>\n",
       "<style scoped>\n",
       "    .dataframe tbody tr th:only-of-type {\n",
       "        vertical-align: middle;\n",
       "    }\n",
       "\n",
       "    .dataframe tbody tr th {\n",
       "        vertical-align: top;\n",
       "    }\n",
       "\n",
       "    .dataframe thead th {\n",
       "        text-align: right;\n",
       "    }\n",
       "</style>\n",
       "<table border=\"1\" class=\"dataframe\">\n",
       "  <thead>\n",
       "    <tr style=\"text-align: right;\">\n",
       "      <th></th>\n",
       "      <th>Proportion</th>\n",
       "    </tr>\n",
       "  </thead>\n",
       "  <tbody>\n",
       "    <tr>\n",
       "      <th>Women</th>\n",
       "      <td>0.643</td>\n",
       "    </tr>\n",
       "    <tr>\n",
       "      <th>Bolsa Familia</th>\n",
       "      <td>0.093</td>\n",
       "    </tr>\n",
       "    <tr>\n",
       "      <th>Alcoholic</th>\n",
       "      <td>0.024</td>\n",
       "    </tr>\n",
       "    <tr>\n",
       "      <th>Diabetes</th>\n",
       "      <td>0.071</td>\n",
       "    </tr>\n",
       "    <tr>\n",
       "      <th>Hypertension</th>\n",
       "      <td>0.197</td>\n",
       "    </tr>\n",
       "  </tbody>\n",
       "</table>\n",
       "</div>"
      ],
      "text/plain": [
       "               Proportion\n",
       "Women               0.643\n",
       "Bolsa Familia       0.093\n",
       "Alcoholic           0.024\n",
       "Diabetes            0.071\n",
       "Hypertension        0.197"
      ]
     },
     "execution_count": 15,
     "metadata": {},
     "output_type": "execute_result"
    }
   ],
   "source": [
    "fields = ['Women', 'Bolsa Familia', 'Alcoholic', 'Diabetes', 'Hypertension']\n",
    "char_props = [round(unique_patients['Gender'].mean(), 3),\n",
    "              round(unique_patients['BolsaFamilia'].mean(), 3),\n",
    "              round(unique_patients['Alcoholism'].mean(), 3),\n",
    "              round(unique_patients['Diabetes'].mean(), 3),\n",
    "              round(unique_patients['Hypertension'].mean(), 3)]\n",
    "\n",
    "pd.DataFrame(stats, index = fields, columns = ['Proportion'])"
   ]
  },
  {
   "cell_type": "code",
   "execution_count": 10,
   "metadata": {},
   "outputs": [
    {
     "data": {
      "text/plain": [
       "1.63"
      ]
     },
     "execution_count": 10,
     "metadata": {},
     "output_type": "execute_result"
    }
   ],
   "source": [
    "# Average number of appointments per patient\n",
    "round(df.groupby('PatientID')['AppointmentID'].count().mean(), 2)"
   ]
  },
  {
   "cell_type": "markdown",
   "metadata": {},
   "source": [
    "##### Patient Characteristics by Attendance"
   ]
  },
  {
   "cell_type": "code",
   "execution_count": 11,
   "metadata": {
    "scrolled": false
   },
   "outputs": [
    {
     "data": {
      "image/png": "[encoded data removed]",
      "text/plain": [
       "<matplotlib.figure.Figure at 0x1a105bf588>"
      ]
     },
     "metadata": {},
     "output_type": "display_data"
    }
   ],
   "source": [
    "# Plot binary patient characteristics by attendance - not aggregated (by individual appointment)\n",
    "fields = ['Gender', 'BolsaFamilia', 'Alcoholism', 'Diabetes', 'Hypertension']\n",
    "xlabels = ['Gender', 'Bolsa Familia', 'Alcoholism', 'Diabetes', 'Hypertension']\n",
    "gender_labels = ['Male', 'Female']\n",
    "labels = ['No', 'Yes']\n",
    "\n",
    "fig, axes = plt.subplots(1, 5, figsize = (15, 5), sharey = True)\n",
    "\n",
    "i = 0\n",
    "for ax in axes.reshape(-1):\n",
    "    sns.countplot(ax = ax, x = fields[i], hue = 'NoShow', data = df)\n",
    "    sns.set_style(\"white\")\n",
    "    ax.tick_params(length = 0)\n",
    "    ax.legend_.remove()\n",
    "    sns.despine(left = True, bottom = True)\n",
    "    if i == 0:\n",
    "        ax.set(xticklabels=['Male', 'Female'])\n",
    "        ax.set(xlabel = xlabels[i], ylabel = '')\n",
    "    else:\n",
    "        ax.set(xticklabels=['No', 'Yes'])\n",
    "        ax.set(xlabel = '\\n' + xlabels[i], ylabel = '')\n",
    "    if i == 2:\n",
    "        ax.set_title('\\nPatient Characteristics by Attendance\\n', fontsize = 18, fontweight = 'bold')\n",
    "    \n",
    "    i += 1\n",
    "    \n",
    "custom_lines = [Line2D([0], [0], color = 'steelblue', lw=8),\n",
    "                Line2D([0], [0], color = 'darkorange', lw=8)]\n",
    "ax.legend(custom_lines, ['Showed Up', 'No Show'])\n",
    "plt.show()"
   ]
  },
  {
   "cell_type": "code",
   "execution_count": 58,
   "metadata": {},
   "outputs": [],
   "source": [
    "fields = ['Gender', 'BolsaFamilia', 'Alcoholism', 'Diabetes', 'Hypertension', 'NumHandicaps']\n",
    "\n",
    "# create dictionary of dataframes of proportions of no shows for each field\n",
    "no_show_props = {}\n",
    "for field in fields:\n",
    "    no_show_props[field] = (df.groupby([field,'NoShow'])['NoShow'].count()/\n",
    "                            df.groupby(field)['NoShow'].count()).rename('prop').reset_index()"
   ]
  },
  {
   "cell_type": "code",
   "execution_count": 76,
   "metadata": {
    "scrolled": false
   },
   "outputs": [
    {
     "data": {
      "image/png": "[encoded data removed]",
      "text/plain": [
       "<matplotlib.figure.Figure at 0x1a1a574208>"
      ]
     },
     "metadata": {},
     "output_type": "display_data"
    }
   ],
   "source": [
    "# Plot proportion of no shows by binary patient characteristics\n",
    "fig, axes = plt.subplots(1, 5, figsize = (15, 5), sharey = True)\n",
    "\n",
    "i = 0\n",
    "for ax in axes.reshape(-1):\n",
    "    data = no_show_props[fields[i]][no_show_props[fields[i]]['NoShow'] == 1] # only get no shows\n",
    "    sns.barplot(ax = ax, x = fields[i], y = 'prop', hue = 'NoShow', data = data);\n",
    "    sns.set_style(\"white\")\n",
    "    ax.tick_params(length = 0)\n",
    "    ax.legend_.remove()\n",
    "    sns.despine(left = True, bottom = True)\n",
    "    ax.set(yticklabels='')\n",
    "    if i == 0:\n",
    "        ax.set(xticklabels=['Male', 'Female'])\n",
    "        ax.set(xlabel = xlabels[i], ylabel = '')\n",
    "    else:\n",
    "        ax.set(xticklabels=['No', 'Yes'])\n",
    "        ax.set(xlabel = xlabels[i], ylabel = '')\n",
    "    if i == 2:\n",
    "        ax.set_title('\\nPatient Characteristics by Proportion of No Shows\\n\\n', fontsize = 18, fontweight = 'bold')\n",
    "    i += 1\n",
    "    \n",
    "    for p in ax.patches:\n",
    "        height = p.get_height()\n",
    "        ax.text(p.get_x() + p.get_width()/2.,\n",
    "                height + 0.01,\n",
    "                '{:0.3f}'.format(height),\n",
    "                ha=\"center\") \n",
    "plt.show()"
   ]
  },
  {
   "cell_type": "markdown",
   "metadata": {},
   "source": [
    "#### Age"
   ]
  },
  {
   "cell_type": "code",
   "execution_count": 45,
   "metadata": {
    "scrolled": true
   },
   "outputs": [
    {
     "data": {
      "image/png": "[encoded data removed]",
      "text/plain": [
       "<matplotlib.figure.Figure at 0x1a106a03c8>"
      ]
     },
     "metadata": {},
     "output_type": "display_data"
    }
   ],
   "source": [
    "# Only plot the average age for each unique patient that appears in the dataset\n",
    "fig = plt.figure(figsize = (8, 5))\n",
    "sns.distplot(unique_patients['Age'], bins=list(range(0, 120, 5)))\n",
    "sns.despine(left = True, bottom = True)\n",
    "plt.title('\\nPatient Ages', fontsize = 18, fontweight = 'bold')\n",
    "plt.xlabel('')\n",
    "plt.xticks(np.arange(0, 120, 10))\n",
    "plt.show();"
   ]
  },
  {
   "cell_type": "code",
   "execution_count": 22,
   "metadata": {},
   "outputs": [
    {
     "data": {
      "text/plain": [
       "0-10      9984\n",
       "11-20     7608\n",
       "21-40    15653\n",
       "41-60    16452\n",
       "61-80     9130\n",
       "81-99     1439\n",
       "100+         4\n",
       "Name: Age, dtype: int64"
      ]
     },
     "execution_count": 22,
     "metadata": {},
     "output_type": "execute_result"
    }
   ],
   "source": [
    "bins = [0, 11, 21, 41, 61, 81, 100, 116]\n",
    "bin_names = [\"0-10\", \"11-20\", \"21-40\", \"41-60\", \"61-80\", \"81-99\", \"100+\"]\n",
    "\n",
    "ages_bins = pd.cut(unique_patients['Age'], bins = bins, labels = bin_names).value_counts()\n",
    "ages_bins.sort_index()"
   ]
  },
  {
   "cell_type": "code",
   "execution_count": 23,
   "metadata": {},
   "outputs": [
    {
     "data": {
      "text/plain": [
       "count    101803.000000\n",
       "mean         37.059900\n",
       "std          23.214054\n",
       "min           0.000000\n",
       "25%          18.000000\n",
       "50%          37.000000\n",
       "75%          56.000000\n",
       "max         115.000000\n",
       "Name: Age, dtype: float64"
      ]
     },
     "execution_count": 23,
     "metadata": {},
     "output_type": "execute_result"
    }
   ],
   "source": [
    "df['Age'].describe()"
   ]
  },
  {
   "cell_type": "markdown",
   "metadata": {},
   "source": [
    "##### Age by Attendance"
   ]
  },
  {
   "cell_type": "code",
   "execution_count": 52,
   "metadata": {},
   "outputs": [],
   "source": [
    "# Create separate dataframes for no shows and shows\n",
    "no_shows = df[df['NoShow'] == 1]\n",
    "shows = df[df['NoShow'] == 0]"
   ]
  },
  {
   "cell_type": "code",
   "execution_count": 53,
   "metadata": {},
   "outputs": [
    {
     "data": {
      "image/png": "[encoded data removed]",
      "text/plain": [
       "<matplotlib.figure.Figure at 0x1a104fea58>"
      ]
     },
     "metadata": {},
     "output_type": "display_data"
    }
   ],
   "source": [
    "fig, ax = plt.subplots(figsize=(12, 8))\n",
    "ax.hist([no_shows['Age'].values, shows['Age'].values], bins=list(range(0, 120, 5)), normed=True)\n",
    "sns.despine(left = True, bottom = True)\n",
    "custom_lines = [Line2D([0], [0], color = 'steelblue', lw=8),\n",
    "                Line2D([0], [0], color = 'darkorange', lw=8)]\n",
    "ax.legend(custom_lines, ['Showed Up', 'No Show'])\n",
    "plt.title('\\nAttendance by Patient Age\\n', fontsize = 18, fontweight = 'bold')\n",
    "plt.xticks(np.arange(0, 120, 10))\n",
    "plt.show();"
   ]
  },
  {
   "cell_type": "markdown",
   "metadata": {},
   "source": [
    "#### Number of Handicaps"
   ]
  },
  {
   "cell_type": "code",
   "execution_count": 48,
   "metadata": {},
   "outputs": [
    {
     "data": {
      "image/png": "[encoded data removed]",
      "text/plain": [
       "<matplotlib.figure.Figure at 0x1a1240c160>"
      ]
     },
     "metadata": {},
     "output_type": "display_data"
    }
   ],
   "source": [
    "fig = plt.figure(figsize = (8, 5))\n",
    "sns.countplot(unique_patients['NumHandicaps'])\n",
    "sns.despine(left = True, bottom = True)\n",
    "plt.title('\\nNumber of Patient Handicaps\\n', fontsize = 18, fontweight = 'bold')\n",
    "plt.xlabel('')\n",
    "plt.ylabel('')\n",
    "plt.show();"
   ]
  },
  {
   "cell_type": "code",
   "execution_count": 49,
   "metadata": {},
   "outputs": [
    {
     "data": {
      "text/plain": [
       "0.0    61165\n",
       "1.0     1025\n",
       "2.0       99\n",
       "3.0        6\n",
       "4.0        3\n",
       "Name: NumHandicaps, dtype: int64"
      ]
     },
     "execution_count": 49,
     "metadata": {},
     "output_type": "execute_result"
    }
   ],
   "source": [
    "unique_patients['NumHandicaps'].value_counts()"
   ]
  },
  {
   "cell_type": "code",
   "execution_count": 50,
   "metadata": {},
   "outputs": [
    {
     "data": {
      "text/plain": [
       "0.02"
      ]
     },
     "execution_count": 50,
     "metadata": {},
     "output_type": "execute_result"
    }
   ],
   "source": [
    "round(unique_patients['NumHandicaps'].mean(), 3)"
   ]
  },
  {
   "cell_type": "markdown",
   "metadata": {},
   "source": [
    "##### Number of Handicaps by Attendance"
   ]
  },
  {
   "cell_type": "code",
   "execution_count": 93,
   "metadata": {},
   "outputs": [
    {
     "data": {
      "image/png": "[encoded data removed]",
      "text/plain": [
       "<matplotlib.figure.Figure at 0x1a12e86198>"
      ]
     },
     "metadata": {},
     "output_type": "display_data"
    }
   ],
   "source": [
    "fig, ax = plt.subplots(1, 1, figsize = (8, 5))\n",
    "data = no_show_props['NumHandicaps'][no_show_props['NumHandicaps']['NoShow'] == 1]\n",
    "sns.barplot(x = 'NumHandicaps', y = 'prop', data = data, color = 'steelblue');\n",
    "sns.despine(left = True, bottom = True)\n",
    "plt.title('\\nProportion of No Shows by Number of Patient Handicaps\\n', fontsize = 18, fontweight = 'bold')\n",
    "plt.xlabel('')\n",
    "plt.ylabel('')\n",
    "ax.set(yticklabels='')\n",
    "\n",
    "for p in ax.patches:\n",
    "    height = p.get_height()\n",
    "    ax.text(p.get_x() + p.get_width()/2.,\n",
    "            height + 0.01,\n",
    "            '{:0.3f}'.format(height),\n",
    "            ha=\"center\")\n",
    "    \n",
    "plt.show();"
   ]
  },
  {
   "cell_type": "markdown",
   "metadata": {},
   "source": [
    "#### Appointments by Day"
   ]
  },
  {
   "cell_type": "code",
   "execution_count": null,
   "metadata": {},
   "outputs": [],
   "source": [
    "df['AppointmentDay'].value_counts().sort_index().resample('D').sum()"
   ]
  },
  {
   "cell_type": "markdown",
   "metadata": {},
   "source": [
    "There were only 38 appointments on the weekend, all occurring on Saturday, May 14th.  Besides the weekends, there were no appointments on Monday, May 23; Thursday, May 26; or Friday, May 27.\n",
    "\n",
    "May 26 was the optional holiday of Corpus Christi, however I couldn't find any reason as to why there is no data for the 23rd or 27th."
   ]
  },
  {
   "cell_type": "code",
   "execution_count": null,
   "metadata": {},
   "outputs": [],
   "source": [
    "df['Weekend'].sum()"
   ]
  },
  {
   "cell_type": "code",
   "execution_count": null,
   "metadata": {},
   "outputs": [],
   "source": [
    "# Exclude weekends and weekdays with no appointments\n",
    "fig = plt.figure(figsize = (12, 8))\n",
    "no_weekends = df[df['Weekend'] == 0]\n",
    "appt_by_day = no_weekends.groupby('AppointmentDay')['AppointmentDay'].count()\n",
    "appt_by_day.plot(linewidth = 2)\n",
    "sns.despine(left = True, bottom = True)\n",
    "plt.title('\\nNumber of Appointments by Day\\n', fontsize = 18, fontweight = 'bold')\n",
    "plt.xlabel('');"
   ]
  },
  {
   "cell_type": "markdown",
   "metadata": {},
   "source": [
    "The weekends and weekdays with no appointments were excluded from the graph in order to focus more on the normal fluctuations without the low outliers affecting the graph."
   ]
  },
  {
   "cell_type": "code",
   "execution_count": null,
   "metadata": {},
   "outputs": [],
   "source": [
    "# Average number of appointments per day (on non-zero days and weekdays)\n",
    "round(df[df['Weekend'] == 0]['AppointmentDay'].value_counts().mean(), 2)"
   ]
  },
  {
   "cell_type": "code",
   "execution_count": null,
   "metadata": {},
   "outputs": [],
   "source": [
    "days_of_week = ['Monday', 'Tuesday', 'Wednesday', 'Thursday', 'Friday', 'Saturday']\n",
    "\n",
    "fig, ax = plt.subplots(figsize = (8, 5))\n",
    "df['DayOfWeek'].value_counts().sort_index().plot(ax = ax, kind = 'bar', color = 'steelblue')\n",
    "ax.set(xticklabels = days_of_week)\n",
    "sns.despine(left = True, bottom = True)\n",
    "plt.xticks(rotation = 0)\n",
    "plt.title('\\nAppointments by Day of Week\\n', fontsize = 18, fontweight = 'bold');"
   ]
  },
  {
   "cell_type": "markdown",
   "metadata": {},
   "source": [
    "#### Scheduled Appointments By Day"
   ]
  },
  {
   "cell_type": "code",
   "execution_count": null,
   "metadata": {
    "scrolled": false
   },
   "outputs": [],
   "source": [
    "sched_date_counts = df.groupby('ScheduledDayDate')['ScheduledDayDate'].count()\n",
    "\n",
    "# Find index of first scheduled date that is an appointment date\n",
    "sched_len = len(sched_date_counts)\n",
    "first_ix = list(sched_date_counts.index > df['AppointmentDayDate'].min()).index(True)\n",
    "\n",
    "# Use orange for the appointments scheduled during the time period that\n",
    "# the appointments took place\n",
    "colors = ['steelblue'] * first_ix\n",
    "colors.extend(['darkorange'] * (sched_len-first_ix))\n",
    "\n",
    "fig, ax = plt.subplots(figsize = (12, 8))\n",
    "ax.bar(sched_date_counts.index, sched_date_counts, color = colors)\n",
    "ax.xaxis.set_major_locator(mdates.MonthLocator())\n",
    "ax.xaxis.set_major_formatter(mdates.DateFormatter('%B\\n%Y'))\n",
    "\n",
    "custom_lines = [Line2D([0], [0], color = 'steelblue', lw=4),\n",
    "                Line2D([0], [0], color = 'darkorange', lw=4)]\n",
    "ax.legend(custom_lines, ['Prior to appointments starting',\n",
    "                         'During time period when appointments started'])\n",
    "\n",
    "sns.despine(left = True, bottom = True)\n",
    "plt.xticks(rotation = 45, fontsize = 13)\n",
    "plt.title('\\nNumber of Scheduled Appointments by Day\\n', fontsize = 18, fontweight = 'bold');"
   ]
  },
  {
   "cell_type": "code",
   "execution_count": null,
   "metadata": {},
   "outputs": [],
   "source": [
    "# Proportion of appointments that were scheduled during the time period that\n",
    "# the appointments took place\n",
    "sched_date_counts[first_ix:].sum()/sched_date_counts.sum()"
   ]
  },
  {
   "cell_type": "markdown",
   "metadata": {},
   "source": [
    "#### Neighborhoods"
   ]
  },
  {
   "cell_type": "code",
   "execution_count": null,
   "metadata": {},
   "outputs": [],
   "source": [
    "neighborhood_counts = df['Neighborhood'].value_counts()\n",
    "\n",
    "fig, ax = plt.subplots(figsize = (10, 15))\n",
    "neighborhood_counts.sort_values().plot(kind = 'barh', color = 'steelblue')\n",
    "sns.despine(left = True, bottom = True)\n",
    "plt.yticks(fontsize = 12)\n",
    "plt.title('\\nAppointments by Neighborhood\\n', fontsize = 18, fontweight = 'bold');"
   ]
  },
  {
   "cell_type": "code",
   "execution_count": null,
   "metadata": {},
   "outputs": [],
   "source": [
    "neighborhood_df = pd.DataFrame(neighborhood_counts).reset_index().rename(columns = {'index': 'neighborhood',\n",
    "                                                                                    'Neighborhood': 'count'})\n",
    "# join neighborhood_counts with geo dataframe\n",
    "neighborhood_lat_lng = pd.merge(neighborhood_df, geo[['neighborhood', 'lat', 'lng']], on = 'neighborhood')\n",
    "\n",
    "# convert counts to proportions\n",
    "neighborhood_lat_lng['prop'] = neighborhood_lat_lng['count']/len(df)\n",
    "neighborhood_lat_lng.head()"
   ]
  },
  {
   "cell_type": "code",
   "execution_count": null,
   "metadata": {},
   "outputs": [],
   "source": [
    "hood_lst = neighborhood_lat_lng[['lat', 'lng', 'prop']].values.tolist() # need to pass list to folium\n",
    "\n",
    "m = folium.Map(location=[-20.292474, -40.317893], tiles='stamentoner', zoom_start = 13)\n",
    "m.add_child(folium.plugins.HeatMap(hood_lst))"
   ]
  },
  {
   "cell_type": "markdown",
   "metadata": {},
   "source": [
    "#### SMS Received and No Shows"
   ]
  },
  {
   "cell_type": "code",
   "execution_count": null,
   "metadata": {},
   "outputs": [],
   "source": [
    "# Plot binary appointment characteristics\n",
    "fields = ['SMSReceived', 'NoShow']\n",
    "xlabels = ['SMS Received', 'No Show']\n",
    "labels = ['No', 'Yes']\n",
    "\n",
    "fig, axes = plt.subplots(1, 2, figsize = (8, 5), sharey = True)\n",
    "\n",
    "i = 0\n",
    "for ax in axes.reshape(-1):\n",
    "    sns.countplot(ax = ax, x = fields[i], data = unique_patients)\n",
    "    sns.set_style(\"white\")\n",
    "    ax.tick_params(length = 0)\n",
    "    sns.despine(left = True, bottom = True)\n",
    "    ax.set(xticklabels=['', ''])\n",
    "    ax.set(xlabel = '\\n' + xlabels[i], ylabel = '')\n",
    "    i += 1\n",
    "    \n",
    "custom_lines = [Line2D([0], [0], color = 'steelblue', lw=4),\n",
    "                Line2D([0], [0], color = 'darkorange', lw=4)]\n",
    "ax.legend(custom_lines, ['No', 'Yes'])\n",
    "plt.show()"
   ]
  },
  {
   "cell_type": "code",
   "execution_count": null,
   "metadata": {},
   "outputs": [],
   "source": [
    "# Proportion of sms received\n",
    "df['SMSReceived'].mean()"
   ]
  },
  {
   "cell_type": "code",
   "execution_count": null,
   "metadata": {},
   "outputs": [],
   "source": [
    "# Proportion of no shows\n",
    "df['NoShow'].mean()"
   ]
  },
  {
   "cell_type": "markdown",
   "metadata": {},
   "source": [
    "#### Number of Times an Appointment was Scheduled"
   ]
  },
  {
   "cell_type": "code",
   "execution_count": null,
   "metadata": {},
   "outputs": [],
   "source": [
    "df['NumTimesScheduled'].describe()"
   ]
  },
  {
   "cell_type": "code",
   "execution_count": null,
   "metadata": {},
   "outputs": [],
   "source": [
    "# Append missing values from value_counts index\n",
    "missing_times_sched = pd.Series([0, 0], index = [7, 9])\n",
    "missing_times_sched\n",
    "\n",
    "num_times_sched = (df['NumTimesScheduled'].value_counts()).append(missing_times_sched).\\\n",
    "                   sort_index()"
   ]
  },
  {
   "cell_type": "code",
   "execution_count": null,
   "metadata": {},
   "outputs": [],
   "source": [
    "fig, ax = plt.subplots(figsize = (8, 5))\n",
    "num_times_sched.plot(kind = 'bar', color = 'steelblue')\n",
    "\n",
    "plt.xticks(rotation = 0)\n",
    "plt.ylabel('')\n",
    "sns.despine(left = True, bottom = True)\n",
    "plt.title('\\nNumber of Times an Appointment was Scheduled\\n', fontsize = 18, fontweight = 'bold');"
   ]
  },
  {
   "cell_type": "code",
   "execution_count": null,
   "metadata": {},
   "outputs": [],
   "source": [
    "fig, ax = plt.subplots(figsize = (8, 5))\n",
    "num_times_sched.plot(kind = 'bar', color = 'steelblue')\n",
    "\n",
    "plt.xticks(rotation = 0)\n",
    "plt.ylabel('')\n",
    "ax.set_yscale('log')\n",
    "sns.despine(left = True, bottom = True)\n",
    "plt.title('\\nNumber of Times an Appointment was Scheduled\\n', fontsize = 18, fontweight = 'bold')\n",
    "plt.suptitle('\\nLog Scale\\n', fontsize = 16);"
   ]
  },
  {
   "cell_type": "markdown",
   "metadata": {},
   "source": [
    "#### Days Between Scheduling and Appointment"
   ]
  },
  {
   "cell_type": "code",
   "execution_count": null,
   "metadata": {},
   "outputs": [],
   "source": [
    "fig, ax = plt.subplots(figsize = (8, 5))\n",
    "df['DayDiff'].hist(bins = 25)\n",
    "sns.despine(left = True, bottom = True)\n",
    "plt.title('\\nDays Between Scheduling and Appointment\\n', fontsize = 18, fontweight = 'bold')\n",
    "plt.show();"
   ]
  },
  {
   "cell_type": "code",
   "execution_count": null,
   "metadata": {},
   "outputs": [],
   "source": [
    "fig, ax = plt.subplots(figsize = (8, 5))\n",
    "df['DayDiff'].hist(bins = 25)\n",
    "sns.despine(left = True, bottom = True)\n",
    "ax.set_yscale('log')\n",
    "plt.title('\\nDays Between Scheduling and Appointment\\n', fontsize = 18, fontweight = 'bold')\n",
    "plt.suptitle('\\nLog Scale\\n', fontsize = 16);\n",
    "plt.show();"
   ]
  },
  {
   "cell_type": "code",
   "execution_count": null,
   "metadata": {},
   "outputs": [],
   "source": [
    "df['DayDiff'].describe()"
   ]
  },
  {
   "cell_type": "code",
   "execution_count": null,
   "metadata": {},
   "outputs": [],
   "source": [
    "# Proportion of appointments scheduled on the same day as the appointment\n",
    "(df['DayDiff'] == 0).sum()/len(df)"
   ]
  },
  {
   "cell_type": "markdown",
   "metadata": {},
   "source": [
    "#### Days Between Rescheduling"
   ]
  },
  {
   "cell_type": "code",
   "execution_count": null,
   "metadata": {},
   "outputs": [],
   "source": [
    "df['DaysBWScheduling'].describe()"
   ]
  },
  {
   "cell_type": "code",
   "execution_count": null,
   "metadata": {},
   "outputs": [],
   "source": [
    "fig, ax = plt.subplots(figsize = (8, 5))\n",
    "df['DaysBWScheduling'].hist(bins = 30)\n",
    "sns.despine(left = True, bottom = True)\n",
    "plt.xlabel('Days', fontsize = 14)\n",
    "plt.title('\\nDifferences in Scheduling\\n', fontsize = 18, fontweight = 'bold');"
   ]
  },
  {
   "cell_type": "code",
   "execution_count": null,
   "metadata": {},
   "outputs": [],
   "source": [
    "# Differences that are greater than 0\n",
    "diff_greater_0 = df.query('DaysBWScheduling > 0')['DaysBWScheduling']\n",
    "diff_greater_0.describe()"
   ]
  },
  {
   "cell_type": "code",
   "execution_count": null,
   "metadata": {},
   "outputs": [],
   "source": [
    "fig, ax = plt.subplots(figsize = (8, 5))\n",
    "diff_greater_0.hist(bins = 20)\n",
    "sns.despine(left = True, bottom = True)\n",
    "plt.xlabel('Days', fontsize = 14)\n",
    "plt.title('\\nNon-Zero Differences in Scheduling\\n', fontsize = 18, fontweight = 'bold');"
   ]
  },
  {
   "cell_type": "code",
   "execution_count": null,
   "metadata": {},
   "outputs": [],
   "source": [
    "fig, ax = plt.subplots(figsize = (8, 5))\n",
    "df['DaysBWScheduling'].hist(bins = 20)\n",
    "sns.despine(left = True, bottom = True)\n",
    "plt.xlabel('Days', fontsize = 14)\n",
    "ax.set_yscale('log')\n",
    "plt.title('\\nDifferences in Scheduling\\n', fontsize = 18, fontweight = 'bold')\n",
    "plt.suptitle('\\nLog Scale\\n', fontsize = 16);"
   ]
  },
  {
   "cell_type": "markdown",
   "metadata": {},
   "source": [
    "#### Weather"
   ]
  },
  {
   "cell_type": "code",
   "execution_count": null,
   "metadata": {},
   "outputs": [],
   "source": [
    "# Number of rainy days\n",
    "weather['rain'].sum()"
   ]
  },
  {
   "cell_type": "code",
   "execution_count": null,
   "metadata": {},
   "outputs": [],
   "source": [
    "# Number of days with thunderstorms\n",
    "weather['thunderstorm'].sum()"
   ]
  },
  {
   "cell_type": "code",
   "execution_count": null,
   "metadata": {},
   "outputs": [],
   "source": [
    "# Number of days with fog\n",
    "weather['fog'].sum()"
   ]
  },
  {
   "cell_type": "code",
   "execution_count": null,
   "metadata": {},
   "outputs": [],
   "source": [
    "# Add field for formatted dates for plots\n",
    "weather['FormattedDate'] = weather['Datetime'].dt.strftime(\"%B %-d\")"
   ]
  },
  {
   "cell_type": "markdown",
   "metadata": {},
   "source": [
    "##### Precipitation"
   ]
  },
  {
   "cell_type": "code",
   "execution_count": null,
   "metadata": {},
   "outputs": [],
   "source": [
    "# Number of days with more than 0 in. precipitation\n",
    "(weather['precip_in'] > 0).sum()"
   ]
  },
  {
   "cell_type": "code",
   "execution_count": null,
   "metadata": {},
   "outputs": [],
   "source": [
    "fig, ax = plt.subplots(figsize = (8, 5))\n",
    "\n",
    "sns.pointplot(ax = ax, x = 'FormattedDate', y = 'precip_in', data = weather)\n",
    "sns.despine(left = True, bottom = True)\n",
    "plt.xlabel('')\n",
    "plt.xticks(rotation = 45, fontsize = 13)\n",
    "plt.ylabel('Precipitation (in.)\\n', fontsize = 14)\n",
    "plt.yticks(fontsize = 13)\n",
    "plt.title('\\nPrecipitation by Appointment Day\\n', fontsize = 18, fontweight = 'bold')\n",
    "\n",
    "for label in ax.xaxis.get_ticklabels()[::2]:\n",
    "    label.set_visible(False)\n",
    "\n",
    "plt.show()"
   ]
  },
  {
   "cell_type": "markdown",
   "metadata": {},
   "source": [
    "##### Temperature"
   ]
  },
  {
   "cell_type": "code",
   "execution_count": null,
   "metadata": {},
   "outputs": [],
   "source": [
    "# Create temps dataframe in long format for plot\n",
    "temps = pd.melt(weather, id_vars = ['FormattedDate'],\n",
    "                value_vars=['temp_high', 'temp_avg', 'temp_low'],\n",
    "                var_name = 'Name',\n",
    "                value_name= 'Temperature')"
   ]
  },
  {
   "cell_type": "code",
   "execution_count": null,
   "metadata": {
    "scrolled": false
   },
   "outputs": [],
   "source": [
    "fig, ax = plt.subplots(figsize = (12, 8))\n",
    "\n",
    "custom = ['#C62D42', '#F2C649', '#0095B7']\n",
    "sns.set_palette(custom)\n",
    "\n",
    "sns.pointplot(ax = ax, x = 'FormattedDate', y = 'Temperature', hue = 'Name', data = temps)\n",
    "sns.despine(left = True, bottom = True)\n",
    "\n",
    "plt.xlabel('')\n",
    "plt.xticks(rotation = 45, fontsize = 13)\n",
    "plt.yticks(fontsize = 13)\n",
    "plt.ylabel('')\n",
    "\n",
    "for label in ax.xaxis.get_ticklabels()[::2]:\n",
    "    label.set_visible(False)\n",
    "\n",
    "custom_lines = [Line2D([0], [0], marker='o', color = '#C62D42', lw=4),\n",
    "                Line2D([0], [0], marker='o', color = '#F2C649', lw=4),\n",
    "                Line2D([0], [0], marker='o', color = '#0095B7', lw=4)]\n",
    "ax.legend(custom_lines, ['High', 'Average', 'Low'])\n",
    "\n",
    "plt.title('\\nTemperatures by Appointment Day\\n', fontsize = 18, fontweight = 'bold')\n",
    "plt.show()"
   ]
  },
  {
   "cell_type": "code",
   "execution_count": null,
   "metadata": {},
   "outputs": [],
   "source": [
    "pd.concat([weather['temp_low'].describe(),\n",
    "           weather['temp_avg'].describe(),\n",
    "           weather['temp_high'].describe()],\n",
    "           axis=1)"
   ]
  },
  {
   "cell_type": "markdown",
   "metadata": {},
   "source": [
    "##### Humidity"
   ]
  },
  {
   "cell_type": "code",
   "execution_count": null,
   "metadata": {},
   "outputs": [],
   "source": [
    "# Create humidity dataframe in long format for plot\n",
    "humidity = pd.melt(weather, id_vars = ['FormattedDate'],\n",
    "                value_vars=['humidity_high', 'humidity_avg', 'humidity_low'],\n",
    "                var_name = 'Name',\n",
    "                value_name= 'Humidity')"
   ]
  },
  {
   "cell_type": "code",
   "execution_count": null,
   "metadata": {},
   "outputs": [],
   "source": [
    "fig, ax = plt.subplots(figsize = (12, 8))\n",
    "\n",
    "sns.pointplot(ax = ax, x = 'FormattedDate', y = 'Humidity', hue = 'Name', data = humidity)\n",
    "sns.despine(left = True, bottom = True)\n",
    "\n",
    "plt.xlabel('')\n",
    "plt.xticks(rotation = 45, fontsize = 13)\n",
    "plt.yticks(fontsize = 13)\n",
    "plt.ylabel('')\n",
    "\n",
    "for label in ax.xaxis.get_ticklabels()[::2]:\n",
    "    label.set_visible(False)\n",
    "\n",
    "custom_lines = [Line2D([0], [0], marker='o', color = '#C62D42', lw=4),\n",
    "                Line2D([0], [0], marker='o', color = '#F2C649', lw=4),\n",
    "                Line2D([0], [0], marker='o', color = '#0095B7', lw=4)]\n",
    "ax.legend(custom_lines, ['High', 'Average', 'Low'], loc=2)\n",
    "\n",
    "plt.title('\\nHumidity by Appointment Day\\n', fontsize = 18, fontweight = 'bold')\n",
    "plt.show()"
   ]
  },
  {
   "cell_type": "code",
   "execution_count": null,
   "metadata": {},
   "outputs": [],
   "source": [
    "pd.concat([weather['humidity_low'].describe(),\n",
    "           weather['humidity_avg'].describe(),\n",
    "           weather['humidity_high'].describe()],\n",
    "           axis=1)"
   ]
  },
  {
   "cell_type": "markdown",
   "metadata": {},
   "source": [
    "##### Visibility"
   ]
  },
  {
   "cell_type": "code",
   "execution_count": null,
   "metadata": {},
   "outputs": [],
   "source": [
    "# Create humidity dataframe in long format for plot\n",
    "visibility = pd.melt(weather, id_vars = ['FormattedDate'],\n",
    "                     value_vars=['visibility_high', 'visibility_avg', 'visibility_low'],\n",
    "                     var_name = 'Name',\n",
    "                     value_name= 'Visibility')"
   ]
  },
  {
   "cell_type": "code",
   "execution_count": null,
   "metadata": {},
   "outputs": [],
   "source": [
    "fig, ax = plt.subplots(figsize = (12, 8))\n",
    "\n",
    "sns.pointplot(ax = ax, x = 'FormattedDate', y = 'Visibility', hue = 'Name', data = visibility)\n",
    "sns.despine(left = True, bottom = True)\n",
    "\n",
    "plt.xlabel('')\n",
    "plt.xticks(rotation = 45, fontsize = 13)\n",
    "plt.yticks(fontsize = 13)\n",
    "plt.ylabel('')\n",
    "\n",
    "for label in ax.xaxis.get_ticklabels()[::2]:\n",
    "    label.set_visible(False)\n",
    "\n",
    "custom_lines = [Line2D([0], [0], marker='o', color = '#C62D42', lw=4),\n",
    "                Line2D([0], [0], marker='o', color = '#F2C649', lw=4),\n",
    "                Line2D([0], [0], marker='o', color = '#0095B7', lw=4)]\n",
    "ax.legend(custom_lines, ['High', 'Average', 'Low'])\n",
    "\n",
    "plt.title('\\nVisibility by Appointment Day\\n', fontsize = 18, fontweight = 'bold')\n",
    "plt.show()"
   ]
  },
  {
   "cell_type": "code",
   "execution_count": null,
   "metadata": {},
   "outputs": [],
   "source": [
    "pd.concat([weather['visibility_low'].describe(),\n",
    "           weather['visibility_avg'].describe(),\n",
    "           weather['visibility_high'].describe()],\n",
    "           axis=1)"
   ]
  },
  {
   "cell_type": "markdown",
   "metadata": {},
   "source": [
    "##### Wind"
   ]
  },
  {
   "cell_type": "code",
   "execution_count": null,
   "metadata": {},
   "outputs": [],
   "source": [
    "wind = pd.melt(weather, id_vars = ['FormattedDate'],\n",
    "                value_vars=['wind_high', 'wind_avg'],\n",
    "                var_name = 'Name',\n",
    "                value_name= 'Wind')"
   ]
  },
  {
   "cell_type": "code",
   "execution_count": null,
   "metadata": {},
   "outputs": [],
   "source": [
    "fig, ax = plt.subplots(figsize = (12, 8))\n",
    "\n",
    "sns.pointplot(ax = ax, x = 'FormattedDate', y = 'Wind', hue = 'Name', data = wind)\n",
    "sns.despine(left = True, bottom = True)\n",
    "\n",
    "plt.xlabel('')\n",
    "plt.xticks(rotation = 45, fontsize = 13)\n",
    "plt.yticks(fontsize = 13)\n",
    "plt.ylabel('')\n",
    "\n",
    "for label in ax.xaxis.get_ticklabels()[::2]:\n",
    "    label.set_visible(False)\n",
    "\n",
    "custom_lines = [Line2D([0], [0], marker='o', color = '#C62D42', lw=4),\n",
    "                Line2D([0], [0], marker='o', color = '#F2C649', lw=4)]\n",
    "ax.legend(custom_lines, ['High', 'Average'], loc=2)\n",
    "\n",
    "plt.title('\\nWind by Appointment Day\\n', fontsize = 18, fontweight = 'bold')\n",
    "plt.show()"
   ]
  },
  {
   "cell_type": "code",
   "execution_count": null,
   "metadata": {},
   "outputs": [],
   "source": [
    "pd.concat([weather['wind_avg'].describe(),\n",
    "           weather['wind_high'].describe()],\n",
    "           axis=1)"
   ]
  }
 ],
 "metadata": {
  "kernelspec": {
   "display_name": "Python 3",
   "language": "python",
   "name": "python3"
  },
  "language_info": {
   "codemirror_mode": {
    "name": "ipython",
    "version": 3
   },
   "file_extension": ".py",
   "mimetype": "text/x-python",
   "name": "python",
   "nbconvert_exporter": "python",
   "pygments_lexer": "ipython3",
   "version": "3.6.4"
  }
 },
 "nbformat": 4,
 "nbformat_minor": 2
}
