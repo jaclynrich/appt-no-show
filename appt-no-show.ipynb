{
 "cells": [
  {
   "cell_type": "markdown",
   "metadata": {},
   "source": [
    "# Predicting Doctor Appointment No-Shows\n",
    "***\n",
    "\n",
    "## Table of Contents\n",
    "* [Reloading](#reloading)\n",
    "* [Introduction](#introduction)\n",
    "* [Data Wrangling](#data_wrangling)\n",
    "    * [General Properties](#general_properties)\n",
    "    * [Data Cleaning](#data_cleaning)\n",
    "        * [Checking for Duplicates](#cleaning_duplicates)\n",
    "        * [Appointment ID](#cleaning_appointment_id)\n",
    "        * [Scheduled Day](#cleaning_scheduled_day)\n",
    "        * [Appointment Day](#cleaning_appointment_day)\n",
    "        * [Gender](#cleaning_gender)\n",
    "        * [Age](#cleaning_age)\n",
    "        * [Bolsa Familia](#cleaning_bolsa_familia)\n",
    "        * [Hypertension](#cleaning_hypertension)\n",
    "        * [Diabetes](#cleaning_diabetes)\n",
    "        * [Number of Handicaps](#cleaning_number_handicaps)\n",
    "        * [SMS Received](#cleaning_sms_received)\n",
    "        * [No Show](#cleaning_no_show)\n",
    "        * [Neighborhood](#cleaning_neighborhood)\n",
    "        * [Patient ID](#cleaning_patient_id)\n",
    "            * [Patient ID Consistency](#cleaning_patient_id_consistency)\n",
    "* [Additional Data](#addtl_data)\n",
    "* [Feature Engineering](#feat_engineering)\n",
    "* [Initial Exploration and Further Cleaning](#further_cleaning)\n",
    "* [Exploratory Data Analysis](#eda)\n",
    "    * [Univariate](#univariate)\n",
    "    * [By Attendance](#by_attendance)"
   ]
  },
  {
   "cell_type": "markdown",
   "metadata": {},
   "source": [
    "<a id='introduction'></a>"
   ]
  },
  {
   "cell_type": "markdown",
   "metadata": {},
   "source": [
    "## Introduction\n",
    "***"
   ]
  },
  {
   "cell_type": "markdown",
   "metadata": {
    "collapsed": true
   },
   "source": [
    "In this project, my aim is to determine what patient characteristics are connected with not showing up to a doctor's appointment by analyzing a data set of over 110K medical appointments in Vitória, Espírito Santo, Brazil provided by JoniHoppen on [Kaggle](https://www.kaggle.com/joniarroba/noshowappointments)."
   ]
  },
  {
   "cell_type": "markdown",
   "metadata": {},
   "source": [
    "<a id='data_wrangling'></a>"
   ]
  },
  {
   "cell_type": "markdown",
   "metadata": {},
   "source": [
    "## Data Wrangling\n",
    "***"
   ]
  },
  {
   "cell_type": "code",
   "execution_count": 1,
   "metadata": {},
   "outputs": [],
   "source": [
    "import pandas as pd\n",
    "import numpy as np\n",
    "import geocoder\n",
    "import matplotlib.pyplot as plt\n",
    "import matplotlib.dates as mdates\n",
    "from matplotlib.lines import Line2D\n",
    "import matplotlib\n",
    "import seaborn as sns\n",
    "import folium\n",
    "from folium.plugins import HeatMap\n",
    "import scipy.stats as stats\n",
    "from scipy.stats import chi2_contingency\n",
    "from datetime import timedelta\n",
    "import config\n",
    "API_KEY = config.api_key"
   ]
  },
  {
   "cell_type": "code",
   "execution_count": 2,
   "metadata": {},
   "outputs": [],
   "source": [
    "matplotlib.rcParams.update({'font.size': 12.5})"
   ]
  },
  {
   "cell_type": "markdown",
   "metadata": {},
   "source": [
    "<a id='general_properties'></a>"
   ]
  },
  {
   "cell_type": "markdown",
   "metadata": {},
   "source": [
    "### General Properties"
   ]
  },
  {
   "cell_type": "code",
   "execution_count": 3,
   "metadata": {},
   "outputs": [
    {
     "data": {
      "text/html": [
       "<div>\n",
       "<style scoped>\n",
       "    .dataframe tbody tr th:only-of-type {\n",
       "        vertical-align: middle;\n",
       "    }\n",
       "\n",
       "    .dataframe tbody tr th {\n",
       "        vertical-align: top;\n",
       "    }\n",
       "\n",
       "    .dataframe thead th {\n",
       "        text-align: right;\n",
       "    }\n",
       "</style>\n",
       "<table border=\"1\" class=\"dataframe\">\n",
       "  <thead>\n",
       "    <tr style=\"text-align: right;\">\n",
       "      <th></th>\n",
       "      <th>PatientId</th>\n",
       "      <th>AppointmentID</th>\n",
       "      <th>Gender</th>\n",
       "      <th>ScheduledDay</th>\n",
       "      <th>AppointmentDay</th>\n",
       "      <th>Age</th>\n",
       "      <th>Neighbourhood</th>\n",
       "      <th>Scholarship</th>\n",
       "      <th>Hipertension</th>\n",
       "      <th>Diabetes</th>\n",
       "      <th>Alcoholism</th>\n",
       "      <th>Handcap</th>\n",
       "      <th>SMS_received</th>\n",
       "      <th>No-show</th>\n",
       "    </tr>\n",
       "  </thead>\n",
       "  <tbody>\n",
       "    <tr>\n",
       "      <th>0</th>\n",
       "      <td>2.987250e+13</td>\n",
       "      <td>5642903</td>\n",
       "      <td>F</td>\n",
       "      <td>2016-04-29T18:38:08Z</td>\n",
       "      <td>2016-04-29T00:00:00Z</td>\n",
       "      <td>62</td>\n",
       "      <td>JARDIM DA PENHA</td>\n",
       "      <td>0</td>\n",
       "      <td>1</td>\n",
       "      <td>0</td>\n",
       "      <td>0</td>\n",
       "      <td>0</td>\n",
       "      <td>0</td>\n",
       "      <td>No</td>\n",
       "    </tr>\n",
       "    <tr>\n",
       "      <th>1</th>\n",
       "      <td>5.589978e+14</td>\n",
       "      <td>5642503</td>\n",
       "      <td>M</td>\n",
       "      <td>2016-04-29T16:08:27Z</td>\n",
       "      <td>2016-04-29T00:00:00Z</td>\n",
       "      <td>56</td>\n",
       "      <td>JARDIM DA PENHA</td>\n",
       "      <td>0</td>\n",
       "      <td>0</td>\n",
       "      <td>0</td>\n",
       "      <td>0</td>\n",
       "      <td>0</td>\n",
       "      <td>0</td>\n",
       "      <td>No</td>\n",
       "    </tr>\n",
       "    <tr>\n",
       "      <th>2</th>\n",
       "      <td>4.262962e+12</td>\n",
       "      <td>5642549</td>\n",
       "      <td>F</td>\n",
       "      <td>2016-04-29T16:19:04Z</td>\n",
       "      <td>2016-04-29T00:00:00Z</td>\n",
       "      <td>62</td>\n",
       "      <td>MATA DA PRAIA</td>\n",
       "      <td>0</td>\n",
       "      <td>0</td>\n",
       "      <td>0</td>\n",
       "      <td>0</td>\n",
       "      <td>0</td>\n",
       "      <td>0</td>\n",
       "      <td>No</td>\n",
       "    </tr>\n",
       "    <tr>\n",
       "      <th>3</th>\n",
       "      <td>8.679512e+11</td>\n",
       "      <td>5642828</td>\n",
       "      <td>F</td>\n",
       "      <td>2016-04-29T17:29:31Z</td>\n",
       "      <td>2016-04-29T00:00:00Z</td>\n",
       "      <td>8</td>\n",
       "      <td>PONTAL DE CAMBURI</td>\n",
       "      <td>0</td>\n",
       "      <td>0</td>\n",
       "      <td>0</td>\n",
       "      <td>0</td>\n",
       "      <td>0</td>\n",
       "      <td>0</td>\n",
       "      <td>No</td>\n",
       "    </tr>\n",
       "    <tr>\n",
       "      <th>4</th>\n",
       "      <td>8.841186e+12</td>\n",
       "      <td>5642494</td>\n",
       "      <td>F</td>\n",
       "      <td>2016-04-29T16:07:23Z</td>\n",
       "      <td>2016-04-29T00:00:00Z</td>\n",
       "      <td>56</td>\n",
       "      <td>JARDIM DA PENHA</td>\n",
       "      <td>0</td>\n",
       "      <td>1</td>\n",
       "      <td>1</td>\n",
       "      <td>0</td>\n",
       "      <td>0</td>\n",
       "      <td>0</td>\n",
       "      <td>No</td>\n",
       "    </tr>\n",
       "  </tbody>\n",
       "</table>\n",
       "</div>"
      ],
      "text/plain": [
       "      PatientId  AppointmentID Gender          ScheduledDay  \\\n",
       "0  2.987250e+13        5642903      F  2016-04-29T18:38:08Z   \n",
       "1  5.589978e+14        5642503      M  2016-04-29T16:08:27Z   \n",
       "2  4.262962e+12        5642549      F  2016-04-29T16:19:04Z   \n",
       "3  8.679512e+11        5642828      F  2016-04-29T17:29:31Z   \n",
       "4  8.841186e+12        5642494      F  2016-04-29T16:07:23Z   \n",
       "\n",
       "         AppointmentDay  Age      Neighbourhood  Scholarship  Hipertension  \\\n",
       "0  2016-04-29T00:00:00Z   62    JARDIM DA PENHA            0             1   \n",
       "1  2016-04-29T00:00:00Z   56    JARDIM DA PENHA            0             0   \n",
       "2  2016-04-29T00:00:00Z   62      MATA DA PRAIA            0             0   \n",
       "3  2016-04-29T00:00:00Z    8  PONTAL DE CAMBURI            0             0   \n",
       "4  2016-04-29T00:00:00Z   56    JARDIM DA PENHA            0             1   \n",
       "\n",
       "   Diabetes  Alcoholism  Handcap  SMS_received No-show  \n",
       "0         0           0        0             0      No  \n",
       "1         0           0        0             0      No  \n",
       "2         0           0        0             0      No  \n",
       "3         0           0        0             0      No  \n",
       "4         1           0        0             0      No  "
      ]
     },
     "execution_count": 3,
     "metadata": {},
     "output_type": "execute_result"
    }
   ],
   "source": [
    "orig = pd.read_csv('KaggleV2-May-2016.csv')\n",
    "orig.head()"
   ]
  },
  {
   "cell_type": "code",
   "execution_count": 4,
   "metadata": {},
   "outputs": [
    {
     "data": {
      "text/plain": [
       "110527"
      ]
     },
     "execution_count": 4,
     "metadata": {},
     "output_type": "execute_result"
    }
   ],
   "source": [
    "# Number of records\n",
    "n = len(orig)\n",
    "n"
   ]
  },
  {
   "cell_type": "code",
   "execution_count": 5,
   "metadata": {},
   "outputs": [],
   "source": [
    "# Rename fields to have more consistent formatting and to English where appropriate\n",
    "orig.columns = ['PatientID', 'AppointmentID', 'Gender', 'ScheduledDay',\n",
    "              'AppointmentDay', 'Age', 'Neighborhood', 'BolsaFamilia', \\\n",
    "              'Hypertension', 'Diabetes', 'Alcoholism', 'NumHandicaps', \\\n",
    "              'SMSReceived', 'NoShow']"
   ]
  },
  {
   "cell_type": "code",
   "execution_count": 6,
   "metadata": {},
   "outputs": [
    {
     "data": {
      "text/plain": [
       "PatientID         0\n",
       "AppointmentID     0\n",
       "Gender            0\n",
       "ScheduledDay      0\n",
       "AppointmentDay    0\n",
       "Age               0\n",
       "Neighborhood      0\n",
       "BolsaFamilia      0\n",
       "Hypertension      0\n",
       "Diabetes          0\n",
       "Alcoholism        0\n",
       "NumHandicaps      0\n",
       "SMSReceived       0\n",
       "NoShow            0\n",
       "dtype: int64"
      ]
     },
     "execution_count": 6,
     "metadata": {},
     "output_type": "execute_result"
    }
   ],
   "source": [
    "# Number of nulls\n",
    "orig.isnull().sum()"
   ]
  },
  {
   "cell_type": "markdown",
   "metadata": {},
   "source": [
    "> There are no null records in any of the fields"
   ]
  },
  {
   "cell_type": "code",
   "execution_count": 7,
   "metadata": {},
   "outputs": [
    {
     "data": {
      "text/plain": [
       "PatientID         float64\n",
       "AppointmentID       int64\n",
       "Gender             object\n",
       "ScheduledDay       object\n",
       "AppointmentDay     object\n",
       "Age                 int64\n",
       "Neighborhood       object\n",
       "BolsaFamilia        int64\n",
       "Hypertension        int64\n",
       "Diabetes            int64\n",
       "Alcoholism          int64\n",
       "NumHandicaps        int64\n",
       "SMSReceived         int64\n",
       "NoShow             object\n",
       "dtype: object"
      ]
     },
     "execution_count": 7,
     "metadata": {},
     "output_type": "execute_result"
    }
   ],
   "source": [
    "# Data types\n",
    "orig.dtypes"
   ]
  },
  {
   "cell_type": "markdown",
   "metadata": {},
   "source": [
    "<a id='data_cleaning'></a>"
   ]
  },
  {
   "cell_type": "markdown",
   "metadata": {},
   "source": [
    "### Data Cleaning"
   ]
  },
  {
   "cell_type": "markdown",
   "metadata": {},
   "source": [
    "<a id='cleaning_duplicates'></a>"
   ]
  },
  {
   "cell_type": "markdown",
   "metadata": {},
   "source": [
    "#### Checking for Duplicates"
   ]
  },
  {
   "cell_type": "code",
   "execution_count": 8,
   "metadata": {},
   "outputs": [
    {
     "data": {
      "text/plain": [
       "False"
      ]
     },
     "execution_count": 8,
     "metadata": {},
     "output_type": "execute_result"
    }
   ],
   "source": [
    "orig.duplicated(keep=False).any()"
   ]
  },
  {
   "cell_type": "code",
   "execution_count": 9,
   "metadata": {},
   "outputs": [
    {
     "data": {
      "text/plain": [
       "False"
      ]
     },
     "execution_count": 9,
     "metadata": {},
     "output_type": "execute_result"
    }
   ],
   "source": [
    "orig.duplicated('AppointmentID', keep=False).any()"
   ]
  },
  {
   "cell_type": "markdown",
   "metadata": {},
   "source": [
    "> There are no duplicate entries and no duplicate AppointmentIDs."
   ]
  },
  {
   "cell_type": "markdown",
   "metadata": {},
   "source": [
    "<a id='cleaning_appointment_id'></a>"
   ]
  },
  {
   "cell_type": "markdown",
   "metadata": {},
   "source": [
    "#### Appointment ID"
   ]
  },
  {
   "cell_type": "code",
   "execution_count": 10,
   "metadata": {},
   "outputs": [
    {
     "name": "stdout",
     "output_type": "stream",
     "text": [
      "5030230 - 5790484\n"
     ]
    }
   ],
   "source": [
    "min_apptID = orig['AppointmentID'].min()\n",
    "max_apptID = orig['AppointmentID'].max()\n",
    "print('{} - {}'.format(min_apptID, max_apptID))"
   ]
  },
  {
   "cell_type": "markdown",
   "metadata": {},
   "source": [
    "> All of the appointment IDs are 7 digits long, and are between these values"
   ]
  },
  {
   "cell_type": "code",
   "execution_count": 11,
   "metadata": {},
   "outputs": [],
   "source": [
    "# AppointmentIDs are identifiers, so they are also converted to strings\n",
    "orig['AppointmentID'] = orig['AppointmentID'].astype(str)"
   ]
  },
  {
   "cell_type": "markdown",
   "metadata": {},
   "source": [
    "<a id='cleaning_scheduled_day'></a>"
   ]
  },
  {
   "cell_type": "markdown",
   "metadata": {},
   "source": [
    "#### Scheduled Day\n",
    "ScheduledDay represents the day that a patient created the appointment."
   ]
  },
  {
   "cell_type": "code",
   "execution_count": 12,
   "metadata": {},
   "outputs": [
    {
     "data": {
      "text/plain": [
       "dtype('<M8[ns]')"
      ]
     },
     "execution_count": 12,
     "metadata": {},
     "output_type": "execute_result"
    }
   ],
   "source": [
    "# Convert the scheduled day to a datetime\n",
    "orig['ScheduledDay'] = pd.to_datetime(orig['ScheduledDay'])\n",
    "\n",
    "# Verify that ScheduledDay is in a datetime format\n",
    "orig['ScheduledDay'].dtype"
   ]
  },
  {
   "cell_type": "code",
   "execution_count": 13,
   "metadata": {},
   "outputs": [
    {
     "data": {
      "text/plain": [
       "True"
      ]
     },
     "execution_count": 13,
     "metadata": {},
     "output_type": "execute_result"
    }
   ],
   "source": [
    "# Check that the <M8[ns] is a datetime format\n",
    "np.dtype('datetime64[ns]') == np.dtype('<M8[ns]')"
   ]
  },
  {
   "cell_type": "code",
   "execution_count": 14,
   "metadata": {},
   "outputs": [
    {
     "data": {
      "text/plain": [
       "0"
      ]
     },
     "execution_count": 14,
     "metadata": {},
     "output_type": "execute_result"
    }
   ],
   "source": [
    "# Verify that all records were converted to valid datetimes\n",
    "np.isnat(orig['ScheduledDay']).sum()"
   ]
  },
  {
   "cell_type": "code",
   "execution_count": 15,
   "metadata": {},
   "outputs": [],
   "source": [
    "# Include a field for scheduled day in a date format\n",
    "orig['ScheduledDayDate'] = orig['ScheduledDay'].dt.date"
   ]
  },
  {
   "cell_type": "code",
   "execution_count": 16,
   "metadata": {},
   "outputs": [
    {
     "data": {
      "text/plain": [
       "Timestamp('2015-11-10 07:13:56')"
      ]
     },
     "execution_count": 16,
     "metadata": {},
     "output_type": "execute_result"
    }
   ],
   "source": [
    "# The first date and time an appointment was scheduled \n",
    "np.min(orig['ScheduledDay'])"
   ]
  },
  {
   "cell_type": "code",
   "execution_count": 17,
   "metadata": {},
   "outputs": [
    {
     "data": {
      "text/plain": [
       "Timestamp('2016-06-08 20:07:23')"
      ]
     },
     "execution_count": 17,
     "metadata": {},
     "output_type": "execute_result"
    }
   ],
   "source": [
    "# The last date and time an appointment was scheduled \n",
    "np.max(orig['ScheduledDay'])"
   ]
  },
  {
   "cell_type": "code",
   "execution_count": 18,
   "metadata": {},
   "outputs": [
    {
     "data": {
      "text/plain": [
       "Timedelta('211 days 12:53:27')"
      ]
     },
     "execution_count": 18,
     "metadata": {},
     "output_type": "execute_result"
    }
   ],
   "source": [
    "np.max(orig['ScheduledDay']) - np.min(orig['ScheduledDay'])"
   ]
  },
  {
   "cell_type": "markdown",
   "metadata": {},
   "source": [
    "> All appointments are created within an about 7-month time frame."
   ]
  },
  {
   "cell_type": "code",
   "execution_count": 19,
   "metadata": {},
   "outputs": [],
   "source": [
    "# Create a field for the hour the appointment was scheduled rounded to the nearest hour\n",
    "def round_time(dt, roundTo=60*60, fmt='%-H'):\n",
    "    # Author: Thierry Husson 2012\n",
    "    dt = dt.to_pydatetime()\n",
    "    seconds = (dt.replace(tzinfo=None) - dt.min).seconds\n",
    "    rounding = (seconds+roundTo/2) // roundTo * roundTo\n",
    "    time = dt + timedelta(0,rounding-seconds,-dt.microsecond)\n",
    "    return int(time.strftime(fmt))\n",
    "\n",
    "orig['ScheduledHour'] = orig['ScheduledDay'].apply(lambda x: round_time(x))"
   ]
  },
  {
   "cell_type": "code",
   "execution_count": 99,
   "metadata": {},
   "outputs": [
    {
     "data": {
      "text/plain": [
       "6        25\n",
       "7     11526\n",
       "8     17208\n",
       "9     14087\n",
       "10    11817\n",
       "11    10039\n",
       "12     6479\n",
       "13     6767\n",
       "14     9730\n",
       "15     8507\n",
       "16     7163\n",
       "17     4093\n",
       "18     1983\n",
       "19      825\n",
       "20      252\n",
       "21       25\n",
       "Name: ScheduledHour, dtype: int64"
      ]
     },
     "execution_count": 99,
     "metadata": {},
     "output_type": "execute_result"
    }
   ],
   "source": [
    "hour_counts = orig['ScheduledHour'].value_counts()\n",
    "hour_counts.sort_index()"
   ]
  },
  {
   "cell_type": "markdown",
   "metadata": {},
   "source": [
    "Most of the appointments were made during the morning and a much smaller portion were made after 6pm."
   ]
  },
  {
   "cell_type": "markdown",
   "metadata": {},
   "source": [
    "<a id='cleaning_appointment_day'></a>"
   ]
  },
  {
   "cell_type": "markdown",
   "metadata": {},
   "source": [
    "#### Appointment Day\n",
    "AppointmentDay is the day of the doctor's appointment."
   ]
  },
  {
   "cell_type": "code",
   "execution_count": 20,
   "metadata": {},
   "outputs": [
    {
     "data": {
      "text/plain": [
       "dtype('<M8[ns]')"
      ]
     },
     "execution_count": 20,
     "metadata": {},
     "output_type": "execute_result"
    }
   ],
   "source": [
    "# Convert the appointment day to a datetime\n",
    "orig['AppointmentDay'] = pd.to_datetime(orig['AppointmentDay'])\n",
    "\n",
    "# Verify that AppointmentDay is in a datetime format\n",
    "orig['AppointmentDay'].dtype"
   ]
  },
  {
   "cell_type": "code",
   "execution_count": 21,
   "metadata": {},
   "outputs": [
    {
     "data": {
      "text/plain": [
       "0"
      ]
     },
     "execution_count": 21,
     "metadata": {},
     "output_type": "execute_result"
    }
   ],
   "source": [
    "# Verify that all records were converted to valid datetimes\n",
    "np.isnat(orig['AppointmentDay']).sum()"
   ]
  },
  {
   "cell_type": "code",
   "execution_count": 22,
   "metadata": {},
   "outputs": [
    {
     "data": {
      "text/plain": [
       "Timestamp('2016-04-29 00:00:00')"
      ]
     },
     "execution_count": 22,
     "metadata": {},
     "output_type": "execute_result"
    }
   ],
   "source": [
    "# Since appointment day doesn't have a time, include another field for \n",
    "# it in a date format\n",
    "orig['AppointmentDayDate'] = orig['AppointmentDay'].dt.date\n",
    "\n",
    "# The first scheduled appointment\n",
    "np.min(orig['AppointmentDay'])"
   ]
  },
  {
   "cell_type": "code",
   "execution_count": 23,
   "metadata": {},
   "outputs": [
    {
     "data": {
      "text/plain": [
       "Timestamp('2016-06-08 00:00:00')"
      ]
     },
     "execution_count": 23,
     "metadata": {},
     "output_type": "execute_result"
    }
   ],
   "source": [
    "# The last scheduled appointment\n",
    "np.max(orig['AppointmentDay'])"
   ]
  },
  {
   "cell_type": "code",
   "execution_count": 24,
   "metadata": {},
   "outputs": [
    {
     "data": {
      "text/plain": [
       "Timedelta('40 days 00:00:00')"
      ]
     },
     "execution_count": 24,
     "metadata": {},
     "output_type": "execute_result"
    }
   ],
   "source": [
    "np.max(orig['AppointmentDay']) - np.min(orig['AppointmentDay'])"
   ]
  },
  {
   "cell_type": "markdown",
   "metadata": {},
   "source": [
    "> While the appointments were scheduled during a 7-month period, they all were scheduled for a 40-day period."
   ]
  },
  {
   "cell_type": "markdown",
   "metadata": {},
   "source": [
    "<a id='cleaning_gender'></a>"
   ]
  },
  {
   "cell_type": "markdown",
   "metadata": {},
   "source": [
    "#### Gender"
   ]
  },
  {
   "cell_type": "code",
   "execution_count": 25,
   "metadata": {},
   "outputs": [
    {
     "data": {
      "text/plain": [
       "F    71840\n",
       "M    38687\n",
       "Name: Gender, dtype: int64"
      ]
     },
     "execution_count": 25,
     "metadata": {},
     "output_type": "execute_result"
    }
   ],
   "source": [
    "# Gender data is clean\n",
    "orig['Gender'].value_counts()"
   ]
  },
  {
   "cell_type": "code",
   "execution_count": 26,
   "metadata": {},
   "outputs": [
    {
     "data": {
      "text/plain": [
       "1    71840\n",
       "0    38687\n",
       "Name: Gender, dtype: int64"
      ]
     },
     "execution_count": 26,
     "metadata": {},
     "output_type": "execute_result"
    }
   ],
   "source": [
    "# Encode gender as binary, 0 = male, 1 = female \n",
    "orig['Gender'] = np.where(orig['Gender'].values == 'F', 1, 0)\n",
    "orig['Gender'].value_counts()"
   ]
  },
  {
   "cell_type": "markdown",
   "metadata": {},
   "source": [
    "<a id='cleaning_age'></a>"
   ]
  },
  {
   "cell_type": "markdown",
   "metadata": {},
   "source": [
    "#### Age"
   ]
  },
  {
   "cell_type": "code",
   "execution_count": 27,
   "metadata": {},
   "outputs": [
    {
     "data": {
      "text/plain": [
       "Int64Index([ -1,   0,   1,   2,   3,   4,   5,   6,   7,   8,\n",
       "            ...\n",
       "             93,  94,  95,  96,  97,  98,  99, 100, 102, 115],\n",
       "           dtype='int64', length=104)"
      ]
     },
     "execution_count": 27,
     "metadata": {},
     "output_type": "execute_result"
    }
   ],
   "source": [
    "age_counts = orig['Age'].value_counts()\n",
    "age_counts.index.sort_values()"
   ]
  },
  {
   "cell_type": "code",
   "execution_count": 28,
   "metadata": {},
   "outputs": [
    {
     "data": {
      "text/html": [
       "<div>\n",
       "<style scoped>\n",
       "    .dataframe tbody tr th:only-of-type {\n",
       "        vertical-align: middle;\n",
       "    }\n",
       "\n",
       "    .dataframe tbody tr th {\n",
       "        vertical-align: top;\n",
       "    }\n",
       "\n",
       "    .dataframe thead th {\n",
       "        text-align: right;\n",
       "    }\n",
       "</style>\n",
       "<table border=\"1\" class=\"dataframe\">\n",
       "  <thead>\n",
       "    <tr style=\"text-align: right;\">\n",
       "      <th></th>\n",
       "      <th>PatientID</th>\n",
       "      <th>AppointmentID</th>\n",
       "      <th>Gender</th>\n",
       "      <th>ScheduledDay</th>\n",
       "      <th>AppointmentDay</th>\n",
       "      <th>Age</th>\n",
       "      <th>Neighborhood</th>\n",
       "      <th>BolsaFamilia</th>\n",
       "      <th>Hypertension</th>\n",
       "      <th>Diabetes</th>\n",
       "      <th>Alcoholism</th>\n",
       "      <th>NumHandicaps</th>\n",
       "      <th>SMSReceived</th>\n",
       "      <th>NoShow</th>\n",
       "      <th>ScheduledDayDate</th>\n",
       "      <th>ScheduledHour</th>\n",
       "      <th>AppointmentDayDate</th>\n",
       "    </tr>\n",
       "  </thead>\n",
       "  <tbody>\n",
       "    <tr>\n",
       "      <th>99832</th>\n",
       "      <td>4.659432e+14</td>\n",
       "      <td>5775010</td>\n",
       "      <td>1</td>\n",
       "      <td>2016-06-06 08:58:13</td>\n",
       "      <td>2016-06-06</td>\n",
       "      <td>-1</td>\n",
       "      <td>ROMÃO</td>\n",
       "      <td>0</td>\n",
       "      <td>0</td>\n",
       "      <td>0</td>\n",
       "      <td>0</td>\n",
       "      <td>0</td>\n",
       "      <td>0</td>\n",
       "      <td>No</td>\n",
       "      <td>2016-06-06</td>\n",
       "      <td>9</td>\n",
       "      <td>2016-06-06</td>\n",
       "    </tr>\n",
       "  </tbody>\n",
       "</table>\n",
       "</div>"
      ],
      "text/plain": [
       "          PatientID AppointmentID  Gender        ScheduledDay AppointmentDay  \\\n",
       "99832  4.659432e+14       5775010       1 2016-06-06 08:58:13     2016-06-06   \n",
       "\n",
       "       Age Neighborhood  BolsaFamilia  Hypertension  Diabetes  Alcoholism  \\\n",
       "99832   -1        ROMÃO             0             0         0           0   \n",
       "\n",
       "       NumHandicaps  SMSReceived NoShow ScheduledDayDate  ScheduledHour  \\\n",
       "99832             0            0     No       2016-06-06              9   \n",
       "\n",
       "      AppointmentDayDate  \n",
       "99832         2016-06-06  "
      ]
     },
     "execution_count": 28,
     "metadata": {},
     "output_type": "execute_result"
    }
   ],
   "source": [
    "orig.loc[orig['Age'] == -1]"
   ]
  },
  {
   "cell_type": "code",
   "execution_count": 29,
   "metadata": {},
   "outputs": [],
   "source": [
    "# Drop the record with an age of -1\n",
    "invalid_age = orig.loc[orig['Age'] == -1, 'PatientID']\n",
    "orig.drop(invalid_age.index, inplace=True)"
   ]
  },
  {
   "cell_type": "markdown",
   "metadata": {},
   "source": [
    "> I removed the record with the age of -1.  All of the other ages are plausible; although the age of 115 is improbable, it is still possible."
   ]
  },
  {
   "cell_type": "markdown",
   "metadata": {},
   "source": [
    "<a id='cleaning_bolsa_familia'></a>"
   ]
  },
  {
   "cell_type": "markdown",
   "metadata": {},
   "source": [
    "#### Bolsa Família"
   ]
  },
  {
   "cell_type": "markdown",
   "metadata": {},
   "source": [
    "[Bolsa Família](https://en.wikipedia.org/wiki/Bolsa_Fam%C3%ADlia) is a social welfare program in Brazil.  A value of 1 for this field means that the patient receives financial aid from the Brazilian government under this progrm."
   ]
  },
  {
   "cell_type": "code",
   "execution_count": 30,
   "metadata": {},
   "outputs": [
    {
     "data": {
      "text/plain": [
       "0    99665\n",
       "1    10861\n",
       "Name: BolsaFamilia, dtype: int64"
      ]
     },
     "execution_count": 30,
     "metadata": {},
     "output_type": "execute_result"
    }
   ],
   "source": [
    "# BolsaFamilia data is clean\n",
    "orig['BolsaFamilia'].value_counts()"
   ]
  },
  {
   "cell_type": "markdown",
   "metadata": {},
   "source": [
    "<a id='cleaning_hypertension'></a>"
   ]
  },
  {
   "cell_type": "markdown",
   "metadata": {},
   "source": [
    "#### Hypertension"
   ]
  },
  {
   "cell_type": "code",
   "execution_count": 31,
   "metadata": {},
   "outputs": [
    {
     "data": {
      "text/plain": [
       "0    88725\n",
       "1    21801\n",
       "Name: Hypertension, dtype: int64"
      ]
     },
     "execution_count": 31,
     "metadata": {},
     "output_type": "execute_result"
    }
   ],
   "source": [
    "# Hypertension data is clean\n",
    "orig['Hypertension'].value_counts()"
   ]
  },
  {
   "cell_type": "markdown",
   "metadata": {},
   "source": [
    "<a id='cleaning_diabetes'></a>"
   ]
  },
  {
   "cell_type": "markdown",
   "metadata": {},
   "source": [
    "#### Diabetes"
   ]
  },
  {
   "cell_type": "code",
   "execution_count": 32,
   "metadata": {},
   "outputs": [
    {
     "data": {
      "text/plain": [
       "0    102583\n",
       "1      7943\n",
       "Name: Diabetes, dtype: int64"
      ]
     },
     "execution_count": 32,
     "metadata": {},
     "output_type": "execute_result"
    }
   ],
   "source": [
    "# Diabetes data is clean\n",
    "orig['Diabetes'].value_counts()"
   ]
  },
  {
   "cell_type": "markdown",
   "metadata": {},
   "source": [
    "<a id='cleaning_alcoholism'></a>"
   ]
  },
  {
   "cell_type": "markdown",
   "metadata": {},
   "source": [
    "#### Alcholism"
   ]
  },
  {
   "cell_type": "code",
   "execution_count": 33,
   "metadata": {},
   "outputs": [
    {
     "data": {
      "text/plain": [
       "0    107166\n",
       "1      3360\n",
       "Name: Alcoholism, dtype: int64"
      ]
     },
     "execution_count": 33,
     "metadata": {},
     "output_type": "execute_result"
    }
   ],
   "source": [
    "# Alcoholism data is clean\n",
    "orig['Alcoholism'].value_counts()"
   ]
  },
  {
   "cell_type": "markdown",
   "metadata": {},
   "source": [
    "<a id='cleaning_number_handicaps'></a>"
   ]
  },
  {
   "cell_type": "markdown",
   "metadata": {},
   "source": [
    "#### Number of Handicaps"
   ]
  },
  {
   "cell_type": "code",
   "execution_count": 34,
   "metadata": {
    "scrolled": true
   },
   "outputs": [
    {
     "data": {
      "text/plain": [
       "0    108285\n",
       "1      2042\n",
       "2       183\n",
       "3        13\n",
       "4         3\n",
       "Name: NumHandicaps, dtype: int64"
      ]
     },
     "execution_count": 34,
     "metadata": {},
     "output_type": "execute_result"
    }
   ],
   "source": [
    "# This represents the number of handicaps a person has (as defined by the publisher of the dataset)\n",
    "# All people having between 0-4 handicaps seems reasonable\n",
    "orig['NumHandicaps'].value_counts()"
   ]
  },
  {
   "cell_type": "markdown",
   "metadata": {},
   "source": [
    "Note that the data set does not define what are considered handicaps. Since there are so few patients that have handicaps, I created a binary field, HasHandicaps, that indicates whether or not a patient has any handicaps."
   ]
  },
  {
   "cell_type": "code",
   "execution_count": 35,
   "metadata": {},
   "outputs": [
    {
     "data": {
      "text/plain": [
       "0    108285\n",
       "1      2241\n",
       "Name: HasHandicaps, dtype: int64"
      ]
     },
     "execution_count": 35,
     "metadata": {},
     "output_type": "execute_result"
    }
   ],
   "source": [
    "orig['HasHandicaps'] = np.where(orig['NumHandicaps'] == 0, 0, 1)\n",
    "orig['HasHandicaps'].value_counts()"
   ]
  },
  {
   "cell_type": "markdown",
   "metadata": {},
   "source": [
    "<a id='cleaning_sms_received'></a>"
   ]
  },
  {
   "cell_type": "markdown",
   "metadata": {},
   "source": [
    "#### SMS Received\n",
    "This field indicates whether or not a patient was sent an appointment reminder by the facility in the form of a text message."
   ]
  },
  {
   "cell_type": "code",
   "execution_count": 36,
   "metadata": {},
   "outputs": [
    {
     "data": {
      "text/plain": [
       "0    75044\n",
       "1    35482\n",
       "Name: SMSReceived, dtype: int64"
      ]
     },
     "execution_count": 36,
     "metadata": {},
     "output_type": "execute_result"
    }
   ],
   "source": [
    "# SMS Received data is clean\n",
    "orig['SMSReceived'].value_counts()"
   ]
  },
  {
   "cell_type": "markdown",
   "metadata": {},
   "source": [
    "<a id='cleaning_no_show'></a>"
   ]
  },
  {
   "cell_type": "markdown",
   "metadata": {},
   "source": [
    "#### No Show"
   ]
  },
  {
   "cell_type": "markdown",
   "metadata": {},
   "source": [
    "A value of yes for NoShow means that the patient did not show up to their appointment (they were a 'no show')."
   ]
  },
  {
   "cell_type": "code",
   "execution_count": 37,
   "metadata": {},
   "outputs": [
    {
     "data": {
      "text/plain": [
       "No     88207\n",
       "Yes    22319\n",
       "Name: NoShow, dtype: int64"
      ]
     },
     "execution_count": 37,
     "metadata": {},
     "output_type": "execute_result"
    }
   ],
   "source": [
    "orig['NoShow'].value_counts()"
   ]
  },
  {
   "cell_type": "code",
   "execution_count": 38,
   "metadata": {},
   "outputs": [
    {
     "data": {
      "text/plain": [
       "0    88207\n",
       "1    22319\n",
       "Name: NoShow, dtype: int64"
      ]
     },
     "execution_count": 38,
     "metadata": {},
     "output_type": "execute_result"
    }
   ],
   "source": [
    "# Convert NoShow to zeros and ones\n",
    "orig['NoShow'] = np.where(orig['NoShow'].values == 'Yes', 1, 0)\n",
    "orig['NoShow'].value_counts()"
   ]
  },
  {
   "cell_type": "markdown",
   "metadata": {},
   "source": [
    "<a id='cleaning_neighborhood'></a>"
   ]
  },
  {
   "cell_type": "markdown",
   "metadata": {},
   "source": [
    "#### Neighborhood"
   ]
  },
  {
   "cell_type": "markdown",
   "metadata": {},
   "source": [
    "The Neighborhood field has the neighborhood of the doctor's facility."
   ]
  },
  {
   "cell_type": "code",
   "execution_count": 39,
   "metadata": {},
   "outputs": [
    {
     "data": {
      "text/plain": [
       "JARDIM CAMBURI       7717\n",
       "MARIA ORTIZ          5805\n",
       "RESISTÊNCIA          4431\n",
       "JARDIM DA PENHA      3877\n",
       "ITARARÉ              3514\n",
       "CENTRO               3334\n",
       "TABUAZEIRO           3132\n",
       "SANTA MARTHA         3131\n",
       "JESUS DE NAZARETH    2853\n",
       "BONFIM               2773\n",
       "SANTO ANTÔNIO        2746\n",
       "Name: Neighborhood, dtype: int64"
      ]
     },
     "execution_count": 39,
     "metadata": {},
     "output_type": "execute_result"
    }
   ],
   "source": [
    "neighborhood_counts = orig['Neighborhood'].value_counts()\n",
    "neighborhood_counts[:11]"
   ]
  },
  {
   "cell_type": "code",
   "execution_count": 40,
   "metadata": {},
   "outputs": [
    {
     "data": {
      "text/plain": [
       "81"
      ]
     },
     "execution_count": 40,
     "metadata": {},
     "output_type": "execute_result"
    }
   ],
   "source": [
    "# Number of unique neighborhoods\n",
    "orig['Neighborhood'].nunique()"
   ]
  },
  {
   "cell_type": "code",
   "execution_count": 41,
   "metadata": {},
   "outputs": [
    {
     "data": {
      "text/html": [
       "<div>\n",
       "<style scoped>\n",
       "    .dataframe tbody tr th:only-of-type {\n",
       "        vertical-align: middle;\n",
       "    }\n",
       "\n",
       "    .dataframe tbody tr th {\n",
       "        vertical-align: top;\n",
       "    }\n",
       "\n",
       "    .dataframe thead th {\n",
       "        text-align: right;\n",
       "    }\n",
       "</style>\n",
       "<table border=\"1\" class=\"dataframe\">\n",
       "  <thead>\n",
       "    <tr style=\"text-align: right;\">\n",
       "      <th></th>\n",
       "      <th>neighborhood</th>\n",
       "    </tr>\n",
       "  </thead>\n",
       "  <tbody>\n",
       "    <tr>\n",
       "      <th>0</th>\n",
       "      <td>JARDIM CAMBURI</td>\n",
       "    </tr>\n",
       "    <tr>\n",
       "      <th>1</th>\n",
       "      <td>MARIA ORTIZ</td>\n",
       "    </tr>\n",
       "    <tr>\n",
       "      <th>2</th>\n",
       "      <td>RESISTÊNCIA</td>\n",
       "    </tr>\n",
       "    <tr>\n",
       "      <th>3</th>\n",
       "      <td>JARDIM DA PENHA</td>\n",
       "    </tr>\n",
       "    <tr>\n",
       "      <th>4</th>\n",
       "      <td>ITARARÉ</td>\n",
       "    </tr>\n",
       "  </tbody>\n",
       "</table>\n",
       "</div>"
      ],
      "text/plain": [
       "      neighborhood\n",
       "0   JARDIM CAMBURI\n",
       "1      MARIA ORTIZ\n",
       "2      RESISTÊNCIA\n",
       "3  JARDIM DA PENHA\n",
       "4          ITARARÉ"
      ]
     },
     "execution_count": 41,
     "metadata": {},
     "output_type": "execute_result"
    }
   ],
   "source": [
    "# Organize the neighborhoods into a dataframe\n",
    "geo = pd.DataFrame(neighborhood_counts.index, columns = ['neighborhood'])\n",
    "geo.head()"
   ]
  },
  {
   "cell_type": "code",
   "execution_count": null,
   "metadata": {},
   "outputs": [],
   "source": [
    "# Geocode the neighborhood data\n",
    "for i, row in geo.iterrows():\n",
    "    # Use Bing    \n",
    "    full_neighborhood = row.str.title() + ', Vitória, Espírito Santo, Brazil'\n",
    "    result = geocoder.bing(full_neighborhood, key=API_KEY)\n",
    "    \n",
    "    geo.at[i, 'status'] = result.status\n",
    "    geo.at[i, 'lat'] = result.lat\n",
    "    geo.at[i, 'lng'] = result.lng\n",
    "    geo.at[i, 'bing_neighborhood'] = result.neighborhood\n",
    "    geo.at[i, 'city'] = result.city\n",
    "    geo.at[i, 'state'] = result.state\n",
    "    geo.at[i, 'country'] = result.country\n",
    "    \n",
    "    # If Bing returns None for neighborhood, use Google\n",
    "    if geo.at[i, 'bing_neighborhood'] is None or \\\n",
    "       geo.at[i, 'bing_neighborhood'] == 'None':\n",
    "        result = geocoder.google(full_neighborhood)\n",
    "        \n",
    "        geo.at[i, 'status'] = result.status\n",
    "        geo.at[i, 'lat'] = result.lat\n",
    "        geo.at[i, 'lng'] = result.lng\n",
    "        \n",
    "        if result.county == 'Vitória': # Google uses county where Bing uses city\n",
    "            geo.at[i, 'city'] = result.county\n",
    "        geo.at[i, 'state'] = result.state\n",
    "        if result.country == 'BR':\n",
    "            geo.at[i, 'country'] = 'Brazil'\n",
    "\n",
    "# Assign Nazareth manually\n",
    "full_neighborhood = 'Nazareth' + ', Vitória, Espírito Santo, Brazil'\n",
    "result = geocoder.google(full_neighborhood)\n",
    "geo.at[73, 'status'] = result.status\n",
    "geo.at[73, 'lat'] = result.lat\n",
    "geo.at[73, 'lng'] = result.lng\n",
    "geo.at[73, 'state'] = 'ES'\n",
    "\n",
    "# Assign Centro manually\n",
    "full_neighborhood = 'Centro' + ', Vitória, Espírito Santo, Brazil'\n",
    "result = geocoder.google(full_neighborhood)\n",
    "geo.at[5, 'status'] = result.status\n",
    "geo.at[5, 'lat'] = result.lat\n",
    "geo.at[5, 'lng'] = result.lng\n",
    "geo.at[5, 'state'] = 'ES'"
   ]
  },
  {
   "cell_type": "code",
   "execution_count": null,
   "metadata": {},
   "outputs": [],
   "source": [
    "geo.head(6)"
   ]
  },
  {
   "cell_type": "code",
   "execution_count": null,
   "metadata": {},
   "outputs": [],
   "source": [
    "# Check that all the neighborhoods are unique\n",
    "(geo['bing_neighborhood'].value_counts() == 1).all()"
   ]
  },
  {
   "cell_type": "code",
   "execution_count": null,
   "metadata": {},
   "outputs": [],
   "source": [
    "# Check that each neighborhood returns a unique location\n",
    "not any(geo.duplicated(['lat', 'lng']))"
   ]
  },
  {
   "cell_type": "code",
   "execution_count": null,
   "metadata": {},
   "outputs": [],
   "source": [
    "# Verify that all of the locations are in Vitória, Espírito Santo, Brazil\n",
    "print((geo['status'] == 'OK').all())\n",
    "print((geo['city'] == 'Vitória').all())\n",
    "print((geo['state'] == 'ES').all())\n",
    "print((geo['country'] == 'Brazil').all())"
   ]
  },
  {
   "cell_type": "markdown",
   "metadata": {},
   "source": [
    "<a id='cleaning_patient_id'></a>"
   ]
  },
  {
   "cell_type": "markdown",
   "metadata": {},
   "source": [
    "#### Patient ID"
   ]
  },
  {
   "cell_type": "code",
   "execution_count": 42,
   "metadata": {},
   "outputs": [
    {
     "data": {
      "text/plain": [
       "14    39372\n",
       "13    28319\n",
       "15    24918\n",
       "12    12835\n",
       "11     4002\n",
       "10      920\n",
       "9       136\n",
       "8        18\n",
       "5         3\n",
       "6         2\n",
       "7         1\n",
       "Name: PatientID, dtype: int64"
      ]
     },
     "execution_count": 42,
     "metadata": {},
     "output_type": "execute_result"
    }
   ],
   "source": [
    "# Convert patient ID to a string, as it is meant to be an identifier not a number\n",
    "orig['PatientID'] = orig['PatientID'].astype(int).astype(str)\n",
    "\n",
    "# All identifiers are 7-15 digits long, most have at least 10\n",
    "lens = orig['PatientID'].apply(len)\n",
    "pd.value_counts(lens)"
   ]
  },
  {
   "cell_type": "markdown",
   "metadata": {},
   "source": [
    "> Most of the patient IDs are at least 10 digits long.  There is no consistent length for this field, and it is unknown, and impossible to know, if some of these patient identifiers are flawed."
   ]
  },
  {
   "cell_type": "markdown",
   "metadata": {},
   "source": [
    "<a id='cleaning_patient_id_consistency'></a>"
   ]
  },
  {
   "cell_type": "markdown",
   "metadata": {},
   "source": [
    "##### PatientID Consistency"
   ]
  },
  {
   "cell_type": "code",
   "execution_count": 43,
   "metadata": {},
   "outputs": [
    {
     "data": {
      "text/plain": [
       "PatientID\n",
       "11111462625267     1\n",
       "111124532532143    2\n",
       "11114485119737     1\n",
       "11116239871275     1\n",
       "1111633122891      3\n",
       "Name: AppointmentID, dtype: int64"
      ]
     },
     "execution_count": 43,
     "metadata": {},
     "output_type": "execute_result"
    }
   ],
   "source": [
    "# Number of appointments per PatientID\n",
    "num_appts_by_patient = orig.groupby('PatientID')['AppointmentID'].count()\n",
    "num_appts_by_patient[:5]"
   ]
  },
  {
   "cell_type": "markdown",
   "metadata": {},
   "source": [
    "There are multiple appointments for some patients, so I am checking that the information for each patient across the different appointments is the same."
   ]
  },
  {
   "cell_type": "code",
   "execution_count": 44,
   "metadata": {},
   "outputs": [
    {
     "name": "stdout",
     "output_type": "stream",
     "text": [
      "Gender is consistent\n",
      "BolsaFamilia is consistent\n",
      "Hypertension is consistent\n",
      "Diabetes is consistent\n",
      "Alcoholism is consistent\n",
      "NumHandicaps is consistent\n",
      "Neighborhood is consistent\n"
     ]
    }
   ],
   "source": [
    "# check that all patient characteristics are consistent across different appointments\n",
    "attributes = ['Gender', 'BolsaFamilia', 'Hypertension', 'Diabetes', 'Alcoholism', 'NumHandicaps',\n",
    "              'Neighborhood']\n",
    "for a in attributes:\n",
    "    unique_attrib_vals = orig.groupby('PatientID')[a].nunique()\n",
    "    if len(unique_attrib_vals[unique_attrib_vals > 1]) == 0:\n",
    "        print(a + ' is consistent')\n",
    "    else:\n",
    "        print(a + ' is NOT consistent')"
   ]
  },
  {
   "cell_type": "code",
   "execution_count": 45,
   "metadata": {},
   "outputs": [
    {
     "data": {
      "text/plain": [
       "0"
      ]
     },
     "execution_count": 45,
     "metadata": {},
     "output_type": "execute_result"
    }
   ],
   "source": [
    "# Appointments occur with a 7-month period, so the entries for a patient's ages should be within a year of each other\n",
    "unique_age_vals = orig.groupby('PatientID')['Age'].nunique()\n",
    "not_unique_age_vals = unique_age_vals[unique_age_vals > 1]\n",
    "\n",
    "# Patients with more than one appointment, all have less than 2 values for age\n",
    "len(not_unique_age_vals[not_unique_age_vals > 2])"
   ]
  },
  {
   "cell_type": "code",
   "execution_count": 47,
   "metadata": {},
   "outputs": [
    {
     "name": "stdout",
     "output_type": "stream",
     "text": [
      "Ages are within one year\n"
     ]
    }
   ],
   "source": [
    "# Get the information for the patients with more than one age\n",
    "patients_multiple_ages = list(not_unique_age_vals.index)\n",
    "multiple_ages_info = orig[orig['PatientID'].isin(patients_multiple_ages)].sort_values('PatientID')\n",
    "\n",
    "# Get the difference between each patient's ages\n",
    "max_age = multiple_ages_info.groupby('PatientID')['Age'].max()\n",
    "min_age = multiple_ages_info.groupby('PatientID')['Age'].min()\n",
    "age_diff = max_age - min_age\n",
    "\n",
    "# Each patient's ages are within one year of each other\n",
    "if age_diff[age_diff <= 1].all():\n",
    "    print('Ages are within one year')\n",
    "else:\n",
    "    print('Ages are not within a year')"
   ]
  },
  {
   "cell_type": "markdown",
   "metadata": {},
   "source": [
    "<a id='addtl_data'></a>"
   ]
  },
  {
   "cell_type": "markdown",
   "metadata": {},
   "source": [
    "## Additional Data\n",
    "***"
   ]
  },
  {
   "cell_type": "markdown",
   "metadata": {},
   "source": [
    "I obtained weather data for Vitória airport from [wunderground.com](https://www.wunderground.com/history/airport/SBVT/2016/4/29/DailyHistory.html) for the appointment dates in the data set."
   ]
  },
  {
   "cell_type": "code",
   "execution_count": 48,
   "metadata": {},
   "outputs": [
    {
     "data": {
      "text/html": [
       "<div>\n",
       "<style scoped>\n",
       "    .dataframe tbody tr th:only-of-type {\n",
       "        vertical-align: middle;\n",
       "    }\n",
       "\n",
       "    .dataframe tbody tr th {\n",
       "        vertical-align: top;\n",
       "    }\n",
       "\n",
       "    .dataframe thead th {\n",
       "        text-align: right;\n",
       "    }\n",
       "</style>\n",
       "<table border=\"1\" class=\"dataframe\">\n",
       "  <thead>\n",
       "    <tr style=\"text-align: right;\">\n",
       "      <th></th>\n",
       "      <th>Date</th>\n",
       "      <th>temp_high</th>\n",
       "      <th>temp_avg</th>\n",
       "      <th>temp_low</th>\n",
       "      <th>humidity_high</th>\n",
       "      <th>humidity_avg</th>\n",
       "      <th>humidity_low</th>\n",
       "      <th>visibility_high</th>\n",
       "      <th>visibility_avg</th>\n",
       "      <th>visibility_low</th>\n",
       "      <th>wind_high</th>\n",
       "      <th>wind_avg</th>\n",
       "      <th>precip_in</th>\n",
       "      <th>rain</th>\n",
       "      <th>thunderstorm</th>\n",
       "      <th>fog</th>\n",
       "      <th>Datetime</th>\n",
       "    </tr>\n",
       "  </thead>\n",
       "  <tbody>\n",
       "    <tr>\n",
       "      <th>0</th>\n",
       "      <td>2016-04-29</td>\n",
       "      <td>75</td>\n",
       "      <td>73</td>\n",
       "      <td>71</td>\n",
       "      <td>88</td>\n",
       "      <td>76</td>\n",
       "      <td>64</td>\n",
       "      <td>12</td>\n",
       "      <td>7</td>\n",
       "      <td>6</td>\n",
       "      <td>16</td>\n",
       "      <td>11</td>\n",
       "      <td>0.01</td>\n",
       "      <td>0</td>\n",
       "      <td>0</td>\n",
       "      <td>0</td>\n",
       "      <td>2016-04-29</td>\n",
       "    </tr>\n",
       "    <tr>\n",
       "      <th>1</th>\n",
       "      <td>2016-04-30</td>\n",
       "      <td>80</td>\n",
       "      <td>74</td>\n",
       "      <td>69</td>\n",
       "      <td>88</td>\n",
       "      <td>79</td>\n",
       "      <td>70</td>\n",
       "      <td>12</td>\n",
       "      <td>7</td>\n",
       "      <td>6</td>\n",
       "      <td>13</td>\n",
       "      <td>7</td>\n",
       "      <td>0.00</td>\n",
       "      <td>0</td>\n",
       "      <td>0</td>\n",
       "      <td>0</td>\n",
       "      <td>2016-04-30</td>\n",
       "    </tr>\n",
       "    <tr>\n",
       "      <th>2</th>\n",
       "      <td>2016-05-01</td>\n",
       "      <td>77</td>\n",
       "      <td>73</td>\n",
       "      <td>69</td>\n",
       "      <td>83</td>\n",
       "      <td>67</td>\n",
       "      <td>52</td>\n",
       "      <td>12</td>\n",
       "      <td>6</td>\n",
       "      <td>4</td>\n",
       "      <td>17</td>\n",
       "      <td>13</td>\n",
       "      <td>0.00</td>\n",
       "      <td>1</td>\n",
       "      <td>0</td>\n",
       "      <td>0</td>\n",
       "      <td>2016-05-01</td>\n",
       "    </tr>\n",
       "    <tr>\n",
       "      <th>3</th>\n",
       "      <td>2016-05-02</td>\n",
       "      <td>81</td>\n",
       "      <td>74</td>\n",
       "      <td>66</td>\n",
       "      <td>83</td>\n",
       "      <td>58</td>\n",
       "      <td>33</td>\n",
       "      <td>12</td>\n",
       "      <td>8</td>\n",
       "      <td>6</td>\n",
       "      <td>17</td>\n",
       "      <td>11</td>\n",
       "      <td>0.00</td>\n",
       "      <td>0</td>\n",
       "      <td>0</td>\n",
       "      <td>0</td>\n",
       "      <td>2016-05-02</td>\n",
       "    </tr>\n",
       "    <tr>\n",
       "      <th>4</th>\n",
       "      <td>2016-05-03</td>\n",
       "      <td>79</td>\n",
       "      <td>70</td>\n",
       "      <td>62</td>\n",
       "      <td>88</td>\n",
       "      <td>80</td>\n",
       "      <td>61</td>\n",
       "      <td>12</td>\n",
       "      <td>7</td>\n",
       "      <td>6</td>\n",
       "      <td>17</td>\n",
       "      <td>5</td>\n",
       "      <td>0.00</td>\n",
       "      <td>0</td>\n",
       "      <td>0</td>\n",
       "      <td>0</td>\n",
       "      <td>2016-05-03</td>\n",
       "    </tr>\n",
       "  </tbody>\n",
       "</table>\n",
       "</div>"
      ],
      "text/plain": [
       "         Date  temp_high  temp_avg  temp_low  humidity_high  humidity_avg  \\\n",
       "0  2016-04-29         75        73        71             88            76   \n",
       "1  2016-04-30         80        74        69             88            79   \n",
       "2  2016-05-01         77        73        69             83            67   \n",
       "3  2016-05-02         81        74        66             83            58   \n",
       "4  2016-05-03         79        70        62             88            80   \n",
       "\n",
       "   humidity_low  visibility_high  visibility_avg  visibility_low  wind_high  \\\n",
       "0            64               12               7               6         16   \n",
       "1            70               12               7               6         13   \n",
       "2            52               12               6               4         17   \n",
       "3            33               12               8               6         17   \n",
       "4            61               12               7               6         17   \n",
       "\n",
       "   wind_avg  precip_in  rain  thunderstorm  fog   Datetime  \n",
       "0        11       0.01     0             0    0 2016-04-29  \n",
       "1         7       0.00     0             0    0 2016-04-30  \n",
       "2        13       0.00     1             0    0 2016-05-01  \n",
       "3        11       0.00     0             0    0 2016-05-02  \n",
       "4         5       0.00     0             0    0 2016-05-03  "
      ]
     },
     "execution_count": 48,
     "metadata": {},
     "output_type": "execute_result"
    }
   ],
   "source": [
    "xlsx = pd.ExcelFile('vitoria_weather.xlsx')\n",
    "weather = pd.read_excel(xlsx, 'Sheet1', skiprows = 2)\n",
    "weather['Datetime'] = pd.to_datetime(weather['Date'])\n",
    "weather['Date'] = weather['Datetime'].dt.date\n",
    "weather.head()"
   ]
  },
  {
   "cell_type": "code",
   "execution_count": 49,
   "metadata": {},
   "outputs": [
    {
     "data": {
      "text/plain": [
       "True"
      ]
     },
     "execution_count": 49,
     "metadata": {},
     "output_type": "execute_result"
    }
   ],
   "source": [
    "all(weather['visibility_high'] == 12)"
   ]
  },
  {
   "cell_type": "markdown",
   "metadata": {},
   "source": [
    "Since visibility_high is always valued at 12, this would be removed from the data set before doing any modeling."
   ]
  },
  {
   "cell_type": "code",
   "execution_count": 50,
   "metadata": {},
   "outputs": [
    {
     "data": {
      "text/plain": [
       "True"
      ]
     },
     "execution_count": 50,
     "metadata": {},
     "output_type": "execute_result"
    }
   ],
   "source": [
    "# Merge appointment data with weather data\n",
    "ow = pd.merge(orig, weather, left_on='AppointmentDayDate', right_on='Date', how='left')\n",
    "\n",
    "# Remove the visibility_high field since it has the same value for every date\n",
    "ow = ow.drop(['Date', 'Datetime', 'visibility_high'], axis = 1)\n",
    "\n",
    "# Check there are no null values\n",
    "all(ow.isnull().sum() == 0)"
   ]
  },
  {
   "cell_type": "code",
   "execution_count": 51,
   "metadata": {},
   "outputs": [
    {
     "data": {
      "text/html": [
       "<div>\n",
       "<style scoped>\n",
       "    .dataframe tbody tr th:only-of-type {\n",
       "        vertical-align: middle;\n",
       "    }\n",
       "\n",
       "    .dataframe tbody tr th {\n",
       "        vertical-align: top;\n",
       "    }\n",
       "\n",
       "    .dataframe thead th {\n",
       "        text-align: right;\n",
       "    }\n",
       "</style>\n",
       "<table border=\"1\" class=\"dataframe\">\n",
       "  <thead>\n",
       "    <tr style=\"text-align: right;\">\n",
       "      <th></th>\n",
       "      <th>PatientID</th>\n",
       "      <th>AppointmentID</th>\n",
       "      <th>Gender</th>\n",
       "      <th>ScheduledDay</th>\n",
       "      <th>AppointmentDay</th>\n",
       "      <th>Age</th>\n",
       "      <th>Neighborhood</th>\n",
       "      <th>BolsaFamilia</th>\n",
       "      <th>Hypertension</th>\n",
       "      <th>Diabetes</th>\n",
       "      <th>...</th>\n",
       "      <th>humidity_avg</th>\n",
       "      <th>humidity_low</th>\n",
       "      <th>visibility_avg</th>\n",
       "      <th>visibility_low</th>\n",
       "      <th>wind_high</th>\n",
       "      <th>wind_avg</th>\n",
       "      <th>precip_in</th>\n",
       "      <th>rain</th>\n",
       "      <th>thunderstorm</th>\n",
       "      <th>fog</th>\n",
       "    </tr>\n",
       "  </thead>\n",
       "  <tbody>\n",
       "    <tr>\n",
       "      <th>0</th>\n",
       "      <td>29872499824296</td>\n",
       "      <td>5642903</td>\n",
       "      <td>1</td>\n",
       "      <td>2016-04-29 18:38:08</td>\n",
       "      <td>2016-04-29</td>\n",
       "      <td>62</td>\n",
       "      <td>JARDIM DA PENHA</td>\n",
       "      <td>0</td>\n",
       "      <td>1</td>\n",
       "      <td>0</td>\n",
       "      <td>...</td>\n",
       "      <td>76</td>\n",
       "      <td>64</td>\n",
       "      <td>7</td>\n",
       "      <td>6</td>\n",
       "      <td>16</td>\n",
       "      <td>11</td>\n",
       "      <td>0.01</td>\n",
       "      <td>0</td>\n",
       "      <td>0</td>\n",
       "      <td>0</td>\n",
       "    </tr>\n",
       "    <tr>\n",
       "      <th>1</th>\n",
       "      <td>558997776694438</td>\n",
       "      <td>5642503</td>\n",
       "      <td>0</td>\n",
       "      <td>2016-04-29 16:08:27</td>\n",
       "      <td>2016-04-29</td>\n",
       "      <td>56</td>\n",
       "      <td>JARDIM DA PENHA</td>\n",
       "      <td>0</td>\n",
       "      <td>0</td>\n",
       "      <td>0</td>\n",
       "      <td>...</td>\n",
       "      <td>76</td>\n",
       "      <td>64</td>\n",
       "      <td>7</td>\n",
       "      <td>6</td>\n",
       "      <td>16</td>\n",
       "      <td>11</td>\n",
       "      <td>0.01</td>\n",
       "      <td>0</td>\n",
       "      <td>0</td>\n",
       "      <td>0</td>\n",
       "    </tr>\n",
       "    <tr>\n",
       "      <th>2</th>\n",
       "      <td>4262962299951</td>\n",
       "      <td>5642549</td>\n",
       "      <td>1</td>\n",
       "      <td>2016-04-29 16:19:04</td>\n",
       "      <td>2016-04-29</td>\n",
       "      <td>62</td>\n",
       "      <td>MATA DA PRAIA</td>\n",
       "      <td>0</td>\n",
       "      <td>0</td>\n",
       "      <td>0</td>\n",
       "      <td>...</td>\n",
       "      <td>76</td>\n",
       "      <td>64</td>\n",
       "      <td>7</td>\n",
       "      <td>6</td>\n",
       "      <td>16</td>\n",
       "      <td>11</td>\n",
       "      <td>0.01</td>\n",
       "      <td>0</td>\n",
       "      <td>0</td>\n",
       "      <td>0</td>\n",
       "    </tr>\n",
       "    <tr>\n",
       "      <th>3</th>\n",
       "      <td>867951213174</td>\n",
       "      <td>5642828</td>\n",
       "      <td>1</td>\n",
       "      <td>2016-04-29 17:29:31</td>\n",
       "      <td>2016-04-29</td>\n",
       "      <td>8</td>\n",
       "      <td>PONTAL DE CAMBURI</td>\n",
       "      <td>0</td>\n",
       "      <td>0</td>\n",
       "      <td>0</td>\n",
       "      <td>...</td>\n",
       "      <td>76</td>\n",
       "      <td>64</td>\n",
       "      <td>7</td>\n",
       "      <td>6</td>\n",
       "      <td>16</td>\n",
       "      <td>11</td>\n",
       "      <td>0.01</td>\n",
       "      <td>0</td>\n",
       "      <td>0</td>\n",
       "      <td>0</td>\n",
       "    </tr>\n",
       "    <tr>\n",
       "      <th>4</th>\n",
       "      <td>8841186448183</td>\n",
       "      <td>5642494</td>\n",
       "      <td>1</td>\n",
       "      <td>2016-04-29 16:07:23</td>\n",
       "      <td>2016-04-29</td>\n",
       "      <td>56</td>\n",
       "      <td>JARDIM DA PENHA</td>\n",
       "      <td>0</td>\n",
       "      <td>1</td>\n",
       "      <td>1</td>\n",
       "      <td>...</td>\n",
       "      <td>76</td>\n",
       "      <td>64</td>\n",
       "      <td>7</td>\n",
       "      <td>6</td>\n",
       "      <td>16</td>\n",
       "      <td>11</td>\n",
       "      <td>0.01</td>\n",
       "      <td>0</td>\n",
       "      <td>0</td>\n",
       "      <td>0</td>\n",
       "    </tr>\n",
       "  </tbody>\n",
       "</table>\n",
       "<p>5 rows × 32 columns</p>\n",
       "</div>"
      ],
      "text/plain": [
       "         PatientID AppointmentID  Gender        ScheduledDay AppointmentDay  \\\n",
       "0   29872499824296       5642903       1 2016-04-29 18:38:08     2016-04-29   \n",
       "1  558997776694438       5642503       0 2016-04-29 16:08:27     2016-04-29   \n",
       "2    4262962299951       5642549       1 2016-04-29 16:19:04     2016-04-29   \n",
       "3     867951213174       5642828       1 2016-04-29 17:29:31     2016-04-29   \n",
       "4    8841186448183       5642494       1 2016-04-29 16:07:23     2016-04-29   \n",
       "\n",
       "   Age       Neighborhood  BolsaFamilia  Hypertension  Diabetes ...   \\\n",
       "0   62    JARDIM DA PENHA             0             1         0 ...    \n",
       "1   56    JARDIM DA PENHA             0             0         0 ...    \n",
       "2   62      MATA DA PRAIA             0             0         0 ...    \n",
       "3    8  PONTAL DE CAMBURI             0             0         0 ...    \n",
       "4   56    JARDIM DA PENHA             0             1         1 ...    \n",
       "\n",
       "   humidity_avg  humidity_low  visibility_avg  visibility_low wind_high  \\\n",
       "0            76            64               7               6        16   \n",
       "1            76            64               7               6        16   \n",
       "2            76            64               7               6        16   \n",
       "3            76            64               7               6        16   \n",
       "4            76            64               7               6        16   \n",
       "\n",
       "   wind_avg precip_in  rain  thunderstorm  fog  \n",
       "0        11      0.01     0             0    0  \n",
       "1        11      0.01     0             0    0  \n",
       "2        11      0.01     0             0    0  \n",
       "3        11      0.01     0             0    0  \n",
       "4        11      0.01     0             0    0  \n",
       "\n",
       "[5 rows x 32 columns]"
      ]
     },
     "execution_count": 51,
     "metadata": {},
     "output_type": "execute_result"
    }
   ],
   "source": [
    "ow.head()"
   ]
  },
  {
   "cell_type": "markdown",
   "metadata": {},
   "source": [
    "<a id='feat_engineering'></a>"
   ]
  },
  {
   "cell_type": "markdown",
   "metadata": {},
   "source": [
    "## Feature Engineering\n",
    "***"
   ]
  },
  {
   "cell_type": "markdown",
   "metadata": {},
   "source": [
    "### Differences Between Scheduled and Appointment Days"
   ]
  },
  {
   "cell_type": "code",
   "execution_count": 52,
   "metadata": {
    "scrolled": false
   },
   "outputs": [
    {
     "data": {
      "text/html": [
       "<div>\n",
       "<style scoped>\n",
       "    .dataframe tbody tr th:only-of-type {\n",
       "        vertical-align: middle;\n",
       "    }\n",
       "\n",
       "    .dataframe tbody tr th {\n",
       "        vertical-align: top;\n",
       "    }\n",
       "\n",
       "    .dataframe thead th {\n",
       "        text-align: right;\n",
       "    }\n",
       "</style>\n",
       "<table border=\"1\" class=\"dataframe\">\n",
       "  <thead>\n",
       "    <tr style=\"text-align: right;\">\n",
       "      <th></th>\n",
       "      <th>ScheduledDayDate</th>\n",
       "      <th>AppointmentDayDate</th>\n",
       "      <th>DayDiff</th>\n",
       "    </tr>\n",
       "  </thead>\n",
       "  <tbody>\n",
       "    <tr>\n",
       "      <th>71533</th>\n",
       "      <td>2016-05-11</td>\n",
       "      <td>2016-05-05</td>\n",
       "      <td>-6</td>\n",
       "    </tr>\n",
       "    <tr>\n",
       "      <th>72362</th>\n",
       "      <td>2016-05-04</td>\n",
       "      <td>2016-05-03</td>\n",
       "      <td>-1</td>\n",
       "    </tr>\n",
       "    <tr>\n",
       "      <th>64175</th>\n",
       "      <td>2016-05-05</td>\n",
       "      <td>2016-05-04</td>\n",
       "      <td>-1</td>\n",
       "    </tr>\n",
       "    <tr>\n",
       "      <th>55226</th>\n",
       "      <td>2016-05-18</td>\n",
       "      <td>2016-05-17</td>\n",
       "      <td>-1</td>\n",
       "    </tr>\n",
       "    <tr>\n",
       "      <th>27033</th>\n",
       "      <td>2016-05-10</td>\n",
       "      <td>2016-05-09</td>\n",
       "      <td>-1</td>\n",
       "    </tr>\n",
       "    <tr>\n",
       "      <th>57785</th>\n",
       "      <td>2016-05-04</td>\n",
       "      <td>2016-05-04</td>\n",
       "      <td>0</td>\n",
       "    </tr>\n",
       "    <tr>\n",
       "      <th>57786</th>\n",
       "      <td>2016-05-18</td>\n",
       "      <td>2016-05-18</td>\n",
       "      <td>0</td>\n",
       "    </tr>\n",
       "  </tbody>\n",
       "</table>\n",
       "</div>"
      ],
      "text/plain": [
       "      ScheduledDayDate AppointmentDayDate  DayDiff\n",
       "71533       2016-05-11         2016-05-05       -6\n",
       "72362       2016-05-04         2016-05-03       -1\n",
       "64175       2016-05-05         2016-05-04       -1\n",
       "55226       2016-05-18         2016-05-17       -1\n",
       "27033       2016-05-10         2016-05-09       -1\n",
       "57785       2016-05-04         2016-05-04        0\n",
       "57786       2016-05-18         2016-05-18        0"
      ]
     },
     "execution_count": 52,
     "metadata": {},
     "output_type": "execute_result"
    }
   ],
   "source": [
    "# Add a field for the number of days between scheduling and the appointment\n",
    "ow['DayDiff'] = ((ow['AppointmentDayDate'] - ow['ScheduledDayDate'])/np.timedelta64(1, 'D')).astype(int)\n",
    "ow[['ScheduledDayDate', 'AppointmentDayDate', 'DayDiff']].sort_values(by = 'DayDiff')[:7]"
   ]
  },
  {
   "cell_type": "markdown",
   "metadata": {},
   "source": [
    "We can see that we need to do some data cleaning as there are five appointments that were shown to be scheduled days after the appointment itself.  These are obviously errors and since there are only five, they were removed from the data."
   ]
  },
  {
   "cell_type": "code",
   "execution_count": 53,
   "metadata": {},
   "outputs": [],
   "source": [
    "ow = (ow[ow['DayDiff'] >= 0])"
   ]
  },
  {
   "cell_type": "code",
   "execution_count": 54,
   "metadata": {},
   "outputs": [
    {
     "data": {
      "text/plain": [
       "0        38562\n",
       "1         5213\n",
       "2         6725\n",
       "3-5      11304\n",
       "6-10     14271\n",
       "11-14     6697\n",
       "15-29    16667\n",
       "30-59     8914\n",
       "60-99     2030\n",
       "100+       138\n",
       "Name: DayDiffBin, dtype: int64"
      ]
     },
     "execution_count": 54,
     "metadata": {},
     "output_type": "execute_result"
    }
   ],
   "source": [
    "# Create a field for a binned version of DayDiff\n",
    "bins = [0, 1, 2, 3, 6, 11, 15, 30, 60, 100, 200]\n",
    "day_diff_bin_labels = ['0', '1', '2', '3-5', '6-10', '11-14', '15-29', '30-59',\n",
    "                       '60-99', '100+']\n",
    "ow['DayDiffBin'] = pd.cut(ow['DayDiff'], bins, right = False, labels = day_diff_bin_labels)\n",
    "\n",
    "ow['DayDiffBin'].value_counts().sort_index()"
   ]
  },
  {
   "cell_type": "markdown",
   "metadata": {},
   "source": [
    "### Day of Week and Weekend"
   ]
  },
  {
   "cell_type": "code",
   "execution_count": 55,
   "metadata": {},
   "outputs": [
    {
     "data": {
      "text/plain": [
       "39"
      ]
     },
     "execution_count": 55,
     "metadata": {},
     "output_type": "execute_result"
    }
   ],
   "source": [
    "# Add a field for whether the AppointmentDay is during the weekend (1) or not (0)\n",
    "ow['DayOfWeek'] = pd.to_datetime(ow['AppointmentDay']).dt.dayofweek\n",
    "ow['Weekend'] = np.where(ow['DayOfWeek'] >= 5, 1, 0)\n",
    "\n",
    "# Number of weekend appointments\n",
    "ow['Weekend'].sum()"
   ]
  },
  {
   "cell_type": "markdown",
   "metadata": {},
   "source": [
    "<a id='further_cleaning'></a>"
   ]
  },
  {
   "cell_type": "markdown",
   "metadata": {},
   "source": [
    "## Initial Exploration and Further Cleaning"
   ]
  },
  {
   "cell_type": "markdown",
   "metadata": {},
   "source": [
    "#### Number of appointments by patient"
   ]
  },
  {
   "cell_type": "code",
   "execution_count": 56,
   "metadata": {},
   "outputs": [
    {
     "data": {
      "text/plain": [
       "PatientID\n",
       "822145925426128    88\n",
       "99637671331        84\n",
       "26886125921145     70\n",
       "33534783483176     65\n",
       "75797461494159     62\n",
       "258424392677       62\n",
       "871374938638855    62\n",
       "6264198675331      62\n",
       "66844879846766     57\n",
       "872278549442       55\n",
       "Name: AppointmentID, dtype: int64"
      ]
     },
     "execution_count": 56,
     "metadata": {},
     "output_type": "execute_result"
    }
   ],
   "source": [
    "num_appts_by_patient.sort_values(ascending = False)[:10]"
   ]
  },
  {
   "cell_type": "markdown",
   "metadata": {},
   "source": [
    "> Oddly there are patients with a significant number of appointments.  The appointments only occurred during a 40-day period, so even if a patient had an appointment every day during this period, they would still only have a maximum of 40 appointments."
   ]
  },
  {
   "cell_type": "code",
   "execution_count": 57,
   "metadata": {},
   "outputs": [
    {
     "data": {
      "text/plain": [
       "1        37919\n",
       "2        13895\n",
       "3         5500\n",
       "4         2367\n",
       "5         1119\n",
       "6-10      1250\n",
       "11-15      171\n",
       "16-20       42\n",
       "21-30       10\n",
       "31-40        8\n",
       "41-50        5\n",
       "50+         10\n",
       "Name: AppointmentID, dtype: int64"
      ]
     },
     "execution_count": 57,
     "metadata": {},
     "output_type": "execute_result"
    }
   ],
   "source": [
    "# Bin the number of appointments per patient\n",
    "bins = [0, 1, 2, 3, 4, 5, 10, 15, 20, 30, 40, 50, 80]\n",
    "bin_names = [\"1\", \"2\", \"3\", \"4\", \"5\", \"6-10\", \"11-15\", \"16-20\", \"21-30\", \"31-40\", \"41-50\", \"50+\"]\n",
    "\n",
    "num_appts_binned = pd.cut(num_appts_by_patient, bins = bins, labels = bin_names).value_counts()\n",
    "num_appts_binned.sort_index()"
   ]
  },
  {
   "cell_type": "code",
   "execution_count": 58,
   "metadata": {},
   "outputs": [
    {
     "data": {
      "image/png": "[encoded data removed]",
      "text/plain": [
       "<matplotlib.figure.Figure at 0x1093dfb70>"
      ]
     },
     "metadata": {},
     "output_type": "display_data"
    }
   ],
   "source": [
    "num_appts_by_patient.hist(bins = 100)\n",
    "sns.despine(left = True, bottom = True)\n",
    "plt.title(\"\\nNumber of Appointments Made Per Patient\\n\", fontsize = 14, fontweight = 'bold');"
   ]
  },
  {
   "cell_type": "markdown",
   "metadata": {},
   "source": [
    "The number of appointments is very skewed to the right.  The majority of patients made three or fewer appointments during this 40-day time period, but the data is very long tailed with up to 88 appointments per patient."
   ]
  },
  {
   "cell_type": "code",
   "execution_count": 59,
   "metadata": {},
   "outputs": [
    {
     "data": {
      "text/html": [
       "<div>\n",
       "<style scoped>\n",
       "    .dataframe tbody tr th:only-of-type {\n",
       "        vertical-align: middle;\n",
       "    }\n",
       "\n",
       "    .dataframe tbody tr th {\n",
       "        vertical-align: top;\n",
       "    }\n",
       "\n",
       "    .dataframe thead th {\n",
       "        text-align: right;\n",
       "    }\n",
       "</style>\n",
       "<table border=\"1\" class=\"dataframe\">\n",
       "  <thead>\n",
       "    <tr style=\"text-align: right;\">\n",
       "      <th></th>\n",
       "      <th>PatientID</th>\n",
       "      <th>AppointmentID</th>\n",
       "      <th>Gender</th>\n",
       "      <th>ScheduledDay</th>\n",
       "      <th>AppointmentDay</th>\n",
       "      <th>Age</th>\n",
       "      <th>Neighborhood</th>\n",
       "      <th>BolsaFamilia</th>\n",
       "      <th>Hypertension</th>\n",
       "      <th>Diabetes</th>\n",
       "      <th>...</th>\n",
       "      <th>wind_high</th>\n",
       "      <th>wind_avg</th>\n",
       "      <th>precip_in</th>\n",
       "      <th>rain</th>\n",
       "      <th>thunderstorm</th>\n",
       "      <th>fog</th>\n",
       "      <th>DayDiff</th>\n",
       "      <th>DayDiffBin</th>\n",
       "      <th>DayOfWeek</th>\n",
       "      <th>Weekend</th>\n",
       "    </tr>\n",
       "  </thead>\n",
       "  <tbody>\n",
       "    <tr>\n",
       "      <th>3006</th>\n",
       "      <td>822145925426128</td>\n",
       "      <td>5638995</td>\n",
       "      <td>0</td>\n",
       "      <td>2016-04-29 08:38:44</td>\n",
       "      <td>2016-04-29</td>\n",
       "      <td>38</td>\n",
       "      <td>REDENÇÃO</td>\n",
       "      <td>0</td>\n",
       "      <td>0</td>\n",
       "      <td>0</td>\n",
       "      <td>...</td>\n",
       "      <td>16</td>\n",
       "      <td>11</td>\n",
       "      <td>0.01</td>\n",
       "      <td>0</td>\n",
       "      <td>0</td>\n",
       "      <td>0</td>\n",
       "      <td>0</td>\n",
       "      <td>0</td>\n",
       "      <td>4</td>\n",
       "      <td>0</td>\n",
       "    </tr>\n",
       "    <tr>\n",
       "      <th>3093</th>\n",
       "      <td>822145925426128</td>\n",
       "      <td>5640809</td>\n",
       "      <td>0</td>\n",
       "      <td>2016-04-29 11:27:34</td>\n",
       "      <td>2016-04-29</td>\n",
       "      <td>38</td>\n",
       "      <td>REDENÇÃO</td>\n",
       "      <td>0</td>\n",
       "      <td>0</td>\n",
       "      <td>0</td>\n",
       "      <td>...</td>\n",
       "      <td>16</td>\n",
       "      <td>11</td>\n",
       "      <td>0.01</td>\n",
       "      <td>0</td>\n",
       "      <td>0</td>\n",
       "      <td>0</td>\n",
       "      <td>0</td>\n",
       "      <td>0</td>\n",
       "      <td>4</td>\n",
       "      <td>0</td>\n",
       "    </tr>\n",
       "    <tr>\n",
       "      <th>3060</th>\n",
       "      <td>822145925426128</td>\n",
       "      <td>5642878</td>\n",
       "      <td>0</td>\n",
       "      <td>2016-04-29 18:02:42</td>\n",
       "      <td>2016-04-29</td>\n",
       "      <td>38</td>\n",
       "      <td>REDENÇÃO</td>\n",
       "      <td>0</td>\n",
       "      <td>0</td>\n",
       "      <td>0</td>\n",
       "      <td>...</td>\n",
       "      <td>16</td>\n",
       "      <td>11</td>\n",
       "      <td>0.01</td>\n",
       "      <td>0</td>\n",
       "      <td>0</td>\n",
       "      <td>0</td>\n",
       "      <td>0</td>\n",
       "      <td>0</td>\n",
       "      <td>4</td>\n",
       "      <td>0</td>\n",
       "    </tr>\n",
       "    <tr>\n",
       "      <th>8707</th>\n",
       "      <td>822145925426128</td>\n",
       "      <td>5645183</td>\n",
       "      <td>0</td>\n",
       "      <td>2016-05-02 09:34:46</td>\n",
       "      <td>2016-05-02</td>\n",
       "      <td>38</td>\n",
       "      <td>REDENÇÃO</td>\n",
       "      <td>0</td>\n",
       "      <td>0</td>\n",
       "      <td>0</td>\n",
       "      <td>...</td>\n",
       "      <td>17</td>\n",
       "      <td>11</td>\n",
       "      <td>0.00</td>\n",
       "      <td>0</td>\n",
       "      <td>0</td>\n",
       "      <td>0</td>\n",
       "      <td>0</td>\n",
       "      <td>0</td>\n",
       "      <td>0</td>\n",
       "      <td>0</td>\n",
       "    </tr>\n",
       "    <tr>\n",
       "      <th>25428</th>\n",
       "      <td>822145925426128</td>\n",
       "      <td>5649058</td>\n",
       "      <td>0</td>\n",
       "      <td>2016-05-02 17:38:17</td>\n",
       "      <td>2016-05-02</td>\n",
       "      <td>38</td>\n",
       "      <td>REDENÇÃO</td>\n",
       "      <td>0</td>\n",
       "      <td>0</td>\n",
       "      <td>0</td>\n",
       "      <td>...</td>\n",
       "      <td>17</td>\n",
       "      <td>11</td>\n",
       "      <td>0.00</td>\n",
       "      <td>0</td>\n",
       "      <td>0</td>\n",
       "      <td>0</td>\n",
       "      <td>0</td>\n",
       "      <td>0</td>\n",
       "      <td>0</td>\n",
       "      <td>0</td>\n",
       "    </tr>\n",
       "    <tr>\n",
       "      <th>35675</th>\n",
       "      <td>822145925426128</td>\n",
       "      <td>5649163</td>\n",
       "      <td>0</td>\n",
       "      <td>2016-05-02 17:57:36</td>\n",
       "      <td>2016-05-02</td>\n",
       "      <td>38</td>\n",
       "      <td>REDENÇÃO</td>\n",
       "      <td>0</td>\n",
       "      <td>0</td>\n",
       "      <td>0</td>\n",
       "      <td>...</td>\n",
       "      <td>17</td>\n",
       "      <td>11</td>\n",
       "      <td>0.00</td>\n",
       "      <td>0</td>\n",
       "      <td>0</td>\n",
       "      <td>0</td>\n",
       "      <td>0</td>\n",
       "      <td>0</td>\n",
       "      <td>0</td>\n",
       "      <td>0</td>\n",
       "    </tr>\n",
       "    <tr>\n",
       "      <th>7685</th>\n",
       "      <td>822145925426128</td>\n",
       "      <td>5655382</td>\n",
       "      <td>0</td>\n",
       "      <td>2016-05-03 16:57:59</td>\n",
       "      <td>2016-05-03</td>\n",
       "      <td>38</td>\n",
       "      <td>REDENÇÃO</td>\n",
       "      <td>0</td>\n",
       "      <td>0</td>\n",
       "      <td>0</td>\n",
       "      <td>...</td>\n",
       "      <td>17</td>\n",
       "      <td>5</td>\n",
       "      <td>0.00</td>\n",
       "      <td>0</td>\n",
       "      <td>0</td>\n",
       "      <td>0</td>\n",
       "      <td>0</td>\n",
       "      <td>0</td>\n",
       "      <td>1</td>\n",
       "      <td>0</td>\n",
       "    </tr>\n",
       "    <tr>\n",
       "      <th>8831</th>\n",
       "      <td>822145925426128</td>\n",
       "      <td>5657205</td>\n",
       "      <td>0</td>\n",
       "      <td>2016-05-04 09:03:31</td>\n",
       "      <td>2016-05-04</td>\n",
       "      <td>38</td>\n",
       "      <td>REDENÇÃO</td>\n",
       "      <td>0</td>\n",
       "      <td>0</td>\n",
       "      <td>0</td>\n",
       "      <td>...</td>\n",
       "      <td>15</td>\n",
       "      <td>5</td>\n",
       "      <td>0.00</td>\n",
       "      <td>0</td>\n",
       "      <td>0</td>\n",
       "      <td>0</td>\n",
       "      <td>0</td>\n",
       "      <td>0</td>\n",
       "      <td>2</td>\n",
       "      <td>0</td>\n",
       "    </tr>\n",
       "    <tr>\n",
       "      <th>8450</th>\n",
       "      <td>822145925426128</td>\n",
       "      <td>5658723</td>\n",
       "      <td>0</td>\n",
       "      <td>2016-05-04 11:38:34</td>\n",
       "      <td>2016-05-04</td>\n",
       "      <td>38</td>\n",
       "      <td>REDENÇÃO</td>\n",
       "      <td>0</td>\n",
       "      <td>0</td>\n",
       "      <td>0</td>\n",
       "      <td>...</td>\n",
       "      <td>15</td>\n",
       "      <td>5</td>\n",
       "      <td>0.00</td>\n",
       "      <td>0</td>\n",
       "      <td>0</td>\n",
       "      <td>0</td>\n",
       "      <td>0</td>\n",
       "      <td>0</td>\n",
       "      <td>2</td>\n",
       "      <td>0</td>\n",
       "    </tr>\n",
       "    <tr>\n",
       "      <th>8465</th>\n",
       "      <td>822145925426128</td>\n",
       "      <td>5658733</td>\n",
       "      <td>0</td>\n",
       "      <td>2016-05-04 11:40:14</td>\n",
       "      <td>2016-05-04</td>\n",
       "      <td>38</td>\n",
       "      <td>REDENÇÃO</td>\n",
       "      <td>0</td>\n",
       "      <td>0</td>\n",
       "      <td>0</td>\n",
       "      <td>...</td>\n",
       "      <td>15</td>\n",
       "      <td>5</td>\n",
       "      <td>0.00</td>\n",
       "      <td>0</td>\n",
       "      <td>0</td>\n",
       "      <td>0</td>\n",
       "      <td>0</td>\n",
       "      <td>0</td>\n",
       "      <td>2</td>\n",
       "      <td>0</td>\n",
       "    </tr>\n",
       "    <tr>\n",
       "      <th>25412</th>\n",
       "      <td>822145925426128</td>\n",
       "      <td>5660677</td>\n",
       "      <td>0</td>\n",
       "      <td>2016-05-04 17:22:49</td>\n",
       "      <td>2016-05-04</td>\n",
       "      <td>38</td>\n",
       "      <td>REDENÇÃO</td>\n",
       "      <td>0</td>\n",
       "      <td>0</td>\n",
       "      <td>0</td>\n",
       "      <td>...</td>\n",
       "      <td>15</td>\n",
       "      <td>5</td>\n",
       "      <td>0.00</td>\n",
       "      <td>0</td>\n",
       "      <td>0</td>\n",
       "      <td>0</td>\n",
       "      <td>0</td>\n",
       "      <td>0</td>\n",
       "      <td>2</td>\n",
       "      <td>0</td>\n",
       "    </tr>\n",
       "    <tr>\n",
       "      <th>25421</th>\n",
       "      <td>822145925426128</td>\n",
       "      <td>5660730</td>\n",
       "      <td>0</td>\n",
       "      <td>2016-05-04 18:08:30</td>\n",
       "      <td>2016-05-04</td>\n",
       "      <td>38</td>\n",
       "      <td>REDENÇÃO</td>\n",
       "      <td>0</td>\n",
       "      <td>0</td>\n",
       "      <td>0</td>\n",
       "      <td>...</td>\n",
       "      <td>15</td>\n",
       "      <td>5</td>\n",
       "      <td>0.00</td>\n",
       "      <td>0</td>\n",
       "      <td>0</td>\n",
       "      <td>0</td>\n",
       "      <td>0</td>\n",
       "      <td>0</td>\n",
       "      <td>2</td>\n",
       "      <td>0</td>\n",
       "    </tr>\n",
       "    <tr>\n",
       "      <th>8657</th>\n",
       "      <td>822145925426128</td>\n",
       "      <td>5662479</td>\n",
       "      <td>0</td>\n",
       "      <td>2016-05-05 08:36:48</td>\n",
       "      <td>2016-05-05</td>\n",
       "      <td>38</td>\n",
       "      <td>REDENÇÃO</td>\n",
       "      <td>0</td>\n",
       "      <td>0</td>\n",
       "      <td>0</td>\n",
       "      <td>...</td>\n",
       "      <td>17</td>\n",
       "      <td>7</td>\n",
       "      <td>0.00</td>\n",
       "      <td>0</td>\n",
       "      <td>0</td>\n",
       "      <td>0</td>\n",
       "      <td>0</td>\n",
       "      <td>0</td>\n",
       "      <td>3</td>\n",
       "      <td>0</td>\n",
       "    </tr>\n",
       "    <tr>\n",
       "      <th>8869</th>\n",
       "      <td>822145925426128</td>\n",
       "      <td>5667980</td>\n",
       "      <td>0</td>\n",
       "      <td>2016-05-06 08:20:55</td>\n",
       "      <td>2016-05-06</td>\n",
       "      <td>38</td>\n",
       "      <td>REDENÇÃO</td>\n",
       "      <td>0</td>\n",
       "      <td>0</td>\n",
       "      <td>0</td>\n",
       "      <td>...</td>\n",
       "      <td>14</td>\n",
       "      <td>5</td>\n",
       "      <td>0.00</td>\n",
       "      <td>0</td>\n",
       "      <td>0</td>\n",
       "      <td>0</td>\n",
       "      <td>0</td>\n",
       "      <td>0</td>\n",
       "      <td>4</td>\n",
       "      <td>0</td>\n",
       "    </tr>\n",
       "    <tr>\n",
       "      <th>6985</th>\n",
       "      <td>822145925426128</td>\n",
       "      <td>5668887</td>\n",
       "      <td>0</td>\n",
       "      <td>2016-05-06 09:54:32</td>\n",
       "      <td>2016-05-06</td>\n",
       "      <td>38</td>\n",
       "      <td>REDENÇÃO</td>\n",
       "      <td>0</td>\n",
       "      <td>0</td>\n",
       "      <td>0</td>\n",
       "      <td>...</td>\n",
       "      <td>14</td>\n",
       "      <td>5</td>\n",
       "      <td>0.00</td>\n",
       "      <td>0</td>\n",
       "      <td>0</td>\n",
       "      <td>0</td>\n",
       "      <td>0</td>\n",
       "      <td>0</td>\n",
       "      <td>4</td>\n",
       "      <td>0</td>\n",
       "    </tr>\n",
       "    <tr>\n",
       "      <th>35723</th>\n",
       "      <td>822145925426128</td>\n",
       "      <td>5671341</td>\n",
       "      <td>0</td>\n",
       "      <td>2016-05-06 16:29:48</td>\n",
       "      <td>2016-05-06</td>\n",
       "      <td>38</td>\n",
       "      <td>REDENÇÃO</td>\n",
       "      <td>0</td>\n",
       "      <td>0</td>\n",
       "      <td>0</td>\n",
       "      <td>...</td>\n",
       "      <td>14</td>\n",
       "      <td>5</td>\n",
       "      <td>0.00</td>\n",
       "      <td>0</td>\n",
       "      <td>0</td>\n",
       "      <td>0</td>\n",
       "      <td>0</td>\n",
       "      <td>0</td>\n",
       "      <td>4</td>\n",
       "      <td>0</td>\n",
       "    </tr>\n",
       "    <tr>\n",
       "      <th>9290</th>\n",
       "      <td>822145925426128</td>\n",
       "      <td>5671588</td>\n",
       "      <td>0</td>\n",
       "      <td>2016-05-06 19:56:38</td>\n",
       "      <td>2016-05-10</td>\n",
       "      <td>38</td>\n",
       "      <td>REDENÇÃO</td>\n",
       "      <td>0</td>\n",
       "      <td>0</td>\n",
       "      <td>0</td>\n",
       "      <td>...</td>\n",
       "      <td>23</td>\n",
       "      <td>9</td>\n",
       "      <td>0.00</td>\n",
       "      <td>0</td>\n",
       "      <td>0</td>\n",
       "      <td>0</td>\n",
       "      <td>4</td>\n",
       "      <td>3-5</td>\n",
       "      <td>1</td>\n",
       "      <td>0</td>\n",
       "    </tr>\n",
       "    <tr>\n",
       "      <th>8691</th>\n",
       "      <td>822145925426128</td>\n",
       "      <td>5673265</td>\n",
       "      <td>0</td>\n",
       "      <td>2016-05-09 09:05:43</td>\n",
       "      <td>2016-05-09</td>\n",
       "      <td>38</td>\n",
       "      <td>REDENÇÃO</td>\n",
       "      <td>0</td>\n",
       "      <td>0</td>\n",
       "      <td>0</td>\n",
       "      <td>...</td>\n",
       "      <td>14</td>\n",
       "      <td>6</td>\n",
       "      <td>0.00</td>\n",
       "      <td>0</td>\n",
       "      <td>0</td>\n",
       "      <td>0</td>\n",
       "      <td>0</td>\n",
       "      <td>0</td>\n",
       "      <td>0</td>\n",
       "      <td>0</td>\n",
       "    </tr>\n",
       "    <tr>\n",
       "      <th>35665</th>\n",
       "      <td>822145925426128</td>\n",
       "      <td>5674659</td>\n",
       "      <td>0</td>\n",
       "      <td>2016-05-09 11:35:55</td>\n",
       "      <td>2016-05-09</td>\n",
       "      <td>38</td>\n",
       "      <td>REDENÇÃO</td>\n",
       "      <td>0</td>\n",
       "      <td>0</td>\n",
       "      <td>0</td>\n",
       "      <td>...</td>\n",
       "      <td>14</td>\n",
       "      <td>6</td>\n",
       "      <td>0.00</td>\n",
       "      <td>0</td>\n",
       "      <td>0</td>\n",
       "      <td>0</td>\n",
       "      <td>0</td>\n",
       "      <td>0</td>\n",
       "      <td>0</td>\n",
       "      <td>0</td>\n",
       "    </tr>\n",
       "    <tr>\n",
       "      <th>25475</th>\n",
       "      <td>822145925426128</td>\n",
       "      <td>5677170</td>\n",
       "      <td>0</td>\n",
       "      <td>2016-05-09 18:21:50</td>\n",
       "      <td>2016-05-09</td>\n",
       "      <td>38</td>\n",
       "      <td>REDENÇÃO</td>\n",
       "      <td>0</td>\n",
       "      <td>0</td>\n",
       "      <td>0</td>\n",
       "      <td>...</td>\n",
       "      <td>14</td>\n",
       "      <td>6</td>\n",
       "      <td>0.00</td>\n",
       "      <td>0</td>\n",
       "      <td>0</td>\n",
       "      <td>0</td>\n",
       "      <td>0</td>\n",
       "      <td>0</td>\n",
       "      <td>0</td>\n",
       "      <td>0</td>\n",
       "    </tr>\n",
       "    <tr>\n",
       "      <th>8761</th>\n",
       "      <td>822145925426128</td>\n",
       "      <td>5680582</td>\n",
       "      <td>0</td>\n",
       "      <td>2016-05-10 12:14:38</td>\n",
       "      <td>2016-05-10</td>\n",
       "      <td>38</td>\n",
       "      <td>REDENÇÃO</td>\n",
       "      <td>0</td>\n",
       "      <td>0</td>\n",
       "      <td>0</td>\n",
       "      <td>...</td>\n",
       "      <td>23</td>\n",
       "      <td>9</td>\n",
       "      <td>0.00</td>\n",
       "      <td>0</td>\n",
       "      <td>0</td>\n",
       "      <td>0</td>\n",
       "      <td>0</td>\n",
       "      <td>0</td>\n",
       "      <td>1</td>\n",
       "      <td>0</td>\n",
       "    </tr>\n",
       "    <tr>\n",
       "      <th>7198</th>\n",
       "      <td>822145925426128</td>\n",
       "      <td>5682166</td>\n",
       "      <td>0</td>\n",
       "      <td>2016-05-10 15:56:47</td>\n",
       "      <td>2016-05-13</td>\n",
       "      <td>38</td>\n",
       "      <td>REDENÇÃO</td>\n",
       "      <td>0</td>\n",
       "      <td>0</td>\n",
       "      <td>0</td>\n",
       "      <td>...</td>\n",
       "      <td>17</td>\n",
       "      <td>10</td>\n",
       "      <td>0.00</td>\n",
       "      <td>0</td>\n",
       "      <td>0</td>\n",
       "      <td>0</td>\n",
       "      <td>3</td>\n",
       "      <td>3-5</td>\n",
       "      <td>4</td>\n",
       "      <td>0</td>\n",
       "    </tr>\n",
       "    <tr>\n",
       "      <th>8644</th>\n",
       "      <td>822145925426128</td>\n",
       "      <td>5682208</td>\n",
       "      <td>0</td>\n",
       "      <td>2016-05-10 16:01:45</td>\n",
       "      <td>2016-05-10</td>\n",
       "      <td>38</td>\n",
       "      <td>REDENÇÃO</td>\n",
       "      <td>0</td>\n",
       "      <td>0</td>\n",
       "      <td>0</td>\n",
       "      <td>...</td>\n",
       "      <td>23</td>\n",
       "      <td>9</td>\n",
       "      <td>0.00</td>\n",
       "      <td>0</td>\n",
       "      <td>0</td>\n",
       "      <td>0</td>\n",
       "      <td>0</td>\n",
       "      <td>0</td>\n",
       "      <td>1</td>\n",
       "      <td>0</td>\n",
       "    </tr>\n",
       "    <tr>\n",
       "      <th>8451</th>\n",
       "      <td>822145925426128</td>\n",
       "      <td>5686100</td>\n",
       "      <td>0</td>\n",
       "      <td>2016-05-11 12:02:05</td>\n",
       "      <td>2016-05-11</td>\n",
       "      <td>38</td>\n",
       "      <td>REDENÇÃO</td>\n",
       "      <td>0</td>\n",
       "      <td>0</td>\n",
       "      <td>0</td>\n",
       "      <td>...</td>\n",
       "      <td>16</td>\n",
       "      <td>9</td>\n",
       "      <td>0.00</td>\n",
       "      <td>0</td>\n",
       "      <td>0</td>\n",
       "      <td>0</td>\n",
       "      <td>0</td>\n",
       "      <td>0</td>\n",
       "      <td>2</td>\n",
       "      <td>0</td>\n",
       "    </tr>\n",
       "    <tr>\n",
       "      <th>8467</th>\n",
       "      <td>822145925426128</td>\n",
       "      <td>5686138</td>\n",
       "      <td>0</td>\n",
       "      <td>2016-05-11 12:09:33</td>\n",
       "      <td>2016-05-11</td>\n",
       "      <td>38</td>\n",
       "      <td>REDENÇÃO</td>\n",
       "      <td>0</td>\n",
       "      <td>0</td>\n",
       "      <td>0</td>\n",
       "      <td>...</td>\n",
       "      <td>16</td>\n",
       "      <td>9</td>\n",
       "      <td>0.00</td>\n",
       "      <td>0</td>\n",
       "      <td>0</td>\n",
       "      <td>0</td>\n",
       "      <td>0</td>\n",
       "      <td>0</td>\n",
       "      <td>2</td>\n",
       "      <td>0</td>\n",
       "    </tr>\n",
       "    <tr>\n",
       "      <th>8650</th>\n",
       "      <td>822145925426128</td>\n",
       "      <td>5689576</td>\n",
       "      <td>0</td>\n",
       "      <td>2016-05-12 08:43:08</td>\n",
       "      <td>2016-05-12</td>\n",
       "      <td>38</td>\n",
       "      <td>REDENÇÃO</td>\n",
       "      <td>0</td>\n",
       "      <td>0</td>\n",
       "      <td>0</td>\n",
       "      <td>...</td>\n",
       "      <td>20</td>\n",
       "      <td>6</td>\n",
       "      <td>0.47</td>\n",
       "      <td>1</td>\n",
       "      <td>1</td>\n",
       "      <td>0</td>\n",
       "      <td>0</td>\n",
       "      <td>0</td>\n",
       "      <td>3</td>\n",
       "      <td>0</td>\n",
       "    </tr>\n",
       "    <tr>\n",
       "      <th>7290</th>\n",
       "      <td>822145925426128</td>\n",
       "      <td>5691237</td>\n",
       "      <td>0</td>\n",
       "      <td>2016-05-12 11:45:57</td>\n",
       "      <td>2016-05-12</td>\n",
       "      <td>38</td>\n",
       "      <td>REDENÇÃO</td>\n",
       "      <td>0</td>\n",
       "      <td>0</td>\n",
       "      <td>0</td>\n",
       "      <td>...</td>\n",
       "      <td>20</td>\n",
       "      <td>6</td>\n",
       "      <td>0.47</td>\n",
       "      <td>1</td>\n",
       "      <td>1</td>\n",
       "      <td>0</td>\n",
       "      <td>0</td>\n",
       "      <td>0</td>\n",
       "      <td>3</td>\n",
       "      <td>0</td>\n",
       "    </tr>\n",
       "    <tr>\n",
       "      <th>7726</th>\n",
       "      <td>822145925426128</td>\n",
       "      <td>5693050</td>\n",
       "      <td>0</td>\n",
       "      <td>2016-05-12 17:19:53</td>\n",
       "      <td>2016-05-12</td>\n",
       "      <td>38</td>\n",
       "      <td>REDENÇÃO</td>\n",
       "      <td>0</td>\n",
       "      <td>0</td>\n",
       "      <td>0</td>\n",
       "      <td>...</td>\n",
       "      <td>20</td>\n",
       "      <td>6</td>\n",
       "      <td>0.47</td>\n",
       "      <td>1</td>\n",
       "      <td>1</td>\n",
       "      <td>0</td>\n",
       "      <td>0</td>\n",
       "      <td>0</td>\n",
       "      <td>3</td>\n",
       "      <td>0</td>\n",
       "    </tr>\n",
       "    <tr>\n",
       "      <th>8850</th>\n",
       "      <td>822145925426128</td>\n",
       "      <td>5694863</td>\n",
       "      <td>0</td>\n",
       "      <td>2016-05-13 09:04:50</td>\n",
       "      <td>2016-05-13</td>\n",
       "      <td>38</td>\n",
       "      <td>REDENÇÃO</td>\n",
       "      <td>0</td>\n",
       "      <td>0</td>\n",
       "      <td>0</td>\n",
       "      <td>...</td>\n",
       "      <td>17</td>\n",
       "      <td>10</td>\n",
       "      <td>0.00</td>\n",
       "      <td>0</td>\n",
       "      <td>0</td>\n",
       "      <td>0</td>\n",
       "      <td>0</td>\n",
       "      <td>0</td>\n",
       "      <td>4</td>\n",
       "      <td>0</td>\n",
       "    </tr>\n",
       "    <tr>\n",
       "      <th>31572</th>\n",
       "      <td>822145925426128</td>\n",
       "      <td>5695919</td>\n",
       "      <td>0</td>\n",
       "      <td>2016-05-13 11:15:37</td>\n",
       "      <td>2016-05-13</td>\n",
       "      <td>38</td>\n",
       "      <td>REDENÇÃO</td>\n",
       "      <td>0</td>\n",
       "      <td>0</td>\n",
       "      <td>0</td>\n",
       "      <td>...</td>\n",
       "      <td>17</td>\n",
       "      <td>10</td>\n",
       "      <td>0.00</td>\n",
       "      <td>0</td>\n",
       "      <td>0</td>\n",
       "      <td>0</td>\n",
       "      <td>0</td>\n",
       "      <td>0</td>\n",
       "      <td>4</td>\n",
       "      <td>0</td>\n",
       "    </tr>\n",
       "    <tr>\n",
       "      <th>...</th>\n",
       "      <td>...</td>\n",
       "      <td>...</td>\n",
       "      <td>...</td>\n",
       "      <td>...</td>\n",
       "      <td>...</td>\n",
       "      <td>...</td>\n",
       "      <td>...</td>\n",
       "      <td>...</td>\n",
       "      <td>...</td>\n",
       "      <td>...</td>\n",
       "      <td>...</td>\n",
       "      <td>...</td>\n",
       "      <td>...</td>\n",
       "      <td>...</td>\n",
       "      <td>...</td>\n",
       "      <td>...</td>\n",
       "      <td>...</td>\n",
       "      <td>...</td>\n",
       "      <td>...</td>\n",
       "      <td>...</td>\n",
       "      <td>...</td>\n",
       "    </tr>\n",
       "    <tr>\n",
       "      <th>8502</th>\n",
       "      <td>822145925426128</td>\n",
       "      <td>5738935</td>\n",
       "      <td>0</td>\n",
       "      <td>2016-05-25 11:59:35</td>\n",
       "      <td>2016-05-25</td>\n",
       "      <td>38</td>\n",
       "      <td>REDENÇÃO</td>\n",
       "      <td>0</td>\n",
       "      <td>0</td>\n",
       "      <td>0</td>\n",
       "      <td>...</td>\n",
       "      <td>16</td>\n",
       "      <td>12</td>\n",
       "      <td>0.00</td>\n",
       "      <td>0</td>\n",
       "      <td>0</td>\n",
       "      <td>0</td>\n",
       "      <td>0</td>\n",
       "      <td>0</td>\n",
       "      <td>2</td>\n",
       "      <td>0</td>\n",
       "    </tr>\n",
       "    <tr>\n",
       "      <th>25425</th>\n",
       "      <td>822145925426128</td>\n",
       "      <td>5740674</td>\n",
       "      <td>0</td>\n",
       "      <td>2016-05-25 15:50:51</td>\n",
       "      <td>2016-05-25</td>\n",
       "      <td>38</td>\n",
       "      <td>REDENÇÃO</td>\n",
       "      <td>0</td>\n",
       "      <td>0</td>\n",
       "      <td>0</td>\n",
       "      <td>...</td>\n",
       "      <td>16</td>\n",
       "      <td>12</td>\n",
       "      <td>0.00</td>\n",
       "      <td>0</td>\n",
       "      <td>0</td>\n",
       "      <td>0</td>\n",
       "      <td>0</td>\n",
       "      <td>0</td>\n",
       "      <td>2</td>\n",
       "      <td>0</td>\n",
       "    </tr>\n",
       "    <tr>\n",
       "      <th>7437</th>\n",
       "      <td>822145925426128</td>\n",
       "      <td>5740965</td>\n",
       "      <td>0</td>\n",
       "      <td>2016-05-25 16:46:22</td>\n",
       "      <td>2016-05-25</td>\n",
       "      <td>38</td>\n",
       "      <td>REDENÇÃO</td>\n",
       "      <td>0</td>\n",
       "      <td>0</td>\n",
       "      <td>0</td>\n",
       "      <td>...</td>\n",
       "      <td>16</td>\n",
       "      <td>12</td>\n",
       "      <td>0.00</td>\n",
       "      <td>0</td>\n",
       "      <td>0</td>\n",
       "      <td>0</td>\n",
       "      <td>0</td>\n",
       "      <td>0</td>\n",
       "      <td>2</td>\n",
       "      <td>0</td>\n",
       "    </tr>\n",
       "    <tr>\n",
       "      <th>8666</th>\n",
       "      <td>822145925426128</td>\n",
       "      <td>5744367</td>\n",
       "      <td>0</td>\n",
       "      <td>2016-05-30 10:09:25</td>\n",
       "      <td>2016-05-30</td>\n",
       "      <td>38</td>\n",
       "      <td>REDENÇÃO</td>\n",
       "      <td>0</td>\n",
       "      <td>0</td>\n",
       "      <td>0</td>\n",
       "      <td>...</td>\n",
       "      <td>16</td>\n",
       "      <td>5</td>\n",
       "      <td>0.00</td>\n",
       "      <td>0</td>\n",
       "      <td>0</td>\n",
       "      <td>0</td>\n",
       "      <td>0</td>\n",
       "      <td>0</td>\n",
       "      <td>0</td>\n",
       "      <td>0</td>\n",
       "    </tr>\n",
       "    <tr>\n",
       "      <th>7587</th>\n",
       "      <td>822145925426128</td>\n",
       "      <td>5745336</td>\n",
       "      <td>0</td>\n",
       "      <td>2016-05-30 11:44:03</td>\n",
       "      <td>2016-05-30</td>\n",
       "      <td>38</td>\n",
       "      <td>REDENÇÃO</td>\n",
       "      <td>0</td>\n",
       "      <td>0</td>\n",
       "      <td>0</td>\n",
       "      <td>...</td>\n",
       "      <td>16</td>\n",
       "      <td>5</td>\n",
       "      <td>0.00</td>\n",
       "      <td>0</td>\n",
       "      <td>0</td>\n",
       "      <td>0</td>\n",
       "      <td>0</td>\n",
       "      <td>0</td>\n",
       "      <td>0</td>\n",
       "      <td>0</td>\n",
       "    </tr>\n",
       "    <tr>\n",
       "      <th>40518</th>\n",
       "      <td>822145925426128</td>\n",
       "      <td>5747258</td>\n",
       "      <td>0</td>\n",
       "      <td>2016-05-30 15:22:15</td>\n",
       "      <td>2016-05-30</td>\n",
       "      <td>38</td>\n",
       "      <td>REDENÇÃO</td>\n",
       "      <td>0</td>\n",
       "      <td>0</td>\n",
       "      <td>0</td>\n",
       "      <td>...</td>\n",
       "      <td>16</td>\n",
       "      <td>5</td>\n",
       "      <td>0.00</td>\n",
       "      <td>0</td>\n",
       "      <td>0</td>\n",
       "      <td>0</td>\n",
       "      <td>0</td>\n",
       "      <td>0</td>\n",
       "      <td>0</td>\n",
       "      <td>0</td>\n",
       "    </tr>\n",
       "    <tr>\n",
       "      <th>25427</th>\n",
       "      <td>822145925426128</td>\n",
       "      <td>5748219</td>\n",
       "      <td>0</td>\n",
       "      <td>2016-05-30 17:45:46</td>\n",
       "      <td>2016-05-30</td>\n",
       "      <td>38</td>\n",
       "      <td>REDENÇÃO</td>\n",
       "      <td>0</td>\n",
       "      <td>0</td>\n",
       "      <td>0</td>\n",
       "      <td>...</td>\n",
       "      <td>16</td>\n",
       "      <td>5</td>\n",
       "      <td>0.00</td>\n",
       "      <td>0</td>\n",
       "      <td>0</td>\n",
       "      <td>0</td>\n",
       "      <td>0</td>\n",
       "      <td>0</td>\n",
       "      <td>0</td>\n",
       "      <td>0</td>\n",
       "    </tr>\n",
       "    <tr>\n",
       "      <th>8798</th>\n",
       "      <td>822145925426128</td>\n",
       "      <td>5752932</td>\n",
       "      <td>0</td>\n",
       "      <td>2016-05-31 13:09:21</td>\n",
       "      <td>2016-05-31</td>\n",
       "      <td>38</td>\n",
       "      <td>REDENÇÃO</td>\n",
       "      <td>0</td>\n",
       "      <td>0</td>\n",
       "      <td>0</td>\n",
       "      <td>...</td>\n",
       "      <td>15</td>\n",
       "      <td>5</td>\n",
       "      <td>0.00</td>\n",
       "      <td>0</td>\n",
       "      <td>0</td>\n",
       "      <td>1</td>\n",
       "      <td>0</td>\n",
       "      <td>0</td>\n",
       "      <td>1</td>\n",
       "      <td>0</td>\n",
       "    </tr>\n",
       "    <tr>\n",
       "      <th>40523</th>\n",
       "      <td>822145925426128</td>\n",
       "      <td>5753275</td>\n",
       "      <td>0</td>\n",
       "      <td>2016-05-31 13:46:22</td>\n",
       "      <td>2016-05-31</td>\n",
       "      <td>38</td>\n",
       "      <td>REDENÇÃO</td>\n",
       "      <td>0</td>\n",
       "      <td>0</td>\n",
       "      <td>0</td>\n",
       "      <td>...</td>\n",
       "      <td>15</td>\n",
       "      <td>5</td>\n",
       "      <td>0.00</td>\n",
       "      <td>0</td>\n",
       "      <td>0</td>\n",
       "      <td>1</td>\n",
       "      <td>0</td>\n",
       "      <td>0</td>\n",
       "      <td>1</td>\n",
       "      <td>0</td>\n",
       "    </tr>\n",
       "    <tr>\n",
       "      <th>8631</th>\n",
       "      <td>822145925426128</td>\n",
       "      <td>5754261</td>\n",
       "      <td>0</td>\n",
       "      <td>2016-05-31 15:50:12</td>\n",
       "      <td>2016-05-31</td>\n",
       "      <td>38</td>\n",
       "      <td>REDENÇÃO</td>\n",
       "      <td>0</td>\n",
       "      <td>0</td>\n",
       "      <td>0</td>\n",
       "      <td>...</td>\n",
       "      <td>15</td>\n",
       "      <td>5</td>\n",
       "      <td>0.00</td>\n",
       "      <td>0</td>\n",
       "      <td>0</td>\n",
       "      <td>1</td>\n",
       "      <td>0</td>\n",
       "      <td>0</td>\n",
       "      <td>1</td>\n",
       "      <td>0</td>\n",
       "    </tr>\n",
       "    <tr>\n",
       "      <th>109230</th>\n",
       "      <td>822145925426128</td>\n",
       "      <td>5756865</td>\n",
       "      <td>0</td>\n",
       "      <td>2016-06-01 08:44:35</td>\n",
       "      <td>2016-06-01</td>\n",
       "      <td>38</td>\n",
       "      <td>REDENÇÃO</td>\n",
       "      <td>0</td>\n",
       "      <td>0</td>\n",
       "      <td>0</td>\n",
       "      <td>...</td>\n",
       "      <td>13</td>\n",
       "      <td>4</td>\n",
       "      <td>0.01</td>\n",
       "      <td>0</td>\n",
       "      <td>1</td>\n",
       "      <td>0</td>\n",
       "      <td>0</td>\n",
       "      <td>0</td>\n",
       "      <td>2</td>\n",
       "      <td>0</td>\n",
       "    </tr>\n",
       "    <tr>\n",
       "      <th>108797</th>\n",
       "      <td>822145925426128</td>\n",
       "      <td>5759314</td>\n",
       "      <td>0</td>\n",
       "      <td>2016-06-01 12:22:00</td>\n",
       "      <td>2016-06-01</td>\n",
       "      <td>38</td>\n",
       "      <td>REDENÇÃO</td>\n",
       "      <td>0</td>\n",
       "      <td>0</td>\n",
       "      <td>0</td>\n",
       "      <td>...</td>\n",
       "      <td>13</td>\n",
       "      <td>4</td>\n",
       "      <td>0.01</td>\n",
       "      <td>0</td>\n",
       "      <td>1</td>\n",
       "      <td>0</td>\n",
       "      <td>0</td>\n",
       "      <td>0</td>\n",
       "      <td>2</td>\n",
       "      <td>0</td>\n",
       "    </tr>\n",
       "    <tr>\n",
       "      <th>108817</th>\n",
       "      <td>822145925426128</td>\n",
       "      <td>5759318</td>\n",
       "      <td>0</td>\n",
       "      <td>2016-06-01 12:22:31</td>\n",
       "      <td>2016-06-01</td>\n",
       "      <td>38</td>\n",
       "      <td>REDENÇÃO</td>\n",
       "      <td>0</td>\n",
       "      <td>0</td>\n",
       "      <td>0</td>\n",
       "      <td>...</td>\n",
       "      <td>13</td>\n",
       "      <td>4</td>\n",
       "      <td>0.01</td>\n",
       "      <td>0</td>\n",
       "      <td>1</td>\n",
       "      <td>0</td>\n",
       "      <td>0</td>\n",
       "      <td>0</td>\n",
       "      <td>2</td>\n",
       "      <td>0</td>\n",
       "    </tr>\n",
       "    <tr>\n",
       "      <th>98838</th>\n",
       "      <td>822145925426128</td>\n",
       "      <td>5760271</td>\n",
       "      <td>0</td>\n",
       "      <td>2016-06-01 14:33:56</td>\n",
       "      <td>2016-06-01</td>\n",
       "      <td>38</td>\n",
       "      <td>REDENÇÃO</td>\n",
       "      <td>0</td>\n",
       "      <td>0</td>\n",
       "      <td>0</td>\n",
       "      <td>...</td>\n",
       "      <td>13</td>\n",
       "      <td>4</td>\n",
       "      <td>0.01</td>\n",
       "      <td>0</td>\n",
       "      <td>1</td>\n",
       "      <td>0</td>\n",
       "      <td>0</td>\n",
       "      <td>0</td>\n",
       "      <td>2</td>\n",
       "      <td>0</td>\n",
       "    </tr>\n",
       "    <tr>\n",
       "      <th>109113</th>\n",
       "      <td>822145925426128</td>\n",
       "      <td>5761322</td>\n",
       "      <td>0</td>\n",
       "      <td>2016-06-01 17:17:07</td>\n",
       "      <td>2016-06-01</td>\n",
       "      <td>38</td>\n",
       "      <td>REDENÇÃO</td>\n",
       "      <td>0</td>\n",
       "      <td>0</td>\n",
       "      <td>0</td>\n",
       "      <td>...</td>\n",
       "      <td>13</td>\n",
       "      <td>4</td>\n",
       "      <td>0.01</td>\n",
       "      <td>0</td>\n",
       "      <td>1</td>\n",
       "      <td>0</td>\n",
       "      <td>0</td>\n",
       "      <td>0</td>\n",
       "      <td>2</td>\n",
       "      <td>0</td>\n",
       "    </tr>\n",
       "    <tr>\n",
       "      <th>103527</th>\n",
       "      <td>822145925426128</td>\n",
       "      <td>5761393</td>\n",
       "      <td>0</td>\n",
       "      <td>2016-06-01 17:42:30</td>\n",
       "      <td>2016-06-01</td>\n",
       "      <td>38</td>\n",
       "      <td>REDENÇÃO</td>\n",
       "      <td>0</td>\n",
       "      <td>0</td>\n",
       "      <td>0</td>\n",
       "      <td>...</td>\n",
       "      <td>13</td>\n",
       "      <td>4</td>\n",
       "      <td>0.01</td>\n",
       "      <td>0</td>\n",
       "      <td>1</td>\n",
       "      <td>0</td>\n",
       "      <td>0</td>\n",
       "      <td>0</td>\n",
       "      <td>2</td>\n",
       "      <td>0</td>\n",
       "    </tr>\n",
       "    <tr>\n",
       "      <th>98823</th>\n",
       "      <td>822145925426128</td>\n",
       "      <td>5764370</td>\n",
       "      <td>0</td>\n",
       "      <td>2016-06-02 10:10:28</td>\n",
       "      <td>2016-06-02</td>\n",
       "      <td>38</td>\n",
       "      <td>REDENÇÃO</td>\n",
       "      <td>0</td>\n",
       "      <td>0</td>\n",
       "      <td>0</td>\n",
       "      <td>...</td>\n",
       "      <td>10</td>\n",
       "      <td>5</td>\n",
       "      <td>0.00</td>\n",
       "      <td>0</td>\n",
       "      <td>0</td>\n",
       "      <td>0</td>\n",
       "      <td>0</td>\n",
       "      <td>0</td>\n",
       "      <td>3</td>\n",
       "      <td>0</td>\n",
       "    </tr>\n",
       "    <tr>\n",
       "      <th>109023</th>\n",
       "      <td>822145925426128</td>\n",
       "      <td>5769302</td>\n",
       "      <td>0</td>\n",
       "      <td>2016-06-03 08:41:57</td>\n",
       "      <td>2016-06-03</td>\n",
       "      <td>38</td>\n",
       "      <td>REDENÇÃO</td>\n",
       "      <td>0</td>\n",
       "      <td>0</td>\n",
       "      <td>0</td>\n",
       "      <td>...</td>\n",
       "      <td>13</td>\n",
       "      <td>6</td>\n",
       "      <td>0.00</td>\n",
       "      <td>0</td>\n",
       "      <td>0</td>\n",
       "      <td>0</td>\n",
       "      <td>0</td>\n",
       "      <td>0</td>\n",
       "      <td>4</td>\n",
       "      <td>0</td>\n",
       "    </tr>\n",
       "    <tr>\n",
       "      <th>98815</th>\n",
       "      <td>822145925426128</td>\n",
       "      <td>5770256</td>\n",
       "      <td>0</td>\n",
       "      <td>2016-06-03 09:58:43</td>\n",
       "      <td>2016-06-03</td>\n",
       "      <td>38</td>\n",
       "      <td>REDENÇÃO</td>\n",
       "      <td>0</td>\n",
       "      <td>0</td>\n",
       "      <td>0</td>\n",
       "      <td>...</td>\n",
       "      <td>13</td>\n",
       "      <td>6</td>\n",
       "      <td>0.00</td>\n",
       "      <td>0</td>\n",
       "      <td>0</td>\n",
       "      <td>0</td>\n",
       "      <td>0</td>\n",
       "      <td>0</td>\n",
       "      <td>4</td>\n",
       "      <td>0</td>\n",
       "    </tr>\n",
       "    <tr>\n",
       "      <th>109052</th>\n",
       "      <td>822145925426128</td>\n",
       "      <td>5771222</td>\n",
       "      <td>0</td>\n",
       "      <td>2016-06-03 11:56:59</td>\n",
       "      <td>2016-06-03</td>\n",
       "      <td>38</td>\n",
       "      <td>REDENÇÃO</td>\n",
       "      <td>0</td>\n",
       "      <td>0</td>\n",
       "      <td>0</td>\n",
       "      <td>...</td>\n",
       "      <td>13</td>\n",
       "      <td>6</td>\n",
       "      <td>0.00</td>\n",
       "      <td>0</td>\n",
       "      <td>0</td>\n",
       "      <td>0</td>\n",
       "      <td>0</td>\n",
       "      <td>0</td>\n",
       "      <td>4</td>\n",
       "      <td>0</td>\n",
       "    </tr>\n",
       "    <tr>\n",
       "      <th>103512</th>\n",
       "      <td>822145925426128</td>\n",
       "      <td>5772774</td>\n",
       "      <td>0</td>\n",
       "      <td>2016-06-03 16:15:05</td>\n",
       "      <td>2016-06-03</td>\n",
       "      <td>38</td>\n",
       "      <td>REDENÇÃO</td>\n",
       "      <td>0</td>\n",
       "      <td>0</td>\n",
       "      <td>0</td>\n",
       "      <td>...</td>\n",
       "      <td>13</td>\n",
       "      <td>6</td>\n",
       "      <td>0.00</td>\n",
       "      <td>0</td>\n",
       "      <td>0</td>\n",
       "      <td>0</td>\n",
       "      <td>0</td>\n",
       "      <td>0</td>\n",
       "      <td>4</td>\n",
       "      <td>0</td>\n",
       "    </tr>\n",
       "    <tr>\n",
       "      <th>107115</th>\n",
       "      <td>822145925426128</td>\n",
       "      <td>5774798</td>\n",
       "      <td>0</td>\n",
       "      <td>2016-06-06 08:41:51</td>\n",
       "      <td>2016-06-06</td>\n",
       "      <td>38</td>\n",
       "      <td>REDENÇÃO</td>\n",
       "      <td>0</td>\n",
       "      <td>0</td>\n",
       "      <td>0</td>\n",
       "      <td>...</td>\n",
       "      <td>20</td>\n",
       "      <td>8</td>\n",
       "      <td>0.00</td>\n",
       "      <td>0</td>\n",
       "      <td>0</td>\n",
       "      <td>0</td>\n",
       "      <td>0</td>\n",
       "      <td>0</td>\n",
       "      <td>0</td>\n",
       "      <td>0</td>\n",
       "    </tr>\n",
       "    <tr>\n",
       "      <th>109069</th>\n",
       "      <td>822145925426128</td>\n",
       "      <td>5776942</td>\n",
       "      <td>0</td>\n",
       "      <td>2016-06-06 12:26:39</td>\n",
       "      <td>2016-06-06</td>\n",
       "      <td>38</td>\n",
       "      <td>REDENÇÃO</td>\n",
       "      <td>0</td>\n",
       "      <td>0</td>\n",
       "      <td>0</td>\n",
       "      <td>...</td>\n",
       "      <td>20</td>\n",
       "      <td>8</td>\n",
       "      <td>0.00</td>\n",
       "      <td>0</td>\n",
       "      <td>0</td>\n",
       "      <td>0</td>\n",
       "      <td>0</td>\n",
       "      <td>0</td>\n",
       "      <td>0</td>\n",
       "      <td>0</td>\n",
       "    </tr>\n",
       "    <tr>\n",
       "      <th>98847</th>\n",
       "      <td>822145925426128</td>\n",
       "      <td>5777041</td>\n",
       "      <td>0</td>\n",
       "      <td>2016-06-06 12:49:24</td>\n",
       "      <td>2016-06-06</td>\n",
       "      <td>38</td>\n",
       "      <td>REDENÇÃO</td>\n",
       "      <td>0</td>\n",
       "      <td>0</td>\n",
       "      <td>0</td>\n",
       "      <td>...</td>\n",
       "      <td>20</td>\n",
       "      <td>8</td>\n",
       "      <td>0.00</td>\n",
       "      <td>0</td>\n",
       "      <td>0</td>\n",
       "      <td>0</td>\n",
       "      <td>0</td>\n",
       "      <td>0</td>\n",
       "      <td>0</td>\n",
       "      <td>0</td>\n",
       "    </tr>\n",
       "    <tr>\n",
       "      <th>100367</th>\n",
       "      <td>822145925426128</td>\n",
       "      <td>5778961</td>\n",
       "      <td>0</td>\n",
       "      <td>2016-06-06 17:13:24</td>\n",
       "      <td>2016-06-06</td>\n",
       "      <td>38</td>\n",
       "      <td>REDENÇÃO</td>\n",
       "      <td>0</td>\n",
       "      <td>0</td>\n",
       "      <td>0</td>\n",
       "      <td>...</td>\n",
       "      <td>20</td>\n",
       "      <td>8</td>\n",
       "      <td>0.00</td>\n",
       "      <td>0</td>\n",
       "      <td>0</td>\n",
       "      <td>0</td>\n",
       "      <td>0</td>\n",
       "      <td>0</td>\n",
       "      <td>0</td>\n",
       "      <td>0</td>\n",
       "    </tr>\n",
       "    <tr>\n",
       "      <th>108843</th>\n",
       "      <td>822145925426128</td>\n",
       "      <td>5786560</td>\n",
       "      <td>0</td>\n",
       "      <td>2016-06-08 08:35:00</td>\n",
       "      <td>2016-06-08</td>\n",
       "      <td>38</td>\n",
       "      <td>REDENÇÃO</td>\n",
       "      <td>0</td>\n",
       "      <td>0</td>\n",
       "      <td>0</td>\n",
       "      <td>...</td>\n",
       "      <td>16</td>\n",
       "      <td>9</td>\n",
       "      <td>0.04</td>\n",
       "      <td>1</td>\n",
       "      <td>0</td>\n",
       "      <td>0</td>\n",
       "      <td>0</td>\n",
       "      <td>0</td>\n",
       "      <td>2</td>\n",
       "      <td>0</td>\n",
       "    </tr>\n",
       "    <tr>\n",
       "      <th>108821</th>\n",
       "      <td>822145925426128</td>\n",
       "      <td>5788247</td>\n",
       "      <td>0</td>\n",
       "      <td>2016-06-08 11:40:27</td>\n",
       "      <td>2016-06-08</td>\n",
       "      <td>38</td>\n",
       "      <td>REDENÇÃO</td>\n",
       "      <td>0</td>\n",
       "      <td>0</td>\n",
       "      <td>0</td>\n",
       "      <td>...</td>\n",
       "      <td>16</td>\n",
       "      <td>9</td>\n",
       "      <td>0.04</td>\n",
       "      <td>1</td>\n",
       "      <td>0</td>\n",
       "      <td>0</td>\n",
       "      <td>0</td>\n",
       "      <td>0</td>\n",
       "      <td>2</td>\n",
       "      <td>0</td>\n",
       "    </tr>\n",
       "    <tr>\n",
       "      <th>108805</th>\n",
       "      <td>822145925426128</td>\n",
       "      <td>5788304</td>\n",
       "      <td>0</td>\n",
       "      <td>2016-06-08 11:46:49</td>\n",
       "      <td>2016-06-08</td>\n",
       "      <td>38</td>\n",
       "      <td>REDENÇÃO</td>\n",
       "      <td>0</td>\n",
       "      <td>0</td>\n",
       "      <td>0</td>\n",
       "      <td>...</td>\n",
       "      <td>16</td>\n",
       "      <td>9</td>\n",
       "      <td>0.04</td>\n",
       "      <td>1</td>\n",
       "      <td>0</td>\n",
       "      <td>0</td>\n",
       "      <td>0</td>\n",
       "      <td>0</td>\n",
       "      <td>2</td>\n",
       "      <td>0</td>\n",
       "    </tr>\n",
       "    <tr>\n",
       "      <th>98832</th>\n",
       "      <td>822145925426128</td>\n",
       "      <td>5789400</td>\n",
       "      <td>0</td>\n",
       "      <td>2016-06-08 14:56:42</td>\n",
       "      <td>2016-06-08</td>\n",
       "      <td>38</td>\n",
       "      <td>REDENÇÃO</td>\n",
       "      <td>0</td>\n",
       "      <td>0</td>\n",
       "      <td>0</td>\n",
       "      <td>...</td>\n",
       "      <td>16</td>\n",
       "      <td>9</td>\n",
       "      <td>0.04</td>\n",
       "      <td>1</td>\n",
       "      <td>0</td>\n",
       "      <td>0</td>\n",
       "      <td>0</td>\n",
       "      <td>0</td>\n",
       "      <td>2</td>\n",
       "      <td>0</td>\n",
       "    </tr>\n",
       "    <tr>\n",
       "      <th>109102</th>\n",
       "      <td>822145925426128</td>\n",
       "      <td>5790220</td>\n",
       "      <td>0</td>\n",
       "      <td>2016-06-08 17:18:03</td>\n",
       "      <td>2016-06-08</td>\n",
       "      <td>38</td>\n",
       "      <td>REDENÇÃO</td>\n",
       "      <td>0</td>\n",
       "      <td>0</td>\n",
       "      <td>0</td>\n",
       "      <td>...</td>\n",
       "      <td>16</td>\n",
       "      <td>9</td>\n",
       "      <td>0.04</td>\n",
       "      <td>1</td>\n",
       "      <td>0</td>\n",
       "      <td>0</td>\n",
       "      <td>0</td>\n",
       "      <td>0</td>\n",
       "      <td>2</td>\n",
       "      <td>0</td>\n",
       "    </tr>\n",
       "  </tbody>\n",
       "</table>\n",
       "<p>88 rows × 36 columns</p>\n",
       "</div>"
      ],
      "text/plain": [
       "              PatientID AppointmentID  Gender        ScheduledDay  \\\n",
       "3006    822145925426128       5638995       0 2016-04-29 08:38:44   \n",
       "3093    822145925426128       5640809       0 2016-04-29 11:27:34   \n",
       "3060    822145925426128       5642878       0 2016-04-29 18:02:42   \n",
       "8707    822145925426128       5645183       0 2016-05-02 09:34:46   \n",
       "25428   822145925426128       5649058       0 2016-05-02 17:38:17   \n",
       "35675   822145925426128       5649163       0 2016-05-02 17:57:36   \n",
       "7685    822145925426128       5655382       0 2016-05-03 16:57:59   \n",
       "8831    822145925426128       5657205       0 2016-05-04 09:03:31   \n",
       "8450    822145925426128       5658723       0 2016-05-04 11:38:34   \n",
       "8465    822145925426128       5658733       0 2016-05-04 11:40:14   \n",
       "25412   822145925426128       5660677       0 2016-05-04 17:22:49   \n",
       "25421   822145925426128       5660730       0 2016-05-04 18:08:30   \n",
       "8657    822145925426128       5662479       0 2016-05-05 08:36:48   \n",
       "8869    822145925426128       5667980       0 2016-05-06 08:20:55   \n",
       "6985    822145925426128       5668887       0 2016-05-06 09:54:32   \n",
       "35723   822145925426128       5671341       0 2016-05-06 16:29:48   \n",
       "9290    822145925426128       5671588       0 2016-05-06 19:56:38   \n",
       "8691    822145925426128       5673265       0 2016-05-09 09:05:43   \n",
       "35665   822145925426128       5674659       0 2016-05-09 11:35:55   \n",
       "25475   822145925426128       5677170       0 2016-05-09 18:21:50   \n",
       "8761    822145925426128       5680582       0 2016-05-10 12:14:38   \n",
       "7198    822145925426128       5682166       0 2016-05-10 15:56:47   \n",
       "8644    822145925426128       5682208       0 2016-05-10 16:01:45   \n",
       "8451    822145925426128       5686100       0 2016-05-11 12:02:05   \n",
       "8467    822145925426128       5686138       0 2016-05-11 12:09:33   \n",
       "8650    822145925426128       5689576       0 2016-05-12 08:43:08   \n",
       "7290    822145925426128       5691237       0 2016-05-12 11:45:57   \n",
       "7726    822145925426128       5693050       0 2016-05-12 17:19:53   \n",
       "8850    822145925426128       5694863       0 2016-05-13 09:04:50   \n",
       "31572   822145925426128       5695919       0 2016-05-13 11:15:37   \n",
       "...                 ...           ...     ...                 ...   \n",
       "8502    822145925426128       5738935       0 2016-05-25 11:59:35   \n",
       "25425   822145925426128       5740674       0 2016-05-25 15:50:51   \n",
       "7437    822145925426128       5740965       0 2016-05-25 16:46:22   \n",
       "8666    822145925426128       5744367       0 2016-05-30 10:09:25   \n",
       "7587    822145925426128       5745336       0 2016-05-30 11:44:03   \n",
       "40518   822145925426128       5747258       0 2016-05-30 15:22:15   \n",
       "25427   822145925426128       5748219       0 2016-05-30 17:45:46   \n",
       "8798    822145925426128       5752932       0 2016-05-31 13:09:21   \n",
       "40523   822145925426128       5753275       0 2016-05-31 13:46:22   \n",
       "8631    822145925426128       5754261       0 2016-05-31 15:50:12   \n",
       "109230  822145925426128       5756865       0 2016-06-01 08:44:35   \n",
       "108797  822145925426128       5759314       0 2016-06-01 12:22:00   \n",
       "108817  822145925426128       5759318       0 2016-06-01 12:22:31   \n",
       "98838   822145925426128       5760271       0 2016-06-01 14:33:56   \n",
       "109113  822145925426128       5761322       0 2016-06-01 17:17:07   \n",
       "103527  822145925426128       5761393       0 2016-06-01 17:42:30   \n",
       "98823   822145925426128       5764370       0 2016-06-02 10:10:28   \n",
       "109023  822145925426128       5769302       0 2016-06-03 08:41:57   \n",
       "98815   822145925426128       5770256       0 2016-06-03 09:58:43   \n",
       "109052  822145925426128       5771222       0 2016-06-03 11:56:59   \n",
       "103512  822145925426128       5772774       0 2016-06-03 16:15:05   \n",
       "107115  822145925426128       5774798       0 2016-06-06 08:41:51   \n",
       "109069  822145925426128       5776942       0 2016-06-06 12:26:39   \n",
       "98847   822145925426128       5777041       0 2016-06-06 12:49:24   \n",
       "100367  822145925426128       5778961       0 2016-06-06 17:13:24   \n",
       "108843  822145925426128       5786560       0 2016-06-08 08:35:00   \n",
       "108821  822145925426128       5788247       0 2016-06-08 11:40:27   \n",
       "108805  822145925426128       5788304       0 2016-06-08 11:46:49   \n",
       "98832   822145925426128       5789400       0 2016-06-08 14:56:42   \n",
       "109102  822145925426128       5790220       0 2016-06-08 17:18:03   \n",
       "\n",
       "       AppointmentDay  Age Neighborhood  BolsaFamilia  Hypertension  Diabetes  \\\n",
       "3006       2016-04-29   38     REDENÇÃO             0             0         0   \n",
       "3093       2016-04-29   38     REDENÇÃO             0             0         0   \n",
       "3060       2016-04-29   38     REDENÇÃO             0             0         0   \n",
       "8707       2016-05-02   38     REDENÇÃO             0             0         0   \n",
       "25428      2016-05-02   38     REDENÇÃO             0             0         0   \n",
       "35675      2016-05-02   38     REDENÇÃO             0             0         0   \n",
       "7685       2016-05-03   38     REDENÇÃO             0             0         0   \n",
       "8831       2016-05-04   38     REDENÇÃO             0             0         0   \n",
       "8450       2016-05-04   38     REDENÇÃO             0             0         0   \n",
       "8465       2016-05-04   38     REDENÇÃO             0             0         0   \n",
       "25412      2016-05-04   38     REDENÇÃO             0             0         0   \n",
       "25421      2016-05-04   38     REDENÇÃO             0             0         0   \n",
       "8657       2016-05-05   38     REDENÇÃO             0             0         0   \n",
       "8869       2016-05-06   38     REDENÇÃO             0             0         0   \n",
       "6985       2016-05-06   38     REDENÇÃO             0             0         0   \n",
       "35723      2016-05-06   38     REDENÇÃO             0             0         0   \n",
       "9290       2016-05-10   38     REDENÇÃO             0             0         0   \n",
       "8691       2016-05-09   38     REDENÇÃO             0             0         0   \n",
       "35665      2016-05-09   38     REDENÇÃO             0             0         0   \n",
       "25475      2016-05-09   38     REDENÇÃO             0             0         0   \n",
       "8761       2016-05-10   38     REDENÇÃO             0             0         0   \n",
       "7198       2016-05-13   38     REDENÇÃO             0             0         0   \n",
       "8644       2016-05-10   38     REDENÇÃO             0             0         0   \n",
       "8451       2016-05-11   38     REDENÇÃO             0             0         0   \n",
       "8467       2016-05-11   38     REDENÇÃO             0             0         0   \n",
       "8650       2016-05-12   38     REDENÇÃO             0             0         0   \n",
       "7290       2016-05-12   38     REDENÇÃO             0             0         0   \n",
       "7726       2016-05-12   38     REDENÇÃO             0             0         0   \n",
       "8850       2016-05-13   38     REDENÇÃO             0             0         0   \n",
       "31572      2016-05-13   38     REDENÇÃO             0             0         0   \n",
       "...               ...  ...          ...           ...           ...       ...   \n",
       "8502       2016-05-25   38     REDENÇÃO             0             0         0   \n",
       "25425      2016-05-25   38     REDENÇÃO             0             0         0   \n",
       "7437       2016-05-25   38     REDENÇÃO             0             0         0   \n",
       "8666       2016-05-30   38     REDENÇÃO             0             0         0   \n",
       "7587       2016-05-30   38     REDENÇÃO             0             0         0   \n",
       "40518      2016-05-30   38     REDENÇÃO             0             0         0   \n",
       "25427      2016-05-30   38     REDENÇÃO             0             0         0   \n",
       "8798       2016-05-31   38     REDENÇÃO             0             0         0   \n",
       "40523      2016-05-31   38     REDENÇÃO             0             0         0   \n",
       "8631       2016-05-31   38     REDENÇÃO             0             0         0   \n",
       "109230     2016-06-01   38     REDENÇÃO             0             0         0   \n",
       "108797     2016-06-01   38     REDENÇÃO             0             0         0   \n",
       "108817     2016-06-01   38     REDENÇÃO             0             0         0   \n",
       "98838      2016-06-01   38     REDENÇÃO             0             0         0   \n",
       "109113     2016-06-01   38     REDENÇÃO             0             0         0   \n",
       "103527     2016-06-01   38     REDENÇÃO             0             0         0   \n",
       "98823      2016-06-02   38     REDENÇÃO             0             0         0   \n",
       "109023     2016-06-03   38     REDENÇÃO             0             0         0   \n",
       "98815      2016-06-03   38     REDENÇÃO             0             0         0   \n",
       "109052     2016-06-03   38     REDENÇÃO             0             0         0   \n",
       "103512     2016-06-03   38     REDENÇÃO             0             0         0   \n",
       "107115     2016-06-06   38     REDENÇÃO             0             0         0   \n",
       "109069     2016-06-06   38     REDENÇÃO             0             0         0   \n",
       "98847      2016-06-06   38     REDENÇÃO             0             0         0   \n",
       "100367     2016-06-06   38     REDENÇÃO             0             0         0   \n",
       "108843     2016-06-08   38     REDENÇÃO             0             0         0   \n",
       "108821     2016-06-08   38     REDENÇÃO             0             0         0   \n",
       "108805     2016-06-08   38     REDENÇÃO             0             0         0   \n",
       "98832      2016-06-08   38     REDENÇÃO             0             0         0   \n",
       "109102     2016-06-08   38     REDENÇÃO             0             0         0   \n",
       "\n",
       "         ...     wind_high  wind_avg  precip_in  rain thunderstorm  fog  \\\n",
       "3006     ...            16        11       0.01     0            0    0   \n",
       "3093     ...            16        11       0.01     0            0    0   \n",
       "3060     ...            16        11       0.01     0            0    0   \n",
       "8707     ...            17        11       0.00     0            0    0   \n",
       "25428    ...            17        11       0.00     0            0    0   \n",
       "35675    ...            17        11       0.00     0            0    0   \n",
       "7685     ...            17         5       0.00     0            0    0   \n",
       "8831     ...            15         5       0.00     0            0    0   \n",
       "8450     ...            15         5       0.00     0            0    0   \n",
       "8465     ...            15         5       0.00     0            0    0   \n",
       "25412    ...            15         5       0.00     0            0    0   \n",
       "25421    ...            15         5       0.00     0            0    0   \n",
       "8657     ...            17         7       0.00     0            0    0   \n",
       "8869     ...            14         5       0.00     0            0    0   \n",
       "6985     ...            14         5       0.00     0            0    0   \n",
       "35723    ...            14         5       0.00     0            0    0   \n",
       "9290     ...            23         9       0.00     0            0    0   \n",
       "8691     ...            14         6       0.00     0            0    0   \n",
       "35665    ...            14         6       0.00     0            0    0   \n",
       "25475    ...            14         6       0.00     0            0    0   \n",
       "8761     ...            23         9       0.00     0            0    0   \n",
       "7198     ...            17        10       0.00     0            0    0   \n",
       "8644     ...            23         9       0.00     0            0    0   \n",
       "8451     ...            16         9       0.00     0            0    0   \n",
       "8467     ...            16         9       0.00     0            0    0   \n",
       "8650     ...            20         6       0.47     1            1    0   \n",
       "7290     ...            20         6       0.47     1            1    0   \n",
       "7726     ...            20         6       0.47     1            1    0   \n",
       "8850     ...            17        10       0.00     0            0    0   \n",
       "31572    ...            17        10       0.00     0            0    0   \n",
       "...      ...           ...       ...        ...   ...          ...  ...   \n",
       "8502     ...            16        12       0.00     0            0    0   \n",
       "25425    ...            16        12       0.00     0            0    0   \n",
       "7437     ...            16        12       0.00     0            0    0   \n",
       "8666     ...            16         5       0.00     0            0    0   \n",
       "7587     ...            16         5       0.00     0            0    0   \n",
       "40518    ...            16         5       0.00     0            0    0   \n",
       "25427    ...            16         5       0.00     0            0    0   \n",
       "8798     ...            15         5       0.00     0            0    1   \n",
       "40523    ...            15         5       0.00     0            0    1   \n",
       "8631     ...            15         5       0.00     0            0    1   \n",
       "109230   ...            13         4       0.01     0            1    0   \n",
       "108797   ...            13         4       0.01     0            1    0   \n",
       "108817   ...            13         4       0.01     0            1    0   \n",
       "98838    ...            13         4       0.01     0            1    0   \n",
       "109113   ...            13         4       0.01     0            1    0   \n",
       "103527   ...            13         4       0.01     0            1    0   \n",
       "98823    ...            10         5       0.00     0            0    0   \n",
       "109023   ...            13         6       0.00     0            0    0   \n",
       "98815    ...            13         6       0.00     0            0    0   \n",
       "109052   ...            13         6       0.00     0            0    0   \n",
       "103512   ...            13         6       0.00     0            0    0   \n",
       "107115   ...            20         8       0.00     0            0    0   \n",
       "109069   ...            20         8       0.00     0            0    0   \n",
       "98847    ...            20         8       0.00     0            0    0   \n",
       "100367   ...            20         8       0.00     0            0    0   \n",
       "108843   ...            16         9       0.04     1            0    0   \n",
       "108821   ...            16         9       0.04     1            0    0   \n",
       "108805   ...            16         9       0.04     1            0    0   \n",
       "98832    ...            16         9       0.04     1            0    0   \n",
       "109102   ...            16         9       0.04     1            0    0   \n",
       "\n",
       "       DayDiff  DayDiffBin  DayOfWeek  Weekend  \n",
       "3006         0           0          4        0  \n",
       "3093         0           0          4        0  \n",
       "3060         0           0          4        0  \n",
       "8707         0           0          0        0  \n",
       "25428        0           0          0        0  \n",
       "35675        0           0          0        0  \n",
       "7685         0           0          1        0  \n",
       "8831         0           0          2        0  \n",
       "8450         0           0          2        0  \n",
       "8465         0           0          2        0  \n",
       "25412        0           0          2        0  \n",
       "25421        0           0          2        0  \n",
       "8657         0           0          3        0  \n",
       "8869         0           0          4        0  \n",
       "6985         0           0          4        0  \n",
       "35723        0           0          4        0  \n",
       "9290         4         3-5          1        0  \n",
       "8691         0           0          0        0  \n",
       "35665        0           0          0        0  \n",
       "25475        0           0          0        0  \n",
       "8761         0           0          1        0  \n",
       "7198         3         3-5          4        0  \n",
       "8644         0           0          1        0  \n",
       "8451         0           0          2        0  \n",
       "8467         0           0          2        0  \n",
       "8650         0           0          3        0  \n",
       "7290         0           0          3        0  \n",
       "7726         0           0          3        0  \n",
       "8850         0           0          4        0  \n",
       "31572        0           0          4        0  \n",
       "...        ...         ...        ...      ...  \n",
       "8502         0           0          2        0  \n",
       "25425        0           0          2        0  \n",
       "7437         0           0          2        0  \n",
       "8666         0           0          0        0  \n",
       "7587         0           0          0        0  \n",
       "40518        0           0          0        0  \n",
       "25427        0           0          0        0  \n",
       "8798         0           0          1        0  \n",
       "40523        0           0          1        0  \n",
       "8631         0           0          1        0  \n",
       "109230       0           0          2        0  \n",
       "108797       0           0          2        0  \n",
       "108817       0           0          2        0  \n",
       "98838        0           0          2        0  \n",
       "109113       0           0          2        0  \n",
       "103527       0           0          2        0  \n",
       "98823        0           0          3        0  \n",
       "109023       0           0          4        0  \n",
       "98815        0           0          4        0  \n",
       "109052       0           0          4        0  \n",
       "103512       0           0          4        0  \n",
       "107115       0           0          0        0  \n",
       "109069       0           0          0        0  \n",
       "98847        0           0          0        0  \n",
       "100367       0           0          0        0  \n",
       "108843       0           0          2        0  \n",
       "108821       0           0          2        0  \n",
       "108805       0           0          2        0  \n",
       "98832        0           0          2        0  \n",
       "109102       0           0          2        0  \n",
       "\n",
       "[88 rows x 36 columns]"
      ]
     },
     "execution_count": 59,
     "metadata": {},
     "output_type": "execute_result"
    }
   ],
   "source": [
    "# Inspect the patient with 88 appointments\n",
    "most_appts = ow[ow['PatientID'] == '822145925426128'].sort_values(by = 'ScheduledDay')\n",
    "most_appts"
   ]
  },
  {
   "cell_type": "code",
   "execution_count": 60,
   "metadata": {},
   "outputs": [
    {
     "data": {
      "text/plain": [
       "1"
      ]
     },
     "execution_count": 60,
     "metadata": {},
     "output_type": "execute_result"
    }
   ],
   "source": [
    "most_appts['NoShow'].sum()"
   ]
  },
  {
   "cell_type": "markdown",
   "metadata": {},
   "source": [
    "> From analyzing this and other patients' appointments, I found that many appointments were made for a certain day, and then later another appointment was made for that same day.  We can see above that the patient made an appointment for April 29, three different times.  For the patient above, they made the appointments within farily quick succession of each other.  However other patients, as shown below, seemed to make appointments in advance and then as the appointment got closer rescheduled it."
   ]
  },
  {
   "cell_type": "code",
   "execution_count": 61,
   "metadata": {},
   "outputs": [
    {
     "data": {
      "text/html": [
       "<div>\n",
       "<style scoped>\n",
       "    .dataframe tbody tr th:only-of-type {\n",
       "        vertical-align: middle;\n",
       "    }\n",
       "\n",
       "    .dataframe tbody tr th {\n",
       "        vertical-align: top;\n",
       "    }\n",
       "\n",
       "    .dataframe thead th {\n",
       "        text-align: right;\n",
       "    }\n",
       "</style>\n",
       "<table border=\"1\" class=\"dataframe\">\n",
       "  <thead>\n",
       "    <tr style=\"text-align: right;\">\n",
       "      <th></th>\n",
       "      <th>PatientID</th>\n",
       "      <th>AppointmentID</th>\n",
       "      <th>Gender</th>\n",
       "      <th>ScheduledDay</th>\n",
       "      <th>AppointmentDay</th>\n",
       "      <th>Age</th>\n",
       "      <th>Neighborhood</th>\n",
       "      <th>BolsaFamilia</th>\n",
       "      <th>Hypertension</th>\n",
       "      <th>Diabetes</th>\n",
       "      <th>...</th>\n",
       "      <th>wind_high</th>\n",
       "      <th>wind_avg</th>\n",
       "      <th>precip_in</th>\n",
       "      <th>rain</th>\n",
       "      <th>thunderstorm</th>\n",
       "      <th>fog</th>\n",
       "      <th>DayDiff</th>\n",
       "      <th>DayDiffBin</th>\n",
       "      <th>DayOfWeek</th>\n",
       "      <th>Weekend</th>\n",
       "    </tr>\n",
       "  </thead>\n",
       "  <tbody>\n",
       "    <tr>\n",
       "      <th>51445</th>\n",
       "      <td>99992299798515</td>\n",
       "      <td>5599070</td>\n",
       "      <td>1</td>\n",
       "      <td>2016-04-19 08:25:12</td>\n",
       "      <td>2016-05-02</td>\n",
       "      <td>35</td>\n",
       "      <td>PIEDADE</td>\n",
       "      <td>1</td>\n",
       "      <td>1</td>\n",
       "      <td>0</td>\n",
       "      <td>...</td>\n",
       "      <td>17</td>\n",
       "      <td>11</td>\n",
       "      <td>0.0</td>\n",
       "      <td>0</td>\n",
       "      <td>0</td>\n",
       "      <td>0</td>\n",
       "      <td>13</td>\n",
       "      <td>11-14</td>\n",
       "      <td>0</td>\n",
       "      <td>0</td>\n",
       "    </tr>\n",
       "    <tr>\n",
       "      <th>50445</th>\n",
       "      <td>99992299798515</td>\n",
       "      <td>5648376</td>\n",
       "      <td>1</td>\n",
       "      <td>2016-05-02 15:33:59</td>\n",
       "      <td>2016-05-02</td>\n",
       "      <td>35</td>\n",
       "      <td>PIEDADE</td>\n",
       "      <td>1</td>\n",
       "      <td>1</td>\n",
       "      <td>0</td>\n",
       "      <td>...</td>\n",
       "      <td>17</td>\n",
       "      <td>11</td>\n",
       "      <td>0.0</td>\n",
       "      <td>0</td>\n",
       "      <td>0</td>\n",
       "      <td>0</td>\n",
       "      <td>0</td>\n",
       "      <td>0</td>\n",
       "      <td>0</td>\n",
       "      <td>0</td>\n",
       "    </tr>\n",
       "  </tbody>\n",
       "</table>\n",
       "<p>2 rows × 36 columns</p>\n",
       "</div>"
      ],
      "text/plain": [
       "            PatientID AppointmentID  Gender        ScheduledDay  \\\n",
       "51445  99992299798515       5599070       1 2016-04-19 08:25:12   \n",
       "50445  99992299798515       5648376       1 2016-05-02 15:33:59   \n",
       "\n",
       "      AppointmentDay  Age Neighborhood  BolsaFamilia  Hypertension  Diabetes  \\\n",
       "51445     2016-05-02   35      PIEDADE             1             1         0   \n",
       "50445     2016-05-02   35      PIEDADE             1             1         0   \n",
       "\n",
       "        ...     wind_high  wind_avg  precip_in  rain thunderstorm  fog  \\\n",
       "51445   ...            17        11        0.0     0            0    0   \n",
       "50445   ...            17        11        0.0     0            0    0   \n",
       "\n",
       "      DayDiff  DayDiffBin  DayOfWeek  Weekend  \n",
       "51445      13       11-14          0        0  \n",
       "50445       0           0          0        0  \n",
       "\n",
       "[2 rows x 36 columns]"
      ]
     },
     "execution_count": 61,
     "metadata": {},
     "output_type": "execute_result"
    }
   ],
   "source": [
    "ow[ow['PatientID'] == '99992299798515'].sort_values(by = 'ScheduledDay')"
   ]
  },
  {
   "cell_type": "code",
   "execution_count": 62,
   "metadata": {},
   "outputs": [
    {
     "data": {
      "text/html": [
       "<div>\n",
       "<style scoped>\n",
       "    .dataframe tbody tr th:only-of-type {\n",
       "        vertical-align: middle;\n",
       "    }\n",
       "\n",
       "    .dataframe tbody tr th {\n",
       "        vertical-align: top;\n",
       "    }\n",
       "\n",
       "    .dataframe thead th {\n",
       "        text-align: right;\n",
       "    }\n",
       "</style>\n",
       "<table border=\"1\" class=\"dataframe\">\n",
       "  <thead>\n",
       "    <tr style=\"text-align: right;\">\n",
       "      <th></th>\n",
       "      <th>PatientID</th>\n",
       "      <th>AppointmentID</th>\n",
       "      <th>Gender</th>\n",
       "      <th>ScheduledDay</th>\n",
       "      <th>AppointmentDay</th>\n",
       "      <th>Age</th>\n",
       "      <th>Neighborhood</th>\n",
       "      <th>BolsaFamilia</th>\n",
       "      <th>Hypertension</th>\n",
       "      <th>Diabetes</th>\n",
       "      <th>Alcoholism</th>\n",
       "      <th>NumHandicaps</th>\n",
       "      <th>SMSReceived</th>\n",
       "      <th>NoShow</th>\n",
       "    </tr>\n",
       "  </thead>\n",
       "  <tbody>\n",
       "    <tr>\n",
       "      <th>105562</th>\n",
       "      <td>111415561531417</td>\n",
       "      <td>5657853</td>\n",
       "      <td>1</td>\n",
       "      <td>2016-05-04 10:02:43</td>\n",
       "      <td>2016-06-06</td>\n",
       "      <td>45</td>\n",
       "      <td>SANTA MARTHA</td>\n",
       "      <td>0</td>\n",
       "      <td>0</td>\n",
       "      <td>0</td>\n",
       "      <td>0</td>\n",
       "      <td>0</td>\n",
       "      <td>1</td>\n",
       "      <td>1</td>\n",
       "    </tr>\n",
       "    <tr>\n",
       "      <th>18225</th>\n",
       "      <td>111415561531417</td>\n",
       "      <td>5657892</td>\n",
       "      <td>1</td>\n",
       "      <td>2016-05-04 10:06:30</td>\n",
       "      <td>2016-05-13</td>\n",
       "      <td>45</td>\n",
       "      <td>SANTA MARTHA</td>\n",
       "      <td>0</td>\n",
       "      <td>0</td>\n",
       "      <td>0</td>\n",
       "      <td>0</td>\n",
       "      <td>0</td>\n",
       "      <td>0</td>\n",
       "      <td>0</td>\n",
       "    </tr>\n",
       "    <tr>\n",
       "      <th>103283</th>\n",
       "      <td>111415561531417</td>\n",
       "      <td>5721379</td>\n",
       "      <td>1</td>\n",
       "      <td>2016-05-19 16:13:52</td>\n",
       "      <td>2016-06-06</td>\n",
       "      <td>45</td>\n",
       "      <td>SANTA MARTHA</td>\n",
       "      <td>0</td>\n",
       "      <td>0</td>\n",
       "      <td>0</td>\n",
       "      <td>0</td>\n",
       "      <td>0</td>\n",
       "      <td>0</td>\n",
       "      <td>1</td>\n",
       "    </tr>\n",
       "    <tr>\n",
       "      <th>105716</th>\n",
       "      <td>111415561531417</td>\n",
       "      <td>5747599</td>\n",
       "      <td>1</td>\n",
       "      <td>2016-05-30 15:55:49</td>\n",
       "      <td>2016-06-03</td>\n",
       "      <td>45</td>\n",
       "      <td>SANTA MARTHA</td>\n",
       "      <td>0</td>\n",
       "      <td>0</td>\n",
       "      <td>0</td>\n",
       "      <td>0</td>\n",
       "      <td>0</td>\n",
       "      <td>1</td>\n",
       "      <td>0</td>\n",
       "    </tr>\n",
       "  </tbody>\n",
       "</table>\n",
       "</div>"
      ],
      "text/plain": [
       "              PatientID AppointmentID  Gender        ScheduledDay  \\\n",
       "105562  111415561531417       5657853       1 2016-05-04 10:02:43   \n",
       "18225   111415561531417       5657892       1 2016-05-04 10:06:30   \n",
       "103283  111415561531417       5721379       1 2016-05-19 16:13:52   \n",
       "105716  111415561531417       5747599       1 2016-05-30 15:55:49   \n",
       "\n",
       "       AppointmentDay  Age  Neighborhood  BolsaFamilia  Hypertension  \\\n",
       "105562     2016-06-06   45  SANTA MARTHA             0             0   \n",
       "18225      2016-05-13   45  SANTA MARTHA             0             0   \n",
       "103283     2016-06-06   45  SANTA MARTHA             0             0   \n",
       "105716     2016-06-03   45  SANTA MARTHA             0             0   \n",
       "\n",
       "        Diabetes  Alcoholism  NumHandicaps  SMSReceived  NoShow  \n",
       "105562         0           0             0            1       1  \n",
       "18225          0           0             0            0       0  \n",
       "103283         0           0             0            0       1  \n",
       "105716         0           0             0            1       0  "
      ]
     },
     "execution_count": 62,
     "metadata": {},
     "output_type": "execute_result"
    }
   ],
   "source": [
    "ow[ow['PatientID'] == '111415561531417'].sort_values(by = 'ScheduledDay').iloc[:, :14]"
   ]
  },
  {
   "cell_type": "markdown",
   "metadata": {},
   "source": [
    "In the case above, the patient made an appointment for June 6, and on the same day makes an appoitment for May 13.  Then 15 days later makes another appointment for/reschedules the June 6 appointment.  Finally they make another appointment for three days before their scheduled appointment.  I would guess that they rescheduled their appointment for an earlier day, so it may be illogical to term their non-attendance as a \"no show.\"  Unfortunately this is just a hypothesis, and since there is neither extra data, nor an explanation for the multiple appointments, this cannot be confirmed.  If more information later became available this aspect of the data could possibly be addressed.\n",
    "\n",
    "To address the issue of multiple appointments made for the same day, I made the decision to only keep the last appointment made on the same day as an already made appointment.  Although records were removed, this data was preserved in the extra fields of the number of times the appointment for that day was scheduled and the time difference between the first and last scheduling."
   ]
  },
  {
   "cell_type": "code",
   "execution_count": 63,
   "metadata": {
    "scrolled": true
   },
   "outputs": [
    {
     "data": {
      "text/html": [
       "<div>\n",
       "<style scoped>\n",
       "    .dataframe tbody tr th:only-of-type {\n",
       "        vertical-align: middle;\n",
       "    }\n",
       "\n",
       "    .dataframe tbody tr th {\n",
       "        vertical-align: top;\n",
       "    }\n",
       "\n",
       "    .dataframe thead th {\n",
       "        text-align: right;\n",
       "    }\n",
       "</style>\n",
       "<table border=\"1\" class=\"dataframe\">\n",
       "  <thead>\n",
       "    <tr style=\"text-align: right;\">\n",
       "      <th></th>\n",
       "      <th>PatientID</th>\n",
       "      <th>AppointmentID</th>\n",
       "      <th>Gender</th>\n",
       "      <th>ScheduledDay</th>\n",
       "      <th>AppointmentDay</th>\n",
       "      <th>Age</th>\n",
       "      <th>Neighborhood</th>\n",
       "      <th>BolsaFamilia</th>\n",
       "      <th>Hypertension</th>\n",
       "      <th>Diabetes</th>\n",
       "      <th>...</th>\n",
       "      <th>wind_high</th>\n",
       "      <th>wind_avg</th>\n",
       "      <th>precip_in</th>\n",
       "      <th>rain</th>\n",
       "      <th>thunderstorm</th>\n",
       "      <th>fog</th>\n",
       "      <th>DayDiff</th>\n",
       "      <th>DayDiffBin</th>\n",
       "      <th>DayOfWeek</th>\n",
       "      <th>Weekend</th>\n",
       "    </tr>\n",
       "  </thead>\n",
       "  <tbody>\n",
       "    <tr>\n",
       "      <th>1</th>\n",
       "      <td>11111462625267</td>\n",
       "      <td>5715720</td>\n",
       "      <td>1</td>\n",
       "      <td>2016-05-18 14:58:29</td>\n",
       "      <td>2016-06-08</td>\n",
       "      <td>65</td>\n",
       "      <td>REPÚBLICA</td>\n",
       "      <td>0</td>\n",
       "      <td>1</td>\n",
       "      <td>0</td>\n",
       "      <td>...</td>\n",
       "      <td>16</td>\n",
       "      <td>9</td>\n",
       "      <td>0.04</td>\n",
       "      <td>1</td>\n",
       "      <td>0</td>\n",
       "      <td>0</td>\n",
       "      <td>21</td>\n",
       "      <td>15-29</td>\n",
       "      <td>2</td>\n",
       "      <td>0</td>\n",
       "    </tr>\n",
       "    <tr>\n",
       "      <th>2</th>\n",
       "      <td>111124532532143</td>\n",
       "      <td>5531224</td>\n",
       "      <td>0</td>\n",
       "      <td>2016-03-31 09:17:26</td>\n",
       "      <td>2016-05-03</td>\n",
       "      <td>9</td>\n",
       "      <td>MARIA ORTIZ</td>\n",
       "      <td>0</td>\n",
       "      <td>0</td>\n",
       "      <td>0</td>\n",
       "      <td>...</td>\n",
       "      <td>17</td>\n",
       "      <td>5</td>\n",
       "      <td>0.00</td>\n",
       "      <td>0</td>\n",
       "      <td>0</td>\n",
       "      <td>0</td>\n",
       "      <td>33</td>\n",
       "      <td>30-59</td>\n",
       "      <td>1</td>\n",
       "      <td>0</td>\n",
       "    </tr>\n",
       "    <tr>\n",
       "      <th>3</th>\n",
       "      <td>111124532532143</td>\n",
       "      <td>5624030</td>\n",
       "      <td>0</td>\n",
       "      <td>2016-04-26 15:05:58</td>\n",
       "      <td>2016-06-01</td>\n",
       "      <td>9</td>\n",
       "      <td>MARIA ORTIZ</td>\n",
       "      <td>0</td>\n",
       "      <td>0</td>\n",
       "      <td>0</td>\n",
       "      <td>...</td>\n",
       "      <td>13</td>\n",
       "      <td>4</td>\n",
       "      <td>0.01</td>\n",
       "      <td>0</td>\n",
       "      <td>1</td>\n",
       "      <td>0</td>\n",
       "      <td>36</td>\n",
       "      <td>30-59</td>\n",
       "      <td>2</td>\n",
       "      <td>0</td>\n",
       "    </tr>\n",
       "    <tr>\n",
       "      <th>4</th>\n",
       "      <td>11114485119737</td>\n",
       "      <td>5621757</td>\n",
       "      <td>1</td>\n",
       "      <td>2016-04-26 10:46:38</td>\n",
       "      <td>2016-05-25</td>\n",
       "      <td>12</td>\n",
       "      <td>MARIA ORTIZ</td>\n",
       "      <td>0</td>\n",
       "      <td>0</td>\n",
       "      <td>0</td>\n",
       "      <td>...</td>\n",
       "      <td>16</td>\n",
       "      <td>12</td>\n",
       "      <td>0.00</td>\n",
       "      <td>0</td>\n",
       "      <td>0</td>\n",
       "      <td>0</td>\n",
       "      <td>29</td>\n",
       "      <td>15-29</td>\n",
       "      <td>2</td>\n",
       "      <td>0</td>\n",
       "    </tr>\n",
       "    <tr>\n",
       "      <th>5</th>\n",
       "      <td>11116239871275</td>\n",
       "      <td>5625265</td>\n",
       "      <td>1</td>\n",
       "      <td>2016-04-27 07:05:38</td>\n",
       "      <td>2016-04-29</td>\n",
       "      <td>13</td>\n",
       "      <td>SÃO PEDRO</td>\n",
       "      <td>0</td>\n",
       "      <td>0</td>\n",
       "      <td>0</td>\n",
       "      <td>...</td>\n",
       "      <td>16</td>\n",
       "      <td>11</td>\n",
       "      <td>0.01</td>\n",
       "      <td>0</td>\n",
       "      <td>0</td>\n",
       "      <td>0</td>\n",
       "      <td>2</td>\n",
       "      <td>2</td>\n",
       "      <td>4</td>\n",
       "      <td>0</td>\n",
       "    </tr>\n",
       "  </tbody>\n",
       "</table>\n",
       "<p>5 rows × 36 columns</p>\n",
       "</div>"
      ],
      "text/plain": [
       "         PatientID AppointmentID  Gender        ScheduledDay AppointmentDay  \\\n",
       "1   11111462625267       5715720       1 2016-05-18 14:58:29     2016-06-08   \n",
       "2  111124532532143       5531224       0 2016-03-31 09:17:26     2016-05-03   \n",
       "3  111124532532143       5624030       0 2016-04-26 15:05:58     2016-06-01   \n",
       "4   11114485119737       5621757       1 2016-04-26 10:46:38     2016-05-25   \n",
       "5   11116239871275       5625265       1 2016-04-27 07:05:38     2016-04-29   \n",
       "\n",
       "   Age Neighborhood  BolsaFamilia  Hypertension  Diabetes   ...     wind_high  \\\n",
       "1   65    REPÚBLICA             0             1         0   ...            16   \n",
       "2    9  MARIA ORTIZ             0             0         0   ...            17   \n",
       "3    9  MARIA ORTIZ             0             0         0   ...            13   \n",
       "4   12  MARIA ORTIZ             0             0         0   ...            16   \n",
       "5   13    SÃO PEDRO             0             0         0   ...            16   \n",
       "\n",
       "   wind_avg  precip_in  rain thunderstorm  fog DayDiff  DayDiffBin  DayOfWeek  \\\n",
       "1         9       0.04     1            0    0      21       15-29          2   \n",
       "2         5       0.00     0            0    0      33       30-59          1   \n",
       "3         4       0.01     0            1    0      36       30-59          2   \n",
       "4        12       0.00     0            0    0      29       15-29          2   \n",
       "5        11       0.01     0            0    0       2           2          4   \n",
       "\n",
       "   Weekend  \n",
       "1        0  \n",
       "2        0  \n",
       "3        0  \n",
       "4        0  \n",
       "5        0  \n",
       "\n",
       "[5 rows x 36 columns]"
      ]
     },
     "execution_count": 63,
     "metadata": {},
     "output_type": "execute_result"
    }
   ],
   "source": [
    "# Sort the dataframe and update the index, so that the records are in\n",
    "# order of when they were made\n",
    "ow = ow.sort_values(by = ['PatientID', 'ScheduledDay', 'AppointmentDay'])\n",
    "ow.index = range(1,len(ow) + 1)\n",
    "ow.head()"
   ]
  },
  {
   "cell_type": "code",
   "execution_count": 64,
   "metadata": {},
   "outputs": [
    {
     "data": {
      "text/html": [
       "<div>\n",
       "<style scoped>\n",
       "    .dataframe tbody tr th:only-of-type {\n",
       "        vertical-align: middle;\n",
       "    }\n",
       "\n",
       "    .dataframe tbody tr th {\n",
       "        vertical-align: top;\n",
       "    }\n",
       "\n",
       "    .dataframe thead th {\n",
       "        text-align: right;\n",
       "    }\n",
       "</style>\n",
       "<table border=\"1\" class=\"dataframe\">\n",
       "  <thead>\n",
       "    <tr style=\"text-align: right;\">\n",
       "      <th></th>\n",
       "      <th>PatientID</th>\n",
       "      <th>AppointmentDay</th>\n",
       "      <th>AppointmentIDList</th>\n",
       "    </tr>\n",
       "  </thead>\n",
       "  <tbody>\n",
       "    <tr>\n",
       "      <th>0</th>\n",
       "      <td>11111462625267</td>\n",
       "      <td>2016-06-08</td>\n",
       "      <td>(5715720,)</td>\n",
       "    </tr>\n",
       "    <tr>\n",
       "      <th>1</th>\n",
       "      <td>111124532532143</td>\n",
       "      <td>2016-05-03</td>\n",
       "      <td>(5531224,)</td>\n",
       "    </tr>\n",
       "    <tr>\n",
       "      <th>2</th>\n",
       "      <td>111124532532143</td>\n",
       "      <td>2016-06-01</td>\n",
       "      <td>(5624030,)</td>\n",
       "    </tr>\n",
       "    <tr>\n",
       "      <th>3</th>\n",
       "      <td>11114485119737</td>\n",
       "      <td>2016-05-25</td>\n",
       "      <td>(5621757,)</td>\n",
       "    </tr>\n",
       "    <tr>\n",
       "      <th>4</th>\n",
       "      <td>11116239871275</td>\n",
       "      <td>2016-04-29</td>\n",
       "      <td>(5625265,)</td>\n",
       "    </tr>\n",
       "  </tbody>\n",
       "</table>\n",
       "</div>"
      ],
      "text/plain": [
       "         PatientID AppointmentDay AppointmentIDList\n",
       "0   11111462625267     2016-06-08        (5715720,)\n",
       "1  111124532532143     2016-05-03        (5531224,)\n",
       "2  111124532532143     2016-06-01        (5624030,)\n",
       "3   11114485119737     2016-05-25        (5621757,)\n",
       "4   11116239871275     2016-04-29        (5625265,)"
      ]
     },
     "execution_count": 64,
     "metadata": {},
     "output_type": "execute_result"
    }
   ],
   "source": [
    "# Aggregate data by PatientID and AppointmentDay, and assemble all the AppointmentIDs associated\n",
    "# with them into a tuple\n",
    "df_appt_id_list = ow.groupby(['PatientID', 'AppointmentDay'], as_index=False)['AppointmentID']. \\\n",
    "                apply(tuple).reset_index()\n",
    "df_appt_id_list.columns = ['PatientID', 'AppointmentDay', 'AppointmentIDList']\n",
    "df_appt_id_list.head()"
   ]
  },
  {
   "cell_type": "code",
   "execution_count": 65,
   "metadata": {},
   "outputs": [
    {
     "data": {
      "text/html": [
       "<div>\n",
       "<style scoped>\n",
       "    .dataframe tbody tr th:only-of-type {\n",
       "        vertical-align: middle;\n",
       "    }\n",
       "\n",
       "    .dataframe tbody tr th {\n",
       "        vertical-align: top;\n",
       "    }\n",
       "\n",
       "    .dataframe thead th {\n",
       "        text-align: right;\n",
       "    }\n",
       "</style>\n",
       "<table border=\"1\" class=\"dataframe\">\n",
       "  <thead>\n",
       "    <tr style=\"text-align: right;\">\n",
       "      <th></th>\n",
       "      <th>PatientID</th>\n",
       "      <th>AppointmentDay</th>\n",
       "      <th>AppointmentIDList</th>\n",
       "      <th>LastAppt</th>\n",
       "      <th>NumTimesScheduled</th>\n",
       "    </tr>\n",
       "  </thead>\n",
       "  <tbody>\n",
       "    <tr>\n",
       "      <th>25</th>\n",
       "      <td>11137679822</td>\n",
       "      <td>2016-06-07</td>\n",
       "      <td>(5782983,)</td>\n",
       "      <td>5782983</td>\n",
       "      <td>1</td>\n",
       "    </tr>\n",
       "    <tr>\n",
       "      <th>26</th>\n",
       "      <td>111415561531417</td>\n",
       "      <td>2016-05-13</td>\n",
       "      <td>(5657892,)</td>\n",
       "      <td>5657892</td>\n",
       "      <td>1</td>\n",
       "    </tr>\n",
       "    <tr>\n",
       "      <th>27</th>\n",
       "      <td>111415561531417</td>\n",
       "      <td>2016-06-03</td>\n",
       "      <td>(5747599,)</td>\n",
       "      <td>5747599</td>\n",
       "      <td>1</td>\n",
       "    </tr>\n",
       "    <tr>\n",
       "      <th>28</th>\n",
       "      <td>111415561531417</td>\n",
       "      <td>2016-06-06</td>\n",
       "      <td>(5657853, 5721379)</td>\n",
       "      <td>5721379</td>\n",
       "      <td>2</td>\n",
       "    </tr>\n",
       "    <tr>\n",
       "      <th>29</th>\n",
       "      <td>1114298941257</td>\n",
       "      <td>2016-05-24</td>\n",
       "      <td>(5729946,)</td>\n",
       "      <td>5729946</td>\n",
       "      <td>1</td>\n",
       "    </tr>\n",
       "  </tbody>\n",
       "</table>\n",
       "</div>"
      ],
      "text/plain": [
       "          PatientID AppointmentDay   AppointmentIDList LastAppt  \\\n",
       "25      11137679822     2016-06-07          (5782983,)  5782983   \n",
       "26  111415561531417     2016-05-13          (5657892,)  5657892   \n",
       "27  111415561531417     2016-06-03          (5747599,)  5747599   \n",
       "28  111415561531417     2016-06-06  (5657853, 5721379)  5721379   \n",
       "29    1114298941257     2016-05-24          (5729946,)  5729946   \n",
       "\n",
       "    NumTimesScheduled  \n",
       "25                  1  \n",
       "26                  1  \n",
       "27                  1  \n",
       "28                  2  \n",
       "29                  1  "
      ]
     },
     "execution_count": 65,
     "metadata": {},
     "output_type": "execute_result"
    }
   ],
   "source": [
    "# Create field for the last appointment created for that date\n",
    "df_appt_id_list['LastAppt'] = df_appt_id_list['AppointmentIDList'].apply(lambda x: x[len(x) - 1])\n",
    "\n",
    "# Create field for the number of times that appointment was scheduled\n",
    "df_appt_id_list['NumTimesScheduled'] = df_appt_id_list['AppointmentIDList'].apply(len)\n",
    "\n",
    "df_appt_id_list.iloc[25:30]"
   ]
  },
  {
   "cell_type": "code",
   "execution_count": 66,
   "metadata": {},
   "outputs": [],
   "source": [
    "# Create function for looking up the time difference between\n",
    "# the ScheduledDay for the appointments that have more than one ID\n",
    "# else the difference is 0\n",
    "def get_days_bw_scheduling(x, df):\n",
    "    if len(x) == 1:\n",
    "        return 0\n",
    "    else:\n",
    "        first_sch = df.loc[df['AppointmentID'] == x[0], 'ScheduledDay'].iloc[0] # first scheduling\n",
    "        last_sch = df.loc[df['AppointmentID'] == x[len(x) - 1], 'ScheduledDay'].iloc[0] # last scheduling\n",
    "        days = (last_sch - first_sch)/np.timedelta64(1, 'D')\n",
    "        return days # return days difference as float"
   ]
  },
  {
   "cell_type": "code",
   "execution_count": 67,
   "metadata": {},
   "outputs": [],
   "source": [
    "df_appt_id_list['DaysBWScheduling'] = df_appt_id_list['AppointmentIDList'].apply(lambda x: get_days_bw_scheduling(x, ow))"
   ]
  },
  {
   "cell_type": "code",
   "execution_count": 68,
   "metadata": {
    "scrolled": true
   },
   "outputs": [
    {
     "data": {
      "text/html": [
       "<div>\n",
       "<style scoped>\n",
       "    .dataframe tbody tr th:only-of-type {\n",
       "        vertical-align: middle;\n",
       "    }\n",
       "\n",
       "    .dataframe tbody tr th {\n",
       "        vertical-align: top;\n",
       "    }\n",
       "\n",
       "    .dataframe thead th {\n",
       "        text-align: right;\n",
       "    }\n",
       "</style>\n",
       "<table border=\"1\" class=\"dataframe\">\n",
       "  <thead>\n",
       "    <tr style=\"text-align: right;\">\n",
       "      <th></th>\n",
       "      <th>PatientID</th>\n",
       "      <th>AppointmentID</th>\n",
       "      <th>Gender</th>\n",
       "      <th>ScheduledDay</th>\n",
       "      <th>AppointmentDay</th>\n",
       "      <th>Age</th>\n",
       "      <th>Neighborhood</th>\n",
       "      <th>BolsaFamilia</th>\n",
       "      <th>Hypertension</th>\n",
       "      <th>Diabetes</th>\n",
       "      <th>...</th>\n",
       "      <th>precip_in</th>\n",
       "      <th>rain</th>\n",
       "      <th>thunderstorm</th>\n",
       "      <th>fog</th>\n",
       "      <th>DayDiff</th>\n",
       "      <th>DayDiffBin</th>\n",
       "      <th>DayOfWeek</th>\n",
       "      <th>Weekend</th>\n",
       "      <th>NumTimesScheduled</th>\n",
       "      <th>DaysBWScheduling</th>\n",
       "    </tr>\n",
       "  </thead>\n",
       "  <tbody>\n",
       "    <tr>\n",
       "      <th>25</th>\n",
       "      <td>11137679822</td>\n",
       "      <td>5782983</td>\n",
       "      <td>1</td>\n",
       "      <td>2016-06-07 12:58:52</td>\n",
       "      <td>2016-06-07</td>\n",
       "      <td>77</td>\n",
       "      <td>SÃO PEDRO</td>\n",
       "      <td>0</td>\n",
       "      <td>1</td>\n",
       "      <td>1</td>\n",
       "      <td>...</td>\n",
       "      <td>0.0</td>\n",
       "      <td>0</td>\n",
       "      <td>0</td>\n",
       "      <td>0</td>\n",
       "      <td>0</td>\n",
       "      <td>0</td>\n",
       "      <td>1</td>\n",
       "      <td>0</td>\n",
       "      <td>1</td>\n",
       "      <td>0.000000</td>\n",
       "    </tr>\n",
       "    <tr>\n",
       "      <th>26</th>\n",
       "      <td>111415561531417</td>\n",
       "      <td>5657892</td>\n",
       "      <td>1</td>\n",
       "      <td>2016-05-04 10:06:30</td>\n",
       "      <td>2016-05-13</td>\n",
       "      <td>45</td>\n",
       "      <td>SANTA MARTHA</td>\n",
       "      <td>0</td>\n",
       "      <td>0</td>\n",
       "      <td>0</td>\n",
       "      <td>...</td>\n",
       "      <td>0.0</td>\n",
       "      <td>0</td>\n",
       "      <td>0</td>\n",
       "      <td>0</td>\n",
       "      <td>9</td>\n",
       "      <td>6-10</td>\n",
       "      <td>4</td>\n",
       "      <td>0</td>\n",
       "      <td>1</td>\n",
       "      <td>0.000000</td>\n",
       "    </tr>\n",
       "    <tr>\n",
       "      <th>27</th>\n",
       "      <td>111415561531417</td>\n",
       "      <td>5721379</td>\n",
       "      <td>1</td>\n",
       "      <td>2016-05-19 16:13:52</td>\n",
       "      <td>2016-06-06</td>\n",
       "      <td>45</td>\n",
       "      <td>SANTA MARTHA</td>\n",
       "      <td>0</td>\n",
       "      <td>0</td>\n",
       "      <td>0</td>\n",
       "      <td>...</td>\n",
       "      <td>0.0</td>\n",
       "      <td>0</td>\n",
       "      <td>0</td>\n",
       "      <td>0</td>\n",
       "      <td>18</td>\n",
       "      <td>15-29</td>\n",
       "      <td>0</td>\n",
       "      <td>0</td>\n",
       "      <td>2</td>\n",
       "      <td>15.257743</td>\n",
       "    </tr>\n",
       "    <tr>\n",
       "      <th>28</th>\n",
       "      <td>111415561531417</td>\n",
       "      <td>5747599</td>\n",
       "      <td>1</td>\n",
       "      <td>2016-05-30 15:55:49</td>\n",
       "      <td>2016-06-03</td>\n",
       "      <td>45</td>\n",
       "      <td>SANTA MARTHA</td>\n",
       "      <td>0</td>\n",
       "      <td>0</td>\n",
       "      <td>0</td>\n",
       "      <td>...</td>\n",
       "      <td>0.0</td>\n",
       "      <td>0</td>\n",
       "      <td>0</td>\n",
       "      <td>0</td>\n",
       "      <td>4</td>\n",
       "      <td>3-5</td>\n",
       "      <td>4</td>\n",
       "      <td>0</td>\n",
       "      <td>1</td>\n",
       "      <td>0.000000</td>\n",
       "    </tr>\n",
       "    <tr>\n",
       "      <th>29</th>\n",
       "      <td>1114298941257</td>\n",
       "      <td>5729946</td>\n",
       "      <td>0</td>\n",
       "      <td>2016-05-24 07:58:47</td>\n",
       "      <td>2016-05-24</td>\n",
       "      <td>39</td>\n",
       "      <td>ILHA DAS CAIEIRAS</td>\n",
       "      <td>0</td>\n",
       "      <td>0</td>\n",
       "      <td>0</td>\n",
       "      <td>...</td>\n",
       "      <td>0.0</td>\n",
       "      <td>0</td>\n",
       "      <td>0</td>\n",
       "      <td>0</td>\n",
       "      <td>0</td>\n",
       "      <td>0</td>\n",
       "      <td>1</td>\n",
       "      <td>0</td>\n",
       "      <td>1</td>\n",
       "      <td>0.000000</td>\n",
       "    </tr>\n",
       "  </tbody>\n",
       "</table>\n",
       "<p>5 rows × 38 columns</p>\n",
       "</div>"
      ],
      "text/plain": [
       "          PatientID AppointmentID  Gender        ScheduledDay AppointmentDay  \\\n",
       "25      11137679822       5782983       1 2016-06-07 12:58:52     2016-06-07   \n",
       "26  111415561531417       5657892       1 2016-05-04 10:06:30     2016-05-13   \n",
       "27  111415561531417       5721379       1 2016-05-19 16:13:52     2016-06-06   \n",
       "28  111415561531417       5747599       1 2016-05-30 15:55:49     2016-06-03   \n",
       "29    1114298941257       5729946       0 2016-05-24 07:58:47     2016-05-24   \n",
       "\n",
       "    Age       Neighborhood  BolsaFamilia  Hypertension  Diabetes  \\\n",
       "25   77          SÃO PEDRO             0             1         1   \n",
       "26   45       SANTA MARTHA             0             0         0   \n",
       "27   45       SANTA MARTHA             0             0         0   \n",
       "28   45       SANTA MARTHA             0             0         0   \n",
       "29   39  ILHA DAS CAIEIRAS             0             0         0   \n",
       "\n",
       "          ...         precip_in  rain  thunderstorm  fog DayDiff  DayDiffBin  \\\n",
       "25        ...               0.0     0             0    0       0           0   \n",
       "26        ...               0.0     0             0    0       9        6-10   \n",
       "27        ...               0.0     0             0    0      18       15-29   \n",
       "28        ...               0.0     0             0    0       4         3-5   \n",
       "29        ...               0.0     0             0    0       0           0   \n",
       "\n",
       "   DayOfWeek  Weekend  NumTimesScheduled  DaysBWScheduling  \n",
       "25         1        0                  1          0.000000  \n",
       "26         4        0                  1          0.000000  \n",
       "27         0        0                  2         15.257743  \n",
       "28         4        0                  1          0.000000  \n",
       "29         1        0                  1          0.000000  \n",
       "\n",
       "[5 rows x 38 columns]"
      ]
     },
     "execution_count": 68,
     "metadata": {},
     "output_type": "execute_result"
    }
   ],
   "source": [
    "# Merge this data with the original dataframe\n",
    "df = pd.merge(ow, df_appt_id_list, left_on = ['PatientID', 'AppointmentDay', 'AppointmentID'], \n",
    "              right_on = ['PatientID', 'AppointmentDay', 'LastAppt'])\n",
    "\n",
    "# Remove unnecessary and redundant columns\n",
    "df.drop(['AppointmentIDList', 'LastAppt'], axis = 1, inplace = True)\n",
    "df.iloc[25:30]"
   ]
  },
  {
   "cell_type": "code",
   "execution_count": 69,
   "metadata": {
    "scrolled": true
   },
   "outputs": [
    {
     "data": {
      "text/plain": [
       "0        95488\n",
       "<1        3871\n",
       "1          215\n",
       "2          145\n",
       "3-5        390\n",
       "6-10       454\n",
       "11-14      281\n",
       "15-29      571\n",
       "30-59      292\n",
       "60+         96\n",
       "Name: DayBWBin, dtype: int64"
      ]
     },
     "execution_count": 69,
     "metadata": {},
     "output_type": "execute_result"
    }
   ],
   "source": [
    "# Create a field for a binned version of DaysBWScheduling\n",
    "bins = [0, 0.00001, 1, 2, 3, 6, 11, 15, 30, 60, 200]\n",
    "day_bw_labels = ['0', '<1', '1', '2', '3-5', '6-10', '11-14', '15-29', '30-59', '60+']\n",
    "df['DayBWBin'] = pd.cut(df['DaysBWScheduling'], bins, right = False, labels = day_bw_labels)\n",
    "\n",
    "df['DayBWBin'].value_counts().sort_index()"
   ]
  },
  {
   "cell_type": "code",
   "execution_count": 70,
   "metadata": {},
   "outputs": [
    {
     "data": {
      "text/plain": [
       "8718"
      ]
     },
     "execution_count": 70,
     "metadata": {},
     "output_type": "execute_result"
    }
   ],
   "source": [
    "len(ow) - len(df)"
   ]
  },
  {
   "cell_type": "markdown",
   "metadata": {},
   "source": [
    "> Note that 8718 records that represented the extra appointments made all on the same day were removed from the data."
   ]
  },
  {
   "cell_type": "markdown",
   "metadata": {},
   "source": [
    "#### Attendance Record"
   ]
  },
  {
   "cell_type": "code",
   "execution_count": 71,
   "metadata": {},
   "outputs": [],
   "source": [
    "# add a field for Show (the oppposite of NoShow)\n",
    "df['Show'] = np.where(df['NoShow'] == 0, 1, 0) "
   ]
  },
  {
   "cell_type": "code",
   "execution_count": 72,
   "metadata": {},
   "outputs": [],
   "source": [
    "# Gets the counts of number of appointments and number of shows prior to that appointment\n",
    "show_counts = df.groupby(['PatientID'])['Show'].apply(lambda x: x.shift(1).cumsum())\n",
    "appt_counts = df.groupby(['PatientID'])['AppointmentID'].cumcount()\n",
    "\n",
    "df['PriorAttendanceRecord'] = show_counts/appt_counts"
   ]
  },
  {
   "cell_type": "markdown",
   "metadata": {},
   "source": [
    "PriorAttendanceRecord is the proportion of appointments that were attended prior to the current appointment, for each patient.  Since a proportion of 1 (perfect attendance) is the same for a patient that attended one scheduled appointment and a patient that attended ten scheduled appointments in a row, I also included a field for the number of attended appointments in a row."
   ]
  },
  {
   "cell_type": "code",
   "execution_count": 73,
   "metadata": {},
   "outputs": [],
   "source": [
    "# Gets the number of shows in a row for that patient\n",
    "df['ShowsInARow'] = df.groupby((df['PriorAttendanceRecord'] != 1).cumsum()).cumcount()"
   ]
  },
  {
   "cell_type": "code",
   "execution_count": 75,
   "metadata": {},
   "outputs": [
    {
     "data": {
      "text/html": [
       "<div>\n",
       "<style scoped>\n",
       "    .dataframe tbody tr th:only-of-type {\n",
       "        vertical-align: middle;\n",
       "    }\n",
       "\n",
       "    .dataframe tbody tr th {\n",
       "        vertical-align: top;\n",
       "    }\n",
       "\n",
       "    .dataframe thead th {\n",
       "        text-align: right;\n",
       "    }\n",
       "</style>\n",
       "<table border=\"1\" class=\"dataframe\">\n",
       "  <thead>\n",
       "    <tr style=\"text-align: right;\">\n",
       "      <th></th>\n",
       "      <th>PatientID</th>\n",
       "      <th>AppointmentID</th>\n",
       "      <th>ScheduledDay</th>\n",
       "      <th>AppointmentDay</th>\n",
       "      <th>NoShow</th>\n",
       "      <th>Show</th>\n",
       "      <th>PriorAttendanceRecord</th>\n",
       "      <th>ShowsInARow</th>\n",
       "    </tr>\n",
       "  </thead>\n",
       "  <tbody>\n",
       "    <tr>\n",
       "      <th>0</th>\n",
       "      <td>11111462625267</td>\n",
       "      <td>5715720</td>\n",
       "      <td>2016-05-18 14:58:29</td>\n",
       "      <td>2016-06-08</td>\n",
       "      <td>0</td>\n",
       "      <td>1</td>\n",
       "      <td>NaN</td>\n",
       "      <td>0</td>\n",
       "    </tr>\n",
       "    <tr>\n",
       "      <th>1</th>\n",
       "      <td>111124532532143</td>\n",
       "      <td>5531224</td>\n",
       "      <td>2016-03-31 09:17:26</td>\n",
       "      <td>2016-05-03</td>\n",
       "      <td>0</td>\n",
       "      <td>1</td>\n",
       "      <td>NaN</td>\n",
       "      <td>0</td>\n",
       "    </tr>\n",
       "    <tr>\n",
       "      <th>2</th>\n",
       "      <td>111124532532143</td>\n",
       "      <td>5624030</td>\n",
       "      <td>2016-04-26 15:05:58</td>\n",
       "      <td>2016-06-01</td>\n",
       "      <td>1</td>\n",
       "      <td>0</td>\n",
       "      <td>1.0</td>\n",
       "      <td>1</td>\n",
       "    </tr>\n",
       "    <tr>\n",
       "      <th>3</th>\n",
       "      <td>11114485119737</td>\n",
       "      <td>5621757</td>\n",
       "      <td>2016-04-26 10:46:38</td>\n",
       "      <td>2016-05-25</td>\n",
       "      <td>1</td>\n",
       "      <td>0</td>\n",
       "      <td>NaN</td>\n",
       "      <td>0</td>\n",
       "    </tr>\n",
       "    <tr>\n",
       "      <th>4</th>\n",
       "      <td>11116239871275</td>\n",
       "      <td>5625265</td>\n",
       "      <td>2016-04-27 07:05:38</td>\n",
       "      <td>2016-04-29</td>\n",
       "      <td>0</td>\n",
       "      <td>1</td>\n",
       "      <td>NaN</td>\n",
       "      <td>0</td>\n",
       "    </tr>\n",
       "    <tr>\n",
       "      <th>5</th>\n",
       "      <td>1111633122891</td>\n",
       "      <td>5674433</td>\n",
       "      <td>2016-05-09 11:03:50</td>\n",
       "      <td>2016-05-09</td>\n",
       "      <td>0</td>\n",
       "      <td>1</td>\n",
       "      <td>NaN</td>\n",
       "      <td>0</td>\n",
       "    </tr>\n",
       "    <tr>\n",
       "      <th>6</th>\n",
       "      <td>1111633122891</td>\n",
       "      <td>5684529</td>\n",
       "      <td>2016-05-11 08:45:03</td>\n",
       "      <td>2016-05-11</td>\n",
       "      <td>0</td>\n",
       "      <td>1</td>\n",
       "      <td>1.0</td>\n",
       "      <td>1</td>\n",
       "    </tr>\n",
       "    <tr>\n",
       "      <th>7</th>\n",
       "      <td>1111633122891</td>\n",
       "      <td>5713029</td>\n",
       "      <td>2016-05-18 09:37:39</td>\n",
       "      <td>2016-05-18</td>\n",
       "      <td>0</td>\n",
       "      <td>1</td>\n",
       "      <td>1.0</td>\n",
       "      <td>2</td>\n",
       "    </tr>\n",
       "    <tr>\n",
       "      <th>8</th>\n",
       "      <td>11118512139</td>\n",
       "      <td>5649221</td>\n",
       "      <td>2016-05-02 18:28:46</td>\n",
       "      <td>2016-05-31</td>\n",
       "      <td>0</td>\n",
       "      <td>1</td>\n",
       "      <td>NaN</td>\n",
       "      <td>0</td>\n",
       "    </tr>\n",
       "    <tr>\n",
       "      <th>9</th>\n",
       "      <td>1111852391322</td>\n",
       "      <td>5761977</td>\n",
       "      <td>2016-06-02 07:16:05</td>\n",
       "      <td>2016-06-07</td>\n",
       "      <td>0</td>\n",
       "      <td>1</td>\n",
       "      <td>NaN</td>\n",
       "      <td>0</td>\n",
       "    </tr>\n",
       "  </tbody>\n",
       "</table>\n",
       "</div>"
      ],
      "text/plain": [
       "         PatientID AppointmentID        ScheduledDay AppointmentDay  NoShow  \\\n",
       "0   11111462625267       5715720 2016-05-18 14:58:29     2016-06-08       0   \n",
       "1  111124532532143       5531224 2016-03-31 09:17:26     2016-05-03       0   \n",
       "2  111124532532143       5624030 2016-04-26 15:05:58     2016-06-01       1   \n",
       "3   11114485119737       5621757 2016-04-26 10:46:38     2016-05-25       1   \n",
       "4   11116239871275       5625265 2016-04-27 07:05:38     2016-04-29       0   \n",
       "5    1111633122891       5674433 2016-05-09 11:03:50     2016-05-09       0   \n",
       "6    1111633122891       5684529 2016-05-11 08:45:03     2016-05-11       0   \n",
       "7    1111633122891       5713029 2016-05-18 09:37:39     2016-05-18       0   \n",
       "8      11118512139       5649221 2016-05-02 18:28:46     2016-05-31       0   \n",
       "9    1111852391322       5761977 2016-06-02 07:16:05     2016-06-07       0   \n",
       "\n",
       "   Show  PriorAttendanceRecord  ShowsInARow  \n",
       "0     1                    NaN            0  \n",
       "1     1                    NaN            0  \n",
       "2     0                    1.0            1  \n",
       "3     0                    NaN            0  \n",
       "4     1                    NaN            0  \n",
       "5     1                    NaN            0  \n",
       "6     1                    1.0            1  \n",
       "7     1                    1.0            2  \n",
       "8     1                    NaN            0  \n",
       "9     1                    NaN            0  "
      ]
     },
     "execution_count": 75,
     "metadata": {},
     "output_type": "execute_result"
    }
   ],
   "source": [
    "df.loc[:, ['PatientID', 'AppointmentID', 'ScheduledDay', 'AppointmentDay', 'NoShow', 'Show', 'PriorAttendanceRecord', 'ShowsInARow']].head(10)"
   ]
  },
  {
   "cell_type": "code",
   "execution_count": null,
   "metadata": {},
   "outputs": [],
   "source": [
    "#df.to_csv('df.csv')\n",
    "#geo.to_csv('geo.csv')"
   ]
  },
  {
   "cell_type": "markdown",
   "metadata": {},
   "source": [
    "<a id='reloading'></a>\n",
    "## Reloading the Data"
   ]
  },
  {
   "cell_type": "code",
   "execution_count": null,
   "metadata": {},
   "outputs": [],
   "source": [
    "import pandas as pd\n",
    "import numpy as np\n",
    "import geocoder\n",
    "import matplotlib\n",
    "import matplotlib.pyplot as plt\n",
    "import matplotlib.dates as mdates\n",
    "from matplotlib.lines import Line2D\n",
    "import seaborn as sns\n",
    "import folium\n",
    "from folium.plugins import HeatMap\n",
    "import scipy.stats as stats\n",
    "from scipy.stats import chi2_contingency\n",
    "from datetime import timedelta\n",
    "import config\n",
    "API_KEY = config.api_key"
   ]
  },
  {
   "cell_type": "code",
   "execution_count": null,
   "metadata": {},
   "outputs": [],
   "source": [
    "matplotlib.rcParams.update({'font.size': 12.5})"
   ]
  },
  {
   "cell_type": "code",
   "execution_count": null,
   "metadata": {},
   "outputs": [],
   "source": [
    "df = pd.read_csv('df.csv')\n",
    "geo = pd.read_csv('geo.csv')"
   ]
  },
  {
   "cell_type": "code",
   "execution_count": null,
   "metadata": {},
   "outputs": [],
   "source": [
    "df['PatientID'] = df['PatientID'].astype(str)\n",
    "df['AppointmentID'] = df['AppointmentID'].astype(str)\n",
    "df['ScheduledDay'] = pd.to_datetime(df['ScheduledDay'])\n",
    "df['AppointmentDay'] = pd.to_datetime(df['AppointmentDay'])\n",
    "df['ScheduledDayDate'] = pd.to_datetime(df['ScheduledDayDate']).dt.date\n",
    "df['AppointmentDayDate'] = pd.to_datetime(df['AppointmentDayDate']).dt.date"
   ]
  },
  {
   "cell_type": "code",
   "execution_count": null,
   "metadata": {},
   "outputs": [],
   "source": [
    "df.drop('Unnamed: 0', axis = 1, inplace = True)\n",
    "df.head()"
   ]
  },
  {
   "cell_type": "code",
   "execution_count": null,
   "metadata": {},
   "outputs": [],
   "source": [
    "# Number of records in the cleaned dataset\n",
    "len(df)"
   ]
  },
  {
   "cell_type": "code",
   "execution_count": null,
   "metadata": {},
   "outputs": [],
   "source": [
    "xlsx = pd.ExcelFile('vitoria_weather.xlsx')\n",
    "weather = pd.read_excel(xlsx, 'Sheet1', skiprows = 2)\n",
    "weather['Datetime'] = pd.to_datetime(weather['Date'])\n",
    "weather['Date'] = weather['Datetime'].dt.date\n",
    "weather.head()"
   ]
  },
  {
   "cell_type": "markdown",
   "metadata": {},
   "source": [
    "<a id='eda'></a>"
   ]
  },
  {
   "cell_type": "markdown",
   "metadata": {},
   "source": [
    "## Exploratory Data Analysis\n",
    "***"
   ]
  },
  {
   "cell_type": "markdown",
   "metadata": {},
   "source": [
    "<a id='univariate'></a>"
   ]
  },
  {
   "cell_type": "markdown",
   "metadata": {},
   "source": [
    "### Univariate Plots and Analysis"
   ]
  },
  {
   "cell_type": "markdown",
   "metadata": {},
   "source": [
    "#### Patient Characteristics"
   ]
  },
  {
   "cell_type": "code",
   "execution_count": 76,
   "metadata": {},
   "outputs": [
    {
     "data": {
      "text/plain": [
       "62298"
      ]
     },
     "execution_count": 76,
     "metadata": {},
     "output_type": "execute_result"
    }
   ],
   "source": [
    "# Get unique patients when getting frequency of patient characteristics\n",
    "# Since all the patient characteristics remain the same, they will remain the same, but\n",
    "# mean will take the average age and the proportion of no shows\n",
    "unique_patients = df.groupby('PatientID').mean()\n",
    "len(unique_patients)"
   ]
  },
  {
   "cell_type": "code",
   "execution_count": 77,
   "metadata": {},
   "outputs": [
    {
     "data": {
      "image/png": "[encoded data removed]",
      "text/plain": [
       "<matplotlib.figure.Figure at 0x1a0f2bbcc0>"
      ]
     },
     "metadata": {},
     "output_type": "display_data"
    }
   ],
   "source": [
    "# Plot binary patient characteristics\n",
    "fields = ['Gender', 'BolsaFamilia', 'Alcoholism', 'Diabetes', 'Hypertension']\n",
    "xlabels = ['Gender', 'Bolsa Familia', 'Alcoholism', 'Diabetes', 'Hypertension']\n",
    "gender_labels = ['Male', 'Female']\n",
    "labels = ['No', 'Yes']\n",
    "\n",
    "fig, axes = plt.subplots(1, 5, figsize = (15, 5), sharey = True)\n",
    "\n",
    "i = 0\n",
    "for ax in axes.reshape(-1):\n",
    "    sns.countplot(ax = ax, x = fields[i], data = unique_patients)\n",
    "    sns.set_style(\"white\")\n",
    "    ax.tick_params(length = 0)\n",
    "    sns.despine(left = True, bottom = True)\n",
    "    if i == 0:\n",
    "        ax.set(xticklabels=['Male', 'Female'])\n",
    "        ax.set(xlabel = xlabels[i], ylabel = '')\n",
    "    else:\n",
    "        ax.set(xticklabels=['', ''])\n",
    "        ax.set(xlabel = '\\n' + xlabels[i], ylabel = '')\n",
    "    if i == 2:\n",
    "        ax.set_title('\\nPatient Characteristics\\n', fontsize = 18, fontweight = 'bold')\n",
    "    i += 1\n",
    "\n",
    "custom_lines = [Line2D([0], [0], color = 'steelblue', lw=4),\n",
    "                Line2D([0], [0], color = 'darkorange', lw=4)]\n",
    "ax.legend(custom_lines, ['No', 'Yes'])\n",
    "plt.show()"
   ]
  },
  {
   "cell_type": "code",
   "execution_count": 78,
   "metadata": {},
   "outputs": [
    {
     "data": {
      "text/html": [
       "<div>\n",
       "<style scoped>\n",
       "    .dataframe tbody tr th:only-of-type {\n",
       "        vertical-align: middle;\n",
       "    }\n",
       "\n",
       "    .dataframe tbody tr th {\n",
       "        vertical-align: top;\n",
       "    }\n",
       "\n",
       "    .dataframe thead th {\n",
       "        text-align: right;\n",
       "    }\n",
       "</style>\n",
       "<table border=\"1\" class=\"dataframe\">\n",
       "  <thead>\n",
       "    <tr style=\"text-align: right;\">\n",
       "      <th></th>\n",
       "      <th>Proportion</th>\n",
       "    </tr>\n",
       "  </thead>\n",
       "  <tbody>\n",
       "    <tr>\n",
       "      <th>Women</th>\n",
       "      <td>0.643</td>\n",
       "    </tr>\n",
       "    <tr>\n",
       "      <th>Bolsa Familia</th>\n",
       "      <td>0.093</td>\n",
       "    </tr>\n",
       "    <tr>\n",
       "      <th>Alcoholic</th>\n",
       "      <td>0.024</td>\n",
       "    </tr>\n",
       "    <tr>\n",
       "      <th>Diabetes</th>\n",
       "      <td>0.071</td>\n",
       "    </tr>\n",
       "    <tr>\n",
       "      <th>Hypertension</th>\n",
       "      <td>0.197</td>\n",
       "    </tr>\n",
       "  </tbody>\n",
       "</table>\n",
       "</div>"
      ],
      "text/plain": [
       "               Proportion\n",
       "Women               0.643\n",
       "Bolsa Familia       0.093\n",
       "Alcoholic           0.024\n",
       "Diabetes            0.071\n",
       "Hypertension        0.197"
      ]
     },
     "execution_count": 78,
     "metadata": {},
     "output_type": "execute_result"
    }
   ],
   "source": [
    "fields = ['Women', 'Bolsa Familia', 'Alcoholic', 'Diabetes', 'Hypertension']\n",
    "char_props = [round(unique_patients['Gender'].mean(), 3),\n",
    "              round(unique_patients['BolsaFamilia'].mean(), 3),\n",
    "              round(unique_patients['Alcoholism'].mean(), 3),\n",
    "              round(unique_patients['Diabetes'].mean(), 3),\n",
    "              round(unique_patients['Hypertension'].mean(), 3)]\n",
    "\n",
    "pd.DataFrame(char_props, index = fields, columns = ['Proportion'])"
   ]
  },
  {
   "cell_type": "code",
   "execution_count": 79,
   "metadata": {},
   "outputs": [
    {
     "data": {
      "text/plain": [
       "1.63"
      ]
     },
     "execution_count": 79,
     "metadata": {},
     "output_type": "execute_result"
    }
   ],
   "source": [
    "# Average number of appointments per patient\n",
    "round(df.groupby('PatientID')['AppointmentID'].count().mean(), 2)"
   ]
  },
  {
   "cell_type": "markdown",
   "metadata": {},
   "source": [
    "Almost 65% of the patients in the data set are women, which fits the stereotype that men avoid going to the doctor."
   ]
  },
  {
   "cell_type": "markdown",
   "metadata": {},
   "source": [
    "#### Age"
   ]
  },
  {
   "cell_type": "code",
   "execution_count": 80,
   "metadata": {
    "scrolled": true
   },
   "outputs": [
    {
     "data": {
      "image/png": "[encoded data removed]",
      "text/plain": [
       "<matplotlib.figure.Figure at 0x1a0f279eb8>"
      ]
     },
     "metadata": {},
     "output_type": "display_data"
    }
   ],
   "source": [
    "# Only plot the average age for each unique patient that appears in the dataset\n",
    "fig = plt.figure(figsize = (8, 5))\n",
    "sns.distplot(unique_patients['Age'], bins=list(range(0, 120, 5)))\n",
    "sns.despine(left = True, bottom = True)\n",
    "plt.title('\\nPatient Ages', fontsize = 18, fontweight = 'bold')\n",
    "plt.xlabel('')\n",
    "plt.xticks(np.arange(0, 120, 10))\n",
    "plt.show();"
   ]
  },
  {
   "cell_type": "code",
   "execution_count": 81,
   "metadata": {},
   "outputs": [
    {
     "data": {
      "text/plain": [
       "0-10      9984\n",
       "11-20     7608\n",
       "21-40    15653\n",
       "41-60    16452\n",
       "61-80     9130\n",
       "81-99     1439\n",
       "100+         4\n",
       "Name: Age, dtype: int64"
      ]
     },
     "execution_count": 81,
     "metadata": {},
     "output_type": "execute_result"
    }
   ],
   "source": [
    "bins = [0, 11, 21, 41, 61, 81, 100, 116]\n",
    "bin_names = [\"0-10\", \"11-20\", \"21-40\", \"41-60\", \"61-80\", \"81-99\", \"100+\"]\n",
    "\n",
    "ages_bins = pd.cut(unique_patients['Age'], bins = bins, labels = bin_names).value_counts()\n",
    "ages_bins.sort_index()"
   ]
  },
  {
   "cell_type": "code",
   "execution_count": 82,
   "metadata": {},
   "outputs": [
    {
     "data": {
      "text/plain": [
       "count    101803.000000\n",
       "mean         37.059900\n",
       "std          23.214054\n",
       "min           0.000000\n",
       "25%          18.000000\n",
       "50%          37.000000\n",
       "75%          56.000000\n",
       "max         115.000000\n",
       "Name: Age, dtype: float64"
      ]
     },
     "execution_count": 82,
     "metadata": {},
     "output_type": "execute_result"
    }
   ],
   "source": [
    "df['Age'].describe()"
   ]
  },
  {
   "cell_type": "markdown",
   "metadata": {},
   "source": [
    "A significant number of the patients are children aged from 0 to 5.  The ages are fairly uniform from 6 to 65, after which the number of patients decreases somewhat linearly."
   ]
  },
  {
   "cell_type": "markdown",
   "metadata": {},
   "source": [
    "#### Number of Handicaps"
   ]
  },
  {
   "cell_type": "code",
   "execution_count": 83,
   "metadata": {},
   "outputs": [
    {
     "data": {
      "image/png": "[encoded data removed]",
      "text/plain": [
       "<matplotlib.figure.Figure at 0x1a21ebf668>"
      ]
     },
     "metadata": {},
     "output_type": "display_data"
    }
   ],
   "source": [
    "fig, ax = plt.subplots(figsize = (8, 5))\n",
    "sns.countplot(unique_patients['NumHandicaps'])\n",
    "sns.despine(left = True, bottom = True)\n",
    "plt.title('\\nNumber of Patient Handicaps\\n', fontsize = 18, fontweight = 'bold')\n",
    "plt.xlabel('')\n",
    "plt.ylabel('')\n",
    "ax.set(xticklabels=['0', '1', '2', '3', '4'])\n",
    "plt.show();"
   ]
  },
  {
   "cell_type": "code",
   "execution_count": 84,
   "metadata": {},
   "outputs": [
    {
     "data": {
      "text/plain": [
       "0.0    61165\n",
       "1.0     1025\n",
       "2.0       99\n",
       "3.0        6\n",
       "4.0        3\n",
       "Name: NumHandicaps, dtype: int64"
      ]
     },
     "execution_count": 84,
     "metadata": {},
     "output_type": "execute_result"
    }
   ],
   "source": [
    "unique_patients['NumHandicaps'].value_counts()"
   ]
  },
  {
   "cell_type": "code",
   "execution_count": 85,
   "metadata": {},
   "outputs": [
    {
     "data": {
      "text/plain": [
       "0.02"
      ]
     },
     "execution_count": 85,
     "metadata": {},
     "output_type": "execute_result"
    }
   ],
   "source": [
    "round(unique_patients['NumHandicaps'].mean(), 3)"
   ]
  },
  {
   "cell_type": "code",
   "execution_count": 86,
   "metadata": {},
   "outputs": [
    {
     "data": {
      "image/png": "[encoded data removed]",
      "text/plain": [
       "<matplotlib.figure.Figure at 0x1a21fb2860>"
      ]
     },
     "metadata": {},
     "output_type": "display_data"
    }
   ],
   "source": [
    "fig, ax = plt.subplots(figsize = (8, 5))\n",
    "sns.countplot(unique_patients['HasHandicaps'])\n",
    "sns.despine(left = True, bottom = True)\n",
    "plt.title('\\nNumber of Patients with Handicaps\\n', fontsize = 18, fontweight = 'bold')\n",
    "plt.xlabel('')\n",
    "plt.ylabel('')\n",
    "ax.set(xticklabels=['No', 'Yes'])\n",
    "plt.show();"
   ]
  },
  {
   "cell_type": "markdown",
   "metadata": {},
   "source": [
    "#### Appointments by Day"
   ]
  },
  {
   "cell_type": "code",
   "execution_count": 87,
   "metadata": {},
   "outputs": [
    {
     "data": {
      "text/plain": [
       "2016-04-29    2979\n",
       "2016-04-30       0\n",
       "2016-05-01       0\n",
       "2016-05-02    4056\n",
       "2016-05-03    3960\n",
       "2016-05-04    3828\n",
       "2016-05-05    3984\n",
       "2016-05-06    3535\n",
       "2016-05-07       0\n",
       "2016-05-08       0\n",
       "2016-05-09    4164\n",
       "2016-05-10    3960\n",
       "2016-05-11    4162\n",
       "2016-05-12    4083\n",
       "2016-05-13    3568\n",
       "2016-05-14      38\n",
       "2016-05-15       0\n",
       "2016-05-16    4238\n",
       "2016-05-17    4069\n",
       "2016-05-18    4029\n",
       "2016-05-19    3931\n",
       "2016-05-20    3484\n",
       "2016-05-21       0\n",
       "2016-05-22       0\n",
       "2016-05-23       0\n",
       "2016-05-24    3692\n",
       "2016-05-25    3566\n",
       "2016-05-26       0\n",
       "2016-05-27       0\n",
       "2016-05-28       0\n",
       "2016-05-29       0\n",
       "2016-05-30    4139\n",
       "2016-05-31    3956\n",
       "2016-06-01    4088\n",
       "2016-06-02    4014\n",
       "2016-06-03    3766\n",
       "2016-06-04       0\n",
       "2016-06-05       0\n",
       "2016-06-06    4300\n",
       "2016-06-07    4098\n",
       "2016-06-08    4116\n",
       "Freq: D, Name: AppointmentDay, dtype: int64"
      ]
     },
     "execution_count": 87,
     "metadata": {},
     "output_type": "execute_result"
    }
   ],
   "source": [
    "df['AppointmentDay'].value_counts().sort_index().resample('D').sum()"
   ]
  },
  {
   "cell_type": "markdown",
   "metadata": {},
   "source": [
    "There were only 38 appointments on the weekend, all occurring on Saturday, May 14th.  Besides the weekends, there were no appointments on Monday, May 23; Thursday, May 26; or Friday, May 27.\n",
    "\n",
    "May 26 was the optional holiday of Corpus Christi, however I couldn't find any reason as to why there is no data for the 23rd or 27th."
   ]
  },
  {
   "cell_type": "code",
   "execution_count": 88,
   "metadata": {},
   "outputs": [
    {
     "data": {
      "text/plain": [
       "38"
      ]
     },
     "execution_count": 88,
     "metadata": {},
     "output_type": "execute_result"
    }
   ],
   "source": [
    "df['Weekend'].sum()"
   ]
  },
  {
   "cell_type": "code",
   "execution_count": 89,
   "metadata": {},
   "outputs": [
    {
     "data": {
      "image/png": "[encoded data removed]",
      "text/plain": [
       "<matplotlib.figure.Figure at 0x1a21ff3ba8>"
      ]
     },
     "metadata": {},
     "output_type": "display_data"
    }
   ],
   "source": [
    "# Exclude weekends and weekdays with no appointments\n",
    "fig = plt.figure(figsize = (12, 8))\n",
    "no_weekends = df[df['Weekend'] == 0]\n",
    "appt_by_day = no_weekends.groupby('AppointmentDay')['AppointmentDay'].count()\n",
    "appt_by_day.plot(linewidth = 2)\n",
    "sns.despine(left = True, bottom = True)\n",
    "plt.title('\\nNumber of Appointments by Day\\n', fontsize = 18, fontweight = 'bold')\n",
    "plt.xlabel('');"
   ]
  },
  {
   "cell_type": "markdown",
   "metadata": {},
   "source": [
    "The weekends and weekdays with no appointments were excluded from the graph in order to focus more on the normal fluctuations without the low outliers affecting the graph."
   ]
  },
  {
   "cell_type": "code",
   "execution_count": 90,
   "metadata": {},
   "outputs": [
    {
     "data": {
      "text/plain": [
       "3914.04"
      ]
     },
     "execution_count": 90,
     "metadata": {},
     "output_type": "execute_result"
    }
   ],
   "source": [
    "# Average number of appointments per day (on non-zero days and weekdays)\n",
    "round(df[df['Weekend'] == 0]['AppointmentDay'].value_counts().mean(), 2)"
   ]
  },
  {
   "cell_type": "code",
   "execution_count": 91,
   "metadata": {},
   "outputs": [
    {
     "data": {
      "image/png": "[encoded data removed]",
      "text/plain": [
       "<matplotlib.figure.Figure at 0x1a21ff38d0>"
      ]
     },
     "metadata": {},
     "output_type": "display_data"
    }
   ],
   "source": [
    "days_of_week = ['Monday', 'Tuesday', 'Wednesday', 'Thursday', 'Friday', 'Saturday']\n",
    "\n",
    "fig, ax = plt.subplots(figsize = (8, 5))\n",
    "df['DayOfWeek'].value_counts().sort_index().plot(ax = ax, kind = 'bar', color = 'steelblue')\n",
    "ax.set(xticklabels = days_of_week)\n",
    "sns.despine(left = True, bottom = True)\n",
    "plt.xticks(rotation = 0)\n",
    "plt.title('\\nAppointments by Day of Week\\n', fontsize = 18, fontweight = 'bold');"
   ]
  },
  {
   "cell_type": "markdown",
   "metadata": {},
   "source": [
    "The appointments started on Friday, April 29 and ended on Wednesday, June 8.  Hence there are not an equal number of weekdays in the dataset; there are appointments on five Thursdays, but six on every other weekday.  On the line graph, we can clearly see a peak occuring each Monday, and a dip occurring each Friday.  There isn't a consistent pattern for the number of appointments on Tuesdays, Wednesdays, and Thursdays, besides that they have less than or equal to Mondays, and more than Fridays."
   ]
  },
  {
   "cell_type": "markdown",
   "metadata": {},
   "source": [
    "#### Appointments By Day Scheduled"
   ]
  },
  {
   "cell_type": "code",
   "execution_count": 94,
   "metadata": {
    "scrolled": false
   },
   "outputs": [
    {
     "data": {
      "image/png": "[encoded data removed]",
      "text/plain": [
       "<matplotlib.figure.Figure at 0x1a275626a0>"
      ]
     },
     "metadata": {},
     "output_type": "display_data"
    }
   ],
   "source": [
    "sched_date_counts = df.groupby('ScheduledDayDate')['ScheduledDayDate'].count()\n",
    "\n",
    "# Find index of first scheduled date that is an appointment date\n",
    "sched_len = len(sched_date_counts)\n",
    "first_ix = list(sched_date_counts.index > df['AppointmentDayDate'].min()).index(True)\n",
    "\n",
    "# Use orange for the appointments scheduled during the time period that\n",
    "# the appointments took place\n",
    "colors = ['steelblue'] * first_ix\n",
    "colors.extend(['darkorange'] * (sched_len-first_ix))\n",
    "\n",
    "fig, ax = plt.subplots(figsize = (12, 8))\n",
    "ax.bar(sched_date_counts.index, sched_date_counts, color = colors)\n",
    "ax.xaxis.set_major_locator(mdates.MonthLocator())\n",
    "ax.xaxis.set_major_formatter(mdates.DateFormatter('%B\\n%Y'))\n",
    "\n",
    "custom_lines = [Line2D([0], [0], color = 'steelblue', lw=4),\n",
    "                Line2D([0], [0], color = 'darkorange', lw=4)]\n",
    "ax.legend(custom_lines, ['Prior to appointments starting',\n",
    "                         'During time period when appointments started'])\n",
    "\n",
    "sns.despine(left = True, bottom = True)\n",
    "plt.xticks(rotation = 45, fontsize = 13)\n",
    "plt.title('\\nNumber of Appointments by Day Scheduled\\n', fontsize = 18, fontweight = 'bold');"
   ]
  },
  {
   "cell_type": "code",
   "execution_count": 93,
   "metadata": {},
   "outputs": [
    {
     "data": {
      "text/plain": [
       "0.736"
      ]
     },
     "execution_count": 93,
     "metadata": {},
     "output_type": "execute_result"
    }
   ],
   "source": [
    "# Proportion of appointments that were scheduled during the time period that\n",
    "# the appointments took place\n",
    "float('{:0.3f}'.format(sched_date_counts[first_ix:].sum()/sched_date_counts.sum()))"
   ]
  },
  {
   "cell_type": "markdown",
   "metadata": {},
   "source": [
    "The vast majority of appointments were made during the two weeks that the appointments were scheduled for.  Additionally, the closer to the appointments we get, the more appointments were scheduled. "
   ]
  },
  {
   "cell_type": "markdown",
   "metadata": {},
   "source": [
    "#### Appointments By Hour Scheduled"
   ]
  },
  {
   "cell_type": "code",
   "execution_count": 97,
   "metadata": {},
   "outputs": [
    {
     "data": {
      "text/plain": [
       "6        25\n",
       "7     10940\n",
       "8     15904\n",
       "9     12770\n",
       "10    10841\n",
       "11     9135\n",
       "12     5818\n",
       "13     6272\n",
       "14     9015\n",
       "15     7811\n",
       "16     6575\n",
       "17     3822\n",
       "18     1865\n",
       "19      755\n",
       "20      230\n",
       "21       25\n",
       "Name: ScheduledHour, dtype: int64"
      ]
     },
     "execution_count": 97,
     "metadata": {},
     "output_type": "execute_result"
    }
   ],
   "source": [
    "hour_counts = df['ScheduledHour'].value_counts()\n",
    "hour_counts.sort_index()"
   ]
  },
  {
   "cell_type": "code",
   "execution_count": 106,
   "metadata": {},
   "outputs": [
    {
     "data": {
      "text/plain": [
       "['8:00',\n",
       " '9:00',\n",
       " '10:00',\n",
       " '7:00',\n",
       " '11:00',\n",
       " '14:00',\n",
       " '15:00',\n",
       " '16:00',\n",
       " '13:00',\n",
       " '12:00',\n",
       " '17:00',\n",
       " '18:00',\n",
       " '19:00',\n",
       " '20:00',\n",
       " '21:00',\n",
       " '6:00']"
      ]
     },
     "execution_count": 106,
     "metadata": {},
     "output_type": "execute_result"
    }
   ],
   "source": [
    "formatted_hour = [str(hour) + ':00' for hour in hour_counts.index]\n",
    "formatted_hour"
   ]
  },
  {
   "cell_type": "code",
   "execution_count": 110,
   "metadata": {},
   "outputs": [
    {
     "data": {
      "image/png": "[encoded data removed]",
      "text/plain": [
       "<matplotlib.figure.Figure at 0x1a29f8ecc0>"
      ]
     },
     "metadata": {},
     "output_type": "display_data"
    }
   ],
   "source": [
    "fig, ax = plt.subplots(figsize = (8, 5))\n",
    "hour_counts.sort_index().plot(kind = 'line', color = 'steelblue')\n",
    "sns.despine(left = True, bottom = True)\n",
    "\n",
    "formatted_hours = [str(hour) + ':00' for hour in range(6, 22)]\n",
    "plt.xticks(np.arange(6, 22, 1), rotation = 45)\n",
    "ax.set(xticklabels=formatted_hours)\n",
    "plt.title('\\nAppointments by Scheduled Hour\\n', fontsize = 18, fontweight = 'bold');"
   ]
  },
  {
   "cell_type": "markdown",
   "metadata": {},
   "source": [
    "We can clearly see that the majority of appointments were made before 11am, with a smaller spike around 2pm, at which time it also begins monotonically decreasing."
   ]
  },
  {
   "cell_type": "markdown",
   "metadata": {},
   "source": [
    "#### Neighborhoods"
   ]
  },
  {
   "cell_type": "code",
   "execution_count": null,
   "metadata": {},
   "outputs": [],
   "source": [
    "neighborhood_counts = df['Neighborhood'].value_counts()\n",
    "\n",
    "fig, ax = plt.subplots(figsize = (10, 15))\n",
    "neighborhood_counts.sort_values().plot(kind = 'barh', color = 'steelblue')\n",
    "sns.despine(left = True, bottom = True)\n",
    "plt.yticks(fontsize = 12)\n",
    "plt.title('\\nAppointments by Neighborhood\\n', fontsize = 18, fontweight = 'bold');"
   ]
  },
  {
   "cell_type": "markdown",
   "metadata": {},
   "source": [
    "There is a great discrepancy in the number of appointments in the different neighborhoods; one neighborhood has almost 7000 appointments while there are four neighborhoods with ten or fewer appointments."
   ]
  },
  {
   "cell_type": "code",
   "execution_count": null,
   "metadata": {},
   "outputs": [],
   "source": [
    "neighborhood_df = pd.DataFrame(neighborhood_counts).reset_index().rename(columns = {'index': 'neighborhood',\n",
    "                                                                                    'Neighborhood': 'count'})\n",
    "# join neighborhood_counts with geo dataframe\n",
    "neighborhood_lat_lng = pd.merge(neighborhood_df, geo[['neighborhood', 'lat', 'lng']], on = 'neighborhood')\n",
    "\n",
    "# convert counts to proportions\n",
    "neighborhood_lat_lng['prop'] = neighborhood_lat_lng['count']/len(df)\n",
    "neighborhood_lat_lng.head()"
   ]
  },
  {
   "cell_type": "code",
   "execution_count": null,
   "metadata": {},
   "outputs": [],
   "source": [
    "hood_lst = neighborhood_lat_lng[['lat', 'lng', 'prop']].values.tolist() # need to pass list to folium\n",
    "\n",
    "m = folium.Map(location=[-20.292474, -40.317893], tiles='stamentoner', zoom_start = 13)\n",
    "m.add_child(folium.plugins.HeatMap(hood_lst))"
   ]
  },
  {
   "cell_type": "markdown",
   "metadata": {},
   "source": [
    "#### SMS Received and No Shows"
   ]
  },
  {
   "cell_type": "code",
   "execution_count": null,
   "metadata": {},
   "outputs": [],
   "source": [
    "# Plot binary appointment characteristics\n",
    "fields = ['SMSReceived', 'NoShow']\n",
    "xlabels = ['SMS Received', 'No Show']\n",
    "labels = ['No', 'Yes']\n",
    "\n",
    "fig, axes = plt.subplots(1, 2, figsize = (8, 5), sharey = True)\n",
    "\n",
    "i = 0\n",
    "for ax in axes.reshape(-1):\n",
    "    sns.countplot(ax = ax, x = fields[i], data = df)\n",
    "    sns.set_style(\"white\")\n",
    "    ax.tick_params(length = 0)\n",
    "    sns.despine(left = True, bottom = True)\n",
    "    ax.set(xticklabels=['', ''])\n",
    "    ax.set(xlabel = '\\n' + xlabels[i], ylabel = '')\n",
    "    i += 1\n",
    "    \n",
    "custom_lines = [Line2D([0], [0], color = 'steelblue', lw=4),\n",
    "                Line2D([0], [0], color = 'darkorange', lw=4)]\n",
    "ax.legend(custom_lines, ['No', 'Yes'])\n",
    "plt.show()"
   ]
  },
  {
   "cell_type": "code",
   "execution_count": null,
   "metadata": {},
   "outputs": [],
   "source": [
    "# Proportion of sms received\n",
    "round(df['SMSReceived'].mean(), 3)"
   ]
  },
  {
   "cell_type": "code",
   "execution_count": null,
   "metadata": {},
   "outputs": [],
   "source": [
    "# Proportion of no shows\n",
    "no_show_rate = df['NoShow'].mean()\n",
    "round(no_show_rate, 3)"
   ]
  },
  {
   "cell_type": "markdown",
   "metadata": {},
   "source": [
    "#### Number of Times an Appointment was Scheduled"
   ]
  },
  {
   "cell_type": "code",
   "execution_count": null,
   "metadata": {},
   "outputs": [],
   "source": [
    "df['NumTimesScheduled'].describe()"
   ]
  },
  {
   "cell_type": "code",
   "execution_count": null,
   "metadata": {},
   "outputs": [],
   "source": [
    "# Append missing values from value_counts index\n",
    "missing_times_sched = pd.Series([0, 0], index = [7, 9])\n",
    "missing_times_sched\n",
    "\n",
    "num_times_sched = (df['NumTimesScheduled'].value_counts()).append(missing_times_sched).\\\n",
    "                   sort_index()"
   ]
  },
  {
   "cell_type": "code",
   "execution_count": null,
   "metadata": {},
   "outputs": [],
   "source": [
    "fig, ax = plt.subplots(figsize = (8, 5))\n",
    "num_times_sched.plot(kind = 'bar', color = '#2977B4')\n",
    "\n",
    "plt.xticks(rotation = 0)\n",
    "plt.ylabel('')\n",
    "sns.despine(left = True, bottom = True)\n",
    "plt.title('\\nNumber of Times an Appointment was Scheduled\\n', fontsize = 18, fontweight = 'bold');"
   ]
  },
  {
   "cell_type": "code",
   "execution_count": null,
   "metadata": {},
   "outputs": [],
   "source": [
    "fig, ax = plt.subplots(figsize = (8, 5))\n",
    "num_times_sched.plot(kind = 'bar', color = '#2977B4')\n",
    "\n",
    "plt.xticks(rotation = 0)\n",
    "plt.ylabel('')\n",
    "ax.set_yscale('log')\n",
    "sns.despine(left = True, bottom = True)\n",
    "plt.title('\\nNumber of Times an Appointment was Scheduled\\n', fontsize = 18, fontweight = 'bold')\n",
    "plt.suptitle('\\nLog Scale\\n', fontsize = 16);"
   ]
  },
  {
   "cell_type": "code",
   "execution_count": null,
   "metadata": {},
   "outputs": [],
   "source": [
    "round(len(df[df['NumTimesScheduled'] == 1])/len(df), 3)"
   ]
  },
  {
   "cell_type": "markdown",
   "metadata": {},
   "source": [
    "Almost 93% of the appointments were only scheduled once, but there are appointments that were rescheduled up to nine times.  The data is skewed to the right.  We can see the magnitudinal differences in the number of schedulings in the log scale plot.  The data is still skewed to the right even after the log transform."
   ]
  },
  {
   "cell_type": "markdown",
   "metadata": {},
   "source": [
    "#### Days Between Scheduling and Appointment"
   ]
  },
  {
   "cell_type": "code",
   "execution_count": null,
   "metadata": {},
   "outputs": [],
   "source": [
    "df['DayDiff'].describe()"
   ]
  },
  {
   "cell_type": "code",
   "execution_count": null,
   "metadata": {},
   "outputs": [],
   "source": [
    "fig, ax = plt.subplots(figsize = (8, 5))\n",
    "df['DayDiff'].hist(bins = 25)\n",
    "sns.despine(left = True, bottom = True)\n",
    "plt.title('\\nDays Between Scheduling and Appointment\\n', fontsize = 18, fontweight = 'bold')\n",
    "plt.show();"
   ]
  },
  {
   "cell_type": "code",
   "execution_count": null,
   "metadata": {},
   "outputs": [],
   "source": [
    "fig, ax = plt.subplots(figsize = (8, 5))\n",
    "df['DayDiff'].hist(bins = 25)\n",
    "sns.despine(left = True, bottom = True)\n",
    "ax.set_yscale('log')\n",
    "plt.title('\\nDays Between Scheduling and Appointment\\n', fontsize = 18, fontweight = 'bold')\n",
    "plt.suptitle('\\nLog Scale\\n', fontsize = 16);\n",
    "plt.show();"
   ]
  },
  {
   "cell_type": "code",
   "execution_count": null,
   "metadata": {},
   "outputs": [],
   "source": [
    "# Proportion of appointments scheduled on the same day as the appointment\n",
    "float('{:0.3f}'.format((df['DayDiff'] == 0).sum()/len(df)))"
   ]
  },
  {
   "cell_type": "code",
   "execution_count": null,
   "metadata": {},
   "outputs": [],
   "source": [
    "### DELETE THIS LATER\n",
    "day_diff_bin_labels = ['0', '1', '2', '3-5', '6-10', '11-14', '15-29', '30-59',\n",
    "                       '60-99', '100+']"
   ]
  },
  {
   "cell_type": "code",
   "execution_count": null,
   "metadata": {},
   "outputs": [],
   "source": [
    "# Create dictionary of sorting order\n",
    "day_diff_sorter = dict(zip(day_diff_bin_labels, range(len(day_diff_bin_labels))))\n",
    "day_diff_df = df['DayDiffBin'].value_counts().reset_index()\n",
    "\n",
    "# Create a column of the sorting order\n",
    "day_diff_df['sort_order'] = day_diff_df['index'].map(day_diff_sorter)\n",
    "day_diff_df.sort_values(by = 'sort_order')\n",
    "day_diff_df"
   ]
  },
  {
   "cell_type": "code",
   "execution_count": null,
   "metadata": {},
   "outputs": [],
   "source": [
    "fig, ax = plt.subplots(figsize = (8, 5))\n",
    "sns.despine(left = True, bottom = True)\n",
    "sns.barplot(ax = ax, x = 'sort_order', y = 'DayDiffBin', data = day_diff_df,\n",
    "           color = '#2977B4')\n",
    "ax.set(xticklabels = day_diff_bin_labels)\n",
    "plt.xlabel('')\n",
    "plt.ylabel('')\n",
    "plt.xticks(rotation = 0)\n",
    "plt.title('\\nDays Between Scheduling and Appointment\\n', fontsize = 18, fontweight = 'bold')\n",
    "plt.show();"
   ]
  },
  {
   "cell_type": "markdown",
   "metadata": {},
   "source": [
    "About 35% of the appointments were made on the same day as the appointment.  Very few appointments were made more than a month in advance."
   ]
  },
  {
   "cell_type": "markdown",
   "metadata": {},
   "source": [
    "#### Days Between Rescheduling"
   ]
  },
  {
   "cell_type": "code",
   "execution_count": null,
   "metadata": {},
   "outputs": [],
   "source": [
    "df['DaysBWScheduling'].describe()"
   ]
  },
  {
   "cell_type": "code",
   "execution_count": null,
   "metadata": {},
   "outputs": [],
   "source": [
    "fig, ax = plt.subplots(figsize = (8, 5))\n",
    "df['DaysBWScheduling'].hist(bins = 30)\n",
    "sns.despine(left = True, bottom = True)\n",
    "plt.xlabel('Days', fontsize = 14)\n",
    "plt.title('\\nDays Between Rescheduling\\n', fontsize = 18, fontweight = 'bold');"
   ]
  },
  {
   "cell_type": "markdown",
   "metadata": {},
   "source": [
    "From the plots of NumTimesScheduled, we know that 93% of the appointments were made once (i.e. were not rescheduled), and hence there are zero days between the original scheduling and the rescheduling of the appointment."
   ]
  },
  {
   "cell_type": "code",
   "execution_count": null,
   "metadata": {},
   "outputs": [],
   "source": [
    "# Differences that are greater than 0\n",
    "diff_greater_0 = df.query('DaysBWScheduling > 0')['DaysBWScheduling']\n",
    "diff_greater_0.describe()"
   ]
  },
  {
   "cell_type": "code",
   "execution_count": null,
   "metadata": {},
   "outputs": [],
   "source": [
    "fig, ax = plt.subplots(figsize = (8, 5))\n",
    "diff_greater_0.hist(bins = 20)\n",
    "sns.despine(left = True, bottom = True)\n",
    "plt.xlabel('Days', fontsize = 14)\n",
    "plt.title('\\nNon-Zero Differences in Rescheduling\\n', fontsize = 18, fontweight = 'bold');"
   ]
  },
  {
   "cell_type": "markdown",
   "metadata": {},
   "source": [
    "Most of the appointments that were rescheduled were scheduled later on the same day as the original scheduling."
   ]
  },
  {
   "cell_type": "code",
   "execution_count": null,
   "metadata": {},
   "outputs": [],
   "source": [
    "fig, ax = plt.subplots(figsize = (8, 5))\n",
    "df['DaysBWScheduling'].hist(bins = 20)\n",
    "sns.despine(left = True, bottom = True)\n",
    "plt.xlabel('Days', fontsize = 14)\n",
    "ax.set_yscale('log')\n",
    "plt.title('\\nDays Between Rescheduling\\n', fontsize = 18, fontweight = 'bold')\n",
    "plt.suptitle('\\nLog Scale\\n', fontsize = 16);"
   ]
  },
  {
   "cell_type": "markdown",
   "metadata": {},
   "source": [
    "The data was skewed to the right using a normal scale, and it remains positively skewed after using a log scale."
   ]
  },
  {
   "cell_type": "code",
   "execution_count": null,
   "metadata": {},
   "outputs": [],
   "source": [
    "# DELETE LATER\n",
    "day_bw_labels = ['0', '<1', '1', '2', '3-5', '6-10', '11-14', '15-29', '30-59', '60+']"
   ]
  },
  {
   "cell_type": "code",
   "execution_count": null,
   "metadata": {},
   "outputs": [],
   "source": [
    "# Create dictionary of sorting order\n",
    "day_bw_sorter = dict(zip(day_bw_labels, range(len(day_bw_labels))))\n",
    "day_bw_df = df['DayBWBin'].value_counts().reset_index()\n",
    "\n",
    "# Create a column of the sorting order\n",
    "day_bw_df['sort_order'] = day_bw_df['index'].map(day_bw_sorter)\n",
    "day_bw_df.sort_values(by = 'sort_order')\n",
    "day_bw_df"
   ]
  },
  {
   "cell_type": "code",
   "execution_count": null,
   "metadata": {},
   "outputs": [],
   "source": [
    "fig, ax = plt.subplots(figsize = (8, 5))\n",
    "sns.despine(left = True, bottom = True)\n",
    "sns.barplot(ax = ax, x = 'sort_order', y = 'DayBWBin',\n",
    "            data = day_bw_df[1:],\n",
    "            color = '#2977B4')\n",
    "ax.set(xticklabels = day_bw_labels[1:])\n",
    "plt.xticks(rotation = 0)\n",
    "plt.xlabel('')\n",
    "plt.ylabel('')\n",
    "plt.title('\\nNon-Zero Days Between Rescheduling\\n', fontsize = 18, fontweight = 'bold')\n",
    "plt.show();"
   ]
  },
  {
   "cell_type": "markdown",
   "metadata": {},
   "source": [
    "#### Weather"
   ]
  },
  {
   "cell_type": "code",
   "execution_count": null,
   "metadata": {},
   "outputs": [],
   "source": [
    "# Number of rainy days\n",
    "weather['rain'].sum()"
   ]
  },
  {
   "cell_type": "code",
   "execution_count": null,
   "metadata": {},
   "outputs": [],
   "source": [
    "# Number of days with thunderstorms\n",
    "weather['thunderstorm'].sum()"
   ]
  },
  {
   "cell_type": "code",
   "execution_count": null,
   "metadata": {},
   "outputs": [],
   "source": [
    "# Number of days with fog\n",
    "weather['fog'].sum()"
   ]
  },
  {
   "cell_type": "code",
   "execution_count": null,
   "metadata": {},
   "outputs": [],
   "source": [
    "# Add field for formatted dates for plots\n",
    "weather['FormattedDate'] = weather['Datetime'].dt.strftime(\"%B %-d\")"
   ]
  },
  {
   "cell_type": "markdown",
   "metadata": {},
   "source": [
    "##### Precipitation"
   ]
  },
  {
   "cell_type": "code",
   "execution_count": null,
   "metadata": {},
   "outputs": [],
   "source": [
    "# Number of days with more than 0 in. precipitation\n",
    "(weather['precip_in'] > 0).sum()"
   ]
  },
  {
   "cell_type": "code",
   "execution_count": null,
   "metadata": {},
   "outputs": [],
   "source": [
    "fig, ax = plt.subplots(figsize = (8, 5))\n",
    "\n",
    "sns.pointplot(ax = ax, x = 'FormattedDate', y = 'precip_in', data = weather)\n",
    "sns.despine(left = True, bottom = True)\n",
    "plt.xlabel('')\n",
    "plt.xticks(rotation = 45, fontsize = 13)\n",
    "plt.ylabel('Precipitation (in.)\\n', fontsize = 14)\n",
    "plt.yticks(fontsize = 13)\n",
    "plt.title('\\nPrecipitation by Appointment Day\\n', fontsize = 18, fontweight = 'bold')\n",
    "\n",
    "for label in ax.xaxis.get_ticklabels()[::2]:\n",
    "    label.set_visible(False)\n",
    "\n",
    "plt.show()"
   ]
  },
  {
   "cell_type": "markdown",
   "metadata": {},
   "source": [
    "The weather was very good during the 40-day span that the appointments took place.  There were only a few days of rain and thunderstorms, and only one day with fog."
   ]
  },
  {
   "cell_type": "markdown",
   "metadata": {},
   "source": [
    "##### Temperature"
   ]
  },
  {
   "cell_type": "code",
   "execution_count": null,
   "metadata": {},
   "outputs": [],
   "source": [
    "# Create temps dataframe in long format for plot\n",
    "temps = pd.melt(weather, id_vars = ['FormattedDate'],\n",
    "                value_vars=['temp_high', 'temp_avg', 'temp_low'],\n",
    "                var_name = 'Name',\n",
    "                value_name= 'Temperature')"
   ]
  },
  {
   "cell_type": "code",
   "execution_count": null,
   "metadata": {
    "scrolled": false
   },
   "outputs": [],
   "source": [
    "fig, ax = plt.subplots(figsize = (12, 8))\n",
    "\n",
    "custom = ['#C62D42', '#F2C649', '#0095B7']\n",
    "sns.set_palette(custom)\n",
    "\n",
    "sns.pointplot(ax = ax, x = 'FormattedDate', y = 'Temperature', hue = 'Name', data = temps)\n",
    "sns.despine(left = True, bottom = True)\n",
    "\n",
    "plt.xlabel('')\n",
    "plt.xticks(rotation = 45, fontsize = 13)\n",
    "plt.yticks(fontsize = 13)\n",
    "plt.ylabel('Degrees Fahrenheit\\n', fontsize = 14)\n",
    "\n",
    "for label in ax.xaxis.get_ticklabels()[::2]:\n",
    "    label.set_visible(False)\n",
    "\n",
    "custom_lines = [Line2D([0], [0], marker='o', color = '#C62D42', lw=4),\n",
    "                Line2D([0], [0], marker='o', color = '#F2C649', lw=4),\n",
    "                Line2D([0], [0], marker='o', color = '#0095B7', lw=4)]\n",
    "ax.legend(custom_lines, ['High', 'Average', 'Low'])\n",
    "\n",
    "plt.title('\\nTemperatures by Appointment Day\\n', fontsize = 18, fontweight = 'bold')\n",
    "plt.show()"
   ]
  },
  {
   "cell_type": "code",
   "execution_count": null,
   "metadata": {},
   "outputs": [],
   "source": [
    "pd.concat([weather['temp_low'].describe(),\n",
    "           weather['temp_avg'].describe(),\n",
    "           weather['temp_high'].describe()],\n",
    "           axis=1)"
   ]
  },
  {
   "cell_type": "markdown",
   "metadata": {},
   "source": [
    "The temperature each day never got lower than 60, and was never higher than 92.  Most days the average temperature was in the mid-seventies."
   ]
  },
  {
   "cell_type": "markdown",
   "metadata": {},
   "source": [
    "##### Humidity"
   ]
  },
  {
   "cell_type": "code",
   "execution_count": null,
   "metadata": {},
   "outputs": [],
   "source": [
    "# Create humidity dataframe in long format for plot\n",
    "humidity = pd.melt(weather, id_vars = ['FormattedDate'],\n",
    "                value_vars=['humidity_high', 'humidity_avg', 'humidity_low'],\n",
    "                var_name = 'Name',\n",
    "                value_name= 'Humidity')"
   ]
  },
  {
   "cell_type": "code",
   "execution_count": null,
   "metadata": {},
   "outputs": [],
   "source": [
    "fig, ax = plt.subplots(figsize = (12, 8))\n",
    "\n",
    "sns.pointplot(ax = ax, x = 'FormattedDate', y = 'Humidity', hue = 'Name', data = humidity)\n",
    "sns.despine(left = True, bottom = True)\n",
    "\n",
    "plt.xlabel('')\n",
    "plt.xticks(rotation = 45, fontsize = 13)\n",
    "plt.yticks(fontsize = 13)\n",
    "plt.ylabel('')\n",
    "\n",
    "for label in ax.xaxis.get_ticklabels()[::2]:\n",
    "    label.set_visible(False)\n",
    "\n",
    "custom_lines = [Line2D([0], [0], marker='o', color = '#C62D42', lw=4),\n",
    "                Line2D([0], [0], marker='o', color = '#F2C649', lw=4),\n",
    "                Line2D([0], [0], marker='o', color = '#0095B7', lw=4)]\n",
    "ax.legend(custom_lines, ['High', 'Average', 'Low'], loc=2)\n",
    "\n",
    "plt.title('\\nPercent Humidity by Appointment Day\\n', fontsize = 18, fontweight = 'bold')\n",
    "plt.show()"
   ]
  },
  {
   "cell_type": "code",
   "execution_count": null,
   "metadata": {},
   "outputs": [],
   "source": [
    "pd.concat([weather['humidity_low'].describe(),\n",
    "           weather['humidity_avg'].describe(),\n",
    "           weather['humidity_high'].describe()],\n",
    "           axis=1)"
   ]
  },
  {
   "cell_type": "markdown",
   "metadata": {},
   "source": [
    "Humidity fluctuated a lot within each day; on some days the humidity ranged from around 30% to about 90%. Normally the humidity went from around 50% to 90%."
   ]
  },
  {
   "cell_type": "markdown",
   "metadata": {},
   "source": [
    "##### Visibility"
   ]
  },
  {
   "cell_type": "code",
   "execution_count": null,
   "metadata": {},
   "outputs": [],
   "source": [
    "# Create humidity dataframe in long format for plot\n",
    "visibility = pd.melt(weather, id_vars = ['FormattedDate'],\n",
    "                     value_vars=['visibility_high', 'visibility_avg', 'visibility_low'],\n",
    "                     var_name = 'Name',\n",
    "                     value_name= 'Visibility')"
   ]
  },
  {
   "cell_type": "code",
   "execution_count": null,
   "metadata": {},
   "outputs": [],
   "source": [
    "fig, ax = plt.subplots(figsize = (12, 8))\n",
    "\n",
    "sns.pointplot(ax = ax, x = 'FormattedDate', y = 'Visibility', hue = 'Name', data = visibility)\n",
    "sns.despine(left = True, bottom = True)\n",
    "\n",
    "plt.xlabel('')\n",
    "plt.xticks(rotation = 45, fontsize = 13)\n",
    "plt.yticks(fontsize = 13)\n",
    "plt.ylabel('Miles\\n', fontsize = 14)\n",
    "\n",
    "for label in ax.xaxis.get_ticklabels()[::2]:\n",
    "    label.set_visible(False)\n",
    "\n",
    "custom_lines = [Line2D([0], [0], marker='o', color = '#C62D42', lw=4),\n",
    "                Line2D([0], [0], marker='o', color = '#F2C649', lw=4),\n",
    "                Line2D([0], [0], marker='o', color = '#0095B7', lw=4)]\n",
    "ax.legend(custom_lines, ['High', 'Average', 'Low'])\n",
    "\n",
    "plt.title('\\nVisibility by Appointment Day\\n', fontsize = 18, fontweight = 'bold')\n",
    "plt.show()"
   ]
  },
  {
   "cell_type": "code",
   "execution_count": null,
   "metadata": {},
   "outputs": [],
   "source": [
    "pd.concat([weather['visibility_low'].describe(),\n",
    "           weather['visibility_avg'].describe(),\n",
    "           weather['visibility_high'].describe()],\n",
    "           axis=1)"
   ]
  },
  {
   "cell_type": "markdown",
   "metadata": {},
   "source": [
    "The visibility was always at least 2 miles, and the high was always 12 miles.  The average visibility has a lower standard deviation and was mostly from 6 to 8 miles."
   ]
  },
  {
   "cell_type": "markdown",
   "metadata": {},
   "source": [
    "##### Wind"
   ]
  },
  {
   "cell_type": "code",
   "execution_count": null,
   "metadata": {},
   "outputs": [],
   "source": [
    "wind = pd.melt(weather, id_vars = ['FormattedDate'],\n",
    "                value_vars=['wind_high', 'wind_avg'],\n",
    "                var_name = 'Name',\n",
    "                value_name= 'Wind')"
   ]
  },
  {
   "cell_type": "code",
   "execution_count": null,
   "metadata": {},
   "outputs": [],
   "source": [
    "fig, ax = plt.subplots(figsize = (12, 8))\n",
    "\n",
    "sns.pointplot(ax = ax, x = 'FormattedDate', y = 'Wind', hue = 'Name', data = wind)\n",
    "sns.despine(left = True, bottom = True)\n",
    "\n",
    "plt.xlabel('')\n",
    "plt.xticks(rotation = 45, fontsize = 13)\n",
    "plt.yticks(fontsize = 13)\n",
    "plt.ylabel('Miles per hour\\n', fontsize = 14)\n",
    "\n",
    "for label in ax.xaxis.get_ticklabels()[::2]:\n",
    "    label.set_visible(False)\n",
    "\n",
    "custom_lines = [Line2D([0], [0], marker='o', color = '#C62D42', lw=4),\n",
    "                Line2D([0], [0], marker='o', color = '#F2C649', lw=4)]\n",
    "ax.legend(custom_lines, ['High', 'Average'], loc=2)\n",
    "\n",
    "plt.title('\\nWind by Appointment Day\\n', fontsize = 18, fontweight = 'bold')\n",
    "plt.show()"
   ]
  },
  {
   "cell_type": "code",
   "execution_count": null,
   "metadata": {},
   "outputs": [],
   "source": [
    "pd.concat([weather['wind_avg'].describe(),\n",
    "           weather['wind_high'].describe()],\n",
    "           axis=1)"
   ]
  },
  {
   "cell_type": "markdown",
   "metadata": {},
   "source": [
    "According to the [National Weather Service](https://www.weather.gov/bgm/forecast_terms), 15-25 mph is breezy and 20-30 mph is windy.  The average wind each day is considered \"no wind,\" while the high is normally considered breezy. "
   ]
  },
  {
   "cell_type": "markdown",
   "metadata": {},
   "source": [
    "<a id='by_attendance'></a>"
   ]
  },
  {
   "cell_type": "markdown",
   "metadata": {},
   "source": [
    "### By Attendance"
   ]
  },
  {
   "cell_type": "code",
   "execution_count": null,
   "metadata": {},
   "outputs": [],
   "source": [
    "# Create separate dataframes for no shows and shows\n",
    "no_shows = df[df['NoShow'] == 1]\n",
    "shows = df[df['NoShow'] == 0]"
   ]
  },
  {
   "cell_type": "markdown",
   "metadata": {},
   "source": [
    "#### Patient Characteristics & SMS Received"
   ]
  },
  {
   "cell_type": "code",
   "execution_count": null,
   "metadata": {},
   "outputs": [],
   "source": [
    "# Plot binary patient characteristics & SMS Received by attendance - not aggregated (by individual appointment)\n",
    "sns.set_palette(\"tab10\")\n",
    "\n",
    "fields = ['Gender', 'BolsaFamilia', 'Alcoholism', 'Diabetes', 'Hypertension', 'SMSReceived']\n",
    "xlabels = ['Gender', 'Bolsa Familia', 'Alcoholism', 'Diabetes', 'Hypertension', 'SMS Received']\n",
    "gender_labels = ['Male', 'Female']\n",
    "labels = ['No', 'Yes']\n",
    "\n",
    "fig, axes = plt.subplots(1, 6, figsize = (15, 5), sharey = True)\n",
    "\n",
    "i = 0\n",
    "for ax in axes.reshape(-1):\n",
    "    sns.countplot(ax = ax, x = fields[i], hue = 'NoShow', data = df)\n",
    "    sns.set_style(\"white\")\n",
    "    ax.tick_params(length = 0)\n",
    "    ax.legend_.remove()\n",
    "    sns.despine(left = True, bottom = True)\n",
    "    if i == 0:\n",
    "        ax.set(xticklabels=['Male', 'Female'])\n",
    "        ax.set(xlabel = xlabels[i], ylabel = '')\n",
    "    else:\n",
    "        ax.set(xticklabels=['No', 'Yes'])\n",
    "        ax.set(xlabel = xlabels[i], ylabel = '')\n",
    "    if i == 2:\n",
    "        ax.set_title('\\nPatient Characteristics by Attendance\\n', fontsize = 18, fontweight = 'bold')\n",
    "    \n",
    "    i += 1\n",
    "    \n",
    "custom_lines = [Line2D([0], [0], color = 'steelblue', lw=8),\n",
    "                Line2D([0], [0], color = 'darkorange', lw=8)]\n",
    "ax.legend(custom_lines, ['Showed Up', 'No Show'])\n",
    "plt.show()"
   ]
  },
  {
   "cell_type": "code",
   "execution_count": null,
   "metadata": {},
   "outputs": [],
   "source": [
    "prop_fields = ['Gender', 'BolsaFamilia', 'Alcoholism', 'Diabetes', 'Hypertension', \n",
    "               'SMSReceived', 'NumHandicaps', 'DayOfWeek', 'Weekend', 'Neighborhood',\n",
    "               'NumTimesScheduled', 'DayDiffBin', 'DayBWBin', 'rain', 'thunderstorm',\n",
    "               'fog', 'precip_in', 'humidity_high', 'humidity_avg', 'visibility_low',\n",
    "               'wind_avg', 'wind_high', 'temp_high', 'temp_low', 'temp_avg', 'DayOfWeek',\n",
    "               'Weekend']\n",
    "\n",
    "# create dictionary of dataframes of proportions of no shows for each field\n",
    "no_show_props = {}\n",
    "for field in prop_fields:\n",
    "    no_show_props[field] = (df.groupby([field,'NoShow'])['NoShow'].count()/\n",
    "                            df.groupby(field)['NoShow'].count()).rename('prop').reset_index()\n",
    "    no_show_props[field] = no_show_props[field][no_show_props[field]['NoShow'] == 1] # only keep no shows\n",
    "    \n",
    "freq_fields = ['Gender', 'BolsaFamilia', 'Alcoholism', 'Diabetes', 'Hypertension', \n",
    "               'SMSReceived', 'rain', 'thunderstorm', 'fog']\n",
    "\n",
    "# create dictionary of dataframes of frequencies of no shows for each field as arrays\n",
    "no_show_freqs = {}\n",
    "for field in freq_fields:\n",
    "    counts = df.groupby([field,'NoShow'])['NoShow'].count()\n",
    "    no_show_freqs[field] = np.array(counts.sort_index(ascending = False)).reshape(2,2)\n",
    "    \n",
    "# create dictionary of dataframes of frequencies of no shows for each field as arrays for graph labels\n",
    "freqs_labels = {}\n",
    "for field in prop_fields:\n",
    "    counts = df.groupby([field,'NoShow'])['NoShow'].count().rename('count').reset_index()\n",
    "    # only keep no shows\n",
    "    counts = counts[counts['NoShow'] == 1]\n",
    "    freqs_labels[field] = np.array(counts['count'])"
   ]
  },
  {
   "cell_type": "code",
   "execution_count": null,
   "metadata": {},
   "outputs": [],
   "source": [
    "# Plot proportion of no shows by binary patient characteristics\n",
    "fig, axes = plt.subplots(1, 6, figsize = (15, 5), sharey = True)\n",
    "\n",
    "i = 0\n",
    "for ax in axes.reshape(-1):\n",
    "    sns.barplot(ax = ax, x = fields[i], y = 'prop', hue = 'NoShow', data = no_show_props[fields[i]]);\n",
    "    sns.set_style(\"white\")\n",
    "    ax.tick_params(length = 0)\n",
    "    ax.legend_.remove()\n",
    "    sns.despine(left = True, bottom = True)\n",
    "    ax.set(yticklabels='')\n",
    "    if i == 0:\n",
    "        ax.set(xticklabels=['Male', 'Female'])\n",
    "        ax.set(xlabel = xlabels[i], ylabel = '')\n",
    "    else:\n",
    "        ax.set(xticklabels=['No', 'Yes'])\n",
    "        ax.set(xlabel = xlabels[i], ylabel = '')\n",
    "    if i == 2:\n",
    "        ax.set_title('\\n' + ' '*30 + 'Proportion of No Shows by Patient Characteristics\\n\\n', fontsize = 18,\n",
    "                     fontweight = 'bold')\n",
    "    \n",
    "    j = 0\n",
    "    for p in ax.patches:\n",
    "        height = p.get_height()\n",
    "        ax.text(p.get_x() + p.get_width()/2.,\n",
    "                height + 0.01,\n",
    "                '{:0.3f}\\nn={}'.format(height, freqs_labels[fields[i]][j]),\n",
    "                ha=\"center\")\n",
    "        j +=1\n",
    "    i += 1\n",
    "plt.show()"
   ]
  },
  {
   "cell_type": "markdown",
   "metadata": {},
   "source": [
    "#### Age"
   ]
  },
  {
   "cell_type": "code",
   "execution_count": null,
   "metadata": {},
   "outputs": [],
   "source": [
    "fig, ax = plt.subplots(figsize=(12, 8))\n",
    "ax.hist([no_shows['Age'].values, shows['Age'].values], bins=list(range(0, 120, 5)), normed=True)\n",
    "sns.despine(left = True, bottom = True)\n",
    "custom_lines = [Line2D([0], [0], color = 'steelblue', lw=8),\n",
    "                Line2D([0], [0], color = 'darkorange', lw=8)]\n",
    "ax.legend(custom_lines, ['Showed Up', 'No Show'])\n",
    "plt.title('\\nProportion of Attendance Type by Patient Age\\n', fontsize = 18, fontweight = 'bold')\n",
    "plt.xticks(np.arange(0, 120, 10))\n",
    "plt.show();"
   ]
  },
  {
   "cell_type": "markdown",
   "metadata": {},
   "source": [
    "#### Number of Handicaps"
   ]
  },
  {
   "cell_type": "code",
   "execution_count": null,
   "metadata": {},
   "outputs": [],
   "source": [
    "fig, ax = plt.subplots(1, 1, figsize = (8, 5))\n",
    "sns.barplot(x = 'NumHandicaps', y = 'prop', data = no_show_props['NumHandicaps'], color = 'steelblue');\n",
    "sns.despine(left = True, bottom = True)\n",
    "plt.title('\\nProportion of No Shows by Number of Patient Handicaps\\n', fontsize = 18, fontweight = 'bold')\n",
    "plt.xlabel('')\n",
    "plt.ylabel('')\n",
    "ax.set(yticklabels='')\n",
    "plt.axhline(y=no_show_rate, color = 'gold')\n",
    "\n",
    "j = 0\n",
    "for p in ax.patches:\n",
    "    height = p.get_height()\n",
    "    ax.text(p.get_x() + p.get_width()/2.,\n",
    "            height + 0.01,\n",
    "            '{:0.3f}\\nn={}'.format(height, freqs_labels['NumHandicaps'][j]),\n",
    "            ha=\"center\")\n",
    "    j +=1\n",
    "    \n",
    "plt.show();"
   ]
  },
  {
   "cell_type": "markdown",
   "metadata": {},
   "source": [
    "#### Appointment Day"
   ]
  },
  {
   "cell_type": "code",
   "execution_count": null,
   "metadata": {},
   "outputs": [],
   "source": [
    "no_shows_weekdays = no_shows[no_shows['Weekend'] == 0]\n",
    "shows_weekdays = shows[shows['Weekend'] == 0]\n",
    "\n",
    "# Number of no shows, shows by appointment day - excluding weekends\n",
    "no_shows_by_day = no_shows_weekdays.groupby('AppointmentDay')['AppointmentDay'].count()\n",
    "shows_by_day = shows_weekdays.groupby('AppointmentDay')['AppointmentDay'].count()\n",
    "\n",
    "# Exclude weekends and weekdays with no appointments\n",
    "fig, ax1 = plt.subplots(figsize = (12, 8))\n",
    "ax2 = ax1.twinx()\n",
    "\n",
    "ax1.plot(shows_by_day, linewidth = 2)\n",
    "ax2.plot(no_shows_by_day, linewidth = 2, color = 'darkorange')\n",
    "\n",
    "# cannot despine, it moves the second y-axis to the left\n",
    "dirs = ['bottom', 'top', 'right', 'left']\n",
    "\n",
    "for d in dirs:\n",
    "    ax1.spines[d].set_color('white')\n",
    "    ax2.spines[d].set_color('white')\n",
    "    \n",
    "plt.title('\\nNumber of Shows and No Shows by Day\\n', fontsize = 18, fontweight = 'bold')\n",
    "plt.xlabel('');"
   ]
  },
  {
   "cell_type": "code",
   "execution_count": null,
   "metadata": {},
   "outputs": [],
   "source": [
    "fig, ax = plt.subplots(figsize = (8, 5))\n",
    "sns.barplot(x = 'DayOfWeek', y = 'prop', data = no_show_props['DayOfWeek'], color = 'steelblue');\n",
    "\n",
    "ax.set(xticklabels = days_of_week)\n",
    "sns.despine(left = True, bottom = True)\n",
    "plt.xticks(rotation = 0)\n",
    "plt.xlabel('')\n",
    "plt.ylabel('')\n",
    "ax.set(yticklabels='')\n",
    "plt.axhline(y=no_show_rate, color = 'gold')\n",
    "\n",
    "j = 0\n",
    "for p in ax.patches:\n",
    "    height = p.get_height()\n",
    "    ax.text(p.get_x() + p.get_width()/2.,\n",
    "            height + 0.003,\n",
    "            '{:0.3f}\\nn={}'.format(height, freqs_labels['DayOfWeek'][j]),\n",
    "            ha=\"center\")\n",
    "    j +=1\n",
    "    \n",
    "plt.title('\\nProportion of No Shows\\nby Day of Week of Appointment\\n', fontsize = 18, fontweight = 'bold');"
   ]
  },
  {
   "cell_type": "code",
   "execution_count": null,
   "metadata": {},
   "outputs": [],
   "source": [
    "fig, ax = plt.subplots(figsize = (8, 5))\n",
    "sns.barplot(x = 'Weekend', y = 'prop', data = no_show_props['Weekend'], color = 'steelblue');\n",
    "\n",
    "ax.set(xticklabels = ['Weekday', 'Weekend'])\n",
    "sns.despine(left = True, bottom = True)\n",
    "plt.xticks(rotation = 0)\n",
    "plt.xlabel('')\n",
    "plt.ylabel('')\n",
    "ax.set(yticklabels='')\n",
    "plt.axhline(y=no_show_rate, color = 'gold')\n",
    "\n",
    "j = 0\n",
    "for p in ax.patches:\n",
    "    height = p.get_height()\n",
    "    ax.text(p.get_x() + p.get_width()/2.,\n",
    "            height + 0.003,\n",
    "            '{:0.3f}\\nn={}'.format(height, freqs_labels['Weekend'][j]),\n",
    "            ha=\"center\")\n",
    "    j +=1\n",
    "    \n",
    "plt.title('\\nProportion of No Shows\\nby Weekday and Weekend\\n', fontsize = 18, fontweight = 'bold');"
   ]
  },
  {
   "cell_type": "markdown",
   "metadata": {},
   "source": [
    "#### Neighborhood"
   ]
  },
  {
   "cell_type": "code",
   "execution_count": null,
   "metadata": {},
   "outputs": [],
   "source": [
    "no_show_props['Neighborhood'] = no_show_props['Neighborhood'].sort_values(by = 'prop', ascending = False)\n",
    "\n",
    "fig, ax = plt.subplots(figsize = (10, 15))\n",
    "sns.barplot(x = 'prop', y = 'Neighborhood', data = no_show_props['Neighborhood'], color = 'steelblue');\n",
    "\n",
    "sns.despine(left = True, bottom = True)\n",
    "plt.xticks(rotation = 0)\n",
    "plt.yticks(fontsize = 12)\n",
    "plt.xlabel('')\n",
    "plt.ylabel('')\n",
    "    \n",
    "plt.title('\\nProportion of No Shows\\nby Neighborhood\\n', fontsize = 18, fontweight = 'bold');"
   ]
  },
  {
   "cell_type": "code",
   "execution_count": null,
   "metadata": {},
   "outputs": [],
   "source": [
    "# there were only two appointments at this location and they were both no shows\n",
    "df[df['Neighborhood'] == 'ILHAS OCEÂNICAS DE TRINDADE']"
   ]
  },
  {
   "cell_type": "code",
   "execution_count": null,
   "metadata": {},
   "outputs": [],
   "source": [
    "# Do not include ILHAS OCEÂNICAS DE TRINDADE in plot\n",
    "no_show_props_to_plot = no_show_props['Neighborhood'][no_show_props['Neighborhood']\\\n",
    "                                                      ['Neighborhood'] != 'ILHAS OCEÂNICAS DE TRINDADE']\n",
    "no_show_props_to_plot = no_show_props_to_plot.sort_values(by = 'prop', ascending = False)\n",
    "\n",
    "fig, ax = plt.subplots(figsize = (10, 15))\n",
    "sns.barplot(x = 'prop', y = 'Neighborhood', data = no_show_props_to_plot, color = 'steelblue');\n",
    "\n",
    "sns.despine(left = True, bottom = True)\n",
    "plt.xlabel('')\n",
    "plt.ylabel('')\n",
    "plt.yticks(fontsize = 12)\n",
    "plt.xticks(np.arange(0, 0.35, 0.05))\n",
    "plt.axvline(x=no_show_rate, color = 'gold')\n",
    "\n",
    "plt.title('\\nProportion of No Shows\\nby Neighborhood\\n', fontsize = 18, fontweight = 'bold');"
   ]
  },
  {
   "cell_type": "markdown",
   "metadata": {},
   "source": [
    "#### Days Between Scheduling and Appointment"
   ]
  },
  {
   "cell_type": "code",
   "execution_count": null,
   "metadata": {},
   "outputs": [],
   "source": [
    "# Create a column for the sorting order\n",
    "no_show_props['DayDiffBin']['sort_order'] = no_show_props['DayDiffBin']['DayDiffBin'].map(day_diff_sorter)\n",
    "no_show_props['DayDiffBin'].sort_values(by = 'sort_order')\n",
    "no_show_props['DayDiffBin']\n",
    "\n",
    "fig, ax = plt.subplots(figsize = (8, 5))\n",
    "sns.barplot(x = 'sort_order', y = 'prop', data = no_show_props['DayDiffBin'], color = 'steelblue');\n",
    "ax.set(xticklabels=day_diff_bin_labels)\n",
    "\n",
    "sns.despine(left = True, bottom = True)\n",
    "plt.xticks(rotation = 0)\n",
    "plt.xlabel('')\n",
    "plt.ylabel('')\n",
    "ax.set(yticklabels='')\n",
    "ax.axhline(y = no_show_rate, color = 'gold')\n",
    "\n",
    "j = 0\n",
    "# sorter list for the count labels\n",
    "day_diff_sorter_list = [0, 1, 5, 6, 8, 3, 4, 7, 9, 2]\n",
    "for p in ax.patches:\n",
    "    height = p.get_height()\n",
    "    ax.text(p.get_x() + p.get_width()/2.,\n",
    "            height + 0.003,\n",
    "            '{:0.3f}\\nn={}'.format(height, freqs_labels['DayDiffBin'][day_diff_sorter_list][j]),\n",
    "            ha=\"center\")\n",
    "    j +=1\n",
    "    \n",
    "plt.title('\\nProportion of No Shows\\nby Number of Days Between Scheduling and Appointment\\n',\n",
    "          fontsize = 18, fontweight = 'bold');"
   ]
  },
  {
   "cell_type": "markdown",
   "metadata": {},
   "source": [
    "#### Number of Times an Appointment was Scheduled"
   ]
  },
  {
   "cell_type": "code",
   "execution_count": null,
   "metadata": {},
   "outputs": [],
   "source": [
    "no_show_props['NumTimesScheduled']"
   ]
  },
  {
   "cell_type": "code",
   "execution_count": null,
   "metadata": {},
   "outputs": [],
   "source": [
    "df[df['NumTimesScheduled'] >= 8]"
   ]
  },
  {
   "cell_type": "markdown",
   "metadata": {},
   "source": [
    "There is only one appointment that was scheduled eight times, and the patient did not show up for it.  Hence this record was excluded from the plot, in order to better focus on the differences in proportions for the other number of times scheduled.\n",
    "\n",
    "There was also one appointment that scheduled ten times that the patient showed up for.  This was also excluded from the plot since a sample size of one is not adequate to use to make conclusions."
   ]
  },
  {
   "cell_type": "code",
   "execution_count": null,
   "metadata": {},
   "outputs": [],
   "source": [
    "num_sched_to_plot = no_show_props['NumTimesScheduled'][no_show_props['NumTimesScheduled']['NumTimesScheduled'] <= 6]"
   ]
  },
  {
   "cell_type": "code",
   "execution_count": null,
   "metadata": {},
   "outputs": [],
   "source": [
    "fig, ax = plt.subplots(figsize = (8, 5))\n",
    "sns.barplot(x = 'NumTimesScheduled', y = 'prop', data = num_sched_to_plot, color = 'steelblue');\n",
    "\n",
    "sns.despine(left = True, bottom = True)\n",
    "plt.xticks(rotation = 0)\n",
    "plt.xlabel('')\n",
    "plt.ylabel('')\n",
    "ax.set(yticklabels='')\n",
    "ax.axhline(y = no_show_rate, color = 'gold')\n",
    "\n",
    "j = 0\n",
    "for p in ax.patches:\n",
    "    height = p.get_height()\n",
    "    ax.text(p.get_x() + p.get_width()/2.,\n",
    "            height + 0.003,\n",
    "            '{:0.3f}\\nn={}'.format(height, freqs_labels['NumTimesScheduled'][j]),\n",
    "            ha=\"center\")\n",
    "    j +=1\n",
    "    \n",
    "plt.title('\\nProportion of No Shows\\nby Number of Times Scheduled\\n',\n",
    "          fontsize = 18, fontweight = 'bold');"
   ]
  },
  {
   "cell_type": "markdown",
   "metadata": {},
   "source": [
    "#### Days Between Rescheduling"
   ]
  },
  {
   "cell_type": "code",
   "execution_count": null,
   "metadata": {},
   "outputs": [],
   "source": [
    "# Create a column for the sorting order\n",
    "no_show_props['DayBWBin']['sort_order'] = no_show_props['DayBWBin']['DayBWBin'].map(day_bw_sorter)\n",
    "no_show_props['DayBWBin'].sort_values(by = 'sort_order')\n",
    "no_show_props['DayBWBin']\n",
    "\n",
    "fig, ax = plt.subplots(figsize = (8, 5))\n",
    "sns.barplot(x = 'sort_order', y = 'prop', data = no_show_props['DayBWBin'], color = 'steelblue');\n",
    "\n",
    "sns.despine(left = True, bottom = True)\n",
    "plt.xticks(rotation = 0)\n",
    "plt.xlabel('')\n",
    "plt.ylabel('')\n",
    "ax.set(xticklabels=day_bw_labels)\n",
    "ax.set(yticklabels='')\n",
    "ax.axhline(y = no_show_rate, color = 'gold')\n",
    "j = 0\n",
    "\n",
    "day_bw_sorter_list = [0, 9, 1, 4, 5, 7, 2, 3, 6, 8]\n",
    "for p in ax.patches:\n",
    "    height = p.get_height()\n",
    "    ax.text(p.get_x() + p.get_width()/2.,\n",
    "            height + 0.003,\n",
    "            '{:0.3f}\\nn={}'.format(height, freqs_labels['DayBWBin'][day_bw_sorter_list][j]),\n",
    "            ha=\"center\")\n",
    "    j +=1\n",
    "    \n",
    "plt.title('\\nProportion of No Shows\\nby Days Between Rescheduling\\n',\n",
    "          fontsize = 18, fontweight = 'bold');"
   ]
  },
  {
   "cell_type": "code",
   "execution_count": null,
   "metadata": {},
   "outputs": [],
   "source": []
  },
  {
   "cell_type": "code",
   "execution_count": null,
   "metadata": {},
   "outputs": [],
   "source": []
  },
  {
   "cell_type": "code",
   "execution_count": null,
   "metadata": {},
   "outputs": [],
   "source": []
  },
  {
   "cell_type": "code",
   "execution_count": null,
   "metadata": {},
   "outputs": [],
   "source": []
  },
  {
   "cell_type": "code",
   "execution_count": null,
   "metadata": {},
   "outputs": [],
   "source": []
  },
  {
   "cell_type": "code",
   "execution_count": null,
   "metadata": {},
   "outputs": [],
   "source": []
  },
  {
   "cell_type": "code",
   "execution_count": null,
   "metadata": {},
   "outputs": [],
   "source": []
  },
  {
   "cell_type": "code",
   "execution_count": null,
   "metadata": {},
   "outputs": [],
   "source": []
  },
  {
   "cell_type": "code",
   "execution_count": null,
   "metadata": {},
   "outputs": [],
   "source": []
  },
  {
   "cell_type": "code",
   "execution_count": null,
   "metadata": {},
   "outputs": [],
   "source": []
  },
  {
   "cell_type": "code",
   "execution_count": null,
   "metadata": {},
   "outputs": [],
   "source": []
  },
  {
   "cell_type": "code",
   "execution_count": null,
   "metadata": {},
   "outputs": [],
   "source": []
  }
 ],
 "metadata": {
  "kernelspec": {
   "display_name": "Python 3",
   "language": "python",
   "name": "python3"
  },
  "language_info": {
   "codemirror_mode": {
    "name": "ipython",
    "version": 3
   },
   "file_extension": ".py",
   "mimetype": "text/x-python",
   "name": "python",
   "nbconvert_exporter": "python",
   "pygments_lexer": "ipython3",
   "version": "3.6.4"
  }
 },
 "nbformat": 4,
 "nbformat_minor": 2
}
