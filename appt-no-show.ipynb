{
 "cells": [
  {
   "cell_type": "markdown",
   "metadata": {},
   "source": [
    "# Predicting Doctor Appointment No-Shows\n",
    "***\n",
    "\n",
    "## Table of Contents\n",
    "* [Reloading](#reloading)\n",
    "* [Introduction](#introduction)\n",
    "* [Data Wrangling](#data_wrangling)\n",
    "    * [General Properties](#general_properties)\n",
    "    * [Data Cleaning](#data_cleaning)\n",
    "        * [Checking for Duplicates](#cleaning_duplicates)\n",
    "        * [Appointment ID](#cleaning_appointment_id)\n",
    "        * [Scheduled Day](#cleaning_scheduled_day)\n",
    "        * [Appointment Day](#cleaning_appointment_day)\n",
    "        * [Gender](#cleaning_gender)\n",
    "        * [Age](#cleaning_age)\n",
    "        * [Bolsa Familia](#cleaning_bolsa_familia)\n",
    "        * [Hypertension](#cleaning_hypertension)\n",
    "        * [Diabetes](#cleaning_diabetes)\n",
    "        * [Number of Handicaps](#cleaning_number_handicaps)\n",
    "        * [SMS Received](#cleaning_sms_received)\n",
    "        * [No Show](#cleaning_no_show)\n",
    "        * [Neighborhood](#cleaning_neighborhood)\n",
    "        * [Patient ID](#cleaning_patient_id)\n",
    "            * [Patient ID Consistency](#cleaning_patient_id_consistency)\n",
    "* [Additional Data](#addtl_data)\n",
    "* [Feature Engineering](#feat_engineering)\n",
    "* [Initial Exploration and Further Cleaning](#further_cleaning)\n",
    "* [Exploratory Data Analysis](#eda)\n",
    "    * [Univariate](#univariate)\n",
    "    * [By Attendance](#by_attendance)"
   ]
  },
  {
   "cell_type": "markdown",
   "metadata": {},
   "source": [
    "<a id='introduction'></a>"
   ]
  },
  {
   "cell_type": "markdown",
   "metadata": {},
   "source": [
    "## Introduction\n",
    "***"
   ]
  },
  {
   "cell_type": "markdown",
   "metadata": {
    "collapsed": true
   },
   "source": [
    "In this project, my aim is to determine what patient characteristics are connected with not showing up to a doctor's appointment by analyzing a data set of over 110K medical appointments in Vitória, Espírito Santo, Brazil provided by JoniHoppen on [Kaggle](https://www.kaggle.com/joniarroba/noshowappointments)."
   ]
  },
  {
   "cell_type": "markdown",
   "metadata": {},
   "source": [
    "<a id='data_wrangling'></a>"
   ]
  },
  {
   "cell_type": "markdown",
   "metadata": {},
   "source": [
    "## Data Wrangling\n",
    "***"
   ]
  },
  {
   "cell_type": "code",
   "execution_count": null,
   "metadata": {},
   "outputs": [],
   "source": [
    "import pandas as pd\n",
    "import numpy as np\n",
    "import geocoder\n",
    "import matplotlib.pyplot as plt\n",
    "import matplotlib.dates as mdates\n",
    "from matplotlib.lines import Line2D\n",
    "import matplotlib\n",
    "import seaborn as sns\n",
    "import folium\n",
    "from folium.plugins import HeatMap\n",
    "import scipy.stats as stats\n",
    "from scipy.stats import chi2_contingency\n",
    "from datetime import timedelta\n",
    "import config\n",
    "API_KEY = config.api_key"
   ]
  },
  {
   "cell_type": "code",
   "execution_count": null,
   "metadata": {},
   "outputs": [],
   "source": [
    "matplotlib.rcParams.update({'font.size': 12.5})"
   ]
  },
  {
   "cell_type": "markdown",
   "metadata": {},
   "source": [
    "<a id='general_properties'></a>"
   ]
  },
  {
   "cell_type": "markdown",
   "metadata": {},
   "source": [
    "### General Properties"
   ]
  },
  {
   "cell_type": "code",
   "execution_count": null,
   "metadata": {},
   "outputs": [],
   "source": [
    "orig = pd.read_csv('KaggleV2-May-2016.csv')\n",
    "orig.head()"
   ]
  },
  {
   "cell_type": "code",
   "execution_count": null,
   "metadata": {},
   "outputs": [],
   "source": [
    "# Number of records\n",
    "n = len(orig)\n",
    "n"
   ]
  },
  {
   "cell_type": "code",
   "execution_count": null,
   "metadata": {},
   "outputs": [],
   "source": [
    "# Rename fields to have more consistent formatting and to English where appropriate\n",
    "orig.columns = ['PatientID', 'AppointmentID', 'Gender', 'ScheduledDay',\n",
    "              'AppointmentDay', 'Age', 'Neighborhood', 'BolsaFamilia', \\\n",
    "              'Hypertension', 'Diabetes', 'Alcoholism', 'NumHandicaps', \\\n",
    "              'SMSReceived', 'NoShow']"
   ]
  },
  {
   "cell_type": "code",
   "execution_count": null,
   "metadata": {},
   "outputs": [],
   "source": [
    "# Number of nulls\n",
    "orig.isnull().sum()"
   ]
  },
  {
   "cell_type": "markdown",
   "metadata": {},
   "source": [
    "> There are no null records in any of the fields"
   ]
  },
  {
   "cell_type": "code",
   "execution_count": null,
   "metadata": {},
   "outputs": [],
   "source": [
    "# Data types\n",
    "orig.dtypes"
   ]
  },
  {
   "cell_type": "markdown",
   "metadata": {},
   "source": [
    "<a id='data_cleaning'></a>"
   ]
  },
  {
   "cell_type": "markdown",
   "metadata": {},
   "source": [
    "### Data Cleaning"
   ]
  },
  {
   "cell_type": "markdown",
   "metadata": {},
   "source": [
    "<a id='cleaning_duplicates'></a>"
   ]
  },
  {
   "cell_type": "markdown",
   "metadata": {},
   "source": [
    "#### Checking for Duplicates"
   ]
  },
  {
   "cell_type": "code",
   "execution_count": null,
   "metadata": {},
   "outputs": [],
   "source": [
    "orig.duplicated(keep=False).any()"
   ]
  },
  {
   "cell_type": "code",
   "execution_count": null,
   "metadata": {},
   "outputs": [],
   "source": [
    "orig.duplicated('AppointmentID', keep=False).any()"
   ]
  },
  {
   "cell_type": "markdown",
   "metadata": {},
   "source": [
    "> There are no duplicate entries and no duplicate AppointmentIDs."
   ]
  },
  {
   "cell_type": "markdown",
   "metadata": {},
   "source": [
    "<a id='cleaning_appointment_id'></a>"
   ]
  },
  {
   "cell_type": "markdown",
   "metadata": {},
   "source": [
    "#### Appointment ID"
   ]
  },
  {
   "cell_type": "code",
   "execution_count": null,
   "metadata": {},
   "outputs": [],
   "source": [
    "min_apptID = orig['AppointmentID'].min()\n",
    "max_apptID = orig['AppointmentID'].max()\n",
    "print('{} - {}'.format(min_apptID, max_apptID))"
   ]
  },
  {
   "cell_type": "markdown",
   "metadata": {},
   "source": [
    "> All of the appointment IDs are 7 digits long, and are between these values"
   ]
  },
  {
   "cell_type": "code",
   "execution_count": null,
   "metadata": {},
   "outputs": [],
   "source": [
    "# AppointmentIDs are identifiers, so they are also converted to strings\n",
    "orig['AppointmentID'] = orig['AppointmentID'].astype(str)"
   ]
  },
  {
   "cell_type": "markdown",
   "metadata": {},
   "source": [
    "<a id='cleaning_scheduled_day'></a>"
   ]
  },
  {
   "cell_type": "markdown",
   "metadata": {},
   "source": [
    "#### Scheduled Day\n",
    "ScheduledDay represents the day that a patient created the appointment."
   ]
  },
  {
   "cell_type": "code",
   "execution_count": null,
   "metadata": {},
   "outputs": [],
   "source": [
    "# Convert the scheduled day to a datetime\n",
    "orig['ScheduledDay'] = pd.to_datetime(orig['ScheduledDay'])\n",
    "\n",
    "# Verify that ScheduledDay is in a datetime format\n",
    "orig['ScheduledDay'].dtype"
   ]
  },
  {
   "cell_type": "code",
   "execution_count": null,
   "metadata": {},
   "outputs": [],
   "source": [
    "# Check that the <M8[ns] is a datetime format\n",
    "np.dtype('datetime64[ns]') == np.dtype('<M8[ns]')"
   ]
  },
  {
   "cell_type": "code",
   "execution_count": null,
   "metadata": {},
   "outputs": [],
   "source": [
    "# Verify that all records were converted to valid datetimes\n",
    "np.isnat(orig['ScheduledDay']).sum()"
   ]
  },
  {
   "cell_type": "code",
   "execution_count": null,
   "metadata": {},
   "outputs": [],
   "source": [
    "# Include a field for scheduled day in a date format\n",
    "orig['ScheduledDayDate'] = orig['ScheduledDay'].dt.date"
   ]
  },
  {
   "cell_type": "code",
   "execution_count": null,
   "metadata": {},
   "outputs": [],
   "source": [
    "# The first date and time an appointment was scheduled \n",
    "np.min(orig['ScheduledDay'])"
   ]
  },
  {
   "cell_type": "code",
   "execution_count": null,
   "metadata": {},
   "outputs": [],
   "source": [
    "# The last date and time an appointment was scheduled \n",
    "np.max(orig['ScheduledDay'])"
   ]
  },
  {
   "cell_type": "code",
   "execution_count": null,
   "metadata": {},
   "outputs": [],
   "source": [
    "np.max(orig['ScheduledDay']) - np.min(orig['ScheduledDay'])"
   ]
  },
  {
   "cell_type": "markdown",
   "metadata": {},
   "source": [
    "> All appointments are created within an about 7-month time frame."
   ]
  },
  {
   "cell_type": "code",
   "execution_count": null,
   "metadata": {},
   "outputs": [],
   "source": [
    "# Create a field for the hour the appointment was scheduled rounded to the nearest hour\n",
    "def round_time(dt, roundTo=60*60, fmt='%-H'):\n",
    "    # Author: Thierry Husson 2012\n",
    "    dt = dt.to_pydatetime()\n",
    "    seconds = (dt.replace(tzinfo=None) - dt.min).seconds\n",
    "    rounding = (seconds+roundTo/2) // roundTo * roundTo\n",
    "    time = dt + timedelta(0,rounding-seconds,-dt.microsecond)\n",
    "    return int(time.strftime(fmt))\n",
    "\n",
    "orig['ScheduledHour'] = orig['ScheduledDay'].apply(lambda x: round_time(x))"
   ]
  },
  {
   "cell_type": "code",
   "execution_count": null,
   "metadata": {},
   "outputs": [],
   "source": [
    "hour_counts = orig['ScheduledHour'].value_counts()\n",
    "hour_counts.sort_index()"
   ]
  },
  {
   "cell_type": "markdown",
   "metadata": {},
   "source": [
    "Most of the appointments were made during the morning and a much smaller portion were made after 6pm."
   ]
  },
  {
   "cell_type": "markdown",
   "metadata": {},
   "source": [
    "<a id='cleaning_appointment_day'></a>"
   ]
  },
  {
   "cell_type": "markdown",
   "metadata": {},
   "source": [
    "#### Appointment Day\n",
    "AppointmentDay is the day of the doctor's appointment."
   ]
  },
  {
   "cell_type": "code",
   "execution_count": null,
   "metadata": {},
   "outputs": [],
   "source": [
    "# Convert the appointment day to a datetime\n",
    "orig['AppointmentDay'] = pd.to_datetime(orig['AppointmentDay'])\n",
    "\n",
    "# Verify that AppointmentDay is in a datetime format\n",
    "orig['AppointmentDay'].dtype"
   ]
  },
  {
   "cell_type": "code",
   "execution_count": null,
   "metadata": {},
   "outputs": [],
   "source": [
    "# Verify that all records were converted to valid datetimes\n",
    "np.isnat(orig['AppointmentDay']).sum()"
   ]
  },
  {
   "cell_type": "code",
   "execution_count": null,
   "metadata": {},
   "outputs": [],
   "source": [
    "# Since appointment day doesn't have a time, include another field for \n",
    "# it in a date format\n",
    "orig['AppointmentDayDate'] = orig['AppointmentDay'].dt.date\n",
    "\n",
    "# The first scheduled appointment\n",
    "np.min(orig['AppointmentDay'])"
   ]
  },
  {
   "cell_type": "code",
   "execution_count": null,
   "metadata": {},
   "outputs": [],
   "source": [
    "# The last scheduled appointment\n",
    "np.max(orig['AppointmentDay'])"
   ]
  },
  {
   "cell_type": "code",
   "execution_count": null,
   "metadata": {},
   "outputs": [],
   "source": [
    "np.max(orig['AppointmentDay']) - np.min(orig['AppointmentDay'])"
   ]
  },
  {
   "cell_type": "markdown",
   "metadata": {},
   "source": [
    "> While the appointments were scheduled during a 7-month period, they all were scheduled for a 40-day period."
   ]
  },
  {
   "cell_type": "markdown",
   "metadata": {},
   "source": [
    "<a id='cleaning_gender'></a>"
   ]
  },
  {
   "cell_type": "markdown",
   "metadata": {},
   "source": [
    "#### Gender"
   ]
  },
  {
   "cell_type": "code",
   "execution_count": null,
   "metadata": {},
   "outputs": [],
   "source": [
    "# Gender data is clean\n",
    "orig['Gender'].value_counts()"
   ]
  },
  {
   "cell_type": "code",
   "execution_count": null,
   "metadata": {},
   "outputs": [],
   "source": [
    "# Encode gender as binary, 0 = male, 1 = female \n",
    "orig['Gender'] = np.where(orig['Gender'].values == 'F', 1, 0)\n",
    "orig['Gender'].value_counts()"
   ]
  },
  {
   "cell_type": "markdown",
   "metadata": {},
   "source": [
    "<a id='cleaning_age'></a>"
   ]
  },
  {
   "cell_type": "markdown",
   "metadata": {},
   "source": [
    "#### Age"
   ]
  },
  {
   "cell_type": "code",
   "execution_count": null,
   "metadata": {},
   "outputs": [],
   "source": [
    "age_counts = orig['Age'].value_counts()\n",
    "age_counts.index.sort_values()"
   ]
  },
  {
   "cell_type": "code",
   "execution_count": null,
   "metadata": {},
   "outputs": [],
   "source": [
    "orig.loc[orig['Age'] == -1]"
   ]
  },
  {
   "cell_type": "code",
   "execution_count": null,
   "metadata": {},
   "outputs": [],
   "source": [
    "# Drop the record with an age of -1\n",
    "invalid_age = orig.loc[orig['Age'] == -1, 'PatientID']\n",
    "orig.drop(invalid_age.index, inplace=True)"
   ]
  },
  {
   "cell_type": "markdown",
   "metadata": {},
   "source": [
    "> I removed the record with the age of -1.  All of the other ages are plausible; although the age of 115 is improbable, it is still possible."
   ]
  },
  {
   "cell_type": "markdown",
   "metadata": {},
   "source": [
    "<a id='cleaning_bolsa_familia'></a>"
   ]
  },
  {
   "cell_type": "markdown",
   "metadata": {},
   "source": [
    "#### Bolsa Família"
   ]
  },
  {
   "cell_type": "markdown",
   "metadata": {},
   "source": [
    "[Bolsa Família](https://en.wikipedia.org/wiki/Bolsa_Fam%C3%ADlia) is a social welfare program in Brazil.  A value of 1 for this field means that the patient receives financial aid from the Brazilian government under this progrm."
   ]
  },
  {
   "cell_type": "code",
   "execution_count": null,
   "metadata": {},
   "outputs": [],
   "source": [
    "# BolsaFamilia data is clean\n",
    "orig['BolsaFamilia'].value_counts()"
   ]
  },
  {
   "cell_type": "markdown",
   "metadata": {},
   "source": [
    "<a id='cleaning_hypertension'></a>"
   ]
  },
  {
   "cell_type": "markdown",
   "metadata": {},
   "source": [
    "#### Hypertension"
   ]
  },
  {
   "cell_type": "code",
   "execution_count": null,
   "metadata": {},
   "outputs": [],
   "source": [
    "# Hypertension data is clean\n",
    "orig['Hypertension'].value_counts()"
   ]
  },
  {
   "cell_type": "markdown",
   "metadata": {},
   "source": [
    "<a id='cleaning_diabetes'></a>"
   ]
  },
  {
   "cell_type": "markdown",
   "metadata": {},
   "source": [
    "#### Diabetes"
   ]
  },
  {
   "cell_type": "code",
   "execution_count": null,
   "metadata": {},
   "outputs": [],
   "source": [
    "# Diabetes data is clean\n",
    "orig['Diabetes'].value_counts()"
   ]
  },
  {
   "cell_type": "markdown",
   "metadata": {},
   "source": [
    "<a id='cleaning_alcoholism'></a>"
   ]
  },
  {
   "cell_type": "markdown",
   "metadata": {},
   "source": [
    "#### Alcholism"
   ]
  },
  {
   "cell_type": "code",
   "execution_count": null,
   "metadata": {},
   "outputs": [],
   "source": [
    "# Alcoholism data is clean\n",
    "orig['Alcoholism'].value_counts()"
   ]
  },
  {
   "cell_type": "markdown",
   "metadata": {},
   "source": [
    "<a id='cleaning_number_handicaps'></a>"
   ]
  },
  {
   "cell_type": "markdown",
   "metadata": {},
   "source": [
    "#### Number of Handicaps"
   ]
  },
  {
   "cell_type": "code",
   "execution_count": null,
   "metadata": {
    "scrolled": true
   },
   "outputs": [],
   "source": [
    "# This represents the number of handicaps a person has (as defined by the publisher of the dataset)\n",
    "# All people having between 0-4 handicaps seems reasonable\n",
    "orig['NumHandicaps'].value_counts()"
   ]
  },
  {
   "cell_type": "markdown",
   "metadata": {},
   "source": [
    "Note that the data set does not define what are considered handicaps. Since there are so few patients that have handicaps, I created a binary field, HasHandicaps, that indicates whether or not a patient has any handicaps."
   ]
  },
  {
   "cell_type": "code",
   "execution_count": null,
   "metadata": {},
   "outputs": [],
   "source": [
    "orig['HasHandicaps'] = np.where(orig['NumHandicaps'] == 0, 0, 1)\n",
    "orig['HasHandicaps'].value_counts()"
   ]
  },
  {
   "cell_type": "markdown",
   "metadata": {},
   "source": [
    "<a id='cleaning_sms_received'></a>"
   ]
  },
  {
   "cell_type": "markdown",
   "metadata": {},
   "source": [
    "#### SMS Received\n",
    "This field indicates whether or not a patient was sent an appointment reminder by the facility in the form of a text message."
   ]
  },
  {
   "cell_type": "code",
   "execution_count": null,
   "metadata": {},
   "outputs": [],
   "source": [
    "# SMS Received data is clean\n",
    "orig['SMSReceived'].value_counts()"
   ]
  },
  {
   "cell_type": "markdown",
   "metadata": {},
   "source": [
    "<a id='cleaning_no_show'></a>"
   ]
  },
  {
   "cell_type": "markdown",
   "metadata": {},
   "source": [
    "#### No Show"
   ]
  },
  {
   "cell_type": "markdown",
   "metadata": {},
   "source": [
    "A value of yes for NoShow means that the patient did not show up to their appointment (they were a 'no show')."
   ]
  },
  {
   "cell_type": "code",
   "execution_count": null,
   "metadata": {},
   "outputs": [],
   "source": [
    "orig['NoShow'].value_counts()"
   ]
  },
  {
   "cell_type": "code",
   "execution_count": null,
   "metadata": {},
   "outputs": [],
   "source": [
    "# Convert NoShow to zeros and ones\n",
    "orig['NoShow'] = np.where(orig['NoShow'].values == 'Yes', 1, 0)\n",
    "orig['NoShow'].value_counts()"
   ]
  },
  {
   "cell_type": "markdown",
   "metadata": {},
   "source": [
    "<a id='cleaning_neighborhood'></a>"
   ]
  },
  {
   "cell_type": "markdown",
   "metadata": {},
   "source": [
    "#### Neighborhood"
   ]
  },
  {
   "cell_type": "markdown",
   "metadata": {},
   "source": [
    "The Neighborhood field has the neighborhood of the doctor's facility."
   ]
  },
  {
   "cell_type": "code",
   "execution_count": null,
   "metadata": {},
   "outputs": [],
   "source": [
    "neighborhood_counts = orig['Neighborhood'].value_counts()\n",
    "neighborhood_counts[:11]"
   ]
  },
  {
   "cell_type": "code",
   "execution_count": null,
   "metadata": {},
   "outputs": [],
   "source": [
    "# Number of unique neighborhoods\n",
    "orig['Neighborhood'].nunique()"
   ]
  },
  {
   "cell_type": "code",
   "execution_count": null,
   "metadata": {},
   "outputs": [],
   "source": [
    "# Organize the neighborhoods into a dataframe\n",
    "geo = pd.DataFrame(neighborhood_counts.index, columns = ['neighborhood'])\n",
    "geo.head()"
   ]
  },
  {
   "cell_type": "code",
   "execution_count": null,
   "metadata": {},
   "outputs": [],
   "source": [
    "# Geocode the neighborhood data\n",
    "for i, row in geo.iterrows():\n",
    "    # Use Bing    \n",
    "    full_neighborhood = row.str.title() + ', Vitória, Espírito Santo, Brazil'\n",
    "    result = geocoder.bing(full_neighborhood, key=API_KEY)\n",
    "    \n",
    "    geo.at[i, 'status'] = result.status\n",
    "    geo.at[i, 'lat'] = result.lat\n",
    "    geo.at[i, 'lng'] = result.lng\n",
    "    geo.at[i, 'bing_neighborhood'] = result.neighborhood\n",
    "    geo.at[i, 'city'] = result.city\n",
    "    geo.at[i, 'state'] = result.state\n",
    "    geo.at[i, 'country'] = result.country\n",
    "    \n",
    "    # If Bing returns None for neighborhood, use Google\n",
    "    if geo.at[i, 'bing_neighborhood'] is None or \\\n",
    "       geo.at[i, 'bing_neighborhood'] == 'None':\n",
    "        result = geocoder.google(full_neighborhood)\n",
    "        \n",
    "        geo.at[i, 'status'] = result.status\n",
    "        geo.at[i, 'lat'] = result.lat\n",
    "        geo.at[i, 'lng'] = result.lng\n",
    "        \n",
    "        if result.county == 'Vitória': # Google uses county where Bing uses city\n",
    "            geo.at[i, 'city'] = result.county\n",
    "        geo.at[i, 'state'] = result.state\n",
    "        if result.country == 'BR':\n",
    "            geo.at[i, 'country'] = 'Brazil'\n",
    "\n",
    "# Assign Nazareth manually\n",
    "full_neighborhood = 'Nazareth' + ', Vitória, Espírito Santo, Brazil'\n",
    "result = geocoder.google(full_neighborhood)\n",
    "geo.at[73, 'status'] = result.status\n",
    "geo.at[73, 'lat'] = result.lat\n",
    "geo.at[73, 'lng'] = result.lng\n",
    "geo.at[73, 'state'] = 'ES'\n",
    "\n",
    "# Assign Centro manually\n",
    "full_neighborhood = 'Centro' + ', Vitória, Espírito Santo, Brazil'\n",
    "result = geocoder.google(full_neighborhood)\n",
    "geo.at[5, 'status'] = result.status\n",
    "geo.at[5, 'lat'] = result.lat\n",
    "geo.at[5, 'lng'] = result.lng\n",
    "geo.at[5, 'state'] = 'ES'"
   ]
  },
  {
   "cell_type": "code",
   "execution_count": null,
   "metadata": {},
   "outputs": [],
   "source": [
    "geo.head(6)"
   ]
  },
  {
   "cell_type": "code",
   "execution_count": null,
   "metadata": {},
   "outputs": [],
   "source": [
    "# Check that all the neighborhoods are unique\n",
    "(geo['bing_neighborhood'].value_counts() == 1).all()"
   ]
  },
  {
   "cell_type": "code",
   "execution_count": null,
   "metadata": {},
   "outputs": [],
   "source": [
    "# Check that each neighborhood returns a unique location\n",
    "not any(geo.duplicated(['lat', 'lng']))"
   ]
  },
  {
   "cell_type": "code",
   "execution_count": null,
   "metadata": {},
   "outputs": [],
   "source": [
    "# Verify that all of the locations are in Vitória, Espírito Santo, Brazil\n",
    "print((geo['status'] == 'OK').all())\n",
    "print((geo['city'] == 'Vitória').all())\n",
    "print((geo['state'] == 'ES').all())\n",
    "print((geo['country'] == 'Brazil').all())"
   ]
  },
  {
   "cell_type": "markdown",
   "metadata": {},
   "source": [
    "<a id='cleaning_patient_id'></a>"
   ]
  },
  {
   "cell_type": "markdown",
   "metadata": {},
   "source": [
    "#### Patient ID"
   ]
  },
  {
   "cell_type": "code",
   "execution_count": null,
   "metadata": {},
   "outputs": [],
   "source": [
    "# Convert patient ID to a string, as it is meant to be an identifier not a number\n",
    "orig['PatientID'] = orig['PatientID'].astype(int).astype(str)\n",
    "\n",
    "# All identifiers are 7-15 digits long, most have at least 10\n",
    "lens = orig['PatientID'].apply(len)\n",
    "pd.value_counts(lens)"
   ]
  },
  {
   "cell_type": "markdown",
   "metadata": {},
   "source": [
    "> Most of the patient IDs are at least 10 digits long.  There is no consistent length for this field, and it is unknown, and impossible to know, if some of these patient identifiers are flawed."
   ]
  },
  {
   "cell_type": "markdown",
   "metadata": {},
   "source": [
    "<a id='cleaning_patient_id_consistency'></a>"
   ]
  },
  {
   "cell_type": "markdown",
   "metadata": {},
   "source": [
    "##### PatientID Consistency"
   ]
  },
  {
   "cell_type": "code",
   "execution_count": null,
   "metadata": {},
   "outputs": [],
   "source": [
    "# Number of appointments per PatientID\n",
    "num_appts_by_patient = orig.groupby('PatientID')['AppointmentID'].count()\n",
    "num_appts_by_patient[:5]"
   ]
  },
  {
   "cell_type": "markdown",
   "metadata": {},
   "source": [
    "There are multiple appointments for some patients, so I am checking that the information for each patient across the different appointments is the same."
   ]
  },
  {
   "cell_type": "code",
   "execution_count": null,
   "metadata": {},
   "outputs": [],
   "source": [
    "# check that all patient characteristics are consistent across different appointments\n",
    "attributes = ['Gender', 'BolsaFamilia', 'Hypertension', 'Diabetes', 'Alcoholism', 'NumHandicaps',\n",
    "              'Neighborhood']\n",
    "for a in attributes:\n",
    "    unique_attrib_vals = orig.groupby('PatientID')[a].nunique()\n",
    "    if len(unique_attrib_vals[unique_attrib_vals > 1]) == 0:\n",
    "        print(a + ' is consistent')\n",
    "    else:\n",
    "        print(a + ' is NOT consistent')"
   ]
  },
  {
   "cell_type": "code",
   "execution_count": null,
   "metadata": {},
   "outputs": [],
   "source": [
    "# Appointments occur with a 7-month period, so the entries for a patient's ages should be within a year of each other\n",
    "unique_age_vals = orig.groupby('PatientID')['Age'].nunique()\n",
    "not_unique_age_vals = unique_age_vals[unique_age_vals > 1]\n",
    "\n",
    "# Patients with more than one appointment, all have less than 2 values for age\n",
    "len(not_unique_age_vals[not_unique_age_vals > 2])"
   ]
  },
  {
   "cell_type": "code",
   "execution_count": null,
   "metadata": {},
   "outputs": [],
   "source": [
    "# Get the information for the patients with more than one age\n",
    "patients_multiple_ages = list(not_unique_age_vals.index)\n",
    "multiple_ages_info = orig[orig['PatientID'].isin(patients_multiple_ages)].sort_values('PatientID')\n",
    "\n",
    "# Get the difference between each patient's ages\n",
    "max_age = multiple_ages_info.groupby('PatientID')['Age'].max()\n",
    "min_age = multiple_ages_info.groupby('PatientID')['Age'].min()\n",
    "age_diff = max_age - min_age\n",
    "\n",
    "# Each patient's ages are within one year of each other\n",
    "if age_diff[age_diff <= 1].all():\n",
    "    print('Ages are within one year')\n",
    "else:\n",
    "    print('Ages are not within a year')"
   ]
  },
  {
   "cell_type": "markdown",
   "metadata": {},
   "source": [
    "<a id='addtl_data'></a>"
   ]
  },
  {
   "cell_type": "markdown",
   "metadata": {},
   "source": [
    "## Additional Data\n",
    "***"
   ]
  },
  {
   "cell_type": "markdown",
   "metadata": {},
   "source": [
    "I obtained weather data for Vitória airport from [wunderground.com](https://www.wunderground.com/history/airport/SBVT/2016/4/29/DailyHistory.html) for the appointment dates in the data set."
   ]
  },
  {
   "cell_type": "code",
   "execution_count": null,
   "metadata": {},
   "outputs": [],
   "source": [
    "xlsx = pd.ExcelFile('vitoria_weather.xlsx')\n",
    "weather = pd.read_excel(xlsx, 'Sheet1', skiprows = 2)\n",
    "weather['Datetime'] = pd.to_datetime(weather['Date'])\n",
    "weather['Date'] = weather['Datetime'].dt.date\n",
    "weather.head()"
   ]
  },
  {
   "cell_type": "code",
   "execution_count": null,
   "metadata": {},
   "outputs": [],
   "source": [
    "all(weather['visibility_high'] == 12)"
   ]
  },
  {
   "cell_type": "markdown",
   "metadata": {},
   "source": [
    "Since visibility_high is always valued at 12, this would be removed from the data set before doing any modeling."
   ]
  },
  {
   "cell_type": "code",
   "execution_count": null,
   "metadata": {},
   "outputs": [],
   "source": [
    "# Merge appointment data with weather data\n",
    "ow = pd.merge(orig, weather, left_on='AppointmentDayDate', right_on='Date', how='left')\n",
    "\n",
    "# Remove the visibility_high field since it has the same value for every date\n",
    "ow = ow.drop(['Date', 'Datetime', 'visibility_high'], axis = 1)\n",
    "\n",
    "# Check there are no null values\n",
    "all(ow.isnull().sum() == 0)"
   ]
  },
  {
   "cell_type": "code",
   "execution_count": null,
   "metadata": {},
   "outputs": [],
   "source": [
    "ow.head()"
   ]
  },
  {
   "cell_type": "markdown",
   "metadata": {},
   "source": [
    "<a id='feat_engineering'></a>"
   ]
  },
  {
   "cell_type": "markdown",
   "metadata": {},
   "source": [
    "## Feature Engineering\n",
    "***"
   ]
  },
  {
   "cell_type": "markdown",
   "metadata": {},
   "source": [
    "### Differences Between Scheduled and Appointment Days"
   ]
  },
  {
   "cell_type": "code",
   "execution_count": null,
   "metadata": {
    "scrolled": false
   },
   "outputs": [],
   "source": [
    "# Add a field for the number of days between scheduling and the appointment\n",
    "ow['DayDiff'] = ((ow['AppointmentDayDate'] - ow['ScheduledDayDate'])/np.timedelta64(1, 'D')).astype(int)\n",
    "ow[['ScheduledDayDate', 'AppointmentDayDate', 'DayDiff']].sort_values(by = 'DayDiff')[:7]"
   ]
  },
  {
   "cell_type": "markdown",
   "metadata": {},
   "source": [
    "We can see that we need to do some data cleaning as there are five appointments that were shown to be scheduled days after the appointment itself.  These are obviously errors and since there are only five, they were removed from the data."
   ]
  },
  {
   "cell_type": "code",
   "execution_count": null,
   "metadata": {},
   "outputs": [],
   "source": [
    "ow = (ow[ow['DayDiff'] >= 0])"
   ]
  },
  {
   "cell_type": "code",
   "execution_count": null,
   "metadata": {},
   "outputs": [],
   "source": [
    "# Create a field for a binned version of DayDiff\n",
    "bins = [0, 1, 2, 3, 6, 11, 15, 30, 60, 100, 200]\n",
    "day_diff_bin_labels = ['0', '1', '2', '3-5', '6-10', '11-14', '15-29', '30-59',\n",
    "                       '60-99', '100+']\n",
    "ow['DayDiffBin'] = pd.cut(ow['DayDiff'], bins, right = False, labels = day_diff_bin_labels)\n",
    "\n",
    "ow['DayDiffBin'].value_counts().sort_index()"
   ]
  },
  {
   "cell_type": "markdown",
   "metadata": {},
   "source": [
    "### Day of Week and Weekend"
   ]
  },
  {
   "cell_type": "code",
   "execution_count": null,
   "metadata": {},
   "outputs": [],
   "source": [
    "# Add a field for whether the AppointmentDay is during the weekend (1) or not (0)\n",
    "ow['DayOfWeek'] = pd.to_datetime(ow['AppointmentDay']).dt.dayofweek\n",
    "ow['Weekend'] = np.where(ow['DayOfWeek'] >= 5, 1, 0)\n",
    "\n",
    "# Number of weekend appointments\n",
    "ow['Weekend'].sum()"
   ]
  },
  {
   "cell_type": "markdown",
   "metadata": {},
   "source": [
    "<a id='further_cleaning'></a>"
   ]
  },
  {
   "cell_type": "markdown",
   "metadata": {},
   "source": [
    "## Initial Exploration and Further Cleaning"
   ]
  },
  {
   "cell_type": "markdown",
   "metadata": {},
   "source": [
    "#### Number of appointments by patient"
   ]
  },
  {
   "cell_type": "code",
   "execution_count": null,
   "metadata": {},
   "outputs": [],
   "source": [
    "num_appts_by_patient.sort_values(ascending = False)[:10]"
   ]
  },
  {
   "cell_type": "markdown",
   "metadata": {},
   "source": [
    "> Oddly there are patients with a significant number of appointments.  The appointments only occurred during a 40-day period, so even if a patient had an appointment every day during this period, they would still only have a maximum of 40 appointments."
   ]
  },
  {
   "cell_type": "code",
   "execution_count": null,
   "metadata": {},
   "outputs": [],
   "source": [
    "# Bin the number of appointments per patient\n",
    "bins = [0, 1, 2, 3, 4, 5, 10, 15, 20, 30, 40, 50, 80]\n",
    "bin_names = [\"1\", \"2\", \"3\", \"4\", \"5\", \"6-10\", \"11-15\", \"16-20\", \"21-30\", \"31-40\", \"41-50\", \"50+\"]\n",
    "\n",
    "num_appts_binned = pd.cut(num_appts_by_patient, bins = bins, labels = bin_names).value_counts()\n",
    "num_appts_binned.sort_index()"
   ]
  },
  {
   "cell_type": "code",
   "execution_count": null,
   "metadata": {},
   "outputs": [],
   "source": [
    "num_appts_by_patient.hist(bins = 100)\n",
    "sns.despine(left = True, bottom = True)\n",
    "plt.title(\"\\nNumber of Appointments Made Per Patient\\n\", fontsize = 14, fontweight = 'bold');"
   ]
  },
  {
   "cell_type": "markdown",
   "metadata": {},
   "source": [
    "The number of appointments is very skewed to the right.  The majority of patients made three or fewer appointments during this 40-day time period, but the data is very long tailed with up to 88 appointments per patient."
   ]
  },
  {
   "cell_type": "code",
   "execution_count": null,
   "metadata": {},
   "outputs": [],
   "source": [
    "# Inspect the patient with 88 appointments\n",
    "most_appts = ow[ow['PatientID'] == '822145925426128'].sort_values(by = 'ScheduledDay')\n",
    "most_appts"
   ]
  },
  {
   "cell_type": "code",
   "execution_count": null,
   "metadata": {},
   "outputs": [],
   "source": [
    "most_appts['NoShow'].sum()"
   ]
  },
  {
   "cell_type": "markdown",
   "metadata": {},
   "source": [
    "> From analyzing this and other patients' appointments, I found that many appointments were made for a certain day, and then later another appointment was made for that same day.  We can see above that the patient made an appointment for April 29, three different times.  For the patient above, they made the appointments within farily quick succession of each other.  However other patients, as shown below, seemed to make appointments in advance and then as the appointment got closer rescheduled it."
   ]
  },
  {
   "cell_type": "code",
   "execution_count": null,
   "metadata": {},
   "outputs": [],
   "source": [
    "ow[ow['PatientID'] == '99992299798515'].sort_values(by = 'ScheduledDay')"
   ]
  },
  {
   "cell_type": "code",
   "execution_count": null,
   "metadata": {},
   "outputs": [],
   "source": [
    "ow[ow['PatientID'] == '111415561531417'].sort_values(by = 'ScheduledDay').iloc[:, :14]"
   ]
  },
  {
   "cell_type": "markdown",
   "metadata": {},
   "source": [
    "In the case above, the patient made an appointment for June 6, and on the same day makes an appoitment for May 13.  Then 15 days later makes another appointment for/reschedules the June 6 appointment.  Finally they make another appointment for three days before their scheduled appointment.  I would guess that they rescheduled their appointment for an earlier day, so it may be illogical to term their non-attendance as a \"no show.\"  Unfortunately this is just a hypothesis, and since there is neither extra data, nor an explanation for the multiple appointments, this cannot be confirmed.  If more information later became available this aspect of the data could possibly be addressed.\n",
    "\n",
    "To address the issue of multiple appointments made for the same day, I made the decision to only keep the last appointment made on the same day as an already made appointment.  Although records were removed, this data was preserved in the extra fields of the number of times the appointment for that day was scheduled and the time difference between the first and last scheduling."
   ]
  },
  {
   "cell_type": "code",
   "execution_count": null,
   "metadata": {
    "scrolled": true
   },
   "outputs": [],
   "source": [
    "# Sort the dataframe and update the index, so that the records are in\n",
    "# order of when they were made\n",
    "ow = ow.sort_values(by = ['PatientID', 'ScheduledDay', 'AppointmentDay'])\n",
    "ow.index = range(1,len(ow) + 1)\n",
    "ow.head()"
   ]
  },
  {
   "cell_type": "code",
   "execution_count": null,
   "metadata": {},
   "outputs": [],
   "source": [
    "# Aggregate data by PatientID and AppointmentDay, and assemble all the AppointmentIDs associated\n",
    "# with them into a tuple\n",
    "df_appt_id_list = ow.groupby(['PatientID', 'AppointmentDay'], as_index=False)['AppointmentID']. \\\n",
    "                apply(tuple).reset_index()\n",
    "df_appt_id_list.columns = ['PatientID', 'AppointmentDay', 'AppointmentIDList']\n",
    "df_appt_id_list.head()"
   ]
  },
  {
   "cell_type": "code",
   "execution_count": null,
   "metadata": {},
   "outputs": [],
   "source": [
    "# Create field for the last appointment created for that date\n",
    "df_appt_id_list['LastAppt'] = df_appt_id_list['AppointmentIDList'].apply(lambda x: x[len(x) - 1])\n",
    "\n",
    "# Create field for the number of times that appointment was scheduled\n",
    "df_appt_id_list['NumTimesScheduled'] = df_appt_id_list['AppointmentIDList'].apply(len)\n",
    "\n",
    "df_appt_id_list.iloc[25:30]"
   ]
  },
  {
   "cell_type": "code",
   "execution_count": null,
   "metadata": {},
   "outputs": [],
   "source": [
    "# Create function for looking up the time difference between\n",
    "# the ScheduledDay for the appointments that have more than one ID\n",
    "# else the difference is 0\n",
    "def get_days_bw_scheduling(x, df):\n",
    "    if len(x) == 1:\n",
    "        return 0\n",
    "    else:\n",
    "        first_sch = df.loc[df['AppointmentID'] == x[0], 'ScheduledDay'].iloc[0] # first scheduling\n",
    "        last_sch = df.loc[df['AppointmentID'] == x[len(x) - 1], 'ScheduledDay'].iloc[0] # last scheduling\n",
    "        days = (last_sch - first_sch)/np.timedelta64(1, 'D')\n",
    "        return days # return days difference as float"
   ]
  },
  {
   "cell_type": "code",
   "execution_count": null,
   "metadata": {},
   "outputs": [],
   "source": [
    "df_appt_id_list['DaysBWScheduling'] = df_appt_id_list['AppointmentIDList'].apply(lambda x: get_days_bw_scheduling(x, ow))"
   ]
  },
  {
   "cell_type": "code",
   "execution_count": null,
   "metadata": {
    "scrolled": true
   },
   "outputs": [],
   "source": [
    "# Merge this data with the original dataframe\n",
    "df = pd.merge(ow, df_appt_id_list, left_on = ['PatientID', 'AppointmentDay', 'AppointmentID'], \n",
    "              right_on = ['PatientID', 'AppointmentDay', 'LastAppt'])\n",
    "\n",
    "# Remove unnecessary and redundant columns\n",
    "df.drop(['AppointmentIDList', 'LastAppt'], axis = 1, inplace = True)\n",
    "df.iloc[25:30]"
   ]
  },
  {
   "cell_type": "code",
   "execution_count": null,
   "metadata": {
    "scrolled": true
   },
   "outputs": [],
   "source": [
    "# Create a field for a binned version of DaysBWScheduling\n",
    "bins = [0, 0.00001, 1, 2, 3, 6, 11, 15, 30, 60, 200]\n",
    "day_bw_labels = ['0', '<1', '1', '2', '3-5', '6-10', '11-14', '15-29', '30-59', '60+']\n",
    "df['DayBWBin'] = pd.cut(df['DaysBWScheduling'], bins, right = False, labels = day_bw_labels)\n",
    "\n",
    "df['DayBWBin'].value_counts().sort_index()"
   ]
  },
  {
   "cell_type": "code",
   "execution_count": null,
   "metadata": {},
   "outputs": [],
   "source": [
    "len(ow) - len(df)"
   ]
  },
  {
   "cell_type": "markdown",
   "metadata": {},
   "source": [
    "> Note that 8718 records that represented the extra appointments made all on the same day were removed from the data."
   ]
  },
  {
   "cell_type": "markdown",
   "metadata": {},
   "source": [
    "#### Attendance Record"
   ]
  },
  {
   "cell_type": "code",
   "execution_count": null,
   "metadata": {},
   "outputs": [],
   "source": [
    "# add a field for Show (the oppposite of NoShow)\n",
    "df['Show'] = np.where(df['NoShow'] == 0, 1, 0) "
   ]
  },
  {
   "cell_type": "code",
   "execution_count": null,
   "metadata": {},
   "outputs": [],
   "source": [
    "# Gets the counts of number of appointments and number of shows prior to that appointment\n",
    "show_counts = df.groupby(['PatientID'])['Show'].apply(lambda x: x.shift(1).cumsum())\n",
    "appt_counts = df.groupby(['PatientID'])['AppointmentID'].cumcount()\n",
    "\n",
    "df['PriorAttendanceRecord'] = show_counts/appt_counts"
   ]
  },
  {
   "cell_type": "markdown",
   "metadata": {},
   "source": [
    "PriorAttendanceRecord is the proportion of appointments that were attended prior to the current appointment, for each patient.  Since a proportion of 1 (perfect attendance) is the same for a patient that attended one scheduled appointment and a patient that attended ten scheduled appointments in a row, I also included a field for the number of attended appointments in a row."
   ]
  },
  {
   "cell_type": "code",
   "execution_count": null,
   "metadata": {},
   "outputs": [],
   "source": [
    "# Gets the number of shows in a row for that patient\n",
    "df['ShowsInARow'] = df.groupby((df['PriorAttendanceRecord'] != 1).cumsum()).cumcount()"
   ]
  },
  {
   "cell_type": "code",
   "execution_count": null,
   "metadata": {},
   "outputs": [],
   "source": [
    "df.loc[:, ['PatientID', 'AppointmentID', 'ScheduledDay', 'AppointmentDay', 'NoShow', 'Show', 'PriorAttendanceRecord', 'ShowsInARow']].head(10)"
   ]
  },
  {
   "cell_type": "code",
   "execution_count": null,
   "metadata": {},
   "outputs": [],
   "source": [
    "#df.to_csv('df.csv')\n",
    "#geo.to_csv('geo.csv')"
   ]
  },
  {
   "cell_type": "markdown",
   "metadata": {},
   "source": [
    "<a id='reloading'></a>\n",
    "## Reloading the Data"
   ]
  },
  {
   "cell_type": "code",
   "execution_count": 1,
   "metadata": {},
   "outputs": [],
   "source": [
    "import pandas as pd\n",
    "import numpy as np\n",
    "import geocoder\n",
    "import matplotlib\n",
    "import matplotlib.pyplot as plt\n",
    "import matplotlib.dates as mdates\n",
    "from matplotlib.lines import Line2D\n",
    "import seaborn as sns\n",
    "import folium\n",
    "from folium.plugins import HeatMap\n",
    "import scipy.stats as stats\n",
    "from scipy.stats import chi2_contingency\n",
    "from datetime import timedelta\n",
    "import config\n",
    "API_KEY = config.api_key"
   ]
  },
  {
   "cell_type": "code",
   "execution_count": 2,
   "metadata": {},
   "outputs": [],
   "source": [
    "matplotlib.rcParams.update({'font.size': 12.5})"
   ]
  },
  {
   "cell_type": "code",
   "execution_count": 3,
   "metadata": {},
   "outputs": [],
   "source": [
    "df = pd.read_csv('df.csv')\n",
    "geo = pd.read_csv('geo.csv')"
   ]
  },
  {
   "cell_type": "code",
   "execution_count": 4,
   "metadata": {},
   "outputs": [],
   "source": [
    "df['PatientID'] = df['PatientID'].astype(str)\n",
    "df['AppointmentID'] = df['AppointmentID'].astype(str)\n",
    "df['ScheduledDay'] = pd.to_datetime(df['ScheduledDay'])\n",
    "df['AppointmentDay'] = pd.to_datetime(df['AppointmentDay'])\n",
    "df['ScheduledDayDate'] = pd.to_datetime(df['ScheduledDayDate']).dt.date\n",
    "df['AppointmentDayDate'] = pd.to_datetime(df['AppointmentDayDate']).dt.date"
   ]
  },
  {
   "cell_type": "code",
   "execution_count": 5,
   "metadata": {},
   "outputs": [
    {
     "data": {
      "text/html": [
       "<div>\n",
       "<style scoped>\n",
       "    .dataframe tbody tr th:only-of-type {\n",
       "        vertical-align: middle;\n",
       "    }\n",
       "\n",
       "    .dataframe tbody tr th {\n",
       "        vertical-align: top;\n",
       "    }\n",
       "\n",
       "    .dataframe thead th {\n",
       "        text-align: right;\n",
       "    }\n",
       "</style>\n",
       "<table border=\"1\" class=\"dataframe\">\n",
       "  <thead>\n",
       "    <tr style=\"text-align: right;\">\n",
       "      <th></th>\n",
       "      <th>PatientID</th>\n",
       "      <th>AppointmentID</th>\n",
       "      <th>Gender</th>\n",
       "      <th>ScheduledDay</th>\n",
       "      <th>AppointmentDay</th>\n",
       "      <th>Age</th>\n",
       "      <th>Neighborhood</th>\n",
       "      <th>BolsaFamilia</th>\n",
       "      <th>Hypertension</th>\n",
       "      <th>Diabetes</th>\n",
       "      <th>...</th>\n",
       "      <th>DayDiff</th>\n",
       "      <th>DayDiffBin</th>\n",
       "      <th>DayOfWeek</th>\n",
       "      <th>Weekend</th>\n",
       "      <th>NumTimesScheduled</th>\n",
       "      <th>DaysBWScheduling</th>\n",
       "      <th>DayBWBin</th>\n",
       "      <th>Show</th>\n",
       "      <th>PriorAttendanceRecord</th>\n",
       "      <th>ShowsInARow</th>\n",
       "    </tr>\n",
       "  </thead>\n",
       "  <tbody>\n",
       "    <tr>\n",
       "      <th>0</th>\n",
       "      <td>11111462625267</td>\n",
       "      <td>5715720</td>\n",
       "      <td>1</td>\n",
       "      <td>2016-05-18 14:58:29</td>\n",
       "      <td>2016-06-08</td>\n",
       "      <td>65</td>\n",
       "      <td>REPÚBLICA</td>\n",
       "      <td>0</td>\n",
       "      <td>1</td>\n",
       "      <td>0</td>\n",
       "      <td>...</td>\n",
       "      <td>21</td>\n",
       "      <td>15-29</td>\n",
       "      <td>2</td>\n",
       "      <td>0</td>\n",
       "      <td>1</td>\n",
       "      <td>0.0</td>\n",
       "      <td>0</td>\n",
       "      <td>1</td>\n",
       "      <td>NaN</td>\n",
       "      <td>0</td>\n",
       "    </tr>\n",
       "    <tr>\n",
       "      <th>1</th>\n",
       "      <td>111124532532143</td>\n",
       "      <td>5531224</td>\n",
       "      <td>0</td>\n",
       "      <td>2016-03-31 09:17:26</td>\n",
       "      <td>2016-05-03</td>\n",
       "      <td>9</td>\n",
       "      <td>MARIA ORTIZ</td>\n",
       "      <td>0</td>\n",
       "      <td>0</td>\n",
       "      <td>0</td>\n",
       "      <td>...</td>\n",
       "      <td>33</td>\n",
       "      <td>30-59</td>\n",
       "      <td>1</td>\n",
       "      <td>0</td>\n",
       "      <td>1</td>\n",
       "      <td>0.0</td>\n",
       "      <td>0</td>\n",
       "      <td>1</td>\n",
       "      <td>NaN</td>\n",
       "      <td>0</td>\n",
       "    </tr>\n",
       "    <tr>\n",
       "      <th>2</th>\n",
       "      <td>111124532532143</td>\n",
       "      <td>5624030</td>\n",
       "      <td>0</td>\n",
       "      <td>2016-04-26 15:05:58</td>\n",
       "      <td>2016-06-01</td>\n",
       "      <td>9</td>\n",
       "      <td>MARIA ORTIZ</td>\n",
       "      <td>0</td>\n",
       "      <td>0</td>\n",
       "      <td>0</td>\n",
       "      <td>...</td>\n",
       "      <td>36</td>\n",
       "      <td>30-59</td>\n",
       "      <td>2</td>\n",
       "      <td>0</td>\n",
       "      <td>1</td>\n",
       "      <td>0.0</td>\n",
       "      <td>0</td>\n",
       "      <td>0</td>\n",
       "      <td>1.0</td>\n",
       "      <td>1</td>\n",
       "    </tr>\n",
       "    <tr>\n",
       "      <th>3</th>\n",
       "      <td>11114485119737</td>\n",
       "      <td>5621757</td>\n",
       "      <td>1</td>\n",
       "      <td>2016-04-26 10:46:38</td>\n",
       "      <td>2016-05-25</td>\n",
       "      <td>12</td>\n",
       "      <td>MARIA ORTIZ</td>\n",
       "      <td>0</td>\n",
       "      <td>0</td>\n",
       "      <td>0</td>\n",
       "      <td>...</td>\n",
       "      <td>29</td>\n",
       "      <td>15-29</td>\n",
       "      <td>2</td>\n",
       "      <td>0</td>\n",
       "      <td>1</td>\n",
       "      <td>0.0</td>\n",
       "      <td>0</td>\n",
       "      <td>0</td>\n",
       "      <td>NaN</td>\n",
       "      <td>0</td>\n",
       "    </tr>\n",
       "    <tr>\n",
       "      <th>4</th>\n",
       "      <td>11116239871275</td>\n",
       "      <td>5625265</td>\n",
       "      <td>1</td>\n",
       "      <td>2016-04-27 07:05:38</td>\n",
       "      <td>2016-04-29</td>\n",
       "      <td>13</td>\n",
       "      <td>SÃO PEDRO</td>\n",
       "      <td>0</td>\n",
       "      <td>0</td>\n",
       "      <td>0</td>\n",
       "      <td>...</td>\n",
       "      <td>2</td>\n",
       "      <td>2</td>\n",
       "      <td>4</td>\n",
       "      <td>0</td>\n",
       "      <td>1</td>\n",
       "      <td>0.0</td>\n",
       "      <td>0</td>\n",
       "      <td>1</td>\n",
       "      <td>NaN</td>\n",
       "      <td>0</td>\n",
       "    </tr>\n",
       "  </tbody>\n",
       "</table>\n",
       "<p>5 rows × 42 columns</p>\n",
       "</div>"
      ],
      "text/plain": [
       "         PatientID AppointmentID  Gender        ScheduledDay AppointmentDay  \\\n",
       "0   11111462625267       5715720       1 2016-05-18 14:58:29     2016-06-08   \n",
       "1  111124532532143       5531224       0 2016-03-31 09:17:26     2016-05-03   \n",
       "2  111124532532143       5624030       0 2016-04-26 15:05:58     2016-06-01   \n",
       "3   11114485119737       5621757       1 2016-04-26 10:46:38     2016-05-25   \n",
       "4   11116239871275       5625265       1 2016-04-27 07:05:38     2016-04-29   \n",
       "\n",
       "   Age Neighborhood  BolsaFamilia  Hypertension  Diabetes     ...       \\\n",
       "0   65    REPÚBLICA             0             1         0     ...        \n",
       "1    9  MARIA ORTIZ             0             0         0     ...        \n",
       "2    9  MARIA ORTIZ             0             0         0     ...        \n",
       "3   12  MARIA ORTIZ             0             0         0     ...        \n",
       "4   13    SÃO PEDRO             0             0         0     ...        \n",
       "\n",
       "   DayDiff  DayDiffBin  DayOfWeek  Weekend NumTimesScheduled  \\\n",
       "0       21       15-29          2        0                 1   \n",
       "1       33       30-59          1        0                 1   \n",
       "2       36       30-59          2        0                 1   \n",
       "3       29       15-29          2        0                 1   \n",
       "4        2           2          4        0                 1   \n",
       "\n",
       "   DaysBWScheduling DayBWBin  Show  PriorAttendanceRecord  ShowsInARow  \n",
       "0               0.0        0     1                    NaN            0  \n",
       "1               0.0        0     1                    NaN            0  \n",
       "2               0.0        0     0                    1.0            1  \n",
       "3               0.0        0     0                    NaN            0  \n",
       "4               0.0        0     1                    NaN            0  \n",
       "\n",
       "[5 rows x 42 columns]"
      ]
     },
     "execution_count": 5,
     "metadata": {},
     "output_type": "execute_result"
    }
   ],
   "source": [
    "df.drop('Unnamed: 0', axis = 1, inplace = True)\n",
    "df.head()"
   ]
  },
  {
   "cell_type": "code",
   "execution_count": 6,
   "metadata": {},
   "outputs": [
    {
     "data": {
      "text/plain": [
       "101803"
      ]
     },
     "execution_count": 6,
     "metadata": {},
     "output_type": "execute_result"
    }
   ],
   "source": [
    "# Number of records in the cleaned dataset\n",
    "len(df)"
   ]
  },
  {
   "cell_type": "code",
   "execution_count": 7,
   "metadata": {},
   "outputs": [
    {
     "data": {
      "text/html": [
       "<div>\n",
       "<style scoped>\n",
       "    .dataframe tbody tr th:only-of-type {\n",
       "        vertical-align: middle;\n",
       "    }\n",
       "\n",
       "    .dataframe tbody tr th {\n",
       "        vertical-align: top;\n",
       "    }\n",
       "\n",
       "    .dataframe thead th {\n",
       "        text-align: right;\n",
       "    }\n",
       "</style>\n",
       "<table border=\"1\" class=\"dataframe\">\n",
       "  <thead>\n",
       "    <tr style=\"text-align: right;\">\n",
       "      <th></th>\n",
       "      <th>Date</th>\n",
       "      <th>temp_high</th>\n",
       "      <th>temp_avg</th>\n",
       "      <th>temp_low</th>\n",
       "      <th>humidity_high</th>\n",
       "      <th>humidity_avg</th>\n",
       "      <th>humidity_low</th>\n",
       "      <th>visibility_high</th>\n",
       "      <th>visibility_avg</th>\n",
       "      <th>visibility_low</th>\n",
       "      <th>wind_high</th>\n",
       "      <th>wind_avg</th>\n",
       "      <th>precip_in</th>\n",
       "      <th>rain</th>\n",
       "      <th>thunderstorm</th>\n",
       "      <th>fog</th>\n",
       "      <th>Datetime</th>\n",
       "    </tr>\n",
       "  </thead>\n",
       "  <tbody>\n",
       "    <tr>\n",
       "      <th>0</th>\n",
       "      <td>2016-04-29</td>\n",
       "      <td>75</td>\n",
       "      <td>73</td>\n",
       "      <td>71</td>\n",
       "      <td>88</td>\n",
       "      <td>76</td>\n",
       "      <td>64</td>\n",
       "      <td>12</td>\n",
       "      <td>7</td>\n",
       "      <td>6</td>\n",
       "      <td>16</td>\n",
       "      <td>11</td>\n",
       "      <td>0.01</td>\n",
       "      <td>0</td>\n",
       "      <td>0</td>\n",
       "      <td>0</td>\n",
       "      <td>2016-04-29</td>\n",
       "    </tr>\n",
       "    <tr>\n",
       "      <th>1</th>\n",
       "      <td>2016-04-30</td>\n",
       "      <td>80</td>\n",
       "      <td>74</td>\n",
       "      <td>69</td>\n",
       "      <td>88</td>\n",
       "      <td>79</td>\n",
       "      <td>70</td>\n",
       "      <td>12</td>\n",
       "      <td>7</td>\n",
       "      <td>6</td>\n",
       "      <td>13</td>\n",
       "      <td>7</td>\n",
       "      <td>0.00</td>\n",
       "      <td>0</td>\n",
       "      <td>0</td>\n",
       "      <td>0</td>\n",
       "      <td>2016-04-30</td>\n",
       "    </tr>\n",
       "    <tr>\n",
       "      <th>2</th>\n",
       "      <td>2016-05-01</td>\n",
       "      <td>77</td>\n",
       "      <td>73</td>\n",
       "      <td>69</td>\n",
       "      <td>83</td>\n",
       "      <td>67</td>\n",
       "      <td>52</td>\n",
       "      <td>12</td>\n",
       "      <td>6</td>\n",
       "      <td>4</td>\n",
       "      <td>17</td>\n",
       "      <td>13</td>\n",
       "      <td>0.00</td>\n",
       "      <td>1</td>\n",
       "      <td>0</td>\n",
       "      <td>0</td>\n",
       "      <td>2016-05-01</td>\n",
       "    </tr>\n",
       "    <tr>\n",
       "      <th>3</th>\n",
       "      <td>2016-05-02</td>\n",
       "      <td>81</td>\n",
       "      <td>74</td>\n",
       "      <td>66</td>\n",
       "      <td>83</td>\n",
       "      <td>58</td>\n",
       "      <td>33</td>\n",
       "      <td>12</td>\n",
       "      <td>8</td>\n",
       "      <td>6</td>\n",
       "      <td>17</td>\n",
       "      <td>11</td>\n",
       "      <td>0.00</td>\n",
       "      <td>0</td>\n",
       "      <td>0</td>\n",
       "      <td>0</td>\n",
       "      <td>2016-05-02</td>\n",
       "    </tr>\n",
       "    <tr>\n",
       "      <th>4</th>\n",
       "      <td>2016-05-03</td>\n",
       "      <td>79</td>\n",
       "      <td>70</td>\n",
       "      <td>62</td>\n",
       "      <td>88</td>\n",
       "      <td>80</td>\n",
       "      <td>61</td>\n",
       "      <td>12</td>\n",
       "      <td>7</td>\n",
       "      <td>6</td>\n",
       "      <td>17</td>\n",
       "      <td>5</td>\n",
       "      <td>0.00</td>\n",
       "      <td>0</td>\n",
       "      <td>0</td>\n",
       "      <td>0</td>\n",
       "      <td>2016-05-03</td>\n",
       "    </tr>\n",
       "  </tbody>\n",
       "</table>\n",
       "</div>"
      ],
      "text/plain": [
       "         Date  temp_high  temp_avg  temp_low  humidity_high  humidity_avg  \\\n",
       "0  2016-04-29         75        73        71             88            76   \n",
       "1  2016-04-30         80        74        69             88            79   \n",
       "2  2016-05-01         77        73        69             83            67   \n",
       "3  2016-05-02         81        74        66             83            58   \n",
       "4  2016-05-03         79        70        62             88            80   \n",
       "\n",
       "   humidity_low  visibility_high  visibility_avg  visibility_low  wind_high  \\\n",
       "0            64               12               7               6         16   \n",
       "1            70               12               7               6         13   \n",
       "2            52               12               6               4         17   \n",
       "3            33               12               8               6         17   \n",
       "4            61               12               7               6         17   \n",
       "\n",
       "   wind_avg  precip_in  rain  thunderstorm  fog   Datetime  \n",
       "0        11       0.01     0             0    0 2016-04-29  \n",
       "1         7       0.00     0             0    0 2016-04-30  \n",
       "2        13       0.00     1             0    0 2016-05-01  \n",
       "3        11       0.00     0             0    0 2016-05-02  \n",
       "4         5       0.00     0             0    0 2016-05-03  "
      ]
     },
     "execution_count": 7,
     "metadata": {},
     "output_type": "execute_result"
    }
   ],
   "source": [
    "xlsx = pd.ExcelFile('vitoria_weather.xlsx')\n",
    "weather = pd.read_excel(xlsx, 'Sheet1', skiprows = 2)\n",
    "weather['Datetime'] = pd.to_datetime(weather['Date'])\n",
    "weather['Date'] = weather['Datetime'].dt.date\n",
    "weather.head()"
   ]
  },
  {
   "cell_type": "markdown",
   "metadata": {},
   "source": [
    "<a id='eda'></a>"
   ]
  },
  {
   "cell_type": "markdown",
   "metadata": {},
   "source": [
    "## Exploratory Data Analysis\n",
    "***"
   ]
  },
  {
   "cell_type": "markdown",
   "metadata": {},
   "source": [
    "<a id='univariate'></a>"
   ]
  },
  {
   "cell_type": "markdown",
   "metadata": {},
   "source": [
    "### Univariate Plots and Analysis"
   ]
  },
  {
   "cell_type": "markdown",
   "metadata": {},
   "source": [
    "#### Patient Characteristics"
   ]
  },
  {
   "cell_type": "code",
   "execution_count": 8,
   "metadata": {},
   "outputs": [
    {
     "data": {
      "text/plain": [
       "62298"
      ]
     },
     "execution_count": 8,
     "metadata": {},
     "output_type": "execute_result"
    }
   ],
   "source": [
    "# Get unique patients when getting frequency of patient characteristics\n",
    "# Since all the patient characteristics remain the same, they will remain the same, but\n",
    "# mean will take the average age and the proportion of no shows\n",
    "unique_patients = df.groupby('PatientID').mean()\n",
    "len(unique_patients)"
   ]
  },
  {
   "cell_type": "code",
   "execution_count": 9,
   "metadata": {},
   "outputs": [
    {
     "data": {
      "image/png": "[encoded data removed]",
      "text/plain": [
       "<matplotlib.figure.Figure at 0x10c8d1780>"
      ]
     },
     "metadata": {},
     "output_type": "display_data"
    }
   ],
   "source": [
    "# Plot binary patient characteristics\n",
    "fields = ['Gender', 'BolsaFamilia', 'Alcoholism', 'Diabetes', 'Hypertension']\n",
    "xlabels = ['Gender', 'Bolsa Familia', 'Alcoholism', 'Diabetes', 'Hypertension']\n",
    "gender_labels = ['Male', 'Female']\n",
    "labels = ['No', 'Yes']\n",
    "\n",
    "fig, axes = plt.subplots(1, 5, figsize = (15, 5), sharey = True)\n",
    "\n",
    "i = 0\n",
    "for ax in axes.reshape(-1):\n",
    "    sns.countplot(ax = ax, x = fields[i], data = unique_patients)\n",
    "    sns.set_style(\"white\")\n",
    "    ax.tick_params(length = 0)\n",
    "    sns.despine(left = True, bottom = True)\n",
    "    if i == 0:\n",
    "        ax.set(xticklabels=['Male', 'Female'])\n",
    "        ax.set(xlabel = xlabels[i], ylabel = '')\n",
    "    else:\n",
    "        ax.set(xticklabels=['', ''])\n",
    "        ax.set(xlabel = '\\n' + xlabels[i], ylabel = '')\n",
    "    if i == 2:\n",
    "        ax.set_title('\\nPatient Characteristics\\n', fontsize = 18, fontweight = 'bold')\n",
    "    i += 1\n",
    "\n",
    "custom_lines = [Line2D([0], [0], color = 'steelblue', lw=4),\n",
    "                Line2D([0], [0], color = 'darkorange', lw=4)]\n",
    "ax.legend(custom_lines, ['No', 'Yes'])\n",
    "plt.show()"
   ]
  },
  {
   "cell_type": "code",
   "execution_count": 10,
   "metadata": {},
   "outputs": [
    {
     "data": {
      "text/html": [
       "<div>\n",
       "<style scoped>\n",
       "    .dataframe tbody tr th:only-of-type {\n",
       "        vertical-align: middle;\n",
       "    }\n",
       "\n",
       "    .dataframe tbody tr th {\n",
       "        vertical-align: top;\n",
       "    }\n",
       "\n",
       "    .dataframe thead th {\n",
       "        text-align: right;\n",
       "    }\n",
       "</style>\n",
       "<table border=\"1\" class=\"dataframe\">\n",
       "  <thead>\n",
       "    <tr style=\"text-align: right;\">\n",
       "      <th></th>\n",
       "      <th>Proportion</th>\n",
       "    </tr>\n",
       "  </thead>\n",
       "  <tbody>\n",
       "    <tr>\n",
       "      <th>Women</th>\n",
       "      <td>0.643</td>\n",
       "    </tr>\n",
       "    <tr>\n",
       "      <th>Bolsa Familia</th>\n",
       "      <td>0.093</td>\n",
       "    </tr>\n",
       "    <tr>\n",
       "      <th>Alcoholic</th>\n",
       "      <td>0.024</td>\n",
       "    </tr>\n",
       "    <tr>\n",
       "      <th>Diabetes</th>\n",
       "      <td>0.071</td>\n",
       "    </tr>\n",
       "    <tr>\n",
       "      <th>Hypertension</th>\n",
       "      <td>0.197</td>\n",
       "    </tr>\n",
       "  </tbody>\n",
       "</table>\n",
       "</div>"
      ],
      "text/plain": [
       "               Proportion\n",
       "Women               0.643\n",
       "Bolsa Familia       0.093\n",
       "Alcoholic           0.024\n",
       "Diabetes            0.071\n",
       "Hypertension        0.197"
      ]
     },
     "execution_count": 10,
     "metadata": {},
     "output_type": "execute_result"
    }
   ],
   "source": [
    "fields = ['Women', 'Bolsa Familia', 'Alcoholic', 'Diabetes', 'Hypertension']\n",
    "char_props = [round(unique_patients['Gender'].mean(), 3),\n",
    "              round(unique_patients['BolsaFamilia'].mean(), 3),\n",
    "              round(unique_patients['Alcoholism'].mean(), 3),\n",
    "              round(unique_patients['Diabetes'].mean(), 3),\n",
    "              round(unique_patients['Hypertension'].mean(), 3)]\n",
    "\n",
    "pd.DataFrame(char_props, index = fields, columns = ['Proportion'])"
   ]
  },
  {
   "cell_type": "code",
   "execution_count": 11,
   "metadata": {},
   "outputs": [
    {
     "data": {
      "text/plain": [
       "1.63"
      ]
     },
     "execution_count": 11,
     "metadata": {},
     "output_type": "execute_result"
    }
   ],
   "source": [
    "# Average number of appointments per patient\n",
    "round(df.groupby('PatientID')['AppointmentID'].count().mean(), 2)"
   ]
  },
  {
   "cell_type": "markdown",
   "metadata": {},
   "source": [
    "Almost 65% of the patients in the data set are women, which fits the stereotype that men avoid going to the doctor."
   ]
  },
  {
   "cell_type": "markdown",
   "metadata": {},
   "source": [
    "#### Age"
   ]
  },
  {
   "cell_type": "code",
   "execution_count": 12,
   "metadata": {
    "scrolled": true
   },
   "outputs": [
    {
     "data": {
      "image/png": "[encoded data removed]",
      "text/plain": [
       "<matplotlib.figure.Figure at 0x10c8d5080>"
      ]
     },
     "metadata": {},
     "output_type": "display_data"
    }
   ],
   "source": [
    "# Only plot the average age for each unique patient that appears in the dataset\n",
    "fig = plt.figure(figsize = (8, 5))\n",
    "sns.distplot(unique_patients['Age'], bins=list(range(0, 120, 5)))\n",
    "sns.despine(left = True, bottom = True)\n",
    "plt.title('\\nPatient Ages', fontsize = 18, fontweight = 'bold')\n",
    "plt.xlabel('')\n",
    "plt.xticks(np.arange(0, 120, 10))\n",
    "plt.show();"
   ]
  },
  {
   "cell_type": "code",
   "execution_count": 13,
   "metadata": {},
   "outputs": [
    {
     "data": {
      "text/plain": [
       "0-10      9984\n",
       "11-20     7608\n",
       "21-40    15653\n",
       "41-60    16452\n",
       "61-80     9130\n",
       "81-99     1439\n",
       "100+         4\n",
       "Name: Age, dtype: int64"
      ]
     },
     "execution_count": 13,
     "metadata": {},
     "output_type": "execute_result"
    }
   ],
   "source": [
    "bins = [0, 11, 21, 41, 61, 81, 100, 116]\n",
    "bin_names = [\"0-10\", \"11-20\", \"21-40\", \"41-60\", \"61-80\", \"81-99\", \"100+\"]\n",
    "\n",
    "ages_bins = pd.cut(unique_patients['Age'], bins = bins, labels = bin_names).value_counts()\n",
    "ages_bins.sort_index()"
   ]
  },
  {
   "cell_type": "code",
   "execution_count": 14,
   "metadata": {},
   "outputs": [
    {
     "data": {
      "text/plain": [
       "count    101803.000000\n",
       "mean         37.059900\n",
       "std          23.214054\n",
       "min           0.000000\n",
       "25%          18.000000\n",
       "50%          37.000000\n",
       "75%          56.000000\n",
       "max         115.000000\n",
       "Name: Age, dtype: float64"
      ]
     },
     "execution_count": 14,
     "metadata": {},
     "output_type": "execute_result"
    }
   ],
   "source": [
    "df['Age'].describe()"
   ]
  },
  {
   "cell_type": "markdown",
   "metadata": {},
   "source": [
    "A significant number of the patients are children aged from 0 to 5.  The ages are fairly uniform from 6 to 65, after which the number of patients decreases somewhat linearly."
   ]
  },
  {
   "cell_type": "markdown",
   "metadata": {},
   "source": [
    "#### Number of Handicaps"
   ]
  },
  {
   "cell_type": "code",
   "execution_count": 15,
   "metadata": {},
   "outputs": [
    {
     "data": {
      "image/png": "[encoded data removed]",
      "text/plain": [
       "<matplotlib.figure.Figure at 0x10c892ba8>"
      ]
     },
     "metadata": {},
     "output_type": "display_data"
    }
   ],
   "source": [
    "fig, ax = plt.subplots(figsize = (8, 5))\n",
    "sns.countplot(unique_patients['NumHandicaps'])\n",
    "sns.despine(left = True, bottom = True)\n",
    "plt.title('\\nNumber of Patient Handicaps\\n', fontsize = 18, fontweight = 'bold')\n",
    "plt.xlabel('')\n",
    "plt.ylabel('')\n",
    "ax.set(xticklabels=['0', '1', '2', '3', '4'])\n",
    "plt.show();"
   ]
  },
  {
   "cell_type": "code",
   "execution_count": 16,
   "metadata": {},
   "outputs": [
    {
     "data": {
      "text/plain": [
       "0.0    61165\n",
       "1.0     1025\n",
       "2.0       99\n",
       "3.0        6\n",
       "4.0        3\n",
       "Name: NumHandicaps, dtype: int64"
      ]
     },
     "execution_count": 16,
     "metadata": {},
     "output_type": "execute_result"
    }
   ],
   "source": [
    "unique_patients['NumHandicaps'].value_counts()"
   ]
  },
  {
   "cell_type": "code",
   "execution_count": 17,
   "metadata": {},
   "outputs": [
    {
     "data": {
      "text/plain": [
       "0.02"
      ]
     },
     "execution_count": 17,
     "metadata": {},
     "output_type": "execute_result"
    }
   ],
   "source": [
    "round(unique_patients['NumHandicaps'].mean(), 3)"
   ]
  },
  {
   "cell_type": "code",
   "execution_count": 18,
   "metadata": {},
   "outputs": [
    {
     "data": {
      "image/png": "[encoded data removed]",
      "text/plain": [
       "<matplotlib.figure.Figure at 0x10c892358>"
      ]
     },
     "metadata": {},
     "output_type": "display_data"
    }
   ],
   "source": [
    "fig, ax = plt.subplots(figsize = (8, 5))\n",
    "sns.countplot(unique_patients['HasHandicaps'])\n",
    "sns.despine(left = True, bottom = True)\n",
    "plt.title('\\nNumber of Patients with Handicaps\\n', fontsize = 18, fontweight = 'bold')\n",
    "plt.xlabel('')\n",
    "plt.ylabel('')\n",
    "ax.set(xticklabels=['No', 'Yes'])\n",
    "plt.show();"
   ]
  },
  {
   "cell_type": "markdown",
   "metadata": {},
   "source": [
    "#### Appointments by Day"
   ]
  },
  {
   "cell_type": "code",
   "execution_count": 19,
   "metadata": {},
   "outputs": [
    {
     "data": {
      "text/plain": [
       "2016-04-29    2979\n",
       "2016-04-30       0\n",
       "2016-05-01       0\n",
       "2016-05-02    4056\n",
       "2016-05-03    3960\n",
       "2016-05-04    3828\n",
       "2016-05-05    3984\n",
       "2016-05-06    3535\n",
       "2016-05-07       0\n",
       "2016-05-08       0\n",
       "2016-05-09    4164\n",
       "2016-05-10    3960\n",
       "2016-05-11    4162\n",
       "2016-05-12    4083\n",
       "2016-05-13    3568\n",
       "2016-05-14      38\n",
       "2016-05-15       0\n",
       "2016-05-16    4238\n",
       "2016-05-17    4069\n",
       "2016-05-18    4029\n",
       "2016-05-19    3931\n",
       "2016-05-20    3484\n",
       "2016-05-21       0\n",
       "2016-05-22       0\n",
       "2016-05-23       0\n",
       "2016-05-24    3692\n",
       "2016-05-25    3566\n",
       "2016-05-26       0\n",
       "2016-05-27       0\n",
       "2016-05-28       0\n",
       "2016-05-29       0\n",
       "2016-05-30    4139\n",
       "2016-05-31    3956\n",
       "2016-06-01    4088\n",
       "2016-06-02    4014\n",
       "2016-06-03    3766\n",
       "2016-06-04       0\n",
       "2016-06-05       0\n",
       "2016-06-06    4300\n",
       "2016-06-07    4098\n",
       "2016-06-08    4116\n",
       "Freq: D, Name: AppointmentDay, dtype: int64"
      ]
     },
     "execution_count": 19,
     "metadata": {},
     "output_type": "execute_result"
    }
   ],
   "source": [
    "df['AppointmentDay'].value_counts().sort_index().resample('D').sum()"
   ]
  },
  {
   "cell_type": "markdown",
   "metadata": {},
   "source": [
    "There were only 38 appointments on the weekend, all occurring on Saturday, May 14th.  Besides the weekends, there were no appointments on Monday, May 23; Thursday, May 26; or Friday, May 27.\n",
    "\n",
    "May 26 was the optional holiday of Corpus Christi, however I couldn't find any reason as to why there is no data for the 23rd or 27th."
   ]
  },
  {
   "cell_type": "code",
   "execution_count": 20,
   "metadata": {},
   "outputs": [
    {
     "data": {
      "text/plain": [
       "38"
      ]
     },
     "execution_count": 20,
     "metadata": {},
     "output_type": "execute_result"
    }
   ],
   "source": [
    "df['Weekend'].sum()"
   ]
  },
  {
   "cell_type": "code",
   "execution_count": 21,
   "metadata": {},
   "outputs": [
    {
     "data": {
      "image/png": "[encoded data removed]",
      "text/plain": [
       "<matplotlib.figure.Figure at 0x10ddaed30>"
      ]
     },
     "metadata": {},
     "output_type": "display_data"
    }
   ],
   "source": [
    "# Exclude weekends and weekdays with no appointments\n",
    "fig = plt.figure(figsize = (12, 8))\n",
    "no_weekends = df[df['Weekend'] == 0]\n",
    "appt_by_day = no_weekends.groupby('AppointmentDay')['AppointmentDay'].count()\n",
    "appt_by_day.plot(linewidth = 2)\n",
    "sns.despine(left = True, bottom = True)\n",
    "plt.title('\\nNumber of Appointments by Day\\n', fontsize = 18, fontweight = 'bold')\n",
    "plt.xlabel('');"
   ]
  },
  {
   "cell_type": "markdown",
   "metadata": {},
   "source": [
    "The weekends and weekdays with no appointments were excluded from the graph in order to focus more on the normal fluctuations without the low outliers affecting the graph."
   ]
  },
  {
   "cell_type": "code",
   "execution_count": 22,
   "metadata": {},
   "outputs": [
    {
     "data": {
      "text/plain": [
       "3914.04"
      ]
     },
     "execution_count": 22,
     "metadata": {},
     "output_type": "execute_result"
    }
   ],
   "source": [
    "# Average number of appointments per day (on non-zero days and weekdays)\n",
    "round(df[df['Weekend'] == 0]['AppointmentDay'].value_counts().mean(), 2)"
   ]
  },
  {
   "cell_type": "code",
   "execution_count": 23,
   "metadata": {},
   "outputs": [
    {
     "data": {
      "image/png": "[encoded data removed]",
      "text/plain": [
       "<matplotlib.figure.Figure at 0x10ddaeda0>"
      ]
     },
     "metadata": {},
     "output_type": "display_data"
    }
   ],
   "source": [
    "days_of_week = ['Monday', 'Tuesday', 'Wednesday', 'Thursday', 'Friday', 'Saturday']\n",
    "\n",
    "fig, ax = plt.subplots(figsize = (8, 5))\n",
    "df['DayOfWeek'].value_counts().sort_index().plot(ax = ax, kind = 'bar', color = 'steelblue')\n",
    "ax.set(xticklabels = days_of_week)\n",
    "sns.despine(left = True, bottom = True)\n",
    "plt.xticks(rotation = 0)\n",
    "plt.title('\\nAppointments by Day of Week\\n', fontsize = 18, fontweight = 'bold');"
   ]
  },
  {
   "cell_type": "markdown",
   "metadata": {},
   "source": [
    "The appointments started on Friday, April 29 and ended on Wednesday, June 8.  Hence there are not an equal number of weekdays in the dataset; there are appointments on five Thursdays, but six on every other weekday.  On the line graph, we can clearly see a peak occuring each Monday, and a dip occurring each Friday.  There isn't a consistent pattern for the number of appointments on Tuesdays, Wednesdays, and Thursdays, besides that they have less than or equal to Mondays, and more than Fridays."
   ]
  },
  {
   "cell_type": "markdown",
   "metadata": {},
   "source": [
    "#### Appointments By Day Scheduled"
   ]
  },
  {
   "cell_type": "code",
   "execution_count": 24,
   "metadata": {
    "scrolled": false
   },
   "outputs": [
    {
     "data": {
      "image/png": "[encoded data removed]",
      "text/plain": [
       "<matplotlib.figure.Figure at 0x1a0f780a90>"
      ]
     },
     "metadata": {},
     "output_type": "display_data"
    }
   ],
   "source": [
    "sched_date_counts = df.groupby('ScheduledDayDate')['ScheduledDayDate'].count()\n",
    "\n",
    "# Find index of first scheduled date that is an appointment date\n",
    "sched_len = len(sched_date_counts)\n",
    "first_ix = list(sched_date_counts.index > df['AppointmentDayDate'].min()).index(True)\n",
    "\n",
    "# Use orange for the appointments scheduled during the time period that\n",
    "# the appointments took place\n",
    "colors = ['steelblue'] * first_ix\n",
    "colors.extend(['darkorange'] * (sched_len-first_ix))\n",
    "\n",
    "fig, ax = plt.subplots(figsize = (12, 8))\n",
    "ax.bar(sched_date_counts.index, sched_date_counts, color = colors)\n",
    "ax.xaxis.set_major_locator(mdates.MonthLocator())\n",
    "ax.xaxis.set_major_formatter(mdates.DateFormatter('%B\\n%Y'))\n",
    "\n",
    "custom_lines = [Line2D([0], [0], color = 'steelblue', lw=4),\n",
    "                Line2D([0], [0], color = 'darkorange', lw=4)]\n",
    "ax.legend(custom_lines, ['Prior to appointments starting',\n",
    "                         'During time period when appointments started'])\n",
    "\n",
    "sns.despine(left = True, bottom = True)\n",
    "plt.xticks(rotation = 45, fontsize = 13)\n",
    "plt.title('\\nNumber of Appointments by Day Scheduled\\n', fontsize = 18, fontweight = 'bold');"
   ]
  },
  {
   "cell_type": "code",
   "execution_count": 25,
   "metadata": {},
   "outputs": [
    {
     "data": {
      "text/plain": [
       "0.736"
      ]
     },
     "execution_count": 25,
     "metadata": {},
     "output_type": "execute_result"
    }
   ],
   "source": [
    "# Proportion of appointments that were scheduled during the time period that\n",
    "# the appointments took place\n",
    "float('{:0.3f}'.format(sched_date_counts[first_ix:].sum()/sched_date_counts.sum()))"
   ]
  },
  {
   "cell_type": "markdown",
   "metadata": {},
   "source": [
    "The vast majority of appointments were made during the two weeks that the appointments were scheduled for.  Additionally, the closer to the appointments we get, the more appointments were scheduled. "
   ]
  },
  {
   "cell_type": "markdown",
   "metadata": {},
   "source": [
    "#### Appointments By Hour Scheduled"
   ]
  },
  {
   "cell_type": "code",
   "execution_count": 26,
   "metadata": {},
   "outputs": [
    {
     "data": {
      "text/plain": [
       "6        25\n",
       "7     10940\n",
       "8     15904\n",
       "9     12770\n",
       "10    10841\n",
       "11     9135\n",
       "12     5818\n",
       "13     6272\n",
       "14     9015\n",
       "15     7811\n",
       "16     6575\n",
       "17     3822\n",
       "18     1865\n",
       "19      755\n",
       "20      230\n",
       "21       25\n",
       "Name: ScheduledHour, dtype: int64"
      ]
     },
     "execution_count": 26,
     "metadata": {},
     "output_type": "execute_result"
    }
   ],
   "source": [
    "hour_counts = df['ScheduledHour'].value_counts()\n",
    "hour_counts.sort_index()"
   ]
  },
  {
   "cell_type": "code",
   "execution_count": 27,
   "metadata": {},
   "outputs": [
    {
     "data": {
      "image/png": "[encoded data removed]",
      "text/plain": [
       "<matplotlib.figure.Figure at 0x1a0f774668>"
      ]
     },
     "metadata": {},
     "output_type": "display_data"
    }
   ],
   "source": [
    "fig, ax = plt.subplots(figsize = (8, 5))\n",
    "hour_counts.sort_index().plot(kind = 'line', color = 'steelblue')\n",
    "sns.despine(left = True, bottom = True)\n",
    "\n",
    "formatted_hours = [str(hour) + ':00' for hour in range(6, 22)]\n",
    "plt.xticks(np.arange(6, 22, 1), rotation = 45)\n",
    "ax.set(xticklabels=formatted_hours)\n",
    "plt.title('\\nAppointments by Scheduled Hour\\n', fontsize = 18, fontweight = 'bold');"
   ]
  },
  {
   "cell_type": "markdown",
   "metadata": {},
   "source": [
    "We can clearly see that the majority of appointments were made before 11am, with a smaller spike around 2pm, at which time it also begins monotonically decreasing."
   ]
  },
  {
   "cell_type": "markdown",
   "metadata": {},
   "source": [
    "#### Neighborhoods"
   ]
  },
  {
   "cell_type": "code",
   "execution_count": 28,
   "metadata": {},
   "outputs": [
    {
     "data": {
      "image/png": "[encoded data removed]",
      "text/plain": [
       "<matplotlib.figure.Figure at 0x10ddca4e0>"
      ]
     },
     "metadata": {},
     "output_type": "display_data"
    }
   ],
   "source": [
    "neighborhood_counts = df['Neighborhood'].value_counts()\n",
    "\n",
    "fig, ax = plt.subplots(figsize = (10, 15))\n",
    "neighborhood_counts.sort_values().plot(kind = 'barh', color = 'steelblue')\n",
    "sns.despine(left = True, bottom = True)\n",
    "plt.yticks(fontsize = 12)\n",
    "plt.title('\\nAppointments by Neighborhood\\n', fontsize = 18, fontweight = 'bold');"
   ]
  },
  {
   "cell_type": "markdown",
   "metadata": {},
   "source": [
    "There is a great discrepancy in the number of appointments in the different neighborhoods; one neighborhood has almost 7000 appointments while there are four neighborhoods with ten or fewer appointments."
   ]
  },
  {
   "cell_type": "code",
   "execution_count": 29,
   "metadata": {},
   "outputs": [
    {
     "data": {
      "text/html": [
       "<div>\n",
       "<style scoped>\n",
       "    .dataframe tbody tr th:only-of-type {\n",
       "        vertical-align: middle;\n",
       "    }\n",
       "\n",
       "    .dataframe tbody tr th {\n",
       "        vertical-align: top;\n",
       "    }\n",
       "\n",
       "    .dataframe thead th {\n",
       "        text-align: right;\n",
       "    }\n",
       "</style>\n",
       "<table border=\"1\" class=\"dataframe\">\n",
       "  <thead>\n",
       "    <tr style=\"text-align: right;\">\n",
       "      <th></th>\n",
       "      <th>neighborhood</th>\n",
       "      <th>count</th>\n",
       "      <th>lat</th>\n",
       "      <th>lng</th>\n",
       "      <th>prop</th>\n",
       "    </tr>\n",
       "  </thead>\n",
       "  <tbody>\n",
       "    <tr>\n",
       "      <th>0</th>\n",
       "      <td>JARDIM CAMBURI</td>\n",
       "      <td>6978</td>\n",
       "      <td>-20.265020</td>\n",
       "      <td>-40.264420</td>\n",
       "      <td>0.068544</td>\n",
       "    </tr>\n",
       "    <tr>\n",
       "      <th>1</th>\n",
       "      <td>MARIA ORTIZ</td>\n",
       "      <td>5464</td>\n",
       "      <td>-20.258221</td>\n",
       "      <td>-40.297482</td>\n",
       "      <td>0.053672</td>\n",
       "    </tr>\n",
       "    <tr>\n",
       "      <th>2</th>\n",
       "      <td>RESISTÊNCIA</td>\n",
       "      <td>4025</td>\n",
       "      <td>-20.270830</td>\n",
       "      <td>-40.320320</td>\n",
       "      <td>0.039537</td>\n",
       "    </tr>\n",
       "    <tr>\n",
       "      <th>3</th>\n",
       "      <td>JARDIM DA PENHA</td>\n",
       "      <td>3587</td>\n",
       "      <td>-20.284531</td>\n",
       "      <td>-40.294998</td>\n",
       "      <td>0.035235</td>\n",
       "    </tr>\n",
       "    <tr>\n",
       "      <th>4</th>\n",
       "      <td>ITARARÉ</td>\n",
       "      <td>3226</td>\n",
       "      <td>-20.295549</td>\n",
       "      <td>-40.305199</td>\n",
       "      <td>0.031689</td>\n",
       "    </tr>\n",
       "  </tbody>\n",
       "</table>\n",
       "</div>"
      ],
      "text/plain": [
       "      neighborhood  count        lat        lng      prop\n",
       "0   JARDIM CAMBURI   6978 -20.265020 -40.264420  0.068544\n",
       "1      MARIA ORTIZ   5464 -20.258221 -40.297482  0.053672\n",
       "2      RESISTÊNCIA   4025 -20.270830 -40.320320  0.039537\n",
       "3  JARDIM DA PENHA   3587 -20.284531 -40.294998  0.035235\n",
       "4          ITARARÉ   3226 -20.295549 -40.305199  0.031689"
      ]
     },
     "execution_count": 29,
     "metadata": {},
     "output_type": "execute_result"
    }
   ],
   "source": [
    "neighborhood_df = pd.DataFrame(neighborhood_counts).reset_index().rename(columns = {'index': 'neighborhood',\n",
    "                                                                                    'Neighborhood': 'count'})\n",
    "# join neighborhood_counts with geo dataframe\n",
    "neighborhood_lat_lng = pd.merge(neighborhood_df, geo[['neighborhood', 'lat', 'lng']], on = 'neighborhood')\n",
    "\n",
    "# convert counts to proportions\n",
    "neighborhood_lat_lng['prop'] = neighborhood_lat_lng['count']/len(df)\n",
    "neighborhood_lat_lng.head()"
   ]
  },
  {
   "cell_type": "code",
   "execution_count": 30,
   "metadata": {},
   "outputs": [
    {
     "data": {
      "text/html": [
       "<div style=\"width:100%;\"><div style=\"position:relative;width:100%;height:0;padding-bottom:60%;\"><iframe src=\"data:text/html;charset=utf-8;base64,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\" style=\"position:absolute;width:100%;height:100%;left:0;top:0;border:none !important;\" allowfullscreen webkitallowfullscreen mozallowfullscreen></iframe></div></div>"
      ],
      "text/plain": [
       "<folium.folium.Map at 0x1a108295f8>"
      ]
     },
     "execution_count": 30,
     "metadata": {},
     "output_type": "execute_result"
    }
   ],
   "source": [
    "hood_lst = neighborhood_lat_lng[['lat', 'lng', 'prop']].values.tolist() # need to pass list to folium\n",
    "\n",
    "m = folium.Map(location=[-20.292474, -40.317893], tiles='stamentoner', zoom_start = 13)\n",
    "m.add_child(folium.plugins.HeatMap(hood_lst))"
   ]
  },
  {
   "cell_type": "markdown",
   "metadata": {},
   "source": [
    "#### SMS Received and No Shows"
   ]
  },
  {
   "cell_type": "code",
   "execution_count": 31,
   "metadata": {},
   "outputs": [
    {
     "data": {
      "image/png": "[encoded data removed]",
      "text/plain": [
       "<matplotlib.figure.Figure at 0x1a1065aba8>"
      ]
     },
     "metadata": {},
     "output_type": "display_data"
    }
   ],
   "source": [
    "# Plot binary appointment characteristics\n",
    "fields = ['SMSReceived', 'NoShow']\n",
    "xlabels = ['SMS Received', 'No Show']\n",
    "labels = ['No', 'Yes']\n",
    "\n",
    "fig, axes = plt.subplots(1, 2, figsize = (8, 5), sharey = True)\n",
    "\n",
    "i = 0\n",
    "for ax in axes.reshape(-1):\n",
    "    sns.countplot(ax = ax, x = fields[i], data = df)\n",
    "    sns.set_style(\"white\")\n",
    "    ax.tick_params(length = 0)\n",
    "    sns.despine(left = True, bottom = True)\n",
    "    ax.set(xticklabels=['', ''])\n",
    "    ax.set(xlabel = '\\n' + xlabels[i], ylabel = '')\n",
    "    i += 1\n",
    "    \n",
    "custom_lines = [Line2D([0], [0], color = 'steelblue', lw=4),\n",
    "                Line2D([0], [0], color = 'darkorange', lw=4)]\n",
    "ax.legend(custom_lines, ['No', 'Yes'])\n",
    "plt.show()"
   ]
  },
  {
   "cell_type": "code",
   "execution_count": 32,
   "metadata": {},
   "outputs": [
    {
     "data": {
      "text/plain": [
       "0.325"
      ]
     },
     "execution_count": 32,
     "metadata": {},
     "output_type": "execute_result"
    }
   ],
   "source": [
    "# Proportion of sms received\n",
    "round(df['SMSReceived'].mean(), 3)"
   ]
  },
  {
   "cell_type": "code",
   "execution_count": 33,
   "metadata": {},
   "outputs": [
    {
     "data": {
      "text/plain": [
       "0.197"
      ]
     },
     "execution_count": 33,
     "metadata": {},
     "output_type": "execute_result"
    }
   ],
   "source": [
    "# Proportion of no shows\n",
    "no_show_rate = df['NoShow'].mean()\n",
    "round(no_show_rate, 3)"
   ]
  },
  {
   "cell_type": "markdown",
   "metadata": {},
   "source": [
    "#### Number of Times an Appointment was Scheduled"
   ]
  },
  {
   "cell_type": "code",
   "execution_count": 34,
   "metadata": {},
   "outputs": [
    {
     "data": {
      "text/plain": [
       "count    101803.000000\n",
       "mean          1.085636\n",
       "std           0.332597\n",
       "min           1.000000\n",
       "25%           1.000000\n",
       "50%           1.000000\n",
       "75%           1.000000\n",
       "max          10.000000\n",
       "Name: NumTimesScheduled, dtype: float64"
      ]
     },
     "execution_count": 34,
     "metadata": {},
     "output_type": "execute_result"
    }
   ],
   "source": [
    "df['NumTimesScheduled'].describe()"
   ]
  },
  {
   "cell_type": "code",
   "execution_count": 35,
   "metadata": {},
   "outputs": [],
   "source": [
    "# Append missing values from value_counts index\n",
    "missing_times_sched = pd.Series([0, 0], index = [7, 9])\n",
    "missing_times_sched\n",
    "\n",
    "num_times_sched = (df['NumTimesScheduled'].value_counts()).append(missing_times_sched).\\\n",
    "                   sort_index()"
   ]
  },
  {
   "cell_type": "code",
   "execution_count": 36,
   "metadata": {},
   "outputs": [
    {
     "data": {
      "image/png": "[encoded data removed]",
      "text/plain": [
       "<matplotlib.figure.Figure at 0x1a1064f048>"
      ]
     },
     "metadata": {},
     "output_type": "display_data"
    }
   ],
   "source": [
    "fig, ax = plt.subplots(figsize = (8, 5))\n",
    "num_times_sched.plot(kind = 'bar', color = '#2977B4')\n",
    "\n",
    "plt.xticks(rotation = 0)\n",
    "plt.ylabel('')\n",
    "sns.despine(left = True, bottom = True)\n",
    "plt.title('\\nNumber of Times an Appointment was Scheduled\\n', fontsize = 18, fontweight = 'bold');"
   ]
  },
  {
   "cell_type": "code",
   "execution_count": 37,
   "metadata": {},
   "outputs": [
    {
     "data": {
      "image/png": "[encoded data removed]",
      "text/plain": [
       "<matplotlib.figure.Figure at 0x10d3b57b8>"
      ]
     },
     "metadata": {},
     "output_type": "display_data"
    }
   ],
   "source": [
    "fig, ax = plt.subplots(figsize = (8, 5))\n",
    "num_times_sched.plot(kind = 'bar', color = '#2977B4')\n",
    "\n",
    "plt.xticks(rotation = 0)\n",
    "plt.ylabel('')\n",
    "ax.set_yscale('log')\n",
    "sns.despine(left = True, bottom = True)\n",
    "plt.title('\\nNumber of Times an Appointment was Scheduled\\n', fontsize = 18, fontweight = 'bold')\n",
    "plt.suptitle('\\nLog Scale\\n', fontsize = 16);"
   ]
  },
  {
   "cell_type": "code",
   "execution_count": 38,
   "metadata": {},
   "outputs": [
    {
     "data": {
      "text/plain": [
       "0.927"
      ]
     },
     "execution_count": 38,
     "metadata": {},
     "output_type": "execute_result"
    }
   ],
   "source": [
    "round(len(df[df['NumTimesScheduled'] == 1])/len(df), 3)"
   ]
  },
  {
   "cell_type": "markdown",
   "metadata": {},
   "source": [
    "Almost 93% of the appointments were only scheduled once, but there are appointments that were rescheduled up to nine times.  The data is skewed to the right.  We can see the magnitudinal differences in the number of schedulings in the log scale plot.  The data is still skewed to the right even after the log transform."
   ]
  },
  {
   "cell_type": "markdown",
   "metadata": {},
   "source": [
    "#### Days Between Scheduling and Appointment"
   ]
  },
  {
   "cell_type": "code",
   "execution_count": 39,
   "metadata": {},
   "outputs": [
    {
     "data": {
      "text/plain": [
       "count    101803.000000\n",
       "mean         10.084408\n",
       "std          15.177670\n",
       "min           0.000000\n",
       "25%           0.000000\n",
       "50%           4.000000\n",
       "75%          14.000000\n",
       "max         179.000000\n",
       "Name: DayDiff, dtype: float64"
      ]
     },
     "execution_count": 39,
     "metadata": {},
     "output_type": "execute_result"
    }
   ],
   "source": [
    "df['DayDiff'].describe()"
   ]
  },
  {
   "cell_type": "code",
   "execution_count": 40,
   "metadata": {},
   "outputs": [
    {
     "data": {
      "image/png": "[encoded data removed]",
      "text/plain": [
       "<matplotlib.figure.Figure at 0x1a10771be0>"
      ]
     },
     "metadata": {},
     "output_type": "display_data"
    }
   ],
   "source": [
    "fig, ax = plt.subplots(figsize = (8, 5))\n",
    "df['DayDiff'].hist(bins = 25)\n",
    "sns.despine(left = True, bottom = True)\n",
    "plt.title('\\nDays Between Scheduling and Appointment\\n', fontsize = 18, fontweight = 'bold')\n",
    "plt.show();"
   ]
  },
  {
   "cell_type": "code",
   "execution_count": 41,
   "metadata": {},
   "outputs": [
    {
     "data": {
      "image/png": "[encoded data removed]",
      "text/plain": [
       "<matplotlib.figure.Figure at 0x1a113bc710>"
      ]
     },
     "metadata": {},
     "output_type": "display_data"
    }
   ],
   "source": [
    "fig, ax = plt.subplots(figsize = (8, 5))\n",
    "df['DayDiff'].hist(bins = 25)\n",
    "sns.despine(left = True, bottom = True)\n",
    "ax.set_yscale('log')\n",
    "plt.title('\\nDays Between Scheduling and Appointment\\n', fontsize = 18, fontweight = 'bold')\n",
    "plt.suptitle('\\nLog Scale\\n', fontsize = 16);\n",
    "plt.show();"
   ]
  },
  {
   "cell_type": "code",
   "execution_count": 42,
   "metadata": {},
   "outputs": [
    {
     "data": {
      "text/plain": [
       "0.347"
      ]
     },
     "execution_count": 42,
     "metadata": {},
     "output_type": "execute_result"
    }
   ],
   "source": [
    "# Proportion of appointments scheduled on the same day as the appointment\n",
    "float('{:0.3f}'.format((df['DayDiff'] == 0).sum()/len(df)))"
   ]
  },
  {
   "cell_type": "code",
   "execution_count": 43,
   "metadata": {},
   "outputs": [],
   "source": [
    "### DELETE THIS LATER\n",
    "day_diff_bin_labels = ['0', '1', '2', '3-5', '6-10', '11-14', '15-29', '30-59',\n",
    "                       '60-99', '100+']"
   ]
  },
  {
   "cell_type": "code",
   "execution_count": 44,
   "metadata": {},
   "outputs": [
    {
     "data": {
      "text/html": [
       "<div>\n",
       "<style scoped>\n",
       "    .dataframe tbody tr th:only-of-type {\n",
       "        vertical-align: middle;\n",
       "    }\n",
       "\n",
       "    .dataframe tbody tr th {\n",
       "        vertical-align: top;\n",
       "    }\n",
       "\n",
       "    .dataframe thead th {\n",
       "        text-align: right;\n",
       "    }\n",
       "</style>\n",
       "<table border=\"1\" class=\"dataframe\">\n",
       "  <thead>\n",
       "    <tr style=\"text-align: right;\">\n",
       "      <th></th>\n",
       "      <th>index</th>\n",
       "      <th>DayDiffBin</th>\n",
       "      <th>sort_order</th>\n",
       "    </tr>\n",
       "  </thead>\n",
       "  <tbody>\n",
       "    <tr>\n",
       "      <th>0</th>\n",
       "      <td>0</td>\n",
       "      <td>35280</td>\n",
       "      <td>0</td>\n",
       "    </tr>\n",
       "    <tr>\n",
       "      <th>1</th>\n",
       "      <td>15-29</td>\n",
       "      <td>15213</td>\n",
       "      <td>6</td>\n",
       "    </tr>\n",
       "    <tr>\n",
       "      <th>2</th>\n",
       "      <td>6-10</td>\n",
       "      <td>13153</td>\n",
       "      <td>4</td>\n",
       "    </tr>\n",
       "    <tr>\n",
       "      <th>3</th>\n",
       "      <td>3-5</td>\n",
       "      <td>10660</td>\n",
       "      <td>3</td>\n",
       "    </tr>\n",
       "    <tr>\n",
       "      <th>4</th>\n",
       "      <td>30-59</td>\n",
       "      <td>8090</td>\n",
       "      <td>7</td>\n",
       "    </tr>\n",
       "    <tr>\n",
       "      <th>5</th>\n",
       "      <td>2</td>\n",
       "      <td>6464</td>\n",
       "      <td>2</td>\n",
       "    </tr>\n",
       "    <tr>\n",
       "      <th>6</th>\n",
       "      <td>11-14</td>\n",
       "      <td>6100</td>\n",
       "      <td>5</td>\n",
       "    </tr>\n",
       "    <tr>\n",
       "      <th>7</th>\n",
       "      <td>1</td>\n",
       "      <td>4885</td>\n",
       "      <td>1</td>\n",
       "    </tr>\n",
       "    <tr>\n",
       "      <th>8</th>\n",
       "      <td>60-99</td>\n",
       "      <td>1830</td>\n",
       "      <td>8</td>\n",
       "    </tr>\n",
       "    <tr>\n",
       "      <th>9</th>\n",
       "      <td>100+</td>\n",
       "      <td>128</td>\n",
       "      <td>9</td>\n",
       "    </tr>\n",
       "  </tbody>\n",
       "</table>\n",
       "</div>"
      ],
      "text/plain": [
       "   index  DayDiffBin  sort_order\n",
       "0      0       35280           0\n",
       "1  15-29       15213           6\n",
       "2   6-10       13153           4\n",
       "3    3-5       10660           3\n",
       "4  30-59        8090           7\n",
       "5      2        6464           2\n",
       "6  11-14        6100           5\n",
       "7      1        4885           1\n",
       "8  60-99        1830           8\n",
       "9   100+         128           9"
      ]
     },
     "execution_count": 44,
     "metadata": {},
     "output_type": "execute_result"
    }
   ],
   "source": [
    "# Create dictionary of sorting order\n",
    "day_diff_sorter = dict(zip(day_diff_bin_labels, range(len(day_diff_bin_labels))))\n",
    "day_diff_df = df['DayDiffBin'].value_counts().reset_index()\n",
    "\n",
    "# Create a column of the sorting order\n",
    "day_diff_df['sort_order'] = day_diff_df['index'].map(day_diff_sorter)\n",
    "day_diff_df.sort_values(by = 'sort_order')\n",
    "day_diff_df"
   ]
  },
  {
   "cell_type": "code",
   "execution_count": 45,
   "metadata": {},
   "outputs": [
    {
     "data": {
      "image/png": "[encoded data removed]",
      "text/plain": [
       "<matplotlib.figure.Figure at 0x1a113c0ac8>"
      ]
     },
     "metadata": {},
     "output_type": "display_data"
    }
   ],
   "source": [
    "fig, ax = plt.subplots(figsize = (8, 5))\n",
    "sns.despine(left = True, bottom = True)\n",
    "sns.barplot(ax = ax, x = 'sort_order', y = 'DayDiffBin', data = day_diff_df,\n",
    "           color = '#2977B4')\n",
    "ax.set(xticklabels = day_diff_bin_labels)\n",
    "plt.xlabel('')\n",
    "plt.ylabel('')\n",
    "plt.xticks(rotation = 0)\n",
    "plt.title('\\nDays Between Scheduling and Appointment\\n', fontsize = 18, fontweight = 'bold')\n",
    "plt.show();"
   ]
  },
  {
   "cell_type": "markdown",
   "metadata": {},
   "source": [
    "About 35% of the appointments were made on the same day as the appointment.  Very few appointments were made more than a month in advance."
   ]
  },
  {
   "cell_type": "markdown",
   "metadata": {},
   "source": [
    "#### Days Between Rescheduling"
   ]
  },
  {
   "cell_type": "code",
   "execution_count": 46,
   "metadata": {},
   "outputs": [
    {
     "data": {
      "text/plain": [
       "count    101803.000000\n",
       "mean          0.408667\n",
       "std           3.721975\n",
       "min           0.000000\n",
       "25%           0.000000\n",
       "50%           0.000000\n",
       "75%           0.000000\n",
       "max         134.040833\n",
       "Name: DaysBWScheduling, dtype: float64"
      ]
     },
     "execution_count": 46,
     "metadata": {},
     "output_type": "execute_result"
    }
   ],
   "source": [
    "df['DaysBWScheduling'].describe()"
   ]
  },
  {
   "cell_type": "code",
   "execution_count": 47,
   "metadata": {},
   "outputs": [
    {
     "data": {
      "image/png": "[encoded data removed]",
      "text/plain": [
       "<matplotlib.figure.Figure at 0x1a113c0860>"
      ]
     },
     "metadata": {},
     "output_type": "display_data"
    }
   ],
   "source": [
    "fig, ax = plt.subplots(figsize = (8, 5))\n",
    "df['DaysBWScheduling'].hist(bins = 30)\n",
    "sns.despine(left = True, bottom = True)\n",
    "plt.xlabel('Days', fontsize = 14)\n",
    "plt.title('\\nDays Between Rescheduling\\n', fontsize = 18, fontweight = 'bold');"
   ]
  },
  {
   "cell_type": "markdown",
   "metadata": {},
   "source": [
    "From the plots of NumTimesScheduled, we know that 93% of the appointments were made once (i.e. were not rescheduled), and hence there are zero days between the original scheduling and the rescheduling of the appointment."
   ]
  },
  {
   "cell_type": "code",
   "execution_count": 48,
   "metadata": {},
   "outputs": [
    {
     "data": {
      "text/plain": [
       "count    6315.000000\n",
       "mean        6.588043\n",
       "std        13.514442\n",
       "min         0.000012\n",
       "25%         0.007373\n",
       "50%         0.191690\n",
       "75%         6.905104\n",
       "max       134.040833\n",
       "Name: DaysBWScheduling, dtype: float64"
      ]
     },
     "execution_count": 48,
     "metadata": {},
     "output_type": "execute_result"
    }
   ],
   "source": [
    "# Differences that are greater than 0\n",
    "diff_greater_0 = df.query('DaysBWScheduling > 0')['DaysBWScheduling']\n",
    "diff_greater_0.describe()"
   ]
  },
  {
   "cell_type": "code",
   "execution_count": 49,
   "metadata": {},
   "outputs": [
    {
     "data": {
      "image/png": "[encoded data removed]",
      "text/plain": [
       "<matplotlib.figure.Figure at 0x10ce4fc88>"
      ]
     },
     "metadata": {},
     "output_type": "display_data"
    }
   ],
   "source": [
    "fig, ax = plt.subplots(figsize = (8, 5))\n",
    "diff_greater_0.hist(bins = 20)\n",
    "sns.despine(left = True, bottom = True)\n",
    "plt.xlabel('Days', fontsize = 14)\n",
    "plt.title('\\nNon-Zero Differences in Rescheduling\\n', fontsize = 18, fontweight = 'bold');"
   ]
  },
  {
   "cell_type": "markdown",
   "metadata": {},
   "source": [
    "Most of the appointments that were rescheduled were scheduled later on the same day as the original scheduling."
   ]
  },
  {
   "cell_type": "code",
   "execution_count": 50,
   "metadata": {},
   "outputs": [
    {
     "data": {
      "image/png": "[encoded data removed]",
      "text/plain": [
       "<matplotlib.figure.Figure at 0x1a0f741710>"
      ]
     },
     "metadata": {},
     "output_type": "display_data"
    }
   ],
   "source": [
    "fig, ax = plt.subplots(figsize = (8, 5))\n",
    "df['DaysBWScheduling'].hist(bins = 20)\n",
    "sns.despine(left = True, bottom = True)\n",
    "plt.xlabel('Days', fontsize = 14)\n",
    "ax.set_yscale('log')\n",
    "plt.title('\\nDays Between Rescheduling\\n', fontsize = 18, fontweight = 'bold')\n",
    "plt.suptitle('\\nLog Scale\\n', fontsize = 16);"
   ]
  },
  {
   "cell_type": "markdown",
   "metadata": {},
   "source": [
    "The data was skewed to the right using a normal scale, and it remains positively skewed after using a log scale."
   ]
  },
  {
   "cell_type": "code",
   "execution_count": 51,
   "metadata": {},
   "outputs": [],
   "source": [
    "# DELETE LATER\n",
    "day_bw_labels = ['0', '<1', '1', '2', '3-5', '6-10', '11-14', '15-29', '30-59', '60+']"
   ]
  },
  {
   "cell_type": "code",
   "execution_count": 52,
   "metadata": {},
   "outputs": [
    {
     "data": {
      "text/html": [
       "<div>\n",
       "<style scoped>\n",
       "    .dataframe tbody tr th:only-of-type {\n",
       "        vertical-align: middle;\n",
       "    }\n",
       "\n",
       "    .dataframe tbody tr th {\n",
       "        vertical-align: top;\n",
       "    }\n",
       "\n",
       "    .dataframe thead th {\n",
       "        text-align: right;\n",
       "    }\n",
       "</style>\n",
       "<table border=\"1\" class=\"dataframe\">\n",
       "  <thead>\n",
       "    <tr style=\"text-align: right;\">\n",
       "      <th></th>\n",
       "      <th>index</th>\n",
       "      <th>DayBWBin</th>\n",
       "      <th>sort_order</th>\n",
       "    </tr>\n",
       "  </thead>\n",
       "  <tbody>\n",
       "    <tr>\n",
       "      <th>0</th>\n",
       "      <td>0</td>\n",
       "      <td>95488</td>\n",
       "      <td>0</td>\n",
       "    </tr>\n",
       "    <tr>\n",
       "      <th>1</th>\n",
       "      <td>&lt;1</td>\n",
       "      <td>3871</td>\n",
       "      <td>1</td>\n",
       "    </tr>\n",
       "    <tr>\n",
       "      <th>2</th>\n",
       "      <td>15-29</td>\n",
       "      <td>571</td>\n",
       "      <td>7</td>\n",
       "    </tr>\n",
       "    <tr>\n",
       "      <th>3</th>\n",
       "      <td>6-10</td>\n",
       "      <td>454</td>\n",
       "      <td>5</td>\n",
       "    </tr>\n",
       "    <tr>\n",
       "      <th>4</th>\n",
       "      <td>3-5</td>\n",
       "      <td>390</td>\n",
       "      <td>4</td>\n",
       "    </tr>\n",
       "    <tr>\n",
       "      <th>5</th>\n",
       "      <td>30-59</td>\n",
       "      <td>292</td>\n",
       "      <td>8</td>\n",
       "    </tr>\n",
       "    <tr>\n",
       "      <th>6</th>\n",
       "      <td>11-14</td>\n",
       "      <td>281</td>\n",
       "      <td>6</td>\n",
       "    </tr>\n",
       "    <tr>\n",
       "      <th>7</th>\n",
       "      <td>1</td>\n",
       "      <td>215</td>\n",
       "      <td>2</td>\n",
       "    </tr>\n",
       "    <tr>\n",
       "      <th>8</th>\n",
       "      <td>2</td>\n",
       "      <td>145</td>\n",
       "      <td>3</td>\n",
       "    </tr>\n",
       "    <tr>\n",
       "      <th>9</th>\n",
       "      <td>60+</td>\n",
       "      <td>96</td>\n",
       "      <td>9</td>\n",
       "    </tr>\n",
       "  </tbody>\n",
       "</table>\n",
       "</div>"
      ],
      "text/plain": [
       "   index  DayBWBin  sort_order\n",
       "0      0     95488           0\n",
       "1     <1      3871           1\n",
       "2  15-29       571           7\n",
       "3   6-10       454           5\n",
       "4    3-5       390           4\n",
       "5  30-59       292           8\n",
       "6  11-14       281           6\n",
       "7      1       215           2\n",
       "8      2       145           3\n",
       "9    60+        96           9"
      ]
     },
     "execution_count": 52,
     "metadata": {},
     "output_type": "execute_result"
    }
   ],
   "source": [
    "# Create dictionary of sorting order\n",
    "day_bw_sorter = dict(zip(day_bw_labels, range(len(day_bw_labels))))\n",
    "day_bw_df = df['DayBWBin'].value_counts().reset_index()\n",
    "\n",
    "# Create a column of the sorting order\n",
    "day_bw_df['sort_order'] = day_bw_df['index'].map(day_bw_sorter)\n",
    "day_bw_df.sort_values(by = 'sort_order')\n",
    "day_bw_df"
   ]
  },
  {
   "cell_type": "code",
   "execution_count": 53,
   "metadata": {},
   "outputs": [
    {
     "data": {
      "image/png": "[encoded data removed]",
      "text/plain": [
       "<matplotlib.figure.Figure at 0x1a10efa6a0>"
      ]
     },
     "metadata": {},
     "output_type": "display_data"
    }
   ],
   "source": [
    "fig, ax = plt.subplots(figsize = (8, 5))\n",
    "sns.despine(left = True, bottom = True)\n",
    "sns.barplot(ax = ax, x = 'sort_order', y = 'DayBWBin',\n",
    "            data = day_bw_df[1:],\n",
    "            color = '#2977B4')\n",
    "ax.set(xticklabels = day_bw_labels[1:])\n",
    "plt.xticks(rotation = 0)\n",
    "plt.xlabel('')\n",
    "plt.ylabel('')\n",
    "plt.title('\\nNon-Zero Days Between Rescheduling\\n', fontsize = 18, fontweight = 'bold')\n",
    "plt.show();"
   ]
  },
  {
   "cell_type": "markdown",
   "metadata": {},
   "source": [
    "#### Prior Attendance Record"
   ]
  },
  {
   "cell_type": "code",
   "execution_count": 54,
   "metadata": {},
   "outputs": [
    {
     "data": {
      "image/png": "[encoded data removed]",
      "text/plain": [
       "<matplotlib.figure.Figure at 0x1a107a8ef0>"
      ]
     },
     "metadata": {},
     "output_type": "display_data"
    }
   ],
   "source": [
    "fig, ax = plt.subplots(figsize = (8, 5))\n",
    "df['PriorAttendanceRecord'].hist(bins = 20)\n",
    "sns.despine(left = True, bottom = True)\n",
    "plt.title('\\nPrior Attendance Records\\n', fontsize = 18, fontweight = 'bold');"
   ]
  },
  {
   "cell_type": "markdown",
   "metadata": {},
   "source": [
    "Patients that made more than one appointment are the only patients with prior attendance records.  The overwhelming majority of these appointments were made with prior attendance records around 1, i.e. near or perfect attendance.  There is also a smaller spike for the values around 0 for patients that have never, or rarely, attended prior appointments.  There are few values that are not at the extremes, the most common being around 0.5."
   ]
  },
  {
   "cell_type": "markdown",
   "metadata": {},
   "source": [
    "#### Shows in a Row"
   ]
  },
  {
   "cell_type": "code",
   "execution_count": 62,
   "metadata": {},
   "outputs": [
    {
     "data": {
      "image/png": "[encoded data removed]",
      "text/plain": [
       "<matplotlib.figure.Figure at 0x1a10699dd8>"
      ]
     },
     "metadata": {},
     "output_type": "display_data"
    }
   ],
   "source": [
    "fig, ax = plt.subplots(figsize = (8, 5))\n",
    "df['ShowsInARow'].value_counts().plot(kind = 'bar', color = '#2977B4')\n",
    "sns.despine(left = True, bottom = True)\n",
    "plt.xticks(rotation = 0)\n",
    "plt.title('\\nShows in a Row', fontsize = 18, fontweight = 'bold');"
   ]
  },
  {
   "cell_type": "code",
   "execution_count": 61,
   "metadata": {},
   "outputs": [
    {
     "data": {
      "image/png": "[encoded data removed]",
      "text/plain": [
       "<matplotlib.figure.Figure at 0x1a10fb7400>"
      ]
     },
     "metadata": {},
     "output_type": "display_data"
    }
   ],
   "source": [
    "fig, ax = plt.subplots(figsize = (8, 5))\n",
    "df['ShowsInARow'].value_counts()[1:].plot(kind = 'bar', color = '#2977B4')\n",
    "sns.despine(left = True, bottom = True)\n",
    "plt.xticks(rotation = 0)\n",
    "plt.title('\\nNon-Zero Shows in a Row', fontsize = 18, fontweight = 'bold');"
   ]
  },
  {
   "cell_type": "markdown",
   "metadata": {},
   "source": [
    "The majority of appointments were made with the patient either not having any prior appointments or with their last appointment a no-show.  Those that do have a string of attended appointments "
   ]
  },
  {
   "cell_type": "markdown",
   "metadata": {},
   "source": [
    "#### Weather"
   ]
  },
  {
   "cell_type": "code",
   "execution_count": null,
   "metadata": {},
   "outputs": [],
   "source": [
    "# Number of rainy days\n",
    "weather['rain'].sum()"
   ]
  },
  {
   "cell_type": "code",
   "execution_count": null,
   "metadata": {},
   "outputs": [],
   "source": [
    "# Number of days with thunderstorms\n",
    "weather['thunderstorm'].sum()"
   ]
  },
  {
   "cell_type": "code",
   "execution_count": null,
   "metadata": {},
   "outputs": [],
   "source": [
    "# Number of days with fog\n",
    "weather['fog'].sum()"
   ]
  },
  {
   "cell_type": "code",
   "execution_count": null,
   "metadata": {},
   "outputs": [],
   "source": [
    "# Add field for formatted dates for plots\n",
    "weather['FormattedDate'] = weather['Datetime'].dt.strftime(\"%B %-d\")"
   ]
  },
  {
   "cell_type": "markdown",
   "metadata": {},
   "source": [
    "##### Precipitation"
   ]
  },
  {
   "cell_type": "code",
   "execution_count": null,
   "metadata": {},
   "outputs": [],
   "source": [
    "# Number of days with more than 0 in. precipitation\n",
    "(weather['precip_in'] > 0).sum()"
   ]
  },
  {
   "cell_type": "code",
   "execution_count": null,
   "metadata": {},
   "outputs": [],
   "source": [
    "fig, ax = plt.subplots(figsize = (8, 5))\n",
    "\n",
    "sns.pointplot(ax = ax, x = 'FormattedDate', y = 'precip_in', data = weather)\n",
    "sns.despine(left = True, bottom = True)\n",
    "plt.xlabel('')\n",
    "plt.xticks(rotation = 45, fontsize = 13)\n",
    "plt.ylabel('Precipitation (in.)\\n', fontsize = 14)\n",
    "plt.yticks(fontsize = 13)\n",
    "plt.title('\\nPrecipitation by Appointment Day\\n', fontsize = 18, fontweight = 'bold')\n",
    "\n",
    "for label in ax.xaxis.get_ticklabels()[::2]:\n",
    "    label.set_visible(False)\n",
    "\n",
    "plt.show()"
   ]
  },
  {
   "cell_type": "markdown",
   "metadata": {},
   "source": [
    "The weather was very good during the 40-day span that the appointments took place.  There were only a few days of rain and thunderstorms, and only one day with fog."
   ]
  },
  {
   "cell_type": "markdown",
   "metadata": {},
   "source": [
    "##### Temperature"
   ]
  },
  {
   "cell_type": "code",
   "execution_count": null,
   "metadata": {},
   "outputs": [],
   "source": [
    "# Create temps dataframe in long format for plot\n",
    "temps = pd.melt(weather, id_vars = ['FormattedDate'],\n",
    "                value_vars=['temp_high', 'temp_avg', 'temp_low'],\n",
    "                var_name = 'Name',\n",
    "                value_name= 'Temperature')"
   ]
  },
  {
   "cell_type": "code",
   "execution_count": null,
   "metadata": {
    "scrolled": false
   },
   "outputs": [],
   "source": [
    "fig, ax = plt.subplots(figsize = (12, 8))\n",
    "\n",
    "custom = ['#C62D42', '#F2C649', '#0095B7']\n",
    "sns.set_palette(custom)\n",
    "\n",
    "sns.pointplot(ax = ax, x = 'FormattedDate', y = 'Temperature', hue = 'Name', data = temps)\n",
    "sns.despine(left = True, bottom = True)\n",
    "\n",
    "plt.xlabel('')\n",
    "plt.xticks(rotation = 45, fontsize = 13)\n",
    "plt.yticks(fontsize = 13)\n",
    "plt.ylabel('Degrees Fahrenheit\\n', fontsize = 14)\n",
    "\n",
    "for label in ax.xaxis.get_ticklabels()[::2]:\n",
    "    label.set_visible(False)\n",
    "\n",
    "custom_lines = [Line2D([0], [0], marker='o', color = '#C62D42', lw=4),\n",
    "                Line2D([0], [0], marker='o', color = '#F2C649', lw=4),\n",
    "                Line2D([0], [0], marker='o', color = '#0095B7', lw=4)]\n",
    "ax.legend(custom_lines, ['High', 'Average', 'Low'])\n",
    "\n",
    "plt.title('\\nTemperatures by Appointment Day\\n', fontsize = 18, fontweight = 'bold')\n",
    "plt.show()"
   ]
  },
  {
   "cell_type": "code",
   "execution_count": null,
   "metadata": {},
   "outputs": [],
   "source": [
    "pd.concat([weather['temp_low'].describe(),\n",
    "           weather['temp_avg'].describe(),\n",
    "           weather['temp_high'].describe()],\n",
    "           axis=1)"
   ]
  },
  {
   "cell_type": "markdown",
   "metadata": {},
   "source": [
    "The temperature each day never got lower than 60, and was never higher than 92.  Most days the average temperature was in the mid-seventies."
   ]
  },
  {
   "cell_type": "markdown",
   "metadata": {},
   "source": [
    "##### Humidity"
   ]
  },
  {
   "cell_type": "code",
   "execution_count": null,
   "metadata": {},
   "outputs": [],
   "source": [
    "# Create humidity dataframe in long format for plot\n",
    "humidity = pd.melt(weather, id_vars = ['FormattedDate'],\n",
    "                value_vars=['humidity_high', 'humidity_avg', 'humidity_low'],\n",
    "                var_name = 'Name',\n",
    "                value_name= 'Humidity')"
   ]
  },
  {
   "cell_type": "code",
   "execution_count": null,
   "metadata": {},
   "outputs": [],
   "source": [
    "fig, ax = plt.subplots(figsize = (12, 8))\n",
    "\n",
    "sns.pointplot(ax = ax, x = 'FormattedDate', y = 'Humidity', hue = 'Name', data = humidity)\n",
    "sns.despine(left = True, bottom = True)\n",
    "\n",
    "plt.xlabel('')\n",
    "plt.xticks(rotation = 45, fontsize = 13)\n",
    "plt.yticks(fontsize = 13)\n",
    "plt.ylabel('')\n",
    "\n",
    "for label in ax.xaxis.get_ticklabels()[::2]:\n",
    "    label.set_visible(False)\n",
    "\n",
    "custom_lines = [Line2D([0], [0], marker='o', color = '#C62D42', lw=4),\n",
    "                Line2D([0], [0], marker='o', color = '#F2C649', lw=4),\n",
    "                Line2D([0], [0], marker='o', color = '#0095B7', lw=4)]\n",
    "ax.legend(custom_lines, ['High', 'Average', 'Low'], loc=2)\n",
    "\n",
    "plt.title('\\nPercent Humidity by Appointment Day\\n', fontsize = 18, fontweight = 'bold')\n",
    "plt.show()"
   ]
  },
  {
   "cell_type": "code",
   "execution_count": null,
   "metadata": {},
   "outputs": [],
   "source": [
    "pd.concat([weather['humidity_low'].describe(),\n",
    "           weather['humidity_avg'].describe(),\n",
    "           weather['humidity_high'].describe()],\n",
    "           axis=1)"
   ]
  },
  {
   "cell_type": "markdown",
   "metadata": {},
   "source": [
    "Humidity fluctuated a lot within each day; on some days the humidity ranged from around 30% to about 90%. Normally the humidity went from around 50% to 90%."
   ]
  },
  {
   "cell_type": "markdown",
   "metadata": {},
   "source": [
    "##### Visibility"
   ]
  },
  {
   "cell_type": "code",
   "execution_count": null,
   "metadata": {},
   "outputs": [],
   "source": [
    "# Create humidity dataframe in long format for plot\n",
    "visibility = pd.melt(weather, id_vars = ['FormattedDate'],\n",
    "                     value_vars=['visibility_high', 'visibility_avg', 'visibility_low'],\n",
    "                     var_name = 'Name',\n",
    "                     value_name= 'Visibility')"
   ]
  },
  {
   "cell_type": "code",
   "execution_count": null,
   "metadata": {},
   "outputs": [],
   "source": [
    "fig, ax = plt.subplots(figsize = (12, 8))\n",
    "\n",
    "sns.pointplot(ax = ax, x = 'FormattedDate', y = 'Visibility', hue = 'Name', data = visibility)\n",
    "sns.despine(left = True, bottom = True)\n",
    "\n",
    "plt.xlabel('')\n",
    "plt.xticks(rotation = 45, fontsize = 13)\n",
    "plt.yticks(fontsize = 13)\n",
    "plt.ylabel('Miles\\n', fontsize = 14)\n",
    "\n",
    "for label in ax.xaxis.get_ticklabels()[::2]:\n",
    "    label.set_visible(False)\n",
    "\n",
    "custom_lines = [Line2D([0], [0], marker='o', color = '#C62D42', lw=4),\n",
    "                Line2D([0], [0], marker='o', color = '#F2C649', lw=4),\n",
    "                Line2D([0], [0], marker='o', color = '#0095B7', lw=4)]\n",
    "ax.legend(custom_lines, ['High', 'Average', 'Low'])\n",
    "\n",
    "plt.title('\\nVisibility by Appointment Day\\n', fontsize = 18, fontweight = 'bold')\n",
    "plt.show()"
   ]
  },
  {
   "cell_type": "code",
   "execution_count": null,
   "metadata": {},
   "outputs": [],
   "source": [
    "pd.concat([weather['visibility_low'].describe(),\n",
    "           weather['visibility_avg'].describe(),\n",
    "           weather['visibility_high'].describe()],\n",
    "           axis=1)"
   ]
  },
  {
   "cell_type": "markdown",
   "metadata": {},
   "source": [
    "The visibility was always at least 2 miles, and the high was always 12 miles.  The average visibility has a lower standard deviation and was mostly from 6 to 8 miles."
   ]
  },
  {
   "cell_type": "markdown",
   "metadata": {},
   "source": [
    "##### Wind"
   ]
  },
  {
   "cell_type": "code",
   "execution_count": null,
   "metadata": {},
   "outputs": [],
   "source": [
    "wind = pd.melt(weather, id_vars = ['FormattedDate'],\n",
    "                value_vars=['wind_high', 'wind_avg'],\n",
    "                var_name = 'Name',\n",
    "                value_name= 'Wind')"
   ]
  },
  {
   "cell_type": "code",
   "execution_count": null,
   "metadata": {},
   "outputs": [],
   "source": [
    "fig, ax = plt.subplots(figsize = (12, 8))\n",
    "\n",
    "sns.pointplot(ax = ax, x = 'FormattedDate', y = 'Wind', hue = 'Name', data = wind)\n",
    "sns.despine(left = True, bottom = True)\n",
    "\n",
    "plt.xlabel('')\n",
    "plt.xticks(rotation = 45, fontsize = 13)\n",
    "plt.yticks(fontsize = 13)\n",
    "plt.ylabel('Miles per hour\\n', fontsize = 14)\n",
    "\n",
    "for label in ax.xaxis.get_ticklabels()[::2]:\n",
    "    label.set_visible(False)\n",
    "\n",
    "custom_lines = [Line2D([0], [0], marker='o', color = '#C62D42', lw=4),\n",
    "                Line2D([0], [0], marker='o', color = '#F2C649', lw=4)]\n",
    "ax.legend(custom_lines, ['High', 'Average'], loc=2)\n",
    "\n",
    "plt.title('\\nWind by Appointment Day\\n', fontsize = 18, fontweight = 'bold')\n",
    "plt.show()"
   ]
  },
  {
   "cell_type": "code",
   "execution_count": null,
   "metadata": {},
   "outputs": [],
   "source": [
    "pd.concat([weather['wind_avg'].describe(),\n",
    "           weather['wind_high'].describe()],\n",
    "           axis=1)"
   ]
  },
  {
   "cell_type": "markdown",
   "metadata": {},
   "source": [
    "According to the [National Weather Service](https://www.weather.gov/bgm/forecast_terms), 15-25 mph is breezy and 20-30 mph is windy.  The average wind each day is considered \"no wind,\" while the high is normally considered breezy. "
   ]
  },
  {
   "cell_type": "markdown",
   "metadata": {},
   "source": [
    "<a id='by_attendance'></a>"
   ]
  },
  {
   "cell_type": "markdown",
   "metadata": {},
   "source": [
    "### By Attendance"
   ]
  },
  {
   "cell_type": "code",
   "execution_count": null,
   "metadata": {},
   "outputs": [],
   "source": [
    "# Create separate dataframes for no shows and shows\n",
    "no_shows = df[df['NoShow'] == 1]\n",
    "shows = df[df['NoShow'] == 0]"
   ]
  },
  {
   "cell_type": "markdown",
   "metadata": {},
   "source": [
    "#### Patient Characteristics & SMS Received"
   ]
  },
  {
   "cell_type": "code",
   "execution_count": null,
   "metadata": {},
   "outputs": [],
   "source": [
    "# Plot binary patient characteristics & SMS Received by attendance - not aggregated (by individual appointment)\n",
    "sns.set_palette(\"tab10\")\n",
    "\n",
    "fields = ['Gender', 'BolsaFamilia', 'Alcoholism', 'Diabetes', 'Hypertension', 'SMSReceived']\n",
    "xlabels = ['Gender', 'Bolsa Familia', 'Alcoholism', 'Diabetes', 'Hypertension', 'SMS Received']\n",
    "gender_labels = ['Male', 'Female']\n",
    "labels = ['No', 'Yes']\n",
    "\n",
    "fig, axes = plt.subplots(1, 6, figsize = (15, 5), sharey = True)\n",
    "\n",
    "i = 0\n",
    "for ax in axes.reshape(-1):\n",
    "    sns.countplot(ax = ax, x = fields[i], hue = 'NoShow', data = df)\n",
    "    sns.set_style(\"white\")\n",
    "    ax.tick_params(length = 0)\n",
    "    ax.legend_.remove()\n",
    "    sns.despine(left = True, bottom = True)\n",
    "    if i == 0:\n",
    "        ax.set(xticklabels=['Male', 'Female'])\n",
    "        ax.set(xlabel = xlabels[i], ylabel = '')\n",
    "    else:\n",
    "        ax.set(xticklabels=['No', 'Yes'])\n",
    "        ax.set(xlabel = xlabels[i], ylabel = '')\n",
    "    if i == 2:\n",
    "        ax.set_title('\\nPatient Characteristics by Attendance\\n', fontsize = 18, fontweight = 'bold')\n",
    "    \n",
    "    i += 1\n",
    "    \n",
    "custom_lines = [Line2D([0], [0], color = 'steelblue', lw=8),\n",
    "                Line2D([0], [0], color = 'darkorange', lw=8)]\n",
    "ax.legend(custom_lines, ['Showed Up', 'No Show'])\n",
    "plt.show()"
   ]
  },
  {
   "cell_type": "code",
   "execution_count": null,
   "metadata": {},
   "outputs": [],
   "source": [
    "prop_fields = ['Gender', 'BolsaFamilia', 'Alcoholism', 'Diabetes', 'Hypertension', \n",
    "               'SMSReceived', 'NumHandicaps', 'DayOfWeek', 'Weekend', 'Neighborhood',\n",
    "               'NumTimesScheduled', 'DayDiffBin', 'DayBWBin', 'rain', 'thunderstorm',\n",
    "               'fog', 'precip_in', 'humidity_high', 'humidity_avg', 'visibility_low',\n",
    "               'wind_avg', 'wind_high', 'temp_high', 'temp_low', 'temp_avg', 'DayOfWeek',\n",
    "               'Weekend']\n",
    "\n",
    "# create dictionary of dataframes of proportions of no shows for each field\n",
    "no_show_props = {}\n",
    "for field in prop_fields:\n",
    "    no_show_props[field] = (df.groupby([field,'NoShow'])['NoShow'].count()/\n",
    "                            df.groupby(field)['NoShow'].count()).rename('prop').reset_index()\n",
    "    no_show_props[field] = no_show_props[field][no_show_props[field]['NoShow'] == 1] # only keep no shows\n",
    "    \n",
    "freq_fields = ['Gender', 'BolsaFamilia', 'Alcoholism', 'Diabetes', 'Hypertension', \n",
    "               'SMSReceived', 'rain', 'thunderstorm', 'fog']\n",
    "\n",
    "# create dictionary of dataframes of frequencies of no shows for each field as arrays\n",
    "no_show_freqs = {}\n",
    "for field in freq_fields:\n",
    "    counts = df.groupby([field,'NoShow'])['NoShow'].count()\n",
    "    no_show_freqs[field] = np.array(counts.sort_index(ascending = False)).reshape(2,2)\n",
    "    \n",
    "# create dictionary of dataframes of frequencies of no shows for each field as arrays for graph labels\n",
    "freqs_labels = {}\n",
    "for field in prop_fields:\n",
    "    counts = df.groupby([field,'NoShow'])['NoShow'].count().rename('count').reset_index()\n",
    "    # only keep no shows\n",
    "    counts = counts[counts['NoShow'] == 1]\n",
    "    freqs_labels[field] = np.array(counts['count'])"
   ]
  },
  {
   "cell_type": "code",
   "execution_count": null,
   "metadata": {},
   "outputs": [],
   "source": [
    "# Plot proportion of no shows by binary patient characteristics\n",
    "fig, axes = plt.subplots(1, 6, figsize = (15, 5), sharey = True)\n",
    "\n",
    "i = 0\n",
    "for ax in axes.reshape(-1):\n",
    "    sns.barplot(ax = ax, x = fields[i], y = 'prop', hue = 'NoShow', data = no_show_props[fields[i]]);\n",
    "    sns.set_style(\"white\")\n",
    "    ax.tick_params(length = 0)\n",
    "    ax.legend_.remove()\n",
    "    sns.despine(left = True, bottom = True)\n",
    "    ax.set(yticklabels='')\n",
    "    if i == 0:\n",
    "        ax.set(xticklabels=['Male', 'Female'])\n",
    "        ax.set(xlabel = xlabels[i], ylabel = '')\n",
    "    else:\n",
    "        ax.set(xticklabels=['No', 'Yes'])\n",
    "        ax.set(xlabel = xlabels[i], ylabel = '')\n",
    "    if i == 2:\n",
    "        ax.set_title('\\n' + ' '*30 + 'Proportion of No Shows by Patient Characteristics\\n\\n', fontsize = 18,\n",
    "                     fontweight = 'bold')\n",
    "    \n",
    "    j = 0\n",
    "    for p in ax.patches:\n",
    "        height = p.get_height()\n",
    "        ax.text(p.get_x() + p.get_width()/2.,\n",
    "                height + 0.01,\n",
    "                '{:0.3f}\\nn={}'.format(height, freqs_labels[fields[i]][j]),\n",
    "                ha=\"center\")\n",
    "        j +=1\n",
    "    i += 1\n",
    "plt.show()"
   ]
  },
  {
   "cell_type": "markdown",
   "metadata": {},
   "source": [
    "#### Age"
   ]
  },
  {
   "cell_type": "code",
   "execution_count": null,
   "metadata": {},
   "outputs": [],
   "source": [
    "fig, ax = plt.subplots(figsize=(12, 8))\n",
    "ax.hist([no_shows['Age'].values, shows['Age'].values], bins=list(range(0, 120, 5)), normed=True)\n",
    "sns.despine(left = True, bottom = True)\n",
    "custom_lines = [Line2D([0], [0], color = 'steelblue', lw=8),\n",
    "                Line2D([0], [0], color = 'darkorange', lw=8)]\n",
    "ax.legend(custom_lines, ['Showed Up', 'No Show'])\n",
    "plt.title('\\nProportion of Attendance Type by Patient Age\\n', fontsize = 18, fontweight = 'bold')\n",
    "plt.xticks(np.arange(0, 120, 10))\n",
    "plt.show();"
   ]
  },
  {
   "cell_type": "markdown",
   "metadata": {},
   "source": [
    "#### Number of Handicaps"
   ]
  },
  {
   "cell_type": "code",
   "execution_count": null,
   "metadata": {},
   "outputs": [],
   "source": [
    "fig, ax = plt.subplots(1, 1, figsize = (8, 5))\n",
    "sns.barplot(x = 'NumHandicaps', y = 'prop', data = no_show_props['NumHandicaps'], color = 'steelblue');\n",
    "sns.despine(left = True, bottom = True)\n",
    "plt.title('\\nProportion of No Shows by Number of Patient Handicaps\\n', fontsize = 18, fontweight = 'bold')\n",
    "plt.xlabel('')\n",
    "plt.ylabel('')\n",
    "ax.set(yticklabels='')\n",
    "plt.axhline(y=no_show_rate, color = 'gold')\n",
    "\n",
    "j = 0\n",
    "for p in ax.patches:\n",
    "    height = p.get_height()\n",
    "    ax.text(p.get_x() + p.get_width()/2.,\n",
    "            height + 0.01,\n",
    "            '{:0.3f}\\nn={}'.format(height, freqs_labels['NumHandicaps'][j]),\n",
    "            ha=\"center\")\n",
    "    j +=1\n",
    "    \n",
    "plt.show();"
   ]
  },
  {
   "cell_type": "markdown",
   "metadata": {},
   "source": [
    "#### Appointment Day"
   ]
  },
  {
   "cell_type": "code",
   "execution_count": null,
   "metadata": {},
   "outputs": [],
   "source": [
    "no_shows_weekdays = no_shows[no_shows['Weekend'] == 0]\n",
    "shows_weekdays = shows[shows['Weekend'] == 0]\n",
    "\n",
    "# Number of no shows, shows by appointment day - excluding weekends\n",
    "no_shows_by_day = no_shows_weekdays.groupby('AppointmentDay')['AppointmentDay'].count()\n",
    "shows_by_day = shows_weekdays.groupby('AppointmentDay')['AppointmentDay'].count()\n",
    "\n",
    "# Exclude weekends and weekdays with no appointments\n",
    "fig, ax1 = plt.subplots(figsize = (12, 8))\n",
    "ax2 = ax1.twinx()\n",
    "\n",
    "ax1.plot(shows_by_day, linewidth = 2)\n",
    "ax2.plot(no_shows_by_day, linewidth = 2, color = 'darkorange')\n",
    "\n",
    "# cannot despine, it moves the second y-axis to the left\n",
    "dirs = ['bottom', 'top', 'right', 'left']\n",
    "\n",
    "for d in dirs:\n",
    "    ax1.spines[d].set_color('white')\n",
    "    ax2.spines[d].set_color('white')\n",
    "    \n",
    "plt.title('\\nNumber of Shows and No Shows by Day\\n', fontsize = 18, fontweight = 'bold')\n",
    "plt.xlabel('');"
   ]
  },
  {
   "cell_type": "code",
   "execution_count": null,
   "metadata": {},
   "outputs": [],
   "source": [
    "fig, ax = plt.subplots(figsize = (8, 5))\n",
    "sns.barplot(x = 'DayOfWeek', y = 'prop', data = no_show_props['DayOfWeek'], color = 'steelblue');\n",
    "\n",
    "ax.set(xticklabels = days_of_week)\n",
    "sns.despine(left = True, bottom = True)\n",
    "plt.xticks(rotation = 0)\n",
    "plt.xlabel('')\n",
    "plt.ylabel('')\n",
    "ax.set(yticklabels='')\n",
    "plt.axhline(y=no_show_rate, color = 'gold')\n",
    "\n",
    "j = 0\n",
    "for p in ax.patches:\n",
    "    height = p.get_height()\n",
    "    ax.text(p.get_x() + p.get_width()/2.,\n",
    "            height + 0.003,\n",
    "            '{:0.3f}\\nn={}'.format(height, freqs_labels['DayOfWeek'][j]),\n",
    "            ha=\"center\")\n",
    "    j +=1\n",
    "    \n",
    "plt.title('\\nProportion of No Shows\\nby Day of Week of Appointment\\n', fontsize = 18, fontweight = 'bold');"
   ]
  },
  {
   "cell_type": "code",
   "execution_count": null,
   "metadata": {},
   "outputs": [],
   "source": [
    "fig, ax = plt.subplots(figsize = (8, 5))\n",
    "sns.barplot(x = 'Weekend', y = 'prop', data = no_show_props['Weekend'], color = 'steelblue');\n",
    "\n",
    "ax.set(xticklabels = ['Weekday', 'Weekend'])\n",
    "sns.despine(left = True, bottom = True)\n",
    "plt.xticks(rotation = 0)\n",
    "plt.xlabel('')\n",
    "plt.ylabel('')\n",
    "ax.set(yticklabels='')\n",
    "plt.axhline(y=no_show_rate, color = 'gold')\n",
    "\n",
    "j = 0\n",
    "for p in ax.patches:\n",
    "    height = p.get_height()\n",
    "    ax.text(p.get_x() + p.get_width()/2.,\n",
    "            height + 0.003,\n",
    "            '{:0.3f}\\nn={}'.format(height, freqs_labels['Weekend'][j]),\n",
    "            ha=\"center\")\n",
    "    j +=1\n",
    "    \n",
    "plt.title('\\nProportion of No Shows\\nby Weekday and Weekend\\n', fontsize = 18, fontweight = 'bold');"
   ]
  },
  {
   "cell_type": "markdown",
   "metadata": {},
   "source": [
    "#### Neighborhood"
   ]
  },
  {
   "cell_type": "code",
   "execution_count": null,
   "metadata": {},
   "outputs": [],
   "source": [
    "no_show_props['Neighborhood'] = no_show_props['Neighborhood'].sort_values(by = 'prop', ascending = False)\n",
    "\n",
    "fig, ax = plt.subplots(figsize = (10, 15))\n",
    "sns.barplot(x = 'prop', y = 'Neighborhood', data = no_show_props['Neighborhood'], color = 'steelblue');\n",
    "\n",
    "sns.despine(left = True, bottom = True)\n",
    "plt.xticks(rotation = 0)\n",
    "plt.yticks(fontsize = 12)\n",
    "plt.xlabel('')\n",
    "plt.ylabel('')\n",
    "    \n",
    "plt.title('\\nProportion of No Shows\\nby Neighborhood\\n', fontsize = 18, fontweight = 'bold');"
   ]
  },
  {
   "cell_type": "code",
   "execution_count": null,
   "metadata": {},
   "outputs": [],
   "source": [
    "# there were only two appointments at this location and they were both no shows\n",
    "df[df['Neighborhood'] == 'ILHAS OCEÂNICAS DE TRINDADE']"
   ]
  },
  {
   "cell_type": "code",
   "execution_count": null,
   "metadata": {},
   "outputs": [],
   "source": [
    "# Do not include ILHAS OCEÂNICAS DE TRINDADE in plot\n",
    "no_show_props_to_plot = no_show_props['Neighborhood'][no_show_props['Neighborhood']\\\n",
    "                                                      ['Neighborhood'] != 'ILHAS OCEÂNICAS DE TRINDADE']\n",
    "no_show_props_to_plot = no_show_props_to_plot.sort_values(by = 'prop', ascending = False)\n",
    "\n",
    "fig, ax = plt.subplots(figsize = (10, 15))\n",
    "sns.barplot(x = 'prop', y = 'Neighborhood', data = no_show_props_to_plot, color = 'steelblue');\n",
    "\n",
    "sns.despine(left = True, bottom = True)\n",
    "plt.xlabel('')\n",
    "plt.ylabel('')\n",
    "plt.yticks(fontsize = 12)\n",
    "plt.xticks(np.arange(0, 0.35, 0.05))\n",
    "plt.axvline(x=no_show_rate, color = 'gold')\n",
    "\n",
    "plt.title('\\nProportion of No Shows\\nby Neighborhood\\n', fontsize = 18, fontweight = 'bold');"
   ]
  },
  {
   "cell_type": "markdown",
   "metadata": {},
   "source": [
    "#### Days Between Scheduling and Appointment"
   ]
  },
  {
   "cell_type": "code",
   "execution_count": null,
   "metadata": {},
   "outputs": [],
   "source": [
    "# Create a column for the sorting order\n",
    "no_show_props['DayDiffBin']['sort_order'] = no_show_props['DayDiffBin']['DayDiffBin'].map(day_diff_sorter)\n",
    "no_show_props['DayDiffBin'].sort_values(by = 'sort_order')\n",
    "no_show_props['DayDiffBin']\n",
    "\n",
    "fig, ax = plt.subplots(figsize = (8, 5))\n",
    "sns.barplot(x = 'sort_order', y = 'prop', data = no_show_props['DayDiffBin'], color = 'steelblue');\n",
    "ax.set(xticklabels=day_diff_bin_labels)\n",
    "\n",
    "sns.despine(left = True, bottom = True)\n",
    "plt.xticks(rotation = 0)\n",
    "plt.xlabel('')\n",
    "plt.ylabel('')\n",
    "ax.set(yticklabels='')\n",
    "ax.axhline(y = no_show_rate, color = 'gold')\n",
    "\n",
    "j = 0\n",
    "# sorter list for the count labels\n",
    "day_diff_sorter_list = [0, 1, 5, 6, 8, 3, 4, 7, 9, 2]\n",
    "for p in ax.patches:\n",
    "    height = p.get_height()\n",
    "    ax.text(p.get_x() + p.get_width()/2.,\n",
    "            height + 0.003,\n",
    "            '{:0.3f}\\nn={}'.format(height, freqs_labels['DayDiffBin'][day_diff_sorter_list][j]),\n",
    "            ha=\"center\")\n",
    "    j +=1\n",
    "    \n",
    "plt.title('\\nProportion of No Shows\\nby Number of Days Between Scheduling and Appointment\\n',\n",
    "          fontsize = 18, fontweight = 'bold');"
   ]
  },
  {
   "cell_type": "markdown",
   "metadata": {},
   "source": [
    "#### Number of Times an Appointment was Scheduled"
   ]
  },
  {
   "cell_type": "code",
   "execution_count": null,
   "metadata": {},
   "outputs": [],
   "source": [
    "no_show_props['NumTimesScheduled']"
   ]
  },
  {
   "cell_type": "code",
   "execution_count": null,
   "metadata": {},
   "outputs": [],
   "source": [
    "df[df['NumTimesScheduled'] >= 8]"
   ]
  },
  {
   "cell_type": "markdown",
   "metadata": {},
   "source": [
    "There is only one appointment that was scheduled eight times, and the patient did not show up for it.  Hence this record was excluded from the plot, in order to better focus on the differences in proportions for the other number of times scheduled.\n",
    "\n",
    "There was also one appointment that scheduled ten times that the patient showed up for.  This was also excluded from the plot since a sample size of one is not adequate to use to make conclusions."
   ]
  },
  {
   "cell_type": "code",
   "execution_count": null,
   "metadata": {},
   "outputs": [],
   "source": [
    "num_sched_to_plot = no_show_props['NumTimesScheduled'][no_show_props['NumTimesScheduled']['NumTimesScheduled'] <= 6]"
   ]
  },
  {
   "cell_type": "code",
   "execution_count": null,
   "metadata": {},
   "outputs": [],
   "source": [
    "fig, ax = plt.subplots(figsize = (8, 5))\n",
    "sns.barplot(x = 'NumTimesScheduled', y = 'prop', data = num_sched_to_plot, color = 'steelblue');\n",
    "\n",
    "sns.despine(left = True, bottom = True)\n",
    "plt.xticks(rotation = 0)\n",
    "plt.xlabel('')\n",
    "plt.ylabel('')\n",
    "ax.set(yticklabels='')\n",
    "ax.axhline(y = no_show_rate, color = 'gold')\n",
    "\n",
    "j = 0\n",
    "for p in ax.patches:\n",
    "    height = p.get_height()\n",
    "    ax.text(p.get_x() + p.get_width()/2.,\n",
    "            height + 0.003,\n",
    "            '{:0.3f}\\nn={}'.format(height, freqs_labels['NumTimesScheduled'][j]),\n",
    "            ha=\"center\")\n",
    "    j +=1\n",
    "    \n",
    "plt.title('\\nProportion of No Shows\\nby Number of Times Scheduled\\n',\n",
    "          fontsize = 18, fontweight = 'bold');"
   ]
  },
  {
   "cell_type": "markdown",
   "metadata": {},
   "source": [
    "#### Days Between Rescheduling"
   ]
  },
  {
   "cell_type": "code",
   "execution_count": null,
   "metadata": {},
   "outputs": [],
   "source": [
    "# Create a column for the sorting order\n",
    "no_show_props['DayBWBin']['sort_order'] = no_show_props['DayBWBin']['DayBWBin'].map(day_bw_sorter)\n",
    "no_show_props['DayBWBin'].sort_values(by = 'sort_order')\n",
    "no_show_props['DayBWBin']\n",
    "\n",
    "fig, ax = plt.subplots(figsize = (8, 5))\n",
    "sns.barplot(x = 'sort_order', y = 'prop', data = no_show_props['DayBWBin'], color = 'steelblue');\n",
    "\n",
    "sns.despine(left = True, bottom = True)\n",
    "plt.xticks(rotation = 0)\n",
    "plt.xlabel('')\n",
    "plt.ylabel('')\n",
    "ax.set(xticklabels=day_bw_labels)\n",
    "ax.set(yticklabels='')\n",
    "ax.axhline(y = no_show_rate, color = 'gold')\n",
    "j = 0\n",
    "\n",
    "day_bw_sorter_list = [0, 9, 1, 4, 5, 7, 2, 3, 6, 8]\n",
    "for p in ax.patches:\n",
    "    height = p.get_height()\n",
    "    ax.text(p.get_x() + p.get_width()/2.,\n",
    "            height + 0.003,\n",
    "            '{:0.3f}\\nn={}'.format(height, freqs_labels['DayBWBin'][day_bw_sorter_list][j]),\n",
    "            ha=\"center\")\n",
    "    j +=1\n",
    "    \n",
    "plt.title('\\nProportion of No Shows\\nby Days Between Rescheduling\\n',\n",
    "          fontsize = 18, fontweight = 'bold');"
   ]
  },
  {
   "cell_type": "code",
   "execution_count": null,
   "metadata": {},
   "outputs": [],
   "source": []
  },
  {
   "cell_type": "code",
   "execution_count": null,
   "metadata": {},
   "outputs": [],
   "source": []
  },
  {
   "cell_type": "code",
   "execution_count": null,
   "metadata": {},
   "outputs": [],
   "source": []
  },
  {
   "cell_type": "code",
   "execution_count": null,
   "metadata": {},
   "outputs": [],
   "source": []
  },
  {
   "cell_type": "code",
   "execution_count": null,
   "metadata": {},
   "outputs": [],
   "source": []
  },
  {
   "cell_type": "code",
   "execution_count": null,
   "metadata": {},
   "outputs": [],
   "source": []
  },
  {
   "cell_type": "code",
   "execution_count": null,
   "metadata": {},
   "outputs": [],
   "source": []
  },
  {
   "cell_type": "code",
   "execution_count": null,
   "metadata": {},
   "outputs": [],
   "source": []
  },
  {
   "cell_type": "code",
   "execution_count": null,
   "metadata": {},
   "outputs": [],
   "source": []
  },
  {
   "cell_type": "code",
   "execution_count": null,
   "metadata": {},
   "outputs": [],
   "source": []
  },
  {
   "cell_type": "code",
   "execution_count": null,
   "metadata": {},
   "outputs": [],
   "source": []
  },
  {
   "cell_type": "code",
   "execution_count": null,
   "metadata": {},
   "outputs": [],
   "source": []
  }
 ],
 "metadata": {
  "kernelspec": {
   "display_name": "Python 3",
   "language": "python",
   "name": "python3"
  },
  "language_info": {
   "codemirror_mode": {
    "name": "ipython",
    "version": 3
   },
   "file_extension": ".py",
   "mimetype": "text/x-python",
   "name": "python",
   "nbconvert_exporter": "python",
   "pygments_lexer": "ipython3",
   "version": "3.6.4"
  }
 },
 "nbformat": 4,
 "nbformat_minor": 2
}
