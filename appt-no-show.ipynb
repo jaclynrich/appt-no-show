{
 "cells": [
  {
   "cell_type": "markdown",
   "metadata": {},
   "source": [
    "# Predicting Doctor Appointment No-Shows\n",
    "***\n",
    "\n",
    "## Table of Contents\n",
    "* [Introduction](#introduction)\n",
    "* [Data Wrangling](#data_wrangling)\n",
    "    * [General Properties](#general_properties)\n",
    "    * [Data Cleaning](#data_cleaning)\n",
    "        * [Checking for Duplicates](#cleaning_duplicates)\n",
    "        * [Appointment ID](#cleaning_appointment_id)\n",
    "        * [Scheduled Day](#cleaning_scheduled_day)\n",
    "        * [Appointment Day](#cleaning_appointment_day)\n",
    "        * [Gender](#cleaning_gender)\n",
    "        * [Age](#cleaning_age)\n",
    "        * [Bolsa Familia](#cleaning_bolsa_familia)\n",
    "        * [Hypertension](#cleaning_hypertension)\n",
    "        * [Diabetes](#cleaning_diabetes)\n",
    "        * [Number of Handicaps](#cleaning_number_handicaps)\n",
    "        * [SMS Received](#cleaning_sms_received)\n",
    "        * [No Show](#cleaning_no_show)\n",
    "        * [Neighborhood](#cleaning_neighborhood)\n",
    "        * [Patient ID](#cleaning_patient_id)\n",
    "            * [Patient ID Consistency](#cleaning_patient_id_consistency)\n",
    "* [Additional Data](#addtl_data)\n",
    "* [Feature Engineering](#feat_engineering)\n",
    "* [Exploratory Data Analysis](#eda)\n",
    "    * [Initial Exploration and Further Cleaning](#further_cleaning)\n",
    "    * [Univariate Plots and Analysis](#univariate)"
   ]
  },
  {
   "cell_type": "markdown",
   "metadata": {},
   "source": [
    "<a id='introduction'></a>"
   ]
  },
  {
   "cell_type": "markdown",
   "metadata": {},
   "source": [
    "## Introduction\n",
    "***"
   ]
  },
  {
   "cell_type": "markdown",
   "metadata": {
    "collapsed": true
   },
   "source": [
    "In this project, my aim is to determine what patient characteristics are connected with not showing up to a doctor's appointment by analyzing a data set of over 110K medical appointments in Vitória, Espírito Santo, Brazil provided by JoniHoppen on [Kaggle](https://www.kaggle.com/joniarroba/noshowappointments)."
   ]
  },
  {
   "cell_type": "markdown",
   "metadata": {},
   "source": [
    "<a id='data_wrangling'></a>"
   ]
  },
  {
   "cell_type": "markdown",
   "metadata": {},
   "source": [
    "## Data Wrangling\n",
    "***"
   ]
  },
  {
   "cell_type": "code",
   "execution_count": 1,
   "metadata": {},
   "outputs": [],
   "source": [
    "import pandas as pd\n",
    "import numpy as np\n",
    "import geocoder\n",
    "pd.options.mode.chained_assignment = None\n",
    "import matplotlib.pyplot as plt\n",
    "import matplotlib.dates as mdates\n",
    "from matplotlib.lines import Line2D\n",
    "import seaborn as sns\n",
    "import config\n",
    "API_KEY = config.api_key"
   ]
  },
  {
   "cell_type": "markdown",
   "metadata": {},
   "source": [
    "<a id='general_properties'></a>"
   ]
  },
  {
   "cell_type": "markdown",
   "metadata": {},
   "source": [
    "### General Properties"
   ]
  },
  {
   "cell_type": "code",
   "execution_count": 2,
   "metadata": {},
   "outputs": [
    {
     "data": {
      "text/html": [
       "<div>\n",
       "<style scoped>\n",
       "    .dataframe tbody tr th:only-of-type {\n",
       "        vertical-align: middle;\n",
       "    }\n",
       "\n",
       "    .dataframe tbody tr th {\n",
       "        vertical-align: top;\n",
       "    }\n",
       "\n",
       "    .dataframe thead th {\n",
       "        text-align: right;\n",
       "    }\n",
       "</style>\n",
       "<table border=\"1\" class=\"dataframe\">\n",
       "  <thead>\n",
       "    <tr style=\"text-align: right;\">\n",
       "      <th></th>\n",
       "      <th>PatientId</th>\n",
       "      <th>AppointmentID</th>\n",
       "      <th>Gender</th>\n",
       "      <th>ScheduledDay</th>\n",
       "      <th>AppointmentDay</th>\n",
       "      <th>Age</th>\n",
       "      <th>Neighbourhood</th>\n",
       "      <th>Scholarship</th>\n",
       "      <th>Hipertension</th>\n",
       "      <th>Diabetes</th>\n",
       "      <th>Alcoholism</th>\n",
       "      <th>Handcap</th>\n",
       "      <th>SMS_received</th>\n",
       "      <th>No-show</th>\n",
       "    </tr>\n",
       "  </thead>\n",
       "  <tbody>\n",
       "    <tr>\n",
       "      <th>0</th>\n",
       "      <td>2.987250e+13</td>\n",
       "      <td>5642903</td>\n",
       "      <td>F</td>\n",
       "      <td>2016-04-29T18:38:08Z</td>\n",
       "      <td>2016-04-29T00:00:00Z</td>\n",
       "      <td>62</td>\n",
       "      <td>JARDIM DA PENHA</td>\n",
       "      <td>0</td>\n",
       "      <td>1</td>\n",
       "      <td>0</td>\n",
       "      <td>0</td>\n",
       "      <td>0</td>\n",
       "      <td>0</td>\n",
       "      <td>No</td>\n",
       "    </tr>\n",
       "    <tr>\n",
       "      <th>1</th>\n",
       "      <td>5.589978e+14</td>\n",
       "      <td>5642503</td>\n",
       "      <td>M</td>\n",
       "      <td>2016-04-29T16:08:27Z</td>\n",
       "      <td>2016-04-29T00:00:00Z</td>\n",
       "      <td>56</td>\n",
       "      <td>JARDIM DA PENHA</td>\n",
       "      <td>0</td>\n",
       "      <td>0</td>\n",
       "      <td>0</td>\n",
       "      <td>0</td>\n",
       "      <td>0</td>\n",
       "      <td>0</td>\n",
       "      <td>No</td>\n",
       "    </tr>\n",
       "    <tr>\n",
       "      <th>2</th>\n",
       "      <td>4.262962e+12</td>\n",
       "      <td>5642549</td>\n",
       "      <td>F</td>\n",
       "      <td>2016-04-29T16:19:04Z</td>\n",
       "      <td>2016-04-29T00:00:00Z</td>\n",
       "      <td>62</td>\n",
       "      <td>MATA DA PRAIA</td>\n",
       "      <td>0</td>\n",
       "      <td>0</td>\n",
       "      <td>0</td>\n",
       "      <td>0</td>\n",
       "      <td>0</td>\n",
       "      <td>0</td>\n",
       "      <td>No</td>\n",
       "    </tr>\n",
       "    <tr>\n",
       "      <th>3</th>\n",
       "      <td>8.679512e+11</td>\n",
       "      <td>5642828</td>\n",
       "      <td>F</td>\n",
       "      <td>2016-04-29T17:29:31Z</td>\n",
       "      <td>2016-04-29T00:00:00Z</td>\n",
       "      <td>8</td>\n",
       "      <td>PONTAL DE CAMBURI</td>\n",
       "      <td>0</td>\n",
       "      <td>0</td>\n",
       "      <td>0</td>\n",
       "      <td>0</td>\n",
       "      <td>0</td>\n",
       "      <td>0</td>\n",
       "      <td>No</td>\n",
       "    </tr>\n",
       "    <tr>\n",
       "      <th>4</th>\n",
       "      <td>8.841186e+12</td>\n",
       "      <td>5642494</td>\n",
       "      <td>F</td>\n",
       "      <td>2016-04-29T16:07:23Z</td>\n",
       "      <td>2016-04-29T00:00:00Z</td>\n",
       "      <td>56</td>\n",
       "      <td>JARDIM DA PENHA</td>\n",
       "      <td>0</td>\n",
       "      <td>1</td>\n",
       "      <td>1</td>\n",
       "      <td>0</td>\n",
       "      <td>0</td>\n",
       "      <td>0</td>\n",
       "      <td>No</td>\n",
       "    </tr>\n",
       "  </tbody>\n",
       "</table>\n",
       "</div>"
      ],
      "text/plain": [
       "      PatientId  AppointmentID Gender          ScheduledDay  \\\n",
       "0  2.987250e+13        5642903      F  2016-04-29T18:38:08Z   \n",
       "1  5.589978e+14        5642503      M  2016-04-29T16:08:27Z   \n",
       "2  4.262962e+12        5642549      F  2016-04-29T16:19:04Z   \n",
       "3  8.679512e+11        5642828      F  2016-04-29T17:29:31Z   \n",
       "4  8.841186e+12        5642494      F  2016-04-29T16:07:23Z   \n",
       "\n",
       "         AppointmentDay  Age      Neighbourhood  Scholarship  Hipertension  \\\n",
       "0  2016-04-29T00:00:00Z   62    JARDIM DA PENHA            0             1   \n",
       "1  2016-04-29T00:00:00Z   56    JARDIM DA PENHA            0             0   \n",
       "2  2016-04-29T00:00:00Z   62      MATA DA PRAIA            0             0   \n",
       "3  2016-04-29T00:00:00Z    8  PONTAL DE CAMBURI            0             0   \n",
       "4  2016-04-29T00:00:00Z   56    JARDIM DA PENHA            0             1   \n",
       "\n",
       "   Diabetes  Alcoholism  Handcap  SMS_received No-show  \n",
       "0         0           0        0             0      No  \n",
       "1         0           0        0             0      No  \n",
       "2         0           0        0             0      No  \n",
       "3         0           0        0             0      No  \n",
       "4         1           0        0             0      No  "
      ]
     },
     "execution_count": 2,
     "metadata": {},
     "output_type": "execute_result"
    }
   ],
   "source": [
    "orig = pd.read_csv('KaggleV2-May-2016.csv')\n",
    "orig.head()"
   ]
  },
  {
   "cell_type": "code",
   "execution_count": 3,
   "metadata": {},
   "outputs": [
    {
     "data": {
      "text/plain": [
       "110527"
      ]
     },
     "execution_count": 3,
     "metadata": {},
     "output_type": "execute_result"
    }
   ],
   "source": [
    "# Number of records\n",
    "n = len(orig)\n",
    "n"
   ]
  },
  {
   "cell_type": "code",
   "execution_count": 4,
   "metadata": {},
   "outputs": [],
   "source": [
    "# Rename fields to have more consistent formatting and to English where appropriate\n",
    "orig.columns = ['PatientID', 'AppointmentID', 'Gender', 'ScheduledDay',\n",
    "              'AppointmentDay', 'Age', 'Neighborhood', 'BolsaFamilia', \\\n",
    "              'Hypertension', 'Diabetes', 'Alcoholism', 'NumHandicaps', \\\n",
    "              'SMSReceived', 'NoShow']"
   ]
  },
  {
   "cell_type": "code",
   "execution_count": 5,
   "metadata": {},
   "outputs": [
    {
     "data": {
      "text/plain": [
       "PatientID         0\n",
       "AppointmentID     0\n",
       "Gender            0\n",
       "ScheduledDay      0\n",
       "AppointmentDay    0\n",
       "Age               0\n",
       "Neighborhood      0\n",
       "BolsaFamilia      0\n",
       "Hypertension      0\n",
       "Diabetes          0\n",
       "Alcoholism        0\n",
       "NumHandicaps      0\n",
       "SMSReceived       0\n",
       "NoShow            0\n",
       "dtype: int64"
      ]
     },
     "execution_count": 5,
     "metadata": {},
     "output_type": "execute_result"
    }
   ],
   "source": [
    "# Number of nulls\n",
    "orig.isnull().sum()"
   ]
  },
  {
   "cell_type": "markdown",
   "metadata": {},
   "source": [
    "> There are no null records in any of the fields"
   ]
  },
  {
   "cell_type": "code",
   "execution_count": 6,
   "metadata": {},
   "outputs": [
    {
     "data": {
      "text/plain": [
       "PatientID         float64\n",
       "AppointmentID       int64\n",
       "Gender             object\n",
       "ScheduledDay       object\n",
       "AppointmentDay     object\n",
       "Age                 int64\n",
       "Neighborhood       object\n",
       "BolsaFamilia        int64\n",
       "Hypertension        int64\n",
       "Diabetes            int64\n",
       "Alcoholism          int64\n",
       "NumHandicaps        int64\n",
       "SMSReceived         int64\n",
       "NoShow             object\n",
       "dtype: object"
      ]
     },
     "execution_count": 6,
     "metadata": {},
     "output_type": "execute_result"
    }
   ],
   "source": [
    "# Data types\n",
    "orig.dtypes"
   ]
  },
  {
   "cell_type": "markdown",
   "metadata": {},
   "source": [
    "<a id='data_cleaning'></a>"
   ]
  },
  {
   "cell_type": "markdown",
   "metadata": {},
   "source": [
    "### Data Cleaning"
   ]
  },
  {
   "cell_type": "markdown",
   "metadata": {},
   "source": [
    "<a id='cleaning_duplicates'></a>"
   ]
  },
  {
   "cell_type": "markdown",
   "metadata": {},
   "source": [
    "#### Checking for Duplicates"
   ]
  },
  {
   "cell_type": "code",
   "execution_count": 7,
   "metadata": {},
   "outputs": [
    {
     "data": {
      "text/plain": [
       "False"
      ]
     },
     "execution_count": 7,
     "metadata": {},
     "output_type": "execute_result"
    }
   ],
   "source": [
    "orig.duplicated(keep=False).any()"
   ]
  },
  {
   "cell_type": "code",
   "execution_count": 8,
   "metadata": {},
   "outputs": [
    {
     "data": {
      "text/plain": [
       "False"
      ]
     },
     "execution_count": 8,
     "metadata": {},
     "output_type": "execute_result"
    }
   ],
   "source": [
    "orig.duplicated('AppointmentID', keep=False).any()"
   ]
  },
  {
   "cell_type": "markdown",
   "metadata": {},
   "source": [
    "> There are no duplicate entries and no duplicate AppointmentIDs."
   ]
  },
  {
   "cell_type": "markdown",
   "metadata": {},
   "source": [
    "<a id='cleaning_appointment_id'></a>"
   ]
  },
  {
   "cell_type": "markdown",
   "metadata": {},
   "source": [
    "#### Appointment ID"
   ]
  },
  {
   "cell_type": "code",
   "execution_count": 9,
   "metadata": {},
   "outputs": [
    {
     "name": "stdout",
     "output_type": "stream",
     "text": [
      "5030230 - 5790484\n"
     ]
    }
   ],
   "source": [
    "min_apptID = orig['AppointmentID'].min()\n",
    "max_apptID = orig['AppointmentID'].max()\n",
    "print('{} - {}'.format(min_apptID, max_apptID))"
   ]
  },
  {
   "cell_type": "markdown",
   "metadata": {},
   "source": [
    "> All of the appointment IDs are 7 digits long, and are between these values"
   ]
  },
  {
   "cell_type": "code",
   "execution_count": 10,
   "metadata": {},
   "outputs": [],
   "source": [
    "# AppointmentIDs are identifiers, so they are also converted to strings\n",
    "orig['AppointmentID'] = orig['AppointmentID'].astype(str)"
   ]
  },
  {
   "cell_type": "markdown",
   "metadata": {},
   "source": [
    "<a id='cleaning_scheduled_day'></a>"
   ]
  },
  {
   "cell_type": "markdown",
   "metadata": {},
   "source": [
    "#### Scheduled Day\n",
    "ScheduledDay represents the day that a patient created the appointment."
   ]
  },
  {
   "cell_type": "code",
   "execution_count": 11,
   "metadata": {},
   "outputs": [
    {
     "data": {
      "text/plain": [
       "dtype('<M8[ns]')"
      ]
     },
     "execution_count": 11,
     "metadata": {},
     "output_type": "execute_result"
    }
   ],
   "source": [
    "# Convert the scheduled day to a datetime\n",
    "orig['ScheduledDay'] = pd.to_datetime(orig['ScheduledDay'])\n",
    "\n",
    "# Verify that ScheduledDay is in a datetime format\n",
    "orig['ScheduledDay'].dtype"
   ]
  },
  {
   "cell_type": "code",
   "execution_count": 12,
   "metadata": {},
   "outputs": [
    {
     "data": {
      "text/plain": [
       "True"
      ]
     },
     "execution_count": 12,
     "metadata": {},
     "output_type": "execute_result"
    }
   ],
   "source": [
    "# Check that the <M8[ns] is a datetime format\n",
    "np.dtype('datetime64[ns]') == np.dtype('<M8[ns]')"
   ]
  },
  {
   "cell_type": "code",
   "execution_count": 13,
   "metadata": {},
   "outputs": [
    {
     "data": {
      "text/plain": [
       "0"
      ]
     },
     "execution_count": 13,
     "metadata": {},
     "output_type": "execute_result"
    }
   ],
   "source": [
    "# Verify that all records were converted to valid datetimes\n",
    "np.isnat(orig['ScheduledDay']).sum()"
   ]
  },
  {
   "cell_type": "code",
   "execution_count": 14,
   "metadata": {},
   "outputs": [],
   "source": [
    "# Include a field for scheduled day in a date format\n",
    "orig['ScheduledDayDate'] = orig['ScheduledDay'].dt.date"
   ]
  },
  {
   "cell_type": "code",
   "execution_count": 15,
   "metadata": {},
   "outputs": [
    {
     "data": {
      "text/plain": [
       "Timestamp('2015-11-10 07:13:56')"
      ]
     },
     "execution_count": 15,
     "metadata": {},
     "output_type": "execute_result"
    }
   ],
   "source": [
    "# The first date and time an appointment was scheduled \n",
    "np.min(orig['ScheduledDay'])"
   ]
  },
  {
   "cell_type": "code",
   "execution_count": 16,
   "metadata": {},
   "outputs": [
    {
     "data": {
      "text/plain": [
       "Timestamp('2016-06-08 20:07:23')"
      ]
     },
     "execution_count": 16,
     "metadata": {},
     "output_type": "execute_result"
    }
   ],
   "source": [
    "# The last date and time an appointment was scheduled \n",
    "np.max(orig['ScheduledDay'])"
   ]
  },
  {
   "cell_type": "code",
   "execution_count": 17,
   "metadata": {},
   "outputs": [
    {
     "data": {
      "text/plain": [
       "Timedelta('211 days 12:53:27')"
      ]
     },
     "execution_count": 17,
     "metadata": {},
     "output_type": "execute_result"
    }
   ],
   "source": [
    "np.max(orig['ScheduledDay']) - np.min(orig['ScheduledDay'])"
   ]
  },
  {
   "cell_type": "markdown",
   "metadata": {},
   "source": [
    "> All appointments are created within an about 7-month time frame."
   ]
  },
  {
   "cell_type": "markdown",
   "metadata": {},
   "source": [
    "<a id='cleaning_appointment_day'></a>"
   ]
  },
  {
   "cell_type": "markdown",
   "metadata": {},
   "source": [
    "#### Appointment Day\n",
    "AppointmentDay is the day of the doctor's appointment."
   ]
  },
  {
   "cell_type": "code",
   "execution_count": 18,
   "metadata": {},
   "outputs": [
    {
     "data": {
      "text/plain": [
       "dtype('<M8[ns]')"
      ]
     },
     "execution_count": 18,
     "metadata": {},
     "output_type": "execute_result"
    }
   ],
   "source": [
    "# Convert the appointment day to a datetime\n",
    "orig['AppointmentDay'] = pd.to_datetime(orig['AppointmentDay'])\n",
    "\n",
    "# Verify that AppointmentDay is in a datetime format\n",
    "orig['AppointmentDay'].dtype"
   ]
  },
  {
   "cell_type": "code",
   "execution_count": 19,
   "metadata": {},
   "outputs": [
    {
     "data": {
      "text/plain": [
       "0"
      ]
     },
     "execution_count": 19,
     "metadata": {},
     "output_type": "execute_result"
    }
   ],
   "source": [
    "# Verify that all records were converted to valid datetimes\n",
    "np.isnat(orig['AppointmentDay']).sum()"
   ]
  },
  {
   "cell_type": "code",
   "execution_count": 20,
   "metadata": {},
   "outputs": [
    {
     "data": {
      "text/plain": [
       "Timestamp('2016-04-29 00:00:00')"
      ]
     },
     "execution_count": 20,
     "metadata": {},
     "output_type": "execute_result"
    }
   ],
   "source": [
    "# Since appointment day doesn't have a time, include another field for \n",
    "# it in a date format\n",
    "orig['AppointmentDayDate'] = orig['AppointmentDay'].dt.date\n",
    "\n",
    "# The first scheduled appointment\n",
    "np.min(orig['AppointmentDay'])"
   ]
  },
  {
   "cell_type": "code",
   "execution_count": 21,
   "metadata": {},
   "outputs": [
    {
     "data": {
      "text/plain": [
       "Timestamp('2016-06-08 00:00:00')"
      ]
     },
     "execution_count": 21,
     "metadata": {},
     "output_type": "execute_result"
    }
   ],
   "source": [
    "# The last scheduled appointment\n",
    "np.max(orig['AppointmentDay'])"
   ]
  },
  {
   "cell_type": "code",
   "execution_count": 22,
   "metadata": {},
   "outputs": [
    {
     "data": {
      "text/plain": [
       "Timedelta('40 days 00:00:00')"
      ]
     },
     "execution_count": 22,
     "metadata": {},
     "output_type": "execute_result"
    }
   ],
   "source": [
    "np.max(orig['AppointmentDay']) - np.min(orig['AppointmentDay'])"
   ]
  },
  {
   "cell_type": "markdown",
   "metadata": {},
   "source": [
    "> While the appointments were scheduled during a 7-month period, they all were scheduled for a 40-day period."
   ]
  },
  {
   "cell_type": "markdown",
   "metadata": {},
   "source": [
    "<a id='cleaning_gender'></a>"
   ]
  },
  {
   "cell_type": "markdown",
   "metadata": {},
   "source": [
    "#### Gender"
   ]
  },
  {
   "cell_type": "code",
   "execution_count": 23,
   "metadata": {},
   "outputs": [
    {
     "data": {
      "text/plain": [
       "F    71840\n",
       "M    38687\n",
       "Name: Gender, dtype: int64"
      ]
     },
     "execution_count": 23,
     "metadata": {},
     "output_type": "execute_result"
    }
   ],
   "source": [
    "# Gender data is clean\n",
    "orig['Gender'].value_counts()"
   ]
  },
  {
   "cell_type": "code",
   "execution_count": 24,
   "metadata": {},
   "outputs": [
    {
     "data": {
      "text/plain": [
       "1    71840\n",
       "0    38687\n",
       "Name: Gender, dtype: int64"
      ]
     },
     "execution_count": 24,
     "metadata": {},
     "output_type": "execute_result"
    }
   ],
   "source": [
    "# Encode gender as binary, 0 = male, 1 = female \n",
    "orig['Gender'] = np.where(orig['Gender'].values == 'F', 1, 0)\n",
    "orig['Gender'].value_counts()"
   ]
  },
  {
   "cell_type": "markdown",
   "metadata": {},
   "source": [
    "<a id='cleaning_age'></a>"
   ]
  },
  {
   "cell_type": "markdown",
   "metadata": {},
   "source": [
    "#### Age"
   ]
  },
  {
   "cell_type": "code",
   "execution_count": 25,
   "metadata": {},
   "outputs": [
    {
     "data": {
      "text/plain": [
       "Int64Index([ -1,   0,   1,   2,   3,   4,   5,   6,   7,   8,\n",
       "            ...\n",
       "             93,  94,  95,  96,  97,  98,  99, 100, 102, 115],\n",
       "           dtype='int64', length=104)"
      ]
     },
     "execution_count": 25,
     "metadata": {},
     "output_type": "execute_result"
    }
   ],
   "source": [
    "age_counts = orig['Age'].value_counts()\n",
    "age_counts.index.sort_values()"
   ]
  },
  {
   "cell_type": "code",
   "execution_count": 26,
   "metadata": {},
   "outputs": [],
   "source": [
    "# Drop the record with an age of -1\n",
    "invalid_age = orig[orig['Age'] == -1]['PatientID']\n",
    "orig.drop(invalid_age.index, inplace=True)"
   ]
  },
  {
   "cell_type": "markdown",
   "metadata": {},
   "source": [
    "> I removed the record with the age of -1.  All of the other ages are plausible; although the age of 115 is improbable, it is still possible."
   ]
  },
  {
   "cell_type": "markdown",
   "metadata": {},
   "source": [
    "<a id='cleaning_bolsa_familia'></a>"
   ]
  },
  {
   "cell_type": "markdown",
   "metadata": {},
   "source": [
    "#### Bolsa Família"
   ]
  },
  {
   "cell_type": "markdown",
   "metadata": {},
   "source": [
    "[Bolsa Família](https://en.wikipedia.org/wiki/Bolsa_Fam%C3%ADlia) is a social welfare program in Brazil.  A value of 1 for this field means that the patient receives financial aid from the Brazilian government under this progrm."
   ]
  },
  {
   "cell_type": "code",
   "execution_count": 27,
   "metadata": {},
   "outputs": [
    {
     "data": {
      "text/plain": [
       "0    99665\n",
       "1    10861\n",
       "Name: BolsaFamilia, dtype: int64"
      ]
     },
     "execution_count": 27,
     "metadata": {},
     "output_type": "execute_result"
    }
   ],
   "source": [
    "# BolsaFamilia data is clean\n",
    "orig['BolsaFamilia'].value_counts()"
   ]
  },
  {
   "cell_type": "markdown",
   "metadata": {},
   "source": [
    "<a id='cleaning_hypertension'></a>"
   ]
  },
  {
   "cell_type": "markdown",
   "metadata": {},
   "source": [
    "#### Hypertension"
   ]
  },
  {
   "cell_type": "code",
   "execution_count": 28,
   "metadata": {},
   "outputs": [
    {
     "data": {
      "text/plain": [
       "0    88725\n",
       "1    21801\n",
       "Name: Hypertension, dtype: int64"
      ]
     },
     "execution_count": 28,
     "metadata": {},
     "output_type": "execute_result"
    }
   ],
   "source": [
    "# Hypertension data is clean\n",
    "orig['Hypertension'].value_counts()"
   ]
  },
  {
   "cell_type": "markdown",
   "metadata": {},
   "source": [
    "<a id='cleaning_diabetes'></a>"
   ]
  },
  {
   "cell_type": "markdown",
   "metadata": {},
   "source": [
    "#### Diabetes"
   ]
  },
  {
   "cell_type": "code",
   "execution_count": 29,
   "metadata": {},
   "outputs": [
    {
     "data": {
      "text/plain": [
       "0    102583\n",
       "1      7943\n",
       "Name: Diabetes, dtype: int64"
      ]
     },
     "execution_count": 29,
     "metadata": {},
     "output_type": "execute_result"
    }
   ],
   "source": [
    "# Diabetes data is clean\n",
    "orig['Diabetes'].value_counts()"
   ]
  },
  {
   "cell_type": "markdown",
   "metadata": {},
   "source": [
    "<a id='cleaning_alcoholism'></a>"
   ]
  },
  {
   "cell_type": "markdown",
   "metadata": {},
   "source": [
    "#### Alcholism"
   ]
  },
  {
   "cell_type": "code",
   "execution_count": 30,
   "metadata": {},
   "outputs": [
    {
     "data": {
      "text/plain": [
       "0    107166\n",
       "1      3360\n",
       "Name: Alcoholism, dtype: int64"
      ]
     },
     "execution_count": 30,
     "metadata": {},
     "output_type": "execute_result"
    }
   ],
   "source": [
    "# Alcoholism data is clean\n",
    "orig['Alcoholism'].value_counts()"
   ]
  },
  {
   "cell_type": "markdown",
   "metadata": {},
   "source": [
    "<a id='cleaning_number_handicaps'></a>"
   ]
  },
  {
   "cell_type": "markdown",
   "metadata": {},
   "source": [
    "#### Number of Handicaps"
   ]
  },
  {
   "cell_type": "code",
   "execution_count": 31,
   "metadata": {
    "scrolled": true
   },
   "outputs": [
    {
     "data": {
      "text/plain": [
       "0    108285\n",
       "1      2042\n",
       "2       183\n",
       "3        13\n",
       "4         3\n",
       "Name: NumHandicaps, dtype: int64"
      ]
     },
     "execution_count": 31,
     "metadata": {},
     "output_type": "execute_result"
    }
   ],
   "source": [
    "# This represents the number of handicaps a person has (as defined by the publisher of the dataset)\n",
    "# All people having between 0-4 handicaps seems reasonable\n",
    "orig['NumHandicaps'].value_counts()"
   ]
  },
  {
   "cell_type": "markdown",
   "metadata": {},
   "source": [
    "<a id='cleaning_sms_received'></a>"
   ]
  },
  {
   "cell_type": "markdown",
   "metadata": {},
   "source": [
    "#### SMS Received\n",
    "This field indicates whether or not a patient was sent an appointment reminder by the facility in the form of a text message."
   ]
  },
  {
   "cell_type": "code",
   "execution_count": 32,
   "metadata": {},
   "outputs": [
    {
     "data": {
      "text/plain": [
       "0    75044\n",
       "1    35482\n",
       "Name: SMSReceived, dtype: int64"
      ]
     },
     "execution_count": 32,
     "metadata": {},
     "output_type": "execute_result"
    }
   ],
   "source": [
    "# SMS Received data is clean\n",
    "orig['SMSReceived'].value_counts()"
   ]
  },
  {
   "cell_type": "markdown",
   "metadata": {},
   "source": [
    "<a id='cleaning_no_show'></a>"
   ]
  },
  {
   "cell_type": "markdown",
   "metadata": {},
   "source": [
    "#### No Show"
   ]
  },
  {
   "cell_type": "markdown",
   "metadata": {},
   "source": [
    "A value of yes for NoShow means that the patient did not show up to their appointment (they were a 'no show')."
   ]
  },
  {
   "cell_type": "code",
   "execution_count": 33,
   "metadata": {},
   "outputs": [
    {
     "data": {
      "text/plain": [
       "No     88207\n",
       "Yes    22319\n",
       "Name: NoShow, dtype: int64"
      ]
     },
     "execution_count": 33,
     "metadata": {},
     "output_type": "execute_result"
    }
   ],
   "source": [
    "orig['NoShow'].value_counts()"
   ]
  },
  {
   "cell_type": "code",
   "execution_count": 34,
   "metadata": {},
   "outputs": [
    {
     "data": {
      "text/plain": [
       "0    88207\n",
       "1    22319\n",
       "Name: NoShow, dtype: int64"
      ]
     },
     "execution_count": 34,
     "metadata": {},
     "output_type": "execute_result"
    }
   ],
   "source": [
    "# Convert NoShow to zeros and ones\n",
    "orig['NoShow'] = np.where(orig['NoShow'].values == 'Yes', 1, 0)\n",
    "orig['NoShow'].value_counts()"
   ]
  },
  {
   "cell_type": "markdown",
   "metadata": {},
   "source": [
    "<a id='cleaning_neighborhood'></a>"
   ]
  },
  {
   "cell_type": "markdown",
   "metadata": {},
   "source": [
    "#### Neighborhood"
   ]
  },
  {
   "cell_type": "markdown",
   "metadata": {},
   "source": [
    "The Neighborhood field has the neighborhood of the doctor's facility."
   ]
  },
  {
   "cell_type": "code",
   "execution_count": 35,
   "metadata": {},
   "outputs": [
    {
     "data": {
      "text/plain": [
       "JARDIM CAMBURI       7717\n",
       "MARIA ORTIZ          5805\n",
       "RESISTÊNCIA          4431\n",
       "JARDIM DA PENHA      3877\n",
       "ITARARÉ              3514\n",
       "CENTRO               3334\n",
       "TABUAZEIRO           3132\n",
       "SANTA MARTHA         3131\n",
       "JESUS DE NAZARETH    2853\n",
       "BONFIM               2773\n",
       "SANTO ANTÔNIO        2746\n",
       "Name: Neighborhood, dtype: int64"
      ]
     },
     "execution_count": 35,
     "metadata": {},
     "output_type": "execute_result"
    }
   ],
   "source": [
    "neighborhood_counts = orig['Neighborhood'].value_counts()\n",
    "neighborhood_counts[:11]"
   ]
  },
  {
   "cell_type": "code",
   "execution_count": 36,
   "metadata": {},
   "outputs": [
    {
     "data": {
      "text/plain": [
       "81"
      ]
     },
     "execution_count": 36,
     "metadata": {},
     "output_type": "execute_result"
    }
   ],
   "source": [
    "# Number of unique neighborhoods\n",
    "orig['Neighborhood'].nunique()"
   ]
  },
  {
   "cell_type": "code",
   "execution_count": 37,
   "metadata": {},
   "outputs": [
    {
     "data": {
      "text/html": [
       "<div>\n",
       "<style scoped>\n",
       "    .dataframe tbody tr th:only-of-type {\n",
       "        vertical-align: middle;\n",
       "    }\n",
       "\n",
       "    .dataframe tbody tr th {\n",
       "        vertical-align: top;\n",
       "    }\n",
       "\n",
       "    .dataframe thead th {\n",
       "        text-align: right;\n",
       "    }\n",
       "</style>\n",
       "<table border=\"1\" class=\"dataframe\">\n",
       "  <thead>\n",
       "    <tr style=\"text-align: right;\">\n",
       "      <th></th>\n",
       "      <th>neighborhood</th>\n",
       "    </tr>\n",
       "  </thead>\n",
       "  <tbody>\n",
       "    <tr>\n",
       "      <th>0</th>\n",
       "      <td>JARDIM CAMBURI</td>\n",
       "    </tr>\n",
       "    <tr>\n",
       "      <th>1</th>\n",
       "      <td>MARIA ORTIZ</td>\n",
       "    </tr>\n",
       "    <tr>\n",
       "      <th>2</th>\n",
       "      <td>RESISTÊNCIA</td>\n",
       "    </tr>\n",
       "    <tr>\n",
       "      <th>3</th>\n",
       "      <td>JARDIM DA PENHA</td>\n",
       "    </tr>\n",
       "    <tr>\n",
       "      <th>4</th>\n",
       "      <td>ITARARÉ</td>\n",
       "    </tr>\n",
       "  </tbody>\n",
       "</table>\n",
       "</div>"
      ],
      "text/plain": [
       "      neighborhood\n",
       "0   JARDIM CAMBURI\n",
       "1      MARIA ORTIZ\n",
       "2      RESISTÊNCIA\n",
       "3  JARDIM DA PENHA\n",
       "4          ITARARÉ"
      ]
     },
     "execution_count": 37,
     "metadata": {},
     "output_type": "execute_result"
    }
   ],
   "source": [
    "# Organize the neighborhoods into a dataframe\n",
    "geo = pd.DataFrame(neighborhood_counts.index, columns = ['neighborhood'])\n",
    "geo.head()"
   ]
  },
  {
   "cell_type": "code",
   "execution_count": 38,
   "metadata": {},
   "outputs": [
    {
     "data": {
      "text/plain": [
       "\"\\nfor i, row in geo.iterrows():\\n    # Use Bing    \\n    full_neighborhood = row.str.title() + ', Vitória, Espírito Santo, Brazil'\\n    result = geocoder.bing(full_neighborhood, key=API_KEY)\\n    \\n    geo.at[i, 'status'] = result.status\\n    geo.at[i, 'lat'] = result.lat\\n    geo.at[i, 'lng'] = result.lng\\n    geo.at[i, 'bing_neighborhood'] = result.neighborhood\\n    geo.at[i, 'city'] = result.city\\n    geo.at[i, 'state'] = result.state\\n    geo.at[i, 'country'] = result.country\\n    \\n    # If Bing returns None for neighborhood, use Google\\n    if geo.loc[i, 'bing_neighborhood'] is None:\\n        result = geocoder.google(full_neighborhood)\\n        \\n        geo.at[i, 'status'] = result.status\\n        geo.at[i, 'lat'] = result.lat\\n        geo.at[i, 'lng'] = result.lng\\n        \\n        if result.county == 'Vitória': # Google uses county when Bing uses city\\n            geo.at[i, 'city'] = result.county\\n        geo.at[i, 'state'] = result.state\\n        if result.country == 'BR':\\n            geo.at[i, 'country'] = 'Brazil'\\n\""
      ]
     },
     "execution_count": 38,
     "metadata": {},
     "output_type": "execute_result"
    }
   ],
   "source": [
    "# Geocode the neighborhood data\n",
    "\"\"\"\n",
    "for i, row in geo.iterrows():\n",
    "    # Use Bing    \n",
    "    full_neighborhood = row.str.title() + ', Vitória, Espírito Santo, Brazil'\n",
    "    result = geocoder.bing(full_neighborhood, key=API_KEY)\n",
    "    \n",
    "    geo.at[i, 'status'] = result.status\n",
    "    geo.at[i, 'lat'] = result.lat\n",
    "    geo.at[i, 'lng'] = result.lng\n",
    "    geo.at[i, 'bing_neighborhood'] = result.neighborhood\n",
    "    geo.at[i, 'city'] = result.city\n",
    "    geo.at[i, 'state'] = result.state\n",
    "    geo.at[i, 'country'] = result.country\n",
    "    \n",
    "    # If Bing returns None for neighborhood, use Google\n",
    "    if geo.loc[i, 'bing_neighborhood'] is None:\n",
    "        result = geocoder.google(full_neighborhood)\n",
    "        \n",
    "        geo.at[i, 'status'] = result.status\n",
    "        geo.at[i, 'lat'] = result.lat\n",
    "        geo.at[i, 'lng'] = result.lng\n",
    "        \n",
    "        if result.county == 'Vitória': # Google uses county when Bing uses city\n",
    "            geo.at[i, 'city'] = result.county\n",
    "        geo.at[i, 'state'] = result.state\n",
    "        if result.country == 'BR':\n",
    "            geo.at[i, 'country'] = 'Brazil'\n",
    "\"\"\""
   ]
  },
  {
   "cell_type": "code",
   "execution_count": 39,
   "metadata": {},
   "outputs": [],
   "source": [
    "#geo.head()"
   ]
  },
  {
   "cell_type": "code",
   "execution_count": 40,
   "metadata": {},
   "outputs": [],
   "source": [
    "# Check that all the neighborhoods are unique\n",
    "#(geo['bing_neighborhood'].value_counts() == 1).all()"
   ]
  },
  {
   "cell_type": "code",
   "execution_count": 41,
   "metadata": {},
   "outputs": [],
   "source": [
    "# Check that each neighborhood returns a unique location\n",
    "#not any(geo.duplicated(['lat', 'lng']))"
   ]
  },
  {
   "cell_type": "code",
   "execution_count": 42,
   "metadata": {},
   "outputs": [],
   "source": [
    "# Verify that all of the locations are in Vitória, Espírito Santo, Brazil\n",
    "#print((geo['status'] == 'OK').all())\n",
    "#print((geo['city'] == 'Vitória').all())\n",
    "#print((geo['state'] == 'ES').all())\n",
    "#print((geo['country'] == 'Brazil').all())"
   ]
  },
  {
   "cell_type": "markdown",
   "metadata": {},
   "source": [
    "<a id='cleaning_patient_id'></a>"
   ]
  },
  {
   "cell_type": "markdown",
   "metadata": {},
   "source": [
    "#### Patient ID"
   ]
  },
  {
   "cell_type": "code",
   "execution_count": 43,
   "metadata": {},
   "outputs": [
    {
     "data": {
      "text/plain": [
       "14    39372\n",
       "13    28319\n",
       "15    24918\n",
       "12    12835\n",
       "11     4002\n",
       "10      920\n",
       "9       136\n",
       "8        18\n",
       "5         3\n",
       "6         2\n",
       "7         1\n",
       "Name: PatientID, dtype: int64"
      ]
     },
     "execution_count": 43,
     "metadata": {},
     "output_type": "execute_result"
    }
   ],
   "source": [
    "# Convert patient ID to a string, as it is meant to be an identifier not a number\n",
    "orig['PatientID'] = orig['PatientID'].astype(int).astype(str)\n",
    "\n",
    "# All identifiers are 7-15 digits long, most have at least 10\n",
    "lens = orig['PatientID'].apply(len)\n",
    "pd.value_counts(lens)"
   ]
  },
  {
   "cell_type": "markdown",
   "metadata": {},
   "source": [
    "> Most of the patient IDs are at least 10 digits long.  There is no consistent length for this field, and it is unknown, and impossible to know, if some of these patient identifiers are flawed.  It is an identifier and does not need to be operated on or with, therefore none of these records will be removed."
   ]
  },
  {
   "cell_type": "markdown",
   "metadata": {},
   "source": [
    "<a id='cleaning_patient_id_consistency'></a>"
   ]
  },
  {
   "cell_type": "markdown",
   "metadata": {},
   "source": [
    "##### PatientID Consistency"
   ]
  },
  {
   "cell_type": "code",
   "execution_count": 44,
   "metadata": {},
   "outputs": [
    {
     "data": {
      "text/plain": [
       "PatientID\n",
       "11111462625267     1\n",
       "111124532532143    2\n",
       "11114485119737     1\n",
       "11116239871275     1\n",
       "1111633122891      3\n",
       "Name: AppointmentID, dtype: int64"
      ]
     },
     "execution_count": 44,
     "metadata": {},
     "output_type": "execute_result"
    }
   ],
   "source": [
    "# Number of appointments per PatientID\n",
    "num_appts_by_patient = orig.groupby('PatientID')['AppointmentID'].count()\n",
    "num_appts_by_patient[:5]"
   ]
  },
  {
   "cell_type": "markdown",
   "metadata": {},
   "source": [
    "There are multiple appointments for some patients, so I am checking that the information for each patient across the different appointments is the same."
   ]
  },
  {
   "cell_type": "code",
   "execution_count": 45,
   "metadata": {},
   "outputs": [
    {
     "data": {
      "text/plain": [
       "0"
      ]
     },
     "execution_count": 45,
     "metadata": {},
     "output_type": "execute_result"
    }
   ],
   "source": [
    "# All have the same gender\n",
    "unique_gender_vals = orig.groupby('PatientID')['Gender'].nunique()\n",
    "len(unique_gender_vals[unique_gender_vals > 1])"
   ]
  },
  {
   "cell_type": "code",
   "execution_count": 46,
   "metadata": {},
   "outputs": [
    {
     "data": {
      "text/plain": [
       "0"
      ]
     },
     "execution_count": 46,
     "metadata": {},
     "output_type": "execute_result"
    }
   ],
   "source": [
    "# All have the same BolsaFamilia status\n",
    "unique_bf_vals = orig.groupby('PatientID')['BolsaFamilia'].nunique()\n",
    "len(unique_bf_vals[unique_bf_vals > 1])"
   ]
  },
  {
   "cell_type": "code",
   "execution_count": 47,
   "metadata": {},
   "outputs": [
    {
     "data": {
      "text/plain": [
       "0"
      ]
     },
     "execution_count": 47,
     "metadata": {},
     "output_type": "execute_result"
    }
   ],
   "source": [
    "# All have the same value for Hypertension\n",
    "unique_hypertension_vals = orig.groupby('PatientID')['Hypertension'].nunique()\n",
    "len(unique_hypertension_vals[unique_hypertension_vals > 1])"
   ]
  },
  {
   "cell_type": "code",
   "execution_count": 48,
   "metadata": {},
   "outputs": [
    {
     "data": {
      "text/plain": [
       "0"
      ]
     },
     "execution_count": 48,
     "metadata": {},
     "output_type": "execute_result"
    }
   ],
   "source": [
    "# All have the same value for Diabetes\n",
    "unique_diabetes_vals = orig.groupby('PatientID')['Diabetes'].nunique()\n",
    "len(unique_diabetes_vals[unique_diabetes_vals > 1])"
   ]
  },
  {
   "cell_type": "code",
   "execution_count": 49,
   "metadata": {},
   "outputs": [
    {
     "data": {
      "text/plain": [
       "0"
      ]
     },
     "execution_count": 49,
     "metadata": {},
     "output_type": "execute_result"
    }
   ],
   "source": [
    "# All have the same value for Alcoholism\n",
    "unique_alcoholism_vals = orig.groupby('PatientID')['Alcoholism'].nunique()\n",
    "len(unique_alcoholism_vals[unique_alcoholism_vals > 1])"
   ]
  },
  {
   "cell_type": "code",
   "execution_count": 50,
   "metadata": {},
   "outputs": [
    {
     "data": {
      "text/plain": [
       "0"
      ]
     },
     "execution_count": 50,
     "metadata": {},
     "output_type": "execute_result"
    }
   ],
   "source": [
    "# All have the same value for NumHandicaps\n",
    "unique_handicaps_vals = orig.groupby('PatientID')['NumHandicaps'].nunique()\n",
    "len(unique_handicaps_vals[unique_handicaps_vals > 1])"
   ]
  },
  {
   "cell_type": "code",
   "execution_count": 51,
   "metadata": {},
   "outputs": [
    {
     "data": {
      "text/plain": [
       "0"
      ]
     },
     "execution_count": 51,
     "metadata": {},
     "output_type": "execute_result"
    }
   ],
   "source": [
    "# All have the same value for Neighborhood - so patients kept the same doctor's office/hospital\n",
    "unique_neighborhood_vals = orig.groupby('PatientID')['Neighborhood'].nunique()\n",
    "len(unique_neighborhood_vals[unique_neighborhood_vals > 1])"
   ]
  },
  {
   "cell_type": "code",
   "execution_count": 52,
   "metadata": {},
   "outputs": [
    {
     "data": {
      "text/plain": [
       "0"
      ]
     },
     "execution_count": 52,
     "metadata": {},
     "output_type": "execute_result"
    }
   ],
   "source": [
    "# Appointments occur with a 7-month period, so the entries for a patient's ages should be within a year of each other\n",
    "unique_age_vals = orig.groupby('PatientID')['Age'].nunique()\n",
    "not_unique_age_vals = unique_age_vals[unique_age_vals > 1]\n",
    "\n",
    "# Patients with more than one appointment, all have less than 2 values for age\n",
    "len(not_unique_age_vals[not_unique_age_vals > 2])"
   ]
  },
  {
   "cell_type": "code",
   "execution_count": 53,
   "metadata": {},
   "outputs": [
    {
     "data": {
      "text/html": [
       "<div>\n",
       "<style scoped>\n",
       "    .dataframe tbody tr th:only-of-type {\n",
       "        vertical-align: middle;\n",
       "    }\n",
       "\n",
       "    .dataframe tbody tr th {\n",
       "        vertical-align: top;\n",
       "    }\n",
       "\n",
       "    .dataframe thead th {\n",
       "        text-align: right;\n",
       "    }\n",
       "</style>\n",
       "<table border=\"1\" class=\"dataframe\">\n",
       "  <thead>\n",
       "    <tr style=\"text-align: right;\">\n",
       "      <th></th>\n",
       "      <th>PatientID</th>\n",
       "      <th>AppointmentID</th>\n",
       "      <th>Gender</th>\n",
       "      <th>ScheduledDay</th>\n",
       "      <th>AppointmentDay</th>\n",
       "      <th>Age</th>\n",
       "      <th>Neighborhood</th>\n",
       "      <th>BolsaFamilia</th>\n",
       "      <th>Hypertension</th>\n",
       "      <th>Diabetes</th>\n",
       "      <th>Alcoholism</th>\n",
       "      <th>NumHandicaps</th>\n",
       "      <th>SMSReceived</th>\n",
       "      <th>NoShow</th>\n",
       "      <th>ScheduledDayDate</th>\n",
       "      <th>AppointmentDayDate</th>\n",
       "    </tr>\n",
       "  </thead>\n",
       "  <tbody>\n",
       "    <tr>\n",
       "      <th>3850</th>\n",
       "      <td>112114682124172</td>\n",
       "      <td>5490237</td>\n",
       "      <td>1</td>\n",
       "      <td>2016-03-18 14:26:03</td>\n",
       "      <td>2016-05-02</td>\n",
       "      <td>0</td>\n",
       "      <td>RESISTÊNCIA</td>\n",
       "      <td>0</td>\n",
       "      <td>0</td>\n",
       "      <td>0</td>\n",
       "      <td>0</td>\n",
       "      <td>0</td>\n",
       "      <td>1</td>\n",
       "      <td>1</td>\n",
       "      <td>2016-03-18</td>\n",
       "      <td>2016-05-02</td>\n",
       "    </tr>\n",
       "    <tr>\n",
       "      <th>110232</th>\n",
       "      <td>112114682124172</td>\n",
       "      <td>5676082</td>\n",
       "      <td>1</td>\n",
       "      <td>2016-05-09 14:56:13</td>\n",
       "      <td>2016-06-08</td>\n",
       "      <td>1</td>\n",
       "      <td>RESISTÊNCIA</td>\n",
       "      <td>0</td>\n",
       "      <td>0</td>\n",
       "      <td>0</td>\n",
       "      <td>0</td>\n",
       "      <td>0</td>\n",
       "      <td>1</td>\n",
       "      <td>1</td>\n",
       "      <td>2016-05-09</td>\n",
       "      <td>2016-06-08</td>\n",
       "    </tr>\n",
       "    <tr>\n",
       "      <th>10283</th>\n",
       "      <td>11238367556569</td>\n",
       "      <td>5723118</td>\n",
       "      <td>1</td>\n",
       "      <td>2016-05-20 07:58:35</td>\n",
       "      <td>2016-05-20</td>\n",
       "      <td>29</td>\n",
       "      <td>ROMÃO</td>\n",
       "      <td>0</td>\n",
       "      <td>1</td>\n",
       "      <td>0</td>\n",
       "      <td>0</td>\n",
       "      <td>0</td>\n",
       "      <td>0</td>\n",
       "      <td>0</td>\n",
       "      <td>2016-05-20</td>\n",
       "      <td>2016-05-20</td>\n",
       "    </tr>\n",
       "    <tr>\n",
       "      <th>19089</th>\n",
       "      <td>11238367556569</td>\n",
       "      <td>5675794</td>\n",
       "      <td>1</td>\n",
       "      <td>2016-05-09 14:21:41</td>\n",
       "      <td>2016-05-13</td>\n",
       "      <td>28</td>\n",
       "      <td>ROMÃO</td>\n",
       "      <td>0</td>\n",
       "      <td>1</td>\n",
       "      <td>0</td>\n",
       "      <td>0</td>\n",
       "      <td>0</td>\n",
       "      <td>0</td>\n",
       "      <td>0</td>\n",
       "      <td>2016-05-09</td>\n",
       "      <td>2016-05-13</td>\n",
       "    </tr>\n",
       "    <tr>\n",
       "      <th>19091</th>\n",
       "      <td>11238367556569</td>\n",
       "      <td>5675795</td>\n",
       "      <td>1</td>\n",
       "      <td>2016-05-09 14:21:41</td>\n",
       "      <td>2016-05-13</td>\n",
       "      <td>28</td>\n",
       "      <td>ROMÃO</td>\n",
       "      <td>0</td>\n",
       "      <td>1</td>\n",
       "      <td>0</td>\n",
       "      <td>0</td>\n",
       "      <td>0</td>\n",
       "      <td>0</td>\n",
       "      <td>0</td>\n",
       "      <td>2016-05-09</td>\n",
       "      <td>2016-05-13</td>\n",
       "    </tr>\n",
       "  </tbody>\n",
       "</table>\n",
       "</div>"
      ],
      "text/plain": [
       "              PatientID AppointmentID  Gender        ScheduledDay  \\\n",
       "3850    112114682124172       5490237       1 2016-03-18 14:26:03   \n",
       "110232  112114682124172       5676082       1 2016-05-09 14:56:13   \n",
       "10283    11238367556569       5723118       1 2016-05-20 07:58:35   \n",
       "19089    11238367556569       5675794       1 2016-05-09 14:21:41   \n",
       "19091    11238367556569       5675795       1 2016-05-09 14:21:41   \n",
       "\n",
       "       AppointmentDay  Age Neighborhood  BolsaFamilia  Hypertension  Diabetes  \\\n",
       "3850       2016-05-02    0  RESISTÊNCIA             0             0         0   \n",
       "110232     2016-06-08    1  RESISTÊNCIA             0             0         0   \n",
       "10283      2016-05-20   29        ROMÃO             0             1         0   \n",
       "19089      2016-05-13   28        ROMÃO             0             1         0   \n",
       "19091      2016-05-13   28        ROMÃO             0             1         0   \n",
       "\n",
       "        Alcoholism  NumHandicaps  SMSReceived  NoShow ScheduledDayDate  \\\n",
       "3850             0             0            1       1       2016-03-18   \n",
       "110232           0             0            1       1       2016-05-09   \n",
       "10283            0             0            0       0       2016-05-20   \n",
       "19089            0             0            0       0       2016-05-09   \n",
       "19091            0             0            0       0       2016-05-09   \n",
       "\n",
       "       AppointmentDayDate  \n",
       "3850           2016-05-02  \n",
       "110232         2016-06-08  \n",
       "10283          2016-05-20  \n",
       "19089          2016-05-13  \n",
       "19091          2016-05-13  "
      ]
     },
     "execution_count": 53,
     "metadata": {},
     "output_type": "execute_result"
    }
   ],
   "source": [
    "# Get the information for the patients with more than one age\n",
    "patients_multiple_ages = list(not_unique_age_vals.index)\n",
    "multiple_ages_info = orig[orig['PatientID'].isin(patients_multiple_ages)].sort_values('PatientID')\n",
    "multiple_ages_info.head()"
   ]
  },
  {
   "cell_type": "code",
   "execution_count": 54,
   "metadata": {},
   "outputs": [
    {
     "data": {
      "text/plain": [
       "PatientID\n",
       "112114682124172    1\n",
       "11238367556569     1\n",
       "1124242331227      1\n",
       "1126541547466      1\n",
       "112777857389857    1\n",
       "Name: Age, dtype: int64"
      ]
     },
     "execution_count": 54,
     "metadata": {},
     "output_type": "execute_result"
    }
   ],
   "source": [
    "# Get the difference between each patient's ages\n",
    "max_age = multiple_ages_info.groupby('PatientID')['Age'].max()\n",
    "min_age = multiple_ages_info.groupby('PatientID')['Age'].min()\n",
    "age_diff = max_age - min_age\n",
    "age_diff.head()"
   ]
  },
  {
   "cell_type": "code",
   "execution_count": 55,
   "metadata": {},
   "outputs": [
    {
     "data": {
      "text/plain": [
       "True"
      ]
     },
     "execution_count": 55,
     "metadata": {},
     "output_type": "execute_result"
    }
   ],
   "source": [
    "# Each patient's ages are within one year of each other\n",
    "age_diff[age_diff <= 1].all()"
   ]
  },
  {
   "cell_type": "markdown",
   "metadata": {},
   "source": [
    "<a id='addtl_data'></a>"
   ]
  },
  {
   "cell_type": "markdown",
   "metadata": {},
   "source": [
    "## Additional Data\n",
    "***"
   ]
  },
  {
   "cell_type": "markdown",
   "metadata": {},
   "source": [
    "I obtained weather data for Vitória airport from [wunderground.com](https://www.wunderground.com/history/airport/SBVT/2016/4/29/DailyHistory.html) for the appointment dates."
   ]
  },
  {
   "cell_type": "code",
   "execution_count": 56,
   "metadata": {},
   "outputs": [
    {
     "data": {
      "text/html": [
       "<div>\n",
       "<style scoped>\n",
       "    .dataframe tbody tr th:only-of-type {\n",
       "        vertical-align: middle;\n",
       "    }\n",
       "\n",
       "    .dataframe tbody tr th {\n",
       "        vertical-align: top;\n",
       "    }\n",
       "\n",
       "    .dataframe thead th {\n",
       "        text-align: right;\n",
       "    }\n",
       "</style>\n",
       "<table border=\"1\" class=\"dataframe\">\n",
       "  <thead>\n",
       "    <tr style=\"text-align: right;\">\n",
       "      <th></th>\n",
       "      <th>Date</th>\n",
       "      <th>temp_high</th>\n",
       "      <th>temp_avg</th>\n",
       "      <th>temp_low</th>\n",
       "      <th>humidity_high</th>\n",
       "      <th>humidity_avg</th>\n",
       "      <th>humidity_low</th>\n",
       "      <th>visibility_high</th>\n",
       "      <th>visibility_avg</th>\n",
       "      <th>visibility_low</th>\n",
       "      <th>wind_high</th>\n",
       "      <th>wind_avg</th>\n",
       "      <th>precip_in</th>\n",
       "      <th>rain</th>\n",
       "      <th>thunderstorm</th>\n",
       "      <th>fog</th>\n",
       "    </tr>\n",
       "  </thead>\n",
       "  <tbody>\n",
       "    <tr>\n",
       "      <th>0</th>\n",
       "      <td>2016-04-29</td>\n",
       "      <td>75</td>\n",
       "      <td>73</td>\n",
       "      <td>71</td>\n",
       "      <td>88</td>\n",
       "      <td>76</td>\n",
       "      <td>64</td>\n",
       "      <td>12</td>\n",
       "      <td>7</td>\n",
       "      <td>6</td>\n",
       "      <td>16</td>\n",
       "      <td>11</td>\n",
       "      <td>0.01</td>\n",
       "      <td>0</td>\n",
       "      <td>0</td>\n",
       "      <td>0</td>\n",
       "    </tr>\n",
       "    <tr>\n",
       "      <th>1</th>\n",
       "      <td>2016-04-30</td>\n",
       "      <td>80</td>\n",
       "      <td>74</td>\n",
       "      <td>69</td>\n",
       "      <td>88</td>\n",
       "      <td>79</td>\n",
       "      <td>70</td>\n",
       "      <td>12</td>\n",
       "      <td>7</td>\n",
       "      <td>6</td>\n",
       "      <td>13</td>\n",
       "      <td>7</td>\n",
       "      <td>0.00</td>\n",
       "      <td>0</td>\n",
       "      <td>0</td>\n",
       "      <td>0</td>\n",
       "    </tr>\n",
       "    <tr>\n",
       "      <th>2</th>\n",
       "      <td>2016-05-01</td>\n",
       "      <td>77</td>\n",
       "      <td>73</td>\n",
       "      <td>69</td>\n",
       "      <td>83</td>\n",
       "      <td>67</td>\n",
       "      <td>52</td>\n",
       "      <td>12</td>\n",
       "      <td>6</td>\n",
       "      <td>4</td>\n",
       "      <td>17</td>\n",
       "      <td>13</td>\n",
       "      <td>0.00</td>\n",
       "      <td>1</td>\n",
       "      <td>0</td>\n",
       "      <td>0</td>\n",
       "    </tr>\n",
       "    <tr>\n",
       "      <th>3</th>\n",
       "      <td>2016-05-02</td>\n",
       "      <td>81</td>\n",
       "      <td>74</td>\n",
       "      <td>66</td>\n",
       "      <td>83</td>\n",
       "      <td>58</td>\n",
       "      <td>33</td>\n",
       "      <td>12</td>\n",
       "      <td>8</td>\n",
       "      <td>6</td>\n",
       "      <td>17</td>\n",
       "      <td>11</td>\n",
       "      <td>0.00</td>\n",
       "      <td>0</td>\n",
       "      <td>0</td>\n",
       "      <td>0</td>\n",
       "    </tr>\n",
       "    <tr>\n",
       "      <th>4</th>\n",
       "      <td>2016-05-03</td>\n",
       "      <td>79</td>\n",
       "      <td>70</td>\n",
       "      <td>62</td>\n",
       "      <td>88</td>\n",
       "      <td>80</td>\n",
       "      <td>61</td>\n",
       "      <td>12</td>\n",
       "      <td>7</td>\n",
       "      <td>6</td>\n",
       "      <td>17</td>\n",
       "      <td>5</td>\n",
       "      <td>0.00</td>\n",
       "      <td>0</td>\n",
       "      <td>0</td>\n",
       "      <td>0</td>\n",
       "    </tr>\n",
       "  </tbody>\n",
       "</table>\n",
       "</div>"
      ],
      "text/plain": [
       "         Date  temp_high  temp_avg  temp_low  humidity_high  humidity_avg  \\\n",
       "0  2016-04-29         75        73        71             88            76   \n",
       "1  2016-04-30         80        74        69             88            79   \n",
       "2  2016-05-01         77        73        69             83            67   \n",
       "3  2016-05-02         81        74        66             83            58   \n",
       "4  2016-05-03         79        70        62             88            80   \n",
       "\n",
       "   humidity_low  visibility_high  visibility_avg  visibility_low  wind_high  \\\n",
       "0            64               12               7               6         16   \n",
       "1            70               12               7               6         13   \n",
       "2            52               12               6               4         17   \n",
       "3            33               12               8               6         17   \n",
       "4            61               12               7               6         17   \n",
       "\n",
       "   wind_avg  precip_in  rain  thunderstorm  fog  \n",
       "0        11       0.01     0             0    0  \n",
       "1         7       0.00     0             0    0  \n",
       "2        13       0.00     1             0    0  \n",
       "3        11       0.00     0             0    0  \n",
       "4         5       0.00     0             0    0  "
      ]
     },
     "execution_count": 56,
     "metadata": {},
     "output_type": "execute_result"
    }
   ],
   "source": [
    "xlsx = pd.ExcelFile('vitoria_weather.xlsx')\n",
    "weather = pd.read_excel(xlsx, 'Sheet1', skiprows = 2)\n",
    "weather['Date'] = pd.to_datetime(weather['Date']).dt.date\n",
    "weather.head()"
   ]
  },
  {
   "cell_type": "code",
   "execution_count": 57,
   "metadata": {},
   "outputs": [
    {
     "data": {
      "text/plain": [
       "True"
      ]
     },
     "execution_count": 57,
     "metadata": {},
     "output_type": "execute_result"
    }
   ],
   "source": [
    "all(weather['visibility_high'] == 12)"
   ]
  },
  {
   "cell_type": "code",
   "execution_count": 58,
   "metadata": {},
   "outputs": [
    {
     "data": {
      "text/plain": [
       "True"
      ]
     },
     "execution_count": 58,
     "metadata": {},
     "output_type": "execute_result"
    }
   ],
   "source": [
    "# Remove the visibility_high field since it has the same value for every date\n",
    "weather.drop('visibility_high', axis=1, inplace=True)\n",
    "\n",
    "# Merge appointment data with weather data\n",
    "ow = pd.merge(orig, weather, left_on='AppointmentDayDate', right_on='Date', how='left')\n",
    "\n",
    "# Check there are no null values\n",
    "all(ow.isnull().sum() == 0)"
   ]
  },
  {
   "cell_type": "markdown",
   "metadata": {},
   "source": [
    "<a id='feat_engineering'></a>"
   ]
  },
  {
   "cell_type": "markdown",
   "metadata": {},
   "source": [
    "## Feature Engineering\n",
    "***"
   ]
  },
  {
   "cell_type": "markdown",
   "metadata": {},
   "source": [
    "### Differences Between Scheduled and Appointment Days"
   ]
  },
  {
   "cell_type": "code",
   "execution_count": 59,
   "metadata": {
    "scrolled": false
   },
   "outputs": [
    {
     "data": {
      "text/html": [
       "<div>\n",
       "<style scoped>\n",
       "    .dataframe tbody tr th:only-of-type {\n",
       "        vertical-align: middle;\n",
       "    }\n",
       "\n",
       "    .dataframe tbody tr th {\n",
       "        vertical-align: top;\n",
       "    }\n",
       "\n",
       "    .dataframe thead th {\n",
       "        text-align: right;\n",
       "    }\n",
       "</style>\n",
       "<table border=\"1\" class=\"dataframe\">\n",
       "  <thead>\n",
       "    <tr style=\"text-align: right;\">\n",
       "      <th></th>\n",
       "      <th>ScheduledDayDate</th>\n",
       "      <th>AppointmentDayDate</th>\n",
       "      <th>DayDiff</th>\n",
       "    </tr>\n",
       "  </thead>\n",
       "  <tbody>\n",
       "    <tr>\n",
       "      <th>71533</th>\n",
       "      <td>2016-05-11</td>\n",
       "      <td>2016-05-05</td>\n",
       "      <td>-6</td>\n",
       "    </tr>\n",
       "    <tr>\n",
       "      <th>72362</th>\n",
       "      <td>2016-05-04</td>\n",
       "      <td>2016-05-03</td>\n",
       "      <td>-1</td>\n",
       "    </tr>\n",
       "    <tr>\n",
       "      <th>64175</th>\n",
       "      <td>2016-05-05</td>\n",
       "      <td>2016-05-04</td>\n",
       "      <td>-1</td>\n",
       "    </tr>\n",
       "    <tr>\n",
       "      <th>55226</th>\n",
       "      <td>2016-05-18</td>\n",
       "      <td>2016-05-17</td>\n",
       "      <td>-1</td>\n",
       "    </tr>\n",
       "    <tr>\n",
       "      <th>27033</th>\n",
       "      <td>2016-05-10</td>\n",
       "      <td>2016-05-09</td>\n",
       "      <td>-1</td>\n",
       "    </tr>\n",
       "    <tr>\n",
       "      <th>57785</th>\n",
       "      <td>2016-05-04</td>\n",
       "      <td>2016-05-04</td>\n",
       "      <td>0</td>\n",
       "    </tr>\n",
       "    <tr>\n",
       "      <th>57786</th>\n",
       "      <td>2016-05-18</td>\n",
       "      <td>2016-05-18</td>\n",
       "      <td>0</td>\n",
       "    </tr>\n",
       "  </tbody>\n",
       "</table>\n",
       "</div>"
      ],
      "text/plain": [
       "      ScheduledDayDate AppointmentDayDate  DayDiff\n",
       "71533       2016-05-11         2016-05-05       -6\n",
       "72362       2016-05-04         2016-05-03       -1\n",
       "64175       2016-05-05         2016-05-04       -1\n",
       "55226       2016-05-18         2016-05-17       -1\n",
       "27033       2016-05-10         2016-05-09       -1\n",
       "57785       2016-05-04         2016-05-04        0\n",
       "57786       2016-05-18         2016-05-18        0"
      ]
     },
     "execution_count": 59,
     "metadata": {},
     "output_type": "execute_result"
    }
   ],
   "source": [
    "# Add a field for the number of days between scheduling and the appointment\n",
    "ow['DayDiff'] = ((ow['AppointmentDayDate'] - ow['ScheduledDayDate'])/np.timedelta64(1, 'D')).astype(int)\n",
    "ow[['ScheduledDayDate', 'AppointmentDayDate', 'DayDiff']].sort_values(by = 'DayDiff')[:7]"
   ]
  },
  {
   "cell_type": "markdown",
   "metadata": {},
   "source": [
    "We can see that we need to do some data cleaning as there are five appointments that were shown to be scheduled days after the appointment itself.  These are obviously errors and since there are only five, they were removed from the data."
   ]
  },
  {
   "cell_type": "code",
   "execution_count": 60,
   "metadata": {},
   "outputs": [],
   "source": [
    "ow = (ow[ow['DayDiff'] >= 0])"
   ]
  },
  {
   "cell_type": "markdown",
   "metadata": {},
   "source": [
    "### Day of Week and Weekend"
   ]
  },
  {
   "cell_type": "code",
   "execution_count": 61,
   "metadata": {},
   "outputs": [
    {
     "data": {
      "text/plain": [
       "39"
      ]
     },
     "execution_count": 61,
     "metadata": {},
     "output_type": "execute_result"
    }
   ],
   "source": [
    "# Add a field for whether the AppointmentDay is during the weekend (1) or not (0)\n",
    "ow['Day_of_Week'] = pd.to_datetime(ow['AppointmentDay']).dt.dayofweek\n",
    "ow['Weekend'] = np.where(ow['Day_of_Week'] >= 5, 1, 0)\n",
    "\n",
    "# Number of weekend appointments\n",
    "ow['Weekend'].sum()"
   ]
  },
  {
   "cell_type": "markdown",
   "metadata": {},
   "source": [
    "<a id='eda'></a>"
   ]
  },
  {
   "cell_type": "markdown",
   "metadata": {},
   "source": [
    "## Exploratory Data Analysis\n",
    "***"
   ]
  },
  {
   "cell_type": "markdown",
   "metadata": {},
   "source": [
    "<a id='further_cleaning'></a>"
   ]
  },
  {
   "cell_type": "markdown",
   "metadata": {},
   "source": [
    "### Initial Exploration and Further Cleaning"
   ]
  },
  {
   "cell_type": "markdown",
   "metadata": {},
   "source": [
    "#### Number of appointments by patient"
   ]
  },
  {
   "cell_type": "code",
   "execution_count": 62,
   "metadata": {},
   "outputs": [
    {
     "data": {
      "text/plain": [
       "PatientID\n",
       "822145925426128    88\n",
       "99637671331        84\n",
       "26886125921145     70\n",
       "33534783483176     65\n",
       "75797461494159     62\n",
       "258424392677       62\n",
       "871374938638855    62\n",
       "6264198675331      62\n",
       "66844879846766     57\n",
       "872278549442       55\n",
       "Name: AppointmentID, dtype: int64"
      ]
     },
     "execution_count": 62,
     "metadata": {},
     "output_type": "execute_result"
    }
   ],
   "source": [
    "num_appts_by_patient.sort_values(ascending = False)[:10]"
   ]
  },
  {
   "cell_type": "markdown",
   "metadata": {},
   "source": [
    "> Oddly there are patients with a significant number of appointments.  The appointments only occurred during a 40-day period, so even if a patient had an appointment every day during this period, they would still only have a maximum of 40 appointments."
   ]
  },
  {
   "cell_type": "code",
   "execution_count": 63,
   "metadata": {},
   "outputs": [
    {
     "data": {
      "text/plain": [
       "1        37919\n",
       "2        13895\n",
       "3         5500\n",
       "4         2367\n",
       "5         1119\n",
       "6-10      1250\n",
       "11-15      171\n",
       "16-20       42\n",
       "21-30       10\n",
       "31-40        8\n",
       "41-50        5\n",
       "50+         10\n",
       "Name: AppointmentID, dtype: int64"
      ]
     },
     "execution_count": 63,
     "metadata": {},
     "output_type": "execute_result"
    }
   ],
   "source": [
    "# Bin the number of appointments per patient\n",
    "bins = [0, 1, 2, 3, 4, 5, 10, 15, 20, 30, 40, 50, 80]\n",
    "bin_names = [\"1\", \"2\", \"3\", \"4\", \"5\", \"6-10\", \"11-15\", \"16-20\", \"21-30\", \"31-40\", \"41-50\", \"50+\"]\n",
    "\n",
    "num_appts_binned = pd.cut(num_appts_by_patient, bins = bins, labels = bin_names).value_counts()\n",
    "num_appts_binned.sort_index()"
   ]
  },
  {
   "cell_type": "code",
   "execution_count": 64,
   "metadata": {},
   "outputs": [
    {
     "data": {
      "image/png": "[encoded data removed]",
      "text/plain": [
       "<matplotlib.figure.Figure at 0x1a1a0621d0>"
      ]
     },
     "metadata": {},
     "output_type": "display_data"
    }
   ],
   "source": [
    "num_appts_by_patient.hist(bins = 100)\n",
    "plt.title(\"Number of Appointments Made Per Patient\");"
   ]
  },
  {
   "cell_type": "markdown",
   "metadata": {},
   "source": [
    "The number of appointments is very skewed to the right.  The majority of patients made three or fewer appointments during this 40-day time period, but the data is very long tailed with upto 88 appointments per patient."
   ]
  },
  {
   "cell_type": "code",
   "execution_count": 65,
   "metadata": {},
   "outputs": [
    {
     "data": {
      "text/html": [
       "<div>\n",
       "<style scoped>\n",
       "    .dataframe tbody tr th:only-of-type {\n",
       "        vertical-align: middle;\n",
       "    }\n",
       "\n",
       "    .dataframe tbody tr th {\n",
       "        vertical-align: top;\n",
       "    }\n",
       "\n",
       "    .dataframe thead th {\n",
       "        text-align: right;\n",
       "    }\n",
       "</style>\n",
       "<table border=\"1\" class=\"dataframe\">\n",
       "  <thead>\n",
       "    <tr style=\"text-align: right;\">\n",
       "      <th></th>\n",
       "      <th>PatientID</th>\n",
       "      <th>AppointmentID</th>\n",
       "      <th>Gender</th>\n",
       "      <th>ScheduledDay</th>\n",
       "      <th>AppointmentDay</th>\n",
       "      <th>Age</th>\n",
       "      <th>Neighborhood</th>\n",
       "      <th>BolsaFamilia</th>\n",
       "      <th>Hypertension</th>\n",
       "      <th>Diabetes</th>\n",
       "      <th>...</th>\n",
       "      <th>visibility_low</th>\n",
       "      <th>wind_high</th>\n",
       "      <th>wind_avg</th>\n",
       "      <th>precip_in</th>\n",
       "      <th>rain</th>\n",
       "      <th>thunderstorm</th>\n",
       "      <th>fog</th>\n",
       "      <th>DayDiff</th>\n",
       "      <th>Day_of_Week</th>\n",
       "      <th>Weekend</th>\n",
       "    </tr>\n",
       "  </thead>\n",
       "  <tbody>\n",
       "    <tr>\n",
       "      <th>3006</th>\n",
       "      <td>822145925426128</td>\n",
       "      <td>5638995</td>\n",
       "      <td>0</td>\n",
       "      <td>2016-04-29 08:38:44</td>\n",
       "      <td>2016-04-29</td>\n",
       "      <td>38</td>\n",
       "      <td>REDENÇÃO</td>\n",
       "      <td>0</td>\n",
       "      <td>0</td>\n",
       "      <td>0</td>\n",
       "      <td>...</td>\n",
       "      <td>6</td>\n",
       "      <td>16</td>\n",
       "      <td>11</td>\n",
       "      <td>0.01</td>\n",
       "      <td>0</td>\n",
       "      <td>0</td>\n",
       "      <td>0</td>\n",
       "      <td>0</td>\n",
       "      <td>4</td>\n",
       "      <td>0</td>\n",
       "    </tr>\n",
       "    <tr>\n",
       "      <th>3093</th>\n",
       "      <td>822145925426128</td>\n",
       "      <td>5640809</td>\n",
       "      <td>0</td>\n",
       "      <td>2016-04-29 11:27:34</td>\n",
       "      <td>2016-04-29</td>\n",
       "      <td>38</td>\n",
       "      <td>REDENÇÃO</td>\n",
       "      <td>0</td>\n",
       "      <td>0</td>\n",
       "      <td>0</td>\n",
       "      <td>...</td>\n",
       "      <td>6</td>\n",
       "      <td>16</td>\n",
       "      <td>11</td>\n",
       "      <td>0.01</td>\n",
       "      <td>0</td>\n",
       "      <td>0</td>\n",
       "      <td>0</td>\n",
       "      <td>0</td>\n",
       "      <td>4</td>\n",
       "      <td>0</td>\n",
       "    </tr>\n",
       "    <tr>\n",
       "      <th>3060</th>\n",
       "      <td>822145925426128</td>\n",
       "      <td>5642878</td>\n",
       "      <td>0</td>\n",
       "      <td>2016-04-29 18:02:42</td>\n",
       "      <td>2016-04-29</td>\n",
       "      <td>38</td>\n",
       "      <td>REDENÇÃO</td>\n",
       "      <td>0</td>\n",
       "      <td>0</td>\n",
       "      <td>0</td>\n",
       "      <td>...</td>\n",
       "      <td>6</td>\n",
       "      <td>16</td>\n",
       "      <td>11</td>\n",
       "      <td>0.01</td>\n",
       "      <td>0</td>\n",
       "      <td>0</td>\n",
       "      <td>0</td>\n",
       "      <td>0</td>\n",
       "      <td>4</td>\n",
       "      <td>0</td>\n",
       "    </tr>\n",
       "    <tr>\n",
       "      <th>8707</th>\n",
       "      <td>822145925426128</td>\n",
       "      <td>5645183</td>\n",
       "      <td>0</td>\n",
       "      <td>2016-05-02 09:34:46</td>\n",
       "      <td>2016-05-02</td>\n",
       "      <td>38</td>\n",
       "      <td>REDENÇÃO</td>\n",
       "      <td>0</td>\n",
       "      <td>0</td>\n",
       "      <td>0</td>\n",
       "      <td>...</td>\n",
       "      <td>6</td>\n",
       "      <td>17</td>\n",
       "      <td>11</td>\n",
       "      <td>0.00</td>\n",
       "      <td>0</td>\n",
       "      <td>0</td>\n",
       "      <td>0</td>\n",
       "      <td>0</td>\n",
       "      <td>0</td>\n",
       "      <td>0</td>\n",
       "    </tr>\n",
       "    <tr>\n",
       "      <th>25428</th>\n",
       "      <td>822145925426128</td>\n",
       "      <td>5649058</td>\n",
       "      <td>0</td>\n",
       "      <td>2016-05-02 17:38:17</td>\n",
       "      <td>2016-05-02</td>\n",
       "      <td>38</td>\n",
       "      <td>REDENÇÃO</td>\n",
       "      <td>0</td>\n",
       "      <td>0</td>\n",
       "      <td>0</td>\n",
       "      <td>...</td>\n",
       "      <td>6</td>\n",
       "      <td>17</td>\n",
       "      <td>11</td>\n",
       "      <td>0.00</td>\n",
       "      <td>0</td>\n",
       "      <td>0</td>\n",
       "      <td>0</td>\n",
       "      <td>0</td>\n",
       "      <td>0</td>\n",
       "      <td>0</td>\n",
       "    </tr>\n",
       "    <tr>\n",
       "      <th>35675</th>\n",
       "      <td>822145925426128</td>\n",
       "      <td>5649163</td>\n",
       "      <td>0</td>\n",
       "      <td>2016-05-02 17:57:36</td>\n",
       "      <td>2016-05-02</td>\n",
       "      <td>38</td>\n",
       "      <td>REDENÇÃO</td>\n",
       "      <td>0</td>\n",
       "      <td>0</td>\n",
       "      <td>0</td>\n",
       "      <td>...</td>\n",
       "      <td>6</td>\n",
       "      <td>17</td>\n",
       "      <td>11</td>\n",
       "      <td>0.00</td>\n",
       "      <td>0</td>\n",
       "      <td>0</td>\n",
       "      <td>0</td>\n",
       "      <td>0</td>\n",
       "      <td>0</td>\n",
       "      <td>0</td>\n",
       "    </tr>\n",
       "    <tr>\n",
       "      <th>7685</th>\n",
       "      <td>822145925426128</td>\n",
       "      <td>5655382</td>\n",
       "      <td>0</td>\n",
       "      <td>2016-05-03 16:57:59</td>\n",
       "      <td>2016-05-03</td>\n",
       "      <td>38</td>\n",
       "      <td>REDENÇÃO</td>\n",
       "      <td>0</td>\n",
       "      <td>0</td>\n",
       "      <td>0</td>\n",
       "      <td>...</td>\n",
       "      <td>6</td>\n",
       "      <td>17</td>\n",
       "      <td>5</td>\n",
       "      <td>0.00</td>\n",
       "      <td>0</td>\n",
       "      <td>0</td>\n",
       "      <td>0</td>\n",
       "      <td>0</td>\n",
       "      <td>1</td>\n",
       "      <td>0</td>\n",
       "    </tr>\n",
       "    <tr>\n",
       "      <th>8831</th>\n",
       "      <td>822145925426128</td>\n",
       "      <td>5657205</td>\n",
       "      <td>0</td>\n",
       "      <td>2016-05-04 09:03:31</td>\n",
       "      <td>2016-05-04</td>\n",
       "      <td>38</td>\n",
       "      <td>REDENÇÃO</td>\n",
       "      <td>0</td>\n",
       "      <td>0</td>\n",
       "      <td>0</td>\n",
       "      <td>...</td>\n",
       "      <td>6</td>\n",
       "      <td>15</td>\n",
       "      <td>5</td>\n",
       "      <td>0.00</td>\n",
       "      <td>0</td>\n",
       "      <td>0</td>\n",
       "      <td>0</td>\n",
       "      <td>0</td>\n",
       "      <td>2</td>\n",
       "      <td>0</td>\n",
       "    </tr>\n",
       "    <tr>\n",
       "      <th>8450</th>\n",
       "      <td>822145925426128</td>\n",
       "      <td>5658723</td>\n",
       "      <td>0</td>\n",
       "      <td>2016-05-04 11:38:34</td>\n",
       "      <td>2016-05-04</td>\n",
       "      <td>38</td>\n",
       "      <td>REDENÇÃO</td>\n",
       "      <td>0</td>\n",
       "      <td>0</td>\n",
       "      <td>0</td>\n",
       "      <td>...</td>\n",
       "      <td>6</td>\n",
       "      <td>15</td>\n",
       "      <td>5</td>\n",
       "      <td>0.00</td>\n",
       "      <td>0</td>\n",
       "      <td>0</td>\n",
       "      <td>0</td>\n",
       "      <td>0</td>\n",
       "      <td>2</td>\n",
       "      <td>0</td>\n",
       "    </tr>\n",
       "    <tr>\n",
       "      <th>8465</th>\n",
       "      <td>822145925426128</td>\n",
       "      <td>5658733</td>\n",
       "      <td>0</td>\n",
       "      <td>2016-05-04 11:40:14</td>\n",
       "      <td>2016-05-04</td>\n",
       "      <td>38</td>\n",
       "      <td>REDENÇÃO</td>\n",
       "      <td>0</td>\n",
       "      <td>0</td>\n",
       "      <td>0</td>\n",
       "      <td>...</td>\n",
       "      <td>6</td>\n",
       "      <td>15</td>\n",
       "      <td>5</td>\n",
       "      <td>0.00</td>\n",
       "      <td>0</td>\n",
       "      <td>0</td>\n",
       "      <td>0</td>\n",
       "      <td>0</td>\n",
       "      <td>2</td>\n",
       "      <td>0</td>\n",
       "    </tr>\n",
       "    <tr>\n",
       "      <th>25412</th>\n",
       "      <td>822145925426128</td>\n",
       "      <td>5660677</td>\n",
       "      <td>0</td>\n",
       "      <td>2016-05-04 17:22:49</td>\n",
       "      <td>2016-05-04</td>\n",
       "      <td>38</td>\n",
       "      <td>REDENÇÃO</td>\n",
       "      <td>0</td>\n",
       "      <td>0</td>\n",
       "      <td>0</td>\n",
       "      <td>...</td>\n",
       "      <td>6</td>\n",
       "      <td>15</td>\n",
       "      <td>5</td>\n",
       "      <td>0.00</td>\n",
       "      <td>0</td>\n",
       "      <td>0</td>\n",
       "      <td>0</td>\n",
       "      <td>0</td>\n",
       "      <td>2</td>\n",
       "      <td>0</td>\n",
       "    </tr>\n",
       "    <tr>\n",
       "      <th>25421</th>\n",
       "      <td>822145925426128</td>\n",
       "      <td>5660730</td>\n",
       "      <td>0</td>\n",
       "      <td>2016-05-04 18:08:30</td>\n",
       "      <td>2016-05-04</td>\n",
       "      <td>38</td>\n",
       "      <td>REDENÇÃO</td>\n",
       "      <td>0</td>\n",
       "      <td>0</td>\n",
       "      <td>0</td>\n",
       "      <td>...</td>\n",
       "      <td>6</td>\n",
       "      <td>15</td>\n",
       "      <td>5</td>\n",
       "      <td>0.00</td>\n",
       "      <td>0</td>\n",
       "      <td>0</td>\n",
       "      <td>0</td>\n",
       "      <td>0</td>\n",
       "      <td>2</td>\n",
       "      <td>0</td>\n",
       "    </tr>\n",
       "    <tr>\n",
       "      <th>8657</th>\n",
       "      <td>822145925426128</td>\n",
       "      <td>5662479</td>\n",
       "      <td>0</td>\n",
       "      <td>2016-05-05 08:36:48</td>\n",
       "      <td>2016-05-05</td>\n",
       "      <td>38</td>\n",
       "      <td>REDENÇÃO</td>\n",
       "      <td>0</td>\n",
       "      <td>0</td>\n",
       "      <td>0</td>\n",
       "      <td>...</td>\n",
       "      <td>6</td>\n",
       "      <td>17</td>\n",
       "      <td>7</td>\n",
       "      <td>0.00</td>\n",
       "      <td>0</td>\n",
       "      <td>0</td>\n",
       "      <td>0</td>\n",
       "      <td>0</td>\n",
       "      <td>3</td>\n",
       "      <td>0</td>\n",
       "    </tr>\n",
       "    <tr>\n",
       "      <th>8869</th>\n",
       "      <td>822145925426128</td>\n",
       "      <td>5667980</td>\n",
       "      <td>0</td>\n",
       "      <td>2016-05-06 08:20:55</td>\n",
       "      <td>2016-05-06</td>\n",
       "      <td>38</td>\n",
       "      <td>REDENÇÃO</td>\n",
       "      <td>0</td>\n",
       "      <td>0</td>\n",
       "      <td>0</td>\n",
       "      <td>...</td>\n",
       "      <td>6</td>\n",
       "      <td>14</td>\n",
       "      <td>5</td>\n",
       "      <td>0.00</td>\n",
       "      <td>0</td>\n",
       "      <td>0</td>\n",
       "      <td>0</td>\n",
       "      <td>0</td>\n",
       "      <td>4</td>\n",
       "      <td>0</td>\n",
       "    </tr>\n",
       "    <tr>\n",
       "      <th>6985</th>\n",
       "      <td>822145925426128</td>\n",
       "      <td>5668887</td>\n",
       "      <td>0</td>\n",
       "      <td>2016-05-06 09:54:32</td>\n",
       "      <td>2016-05-06</td>\n",
       "      <td>38</td>\n",
       "      <td>REDENÇÃO</td>\n",
       "      <td>0</td>\n",
       "      <td>0</td>\n",
       "      <td>0</td>\n",
       "      <td>...</td>\n",
       "      <td>6</td>\n",
       "      <td>14</td>\n",
       "      <td>5</td>\n",
       "      <td>0.00</td>\n",
       "      <td>0</td>\n",
       "      <td>0</td>\n",
       "      <td>0</td>\n",
       "      <td>0</td>\n",
       "      <td>4</td>\n",
       "      <td>0</td>\n",
       "    </tr>\n",
       "    <tr>\n",
       "      <th>35723</th>\n",
       "      <td>822145925426128</td>\n",
       "      <td>5671341</td>\n",
       "      <td>0</td>\n",
       "      <td>2016-05-06 16:29:48</td>\n",
       "      <td>2016-05-06</td>\n",
       "      <td>38</td>\n",
       "      <td>REDENÇÃO</td>\n",
       "      <td>0</td>\n",
       "      <td>0</td>\n",
       "      <td>0</td>\n",
       "      <td>...</td>\n",
       "      <td>6</td>\n",
       "      <td>14</td>\n",
       "      <td>5</td>\n",
       "      <td>0.00</td>\n",
       "      <td>0</td>\n",
       "      <td>0</td>\n",
       "      <td>0</td>\n",
       "      <td>0</td>\n",
       "      <td>4</td>\n",
       "      <td>0</td>\n",
       "    </tr>\n",
       "    <tr>\n",
       "      <th>9290</th>\n",
       "      <td>822145925426128</td>\n",
       "      <td>5671588</td>\n",
       "      <td>0</td>\n",
       "      <td>2016-05-06 19:56:38</td>\n",
       "      <td>2016-05-10</td>\n",
       "      <td>38</td>\n",
       "      <td>REDENÇÃO</td>\n",
       "      <td>0</td>\n",
       "      <td>0</td>\n",
       "      <td>0</td>\n",
       "      <td>...</td>\n",
       "      <td>6</td>\n",
       "      <td>23</td>\n",
       "      <td>9</td>\n",
       "      <td>0.00</td>\n",
       "      <td>0</td>\n",
       "      <td>0</td>\n",
       "      <td>0</td>\n",
       "      <td>4</td>\n",
       "      <td>1</td>\n",
       "      <td>0</td>\n",
       "    </tr>\n",
       "    <tr>\n",
       "      <th>8691</th>\n",
       "      <td>822145925426128</td>\n",
       "      <td>5673265</td>\n",
       "      <td>0</td>\n",
       "      <td>2016-05-09 09:05:43</td>\n",
       "      <td>2016-05-09</td>\n",
       "      <td>38</td>\n",
       "      <td>REDENÇÃO</td>\n",
       "      <td>0</td>\n",
       "      <td>0</td>\n",
       "      <td>0</td>\n",
       "      <td>...</td>\n",
       "      <td>6</td>\n",
       "      <td>14</td>\n",
       "      <td>6</td>\n",
       "      <td>0.00</td>\n",
       "      <td>0</td>\n",
       "      <td>0</td>\n",
       "      <td>0</td>\n",
       "      <td>0</td>\n",
       "      <td>0</td>\n",
       "      <td>0</td>\n",
       "    </tr>\n",
       "    <tr>\n",
       "      <th>35665</th>\n",
       "      <td>822145925426128</td>\n",
       "      <td>5674659</td>\n",
       "      <td>0</td>\n",
       "      <td>2016-05-09 11:35:55</td>\n",
       "      <td>2016-05-09</td>\n",
       "      <td>38</td>\n",
       "      <td>REDENÇÃO</td>\n",
       "      <td>0</td>\n",
       "      <td>0</td>\n",
       "      <td>0</td>\n",
       "      <td>...</td>\n",
       "      <td>6</td>\n",
       "      <td>14</td>\n",
       "      <td>6</td>\n",
       "      <td>0.00</td>\n",
       "      <td>0</td>\n",
       "      <td>0</td>\n",
       "      <td>0</td>\n",
       "      <td>0</td>\n",
       "      <td>0</td>\n",
       "      <td>0</td>\n",
       "    </tr>\n",
       "    <tr>\n",
       "      <th>25475</th>\n",
       "      <td>822145925426128</td>\n",
       "      <td>5677170</td>\n",
       "      <td>0</td>\n",
       "      <td>2016-05-09 18:21:50</td>\n",
       "      <td>2016-05-09</td>\n",
       "      <td>38</td>\n",
       "      <td>REDENÇÃO</td>\n",
       "      <td>0</td>\n",
       "      <td>0</td>\n",
       "      <td>0</td>\n",
       "      <td>...</td>\n",
       "      <td>6</td>\n",
       "      <td>14</td>\n",
       "      <td>6</td>\n",
       "      <td>0.00</td>\n",
       "      <td>0</td>\n",
       "      <td>0</td>\n",
       "      <td>0</td>\n",
       "      <td>0</td>\n",
       "      <td>0</td>\n",
       "      <td>0</td>\n",
       "    </tr>\n",
       "    <tr>\n",
       "      <th>8761</th>\n",
       "      <td>822145925426128</td>\n",
       "      <td>5680582</td>\n",
       "      <td>0</td>\n",
       "      <td>2016-05-10 12:14:38</td>\n",
       "      <td>2016-05-10</td>\n",
       "      <td>38</td>\n",
       "      <td>REDENÇÃO</td>\n",
       "      <td>0</td>\n",
       "      <td>0</td>\n",
       "      <td>0</td>\n",
       "      <td>...</td>\n",
       "      <td>6</td>\n",
       "      <td>23</td>\n",
       "      <td>9</td>\n",
       "      <td>0.00</td>\n",
       "      <td>0</td>\n",
       "      <td>0</td>\n",
       "      <td>0</td>\n",
       "      <td>0</td>\n",
       "      <td>1</td>\n",
       "      <td>0</td>\n",
       "    </tr>\n",
       "    <tr>\n",
       "      <th>7198</th>\n",
       "      <td>822145925426128</td>\n",
       "      <td>5682166</td>\n",
       "      <td>0</td>\n",
       "      <td>2016-05-10 15:56:47</td>\n",
       "      <td>2016-05-13</td>\n",
       "      <td>38</td>\n",
       "      <td>REDENÇÃO</td>\n",
       "      <td>0</td>\n",
       "      <td>0</td>\n",
       "      <td>0</td>\n",
       "      <td>...</td>\n",
       "      <td>6</td>\n",
       "      <td>17</td>\n",
       "      <td>10</td>\n",
       "      <td>0.00</td>\n",
       "      <td>0</td>\n",
       "      <td>0</td>\n",
       "      <td>0</td>\n",
       "      <td>3</td>\n",
       "      <td>4</td>\n",
       "      <td>0</td>\n",
       "    </tr>\n",
       "    <tr>\n",
       "      <th>8644</th>\n",
       "      <td>822145925426128</td>\n",
       "      <td>5682208</td>\n",
       "      <td>0</td>\n",
       "      <td>2016-05-10 16:01:45</td>\n",
       "      <td>2016-05-10</td>\n",
       "      <td>38</td>\n",
       "      <td>REDENÇÃO</td>\n",
       "      <td>0</td>\n",
       "      <td>0</td>\n",
       "      <td>0</td>\n",
       "      <td>...</td>\n",
       "      <td>6</td>\n",
       "      <td>23</td>\n",
       "      <td>9</td>\n",
       "      <td>0.00</td>\n",
       "      <td>0</td>\n",
       "      <td>0</td>\n",
       "      <td>0</td>\n",
       "      <td>0</td>\n",
       "      <td>1</td>\n",
       "      <td>0</td>\n",
       "    </tr>\n",
       "    <tr>\n",
       "      <th>8451</th>\n",
       "      <td>822145925426128</td>\n",
       "      <td>5686100</td>\n",
       "      <td>0</td>\n",
       "      <td>2016-05-11 12:02:05</td>\n",
       "      <td>2016-05-11</td>\n",
       "      <td>38</td>\n",
       "      <td>REDENÇÃO</td>\n",
       "      <td>0</td>\n",
       "      <td>0</td>\n",
       "      <td>0</td>\n",
       "      <td>...</td>\n",
       "      <td>5</td>\n",
       "      <td>16</td>\n",
       "      <td>9</td>\n",
       "      <td>0.00</td>\n",
       "      <td>0</td>\n",
       "      <td>0</td>\n",
       "      <td>0</td>\n",
       "      <td>0</td>\n",
       "      <td>2</td>\n",
       "      <td>0</td>\n",
       "    </tr>\n",
       "    <tr>\n",
       "      <th>8467</th>\n",
       "      <td>822145925426128</td>\n",
       "      <td>5686138</td>\n",
       "      <td>0</td>\n",
       "      <td>2016-05-11 12:09:33</td>\n",
       "      <td>2016-05-11</td>\n",
       "      <td>38</td>\n",
       "      <td>REDENÇÃO</td>\n",
       "      <td>0</td>\n",
       "      <td>0</td>\n",
       "      <td>0</td>\n",
       "      <td>...</td>\n",
       "      <td>5</td>\n",
       "      <td>16</td>\n",
       "      <td>9</td>\n",
       "      <td>0.00</td>\n",
       "      <td>0</td>\n",
       "      <td>0</td>\n",
       "      <td>0</td>\n",
       "      <td>0</td>\n",
       "      <td>2</td>\n",
       "      <td>0</td>\n",
       "    </tr>\n",
       "    <tr>\n",
       "      <th>8650</th>\n",
       "      <td>822145925426128</td>\n",
       "      <td>5689576</td>\n",
       "      <td>0</td>\n",
       "      <td>2016-05-12 08:43:08</td>\n",
       "      <td>2016-05-12</td>\n",
       "      <td>38</td>\n",
       "      <td>REDENÇÃO</td>\n",
       "      <td>0</td>\n",
       "      <td>0</td>\n",
       "      <td>0</td>\n",
       "      <td>...</td>\n",
       "      <td>2</td>\n",
       "      <td>20</td>\n",
       "      <td>6</td>\n",
       "      <td>0.47</td>\n",
       "      <td>1</td>\n",
       "      <td>1</td>\n",
       "      <td>0</td>\n",
       "      <td>0</td>\n",
       "      <td>3</td>\n",
       "      <td>0</td>\n",
       "    </tr>\n",
       "    <tr>\n",
       "      <th>7290</th>\n",
       "      <td>822145925426128</td>\n",
       "      <td>5691237</td>\n",
       "      <td>0</td>\n",
       "      <td>2016-05-12 11:45:57</td>\n",
       "      <td>2016-05-12</td>\n",
       "      <td>38</td>\n",
       "      <td>REDENÇÃO</td>\n",
       "      <td>0</td>\n",
       "      <td>0</td>\n",
       "      <td>0</td>\n",
       "      <td>...</td>\n",
       "      <td>2</td>\n",
       "      <td>20</td>\n",
       "      <td>6</td>\n",
       "      <td>0.47</td>\n",
       "      <td>1</td>\n",
       "      <td>1</td>\n",
       "      <td>0</td>\n",
       "      <td>0</td>\n",
       "      <td>3</td>\n",
       "      <td>0</td>\n",
       "    </tr>\n",
       "    <tr>\n",
       "      <th>7726</th>\n",
       "      <td>822145925426128</td>\n",
       "      <td>5693050</td>\n",
       "      <td>0</td>\n",
       "      <td>2016-05-12 17:19:53</td>\n",
       "      <td>2016-05-12</td>\n",
       "      <td>38</td>\n",
       "      <td>REDENÇÃO</td>\n",
       "      <td>0</td>\n",
       "      <td>0</td>\n",
       "      <td>0</td>\n",
       "      <td>...</td>\n",
       "      <td>2</td>\n",
       "      <td>20</td>\n",
       "      <td>6</td>\n",
       "      <td>0.47</td>\n",
       "      <td>1</td>\n",
       "      <td>1</td>\n",
       "      <td>0</td>\n",
       "      <td>0</td>\n",
       "      <td>3</td>\n",
       "      <td>0</td>\n",
       "    </tr>\n",
       "    <tr>\n",
       "      <th>8850</th>\n",
       "      <td>822145925426128</td>\n",
       "      <td>5694863</td>\n",
       "      <td>0</td>\n",
       "      <td>2016-05-13 09:04:50</td>\n",
       "      <td>2016-05-13</td>\n",
       "      <td>38</td>\n",
       "      <td>REDENÇÃO</td>\n",
       "      <td>0</td>\n",
       "      <td>0</td>\n",
       "      <td>0</td>\n",
       "      <td>...</td>\n",
       "      <td>6</td>\n",
       "      <td>17</td>\n",
       "      <td>10</td>\n",
       "      <td>0.00</td>\n",
       "      <td>0</td>\n",
       "      <td>0</td>\n",
       "      <td>0</td>\n",
       "      <td>0</td>\n",
       "      <td>4</td>\n",
       "      <td>0</td>\n",
       "    </tr>\n",
       "    <tr>\n",
       "      <th>31572</th>\n",
       "      <td>822145925426128</td>\n",
       "      <td>5695919</td>\n",
       "      <td>0</td>\n",
       "      <td>2016-05-13 11:15:37</td>\n",
       "      <td>2016-05-13</td>\n",
       "      <td>38</td>\n",
       "      <td>REDENÇÃO</td>\n",
       "      <td>0</td>\n",
       "      <td>0</td>\n",
       "      <td>0</td>\n",
       "      <td>...</td>\n",
       "      <td>6</td>\n",
       "      <td>17</td>\n",
       "      <td>10</td>\n",
       "      <td>0.00</td>\n",
       "      <td>0</td>\n",
       "      <td>0</td>\n",
       "      <td>0</td>\n",
       "      <td>0</td>\n",
       "      <td>4</td>\n",
       "      <td>0</td>\n",
       "    </tr>\n",
       "    <tr>\n",
       "      <th>...</th>\n",
       "      <td>...</td>\n",
       "      <td>...</td>\n",
       "      <td>...</td>\n",
       "      <td>...</td>\n",
       "      <td>...</td>\n",
       "      <td>...</td>\n",
       "      <td>...</td>\n",
       "      <td>...</td>\n",
       "      <td>...</td>\n",
       "      <td>...</td>\n",
       "      <td>...</td>\n",
       "      <td>...</td>\n",
       "      <td>...</td>\n",
       "      <td>...</td>\n",
       "      <td>...</td>\n",
       "      <td>...</td>\n",
       "      <td>...</td>\n",
       "      <td>...</td>\n",
       "      <td>...</td>\n",
       "      <td>...</td>\n",
       "      <td>...</td>\n",
       "    </tr>\n",
       "    <tr>\n",
       "      <th>8502</th>\n",
       "      <td>822145925426128</td>\n",
       "      <td>5738935</td>\n",
       "      <td>0</td>\n",
       "      <td>2016-05-25 11:59:35</td>\n",
       "      <td>2016-05-25</td>\n",
       "      <td>38</td>\n",
       "      <td>REDENÇÃO</td>\n",
       "      <td>0</td>\n",
       "      <td>0</td>\n",
       "      <td>0</td>\n",
       "      <td>...</td>\n",
       "      <td>6</td>\n",
       "      <td>16</td>\n",
       "      <td>12</td>\n",
       "      <td>0.00</td>\n",
       "      <td>0</td>\n",
       "      <td>0</td>\n",
       "      <td>0</td>\n",
       "      <td>0</td>\n",
       "      <td>2</td>\n",
       "      <td>0</td>\n",
       "    </tr>\n",
       "    <tr>\n",
       "      <th>25425</th>\n",
       "      <td>822145925426128</td>\n",
       "      <td>5740674</td>\n",
       "      <td>0</td>\n",
       "      <td>2016-05-25 15:50:51</td>\n",
       "      <td>2016-05-25</td>\n",
       "      <td>38</td>\n",
       "      <td>REDENÇÃO</td>\n",
       "      <td>0</td>\n",
       "      <td>0</td>\n",
       "      <td>0</td>\n",
       "      <td>...</td>\n",
       "      <td>6</td>\n",
       "      <td>16</td>\n",
       "      <td>12</td>\n",
       "      <td>0.00</td>\n",
       "      <td>0</td>\n",
       "      <td>0</td>\n",
       "      <td>0</td>\n",
       "      <td>0</td>\n",
       "      <td>2</td>\n",
       "      <td>0</td>\n",
       "    </tr>\n",
       "    <tr>\n",
       "      <th>7437</th>\n",
       "      <td>822145925426128</td>\n",
       "      <td>5740965</td>\n",
       "      <td>0</td>\n",
       "      <td>2016-05-25 16:46:22</td>\n",
       "      <td>2016-05-25</td>\n",
       "      <td>38</td>\n",
       "      <td>REDENÇÃO</td>\n",
       "      <td>0</td>\n",
       "      <td>0</td>\n",
       "      <td>0</td>\n",
       "      <td>...</td>\n",
       "      <td>6</td>\n",
       "      <td>16</td>\n",
       "      <td>12</td>\n",
       "      <td>0.00</td>\n",
       "      <td>0</td>\n",
       "      <td>0</td>\n",
       "      <td>0</td>\n",
       "      <td>0</td>\n",
       "      <td>2</td>\n",
       "      <td>0</td>\n",
       "    </tr>\n",
       "    <tr>\n",
       "      <th>8666</th>\n",
       "      <td>822145925426128</td>\n",
       "      <td>5744367</td>\n",
       "      <td>0</td>\n",
       "      <td>2016-05-30 10:09:25</td>\n",
       "      <td>2016-05-30</td>\n",
       "      <td>38</td>\n",
       "      <td>REDENÇÃO</td>\n",
       "      <td>0</td>\n",
       "      <td>0</td>\n",
       "      <td>0</td>\n",
       "      <td>...</td>\n",
       "      <td>6</td>\n",
       "      <td>16</td>\n",
       "      <td>5</td>\n",
       "      <td>0.00</td>\n",
       "      <td>0</td>\n",
       "      <td>0</td>\n",
       "      <td>0</td>\n",
       "      <td>0</td>\n",
       "      <td>0</td>\n",
       "      <td>0</td>\n",
       "    </tr>\n",
       "    <tr>\n",
       "      <th>7587</th>\n",
       "      <td>822145925426128</td>\n",
       "      <td>5745336</td>\n",
       "      <td>0</td>\n",
       "      <td>2016-05-30 11:44:03</td>\n",
       "      <td>2016-05-30</td>\n",
       "      <td>38</td>\n",
       "      <td>REDENÇÃO</td>\n",
       "      <td>0</td>\n",
       "      <td>0</td>\n",
       "      <td>0</td>\n",
       "      <td>...</td>\n",
       "      <td>6</td>\n",
       "      <td>16</td>\n",
       "      <td>5</td>\n",
       "      <td>0.00</td>\n",
       "      <td>0</td>\n",
       "      <td>0</td>\n",
       "      <td>0</td>\n",
       "      <td>0</td>\n",
       "      <td>0</td>\n",
       "      <td>0</td>\n",
       "    </tr>\n",
       "    <tr>\n",
       "      <th>40518</th>\n",
       "      <td>822145925426128</td>\n",
       "      <td>5747258</td>\n",
       "      <td>0</td>\n",
       "      <td>2016-05-30 15:22:15</td>\n",
       "      <td>2016-05-30</td>\n",
       "      <td>38</td>\n",
       "      <td>REDENÇÃO</td>\n",
       "      <td>0</td>\n",
       "      <td>0</td>\n",
       "      <td>0</td>\n",
       "      <td>...</td>\n",
       "      <td>6</td>\n",
       "      <td>16</td>\n",
       "      <td>5</td>\n",
       "      <td>0.00</td>\n",
       "      <td>0</td>\n",
       "      <td>0</td>\n",
       "      <td>0</td>\n",
       "      <td>0</td>\n",
       "      <td>0</td>\n",
       "      <td>0</td>\n",
       "    </tr>\n",
       "    <tr>\n",
       "      <th>25427</th>\n",
       "      <td>822145925426128</td>\n",
       "      <td>5748219</td>\n",
       "      <td>0</td>\n",
       "      <td>2016-05-30 17:45:46</td>\n",
       "      <td>2016-05-30</td>\n",
       "      <td>38</td>\n",
       "      <td>REDENÇÃO</td>\n",
       "      <td>0</td>\n",
       "      <td>0</td>\n",
       "      <td>0</td>\n",
       "      <td>...</td>\n",
       "      <td>6</td>\n",
       "      <td>16</td>\n",
       "      <td>5</td>\n",
       "      <td>0.00</td>\n",
       "      <td>0</td>\n",
       "      <td>0</td>\n",
       "      <td>0</td>\n",
       "      <td>0</td>\n",
       "      <td>0</td>\n",
       "      <td>0</td>\n",
       "    </tr>\n",
       "    <tr>\n",
       "      <th>8798</th>\n",
       "      <td>822145925426128</td>\n",
       "      <td>5752932</td>\n",
       "      <td>0</td>\n",
       "      <td>2016-05-31 13:09:21</td>\n",
       "      <td>2016-05-31</td>\n",
       "      <td>38</td>\n",
       "      <td>REDENÇÃO</td>\n",
       "      <td>0</td>\n",
       "      <td>0</td>\n",
       "      <td>0</td>\n",
       "      <td>...</td>\n",
       "      <td>2</td>\n",
       "      <td>15</td>\n",
       "      <td>5</td>\n",
       "      <td>0.00</td>\n",
       "      <td>0</td>\n",
       "      <td>0</td>\n",
       "      <td>1</td>\n",
       "      <td>0</td>\n",
       "      <td>1</td>\n",
       "      <td>0</td>\n",
       "    </tr>\n",
       "    <tr>\n",
       "      <th>40523</th>\n",
       "      <td>822145925426128</td>\n",
       "      <td>5753275</td>\n",
       "      <td>0</td>\n",
       "      <td>2016-05-31 13:46:22</td>\n",
       "      <td>2016-05-31</td>\n",
       "      <td>38</td>\n",
       "      <td>REDENÇÃO</td>\n",
       "      <td>0</td>\n",
       "      <td>0</td>\n",
       "      <td>0</td>\n",
       "      <td>...</td>\n",
       "      <td>2</td>\n",
       "      <td>15</td>\n",
       "      <td>5</td>\n",
       "      <td>0.00</td>\n",
       "      <td>0</td>\n",
       "      <td>0</td>\n",
       "      <td>1</td>\n",
       "      <td>0</td>\n",
       "      <td>1</td>\n",
       "      <td>0</td>\n",
       "    </tr>\n",
       "    <tr>\n",
       "      <th>8631</th>\n",
       "      <td>822145925426128</td>\n",
       "      <td>5754261</td>\n",
       "      <td>0</td>\n",
       "      <td>2016-05-31 15:50:12</td>\n",
       "      <td>2016-05-31</td>\n",
       "      <td>38</td>\n",
       "      <td>REDENÇÃO</td>\n",
       "      <td>0</td>\n",
       "      <td>0</td>\n",
       "      <td>0</td>\n",
       "      <td>...</td>\n",
       "      <td>2</td>\n",
       "      <td>15</td>\n",
       "      <td>5</td>\n",
       "      <td>0.00</td>\n",
       "      <td>0</td>\n",
       "      <td>0</td>\n",
       "      <td>1</td>\n",
       "      <td>0</td>\n",
       "      <td>1</td>\n",
       "      <td>0</td>\n",
       "    </tr>\n",
       "    <tr>\n",
       "      <th>109230</th>\n",
       "      <td>822145925426128</td>\n",
       "      <td>5756865</td>\n",
       "      <td>0</td>\n",
       "      <td>2016-06-01 08:44:35</td>\n",
       "      <td>2016-06-01</td>\n",
       "      <td>38</td>\n",
       "      <td>REDENÇÃO</td>\n",
       "      <td>0</td>\n",
       "      <td>0</td>\n",
       "      <td>0</td>\n",
       "      <td>...</td>\n",
       "      <td>6</td>\n",
       "      <td>13</td>\n",
       "      <td>4</td>\n",
       "      <td>0.01</td>\n",
       "      <td>0</td>\n",
       "      <td>1</td>\n",
       "      <td>0</td>\n",
       "      <td>0</td>\n",
       "      <td>2</td>\n",
       "      <td>0</td>\n",
       "    </tr>\n",
       "    <tr>\n",
       "      <th>108797</th>\n",
       "      <td>822145925426128</td>\n",
       "      <td>5759314</td>\n",
       "      <td>0</td>\n",
       "      <td>2016-06-01 12:22:00</td>\n",
       "      <td>2016-06-01</td>\n",
       "      <td>38</td>\n",
       "      <td>REDENÇÃO</td>\n",
       "      <td>0</td>\n",
       "      <td>0</td>\n",
       "      <td>0</td>\n",
       "      <td>...</td>\n",
       "      <td>6</td>\n",
       "      <td>13</td>\n",
       "      <td>4</td>\n",
       "      <td>0.01</td>\n",
       "      <td>0</td>\n",
       "      <td>1</td>\n",
       "      <td>0</td>\n",
       "      <td>0</td>\n",
       "      <td>2</td>\n",
       "      <td>0</td>\n",
       "    </tr>\n",
       "    <tr>\n",
       "      <th>108817</th>\n",
       "      <td>822145925426128</td>\n",
       "      <td>5759318</td>\n",
       "      <td>0</td>\n",
       "      <td>2016-06-01 12:22:31</td>\n",
       "      <td>2016-06-01</td>\n",
       "      <td>38</td>\n",
       "      <td>REDENÇÃO</td>\n",
       "      <td>0</td>\n",
       "      <td>0</td>\n",
       "      <td>0</td>\n",
       "      <td>...</td>\n",
       "      <td>6</td>\n",
       "      <td>13</td>\n",
       "      <td>4</td>\n",
       "      <td>0.01</td>\n",
       "      <td>0</td>\n",
       "      <td>1</td>\n",
       "      <td>0</td>\n",
       "      <td>0</td>\n",
       "      <td>2</td>\n",
       "      <td>0</td>\n",
       "    </tr>\n",
       "    <tr>\n",
       "      <th>98838</th>\n",
       "      <td>822145925426128</td>\n",
       "      <td>5760271</td>\n",
       "      <td>0</td>\n",
       "      <td>2016-06-01 14:33:56</td>\n",
       "      <td>2016-06-01</td>\n",
       "      <td>38</td>\n",
       "      <td>REDENÇÃO</td>\n",
       "      <td>0</td>\n",
       "      <td>0</td>\n",
       "      <td>0</td>\n",
       "      <td>...</td>\n",
       "      <td>6</td>\n",
       "      <td>13</td>\n",
       "      <td>4</td>\n",
       "      <td>0.01</td>\n",
       "      <td>0</td>\n",
       "      <td>1</td>\n",
       "      <td>0</td>\n",
       "      <td>0</td>\n",
       "      <td>2</td>\n",
       "      <td>0</td>\n",
       "    </tr>\n",
       "    <tr>\n",
       "      <th>109113</th>\n",
       "      <td>822145925426128</td>\n",
       "      <td>5761322</td>\n",
       "      <td>0</td>\n",
       "      <td>2016-06-01 17:17:07</td>\n",
       "      <td>2016-06-01</td>\n",
       "      <td>38</td>\n",
       "      <td>REDENÇÃO</td>\n",
       "      <td>0</td>\n",
       "      <td>0</td>\n",
       "      <td>0</td>\n",
       "      <td>...</td>\n",
       "      <td>6</td>\n",
       "      <td>13</td>\n",
       "      <td>4</td>\n",
       "      <td>0.01</td>\n",
       "      <td>0</td>\n",
       "      <td>1</td>\n",
       "      <td>0</td>\n",
       "      <td>0</td>\n",
       "      <td>2</td>\n",
       "      <td>0</td>\n",
       "    </tr>\n",
       "    <tr>\n",
       "      <th>103527</th>\n",
       "      <td>822145925426128</td>\n",
       "      <td>5761393</td>\n",
       "      <td>0</td>\n",
       "      <td>2016-06-01 17:42:30</td>\n",
       "      <td>2016-06-01</td>\n",
       "      <td>38</td>\n",
       "      <td>REDENÇÃO</td>\n",
       "      <td>0</td>\n",
       "      <td>0</td>\n",
       "      <td>0</td>\n",
       "      <td>...</td>\n",
       "      <td>6</td>\n",
       "      <td>13</td>\n",
       "      <td>4</td>\n",
       "      <td>0.01</td>\n",
       "      <td>0</td>\n",
       "      <td>1</td>\n",
       "      <td>0</td>\n",
       "      <td>0</td>\n",
       "      <td>2</td>\n",
       "      <td>0</td>\n",
       "    </tr>\n",
       "    <tr>\n",
       "      <th>98823</th>\n",
       "      <td>822145925426128</td>\n",
       "      <td>5764370</td>\n",
       "      <td>0</td>\n",
       "      <td>2016-06-02 10:10:28</td>\n",
       "      <td>2016-06-02</td>\n",
       "      <td>38</td>\n",
       "      <td>REDENÇÃO</td>\n",
       "      <td>0</td>\n",
       "      <td>0</td>\n",
       "      <td>0</td>\n",
       "      <td>...</td>\n",
       "      <td>6</td>\n",
       "      <td>10</td>\n",
       "      <td>5</td>\n",
       "      <td>0.00</td>\n",
       "      <td>0</td>\n",
       "      <td>0</td>\n",
       "      <td>0</td>\n",
       "      <td>0</td>\n",
       "      <td>3</td>\n",
       "      <td>0</td>\n",
       "    </tr>\n",
       "    <tr>\n",
       "      <th>109023</th>\n",
       "      <td>822145925426128</td>\n",
       "      <td>5769302</td>\n",
       "      <td>0</td>\n",
       "      <td>2016-06-03 08:41:57</td>\n",
       "      <td>2016-06-03</td>\n",
       "      <td>38</td>\n",
       "      <td>REDENÇÃO</td>\n",
       "      <td>0</td>\n",
       "      <td>0</td>\n",
       "      <td>0</td>\n",
       "      <td>...</td>\n",
       "      <td>6</td>\n",
       "      <td>13</td>\n",
       "      <td>6</td>\n",
       "      <td>0.00</td>\n",
       "      <td>0</td>\n",
       "      <td>0</td>\n",
       "      <td>0</td>\n",
       "      <td>0</td>\n",
       "      <td>4</td>\n",
       "      <td>0</td>\n",
       "    </tr>\n",
       "    <tr>\n",
       "      <th>98815</th>\n",
       "      <td>822145925426128</td>\n",
       "      <td>5770256</td>\n",
       "      <td>0</td>\n",
       "      <td>2016-06-03 09:58:43</td>\n",
       "      <td>2016-06-03</td>\n",
       "      <td>38</td>\n",
       "      <td>REDENÇÃO</td>\n",
       "      <td>0</td>\n",
       "      <td>0</td>\n",
       "      <td>0</td>\n",
       "      <td>...</td>\n",
       "      <td>6</td>\n",
       "      <td>13</td>\n",
       "      <td>6</td>\n",
       "      <td>0.00</td>\n",
       "      <td>0</td>\n",
       "      <td>0</td>\n",
       "      <td>0</td>\n",
       "      <td>0</td>\n",
       "      <td>4</td>\n",
       "      <td>0</td>\n",
       "    </tr>\n",
       "    <tr>\n",
       "      <th>109052</th>\n",
       "      <td>822145925426128</td>\n",
       "      <td>5771222</td>\n",
       "      <td>0</td>\n",
       "      <td>2016-06-03 11:56:59</td>\n",
       "      <td>2016-06-03</td>\n",
       "      <td>38</td>\n",
       "      <td>REDENÇÃO</td>\n",
       "      <td>0</td>\n",
       "      <td>0</td>\n",
       "      <td>0</td>\n",
       "      <td>...</td>\n",
       "      <td>6</td>\n",
       "      <td>13</td>\n",
       "      <td>6</td>\n",
       "      <td>0.00</td>\n",
       "      <td>0</td>\n",
       "      <td>0</td>\n",
       "      <td>0</td>\n",
       "      <td>0</td>\n",
       "      <td>4</td>\n",
       "      <td>0</td>\n",
       "    </tr>\n",
       "    <tr>\n",
       "      <th>103512</th>\n",
       "      <td>822145925426128</td>\n",
       "      <td>5772774</td>\n",
       "      <td>0</td>\n",
       "      <td>2016-06-03 16:15:05</td>\n",
       "      <td>2016-06-03</td>\n",
       "      <td>38</td>\n",
       "      <td>REDENÇÃO</td>\n",
       "      <td>0</td>\n",
       "      <td>0</td>\n",
       "      <td>0</td>\n",
       "      <td>...</td>\n",
       "      <td>6</td>\n",
       "      <td>13</td>\n",
       "      <td>6</td>\n",
       "      <td>0.00</td>\n",
       "      <td>0</td>\n",
       "      <td>0</td>\n",
       "      <td>0</td>\n",
       "      <td>0</td>\n",
       "      <td>4</td>\n",
       "      <td>0</td>\n",
       "    </tr>\n",
       "    <tr>\n",
       "      <th>107115</th>\n",
       "      <td>822145925426128</td>\n",
       "      <td>5774798</td>\n",
       "      <td>0</td>\n",
       "      <td>2016-06-06 08:41:51</td>\n",
       "      <td>2016-06-06</td>\n",
       "      <td>38</td>\n",
       "      <td>REDENÇÃO</td>\n",
       "      <td>0</td>\n",
       "      <td>0</td>\n",
       "      <td>0</td>\n",
       "      <td>...</td>\n",
       "      <td>4</td>\n",
       "      <td>20</td>\n",
       "      <td>8</td>\n",
       "      <td>0.00</td>\n",
       "      <td>0</td>\n",
       "      <td>0</td>\n",
       "      <td>0</td>\n",
       "      <td>0</td>\n",
       "      <td>0</td>\n",
       "      <td>0</td>\n",
       "    </tr>\n",
       "    <tr>\n",
       "      <th>109069</th>\n",
       "      <td>822145925426128</td>\n",
       "      <td>5776942</td>\n",
       "      <td>0</td>\n",
       "      <td>2016-06-06 12:26:39</td>\n",
       "      <td>2016-06-06</td>\n",
       "      <td>38</td>\n",
       "      <td>REDENÇÃO</td>\n",
       "      <td>0</td>\n",
       "      <td>0</td>\n",
       "      <td>0</td>\n",
       "      <td>...</td>\n",
       "      <td>4</td>\n",
       "      <td>20</td>\n",
       "      <td>8</td>\n",
       "      <td>0.00</td>\n",
       "      <td>0</td>\n",
       "      <td>0</td>\n",
       "      <td>0</td>\n",
       "      <td>0</td>\n",
       "      <td>0</td>\n",
       "      <td>0</td>\n",
       "    </tr>\n",
       "    <tr>\n",
       "      <th>98847</th>\n",
       "      <td>822145925426128</td>\n",
       "      <td>5777041</td>\n",
       "      <td>0</td>\n",
       "      <td>2016-06-06 12:49:24</td>\n",
       "      <td>2016-06-06</td>\n",
       "      <td>38</td>\n",
       "      <td>REDENÇÃO</td>\n",
       "      <td>0</td>\n",
       "      <td>0</td>\n",
       "      <td>0</td>\n",
       "      <td>...</td>\n",
       "      <td>4</td>\n",
       "      <td>20</td>\n",
       "      <td>8</td>\n",
       "      <td>0.00</td>\n",
       "      <td>0</td>\n",
       "      <td>0</td>\n",
       "      <td>0</td>\n",
       "      <td>0</td>\n",
       "      <td>0</td>\n",
       "      <td>0</td>\n",
       "    </tr>\n",
       "    <tr>\n",
       "      <th>100367</th>\n",
       "      <td>822145925426128</td>\n",
       "      <td>5778961</td>\n",
       "      <td>0</td>\n",
       "      <td>2016-06-06 17:13:24</td>\n",
       "      <td>2016-06-06</td>\n",
       "      <td>38</td>\n",
       "      <td>REDENÇÃO</td>\n",
       "      <td>0</td>\n",
       "      <td>0</td>\n",
       "      <td>0</td>\n",
       "      <td>...</td>\n",
       "      <td>4</td>\n",
       "      <td>20</td>\n",
       "      <td>8</td>\n",
       "      <td>0.00</td>\n",
       "      <td>0</td>\n",
       "      <td>0</td>\n",
       "      <td>0</td>\n",
       "      <td>0</td>\n",
       "      <td>0</td>\n",
       "      <td>0</td>\n",
       "    </tr>\n",
       "    <tr>\n",
       "      <th>108843</th>\n",
       "      <td>822145925426128</td>\n",
       "      <td>5786560</td>\n",
       "      <td>0</td>\n",
       "      <td>2016-06-08 08:35:00</td>\n",
       "      <td>2016-06-08</td>\n",
       "      <td>38</td>\n",
       "      <td>REDENÇÃO</td>\n",
       "      <td>0</td>\n",
       "      <td>0</td>\n",
       "      <td>0</td>\n",
       "      <td>...</td>\n",
       "      <td>6</td>\n",
       "      <td>16</td>\n",
       "      <td>9</td>\n",
       "      <td>0.04</td>\n",
       "      <td>1</td>\n",
       "      <td>0</td>\n",
       "      <td>0</td>\n",
       "      <td>0</td>\n",
       "      <td>2</td>\n",
       "      <td>0</td>\n",
       "    </tr>\n",
       "    <tr>\n",
       "      <th>108821</th>\n",
       "      <td>822145925426128</td>\n",
       "      <td>5788247</td>\n",
       "      <td>0</td>\n",
       "      <td>2016-06-08 11:40:27</td>\n",
       "      <td>2016-06-08</td>\n",
       "      <td>38</td>\n",
       "      <td>REDENÇÃO</td>\n",
       "      <td>0</td>\n",
       "      <td>0</td>\n",
       "      <td>0</td>\n",
       "      <td>...</td>\n",
       "      <td>6</td>\n",
       "      <td>16</td>\n",
       "      <td>9</td>\n",
       "      <td>0.04</td>\n",
       "      <td>1</td>\n",
       "      <td>0</td>\n",
       "      <td>0</td>\n",
       "      <td>0</td>\n",
       "      <td>2</td>\n",
       "      <td>0</td>\n",
       "    </tr>\n",
       "    <tr>\n",
       "      <th>108805</th>\n",
       "      <td>822145925426128</td>\n",
       "      <td>5788304</td>\n",
       "      <td>0</td>\n",
       "      <td>2016-06-08 11:46:49</td>\n",
       "      <td>2016-06-08</td>\n",
       "      <td>38</td>\n",
       "      <td>REDENÇÃO</td>\n",
       "      <td>0</td>\n",
       "      <td>0</td>\n",
       "      <td>0</td>\n",
       "      <td>...</td>\n",
       "      <td>6</td>\n",
       "      <td>16</td>\n",
       "      <td>9</td>\n",
       "      <td>0.04</td>\n",
       "      <td>1</td>\n",
       "      <td>0</td>\n",
       "      <td>0</td>\n",
       "      <td>0</td>\n",
       "      <td>2</td>\n",
       "      <td>0</td>\n",
       "    </tr>\n",
       "    <tr>\n",
       "      <th>98832</th>\n",
       "      <td>822145925426128</td>\n",
       "      <td>5789400</td>\n",
       "      <td>0</td>\n",
       "      <td>2016-06-08 14:56:42</td>\n",
       "      <td>2016-06-08</td>\n",
       "      <td>38</td>\n",
       "      <td>REDENÇÃO</td>\n",
       "      <td>0</td>\n",
       "      <td>0</td>\n",
       "      <td>0</td>\n",
       "      <td>...</td>\n",
       "      <td>6</td>\n",
       "      <td>16</td>\n",
       "      <td>9</td>\n",
       "      <td>0.04</td>\n",
       "      <td>1</td>\n",
       "      <td>0</td>\n",
       "      <td>0</td>\n",
       "      <td>0</td>\n",
       "      <td>2</td>\n",
       "      <td>0</td>\n",
       "    </tr>\n",
       "    <tr>\n",
       "      <th>109102</th>\n",
       "      <td>822145925426128</td>\n",
       "      <td>5790220</td>\n",
       "      <td>0</td>\n",
       "      <td>2016-06-08 17:18:03</td>\n",
       "      <td>2016-06-08</td>\n",
       "      <td>38</td>\n",
       "      <td>REDENÇÃO</td>\n",
       "      <td>0</td>\n",
       "      <td>0</td>\n",
       "      <td>0</td>\n",
       "      <td>...</td>\n",
       "      <td>6</td>\n",
       "      <td>16</td>\n",
       "      <td>9</td>\n",
       "      <td>0.04</td>\n",
       "      <td>1</td>\n",
       "      <td>0</td>\n",
       "      <td>0</td>\n",
       "      <td>0</td>\n",
       "      <td>2</td>\n",
       "      <td>0</td>\n",
       "    </tr>\n",
       "  </tbody>\n",
       "</table>\n",
       "<p>88 rows × 34 columns</p>\n",
       "</div>"
      ],
      "text/plain": [
       "              PatientID AppointmentID  Gender        ScheduledDay  \\\n",
       "3006    822145925426128       5638995       0 2016-04-29 08:38:44   \n",
       "3093    822145925426128       5640809       0 2016-04-29 11:27:34   \n",
       "3060    822145925426128       5642878       0 2016-04-29 18:02:42   \n",
       "8707    822145925426128       5645183       0 2016-05-02 09:34:46   \n",
       "25428   822145925426128       5649058       0 2016-05-02 17:38:17   \n",
       "35675   822145925426128       5649163       0 2016-05-02 17:57:36   \n",
       "7685    822145925426128       5655382       0 2016-05-03 16:57:59   \n",
       "8831    822145925426128       5657205       0 2016-05-04 09:03:31   \n",
       "8450    822145925426128       5658723       0 2016-05-04 11:38:34   \n",
       "8465    822145925426128       5658733       0 2016-05-04 11:40:14   \n",
       "25412   822145925426128       5660677       0 2016-05-04 17:22:49   \n",
       "25421   822145925426128       5660730       0 2016-05-04 18:08:30   \n",
       "8657    822145925426128       5662479       0 2016-05-05 08:36:48   \n",
       "8869    822145925426128       5667980       0 2016-05-06 08:20:55   \n",
       "6985    822145925426128       5668887       0 2016-05-06 09:54:32   \n",
       "35723   822145925426128       5671341       0 2016-05-06 16:29:48   \n",
       "9290    822145925426128       5671588       0 2016-05-06 19:56:38   \n",
       "8691    822145925426128       5673265       0 2016-05-09 09:05:43   \n",
       "35665   822145925426128       5674659       0 2016-05-09 11:35:55   \n",
       "25475   822145925426128       5677170       0 2016-05-09 18:21:50   \n",
       "8761    822145925426128       5680582       0 2016-05-10 12:14:38   \n",
       "7198    822145925426128       5682166       0 2016-05-10 15:56:47   \n",
       "8644    822145925426128       5682208       0 2016-05-10 16:01:45   \n",
       "8451    822145925426128       5686100       0 2016-05-11 12:02:05   \n",
       "8467    822145925426128       5686138       0 2016-05-11 12:09:33   \n",
       "8650    822145925426128       5689576       0 2016-05-12 08:43:08   \n",
       "7290    822145925426128       5691237       0 2016-05-12 11:45:57   \n",
       "7726    822145925426128       5693050       0 2016-05-12 17:19:53   \n",
       "8850    822145925426128       5694863       0 2016-05-13 09:04:50   \n",
       "31572   822145925426128       5695919       0 2016-05-13 11:15:37   \n",
       "...                 ...           ...     ...                 ...   \n",
       "8502    822145925426128       5738935       0 2016-05-25 11:59:35   \n",
       "25425   822145925426128       5740674       0 2016-05-25 15:50:51   \n",
       "7437    822145925426128       5740965       0 2016-05-25 16:46:22   \n",
       "8666    822145925426128       5744367       0 2016-05-30 10:09:25   \n",
       "7587    822145925426128       5745336       0 2016-05-30 11:44:03   \n",
       "40518   822145925426128       5747258       0 2016-05-30 15:22:15   \n",
       "25427   822145925426128       5748219       0 2016-05-30 17:45:46   \n",
       "8798    822145925426128       5752932       0 2016-05-31 13:09:21   \n",
       "40523   822145925426128       5753275       0 2016-05-31 13:46:22   \n",
       "8631    822145925426128       5754261       0 2016-05-31 15:50:12   \n",
       "109230  822145925426128       5756865       0 2016-06-01 08:44:35   \n",
       "108797  822145925426128       5759314       0 2016-06-01 12:22:00   \n",
       "108817  822145925426128       5759318       0 2016-06-01 12:22:31   \n",
       "98838   822145925426128       5760271       0 2016-06-01 14:33:56   \n",
       "109113  822145925426128       5761322       0 2016-06-01 17:17:07   \n",
       "103527  822145925426128       5761393       0 2016-06-01 17:42:30   \n",
       "98823   822145925426128       5764370       0 2016-06-02 10:10:28   \n",
       "109023  822145925426128       5769302       0 2016-06-03 08:41:57   \n",
       "98815   822145925426128       5770256       0 2016-06-03 09:58:43   \n",
       "109052  822145925426128       5771222       0 2016-06-03 11:56:59   \n",
       "103512  822145925426128       5772774       0 2016-06-03 16:15:05   \n",
       "107115  822145925426128       5774798       0 2016-06-06 08:41:51   \n",
       "109069  822145925426128       5776942       0 2016-06-06 12:26:39   \n",
       "98847   822145925426128       5777041       0 2016-06-06 12:49:24   \n",
       "100367  822145925426128       5778961       0 2016-06-06 17:13:24   \n",
       "108843  822145925426128       5786560       0 2016-06-08 08:35:00   \n",
       "108821  822145925426128       5788247       0 2016-06-08 11:40:27   \n",
       "108805  822145925426128       5788304       0 2016-06-08 11:46:49   \n",
       "98832   822145925426128       5789400       0 2016-06-08 14:56:42   \n",
       "109102  822145925426128       5790220       0 2016-06-08 17:18:03   \n",
       "\n",
       "       AppointmentDay  Age Neighborhood  BolsaFamilia  Hypertension  Diabetes  \\\n",
       "3006       2016-04-29   38     REDENÇÃO             0             0         0   \n",
       "3093       2016-04-29   38     REDENÇÃO             0             0         0   \n",
       "3060       2016-04-29   38     REDENÇÃO             0             0         0   \n",
       "8707       2016-05-02   38     REDENÇÃO             0             0         0   \n",
       "25428      2016-05-02   38     REDENÇÃO             0             0         0   \n",
       "35675      2016-05-02   38     REDENÇÃO             0             0         0   \n",
       "7685       2016-05-03   38     REDENÇÃO             0             0         0   \n",
       "8831       2016-05-04   38     REDENÇÃO             0             0         0   \n",
       "8450       2016-05-04   38     REDENÇÃO             0             0         0   \n",
       "8465       2016-05-04   38     REDENÇÃO             0             0         0   \n",
       "25412      2016-05-04   38     REDENÇÃO             0             0         0   \n",
       "25421      2016-05-04   38     REDENÇÃO             0             0         0   \n",
       "8657       2016-05-05   38     REDENÇÃO             0             0         0   \n",
       "8869       2016-05-06   38     REDENÇÃO             0             0         0   \n",
       "6985       2016-05-06   38     REDENÇÃO             0             0         0   \n",
       "35723      2016-05-06   38     REDENÇÃO             0             0         0   \n",
       "9290       2016-05-10   38     REDENÇÃO             0             0         0   \n",
       "8691       2016-05-09   38     REDENÇÃO             0             0         0   \n",
       "35665      2016-05-09   38     REDENÇÃO             0             0         0   \n",
       "25475      2016-05-09   38     REDENÇÃO             0             0         0   \n",
       "8761       2016-05-10   38     REDENÇÃO             0             0         0   \n",
       "7198       2016-05-13   38     REDENÇÃO             0             0         0   \n",
       "8644       2016-05-10   38     REDENÇÃO             0             0         0   \n",
       "8451       2016-05-11   38     REDENÇÃO             0             0         0   \n",
       "8467       2016-05-11   38     REDENÇÃO             0             0         0   \n",
       "8650       2016-05-12   38     REDENÇÃO             0             0         0   \n",
       "7290       2016-05-12   38     REDENÇÃO             0             0         0   \n",
       "7726       2016-05-12   38     REDENÇÃO             0             0         0   \n",
       "8850       2016-05-13   38     REDENÇÃO             0             0         0   \n",
       "31572      2016-05-13   38     REDENÇÃO             0             0         0   \n",
       "...               ...  ...          ...           ...           ...       ...   \n",
       "8502       2016-05-25   38     REDENÇÃO             0             0         0   \n",
       "25425      2016-05-25   38     REDENÇÃO             0             0         0   \n",
       "7437       2016-05-25   38     REDENÇÃO             0             0         0   \n",
       "8666       2016-05-30   38     REDENÇÃO             0             0         0   \n",
       "7587       2016-05-30   38     REDENÇÃO             0             0         0   \n",
       "40518      2016-05-30   38     REDENÇÃO             0             0         0   \n",
       "25427      2016-05-30   38     REDENÇÃO             0             0         0   \n",
       "8798       2016-05-31   38     REDENÇÃO             0             0         0   \n",
       "40523      2016-05-31   38     REDENÇÃO             0             0         0   \n",
       "8631       2016-05-31   38     REDENÇÃO             0             0         0   \n",
       "109230     2016-06-01   38     REDENÇÃO             0             0         0   \n",
       "108797     2016-06-01   38     REDENÇÃO             0             0         0   \n",
       "108817     2016-06-01   38     REDENÇÃO             0             0         0   \n",
       "98838      2016-06-01   38     REDENÇÃO             0             0         0   \n",
       "109113     2016-06-01   38     REDENÇÃO             0             0         0   \n",
       "103527     2016-06-01   38     REDENÇÃO             0             0         0   \n",
       "98823      2016-06-02   38     REDENÇÃO             0             0         0   \n",
       "109023     2016-06-03   38     REDENÇÃO             0             0         0   \n",
       "98815      2016-06-03   38     REDENÇÃO             0             0         0   \n",
       "109052     2016-06-03   38     REDENÇÃO             0             0         0   \n",
       "103512     2016-06-03   38     REDENÇÃO             0             0         0   \n",
       "107115     2016-06-06   38     REDENÇÃO             0             0         0   \n",
       "109069     2016-06-06   38     REDENÇÃO             0             0         0   \n",
       "98847      2016-06-06   38     REDENÇÃO             0             0         0   \n",
       "100367     2016-06-06   38     REDENÇÃO             0             0         0   \n",
       "108843     2016-06-08   38     REDENÇÃO             0             0         0   \n",
       "108821     2016-06-08   38     REDENÇÃO             0             0         0   \n",
       "108805     2016-06-08   38     REDENÇÃO             0             0         0   \n",
       "98832      2016-06-08   38     REDENÇÃO             0             0         0   \n",
       "109102     2016-06-08   38     REDENÇÃO             0             0         0   \n",
       "\n",
       "         ...     visibility_low  wind_high  wind_avg  precip_in rain  \\\n",
       "3006     ...                  6         16        11       0.01    0   \n",
       "3093     ...                  6         16        11       0.01    0   \n",
       "3060     ...                  6         16        11       0.01    0   \n",
       "8707     ...                  6         17        11       0.00    0   \n",
       "25428    ...                  6         17        11       0.00    0   \n",
       "35675    ...                  6         17        11       0.00    0   \n",
       "7685     ...                  6         17         5       0.00    0   \n",
       "8831     ...                  6         15         5       0.00    0   \n",
       "8450     ...                  6         15         5       0.00    0   \n",
       "8465     ...                  6         15         5       0.00    0   \n",
       "25412    ...                  6         15         5       0.00    0   \n",
       "25421    ...                  6         15         5       0.00    0   \n",
       "8657     ...                  6         17         7       0.00    0   \n",
       "8869     ...                  6         14         5       0.00    0   \n",
       "6985     ...                  6         14         5       0.00    0   \n",
       "35723    ...                  6         14         5       0.00    0   \n",
       "9290     ...                  6         23         9       0.00    0   \n",
       "8691     ...                  6         14         6       0.00    0   \n",
       "35665    ...                  6         14         6       0.00    0   \n",
       "25475    ...                  6         14         6       0.00    0   \n",
       "8761     ...                  6         23         9       0.00    0   \n",
       "7198     ...                  6         17        10       0.00    0   \n",
       "8644     ...                  6         23         9       0.00    0   \n",
       "8451     ...                  5         16         9       0.00    0   \n",
       "8467     ...                  5         16         9       0.00    0   \n",
       "8650     ...                  2         20         6       0.47    1   \n",
       "7290     ...                  2         20         6       0.47    1   \n",
       "7726     ...                  2         20         6       0.47    1   \n",
       "8850     ...                  6         17        10       0.00    0   \n",
       "31572    ...                  6         17        10       0.00    0   \n",
       "...      ...                ...        ...       ...        ...  ...   \n",
       "8502     ...                  6         16        12       0.00    0   \n",
       "25425    ...                  6         16        12       0.00    0   \n",
       "7437     ...                  6         16        12       0.00    0   \n",
       "8666     ...                  6         16         5       0.00    0   \n",
       "7587     ...                  6         16         5       0.00    0   \n",
       "40518    ...                  6         16         5       0.00    0   \n",
       "25427    ...                  6         16         5       0.00    0   \n",
       "8798     ...                  2         15         5       0.00    0   \n",
       "40523    ...                  2         15         5       0.00    0   \n",
       "8631     ...                  2         15         5       0.00    0   \n",
       "109230   ...                  6         13         4       0.01    0   \n",
       "108797   ...                  6         13         4       0.01    0   \n",
       "108817   ...                  6         13         4       0.01    0   \n",
       "98838    ...                  6         13         4       0.01    0   \n",
       "109113   ...                  6         13         4       0.01    0   \n",
       "103527   ...                  6         13         4       0.01    0   \n",
       "98823    ...                  6         10         5       0.00    0   \n",
       "109023   ...                  6         13         6       0.00    0   \n",
       "98815    ...                  6         13         6       0.00    0   \n",
       "109052   ...                  6         13         6       0.00    0   \n",
       "103512   ...                  6         13         6       0.00    0   \n",
       "107115   ...                  4         20         8       0.00    0   \n",
       "109069   ...                  4         20         8       0.00    0   \n",
       "98847    ...                  4         20         8       0.00    0   \n",
       "100367   ...                  4         20         8       0.00    0   \n",
       "108843   ...                  6         16         9       0.04    1   \n",
       "108821   ...                  6         16         9       0.04    1   \n",
       "108805   ...                  6         16         9       0.04    1   \n",
       "98832    ...                  6         16         9       0.04    1   \n",
       "109102   ...                  6         16         9       0.04    1   \n",
       "\n",
       "       thunderstorm fog  DayDiff  Day_of_Week  Weekend  \n",
       "3006              0   0        0            4        0  \n",
       "3093              0   0        0            4        0  \n",
       "3060              0   0        0            4        0  \n",
       "8707              0   0        0            0        0  \n",
       "25428             0   0        0            0        0  \n",
       "35675             0   0        0            0        0  \n",
       "7685              0   0        0            1        0  \n",
       "8831              0   0        0            2        0  \n",
       "8450              0   0        0            2        0  \n",
       "8465              0   0        0            2        0  \n",
       "25412             0   0        0            2        0  \n",
       "25421             0   0        0            2        0  \n",
       "8657              0   0        0            3        0  \n",
       "8869              0   0        0            4        0  \n",
       "6985              0   0        0            4        0  \n",
       "35723             0   0        0            4        0  \n",
       "9290              0   0        4            1        0  \n",
       "8691              0   0        0            0        0  \n",
       "35665             0   0        0            0        0  \n",
       "25475             0   0        0            0        0  \n",
       "8761              0   0        0            1        0  \n",
       "7198              0   0        3            4        0  \n",
       "8644              0   0        0            1        0  \n",
       "8451              0   0        0            2        0  \n",
       "8467              0   0        0            2        0  \n",
       "8650              1   0        0            3        0  \n",
       "7290              1   0        0            3        0  \n",
       "7726              1   0        0            3        0  \n",
       "8850              0   0        0            4        0  \n",
       "31572             0   0        0            4        0  \n",
       "...             ...  ..      ...          ...      ...  \n",
       "8502              0   0        0            2        0  \n",
       "25425             0   0        0            2        0  \n",
       "7437              0   0        0            2        0  \n",
       "8666              0   0        0            0        0  \n",
       "7587              0   0        0            0        0  \n",
       "40518             0   0        0            0        0  \n",
       "25427             0   0        0            0        0  \n",
       "8798              0   1        0            1        0  \n",
       "40523             0   1        0            1        0  \n",
       "8631              0   1        0            1        0  \n",
       "109230            1   0        0            2        0  \n",
       "108797            1   0        0            2        0  \n",
       "108817            1   0        0            2        0  \n",
       "98838             1   0        0            2        0  \n",
       "109113            1   0        0            2        0  \n",
       "103527            1   0        0            2        0  \n",
       "98823             0   0        0            3        0  \n",
       "109023            0   0        0            4        0  \n",
       "98815             0   0        0            4        0  \n",
       "109052            0   0        0            4        0  \n",
       "103512            0   0        0            4        0  \n",
       "107115            0   0        0            0        0  \n",
       "109069            0   0        0            0        0  \n",
       "98847             0   0        0            0        0  \n",
       "100367            0   0        0            0        0  \n",
       "108843            0   0        0            2        0  \n",
       "108821            0   0        0            2        0  \n",
       "108805            0   0        0            2        0  \n",
       "98832             0   0        0            2        0  \n",
       "109102            0   0        0            2        0  \n",
       "\n",
       "[88 rows x 34 columns]"
      ]
     },
     "execution_count": 65,
     "metadata": {},
     "output_type": "execute_result"
    }
   ],
   "source": [
    "# Inspect the patient with 88 appointments\n",
    "most_appts = ow[ow['PatientID'] == '822145925426128'].sort_values(by = 'ScheduledDay')\n",
    "most_appts"
   ]
  },
  {
   "cell_type": "code",
   "execution_count": 66,
   "metadata": {},
   "outputs": [
    {
     "data": {
      "text/plain": [
       "1"
      ]
     },
     "execution_count": 66,
     "metadata": {},
     "output_type": "execute_result"
    }
   ],
   "source": [
    "most_appts['NoShow'].sum()"
   ]
  },
  {
   "cell_type": "markdown",
   "metadata": {},
   "source": [
    "> From analyzing this and other patients' appointments, I found that many appointments were made for a certain day, and then later another appointment was made for that same day.  We can see above that the patient made an appointment for April 29, three different times.  For the patient above, they made the appointments within farily quick succession of each other.  However other patients, as shown below, seemed to make appointments in advance and then as the appointment got closer rescheduled it."
   ]
  },
  {
   "cell_type": "code",
   "execution_count": 67,
   "metadata": {},
   "outputs": [
    {
     "data": {
      "text/html": [
       "<div>\n",
       "<style scoped>\n",
       "    .dataframe tbody tr th:only-of-type {\n",
       "        vertical-align: middle;\n",
       "    }\n",
       "\n",
       "    .dataframe tbody tr th {\n",
       "        vertical-align: top;\n",
       "    }\n",
       "\n",
       "    .dataframe thead th {\n",
       "        text-align: right;\n",
       "    }\n",
       "</style>\n",
       "<table border=\"1\" class=\"dataframe\">\n",
       "  <thead>\n",
       "    <tr style=\"text-align: right;\">\n",
       "      <th></th>\n",
       "      <th>PatientID</th>\n",
       "      <th>AppointmentID</th>\n",
       "      <th>Gender</th>\n",
       "      <th>ScheduledDay</th>\n",
       "      <th>AppointmentDay</th>\n",
       "      <th>Age</th>\n",
       "      <th>Neighborhood</th>\n",
       "      <th>BolsaFamilia</th>\n",
       "      <th>Hypertension</th>\n",
       "      <th>Diabetes</th>\n",
       "      <th>...</th>\n",
       "      <th>visibility_low</th>\n",
       "      <th>wind_high</th>\n",
       "      <th>wind_avg</th>\n",
       "      <th>precip_in</th>\n",
       "      <th>rain</th>\n",
       "      <th>thunderstorm</th>\n",
       "      <th>fog</th>\n",
       "      <th>DayDiff</th>\n",
       "      <th>Day_of_Week</th>\n",
       "      <th>Weekend</th>\n",
       "    </tr>\n",
       "  </thead>\n",
       "  <tbody>\n",
       "    <tr>\n",
       "      <th>51445</th>\n",
       "      <td>99992299798515</td>\n",
       "      <td>5599070</td>\n",
       "      <td>1</td>\n",
       "      <td>2016-04-19 08:25:12</td>\n",
       "      <td>2016-05-02</td>\n",
       "      <td>35</td>\n",
       "      <td>PIEDADE</td>\n",
       "      <td>1</td>\n",
       "      <td>1</td>\n",
       "      <td>0</td>\n",
       "      <td>...</td>\n",
       "      <td>6</td>\n",
       "      <td>17</td>\n",
       "      <td>11</td>\n",
       "      <td>0.0</td>\n",
       "      <td>0</td>\n",
       "      <td>0</td>\n",
       "      <td>0</td>\n",
       "      <td>13</td>\n",
       "      <td>0</td>\n",
       "      <td>0</td>\n",
       "    </tr>\n",
       "    <tr>\n",
       "      <th>50445</th>\n",
       "      <td>99992299798515</td>\n",
       "      <td>5648376</td>\n",
       "      <td>1</td>\n",
       "      <td>2016-05-02 15:33:59</td>\n",
       "      <td>2016-05-02</td>\n",
       "      <td>35</td>\n",
       "      <td>PIEDADE</td>\n",
       "      <td>1</td>\n",
       "      <td>1</td>\n",
       "      <td>0</td>\n",
       "      <td>...</td>\n",
       "      <td>6</td>\n",
       "      <td>17</td>\n",
       "      <td>11</td>\n",
       "      <td>0.0</td>\n",
       "      <td>0</td>\n",
       "      <td>0</td>\n",
       "      <td>0</td>\n",
       "      <td>0</td>\n",
       "      <td>0</td>\n",
       "      <td>0</td>\n",
       "    </tr>\n",
       "  </tbody>\n",
       "</table>\n",
       "<p>2 rows × 34 columns</p>\n",
       "</div>"
      ],
      "text/plain": [
       "            PatientID AppointmentID  Gender        ScheduledDay  \\\n",
       "51445  99992299798515       5599070       1 2016-04-19 08:25:12   \n",
       "50445  99992299798515       5648376       1 2016-05-02 15:33:59   \n",
       "\n",
       "      AppointmentDay  Age Neighborhood  BolsaFamilia  Hypertension  Diabetes  \\\n",
       "51445     2016-05-02   35      PIEDADE             1             1         0   \n",
       "50445     2016-05-02   35      PIEDADE             1             1         0   \n",
       "\n",
       "        ...     visibility_low  wind_high  wind_avg  precip_in rain  \\\n",
       "51445   ...                  6         17        11        0.0    0   \n",
       "50445   ...                  6         17        11        0.0    0   \n",
       "\n",
       "      thunderstorm fog  DayDiff  Day_of_Week  Weekend  \n",
       "51445            0   0       13            0        0  \n",
       "50445            0   0        0            0        0  \n",
       "\n",
       "[2 rows x 34 columns]"
      ]
     },
     "execution_count": 67,
     "metadata": {},
     "output_type": "execute_result"
    }
   ],
   "source": [
    "ow[ow['PatientID'] == '99992299798515'].sort_values(by = 'ScheduledDay')"
   ]
  },
  {
   "cell_type": "code",
   "execution_count": 68,
   "metadata": {},
   "outputs": [
    {
     "data": {
      "text/html": [
       "<div>\n",
       "<style scoped>\n",
       "    .dataframe tbody tr th:only-of-type {\n",
       "        vertical-align: middle;\n",
       "    }\n",
       "\n",
       "    .dataframe tbody tr th {\n",
       "        vertical-align: top;\n",
       "    }\n",
       "\n",
       "    .dataframe thead th {\n",
       "        text-align: right;\n",
       "    }\n",
       "</style>\n",
       "<table border=\"1\" class=\"dataframe\">\n",
       "  <thead>\n",
       "    <tr style=\"text-align: right;\">\n",
       "      <th></th>\n",
       "      <th>PatientID</th>\n",
       "      <th>AppointmentID</th>\n",
       "      <th>Gender</th>\n",
       "      <th>ScheduledDay</th>\n",
       "      <th>AppointmentDay</th>\n",
       "      <th>Age</th>\n",
       "      <th>Neighborhood</th>\n",
       "      <th>BolsaFamilia</th>\n",
       "      <th>Hypertension</th>\n",
       "      <th>Diabetes</th>\n",
       "      <th>Alcoholism</th>\n",
       "      <th>NumHandicaps</th>\n",
       "      <th>SMSReceived</th>\n",
       "      <th>NoShow</th>\n",
       "    </tr>\n",
       "  </thead>\n",
       "  <tbody>\n",
       "    <tr>\n",
       "      <th>105562</th>\n",
       "      <td>111415561531417</td>\n",
       "      <td>5657853</td>\n",
       "      <td>1</td>\n",
       "      <td>2016-05-04 10:02:43</td>\n",
       "      <td>2016-06-06</td>\n",
       "      <td>45</td>\n",
       "      <td>SANTA MARTHA</td>\n",
       "      <td>0</td>\n",
       "      <td>0</td>\n",
       "      <td>0</td>\n",
       "      <td>0</td>\n",
       "      <td>0</td>\n",
       "      <td>1</td>\n",
       "      <td>1</td>\n",
       "    </tr>\n",
       "    <tr>\n",
       "      <th>18225</th>\n",
       "      <td>111415561531417</td>\n",
       "      <td>5657892</td>\n",
       "      <td>1</td>\n",
       "      <td>2016-05-04 10:06:30</td>\n",
       "      <td>2016-05-13</td>\n",
       "      <td>45</td>\n",
       "      <td>SANTA MARTHA</td>\n",
       "      <td>0</td>\n",
       "      <td>0</td>\n",
       "      <td>0</td>\n",
       "      <td>0</td>\n",
       "      <td>0</td>\n",
       "      <td>0</td>\n",
       "      <td>0</td>\n",
       "    </tr>\n",
       "    <tr>\n",
       "      <th>103283</th>\n",
       "      <td>111415561531417</td>\n",
       "      <td>5721379</td>\n",
       "      <td>1</td>\n",
       "      <td>2016-05-19 16:13:52</td>\n",
       "      <td>2016-06-06</td>\n",
       "      <td>45</td>\n",
       "      <td>SANTA MARTHA</td>\n",
       "      <td>0</td>\n",
       "      <td>0</td>\n",
       "      <td>0</td>\n",
       "      <td>0</td>\n",
       "      <td>0</td>\n",
       "      <td>0</td>\n",
       "      <td>1</td>\n",
       "    </tr>\n",
       "    <tr>\n",
       "      <th>105716</th>\n",
       "      <td>111415561531417</td>\n",
       "      <td>5747599</td>\n",
       "      <td>1</td>\n",
       "      <td>2016-05-30 15:55:49</td>\n",
       "      <td>2016-06-03</td>\n",
       "      <td>45</td>\n",
       "      <td>SANTA MARTHA</td>\n",
       "      <td>0</td>\n",
       "      <td>0</td>\n",
       "      <td>0</td>\n",
       "      <td>0</td>\n",
       "      <td>0</td>\n",
       "      <td>1</td>\n",
       "      <td>0</td>\n",
       "    </tr>\n",
       "  </tbody>\n",
       "</table>\n",
       "</div>"
      ],
      "text/plain": [
       "              PatientID AppointmentID  Gender        ScheduledDay  \\\n",
       "105562  111415561531417       5657853       1 2016-05-04 10:02:43   \n",
       "18225   111415561531417       5657892       1 2016-05-04 10:06:30   \n",
       "103283  111415561531417       5721379       1 2016-05-19 16:13:52   \n",
       "105716  111415561531417       5747599       1 2016-05-30 15:55:49   \n",
       "\n",
       "       AppointmentDay  Age  Neighborhood  BolsaFamilia  Hypertension  \\\n",
       "105562     2016-06-06   45  SANTA MARTHA             0             0   \n",
       "18225      2016-05-13   45  SANTA MARTHA             0             0   \n",
       "103283     2016-06-06   45  SANTA MARTHA             0             0   \n",
       "105716     2016-06-03   45  SANTA MARTHA             0             0   \n",
       "\n",
       "        Diabetes  Alcoholism  NumHandicaps  SMSReceived  NoShow  \n",
       "105562         0           0             0            1       1  \n",
       "18225          0           0             0            0       0  \n",
       "103283         0           0             0            0       1  \n",
       "105716         0           0             0            1       0  "
      ]
     },
     "execution_count": 68,
     "metadata": {},
     "output_type": "execute_result"
    }
   ],
   "source": [
    "ow[ow['PatientID'] == '111415561531417'].sort_values(by = 'ScheduledDay').iloc[:, :14]"
   ]
  },
  {
   "cell_type": "markdown",
   "metadata": {},
   "source": [
    "In the case above, the patient made an appointment for June 6, and on the same day makes an appoitment for May 13.  Then 15 days later makes another appointment for/reschedules the June 6 appointment.  Finally they make another appointment for three days before their scheduled appointment.  I would guess that they rescheduled their appointment for an earlier day, so it may be illogical to term their non-attendance as a \"no show.\"  Unfortunately this is just a hypothesis, and since there is neither extra data, nor an explanation for the multiple appointments, this cannot be confirmed.  If more information later became available this aspect of the data could possibly be addressed.\n",
    "\n",
    "To address the issue of multiple appointments made for the same day, I made the decision to only keep the last appointment made on the same day as an already made appointment.  Although records were removed, this data was preserved in the extra fields of the number of times the appointment for that day was scheduled and the time difference between the first and last scheduling."
   ]
  },
  {
   "cell_type": "code",
   "execution_count": 69,
   "metadata": {
    "scrolled": true
   },
   "outputs": [
    {
     "data": {
      "text/html": [
       "<div>\n",
       "<style scoped>\n",
       "    .dataframe tbody tr th:only-of-type {\n",
       "        vertical-align: middle;\n",
       "    }\n",
       "\n",
       "    .dataframe tbody tr th {\n",
       "        vertical-align: top;\n",
       "    }\n",
       "\n",
       "    .dataframe thead th {\n",
       "        text-align: right;\n",
       "    }\n",
       "</style>\n",
       "<table border=\"1\" class=\"dataframe\">\n",
       "  <thead>\n",
       "    <tr style=\"text-align: right;\">\n",
       "      <th></th>\n",
       "      <th>PatientID</th>\n",
       "      <th>AppointmentID</th>\n",
       "      <th>Gender</th>\n",
       "      <th>ScheduledDay</th>\n",
       "      <th>AppointmentDay</th>\n",
       "      <th>Age</th>\n",
       "      <th>Neighborhood</th>\n",
       "      <th>BolsaFamilia</th>\n",
       "      <th>Hypertension</th>\n",
       "      <th>Diabetes</th>\n",
       "      <th>...</th>\n",
       "      <th>visibility_low</th>\n",
       "      <th>wind_high</th>\n",
       "      <th>wind_avg</th>\n",
       "      <th>precip_in</th>\n",
       "      <th>rain</th>\n",
       "      <th>thunderstorm</th>\n",
       "      <th>fog</th>\n",
       "      <th>DayDiff</th>\n",
       "      <th>Day_of_Week</th>\n",
       "      <th>Weekend</th>\n",
       "    </tr>\n",
       "  </thead>\n",
       "  <tbody>\n",
       "    <tr>\n",
       "      <th>1</th>\n",
       "      <td>11111462625267</td>\n",
       "      <td>5715720</td>\n",
       "      <td>1</td>\n",
       "      <td>2016-05-18 14:58:29</td>\n",
       "      <td>2016-06-08</td>\n",
       "      <td>65</td>\n",
       "      <td>REPÚBLICA</td>\n",
       "      <td>0</td>\n",
       "      <td>1</td>\n",
       "      <td>0</td>\n",
       "      <td>...</td>\n",
       "      <td>6</td>\n",
       "      <td>16</td>\n",
       "      <td>9</td>\n",
       "      <td>0.04</td>\n",
       "      <td>1</td>\n",
       "      <td>0</td>\n",
       "      <td>0</td>\n",
       "      <td>21</td>\n",
       "      <td>2</td>\n",
       "      <td>0</td>\n",
       "    </tr>\n",
       "    <tr>\n",
       "      <th>2</th>\n",
       "      <td>111124532532143</td>\n",
       "      <td>5531224</td>\n",
       "      <td>0</td>\n",
       "      <td>2016-03-31 09:17:26</td>\n",
       "      <td>2016-05-03</td>\n",
       "      <td>9</td>\n",
       "      <td>MARIA ORTIZ</td>\n",
       "      <td>0</td>\n",
       "      <td>0</td>\n",
       "      <td>0</td>\n",
       "      <td>...</td>\n",
       "      <td>6</td>\n",
       "      <td>17</td>\n",
       "      <td>5</td>\n",
       "      <td>0.00</td>\n",
       "      <td>0</td>\n",
       "      <td>0</td>\n",
       "      <td>0</td>\n",
       "      <td>33</td>\n",
       "      <td>1</td>\n",
       "      <td>0</td>\n",
       "    </tr>\n",
       "    <tr>\n",
       "      <th>3</th>\n",
       "      <td>111124532532143</td>\n",
       "      <td>5624030</td>\n",
       "      <td>0</td>\n",
       "      <td>2016-04-26 15:05:58</td>\n",
       "      <td>2016-06-01</td>\n",
       "      <td>9</td>\n",
       "      <td>MARIA ORTIZ</td>\n",
       "      <td>0</td>\n",
       "      <td>0</td>\n",
       "      <td>0</td>\n",
       "      <td>...</td>\n",
       "      <td>6</td>\n",
       "      <td>13</td>\n",
       "      <td>4</td>\n",
       "      <td>0.01</td>\n",
       "      <td>0</td>\n",
       "      <td>1</td>\n",
       "      <td>0</td>\n",
       "      <td>36</td>\n",
       "      <td>2</td>\n",
       "      <td>0</td>\n",
       "    </tr>\n",
       "    <tr>\n",
       "      <th>4</th>\n",
       "      <td>11114485119737</td>\n",
       "      <td>5621757</td>\n",
       "      <td>1</td>\n",
       "      <td>2016-04-26 10:46:38</td>\n",
       "      <td>2016-05-25</td>\n",
       "      <td>12</td>\n",
       "      <td>MARIA ORTIZ</td>\n",
       "      <td>0</td>\n",
       "      <td>0</td>\n",
       "      <td>0</td>\n",
       "      <td>...</td>\n",
       "      <td>6</td>\n",
       "      <td>16</td>\n",
       "      <td>12</td>\n",
       "      <td>0.00</td>\n",
       "      <td>0</td>\n",
       "      <td>0</td>\n",
       "      <td>0</td>\n",
       "      <td>29</td>\n",
       "      <td>2</td>\n",
       "      <td>0</td>\n",
       "    </tr>\n",
       "    <tr>\n",
       "      <th>5</th>\n",
       "      <td>11116239871275</td>\n",
       "      <td>5625265</td>\n",
       "      <td>1</td>\n",
       "      <td>2016-04-27 07:05:38</td>\n",
       "      <td>2016-04-29</td>\n",
       "      <td>13</td>\n",
       "      <td>SÃO PEDRO</td>\n",
       "      <td>0</td>\n",
       "      <td>0</td>\n",
       "      <td>0</td>\n",
       "      <td>...</td>\n",
       "      <td>6</td>\n",
       "      <td>16</td>\n",
       "      <td>11</td>\n",
       "      <td>0.01</td>\n",
       "      <td>0</td>\n",
       "      <td>0</td>\n",
       "      <td>0</td>\n",
       "      <td>2</td>\n",
       "      <td>4</td>\n",
       "      <td>0</td>\n",
       "    </tr>\n",
       "  </tbody>\n",
       "</table>\n",
       "<p>5 rows × 34 columns</p>\n",
       "</div>"
      ],
      "text/plain": [
       "         PatientID AppointmentID  Gender        ScheduledDay AppointmentDay  \\\n",
       "1   11111462625267       5715720       1 2016-05-18 14:58:29     2016-06-08   \n",
       "2  111124532532143       5531224       0 2016-03-31 09:17:26     2016-05-03   \n",
       "3  111124532532143       5624030       0 2016-04-26 15:05:58     2016-06-01   \n",
       "4   11114485119737       5621757       1 2016-04-26 10:46:38     2016-05-25   \n",
       "5   11116239871275       5625265       1 2016-04-27 07:05:38     2016-04-29   \n",
       "\n",
       "   Age Neighborhood  BolsaFamilia  Hypertension  Diabetes   ...     \\\n",
       "1   65    REPÚBLICA             0             1         0   ...      \n",
       "2    9  MARIA ORTIZ             0             0         0   ...      \n",
       "3    9  MARIA ORTIZ             0             0         0   ...      \n",
       "4   12  MARIA ORTIZ             0             0         0   ...      \n",
       "5   13    SÃO PEDRO             0             0         0   ...      \n",
       "\n",
       "   visibility_low  wind_high  wind_avg  precip_in rain thunderstorm fog  \\\n",
       "1               6         16         9       0.04    1            0   0   \n",
       "2               6         17         5       0.00    0            0   0   \n",
       "3               6         13         4       0.01    0            1   0   \n",
       "4               6         16        12       0.00    0            0   0   \n",
       "5               6         16        11       0.01    0            0   0   \n",
       "\n",
       "   DayDiff  Day_of_Week  Weekend  \n",
       "1       21            2        0  \n",
       "2       33            1        0  \n",
       "3       36            2        0  \n",
       "4       29            2        0  \n",
       "5        2            4        0  \n",
       "\n",
       "[5 rows x 34 columns]"
      ]
     },
     "execution_count": 69,
     "metadata": {},
     "output_type": "execute_result"
    }
   ],
   "source": [
    "# Sort the dataframe and update the index, so that the records are in\n",
    "# order of when they were made\n",
    "ow = ow.sort_values(by = ['PatientID', 'ScheduledDay', 'AppointmentDay'])\n",
    "ow.index = range(1,len(ow) + 1)\n",
    "ow.head()"
   ]
  },
  {
   "cell_type": "code",
   "execution_count": 70,
   "metadata": {},
   "outputs": [
    {
     "data": {
      "text/html": [
       "<div>\n",
       "<style scoped>\n",
       "    .dataframe tbody tr th:only-of-type {\n",
       "        vertical-align: middle;\n",
       "    }\n",
       "\n",
       "    .dataframe tbody tr th {\n",
       "        vertical-align: top;\n",
       "    }\n",
       "\n",
       "    .dataframe thead th {\n",
       "        text-align: right;\n",
       "    }\n",
       "</style>\n",
       "<table border=\"1\" class=\"dataframe\">\n",
       "  <thead>\n",
       "    <tr style=\"text-align: right;\">\n",
       "      <th></th>\n",
       "      <th>PatientID</th>\n",
       "      <th>AppointmentDay</th>\n",
       "      <th>AppointmentIDList</th>\n",
       "    </tr>\n",
       "  </thead>\n",
       "  <tbody>\n",
       "    <tr>\n",
       "      <th>0</th>\n",
       "      <td>11111462625267</td>\n",
       "      <td>2016-06-08</td>\n",
       "      <td>(5715720,)</td>\n",
       "    </tr>\n",
       "    <tr>\n",
       "      <th>1</th>\n",
       "      <td>111124532532143</td>\n",
       "      <td>2016-05-03</td>\n",
       "      <td>(5531224,)</td>\n",
       "    </tr>\n",
       "    <tr>\n",
       "      <th>2</th>\n",
       "      <td>111124532532143</td>\n",
       "      <td>2016-06-01</td>\n",
       "      <td>(5624030,)</td>\n",
       "    </tr>\n",
       "    <tr>\n",
       "      <th>3</th>\n",
       "      <td>11114485119737</td>\n",
       "      <td>2016-05-25</td>\n",
       "      <td>(5621757,)</td>\n",
       "    </tr>\n",
       "    <tr>\n",
       "      <th>4</th>\n",
       "      <td>11116239871275</td>\n",
       "      <td>2016-04-29</td>\n",
       "      <td>(5625265,)</td>\n",
       "    </tr>\n",
       "  </tbody>\n",
       "</table>\n",
       "</div>"
      ],
      "text/plain": [
       "         PatientID AppointmentDay AppointmentIDList\n",
       "0   11111462625267     2016-06-08        (5715720,)\n",
       "1  111124532532143     2016-05-03        (5531224,)\n",
       "2  111124532532143     2016-06-01        (5624030,)\n",
       "3   11114485119737     2016-05-25        (5621757,)\n",
       "4   11116239871275     2016-04-29        (5625265,)"
      ]
     },
     "execution_count": 70,
     "metadata": {},
     "output_type": "execute_result"
    }
   ],
   "source": [
    "# Aggregate data by PatientID and AppointmentDay, and assemble all the AppointmentIDs associated\n",
    "# with them into a tuple\n",
    "df_appt_id_list = ow.groupby(['PatientID', 'AppointmentDay'], as_index=False)['AppointmentID']. \\\n",
    "                apply(tuple).reset_index()\n",
    "df_appt_id_list.columns = ['PatientID', 'AppointmentDay', 'AppointmentIDList']\n",
    "df_appt_id_list.head()"
   ]
  },
  {
   "cell_type": "code",
   "execution_count": 71,
   "metadata": {},
   "outputs": [
    {
     "data": {
      "text/html": [
       "<div>\n",
       "<style scoped>\n",
       "    .dataframe tbody tr th:only-of-type {\n",
       "        vertical-align: middle;\n",
       "    }\n",
       "\n",
       "    .dataframe tbody tr th {\n",
       "        vertical-align: top;\n",
       "    }\n",
       "\n",
       "    .dataframe thead th {\n",
       "        text-align: right;\n",
       "    }\n",
       "</style>\n",
       "<table border=\"1\" class=\"dataframe\">\n",
       "  <thead>\n",
       "    <tr style=\"text-align: right;\">\n",
       "      <th></th>\n",
       "      <th>PatientID</th>\n",
       "      <th>AppointmentDay</th>\n",
       "      <th>AppointmentIDList</th>\n",
       "      <th>LastAppt</th>\n",
       "      <th>NumTimesScheduled</th>\n",
       "    </tr>\n",
       "  </thead>\n",
       "  <tbody>\n",
       "    <tr>\n",
       "      <th>25</th>\n",
       "      <td>11137679822</td>\n",
       "      <td>2016-06-07</td>\n",
       "      <td>(5782983,)</td>\n",
       "      <td>5782983</td>\n",
       "      <td>1</td>\n",
       "    </tr>\n",
       "    <tr>\n",
       "      <th>26</th>\n",
       "      <td>111415561531417</td>\n",
       "      <td>2016-05-13</td>\n",
       "      <td>(5657892,)</td>\n",
       "      <td>5657892</td>\n",
       "      <td>1</td>\n",
       "    </tr>\n",
       "    <tr>\n",
       "      <th>27</th>\n",
       "      <td>111415561531417</td>\n",
       "      <td>2016-06-03</td>\n",
       "      <td>(5747599,)</td>\n",
       "      <td>5747599</td>\n",
       "      <td>1</td>\n",
       "    </tr>\n",
       "    <tr>\n",
       "      <th>28</th>\n",
       "      <td>111415561531417</td>\n",
       "      <td>2016-06-06</td>\n",
       "      <td>(5657853, 5721379)</td>\n",
       "      <td>5721379</td>\n",
       "      <td>2</td>\n",
       "    </tr>\n",
       "    <tr>\n",
       "      <th>29</th>\n",
       "      <td>1114298941257</td>\n",
       "      <td>2016-05-24</td>\n",
       "      <td>(5729946,)</td>\n",
       "      <td>5729946</td>\n",
       "      <td>1</td>\n",
       "    </tr>\n",
       "  </tbody>\n",
       "</table>\n",
       "</div>"
      ],
      "text/plain": [
       "          PatientID AppointmentDay   AppointmentIDList LastAppt  \\\n",
       "25      11137679822     2016-06-07          (5782983,)  5782983   \n",
       "26  111415561531417     2016-05-13          (5657892,)  5657892   \n",
       "27  111415561531417     2016-06-03          (5747599,)  5747599   \n",
       "28  111415561531417     2016-06-06  (5657853, 5721379)  5721379   \n",
       "29    1114298941257     2016-05-24          (5729946,)  5729946   \n",
       "\n",
       "    NumTimesScheduled  \n",
       "25                  1  \n",
       "26                  1  \n",
       "27                  1  \n",
       "28                  2  \n",
       "29                  1  "
      ]
     },
     "execution_count": 71,
     "metadata": {},
     "output_type": "execute_result"
    }
   ],
   "source": [
    "# Create field for the last appointment created for that date\n",
    "df_appt_id_list['LastAppt'] = df_appt_id_list['AppointmentIDList'].apply(lambda x: x[len(x) - 1])\n",
    "\n",
    "# Create field for the number of times that appointment was scheduled\n",
    "df_appt_id_list['NumTimesScheduled'] = df_appt_id_list['AppointmentIDList'].apply(len)\n",
    "\n",
    "df_appt_id_list[25:30]"
   ]
  },
  {
   "cell_type": "code",
   "execution_count": 72,
   "metadata": {},
   "outputs": [],
   "source": [
    "# Create function for looking up the time difference between\n",
    "# the ScheduledDay for the appointments that have more than one ID\n",
    "# else the difference is 0\n",
    "def get_days_bw_scheduling(x, df):\n",
    "    if len(x) == 1:\n",
    "        return pd.Timedelta(0)\n",
    "    else:\n",
    "        first_sch = df[df['AppointmentID'] == x[0]].iloc[0, 3] # first scheduling\n",
    "        last_sch = df[df['AppointmentID'] == x[len(x) - 1]].iloc[0, 3] # last scheduling\n",
    "        return last_sch - first_sch"
   ]
  },
  {
   "cell_type": "code",
   "execution_count": 73,
   "metadata": {},
   "outputs": [],
   "source": [
    "df_appt_id_list['DaysBWScheduling'] = df_appt_id_list['AppointmentIDList'].apply(lambda x: get_days_bw_scheduling(x, ow))"
   ]
  },
  {
   "cell_type": "code",
   "execution_count": 74,
   "metadata": {
    "scrolled": true
   },
   "outputs": [
    {
     "data": {
      "text/html": [
       "<div>\n",
       "<style scoped>\n",
       "    .dataframe tbody tr th:only-of-type {\n",
       "        vertical-align: middle;\n",
       "    }\n",
       "\n",
       "    .dataframe tbody tr th {\n",
       "        vertical-align: top;\n",
       "    }\n",
       "\n",
       "    .dataframe thead th {\n",
       "        text-align: right;\n",
       "    }\n",
       "</style>\n",
       "<table border=\"1\" class=\"dataframe\">\n",
       "  <thead>\n",
       "    <tr style=\"text-align: right;\">\n",
       "      <th></th>\n",
       "      <th>PatientID</th>\n",
       "      <th>AppointmentID</th>\n",
       "      <th>Gender</th>\n",
       "      <th>ScheduledDay</th>\n",
       "      <th>AppointmentDay</th>\n",
       "      <th>Age</th>\n",
       "      <th>Neighborhood</th>\n",
       "      <th>BolsaFamilia</th>\n",
       "      <th>Hypertension</th>\n",
       "      <th>Diabetes</th>\n",
       "      <th>...</th>\n",
       "      <th>wind_avg</th>\n",
       "      <th>precip_in</th>\n",
       "      <th>rain</th>\n",
       "      <th>thunderstorm</th>\n",
       "      <th>fog</th>\n",
       "      <th>DayDiff</th>\n",
       "      <th>Day_of_Week</th>\n",
       "      <th>Weekend</th>\n",
       "      <th>NumTimesScheduled</th>\n",
       "      <th>DaysBWScheduling</th>\n",
       "    </tr>\n",
       "  </thead>\n",
       "  <tbody>\n",
       "    <tr>\n",
       "      <th>0</th>\n",
       "      <td>11111462625267</td>\n",
       "      <td>5715720</td>\n",
       "      <td>1</td>\n",
       "      <td>2016-05-18 14:58:29</td>\n",
       "      <td>2016-06-08</td>\n",
       "      <td>65</td>\n",
       "      <td>REPÚBLICA</td>\n",
       "      <td>0</td>\n",
       "      <td>1</td>\n",
       "      <td>0</td>\n",
       "      <td>...</td>\n",
       "      <td>9</td>\n",
       "      <td>0.04</td>\n",
       "      <td>1</td>\n",
       "      <td>0</td>\n",
       "      <td>0</td>\n",
       "      <td>21</td>\n",
       "      <td>2</td>\n",
       "      <td>0</td>\n",
       "      <td>1</td>\n",
       "      <td>0 days</td>\n",
       "    </tr>\n",
       "    <tr>\n",
       "      <th>1</th>\n",
       "      <td>111124532532143</td>\n",
       "      <td>5531224</td>\n",
       "      <td>0</td>\n",
       "      <td>2016-03-31 09:17:26</td>\n",
       "      <td>2016-05-03</td>\n",
       "      <td>9</td>\n",
       "      <td>MARIA ORTIZ</td>\n",
       "      <td>0</td>\n",
       "      <td>0</td>\n",
       "      <td>0</td>\n",
       "      <td>...</td>\n",
       "      <td>5</td>\n",
       "      <td>0.00</td>\n",
       "      <td>0</td>\n",
       "      <td>0</td>\n",
       "      <td>0</td>\n",
       "      <td>33</td>\n",
       "      <td>1</td>\n",
       "      <td>0</td>\n",
       "      <td>1</td>\n",
       "      <td>0 days</td>\n",
       "    </tr>\n",
       "    <tr>\n",
       "      <th>2</th>\n",
       "      <td>111124532532143</td>\n",
       "      <td>5624030</td>\n",
       "      <td>0</td>\n",
       "      <td>2016-04-26 15:05:58</td>\n",
       "      <td>2016-06-01</td>\n",
       "      <td>9</td>\n",
       "      <td>MARIA ORTIZ</td>\n",
       "      <td>0</td>\n",
       "      <td>0</td>\n",
       "      <td>0</td>\n",
       "      <td>...</td>\n",
       "      <td>4</td>\n",
       "      <td>0.01</td>\n",
       "      <td>0</td>\n",
       "      <td>1</td>\n",
       "      <td>0</td>\n",
       "      <td>36</td>\n",
       "      <td>2</td>\n",
       "      <td>0</td>\n",
       "      <td>1</td>\n",
       "      <td>0 days</td>\n",
       "    </tr>\n",
       "    <tr>\n",
       "      <th>3</th>\n",
       "      <td>11114485119737</td>\n",
       "      <td>5621757</td>\n",
       "      <td>1</td>\n",
       "      <td>2016-04-26 10:46:38</td>\n",
       "      <td>2016-05-25</td>\n",
       "      <td>12</td>\n",
       "      <td>MARIA ORTIZ</td>\n",
       "      <td>0</td>\n",
       "      <td>0</td>\n",
       "      <td>0</td>\n",
       "      <td>...</td>\n",
       "      <td>12</td>\n",
       "      <td>0.00</td>\n",
       "      <td>0</td>\n",
       "      <td>0</td>\n",
       "      <td>0</td>\n",
       "      <td>29</td>\n",
       "      <td>2</td>\n",
       "      <td>0</td>\n",
       "      <td>1</td>\n",
       "      <td>0 days</td>\n",
       "    </tr>\n",
       "    <tr>\n",
       "      <th>4</th>\n",
       "      <td>11116239871275</td>\n",
       "      <td>5625265</td>\n",
       "      <td>1</td>\n",
       "      <td>2016-04-27 07:05:38</td>\n",
       "      <td>2016-04-29</td>\n",
       "      <td>13</td>\n",
       "      <td>SÃO PEDRO</td>\n",
       "      <td>0</td>\n",
       "      <td>0</td>\n",
       "      <td>0</td>\n",
       "      <td>...</td>\n",
       "      <td>11</td>\n",
       "      <td>0.01</td>\n",
       "      <td>0</td>\n",
       "      <td>0</td>\n",
       "      <td>0</td>\n",
       "      <td>2</td>\n",
       "      <td>4</td>\n",
       "      <td>0</td>\n",
       "      <td>1</td>\n",
       "      <td>0 days</td>\n",
       "    </tr>\n",
       "  </tbody>\n",
       "</table>\n",
       "<p>5 rows × 36 columns</p>\n",
       "</div>"
      ],
      "text/plain": [
       "         PatientID AppointmentID  Gender        ScheduledDay AppointmentDay  \\\n",
       "0   11111462625267       5715720       1 2016-05-18 14:58:29     2016-06-08   \n",
       "1  111124532532143       5531224       0 2016-03-31 09:17:26     2016-05-03   \n",
       "2  111124532532143       5624030       0 2016-04-26 15:05:58     2016-06-01   \n",
       "3   11114485119737       5621757       1 2016-04-26 10:46:38     2016-05-25   \n",
       "4   11116239871275       5625265       1 2016-04-27 07:05:38     2016-04-29   \n",
       "\n",
       "   Age Neighborhood  BolsaFamilia  Hypertension  Diabetes        ...         \\\n",
       "0   65    REPÚBLICA             0             1         0        ...          \n",
       "1    9  MARIA ORTIZ             0             0         0        ...          \n",
       "2    9  MARIA ORTIZ             0             0         0        ...          \n",
       "3   12  MARIA ORTIZ             0             0         0        ...          \n",
       "4   13    SÃO PEDRO             0             0         0        ...          \n",
       "\n",
       "   wind_avg  precip_in  rain  thunderstorm fog DayDiff Day_of_Week  Weekend  \\\n",
       "0         9       0.04     1             0   0      21           2        0   \n",
       "1         5       0.00     0             0   0      33           1        0   \n",
       "2         4       0.01     0             1   0      36           2        0   \n",
       "3        12       0.00     0             0   0      29           2        0   \n",
       "4        11       0.01     0             0   0       2           4        0   \n",
       "\n",
       "   NumTimesScheduled  DaysBWScheduling  \n",
       "0                  1            0 days  \n",
       "1                  1            0 days  \n",
       "2                  1            0 days  \n",
       "3                  1            0 days  \n",
       "4                  1            0 days  \n",
       "\n",
       "[5 rows x 36 columns]"
      ]
     },
     "execution_count": 74,
     "metadata": {},
     "output_type": "execute_result"
    }
   ],
   "source": [
    "# Merge this data with the original dataframe\n",
    "df = pd.merge(ow, df_appt_id_list, left_on = ['PatientID', 'AppointmentDay', 'AppointmentID'], \n",
    "              right_on = ['PatientID', 'AppointmentDay', 'LastAppt'])\n",
    "\n",
    "# Remove unnecessary and redundant columns\n",
    "df.drop(['AppointmentIDList', 'LastAppt'], axis = 1, inplace = True)\n",
    "df.head()"
   ]
  },
  {
   "cell_type": "code",
   "execution_count": 76,
   "metadata": {},
   "outputs": [
    {
     "data": {
      "text/plain": [
       "8718"
      ]
     },
     "execution_count": 76,
     "metadata": {},
     "output_type": "execute_result"
    }
   ],
   "source": [
    "len(ow) - len(df)"
   ]
  },
  {
   "cell_type": "markdown",
   "metadata": {},
   "source": [
    "> Note that 8718 records that represented the extra appointments made all on the same day were removed from the data."
   ]
  },
  {
   "cell_type": "markdown",
   "metadata": {},
   "source": [
    "<a id='univariate'></a>"
   ]
  },
  {
   "cell_type": "markdown",
   "metadata": {},
   "source": [
    "### Univariate Plots and Analysis"
   ]
  },
  {
   "cell_type": "code",
   "execution_count": 92,
   "metadata": {},
   "outputs": [
    {
     "data": {
      "text/plain": [
       "101803"
      ]
     },
     "execution_count": 92,
     "metadata": {},
     "output_type": "execute_result"
    }
   ],
   "source": [
    "# Number of records in the cleaned dataset\n",
    "len(df)"
   ]
  },
  {
   "cell_type": "markdown",
   "metadata": {},
   "source": [
    "#### Patient Characteristics"
   ]
  },
  {
   "cell_type": "code",
   "execution_count": 251,
   "metadata": {},
   "outputs": [
    {
     "data": {
      "text/plain": [
       "62298"
      ]
     },
     "execution_count": 251,
     "metadata": {},
     "output_type": "execute_result"
    }
   ],
   "source": [
    "# Get unique patients when getting frequency of patient characteristics\n",
    "unique_patients = df.groupby('PatientID').first()\n",
    "len(unique_patients)"
   ]
  },
  {
   "cell_type": "code",
   "execution_count": 95,
   "metadata": {},
   "outputs": [
    {
     "data": {
      "image/png": "[encoded data removed]",
      "text/plain": [
       "<matplotlib.figure.Figure at 0x1a15e1fba8>"
      ]
     },
     "metadata": {},
     "output_type": "display_data"
    }
   ],
   "source": [
    "# Plot binary patient characteristics\n",
    "fields = ['Gender', 'BolsaFamilia', 'Alcoholism', 'Diabetes', 'Hypertension']\n",
    "xlabels = ['Gender', 'Bolsa Familia', 'Alcoholism', 'Diabetes', 'Hypertension']\n",
    "gender_labels = ['Male', 'Female']\n",
    "labels = ['No', 'Yes']\n",
    "\n",
    "fig, axes = plt.subplots(1, 5, figsize = (15, 5), sharey = True)\n",
    "\n",
    "i = 0\n",
    "for ax in axes.reshape(-1):\n",
    "    sns.countplot(ax = ax, x = fields[i], data = unique_patients)\n",
    "    sns.set_style(\"white\")\n",
    "    ax.tick_params(length = 0)\n",
    "    sns.despine(left = True, bottom = True)\n",
    "    if i == 0:\n",
    "        ax.set(xticklabels=['Male', 'Female'])\n",
    "        ax.set(xlabel = xlabels[i], ylabel = '')\n",
    "    else:\n",
    "        ax.set(xticklabels=['', ''])\n",
    "        ax.set(xlabel = '\\n' + xlabels[i], ylabel = '')\n",
    "    i += 1\n",
    "    \n",
    "custom_lines = [Line2D([0], [0], color = 'steelblue', lw=4),\n",
    "                Line2D([0], [0], color = 'darkorange', lw=4)]\n",
    "ax.legend(custom_lines, ['No', 'Yes'])\n",
    "plt.show()"
   ]
  },
  {
   "cell_type": "code",
   "execution_count": 136,
   "metadata": {},
   "outputs": [
    {
     "data": {
      "text/html": [
       "<div>\n",
       "<style scoped>\n",
       "    .dataframe tbody tr th:only-of-type {\n",
       "        vertical-align: middle;\n",
       "    }\n",
       "\n",
       "    .dataframe tbody tr th {\n",
       "        vertical-align: top;\n",
       "    }\n",
       "\n",
       "    .dataframe thead th {\n",
       "        text-align: right;\n",
       "    }\n",
       "</style>\n",
       "<table border=\"1\" class=\"dataframe\">\n",
       "  <thead>\n",
       "    <tr style=\"text-align: right;\">\n",
       "      <th></th>\n",
       "      <th>Proportion</th>\n",
       "    </tr>\n",
       "  </thead>\n",
       "  <tbody>\n",
       "    <tr>\n",
       "      <th>Women</th>\n",
       "      <td>0.643</td>\n",
       "    </tr>\n",
       "    <tr>\n",
       "      <th>Bolsa Familia</th>\n",
       "      <td>0.093</td>\n",
       "    </tr>\n",
       "    <tr>\n",
       "      <th>Alcoholic</th>\n",
       "      <td>0.024</td>\n",
       "    </tr>\n",
       "    <tr>\n",
       "      <th>Diabetes</th>\n",
       "      <td>0.071</td>\n",
       "    </tr>\n",
       "    <tr>\n",
       "      <th>Hypertension</th>\n",
       "      <td>0.197</td>\n",
       "    </tr>\n",
       "  </tbody>\n",
       "</table>\n",
       "</div>"
      ],
      "text/plain": [
       "               Proportion\n",
       "Women               0.643\n",
       "Bolsa Familia       0.093\n",
       "Alcoholic           0.024\n",
       "Diabetes            0.071\n",
       "Hypertension        0.197"
      ]
     },
     "execution_count": 136,
     "metadata": {},
     "output_type": "execute_result"
    }
   ],
   "source": [
    "fields = ['Women', 'Bolsa Familia', 'Alcoholic', 'Diabetes', 'Hypertension']\n",
    "stats = [round(unique_patients['Gender'].mean(), 3),\n",
    "         round(unique_patients['BolsaFamilia'].mean(), 3),\n",
    "         round(unique_patients['Alcoholism'].mean(), 3),\n",
    "         round(unique_patients['Diabetes'].mean(), 3),\n",
    "         round(unique_patients['Hypertension'].mean(), 3)]\n",
    "\n",
    "pd.DataFrame(stats, index = fields, columns = ['Proportion'])"
   ]
  },
  {
   "cell_type": "code",
   "execution_count": 111,
   "metadata": {},
   "outputs": [
    {
     "data": {
      "text/plain": [
       "1.63"
      ]
     },
     "execution_count": 111,
     "metadata": {},
     "output_type": "execute_result"
    }
   ],
   "source": [
    "# Average number of appointments per patient\n",
    "round(df.groupby('PatientID')['AppointmentID'].count().mean(), 2)"
   ]
  },
  {
   "cell_type": "markdown",
   "metadata": {},
   "source": [
    "#### Age"
   ]
  },
  {
   "cell_type": "code",
   "execution_count": 80,
   "metadata": {},
   "outputs": [
    {
     "data": {
      "image/png": "[encoded data removed]",
      "text/plain": [
       "<matplotlib.figure.Figure at 0x1a20e7aef0>"
      ]
     },
     "metadata": {},
     "output_type": "display_data"
    }
   ],
   "source": [
    "# Only plot the first age for each unique patient that appears in the dataset\n",
    "fig = plt.figure(figsize = (8, 5))\n",
    "sns.distplot(unique_patients['Age'], bins = 25)\n",
    "plt.title('Patient Ages\\n', fontsize = 16)\n",
    "plt.xlabel('')\n",
    "plt.show();"
   ]
  },
  {
   "cell_type": "code",
   "execution_count": 178,
   "metadata": {},
   "outputs": [
    {
     "data": {
      "text/plain": [
       "0-10      9951\n",
       "11-20     7613\n",
       "21-40    15647\n",
       "41-60    16459\n",
       "61-80     9118\n",
       "81-99     1435\n",
       "100+         4\n",
       "Name: Age, dtype: int64"
      ]
     },
     "execution_count": 178,
     "metadata": {},
     "output_type": "execute_result"
    }
   ],
   "source": [
    "bins = [0, 11, 21, 41, 61, 81, 100, 116]\n",
    "bin_names = [\"0-10\", \"11-20\", \"21-40\", \"41-60\", \"61-80\", \"81-99\", \"100+\"]\n",
    "\n",
    "ages_bins = pd.cut(unique_patients['Age'], bins = bins, labels = bin_names).value_counts()\n",
    "ages_bins.sort_index()"
   ]
  },
  {
   "cell_type": "code",
   "execution_count": 82,
   "metadata": {},
   "outputs": [
    {
     "data": {
      "text/plain": [
       "count    101803.000000\n",
       "mean         37.059900\n",
       "std          23.214054\n",
       "min           0.000000\n",
       "25%          18.000000\n",
       "50%          37.000000\n",
       "75%          56.000000\n",
       "max         115.000000\n",
       "Name: Age, dtype: float64"
      ]
     },
     "execution_count": 82,
     "metadata": {},
     "output_type": "execute_result"
    }
   ],
   "source": [
    "df['Age'].describe()"
   ]
  },
  {
   "cell_type": "markdown",
   "metadata": {},
   "source": [
    "#### Number of Handicaps"
   ]
  },
  {
   "cell_type": "code",
   "execution_count": 83,
   "metadata": {},
   "outputs": [
    {
     "data": {
      "image/png": "[encoded data removed]",
      "text/plain": [
       "<matplotlib.figure.Figure at 0x1a18107ba8>"
      ]
     },
     "metadata": {},
     "output_type": "display_data"
    }
   ],
   "source": [
    "fig = plt.figure(figsize = (8, 5))\n",
    "sns.countplot(unique_patients['NumHandicaps'])\n",
    "plt.title('Number of Patient Handicaps\\n', fontsize = 16)\n",
    "plt.xlabel('')\n",
    "plt.ylabel('')\n",
    "plt.show();"
   ]
  },
  {
   "cell_type": "code",
   "execution_count": 84,
   "metadata": {},
   "outputs": [
    {
     "data": {
      "text/plain": [
       "0    61165\n",
       "1     1025\n",
       "2       99\n",
       "3        6\n",
       "4        3\n",
       "Name: NumHandicaps, dtype: int64"
      ]
     },
     "execution_count": 84,
     "metadata": {},
     "output_type": "execute_result"
    }
   ],
   "source": [
    "unique_patients['NumHandicaps'].value_counts()"
   ]
  },
  {
   "cell_type": "code",
   "execution_count": 85,
   "metadata": {},
   "outputs": [
    {
     "data": {
      "text/plain": [
       "0.020113005232912776"
      ]
     },
     "execution_count": 85,
     "metadata": {},
     "output_type": "execute_result"
    }
   ],
   "source": [
    "round(unique_patients['NumHandicaps'].mean(), 3)"
   ]
  },
  {
   "cell_type": "markdown",
   "metadata": {},
   "source": [
    "#### Appointments by Day"
   ]
  },
  {
   "cell_type": "code",
   "execution_count": 86,
   "metadata": {},
   "outputs": [
    {
     "data": {
      "text/plain": [
       "2016-04-29    2979\n",
       "2016-04-30       0\n",
       "2016-05-01       0\n",
       "2016-05-02    4056\n",
       "2016-05-03    3960\n",
       "2016-05-04    3828\n",
       "2016-05-05    3984\n",
       "2016-05-06    3535\n",
       "2016-05-07       0\n",
       "2016-05-08       0\n",
       "2016-05-09    4164\n",
       "2016-05-10    3960\n",
       "2016-05-11    4162\n",
       "2016-05-12    4083\n",
       "2016-05-13    3568\n",
       "2016-05-14      38\n",
       "2016-05-15       0\n",
       "2016-05-16    4238\n",
       "2016-05-17    4069\n",
       "2016-05-18    4029\n",
       "2016-05-19    3931\n",
       "2016-05-20    3484\n",
       "2016-05-21       0\n",
       "2016-05-22       0\n",
       "2016-05-23       0\n",
       "2016-05-24    3692\n",
       "2016-05-25    3566\n",
       "2016-05-26       0\n",
       "2016-05-27       0\n",
       "2016-05-28       0\n",
       "2016-05-29       0\n",
       "2016-05-30    4139\n",
       "2016-05-31    3956\n",
       "2016-06-01    4088\n",
       "2016-06-02    4014\n",
       "2016-06-03    3766\n",
       "2016-06-04       0\n",
       "2016-06-05       0\n",
       "2016-06-06    4300\n",
       "2016-06-07    4098\n",
       "2016-06-08    4116\n",
       "Freq: D, Name: AppointmentDay, dtype: int64"
      ]
     },
     "execution_count": 86,
     "metadata": {},
     "output_type": "execute_result"
    }
   ],
   "source": [
    "df['AppointmentDay'].value_counts().sort_index().resample('D').sum()"
   ]
  },
  {
   "cell_type": "markdown",
   "metadata": {},
   "source": [
    "There were only 38 appointments on the weekend, all occurring on Saturday, May 14th.  Besides the weekends, there were no appointments on Monday, May 23; Thursday, May 26; or Friday, May 27.\n",
    "\n",
    "May 26 was the optional holiday of Corpus Christi, however I couldn't find any reason as to why there is no data for the 23rd or 27th."
   ]
  },
  {
   "cell_type": "code",
   "execution_count": 87,
   "metadata": {},
   "outputs": [
    {
     "data": {
      "text/plain": [
       "38"
      ]
     },
     "execution_count": 87,
     "metadata": {},
     "output_type": "execute_result"
    }
   ],
   "source": [
    "df['Weekend'].sum()"
   ]
  },
  {
   "cell_type": "code",
   "execution_count": 88,
   "metadata": {},
   "outputs": [
    {
     "data": {
      "image/png": "[encoded data removed]",
      "text/plain": [
       "<matplotlib.figure.Figure at 0x1a1601eda0>"
      ]
     },
     "metadata": {},
     "output_type": "display_data"
    }
   ],
   "source": [
    "# Exclude weekends and weekdays with no appointments\n",
    "fig = plt.figure(figsize = (10, 6))\n",
    "no_weekends = df[df['Weekend'] == 0]\n",
    "appt_by_day = no_weekends.groupby('AppointmentDay')['AppointmentDay'].count()\n",
    "appt_by_day.plot(fontsize = 12, linewidth = 2)\n",
    "plt.title('Number of Appointments by Day\\n', fontsize = 17)\n",
    "plt.xlabel('');"
   ]
  },
  {
   "cell_type": "markdown",
   "metadata": {},
   "source": [
    "The weekends and weekdays with no appointments were excluded from the graph in order to focus more on the normal fluctuations without the low outliers affecting the graph."
   ]
  },
  {
   "cell_type": "code",
   "execution_count": 106,
   "metadata": {},
   "outputs": [
    {
     "data": {
      "text/plain": [
       "3914.04"
      ]
     },
     "execution_count": 106,
     "metadata": {},
     "output_type": "execute_result"
    }
   ],
   "source": [
    "# Average number of appointments per day (on non-zero days and weekdays)\n",
    "round(df[df['Weekend'] == 0]['AppointmentDay'].value_counts().mean(), 2)"
   ]
  },
  {
   "cell_type": "markdown",
   "metadata": {},
   "source": [
    "#### Scheduled Appointments By Day"
   ]
  },
  {
   "cell_type": "code",
   "execution_count": 246,
   "metadata": {
    "scrolled": false
   },
   "outputs": [
    {
     "data": {
      "image/png": "[encoded data removed]",
      "text/plain": [
       "<matplotlib.figure.Figure at 0x1a22428390>"
      ]
     },
     "metadata": {},
     "output_type": "display_data"
    }
   ],
   "source": [
    "sched_date_counts = df.groupby('ScheduledDayDate')['ScheduledDayDate'].count()\n",
    "\n",
    "# Find index of first scheduled date that is an appointment date\n",
    "sched_len = len(sched_date_counts)\n",
    "first_ix = list(sched_date_counts.index > df['AppointmentDayDate'].min()).index(True)\n",
    "\n",
    "# Use orange for the appointments scheduled during the time period that\n",
    "# the appointments took place\n",
    "colors = ['steelblue'] * first_ix\n",
    "colors.extend(['darkorange'] * (sched_len-first_ix))\n",
    "\n",
    "fig, ax = plt.subplots(figsize = (10, 7))\n",
    "ax.bar(sched_date_counts.index, sched_date_counts, color = colors)\n",
    "ax.xaxis.set_major_locator(mdates.MonthLocator())\n",
    "ax.xaxis.set_major_formatter(mdates.DateFormatter('%B\\n%Y'))\n",
    "plt.xticks(rotation = 45, fontsize = 13)\n",
    "plt.yticks(fontsize = 13)\n",
    "plt.title('\\nNumber of Scheduled Appointments by Day\\n', fontsize = 16);"
   ]
  },
  {
   "cell_type": "code",
   "execution_count": 253,
   "metadata": {},
   "outputs": [
    {
     "data": {
      "text/plain": [
       "0.73640266003948807"
      ]
     },
     "execution_count": 253,
     "metadata": {},
     "output_type": "execute_result"
    }
   ],
   "source": [
    "# Proportion of appointments that were scheduled during the time period that\n",
    "# the appointments took place\n",
    "sched_date_counts[first_ix:].sum()/sched_date_counts.sum()"
   ]
  },
  {
   "cell_type": "markdown",
   "metadata": {},
   "source": [
    "#### Neighborhoods"
   ]
  },
  {
   "cell_type": "code",
   "execution_count": 90,
   "metadata": {},
   "outputs": [
    {
     "data": {
      "image/png": "[encoded data removed]",
      "text/plain": [
       "<matplotlib.figure.Figure at 0x1a15f94eb8>"
      ]
     },
     "metadata": {},
     "output_type": "display_data"
    }
   ],
   "source": [
    "fig, ax = plt.subplots(figsize = (10, 15))\n",
    "df['Neighborhood'].value_counts().sort_values().plot(kind = 'barh', color = 'darkblue');"
   ]
  },
  {
   "cell_type": "markdown",
   "metadata": {},
   "source": [
    "#### SMS Received and No Shows"
   ]
  },
  {
   "cell_type": "code",
   "execution_count": 97,
   "metadata": {},
   "outputs": [
    {
     "data": {
      "image/png": "[encoded data removed]",
      "text/plain": [
       "<matplotlib.figure.Figure at 0x1a16013588>"
      ]
     },
     "metadata": {},
     "output_type": "display_data"
    }
   ],
   "source": [
    "# Plot binary appointment characteristics\n",
    "fields = ['SMSReceived', 'NoShow']\n",
    "xlabels = ['SMS Received', 'No Show']\n",
    "labels = ['No', 'Yes']\n",
    "\n",
    "fig, axes = plt.subplots(1, 2, figsize = (10, 5), sharey = True)\n",
    "\n",
    "i = 0\n",
    "for ax in axes.reshape(-1):\n",
    "    sns.countplot(ax = ax, x = fields[i], data = unique_patients)\n",
    "    sns.set_style(\"white\")\n",
    "    ax.tick_params(length = 0)\n",
    "    sns.despine(left = True, bottom = True)\n",
    "    ax.set(xticklabels=['', ''])\n",
    "    ax.set(xlabel = '\\n' + xlabels[i], ylabel = '')\n",
    "    i += 1\n",
    "    \n",
    "custom_lines = [Line2D([0], [0], color = 'steelblue', lw=4),\n",
    "                Line2D([0], [0], color = 'darkorange', lw=4)]\n",
    "ax.legend(custom_lines, ['No', 'Yes'])\n",
    "plt.show()"
   ]
  },
  {
   "cell_type": "code",
   "execution_count": 98,
   "metadata": {},
   "outputs": [
    {
     "data": {
      "text/plain": [
       "0.3251475889708555"
      ]
     },
     "execution_count": 98,
     "metadata": {},
     "output_type": "execute_result"
    }
   ],
   "source": [
    "# Proportion of sms received\n",
    "df['SMSReceived'].mean()"
   ]
  },
  {
   "cell_type": "code",
   "execution_count": 99,
   "metadata": {},
   "outputs": [
    {
     "data": {
      "text/plain": [
       "0.19689007200180741"
      ]
     },
     "execution_count": 99,
     "metadata": {},
     "output_type": "execute_result"
    }
   ],
   "source": [
    "# Proportion of no shows\n",
    "df['NoShow'].mean()"
   ]
  }
 ],
 "metadata": {
  "kernelspec": {
   "display_name": "Python 3",
   "language": "python",
   "name": "python3"
  },
  "language_info": {
   "codemirror_mode": {
    "name": "ipython",
    "version": 3
   },
   "file_extension": ".py",
   "mimetype": "text/x-python",
   "name": "python",
   "nbconvert_exporter": "python",
   "pygments_lexer": "ipython3",
   "version": "3.6.4"
  }
 },
 "nbformat": 4,
 "nbformat_minor": 2
}
